{
 "cells": [
  {
   "cell_type": "code",
   "execution_count": 87,
   "id": "68e5e0b9",
   "metadata": {},
   "outputs": [
    {
     "name": "stdout",
     "output_type": "stream",
     "text": [
      "The autoreload extension is already loaded. To reload it, use:\n",
      "  %reload_ext autoreload\n"
     ]
    }
   ],
   "source": [
    "# Import libraries\n",
    "\n",
    "import pandas as pd\n",
    "import numpy as np\n",
    "import matplotlib.pyplot as plt\n",
    "import datetime\n",
    "import re\n",
    "import pickle\n",
    "\n",
    "import os\n",
    "path_dir = os.path.dirname(os.getcwd())\n",
    "\n",
    "import plotly.graph_objects as go\n",
    "import plotly.express as px\n",
    "import plotly.io as pio\n",
    "pio.templates.default = \"plotly_white\"\n",
    "\n",
    "import torch # For building the networks \n",
    "import torchtuples as tt # Some useful functions\n",
    "\n",
    "from pycox.datasets import metabric\n",
    "from pycox.models import LogisticHazard, PMF, DeepHitSingle, CoxPH\n",
    "from pycox.evaluation import EvalSurv\n",
    "\n",
    "%load_ext autoreload\n",
    "%autoreload 2"
   ]
  },
  {
   "cell_type": "code",
   "execution_count": 88,
   "id": "6a06ff43",
   "metadata": {},
   "outputs": [
    {
     "name": "stdout",
     "output_type": "stream",
     "text": [
      "/Users/linafaik/Documents/survival_analysis/src\n"
     ]
    }
   ],
   "source": [
    "cd ../src/"
   ]
  },
  {
   "cell_type": "code",
   "execution_count": 89,
   "id": "91bc3a17",
   "metadata": {},
   "outputs": [],
   "source": [
    "from train import *\n",
    "from train_survival_ml import *\n",
    "from train_survival_deep import *"
   ]
  },
  {
   "cell_type": "code",
   "execution_count": 90,
   "id": "17670c96",
   "metadata": {},
   "outputs": [],
   "source": [
    "# We also set some seeds to make this reproducable.\n",
    "# Note that on gpu, there is still some randomness.\n",
    "np.random.seed(1234)\n",
    "_ = torch.manual_seed(123)"
   ]
  },
  {
   "cell_type": "code",
   "execution_count": 91,
   "id": "8811d634",
   "metadata": {},
   "outputs": [],
   "source": [
    "# Parameters\n",
    "\n",
    "scaler_name = \"StandardScaler\" #MinMaxScaler\n",
    "random_state = 123\n",
    "test_size = 0.3"
   ]
  },
  {
   "cell_type": "code",
   "execution_count": 92,
   "id": "eca57c2f",
   "metadata": {},
   "outputs": [],
   "source": [
    "#df = pd.read_csv(os.path.join(path_dir, \"outputs/hdhi_clean.csv\"))"
   ]
  },
  {
   "cell_type": "code",
   "execution_count": 93,
   "id": "85294519",
   "metadata": {},
   "outputs": [],
   "source": [
    "#from sksurv import datasets\n",
    "#df, y = datasets.load_flchain()"
   ]
  },
  {
   "cell_type": "code",
   "execution_count": 94,
   "id": "6568bda4",
   "metadata": {},
   "outputs": [
    {
     "data": {
      "text/html": [
       "<div>\n",
       "<style scoped>\n",
       "    .dataframe tbody tr th:only-of-type {\n",
       "        vertical-align: middle;\n",
       "    }\n",
       "\n",
       "    .dataframe tbody tr th {\n",
       "        vertical-align: top;\n",
       "    }\n",
       "\n",
       "    .dataframe thead th {\n",
       "        text-align: right;\n",
       "    }\n",
       "</style>\n",
       "<table border=\"1\" class=\"dataframe\">\n",
       "  <thead>\n",
       "    <tr style=\"text-align: right;\">\n",
       "      <th></th>\n",
       "      <th>x0</th>\n",
       "      <th>x1</th>\n",
       "      <th>x2</th>\n",
       "      <th>x3</th>\n",
       "      <th>x4</th>\n",
       "      <th>x5</th>\n",
       "      <th>x6</th>\n",
       "      <th>x7</th>\n",
       "      <th>x8</th>\n",
       "      <th>x9</th>\n",
       "      <th>x10</th>\n",
       "      <th>x11</th>\n",
       "      <th>x12</th>\n",
       "      <th>x13</th>\n",
       "      <th>duration</th>\n",
       "      <th>event</th>\n",
       "    </tr>\n",
       "  </thead>\n",
       "  <tbody>\n",
       "    <tr>\n",
       "      <th>0</th>\n",
       "      <td>82.709961</td>\n",
       "      <td>1.0</td>\n",
       "      <td>2.0</td>\n",
       "      <td>1.0</td>\n",
       "      <td>0.0</td>\n",
       "      <td>0.0</td>\n",
       "      <td>0.0</td>\n",
       "      <td>160.0</td>\n",
       "      <td>55.0</td>\n",
       "      <td>16.0</td>\n",
       "      <td>38.195309</td>\n",
       "      <td>142.0</td>\n",
       "      <td>19.000000</td>\n",
       "      <td>1.099854</td>\n",
       "      <td>30.0</td>\n",
       "      <td>1</td>\n",
       "    </tr>\n",
       "    <tr>\n",
       "      <th>1</th>\n",
       "      <td>79.660950</td>\n",
       "      <td>1.0</td>\n",
       "      <td>0.0</td>\n",
       "      <td>1.0</td>\n",
       "      <td>0.0</td>\n",
       "      <td>0.0</td>\n",
       "      <td>1.0</td>\n",
       "      <td>54.0</td>\n",
       "      <td>67.0</td>\n",
       "      <td>16.0</td>\n",
       "      <td>38.000000</td>\n",
       "      <td>142.0</td>\n",
       "      <td>10.000000</td>\n",
       "      <td>0.899902</td>\n",
       "      <td>1527.0</td>\n",
       "      <td>0</td>\n",
       "    </tr>\n",
       "    <tr>\n",
       "      <th>2</th>\n",
       "      <td>23.399990</td>\n",
       "      <td>1.0</td>\n",
       "      <td>2.0</td>\n",
       "      <td>3.0</td>\n",
       "      <td>0.0</td>\n",
       "      <td>0.0</td>\n",
       "      <td>1.0</td>\n",
       "      <td>87.0</td>\n",
       "      <td>144.0</td>\n",
       "      <td>45.0</td>\n",
       "      <td>37.296879</td>\n",
       "      <td>130.0</td>\n",
       "      <td>5.199219</td>\n",
       "      <td>1.199951</td>\n",
       "      <td>96.0</td>\n",
       "      <td>1</td>\n",
       "    </tr>\n",
       "    <tr>\n",
       "      <th>3</th>\n",
       "      <td>53.075989</td>\n",
       "      <td>1.0</td>\n",
       "      <td>4.0</td>\n",
       "      <td>3.0</td>\n",
       "      <td>0.0</td>\n",
       "      <td>0.0</td>\n",
       "      <td>0.0</td>\n",
       "      <td>55.0</td>\n",
       "      <td>100.0</td>\n",
       "      <td>18.0</td>\n",
       "      <td>36.000000</td>\n",
       "      <td>135.0</td>\n",
       "      <td>8.699219</td>\n",
       "      <td>0.799927</td>\n",
       "      <td>892.0</td>\n",
       "      <td>0</td>\n",
       "    </tr>\n",
       "    <tr>\n",
       "      <th>4</th>\n",
       "      <td>71.794983</td>\n",
       "      <td>0.0</td>\n",
       "      <td>1.0</td>\n",
       "      <td>1.0</td>\n",
       "      <td>0.0</td>\n",
       "      <td>0.0</td>\n",
       "      <td>0.0</td>\n",
       "      <td>65.0</td>\n",
       "      <td>135.0</td>\n",
       "      <td>40.0</td>\n",
       "      <td>38.593750</td>\n",
       "      <td>146.0</td>\n",
       "      <td>0.099991</td>\n",
       "      <td>0.399963</td>\n",
       "      <td>7.0</td>\n",
       "      <td>1</td>\n",
       "    </tr>\n",
       "    <tr>\n",
       "      <th>...</th>\n",
       "      <td>...</td>\n",
       "      <td>...</td>\n",
       "      <td>...</td>\n",
       "      <td>...</td>\n",
       "      <td>...</td>\n",
       "      <td>...</td>\n",
       "      <td>...</td>\n",
       "      <td>...</td>\n",
       "      <td>...</td>\n",
       "      <td>...</td>\n",
       "      <td>...</td>\n",
       "      <td>...</td>\n",
       "      <td>...</td>\n",
       "      <td>...</td>\n",
       "      <td>...</td>\n",
       "      <td>...</td>\n",
       "    </tr>\n",
       "    <tr>\n",
       "      <th>8868</th>\n",
       "      <td>81.064941</td>\n",
       "      <td>0.0</td>\n",
       "      <td>4.0</td>\n",
       "      <td>1.0</td>\n",
       "      <td>0.0</td>\n",
       "      <td>0.0</td>\n",
       "      <td>1.0</td>\n",
       "      <td>111.0</td>\n",
       "      <td>110.0</td>\n",
       "      <td>34.0</td>\n",
       "      <td>39.593750</td>\n",
       "      <td>135.0</td>\n",
       "      <td>13.000000</td>\n",
       "      <td>1.500000</td>\n",
       "      <td>36.0</td>\n",
       "      <td>1</td>\n",
       "    </tr>\n",
       "    <tr>\n",
       "      <th>8869</th>\n",
       "      <td>72.560966</td>\n",
       "      <td>0.0</td>\n",
       "      <td>2.0</td>\n",
       "      <td>1.0</td>\n",
       "      <td>0.0</td>\n",
       "      <td>0.0</td>\n",
       "      <td>1.0</td>\n",
       "      <td>53.0</td>\n",
       "      <td>74.0</td>\n",
       "      <td>28.0</td>\n",
       "      <td>34.695309</td>\n",
       "      <td>139.0</td>\n",
       "      <td>7.899414</td>\n",
       "      <td>1.899902</td>\n",
       "      <td>49.0</td>\n",
       "      <td>1</td>\n",
       "    </tr>\n",
       "    <tr>\n",
       "      <th>8870</th>\n",
       "      <td>63.228001</td>\n",
       "      <td>0.0</td>\n",
       "      <td>1.0</td>\n",
       "      <td>1.0</td>\n",
       "      <td>0.0</td>\n",
       "      <td>0.0</td>\n",
       "      <td>2.0</td>\n",
       "      <td>95.0</td>\n",
       "      <td>110.0</td>\n",
       "      <td>22.0</td>\n",
       "      <td>38.695309</td>\n",
       "      <td>132.0</td>\n",
       "      <td>7.799805</td>\n",
       "      <td>1.500000</td>\n",
       "      <td>6.0</td>\n",
       "      <td>1</td>\n",
       "    </tr>\n",
       "    <tr>\n",
       "      <th>8871</th>\n",
       "      <td>75.405937</td>\n",
       "      <td>0.0</td>\n",
       "      <td>2.0</td>\n",
       "      <td>1.0</td>\n",
       "      <td>1.0</td>\n",
       "      <td>0.0</td>\n",
       "      <td>2.0</td>\n",
       "      <td>109.0</td>\n",
       "      <td>110.0</td>\n",
       "      <td>30.0</td>\n",
       "      <td>36.195309</td>\n",
       "      <td>140.0</td>\n",
       "      <td>15.398438</td>\n",
       "      <td>0.899902</td>\n",
       "      <td>10.0</td>\n",
       "      <td>1</td>\n",
       "    </tr>\n",
       "    <tr>\n",
       "      <th>8872</th>\n",
       "      <td>39.534969</td>\n",
       "      <td>1.0</td>\n",
       "      <td>3.0</td>\n",
       "      <td>2.0</td>\n",
       "      <td>0.0</td>\n",
       "      <td>0.0</td>\n",
       "      <td>1.0</td>\n",
       "      <td>77.0</td>\n",
       "      <td>120.0</td>\n",
       "      <td>24.0</td>\n",
       "      <td>38.000000</td>\n",
       "      <td>135.0</td>\n",
       "      <td>20.398438</td>\n",
       "      <td>1.299805</td>\n",
       "      <td>879.0</td>\n",
       "      <td>0</td>\n",
       "    </tr>\n",
       "  </tbody>\n",
       "</table>\n",
       "<p>8873 rows × 16 columns</p>\n",
       "</div>"
      ],
      "text/plain": [
       "             x0   x1   x2   x3   x4   x5   x6     x7     x8    x9        x10  \\\n",
       "0     82.709961  1.0  2.0  1.0  0.0  0.0  0.0  160.0   55.0  16.0  38.195309   \n",
       "1     79.660950  1.0  0.0  1.0  0.0  0.0  1.0   54.0   67.0  16.0  38.000000   \n",
       "2     23.399990  1.0  2.0  3.0  0.0  0.0  1.0   87.0  144.0  45.0  37.296879   \n",
       "3     53.075989  1.0  4.0  3.0  0.0  0.0  0.0   55.0  100.0  18.0  36.000000   \n",
       "4     71.794983  0.0  1.0  1.0  0.0  0.0  0.0   65.0  135.0  40.0  38.593750   \n",
       "...         ...  ...  ...  ...  ...  ...  ...    ...    ...   ...        ...   \n",
       "8868  81.064941  0.0  4.0  1.0  0.0  0.0  1.0  111.0  110.0  34.0  39.593750   \n",
       "8869  72.560966  0.0  2.0  1.0  0.0  0.0  1.0   53.0   74.0  28.0  34.695309   \n",
       "8870  63.228001  0.0  1.0  1.0  0.0  0.0  2.0   95.0  110.0  22.0  38.695309   \n",
       "8871  75.405937  0.0  2.0  1.0  1.0  0.0  2.0  109.0  110.0  30.0  36.195309   \n",
       "8872  39.534969  1.0  3.0  2.0  0.0  0.0  1.0   77.0  120.0  24.0  38.000000   \n",
       "\n",
       "        x11        x12       x13  duration  event  \n",
       "0     142.0  19.000000  1.099854      30.0      1  \n",
       "1     142.0  10.000000  0.899902    1527.0      0  \n",
       "2     130.0   5.199219  1.199951      96.0      1  \n",
       "3     135.0   8.699219  0.799927     892.0      0  \n",
       "4     146.0   0.099991  0.399963       7.0      1  \n",
       "...     ...        ...       ...       ...    ...  \n",
       "8868  135.0  13.000000  1.500000      36.0      1  \n",
       "8869  139.0   7.899414  1.899902      49.0      1  \n",
       "8870  132.0   7.799805  1.500000       6.0      1  \n",
       "8871  140.0  15.398438  0.899902      10.0      1  \n",
       "8872  135.0  20.398438  1.299805     879.0      0  \n",
       "\n",
       "[8873 rows x 16 columns]"
      ]
     },
     "execution_count": 94,
     "metadata": {},
     "output_type": "execute_result"
    }
   ],
   "source": [
    "from pycox.datasets import support\n",
    "support.read_df()"
   ]
  },
  {
   "cell_type": "code",
   "execution_count": 95,
   "id": "16654954",
   "metadata": {},
   "outputs": [
    {
     "data": {
      "text/html": [
       "<div>\n",
       "<style scoped>\n",
       "    .dataframe tbody tr th:only-of-type {\n",
       "        vertical-align: middle;\n",
       "    }\n",
       "\n",
       "    .dataframe tbody tr th {\n",
       "        vertical-align: top;\n",
       "    }\n",
       "\n",
       "    .dataframe thead th {\n",
       "        text-align: right;\n",
       "    }\n",
       "</style>\n",
       "<table border=\"1\" class=\"dataframe\">\n",
       "  <thead>\n",
       "    <tr style=\"text-align: right;\">\n",
       "      <th></th>\n",
       "      <th>age</th>\n",
       "      <th>sex</th>\n",
       "      <th>sample.yr</th>\n",
       "      <th>kappa</th>\n",
       "      <th>lambda</th>\n",
       "      <th>flc.grp</th>\n",
       "      <th>creatinine</th>\n",
       "      <th>mgus</th>\n",
       "      <th>futime</th>\n",
       "      <th>death</th>\n",
       "    </tr>\n",
       "  </thead>\n",
       "  <tbody>\n",
       "    <tr>\n",
       "      <th>0</th>\n",
       "      <td>97.0</td>\n",
       "      <td>0.0</td>\n",
       "      <td>1997</td>\n",
       "      <td>5.700</td>\n",
       "      <td>4.860</td>\n",
       "      <td>10</td>\n",
       "      <td>1.7</td>\n",
       "      <td>0.0</td>\n",
       "      <td>85.0</td>\n",
       "      <td>1.0</td>\n",
       "    </tr>\n",
       "    <tr>\n",
       "      <th>1</th>\n",
       "      <td>92.0</td>\n",
       "      <td>0.0</td>\n",
       "      <td>2000</td>\n",
       "      <td>0.870</td>\n",
       "      <td>0.683</td>\n",
       "      <td>1</td>\n",
       "      <td>0.9</td>\n",
       "      <td>0.0</td>\n",
       "      <td>1281.0</td>\n",
       "      <td>1.0</td>\n",
       "    </tr>\n",
       "    <tr>\n",
       "      <th>2</th>\n",
       "      <td>94.0</td>\n",
       "      <td>0.0</td>\n",
       "      <td>1997</td>\n",
       "      <td>4.360</td>\n",
       "      <td>3.850</td>\n",
       "      <td>10</td>\n",
       "      <td>1.4</td>\n",
       "      <td>0.0</td>\n",
       "      <td>69.0</td>\n",
       "      <td>1.0</td>\n",
       "    </tr>\n",
       "    <tr>\n",
       "      <th>3</th>\n",
       "      <td>92.0</td>\n",
       "      <td>0.0</td>\n",
       "      <td>1996</td>\n",
       "      <td>2.420</td>\n",
       "      <td>2.220</td>\n",
       "      <td>9</td>\n",
       "      <td>1.0</td>\n",
       "      <td>0.0</td>\n",
       "      <td>115.0</td>\n",
       "      <td>1.0</td>\n",
       "    </tr>\n",
       "    <tr>\n",
       "      <th>4</th>\n",
       "      <td>93.0</td>\n",
       "      <td>0.0</td>\n",
       "      <td>1996</td>\n",
       "      <td>1.320</td>\n",
       "      <td>1.690</td>\n",
       "      <td>6</td>\n",
       "      <td>1.1</td>\n",
       "      <td>0.0</td>\n",
       "      <td>1039.0</td>\n",
       "      <td>1.0</td>\n",
       "    </tr>\n",
       "    <tr>\n",
       "      <th>...</th>\n",
       "      <td>...</td>\n",
       "      <td>...</td>\n",
       "      <td>...</td>\n",
       "      <td>...</td>\n",
       "      <td>...</td>\n",
       "      <td>...</td>\n",
       "      <td>...</td>\n",
       "      <td>...</td>\n",
       "      <td>...</td>\n",
       "      <td>...</td>\n",
       "    </tr>\n",
       "    <tr>\n",
       "      <th>6519</th>\n",
       "      <td>53.0</td>\n",
       "      <td>0.0</td>\n",
       "      <td>1997</td>\n",
       "      <td>0.705</td>\n",
       "      <td>1.250</td>\n",
       "      <td>2</td>\n",
       "      <td>0.8</td>\n",
       "      <td>0.0</td>\n",
       "      <td>4547.0</td>\n",
       "      <td>0.0</td>\n",
       "    </tr>\n",
       "    <tr>\n",
       "      <th>6520</th>\n",
       "      <td>52.0</td>\n",
       "      <td>0.0</td>\n",
       "      <td>1996</td>\n",
       "      <td>0.786</td>\n",
       "      <td>1.030</td>\n",
       "      <td>2</td>\n",
       "      <td>0.7</td>\n",
       "      <td>0.0</td>\n",
       "      <td>4788.0</td>\n",
       "      <td>0.0</td>\n",
       "    </tr>\n",
       "    <tr>\n",
       "      <th>6521</th>\n",
       "      <td>52.0</td>\n",
       "      <td>0.0</td>\n",
       "      <td>1995</td>\n",
       "      <td>1.210</td>\n",
       "      <td>1.610</td>\n",
       "      <td>6</td>\n",
       "      <td>1.0</td>\n",
       "      <td>0.0</td>\n",
       "      <td>4997.0</td>\n",
       "      <td>0.0</td>\n",
       "    </tr>\n",
       "    <tr>\n",
       "      <th>6522</th>\n",
       "      <td>52.0</td>\n",
       "      <td>0.0</td>\n",
       "      <td>1999</td>\n",
       "      <td>0.858</td>\n",
       "      <td>0.581</td>\n",
       "      <td>1</td>\n",
       "      <td>0.8</td>\n",
       "      <td>0.0</td>\n",
       "      <td>3652.0</td>\n",
       "      <td>0.0</td>\n",
       "    </tr>\n",
       "    <tr>\n",
       "      <th>6523</th>\n",
       "      <td>50.0</td>\n",
       "      <td>0.0</td>\n",
       "      <td>1998</td>\n",
       "      <td>1.190</td>\n",
       "      <td>1.250</td>\n",
       "      <td>4</td>\n",
       "      <td>0.7</td>\n",
       "      <td>0.0</td>\n",
       "      <td>3995.0</td>\n",
       "      <td>0.0</td>\n",
       "    </tr>\n",
       "  </tbody>\n",
       "</table>\n",
       "<p>6524 rows × 10 columns</p>\n",
       "</div>"
      ],
      "text/plain": [
       "       age  sex sample.yr  kappa  lambda flc.grp  creatinine  mgus  futime  \\\n",
       "0     97.0  0.0      1997  5.700   4.860      10         1.7   0.0    85.0   \n",
       "1     92.0  0.0      2000  0.870   0.683       1         0.9   0.0  1281.0   \n",
       "2     94.0  0.0      1997  4.360   3.850      10         1.4   0.0    69.0   \n",
       "3     92.0  0.0      1996  2.420   2.220       9         1.0   0.0   115.0   \n",
       "4     93.0  0.0      1996  1.320   1.690       6         1.1   0.0  1039.0   \n",
       "...    ...  ...       ...    ...     ...     ...         ...   ...     ...   \n",
       "6519  53.0  0.0      1997  0.705   1.250       2         0.8   0.0  4547.0   \n",
       "6520  52.0  0.0      1996  0.786   1.030       2         0.7   0.0  4788.0   \n",
       "6521  52.0  0.0      1995  1.210   1.610       6         1.0   0.0  4997.0   \n",
       "6522  52.0  0.0      1999  0.858   0.581       1         0.8   0.0  3652.0   \n",
       "6523  50.0  0.0      1998  1.190   1.250       4         0.7   0.0  3995.0   \n",
       "\n",
       "      death  \n",
       "0       1.0  \n",
       "1       1.0  \n",
       "2       1.0  \n",
       "3       1.0  \n",
       "4       1.0  \n",
       "...     ...  \n",
       "6519    0.0  \n",
       "6520    0.0  \n",
       "6521    0.0  \n",
       "6522    0.0  \n",
       "6523    0.0  \n",
       "\n",
       "[6524 rows x 10 columns]"
      ]
     },
     "execution_count": 95,
     "metadata": {},
     "output_type": "execute_result"
    }
   ],
   "source": [
    "from pycox.datasets import flchain\n",
    "df = flchain.read_df()\n",
    "df"
   ]
  },
  {
   "cell_type": "code",
   "execution_count": 96,
   "id": "1c33bbb8",
   "metadata": {},
   "outputs": [],
   "source": [
    "df['censored'] = (df.death==0).astype(int)"
   ]
  },
  {
   "cell_type": "code",
   "execution_count": 97,
   "id": "23406eb7",
   "metadata": {},
   "outputs": [],
   "source": [
    "#from sksurv.preprocessing import OneHotEncoder"
   ]
  },
  {
   "cell_type": "code",
   "execution_count": 98,
   "id": "9b31d26d",
   "metadata": {},
   "outputs": [],
   "source": [
    "#df = OneHotEncoder().fit_transform(df)"
   ]
  },
  {
   "cell_type": "code",
   "execution_count": 99,
   "id": "798e51e2",
   "metadata": {},
   "outputs": [],
   "source": [
    "#df.fillna(0, inplace=True)"
   ]
  },
  {
   "cell_type": "code",
   "execution_count": 100,
   "id": "59e8375c",
   "metadata": {},
   "outputs": [],
   "source": [
    "#with open(os.path.join(path_dir, \"outputs/cox_ph.pkl\"), \"rb\") as f:\n",
    "    #estimator_cox = pickle.load(f)"
   ]
  },
  {
   "cell_type": "code",
   "execution_count": 101,
   "id": "5a8fd49f",
   "metadata": {},
   "outputs": [],
   "source": [
    "df = pd.get_dummies(df, drop_first=True, columns=['flc.grp'])"
   ]
  },
  {
   "cell_type": "markdown",
   "id": "f1d0b799",
   "metadata": {},
   "source": [
    "# 1. Train / test split"
   ]
  },
  {
   "cell_type": "code",
   "execution_count": 102,
   "id": "ac75da01",
   "metadata": {},
   "outputs": [],
   "source": [
    "# covariate columns (used when possible)\n",
    "\n",
    "cols_x = [\n",
    "    'age', 'gender', 'rural',\n",
    "    'duration_of_stay', 'duration_of_intensive_unit_stay', \n",
    "    'smoking_','alcohol', 'dm', 'htn', 'cad', 'prior_cmp', 'ckd', 'hb', 'tlc',\n",
    "    'platelets', 'glucose', 'urea', 'creatinine', 'raised_cardiac_enzymes',\n",
    "    'severe_anaemia', 'anaemia', 'stable_angina', 'acs', 'stemi',\n",
    "    'atypical_chest_pain', 'heart_failure', 'hfref', 'hfnef', 'valvular',\n",
    "    'chb', 'sss', 'aki', 'cva_infract', 'cva_bleed', 'af', 'vt', 'psvt',\n",
    "    'congenital', 'uti', 'neuro_cardiogenic_syncope', 'orthostatic',\n",
    "    'infective_endocarditis', 'dvt', 'cardiogenic_shock', 'shock',\n",
    "    'pulmonary_embolism', 'chest_infection',\n",
    "    'type_adm'\n",
    "]\n",
    "\n",
    "col_target = \"time_before_readm\""
   ]
  },
  {
   "cell_type": "code",
   "execution_count": 103,
   "id": "77ccaab8",
   "metadata": {},
   "outputs": [
    {
     "data": {
      "text/plain": [
       "Index(['age', 'sex', 'sample.yr', 'kappa', 'lambda', 'creatinine', 'mgus',\n",
       "       'futime', 'death', 'censored', 'flc.grp_2', 'flc.grp_3', 'flc.grp_4',\n",
       "       'flc.grp_5', 'flc.grp_6', 'flc.grp_7', 'flc.grp_8', 'flc.grp_9',\n",
       "       'flc.grp_10'],\n",
       "      dtype='object')"
      ]
     },
     "execution_count": 103,
     "metadata": {},
     "output_type": "execute_result"
    }
   ],
   "source": [
    "df.columns"
   ]
  },
  {
   "cell_type": "code",
   "execution_count": 104,
   "id": "347dd915",
   "metadata": {},
   "outputs": [],
   "source": [
    "cols_x = ['age', 'sex', 'kappa', 'lambda', 'creatinine','mgus', \n",
    "          #'flc.grp', \n",
    "          'flc.grp_2', 'flc.grp_3', 'flc.grp_4',\n",
    "          'flc.grp_5', 'flc.grp_6', 'flc.grp_7', 'flc.grp_8', 'flc.grp_9',\n",
    "          'flc.grp_10']\n",
    "\n",
    "col_target = \"futime\""
   ]
  },
  {
   "cell_type": "code",
   "execution_count": 105,
   "id": "f6463858",
   "metadata": {},
   "outputs": [],
   "source": [
    "Xy_train, Xy_test, y_train, y_test = split_train_test(df, cols_x, col_target, \n",
    "                                                      test_size=0.2, random_state=random_state)\n",
    "\n",
    "Xy_train, Xy_val, y_train, y_val = split_train_test(Xy_train, cols_x, col_target, \n",
    "                                                      test_size=0.3, random_state=random_state)"
   ]
  },
  {
   "cell_type": "code",
   "execution_count": 106,
   "id": "d0a54aac",
   "metadata": {},
   "outputs": [],
   "source": [
    "from sklearn.preprocessing import StandardScaler, MinMaxScaler\n",
    "\n",
    "# rescale\n",
    "scaler = eval(scaler_name)()\n",
    "\n",
    "Xy_train[cols_x] = scaler.fit_transform(Xy_train[cols_x])\n",
    "Xy_test[cols_x] = scaler.transform(Xy_test[cols_x])"
   ]
  },
  {
   "cell_type": "code",
   "execution_count": 107,
   "id": "1b795be2",
   "metadata": {},
   "outputs": [],
   "source": [
    "from sksurv.linear_model import CoxPHSurvivalAnalysis\n",
    "\n",
    "# train an estimator\n",
    "estimator = CoxPHSurvivalAnalysis(alpha=0.5)\n",
    "estimator = estimator.fit(Xy_train[cols_x], y_train)"
   ]
  },
  {
   "cell_type": "code",
   "execution_count": 108,
   "id": "170ba440",
   "metadata": {},
   "outputs": [
    {
     "data": {
      "text/plain": [
       "0.5902042347685535"
      ]
     },
     "execution_count": 108,
     "metadata": {},
     "output_type": "execute_result"
    }
   ],
   "source": [
    "estimator.score(Xy_test[cols_x], y_test)"
   ]
  },
  {
   "cell_type": "code",
   "execution_count": 109,
   "id": "efd9fbb6",
   "metadata": {},
   "outputs": [
    {
     "data": {
      "application/vnd.plotly.v1+json": {
       "config": {
        "plotlyServerURL": "https://plotly.com"
       },
       "data": [
        {
         "alignmentgroup": "True",
         "hovertemplate": "coef=%{x}<br>feature=%{y}<extra></extra>",
         "legendgroup": "",
         "marker": {
          "color": "#636efa"
         },
         "name": "",
         "offsetgroup": "",
         "orientation": "h",
         "showlegend": false,
         "textposition": "auto",
         "type": "bar",
         "x": [
          0.0009929520639615336,
          0.007451189087529763,
          0.02540143665482064,
          0.029519609199954586,
          0.03212395539893034,
          0.03652555029115974,
          0.04070240323954078,
          0.0463633470659407,
          0.04688517280243661,
          0.04963540662215899,
          0.08607392854608863,
          0.09307438038286313,
          -0.1651493311090049,
          -0.2629219927598633,
          0.2846870868819459
         ],
         "xaxis": "x",
         "y": [
          "flc.grp_6",
          "sex",
          "flc.grp_5",
          "flc.grp_9",
          "flc.grp_4",
          "flc.grp_3",
          "flc.grp_8",
          "flc.grp_2",
          "flc.grp_7",
          "mgus",
          "creatinine",
          "flc.grp_10",
          "age",
          "lambda",
          "kappa"
         ],
         "yaxis": "y"
        }
       ],
       "layout": {
        "barmode": "relative",
        "height": 1000,
        "legend": {
         "tracegroupgap": 0
        },
        "margin": {
         "t": 60
        },
        "template": {
         "data": {
          "bar": [
           {
            "error_x": {
             "color": "#2a3f5f"
            },
            "error_y": {
             "color": "#2a3f5f"
            },
            "marker": {
             "line": {
              "color": "white",
              "width": 0.5
             }
            },
            "type": "bar"
           }
          ],
          "barpolar": [
           {
            "marker": {
             "line": {
              "color": "white",
              "width": 0.5
             }
            },
            "type": "barpolar"
           }
          ],
          "carpet": [
           {
            "aaxis": {
             "endlinecolor": "#2a3f5f",
             "gridcolor": "#C8D4E3",
             "linecolor": "#C8D4E3",
             "minorgridcolor": "#C8D4E3",
             "startlinecolor": "#2a3f5f"
            },
            "baxis": {
             "endlinecolor": "#2a3f5f",
             "gridcolor": "#C8D4E3",
             "linecolor": "#C8D4E3",
             "minorgridcolor": "#C8D4E3",
             "startlinecolor": "#2a3f5f"
            },
            "type": "carpet"
           }
          ],
          "choropleth": [
           {
            "colorbar": {
             "outlinewidth": 0,
             "ticks": ""
            },
            "type": "choropleth"
           }
          ],
          "contour": [
           {
            "colorbar": {
             "outlinewidth": 0,
             "ticks": ""
            },
            "colorscale": [
             [
              0,
              "#0d0887"
             ],
             [
              0.1111111111111111,
              "#46039f"
             ],
             [
              0.2222222222222222,
              "#7201a8"
             ],
             [
              0.3333333333333333,
              "#9c179e"
             ],
             [
              0.4444444444444444,
              "#bd3786"
             ],
             [
              0.5555555555555556,
              "#d8576b"
             ],
             [
              0.6666666666666666,
              "#ed7953"
             ],
             [
              0.7777777777777778,
              "#fb9f3a"
             ],
             [
              0.8888888888888888,
              "#fdca26"
             ],
             [
              1,
              "#f0f921"
             ]
            ],
            "type": "contour"
           }
          ],
          "contourcarpet": [
           {
            "colorbar": {
             "outlinewidth": 0,
             "ticks": ""
            },
            "type": "contourcarpet"
           }
          ],
          "heatmap": [
           {
            "colorbar": {
             "outlinewidth": 0,
             "ticks": ""
            },
            "colorscale": [
             [
              0,
              "#0d0887"
             ],
             [
              0.1111111111111111,
              "#46039f"
             ],
             [
              0.2222222222222222,
              "#7201a8"
             ],
             [
              0.3333333333333333,
              "#9c179e"
             ],
             [
              0.4444444444444444,
              "#bd3786"
             ],
             [
              0.5555555555555556,
              "#d8576b"
             ],
             [
              0.6666666666666666,
              "#ed7953"
             ],
             [
              0.7777777777777778,
              "#fb9f3a"
             ],
             [
              0.8888888888888888,
              "#fdca26"
             ],
             [
              1,
              "#f0f921"
             ]
            ],
            "type": "heatmap"
           }
          ],
          "heatmapgl": [
           {
            "colorbar": {
             "outlinewidth": 0,
             "ticks": ""
            },
            "colorscale": [
             [
              0,
              "#0d0887"
             ],
             [
              0.1111111111111111,
              "#46039f"
             ],
             [
              0.2222222222222222,
              "#7201a8"
             ],
             [
              0.3333333333333333,
              "#9c179e"
             ],
             [
              0.4444444444444444,
              "#bd3786"
             ],
             [
              0.5555555555555556,
              "#d8576b"
             ],
             [
              0.6666666666666666,
              "#ed7953"
             ],
             [
              0.7777777777777778,
              "#fb9f3a"
             ],
             [
              0.8888888888888888,
              "#fdca26"
             ],
             [
              1,
              "#f0f921"
             ]
            ],
            "type": "heatmapgl"
           }
          ],
          "histogram": [
           {
            "marker": {
             "colorbar": {
              "outlinewidth": 0,
              "ticks": ""
             }
            },
            "type": "histogram"
           }
          ],
          "histogram2d": [
           {
            "colorbar": {
             "outlinewidth": 0,
             "ticks": ""
            },
            "colorscale": [
             [
              0,
              "#0d0887"
             ],
             [
              0.1111111111111111,
              "#46039f"
             ],
             [
              0.2222222222222222,
              "#7201a8"
             ],
             [
              0.3333333333333333,
              "#9c179e"
             ],
             [
              0.4444444444444444,
              "#bd3786"
             ],
             [
              0.5555555555555556,
              "#d8576b"
             ],
             [
              0.6666666666666666,
              "#ed7953"
             ],
             [
              0.7777777777777778,
              "#fb9f3a"
             ],
             [
              0.8888888888888888,
              "#fdca26"
             ],
             [
              1,
              "#f0f921"
             ]
            ],
            "type": "histogram2d"
           }
          ],
          "histogram2dcontour": [
           {
            "colorbar": {
             "outlinewidth": 0,
             "ticks": ""
            },
            "colorscale": [
             [
              0,
              "#0d0887"
             ],
             [
              0.1111111111111111,
              "#46039f"
             ],
             [
              0.2222222222222222,
              "#7201a8"
             ],
             [
              0.3333333333333333,
              "#9c179e"
             ],
             [
              0.4444444444444444,
              "#bd3786"
             ],
             [
              0.5555555555555556,
              "#d8576b"
             ],
             [
              0.6666666666666666,
              "#ed7953"
             ],
             [
              0.7777777777777778,
              "#fb9f3a"
             ],
             [
              0.8888888888888888,
              "#fdca26"
             ],
             [
              1,
              "#f0f921"
             ]
            ],
            "type": "histogram2dcontour"
           }
          ],
          "mesh3d": [
           {
            "colorbar": {
             "outlinewidth": 0,
             "ticks": ""
            },
            "type": "mesh3d"
           }
          ],
          "parcoords": [
           {
            "line": {
             "colorbar": {
              "outlinewidth": 0,
              "ticks": ""
             }
            },
            "type": "parcoords"
           }
          ],
          "pie": [
           {
            "automargin": true,
            "type": "pie"
           }
          ],
          "scatter": [
           {
            "marker": {
             "colorbar": {
              "outlinewidth": 0,
              "ticks": ""
             }
            },
            "type": "scatter"
           }
          ],
          "scatter3d": [
           {
            "line": {
             "colorbar": {
              "outlinewidth": 0,
              "ticks": ""
             }
            },
            "marker": {
             "colorbar": {
              "outlinewidth": 0,
              "ticks": ""
             }
            },
            "type": "scatter3d"
           }
          ],
          "scattercarpet": [
           {
            "marker": {
             "colorbar": {
              "outlinewidth": 0,
              "ticks": ""
             }
            },
            "type": "scattercarpet"
           }
          ],
          "scattergeo": [
           {
            "marker": {
             "colorbar": {
              "outlinewidth": 0,
              "ticks": ""
             }
            },
            "type": "scattergeo"
           }
          ],
          "scattergl": [
           {
            "marker": {
             "colorbar": {
              "outlinewidth": 0,
              "ticks": ""
             }
            },
            "type": "scattergl"
           }
          ],
          "scattermapbox": [
           {
            "marker": {
             "colorbar": {
              "outlinewidth": 0,
              "ticks": ""
             }
            },
            "type": "scattermapbox"
           }
          ],
          "scatterpolar": [
           {
            "marker": {
             "colorbar": {
              "outlinewidth": 0,
              "ticks": ""
             }
            },
            "type": "scatterpolar"
           }
          ],
          "scatterpolargl": [
           {
            "marker": {
             "colorbar": {
              "outlinewidth": 0,
              "ticks": ""
             }
            },
            "type": "scatterpolargl"
           }
          ],
          "scatterternary": [
           {
            "marker": {
             "colorbar": {
              "outlinewidth": 0,
              "ticks": ""
             }
            },
            "type": "scatterternary"
           }
          ],
          "surface": [
           {
            "colorbar": {
             "outlinewidth": 0,
             "ticks": ""
            },
            "colorscale": [
             [
              0,
              "#0d0887"
             ],
             [
              0.1111111111111111,
              "#46039f"
             ],
             [
              0.2222222222222222,
              "#7201a8"
             ],
             [
              0.3333333333333333,
              "#9c179e"
             ],
             [
              0.4444444444444444,
              "#bd3786"
             ],
             [
              0.5555555555555556,
              "#d8576b"
             ],
             [
              0.6666666666666666,
              "#ed7953"
             ],
             [
              0.7777777777777778,
              "#fb9f3a"
             ],
             [
              0.8888888888888888,
              "#fdca26"
             ],
             [
              1,
              "#f0f921"
             ]
            ],
            "type": "surface"
           }
          ],
          "table": [
           {
            "cells": {
             "fill": {
              "color": "#EBF0F8"
             },
             "line": {
              "color": "white"
             }
            },
            "header": {
             "fill": {
              "color": "#C8D4E3"
             },
             "line": {
              "color": "white"
             }
            },
            "type": "table"
           }
          ]
         },
         "layout": {
          "annotationdefaults": {
           "arrowcolor": "#2a3f5f",
           "arrowhead": 0,
           "arrowwidth": 1
          },
          "autotypenumbers": "strict",
          "coloraxis": {
           "colorbar": {
            "outlinewidth": 0,
            "ticks": ""
           }
          },
          "colorscale": {
           "diverging": [
            [
             0,
             "#8e0152"
            ],
            [
             0.1,
             "#c51b7d"
            ],
            [
             0.2,
             "#de77ae"
            ],
            [
             0.3,
             "#f1b6da"
            ],
            [
             0.4,
             "#fde0ef"
            ],
            [
             0.5,
             "#f7f7f7"
            ],
            [
             0.6,
             "#e6f5d0"
            ],
            [
             0.7,
             "#b8e186"
            ],
            [
             0.8,
             "#7fbc41"
            ],
            [
             0.9,
             "#4d9221"
            ],
            [
             1,
             "#276419"
            ]
           ],
           "sequential": [
            [
             0,
             "#0d0887"
            ],
            [
             0.1111111111111111,
             "#46039f"
            ],
            [
             0.2222222222222222,
             "#7201a8"
            ],
            [
             0.3333333333333333,
             "#9c179e"
            ],
            [
             0.4444444444444444,
             "#bd3786"
            ],
            [
             0.5555555555555556,
             "#d8576b"
            ],
            [
             0.6666666666666666,
             "#ed7953"
            ],
            [
             0.7777777777777778,
             "#fb9f3a"
            ],
            [
             0.8888888888888888,
             "#fdca26"
            ],
            [
             1,
             "#f0f921"
            ]
           ],
           "sequentialminus": [
            [
             0,
             "#0d0887"
            ],
            [
             0.1111111111111111,
             "#46039f"
            ],
            [
             0.2222222222222222,
             "#7201a8"
            ],
            [
             0.3333333333333333,
             "#9c179e"
            ],
            [
             0.4444444444444444,
             "#bd3786"
            ],
            [
             0.5555555555555556,
             "#d8576b"
            ],
            [
             0.6666666666666666,
             "#ed7953"
            ],
            [
             0.7777777777777778,
             "#fb9f3a"
            ],
            [
             0.8888888888888888,
             "#fdca26"
            ],
            [
             1,
             "#f0f921"
            ]
           ]
          },
          "colorway": [
           "#636efa",
           "#EF553B",
           "#00cc96",
           "#ab63fa",
           "#FFA15A",
           "#19d3f3",
           "#FF6692",
           "#B6E880",
           "#FF97FF",
           "#FECB52"
          ],
          "font": {
           "color": "#2a3f5f"
          },
          "geo": {
           "bgcolor": "white",
           "lakecolor": "white",
           "landcolor": "white",
           "showlakes": true,
           "showland": true,
           "subunitcolor": "#C8D4E3"
          },
          "hoverlabel": {
           "align": "left"
          },
          "hovermode": "closest",
          "mapbox": {
           "style": "light"
          },
          "paper_bgcolor": "white",
          "plot_bgcolor": "white",
          "polar": {
           "angularaxis": {
            "gridcolor": "#EBF0F8",
            "linecolor": "#EBF0F8",
            "ticks": ""
           },
           "bgcolor": "white",
           "radialaxis": {
            "gridcolor": "#EBF0F8",
            "linecolor": "#EBF0F8",
            "ticks": ""
           }
          },
          "scene": {
           "xaxis": {
            "backgroundcolor": "white",
            "gridcolor": "#DFE8F3",
            "gridwidth": 2,
            "linecolor": "#EBF0F8",
            "showbackground": true,
            "ticks": "",
            "zerolinecolor": "#EBF0F8"
           },
           "yaxis": {
            "backgroundcolor": "white",
            "gridcolor": "#DFE8F3",
            "gridwidth": 2,
            "linecolor": "#EBF0F8",
            "showbackground": true,
            "ticks": "",
            "zerolinecolor": "#EBF0F8"
           },
           "zaxis": {
            "backgroundcolor": "white",
            "gridcolor": "#DFE8F3",
            "gridwidth": 2,
            "linecolor": "#EBF0F8",
            "showbackground": true,
            "ticks": "",
            "zerolinecolor": "#EBF0F8"
           }
          },
          "shapedefaults": {
           "line": {
            "color": "#2a3f5f"
           }
          },
          "ternary": {
           "aaxis": {
            "gridcolor": "#DFE8F3",
            "linecolor": "#A2B1C6",
            "ticks": ""
           },
           "baxis": {
            "gridcolor": "#DFE8F3",
            "linecolor": "#A2B1C6",
            "ticks": ""
           },
           "bgcolor": "white",
           "caxis": {
            "gridcolor": "#DFE8F3",
            "linecolor": "#A2B1C6",
            "ticks": ""
           }
          },
          "title": {
           "x": 0.05
          },
          "xaxis": {
           "automargin": true,
           "gridcolor": "#EBF0F8",
           "linecolor": "#EBF0F8",
           "ticks": "",
           "title": {
            "standoff": 15
           },
           "zerolinecolor": "#EBF0F8",
           "zerolinewidth": 2
          },
          "yaxis": {
           "automargin": true,
           "gridcolor": "#EBF0F8",
           "linecolor": "#EBF0F8",
           "ticks": "",
           "title": {
            "standoff": 15
           },
           "zerolinecolor": "#EBF0F8",
           "zerolinewidth": 2
          }
         }
        },
        "xaxis": {
         "anchor": "y",
         "domain": [
          0,
          1
         ],
         "title": {
          "text": "coef"
         }
        },
        "yaxis": {
         "anchor": "x",
         "domain": [
          0,
          1
         ],
         "title": {
          "text": "feature"
         }
        }
       }
      },
      "text/html": [
       "<div>                            <div id=\"1ee9243d-234e-478e-bf52-a04a9678d4d2\" class=\"plotly-graph-div\" style=\"height:1000px; width:100%;\"></div>            <script type=\"text/javascript\">                require([\"plotly\"], function(Plotly) {                    window.PLOTLYENV=window.PLOTLYENV || {};                                    if (document.getElementById(\"1ee9243d-234e-478e-bf52-a04a9678d4d2\")) {                    Plotly.newPlot(                        \"1ee9243d-234e-478e-bf52-a04a9678d4d2\",                        [{\"alignmentgroup\": \"True\", \"hovertemplate\": \"coef=%{x}<br>feature=%{y}<extra></extra>\", \"legendgroup\": \"\", \"marker\": {\"color\": \"#636efa\"}, \"name\": \"\", \"offsetgroup\": \"\", \"orientation\": \"h\", \"showlegend\": false, \"textposition\": \"auto\", \"type\": \"bar\", \"x\": [0.0009929520639615336, 0.007451189087529763, 0.02540143665482064, 0.029519609199954586, 0.03212395539893034, 0.03652555029115974, 0.04070240323954078, 0.0463633470659407, 0.04688517280243661, 0.04963540662215899, 0.08607392854608863, 0.09307438038286313, -0.1651493311090049, -0.2629219927598633, 0.2846870868819459], \"xaxis\": \"x\", \"y\": [\"flc.grp_6\", \"sex\", \"flc.grp_5\", \"flc.grp_9\", \"flc.grp_4\", \"flc.grp_3\", \"flc.grp_8\", \"flc.grp_2\", \"flc.grp_7\", \"mgus\", \"creatinine\", \"flc.grp_10\", \"age\", \"lambda\", \"kappa\"], \"yaxis\": \"y\"}],                        {\"barmode\": \"relative\", \"height\": 1000, \"legend\": {\"tracegroupgap\": 0}, \"margin\": {\"t\": 60}, \"template\": {\"data\": {\"bar\": [{\"error_x\": {\"color\": \"#2a3f5f\"}, \"error_y\": {\"color\": \"#2a3f5f\"}, \"marker\": {\"line\": {\"color\": \"white\", \"width\": 0.5}}, \"type\": \"bar\"}], \"barpolar\": [{\"marker\": {\"line\": {\"color\": \"white\", \"width\": 0.5}}, \"type\": \"barpolar\"}], \"carpet\": [{\"aaxis\": {\"endlinecolor\": \"#2a3f5f\", \"gridcolor\": \"#C8D4E3\", \"linecolor\": \"#C8D4E3\", \"minorgridcolor\": \"#C8D4E3\", \"startlinecolor\": \"#2a3f5f\"}, \"baxis\": {\"endlinecolor\": \"#2a3f5f\", \"gridcolor\": \"#C8D4E3\", \"linecolor\": \"#C8D4E3\", \"minorgridcolor\": \"#C8D4E3\", \"startlinecolor\": \"#2a3f5f\"}, \"type\": \"carpet\"}], \"choropleth\": [{\"colorbar\": {\"outlinewidth\": 0, \"ticks\": \"\"}, \"type\": \"choropleth\"}], \"contour\": [{\"colorbar\": {\"outlinewidth\": 0, \"ticks\": \"\"}, \"colorscale\": [[0.0, \"#0d0887\"], [0.1111111111111111, \"#46039f\"], [0.2222222222222222, \"#7201a8\"], [0.3333333333333333, \"#9c179e\"], [0.4444444444444444, \"#bd3786\"], [0.5555555555555556, \"#d8576b\"], [0.6666666666666666, \"#ed7953\"], [0.7777777777777778, \"#fb9f3a\"], [0.8888888888888888, \"#fdca26\"], [1.0, \"#f0f921\"]], \"type\": \"contour\"}], \"contourcarpet\": [{\"colorbar\": {\"outlinewidth\": 0, \"ticks\": \"\"}, \"type\": \"contourcarpet\"}], \"heatmap\": [{\"colorbar\": {\"outlinewidth\": 0, \"ticks\": \"\"}, \"colorscale\": [[0.0, \"#0d0887\"], [0.1111111111111111, \"#46039f\"], [0.2222222222222222, \"#7201a8\"], [0.3333333333333333, \"#9c179e\"], [0.4444444444444444, \"#bd3786\"], [0.5555555555555556, \"#d8576b\"], [0.6666666666666666, \"#ed7953\"], [0.7777777777777778, \"#fb9f3a\"], [0.8888888888888888, \"#fdca26\"], [1.0, \"#f0f921\"]], \"type\": \"heatmap\"}], \"heatmapgl\": [{\"colorbar\": {\"outlinewidth\": 0, \"ticks\": \"\"}, \"colorscale\": [[0.0, \"#0d0887\"], [0.1111111111111111, \"#46039f\"], [0.2222222222222222, \"#7201a8\"], [0.3333333333333333, \"#9c179e\"], [0.4444444444444444, \"#bd3786\"], [0.5555555555555556, \"#d8576b\"], [0.6666666666666666, \"#ed7953\"], [0.7777777777777778, \"#fb9f3a\"], [0.8888888888888888, \"#fdca26\"], [1.0, \"#f0f921\"]], \"type\": \"heatmapgl\"}], \"histogram\": [{\"marker\": {\"colorbar\": {\"outlinewidth\": 0, \"ticks\": \"\"}}, \"type\": \"histogram\"}], \"histogram2d\": [{\"colorbar\": {\"outlinewidth\": 0, \"ticks\": \"\"}, \"colorscale\": [[0.0, \"#0d0887\"], [0.1111111111111111, \"#46039f\"], [0.2222222222222222, \"#7201a8\"], [0.3333333333333333, \"#9c179e\"], [0.4444444444444444, \"#bd3786\"], [0.5555555555555556, \"#d8576b\"], [0.6666666666666666, \"#ed7953\"], [0.7777777777777778, \"#fb9f3a\"], [0.8888888888888888, \"#fdca26\"], [1.0, \"#f0f921\"]], \"type\": \"histogram2d\"}], \"histogram2dcontour\": [{\"colorbar\": {\"outlinewidth\": 0, \"ticks\": \"\"}, \"colorscale\": [[0.0, \"#0d0887\"], [0.1111111111111111, \"#46039f\"], [0.2222222222222222, \"#7201a8\"], [0.3333333333333333, \"#9c179e\"], [0.4444444444444444, \"#bd3786\"], [0.5555555555555556, \"#d8576b\"], [0.6666666666666666, \"#ed7953\"], [0.7777777777777778, \"#fb9f3a\"], [0.8888888888888888, \"#fdca26\"], [1.0, \"#f0f921\"]], \"type\": \"histogram2dcontour\"}], \"mesh3d\": [{\"colorbar\": {\"outlinewidth\": 0, \"ticks\": \"\"}, \"type\": \"mesh3d\"}], \"parcoords\": [{\"line\": {\"colorbar\": {\"outlinewidth\": 0, \"ticks\": \"\"}}, \"type\": \"parcoords\"}], \"pie\": [{\"automargin\": true, \"type\": \"pie\"}], \"scatter\": [{\"marker\": {\"colorbar\": {\"outlinewidth\": 0, \"ticks\": \"\"}}, \"type\": \"scatter\"}], \"scatter3d\": [{\"line\": {\"colorbar\": {\"outlinewidth\": 0, \"ticks\": \"\"}}, \"marker\": {\"colorbar\": {\"outlinewidth\": 0, \"ticks\": \"\"}}, \"type\": \"scatter3d\"}], \"scattercarpet\": [{\"marker\": {\"colorbar\": {\"outlinewidth\": 0, \"ticks\": \"\"}}, \"type\": \"scattercarpet\"}], \"scattergeo\": [{\"marker\": {\"colorbar\": {\"outlinewidth\": 0, \"ticks\": \"\"}}, \"type\": \"scattergeo\"}], \"scattergl\": [{\"marker\": {\"colorbar\": {\"outlinewidth\": 0, \"ticks\": \"\"}}, \"type\": \"scattergl\"}], \"scattermapbox\": [{\"marker\": {\"colorbar\": {\"outlinewidth\": 0, \"ticks\": \"\"}}, \"type\": \"scattermapbox\"}], \"scatterpolar\": [{\"marker\": {\"colorbar\": {\"outlinewidth\": 0, \"ticks\": \"\"}}, \"type\": \"scatterpolar\"}], \"scatterpolargl\": [{\"marker\": {\"colorbar\": {\"outlinewidth\": 0, \"ticks\": \"\"}}, \"type\": \"scatterpolargl\"}], \"scatterternary\": [{\"marker\": {\"colorbar\": {\"outlinewidth\": 0, \"ticks\": \"\"}}, \"type\": \"scatterternary\"}], \"surface\": [{\"colorbar\": {\"outlinewidth\": 0, \"ticks\": \"\"}, \"colorscale\": [[0.0, \"#0d0887\"], [0.1111111111111111, \"#46039f\"], [0.2222222222222222, \"#7201a8\"], [0.3333333333333333, \"#9c179e\"], [0.4444444444444444, \"#bd3786\"], [0.5555555555555556, \"#d8576b\"], [0.6666666666666666, \"#ed7953\"], [0.7777777777777778, \"#fb9f3a\"], [0.8888888888888888, \"#fdca26\"], [1.0, \"#f0f921\"]], \"type\": \"surface\"}], \"table\": [{\"cells\": {\"fill\": {\"color\": \"#EBF0F8\"}, \"line\": {\"color\": \"white\"}}, \"header\": {\"fill\": {\"color\": \"#C8D4E3\"}, \"line\": {\"color\": \"white\"}}, \"type\": \"table\"}]}, \"layout\": {\"annotationdefaults\": {\"arrowcolor\": \"#2a3f5f\", \"arrowhead\": 0, \"arrowwidth\": 1}, \"autotypenumbers\": \"strict\", \"coloraxis\": {\"colorbar\": {\"outlinewidth\": 0, \"ticks\": \"\"}}, \"colorscale\": {\"diverging\": [[0, \"#8e0152\"], [0.1, \"#c51b7d\"], [0.2, \"#de77ae\"], [0.3, \"#f1b6da\"], [0.4, \"#fde0ef\"], [0.5, \"#f7f7f7\"], [0.6, \"#e6f5d0\"], [0.7, \"#b8e186\"], [0.8, \"#7fbc41\"], [0.9, \"#4d9221\"], [1, \"#276419\"]], \"sequential\": [[0.0, \"#0d0887\"], [0.1111111111111111, \"#46039f\"], [0.2222222222222222, \"#7201a8\"], [0.3333333333333333, \"#9c179e\"], [0.4444444444444444, \"#bd3786\"], [0.5555555555555556, \"#d8576b\"], [0.6666666666666666, \"#ed7953\"], [0.7777777777777778, \"#fb9f3a\"], [0.8888888888888888, \"#fdca26\"], [1.0, \"#f0f921\"]], \"sequentialminus\": [[0.0, \"#0d0887\"], [0.1111111111111111, \"#46039f\"], [0.2222222222222222, \"#7201a8\"], [0.3333333333333333, \"#9c179e\"], [0.4444444444444444, \"#bd3786\"], [0.5555555555555556, \"#d8576b\"], [0.6666666666666666, \"#ed7953\"], [0.7777777777777778, \"#fb9f3a\"], [0.8888888888888888, \"#fdca26\"], [1.0, \"#f0f921\"]]}, \"colorway\": [\"#636efa\", \"#EF553B\", \"#00cc96\", \"#ab63fa\", \"#FFA15A\", \"#19d3f3\", \"#FF6692\", \"#B6E880\", \"#FF97FF\", \"#FECB52\"], \"font\": {\"color\": \"#2a3f5f\"}, \"geo\": {\"bgcolor\": \"white\", \"lakecolor\": \"white\", \"landcolor\": \"white\", \"showlakes\": true, \"showland\": true, \"subunitcolor\": \"#C8D4E3\"}, \"hoverlabel\": {\"align\": \"left\"}, \"hovermode\": \"closest\", \"mapbox\": {\"style\": \"light\"}, \"paper_bgcolor\": \"white\", \"plot_bgcolor\": \"white\", \"polar\": {\"angularaxis\": {\"gridcolor\": \"#EBF0F8\", \"linecolor\": \"#EBF0F8\", \"ticks\": \"\"}, \"bgcolor\": \"white\", \"radialaxis\": {\"gridcolor\": \"#EBF0F8\", \"linecolor\": \"#EBF0F8\", \"ticks\": \"\"}}, \"scene\": {\"xaxis\": {\"backgroundcolor\": \"white\", \"gridcolor\": \"#DFE8F3\", \"gridwidth\": 2, \"linecolor\": \"#EBF0F8\", \"showbackground\": true, \"ticks\": \"\", \"zerolinecolor\": \"#EBF0F8\"}, \"yaxis\": {\"backgroundcolor\": \"white\", \"gridcolor\": \"#DFE8F3\", \"gridwidth\": 2, \"linecolor\": \"#EBF0F8\", \"showbackground\": true, \"ticks\": \"\", \"zerolinecolor\": \"#EBF0F8\"}, \"zaxis\": {\"backgroundcolor\": \"white\", \"gridcolor\": \"#DFE8F3\", \"gridwidth\": 2, \"linecolor\": \"#EBF0F8\", \"showbackground\": true, \"ticks\": \"\", \"zerolinecolor\": \"#EBF0F8\"}}, \"shapedefaults\": {\"line\": {\"color\": \"#2a3f5f\"}}, \"ternary\": {\"aaxis\": {\"gridcolor\": \"#DFE8F3\", \"linecolor\": \"#A2B1C6\", \"ticks\": \"\"}, \"baxis\": {\"gridcolor\": \"#DFE8F3\", \"linecolor\": \"#A2B1C6\", \"ticks\": \"\"}, \"bgcolor\": \"white\", \"caxis\": {\"gridcolor\": \"#DFE8F3\", \"linecolor\": \"#A2B1C6\", \"ticks\": \"\"}}, \"title\": {\"x\": 0.05}, \"xaxis\": {\"automargin\": true, \"gridcolor\": \"#EBF0F8\", \"linecolor\": \"#EBF0F8\", \"ticks\": \"\", \"title\": {\"standoff\": 15}, \"zerolinecolor\": \"#EBF0F8\", \"zerolinewidth\": 2}, \"yaxis\": {\"automargin\": true, \"gridcolor\": \"#EBF0F8\", \"linecolor\": \"#EBF0F8\", \"ticks\": \"\", \"title\": {\"standoff\": 15}, \"zerolinecolor\": \"#EBF0F8\", \"zerolinewidth\": 2}}}, \"xaxis\": {\"anchor\": \"y\", \"domain\": [0.0, 1.0], \"title\": {\"text\": \"coef\"}}, \"yaxis\": {\"anchor\": \"x\", \"domain\": [0.0, 1.0], \"title\": {\"text\": \"feature\"}}},                        {\"responsive\": true}                    ).then(function(){\n",
       "                            \n",
       "var gd = document.getElementById('1ee9243d-234e-478e-bf52-a04a9678d4d2');\n",
       "var x = new MutationObserver(function (mutations, observer) {{\n",
       "        var display = window.getComputedStyle(gd).display;\n",
       "        if (!display || display === 'none') {{\n",
       "            console.log([gd, 'removed!']);\n",
       "            Plotly.purge(gd);\n",
       "            observer.disconnect();\n",
       "        }}\n",
       "}});\n",
       "\n",
       "// Listen for the removal of the full notebook cells\n",
       "var notebookContainer = gd.closest('#notebook-container');\n",
       "if (notebookContainer) {{\n",
       "    x.observe(notebookContainer, {childList: true});\n",
       "}}\n",
       "\n",
       "// Listen for the clearing of the current output cell\n",
       "var outputEl = gd.closest('.output');\n",
       "if (outputEl) {{\n",
       "    x.observe(outputEl, {childList: true});\n",
       "}}\n",
       "\n",
       "                        })                };                });            </script>        </div>"
      ]
     },
     "metadata": {},
     "output_type": "display_data"
    }
   ],
   "source": [
    "feat_importance, fig = plot_feat_imp(cols_x, estimator.coef_)\n",
    "fig"
   ]
  },
  {
   "cell_type": "markdown",
   "id": "2034b0a7",
   "metadata": {},
   "source": [
    "# 2. DeepSurv"
   ]
  },
  {
   "cell_type": "markdown",
   "id": "541d1548",
   "metadata": {},
   "source": [
    "Source: https://nbviewer.org/github/havakv/pycox/blob/master/examples/cox-ph.ipynb"
   ]
  },
  {
   "cell_type": "code",
   "execution_count": 110,
   "id": "aaa1b0dc",
   "metadata": {},
   "outputs": [],
   "source": [
    "get_target = lambda df: (df[col_target].values, df['censored'].values)\n",
    "\n",
    "y_train = get_target(Xy_train)\n",
    "y_val = get_target(Xy_val)\n",
    "y_test = get_target(Xy_test)\n",
    "\n",
    "train = (np.array(Xy_train[cols_x]).astype(np.float32), y_train)\n",
    "val = (np.array(Xy_val[cols_x]).astype(np.float32), y_val)\n",
    "test = (np.array(Xy_test[cols_x]).astype(np.float32), y_test)"
   ]
  },
  {
   "cell_type": "code",
   "execution_count": 111,
   "id": "ac599c70",
   "metadata": {
    "code_folding": [],
    "scrolled": true
   },
   "outputs": [
    {
     "name": "stdout",
     "output_type": "stream",
     "text": [
      "concordance: 0.5125192042373361\n",
      "0:\t[0s / 0s],\t\ttrain_loss: 1.4696,\tval_loss: 1.4399\n",
      "1:\t[0s / 1s],\t\ttrain_loss: 1.4147,\tval_loss: 1.4158\n",
      "2:\t[0s / 2s],\t\ttrain_loss: 1.3968,\tval_loss: 1.4160\n",
      "3:\t[0s / 2s],\t\ttrain_loss: 1.3898,\tval_loss: 1.4171\n",
      "4:\t[0s / 3s],\t\ttrain_loss: 1.3881,\tval_loss: 1.4201\n",
      "concordance: 0.5455243790448585\n",
      "5:\t[0s / 4s],\t\ttrain_loss: 1.3905,\tval_loss: 1.4131\n",
      "6:\t[0s / 4s],\t\ttrain_loss: 1.3809,\tval_loss: 1.4114\n",
      "7:\t[0s / 5s],\t\ttrain_loss: 1.3845,\tval_loss: 1.4177\n",
      "8:\t[0s / 6s],\t\ttrain_loss: 1.3884,\tval_loss: 1.4111\n",
      "9:\t[0s / 7s],\t\ttrain_loss: 1.3885,\tval_loss: 1.4065\n",
      "concordance: 0.570963193147841\n",
      "10:\t[0s / 7s],\t\ttrain_loss: 1.3879,\tval_loss: 1.4223\n",
      "11:\t[0s / 8s],\t\ttrain_loss: 1.3809,\tval_loss: 1.4104\n",
      "12:\t[0s / 9s],\t\ttrain_loss: 1.3753,\tval_loss: 1.4210\n",
      "13:\t[0s / 9s],\t\ttrain_loss: 1.3837,\tval_loss: 1.4134\n",
      "14:\t[0s / 10s],\t\ttrain_loss: 1.3849,\tval_loss: 1.4216\n",
      "Epoch 00016: reducing learning rate of group 0 to 8.0000e-04.\n",
      "concordance: 0.5795218634529763\n",
      "15:\t[0s / 11s],\t\ttrain_loss: 1.3802,\tval_loss: 1.4136\n",
      "16:\t[0s / 12s],\t\ttrain_loss: 1.3774,\tval_loss: 1.4134\n",
      "17:\t[0s / 12s],\t\ttrain_loss: 1.3794,\tval_loss: 1.4091\n",
      "18:\t[0s / 13s],\t\ttrain_loss: 1.3752,\tval_loss: 1.4058\n",
      "19:\t[0s / 14s],\t\ttrain_loss: 1.3807,\tval_loss: 1.4061\n",
      "concordance: 0.5881458172844665\n",
      "20:\t[0s / 15s],\t\ttrain_loss: 1.3806,\tval_loss: 1.4093\n",
      "21:\t[0s / 15s],\t\ttrain_loss: 1.3789,\tval_loss: 1.4081\n",
      "22:\t[0s / 16s],\t\ttrain_loss: 1.3802,\tval_loss: 1.4104\n",
      "23:\t[0s / 17s],\t\ttrain_loss: 1.3778,\tval_loss: 1.4051\n",
      "24:\t[0s / 17s],\t\ttrain_loss: 1.3762,\tval_loss: 1.4042\n",
      "concordance: 0.588929219600726\n",
      "25:\t[0s / 18s],\t\ttrain_loss: 1.3737,\tval_loss: 1.4017\n",
      "26:\t[0s / 19s],\t\ttrain_loss: 1.3716,\tval_loss: 1.4049\n",
      "27:\t[0s / 20s],\t\ttrain_loss: 1.3757,\tval_loss: 1.4066\n",
      "28:\t[0s / 21s],\t\ttrain_loss: 1.3719,\tval_loss: 1.4060\n",
      "29:\t[0s / 22s],\t\ttrain_loss: 1.3738,\tval_loss: 1.4062\n",
      "concordance: 0.5827708069479081\n",
      "30:\t[0s / 22s],\t\ttrain_loss: 1.3724,\tval_loss: 1.4094\n",
      "Epoch 00032: reducing learning rate of group 0 to 6.4000e-04.\n",
      "31:\t[0s / 23s],\t\ttrain_loss: 1.3688,\tval_loss: 1.4094\n",
      "32:\t[0s / 24s],\t\ttrain_loss: 1.3747,\tval_loss: 1.4109\n",
      "33:\t[0s / 25s],\t\ttrain_loss: 1.3756,\tval_loss: 1.4099\n",
      "34:\t[0s / 25s],\t\ttrain_loss: 1.3713,\tval_loss: 1.4034\n",
      "concordance: 0.5946284714515139\n",
      "35:\t[0s / 26s],\t\ttrain_loss: 1.3681,\tval_loss: 1.4020\n",
      "36:\t[0s / 27s],\t\ttrain_loss: 1.3695,\tval_loss: 1.4009\n",
      "37:\t[0s / 27s],\t\ttrain_loss: 1.3745,\tval_loss: 1.4026\n",
      "38:\t[0s / 28s],\t\ttrain_loss: 1.3737,\tval_loss: 1.4005\n",
      "39:\t[0s / 29s],\t\ttrain_loss: 1.3735,\tval_loss: 1.4019\n",
      "concordance: 0.5965434548912594\n",
      "40:\t[0s / 30s],\t\ttrain_loss: 1.3699,\tval_loss: 1.4093\n",
      "41:\t[0s / 30s],\t\ttrain_loss: 1.3655,\tval_loss: 1.4069\n",
      "42:\t[0s / 31s],\t\ttrain_loss: 1.3668,\tval_loss: 1.4025\n",
      "43:\t[0s / 32s],\t\ttrain_loss: 1.3724,\tval_loss: 1.4001\n",
      "44:\t[0s / 33s],\t\ttrain_loss: 1.3724,\tval_loss: 1.4038\n",
      "concordance: 0.5855301239951777\n",
      "45:\t[0s / 33s],\t\ttrain_loss: 1.3671,\tval_loss: 1.4037\n",
      "46:\t[0s / 34s],\t\ttrain_loss: 1.3667,\tval_loss: 1.4008\n",
      "47:\t[0s / 35s],\t\ttrain_loss: 1.3722,\tval_loss: 1.4008\n",
      "48:\t[0s / 35s],\t\ttrain_loss: 1.3762,\tval_loss: 1.4004\n",
      "Epoch 00050: reducing learning rate of group 0 to 5.1200e-04.\n",
      "49:\t[0s / 36s],\t\ttrain_loss: 1.3652,\tval_loss: 1.3999\n",
      "concordance: 0.5897496159152533\n",
      "50:\t[0s / 37s],\t\ttrain_loss: 1.3690,\tval_loss: 1.4001\n",
      "51:\t[0s / 38s],\t\ttrain_loss: 1.3701,\tval_loss: 1.4026\n",
      "52:\t[0s / 38s],\t\ttrain_loss: 1.3655,\tval_loss: 1.4005\n",
      "53:\t[0s / 39s],\t\ttrain_loss: 1.3689,\tval_loss: 1.4007\n",
      "54:\t[0s / 40s],\t\ttrain_loss: 1.3691,\tval_loss: 1.4008\n",
      "Epoch 00056: reducing learning rate of group 0 to 4.0960e-04.\n",
      "concordance: 0.597676124073518\n",
      "55:\t[0s / 40s],\t\ttrain_loss: 1.3667,\tval_loss: 1.4001\n",
      "56:\t[0s / 41s],\t\ttrain_loss: 1.3612,\tval_loss: 1.4011\n",
      "57:\t[0s / 42s],\t\ttrain_loss: 1.3686,\tval_loss: 1.4005\n",
      "58:\t[0s / 42s],\t\ttrain_loss: 1.3642,\tval_loss: 1.4005\n",
      "59:\t[0s / 43s],\t\ttrain_loss: 1.3644,\tval_loss: 1.4117\n",
      "concordance: 0.5936035200877411\n",
      "60:\t[0s / 44s],\t\ttrain_loss: 1.3665,\tval_loss: 1.4017\n",
      "Epoch 00062: reducing learning rate of group 0 to 3.2768e-04.\n",
      "61:\t[0s / 44s],\t\ttrain_loss: 1.3617,\tval_loss: 1.4008\n",
      "62:\t[0s / 45s],\t\ttrain_loss: 1.3720,\tval_loss: 1.4047\n",
      "63:\t[0s / 46s],\t\ttrain_loss: 1.3633,\tval_loss: 1.4074\n",
      "64:\t[0s / 47s],\t\ttrain_loss: 1.3635,\tval_loss: 1.4048\n"
     ]
    },
    {
     "data": {
      "application/vnd.plotly.v1+json": {
       "config": {
        "plotlyServerURL": "https://plotly.com"
       },
       "data": [
        {
         "hovertemplate": "dataset=train_loss<br>index=%{x}<br>loss=%{y}<extra></extra>",
         "legendgroup": "train_loss",
         "line": {
          "color": "#636efa",
          "dash": "solid"
         },
         "mode": "lines",
         "name": "train_loss",
         "orientation": "v",
         "showlegend": true,
         "type": "scatter",
         "x": [
          0,
          1,
          2,
          3,
          4,
          5,
          6,
          7,
          8,
          9,
          10,
          11,
          12,
          13,
          14,
          15,
          16,
          17,
          18,
          19,
          20,
          21,
          22,
          23,
          24,
          25,
          26,
          27,
          28,
          29,
          30,
          31,
          32,
          33,
          34,
          35,
          36,
          37,
          38,
          39,
          40,
          41,
          42,
          43,
          44,
          45,
          46,
          47,
          48,
          49,
          50,
          51,
          52,
          53,
          54,
          55,
          56,
          57,
          58,
          59,
          60,
          61,
          62,
          63,
          64
         ],
         "xaxis": "x",
         "y": [
          1.4695534049487504,
          1.4146606945600666,
          1.396819245815277,
          1.389771538093442,
          1.3881331985114052,
          1.3905103601393152,
          1.3808611906942774,
          1.384501998150935,
          1.3884261809411595,
          1.388499216368941,
          1.387850495244636,
          1.3809206956722697,
          1.3753455906617837,
          1.3836870562834818,
          1.384893858628195,
          1.3801750996073738,
          1.3773932095433845,
          1.3794100286530666,
          1.3752464947153311,
          1.3806562449111313,
          1.3805677619136747,
          1.3789367361146896,
          1.3802421554190214,
          1.3778400931201997,
          1.3762013343513988,
          1.3737323035959337,
          1.3716268463212935,
          1.375679561349212,
          1.371938522135625,
          1.373786431257842,
          1.3724352237631063,
          1.3687566551028705,
          1.3747405339459904,
          1.375637668468913,
          1.3713442309958035,
          1.368091826947009,
          1.3694740445887457,
          1.374544563058947,
          1.3737370995224498,
          1.3735265976092854,
          1.3698734417313434,
          1.365477222106496,
          1.36683232041656,
          1.3723812245931781,
          1.3723878414904485,
          1.3670655641399445,
          1.366654289061906,
          1.3722352496913222,
          1.3762370115420857,
          1.3652273062799798,
          1.369046655443848,
          1.3700986197737397,
          1.3654938281559554,
          1.368949500361427,
          1.3691260673960701,
          1.3666576883831962,
          1.361221007636336,
          1.3685735299939015,
          1.3642364836129985,
          1.3644086173323333,
          1.3665415064233248,
          1.3616551958146643,
          1.3719898524831553,
          1.363347270645079,
          1.3634866960713121
         ],
         "yaxis": "y"
        },
        {
         "hovertemplate": "dataset=val_loss<br>index=%{x}<br>loss=%{y}<extra></extra>",
         "legendgroup": "val_loss",
         "line": {
          "color": "#EF553B",
          "dash": "solid"
         },
         "mode": "lines",
         "name": "val_loss",
         "orientation": "v",
         "showlegend": true,
         "type": "scatter",
         "x": [
          0,
          1,
          2,
          3,
          4,
          5,
          6,
          7,
          8,
          9,
          10,
          11,
          12,
          13,
          14,
          15,
          16,
          17,
          18,
          19,
          20,
          21,
          22,
          23,
          24,
          25,
          26,
          27,
          28,
          29,
          30,
          31,
          32,
          33,
          34,
          35,
          36,
          37,
          38,
          39,
          40,
          41,
          42,
          43,
          44,
          45,
          46,
          47,
          48,
          49,
          50,
          51,
          52,
          53,
          54,
          55,
          56,
          57,
          58,
          59,
          60,
          61,
          62,
          63,
          64
         ],
         "xaxis": "x",
         "y": [
          1.4399034976959229,
          1.4157572984695435,
          1.4159520864486694,
          1.4170761108398438,
          1.4201372861862183,
          1.413143515586853,
          1.411431908607483,
          1.4176623821258545,
          1.4110612869262695,
          1.406476378440857,
          1.4222731590270996,
          1.410386562347412,
          1.4209643602371216,
          1.4134151935577393,
          1.42160964012146,
          1.413642168045044,
          1.4133785963058472,
          1.4091118574142456,
          1.4058257341384888,
          1.406051516532898,
          1.4092851877212524,
          1.4080795049667358,
          1.4103935956954956,
          1.4051198959350586,
          1.4042233228683472,
          1.4016903638839722,
          1.4049124717712402,
          1.406617522239685,
          1.4059581756591797,
          1.4062285423278809,
          1.4094421863555908,
          1.4093986749649048,
          1.410885214805603,
          1.4099023342132568,
          1.403369426727295,
          1.4019705057144165,
          1.4009240865707397,
          1.4025622606277466,
          1.4005087614059448,
          1.4018529653549194,
          1.4093365669250488,
          1.4068650007247925,
          1.4025455713272095,
          1.4000588655471802,
          1.4038326740264893,
          1.4036647081375122,
          1.4007962942123413,
          1.4008466005325317,
          1.400443434715271,
          1.399927020072937,
          1.4001052379608154,
          1.4025819301605225,
          1.4004846811294556,
          1.4006726741790771,
          1.400794506072998,
          1.4001315832138062,
          1.401098608970642,
          1.4004933834075928,
          1.400499939918518,
          1.4117207527160645,
          1.4016708135604858,
          1.4007527828216553,
          1.4047400951385498,
          1.4074170589447021,
          1.404759168624878
         ],
         "yaxis": "y"
        }
       ],
       "layout": {
        "height": 400,
        "legend": {
         "title": {
          "text": "dataset"
         },
         "tracegroupgap": 0
        },
        "margin": {
         "t": 60
        },
        "template": {
         "data": {
          "bar": [
           {
            "error_x": {
             "color": "#2a3f5f"
            },
            "error_y": {
             "color": "#2a3f5f"
            },
            "marker": {
             "line": {
              "color": "white",
              "width": 0.5
             }
            },
            "type": "bar"
           }
          ],
          "barpolar": [
           {
            "marker": {
             "line": {
              "color": "white",
              "width": 0.5
             }
            },
            "type": "barpolar"
           }
          ],
          "carpet": [
           {
            "aaxis": {
             "endlinecolor": "#2a3f5f",
             "gridcolor": "#C8D4E3",
             "linecolor": "#C8D4E3",
             "minorgridcolor": "#C8D4E3",
             "startlinecolor": "#2a3f5f"
            },
            "baxis": {
             "endlinecolor": "#2a3f5f",
             "gridcolor": "#C8D4E3",
             "linecolor": "#C8D4E3",
             "minorgridcolor": "#C8D4E3",
             "startlinecolor": "#2a3f5f"
            },
            "type": "carpet"
           }
          ],
          "choropleth": [
           {
            "colorbar": {
             "outlinewidth": 0,
             "ticks": ""
            },
            "type": "choropleth"
           }
          ],
          "contour": [
           {
            "colorbar": {
             "outlinewidth": 0,
             "ticks": ""
            },
            "colorscale": [
             [
              0,
              "#0d0887"
             ],
             [
              0.1111111111111111,
              "#46039f"
             ],
             [
              0.2222222222222222,
              "#7201a8"
             ],
             [
              0.3333333333333333,
              "#9c179e"
             ],
             [
              0.4444444444444444,
              "#bd3786"
             ],
             [
              0.5555555555555556,
              "#d8576b"
             ],
             [
              0.6666666666666666,
              "#ed7953"
             ],
             [
              0.7777777777777778,
              "#fb9f3a"
             ],
             [
              0.8888888888888888,
              "#fdca26"
             ],
             [
              1,
              "#f0f921"
             ]
            ],
            "type": "contour"
           }
          ],
          "contourcarpet": [
           {
            "colorbar": {
             "outlinewidth": 0,
             "ticks": ""
            },
            "type": "contourcarpet"
           }
          ],
          "heatmap": [
           {
            "colorbar": {
             "outlinewidth": 0,
             "ticks": ""
            },
            "colorscale": [
             [
              0,
              "#0d0887"
             ],
             [
              0.1111111111111111,
              "#46039f"
             ],
             [
              0.2222222222222222,
              "#7201a8"
             ],
             [
              0.3333333333333333,
              "#9c179e"
             ],
             [
              0.4444444444444444,
              "#bd3786"
             ],
             [
              0.5555555555555556,
              "#d8576b"
             ],
             [
              0.6666666666666666,
              "#ed7953"
             ],
             [
              0.7777777777777778,
              "#fb9f3a"
             ],
             [
              0.8888888888888888,
              "#fdca26"
             ],
             [
              1,
              "#f0f921"
             ]
            ],
            "type": "heatmap"
           }
          ],
          "heatmapgl": [
           {
            "colorbar": {
             "outlinewidth": 0,
             "ticks": ""
            },
            "colorscale": [
             [
              0,
              "#0d0887"
             ],
             [
              0.1111111111111111,
              "#46039f"
             ],
             [
              0.2222222222222222,
              "#7201a8"
             ],
             [
              0.3333333333333333,
              "#9c179e"
             ],
             [
              0.4444444444444444,
              "#bd3786"
             ],
             [
              0.5555555555555556,
              "#d8576b"
             ],
             [
              0.6666666666666666,
              "#ed7953"
             ],
             [
              0.7777777777777778,
              "#fb9f3a"
             ],
             [
              0.8888888888888888,
              "#fdca26"
             ],
             [
              1,
              "#f0f921"
             ]
            ],
            "type": "heatmapgl"
           }
          ],
          "histogram": [
           {
            "marker": {
             "colorbar": {
              "outlinewidth": 0,
              "ticks": ""
             }
            },
            "type": "histogram"
           }
          ],
          "histogram2d": [
           {
            "colorbar": {
             "outlinewidth": 0,
             "ticks": ""
            },
            "colorscale": [
             [
              0,
              "#0d0887"
             ],
             [
              0.1111111111111111,
              "#46039f"
             ],
             [
              0.2222222222222222,
              "#7201a8"
             ],
             [
              0.3333333333333333,
              "#9c179e"
             ],
             [
              0.4444444444444444,
              "#bd3786"
             ],
             [
              0.5555555555555556,
              "#d8576b"
             ],
             [
              0.6666666666666666,
              "#ed7953"
             ],
             [
              0.7777777777777778,
              "#fb9f3a"
             ],
             [
              0.8888888888888888,
              "#fdca26"
             ],
             [
              1,
              "#f0f921"
             ]
            ],
            "type": "histogram2d"
           }
          ],
          "histogram2dcontour": [
           {
            "colorbar": {
             "outlinewidth": 0,
             "ticks": ""
            },
            "colorscale": [
             [
              0,
              "#0d0887"
             ],
             [
              0.1111111111111111,
              "#46039f"
             ],
             [
              0.2222222222222222,
              "#7201a8"
             ],
             [
              0.3333333333333333,
              "#9c179e"
             ],
             [
              0.4444444444444444,
              "#bd3786"
             ],
             [
              0.5555555555555556,
              "#d8576b"
             ],
             [
              0.6666666666666666,
              "#ed7953"
             ],
             [
              0.7777777777777778,
              "#fb9f3a"
             ],
             [
              0.8888888888888888,
              "#fdca26"
             ],
             [
              1,
              "#f0f921"
             ]
            ],
            "type": "histogram2dcontour"
           }
          ],
          "mesh3d": [
           {
            "colorbar": {
             "outlinewidth": 0,
             "ticks": ""
            },
            "type": "mesh3d"
           }
          ],
          "parcoords": [
           {
            "line": {
             "colorbar": {
              "outlinewidth": 0,
              "ticks": ""
             }
            },
            "type": "parcoords"
           }
          ],
          "pie": [
           {
            "automargin": true,
            "type": "pie"
           }
          ],
          "scatter": [
           {
            "marker": {
             "colorbar": {
              "outlinewidth": 0,
              "ticks": ""
             }
            },
            "type": "scatter"
           }
          ],
          "scatter3d": [
           {
            "line": {
             "colorbar": {
              "outlinewidth": 0,
              "ticks": ""
             }
            },
            "marker": {
             "colorbar": {
              "outlinewidth": 0,
              "ticks": ""
             }
            },
            "type": "scatter3d"
           }
          ],
          "scattercarpet": [
           {
            "marker": {
             "colorbar": {
              "outlinewidth": 0,
              "ticks": ""
             }
            },
            "type": "scattercarpet"
           }
          ],
          "scattergeo": [
           {
            "marker": {
             "colorbar": {
              "outlinewidth": 0,
              "ticks": ""
             }
            },
            "type": "scattergeo"
           }
          ],
          "scattergl": [
           {
            "marker": {
             "colorbar": {
              "outlinewidth": 0,
              "ticks": ""
             }
            },
            "type": "scattergl"
           }
          ],
          "scattermapbox": [
           {
            "marker": {
             "colorbar": {
              "outlinewidth": 0,
              "ticks": ""
             }
            },
            "type": "scattermapbox"
           }
          ],
          "scatterpolar": [
           {
            "marker": {
             "colorbar": {
              "outlinewidth": 0,
              "ticks": ""
             }
            },
            "type": "scatterpolar"
           }
          ],
          "scatterpolargl": [
           {
            "marker": {
             "colorbar": {
              "outlinewidth": 0,
              "ticks": ""
             }
            },
            "type": "scatterpolargl"
           }
          ],
          "scatterternary": [
           {
            "marker": {
             "colorbar": {
              "outlinewidth": 0,
              "ticks": ""
             }
            },
            "type": "scatterternary"
           }
          ],
          "surface": [
           {
            "colorbar": {
             "outlinewidth": 0,
             "ticks": ""
            },
            "colorscale": [
             [
              0,
              "#0d0887"
             ],
             [
              0.1111111111111111,
              "#46039f"
             ],
             [
              0.2222222222222222,
              "#7201a8"
             ],
             [
              0.3333333333333333,
              "#9c179e"
             ],
             [
              0.4444444444444444,
              "#bd3786"
             ],
             [
              0.5555555555555556,
              "#d8576b"
             ],
             [
              0.6666666666666666,
              "#ed7953"
             ],
             [
              0.7777777777777778,
              "#fb9f3a"
             ],
             [
              0.8888888888888888,
              "#fdca26"
             ],
             [
              1,
              "#f0f921"
             ]
            ],
            "type": "surface"
           }
          ],
          "table": [
           {
            "cells": {
             "fill": {
              "color": "#EBF0F8"
             },
             "line": {
              "color": "white"
             }
            },
            "header": {
             "fill": {
              "color": "#C8D4E3"
             },
             "line": {
              "color": "white"
             }
            },
            "type": "table"
           }
          ]
         },
         "layout": {
          "annotationdefaults": {
           "arrowcolor": "#2a3f5f",
           "arrowhead": 0,
           "arrowwidth": 1
          },
          "autotypenumbers": "strict",
          "coloraxis": {
           "colorbar": {
            "outlinewidth": 0,
            "ticks": ""
           }
          },
          "colorscale": {
           "diverging": [
            [
             0,
             "#8e0152"
            ],
            [
             0.1,
             "#c51b7d"
            ],
            [
             0.2,
             "#de77ae"
            ],
            [
             0.3,
             "#f1b6da"
            ],
            [
             0.4,
             "#fde0ef"
            ],
            [
             0.5,
             "#f7f7f7"
            ],
            [
             0.6,
             "#e6f5d0"
            ],
            [
             0.7,
             "#b8e186"
            ],
            [
             0.8,
             "#7fbc41"
            ],
            [
             0.9,
             "#4d9221"
            ],
            [
             1,
             "#276419"
            ]
           ],
           "sequential": [
            [
             0,
             "#0d0887"
            ],
            [
             0.1111111111111111,
             "#46039f"
            ],
            [
             0.2222222222222222,
             "#7201a8"
            ],
            [
             0.3333333333333333,
             "#9c179e"
            ],
            [
             0.4444444444444444,
             "#bd3786"
            ],
            [
             0.5555555555555556,
             "#d8576b"
            ],
            [
             0.6666666666666666,
             "#ed7953"
            ],
            [
             0.7777777777777778,
             "#fb9f3a"
            ],
            [
             0.8888888888888888,
             "#fdca26"
            ],
            [
             1,
             "#f0f921"
            ]
           ],
           "sequentialminus": [
            [
             0,
             "#0d0887"
            ],
            [
             0.1111111111111111,
             "#46039f"
            ],
            [
             0.2222222222222222,
             "#7201a8"
            ],
            [
             0.3333333333333333,
             "#9c179e"
            ],
            [
             0.4444444444444444,
             "#bd3786"
            ],
            [
             0.5555555555555556,
             "#d8576b"
            ],
            [
             0.6666666666666666,
             "#ed7953"
            ],
            [
             0.7777777777777778,
             "#fb9f3a"
            ],
            [
             0.8888888888888888,
             "#fdca26"
            ],
            [
             1,
             "#f0f921"
            ]
           ]
          },
          "colorway": [
           "#636efa",
           "#EF553B",
           "#00cc96",
           "#ab63fa",
           "#FFA15A",
           "#19d3f3",
           "#FF6692",
           "#B6E880",
           "#FF97FF",
           "#FECB52"
          ],
          "font": {
           "color": "#2a3f5f"
          },
          "geo": {
           "bgcolor": "white",
           "lakecolor": "white",
           "landcolor": "white",
           "showlakes": true,
           "showland": true,
           "subunitcolor": "#C8D4E3"
          },
          "hoverlabel": {
           "align": "left"
          },
          "hovermode": "closest",
          "mapbox": {
           "style": "light"
          },
          "paper_bgcolor": "white",
          "plot_bgcolor": "white",
          "polar": {
           "angularaxis": {
            "gridcolor": "#EBF0F8",
            "linecolor": "#EBF0F8",
            "ticks": ""
           },
           "bgcolor": "white",
           "radialaxis": {
            "gridcolor": "#EBF0F8",
            "linecolor": "#EBF0F8",
            "ticks": ""
           }
          },
          "scene": {
           "xaxis": {
            "backgroundcolor": "white",
            "gridcolor": "#DFE8F3",
            "gridwidth": 2,
            "linecolor": "#EBF0F8",
            "showbackground": true,
            "ticks": "",
            "zerolinecolor": "#EBF0F8"
           },
           "yaxis": {
            "backgroundcolor": "white",
            "gridcolor": "#DFE8F3",
            "gridwidth": 2,
            "linecolor": "#EBF0F8",
            "showbackground": true,
            "ticks": "",
            "zerolinecolor": "#EBF0F8"
           },
           "zaxis": {
            "backgroundcolor": "white",
            "gridcolor": "#DFE8F3",
            "gridwidth": 2,
            "linecolor": "#EBF0F8",
            "showbackground": true,
            "ticks": "",
            "zerolinecolor": "#EBF0F8"
           }
          },
          "shapedefaults": {
           "line": {
            "color": "#2a3f5f"
           }
          },
          "ternary": {
           "aaxis": {
            "gridcolor": "#DFE8F3",
            "linecolor": "#A2B1C6",
            "ticks": ""
           },
           "baxis": {
            "gridcolor": "#DFE8F3",
            "linecolor": "#A2B1C6",
            "ticks": ""
           },
           "bgcolor": "white",
           "caxis": {
            "gridcolor": "#DFE8F3",
            "linecolor": "#A2B1C6",
            "ticks": ""
           }
          },
          "title": {
           "x": 0.05
          },
          "xaxis": {
           "automargin": true,
           "gridcolor": "#EBF0F8",
           "linecolor": "#EBF0F8",
           "ticks": "",
           "title": {
            "standoff": 15
           },
           "zerolinecolor": "#EBF0F8",
           "zerolinewidth": 2
          },
          "yaxis": {
           "automargin": true,
           "gridcolor": "#EBF0F8",
           "linecolor": "#EBF0F8",
           "ticks": "",
           "title": {
            "standoff": 15
           },
           "zerolinecolor": "#EBF0F8",
           "zerolinewidth": 2
          }
         }
        },
        "width": 800,
        "xaxis": {
         "anchor": "y",
         "domain": [
          0,
          1
         ],
         "title": {
          "text": "index"
         }
        },
        "yaxis": {
         "anchor": "x",
         "domain": [
          0,
          1
         ],
         "title": {
          "text": "loss"
         }
        }
       }
      },
      "text/html": [
       "<div>                            <div id=\"21bc3ef6-cd7b-4226-b853-844254f80a25\" class=\"plotly-graph-div\" style=\"height:400px; width:800px;\"></div>            <script type=\"text/javascript\">                require([\"plotly\"], function(Plotly) {                    window.PLOTLYENV=window.PLOTLYENV || {};                                    if (document.getElementById(\"21bc3ef6-cd7b-4226-b853-844254f80a25\")) {                    Plotly.newPlot(                        \"21bc3ef6-cd7b-4226-b853-844254f80a25\",                        [{\"hovertemplate\": \"dataset=train_loss<br>index=%{x}<br>loss=%{y}<extra></extra>\", \"legendgroup\": \"train_loss\", \"line\": {\"color\": \"#636efa\", \"dash\": \"solid\"}, \"mode\": \"lines\", \"name\": \"train_loss\", \"orientation\": \"v\", \"showlegend\": true, \"type\": \"scatter\", \"x\": [0, 1, 2, 3, 4, 5, 6, 7, 8, 9, 10, 11, 12, 13, 14, 15, 16, 17, 18, 19, 20, 21, 22, 23, 24, 25, 26, 27, 28, 29, 30, 31, 32, 33, 34, 35, 36, 37, 38, 39, 40, 41, 42, 43, 44, 45, 46, 47, 48, 49, 50, 51, 52, 53, 54, 55, 56, 57, 58, 59, 60, 61, 62, 63, 64], \"xaxis\": \"x\", \"y\": [1.4695534049487504, 1.4146606945600666, 1.396819245815277, 1.389771538093442, 1.3881331985114052, 1.3905103601393152, 1.3808611906942774, 1.384501998150935, 1.3884261809411595, 1.388499216368941, 1.387850495244636, 1.3809206956722697, 1.3753455906617837, 1.3836870562834818, 1.384893858628195, 1.3801750996073738, 1.3773932095433845, 1.3794100286530666, 1.3752464947153311, 1.3806562449111313, 1.3805677619136747, 1.3789367361146896, 1.3802421554190214, 1.3778400931201997, 1.3762013343513988, 1.3737323035959337, 1.3716268463212935, 1.375679561349212, 1.371938522135625, 1.373786431257842, 1.3724352237631063, 1.3687566551028705, 1.3747405339459904, 1.375637668468913, 1.3713442309958035, 1.368091826947009, 1.3694740445887457, 1.374544563058947, 1.3737370995224498, 1.3735265976092854, 1.3698734417313434, 1.365477222106496, 1.36683232041656, 1.3723812245931781, 1.3723878414904485, 1.3670655641399445, 1.366654289061906, 1.3722352496913222, 1.3762370115420857, 1.3652273062799798, 1.369046655443848, 1.3700986197737397, 1.3654938281559554, 1.368949500361427, 1.3691260673960701, 1.3666576883831962, 1.361221007636336, 1.3685735299939015, 1.3642364836129985, 1.3644086173323333, 1.3665415064233248, 1.3616551958146643, 1.3719898524831553, 1.363347270645079, 1.3634866960713121], \"yaxis\": \"y\"}, {\"hovertemplate\": \"dataset=val_loss<br>index=%{x}<br>loss=%{y}<extra></extra>\", \"legendgroup\": \"val_loss\", \"line\": {\"color\": \"#EF553B\", \"dash\": \"solid\"}, \"mode\": \"lines\", \"name\": \"val_loss\", \"orientation\": \"v\", \"showlegend\": true, \"type\": \"scatter\", \"x\": [0, 1, 2, 3, 4, 5, 6, 7, 8, 9, 10, 11, 12, 13, 14, 15, 16, 17, 18, 19, 20, 21, 22, 23, 24, 25, 26, 27, 28, 29, 30, 31, 32, 33, 34, 35, 36, 37, 38, 39, 40, 41, 42, 43, 44, 45, 46, 47, 48, 49, 50, 51, 52, 53, 54, 55, 56, 57, 58, 59, 60, 61, 62, 63, 64], \"xaxis\": \"x\", \"y\": [1.4399034976959229, 1.4157572984695435, 1.4159520864486694, 1.4170761108398438, 1.4201372861862183, 1.413143515586853, 1.411431908607483, 1.4176623821258545, 1.4110612869262695, 1.406476378440857, 1.4222731590270996, 1.410386562347412, 1.4209643602371216, 1.4134151935577393, 1.42160964012146, 1.413642168045044, 1.4133785963058472, 1.4091118574142456, 1.4058257341384888, 1.406051516532898, 1.4092851877212524, 1.4080795049667358, 1.4103935956954956, 1.4051198959350586, 1.4042233228683472, 1.4016903638839722, 1.4049124717712402, 1.406617522239685, 1.4059581756591797, 1.4062285423278809, 1.4094421863555908, 1.4093986749649048, 1.410885214805603, 1.4099023342132568, 1.403369426727295, 1.4019705057144165, 1.4009240865707397, 1.4025622606277466, 1.4005087614059448, 1.4018529653549194, 1.4093365669250488, 1.4068650007247925, 1.4025455713272095, 1.4000588655471802, 1.4038326740264893, 1.4036647081375122, 1.4007962942123413, 1.4008466005325317, 1.400443434715271, 1.399927020072937, 1.4001052379608154, 1.4025819301605225, 1.4004846811294556, 1.4006726741790771, 1.400794506072998, 1.4001315832138062, 1.401098608970642, 1.4004933834075928, 1.400499939918518, 1.4117207527160645, 1.4016708135604858, 1.4007527828216553, 1.4047400951385498, 1.4074170589447021, 1.404759168624878], \"yaxis\": \"y\"}],                        {\"height\": 400, \"legend\": {\"title\": {\"text\": \"dataset\"}, \"tracegroupgap\": 0}, \"margin\": {\"t\": 60}, \"template\": {\"data\": {\"bar\": [{\"error_x\": {\"color\": \"#2a3f5f\"}, \"error_y\": {\"color\": \"#2a3f5f\"}, \"marker\": {\"line\": {\"color\": \"white\", \"width\": 0.5}}, \"type\": \"bar\"}], \"barpolar\": [{\"marker\": {\"line\": {\"color\": \"white\", \"width\": 0.5}}, \"type\": \"barpolar\"}], \"carpet\": [{\"aaxis\": {\"endlinecolor\": \"#2a3f5f\", \"gridcolor\": \"#C8D4E3\", \"linecolor\": \"#C8D4E3\", \"minorgridcolor\": \"#C8D4E3\", \"startlinecolor\": \"#2a3f5f\"}, \"baxis\": {\"endlinecolor\": \"#2a3f5f\", \"gridcolor\": \"#C8D4E3\", \"linecolor\": \"#C8D4E3\", \"minorgridcolor\": \"#C8D4E3\", \"startlinecolor\": \"#2a3f5f\"}, \"type\": \"carpet\"}], \"choropleth\": [{\"colorbar\": {\"outlinewidth\": 0, \"ticks\": \"\"}, \"type\": \"choropleth\"}], \"contour\": [{\"colorbar\": {\"outlinewidth\": 0, \"ticks\": \"\"}, \"colorscale\": [[0.0, \"#0d0887\"], [0.1111111111111111, \"#46039f\"], [0.2222222222222222, \"#7201a8\"], [0.3333333333333333, \"#9c179e\"], [0.4444444444444444, \"#bd3786\"], [0.5555555555555556, \"#d8576b\"], [0.6666666666666666, \"#ed7953\"], [0.7777777777777778, \"#fb9f3a\"], [0.8888888888888888, \"#fdca26\"], [1.0, \"#f0f921\"]], \"type\": \"contour\"}], \"contourcarpet\": [{\"colorbar\": {\"outlinewidth\": 0, \"ticks\": \"\"}, \"type\": \"contourcarpet\"}], \"heatmap\": [{\"colorbar\": {\"outlinewidth\": 0, \"ticks\": \"\"}, \"colorscale\": [[0.0, \"#0d0887\"], [0.1111111111111111, \"#46039f\"], [0.2222222222222222, \"#7201a8\"], [0.3333333333333333, \"#9c179e\"], [0.4444444444444444, \"#bd3786\"], [0.5555555555555556, \"#d8576b\"], [0.6666666666666666, \"#ed7953\"], [0.7777777777777778, \"#fb9f3a\"], [0.8888888888888888, \"#fdca26\"], [1.0, \"#f0f921\"]], \"type\": \"heatmap\"}], \"heatmapgl\": [{\"colorbar\": {\"outlinewidth\": 0, \"ticks\": \"\"}, \"colorscale\": [[0.0, \"#0d0887\"], [0.1111111111111111, \"#46039f\"], [0.2222222222222222, \"#7201a8\"], [0.3333333333333333, \"#9c179e\"], [0.4444444444444444, \"#bd3786\"], [0.5555555555555556, \"#d8576b\"], [0.6666666666666666, \"#ed7953\"], [0.7777777777777778, \"#fb9f3a\"], [0.8888888888888888, \"#fdca26\"], [1.0, \"#f0f921\"]], \"type\": \"heatmapgl\"}], \"histogram\": [{\"marker\": {\"colorbar\": {\"outlinewidth\": 0, \"ticks\": \"\"}}, \"type\": \"histogram\"}], \"histogram2d\": [{\"colorbar\": {\"outlinewidth\": 0, \"ticks\": \"\"}, \"colorscale\": [[0.0, \"#0d0887\"], [0.1111111111111111, \"#46039f\"], [0.2222222222222222, \"#7201a8\"], [0.3333333333333333, \"#9c179e\"], [0.4444444444444444, \"#bd3786\"], [0.5555555555555556, \"#d8576b\"], [0.6666666666666666, \"#ed7953\"], [0.7777777777777778, \"#fb9f3a\"], [0.8888888888888888, \"#fdca26\"], [1.0, \"#f0f921\"]], \"type\": \"histogram2d\"}], \"histogram2dcontour\": [{\"colorbar\": {\"outlinewidth\": 0, \"ticks\": \"\"}, \"colorscale\": [[0.0, \"#0d0887\"], [0.1111111111111111, \"#46039f\"], [0.2222222222222222, \"#7201a8\"], [0.3333333333333333, \"#9c179e\"], [0.4444444444444444, \"#bd3786\"], [0.5555555555555556, \"#d8576b\"], [0.6666666666666666, \"#ed7953\"], [0.7777777777777778, \"#fb9f3a\"], [0.8888888888888888, \"#fdca26\"], [1.0, \"#f0f921\"]], \"type\": \"histogram2dcontour\"}], \"mesh3d\": [{\"colorbar\": {\"outlinewidth\": 0, \"ticks\": \"\"}, \"type\": \"mesh3d\"}], \"parcoords\": [{\"line\": {\"colorbar\": {\"outlinewidth\": 0, \"ticks\": \"\"}}, \"type\": \"parcoords\"}], \"pie\": [{\"automargin\": true, \"type\": \"pie\"}], \"scatter\": [{\"marker\": {\"colorbar\": {\"outlinewidth\": 0, \"ticks\": \"\"}}, \"type\": \"scatter\"}], \"scatter3d\": [{\"line\": {\"colorbar\": {\"outlinewidth\": 0, \"ticks\": \"\"}}, \"marker\": {\"colorbar\": {\"outlinewidth\": 0, \"ticks\": \"\"}}, \"type\": \"scatter3d\"}], \"scattercarpet\": [{\"marker\": {\"colorbar\": {\"outlinewidth\": 0, \"ticks\": \"\"}}, \"type\": \"scattercarpet\"}], \"scattergeo\": [{\"marker\": {\"colorbar\": {\"outlinewidth\": 0, \"ticks\": \"\"}}, \"type\": \"scattergeo\"}], \"scattergl\": [{\"marker\": {\"colorbar\": {\"outlinewidth\": 0, \"ticks\": \"\"}}, \"type\": \"scattergl\"}], \"scattermapbox\": [{\"marker\": {\"colorbar\": {\"outlinewidth\": 0, \"ticks\": \"\"}}, \"type\": \"scattermapbox\"}], \"scatterpolar\": [{\"marker\": {\"colorbar\": {\"outlinewidth\": 0, \"ticks\": \"\"}}, \"type\": \"scatterpolar\"}], \"scatterpolargl\": [{\"marker\": {\"colorbar\": {\"outlinewidth\": 0, \"ticks\": \"\"}}, \"type\": \"scatterpolargl\"}], \"scatterternary\": [{\"marker\": {\"colorbar\": {\"outlinewidth\": 0, \"ticks\": \"\"}}, \"type\": \"scatterternary\"}], \"surface\": [{\"colorbar\": {\"outlinewidth\": 0, \"ticks\": \"\"}, \"colorscale\": [[0.0, \"#0d0887\"], [0.1111111111111111, \"#46039f\"], [0.2222222222222222, \"#7201a8\"], [0.3333333333333333, \"#9c179e\"], [0.4444444444444444, \"#bd3786\"], [0.5555555555555556, \"#d8576b\"], [0.6666666666666666, \"#ed7953\"], [0.7777777777777778, \"#fb9f3a\"], [0.8888888888888888, \"#fdca26\"], [1.0, \"#f0f921\"]], \"type\": \"surface\"}], \"table\": [{\"cells\": {\"fill\": {\"color\": \"#EBF0F8\"}, \"line\": {\"color\": \"white\"}}, \"header\": {\"fill\": {\"color\": \"#C8D4E3\"}, \"line\": {\"color\": \"white\"}}, \"type\": \"table\"}]}, \"layout\": {\"annotationdefaults\": {\"arrowcolor\": \"#2a3f5f\", \"arrowhead\": 0, \"arrowwidth\": 1}, \"autotypenumbers\": \"strict\", \"coloraxis\": {\"colorbar\": {\"outlinewidth\": 0, \"ticks\": \"\"}}, \"colorscale\": {\"diverging\": [[0, \"#8e0152\"], [0.1, \"#c51b7d\"], [0.2, \"#de77ae\"], [0.3, \"#f1b6da\"], [0.4, \"#fde0ef\"], [0.5, \"#f7f7f7\"], [0.6, \"#e6f5d0\"], [0.7, \"#b8e186\"], [0.8, \"#7fbc41\"], [0.9, \"#4d9221\"], [1, \"#276419\"]], \"sequential\": [[0.0, \"#0d0887\"], [0.1111111111111111, \"#46039f\"], [0.2222222222222222, \"#7201a8\"], [0.3333333333333333, \"#9c179e\"], [0.4444444444444444, \"#bd3786\"], [0.5555555555555556, \"#d8576b\"], [0.6666666666666666, \"#ed7953\"], [0.7777777777777778, \"#fb9f3a\"], [0.8888888888888888, \"#fdca26\"], [1.0, \"#f0f921\"]], \"sequentialminus\": [[0.0, \"#0d0887\"], [0.1111111111111111, \"#46039f\"], [0.2222222222222222, \"#7201a8\"], [0.3333333333333333, \"#9c179e\"], [0.4444444444444444, \"#bd3786\"], [0.5555555555555556, \"#d8576b\"], [0.6666666666666666, \"#ed7953\"], [0.7777777777777778, \"#fb9f3a\"], [0.8888888888888888, \"#fdca26\"], [1.0, \"#f0f921\"]]}, \"colorway\": [\"#636efa\", \"#EF553B\", \"#00cc96\", \"#ab63fa\", \"#FFA15A\", \"#19d3f3\", \"#FF6692\", \"#B6E880\", \"#FF97FF\", \"#FECB52\"], \"font\": {\"color\": \"#2a3f5f\"}, \"geo\": {\"bgcolor\": \"white\", \"lakecolor\": \"white\", \"landcolor\": \"white\", \"showlakes\": true, \"showland\": true, \"subunitcolor\": \"#C8D4E3\"}, \"hoverlabel\": {\"align\": \"left\"}, \"hovermode\": \"closest\", \"mapbox\": {\"style\": \"light\"}, \"paper_bgcolor\": \"white\", \"plot_bgcolor\": \"white\", \"polar\": {\"angularaxis\": {\"gridcolor\": \"#EBF0F8\", \"linecolor\": \"#EBF0F8\", \"ticks\": \"\"}, \"bgcolor\": \"white\", \"radialaxis\": {\"gridcolor\": \"#EBF0F8\", \"linecolor\": \"#EBF0F8\", \"ticks\": \"\"}}, \"scene\": {\"xaxis\": {\"backgroundcolor\": \"white\", \"gridcolor\": \"#DFE8F3\", \"gridwidth\": 2, \"linecolor\": \"#EBF0F8\", \"showbackground\": true, \"ticks\": \"\", \"zerolinecolor\": \"#EBF0F8\"}, \"yaxis\": {\"backgroundcolor\": \"white\", \"gridcolor\": \"#DFE8F3\", \"gridwidth\": 2, \"linecolor\": \"#EBF0F8\", \"showbackground\": true, \"ticks\": \"\", \"zerolinecolor\": \"#EBF0F8\"}, \"zaxis\": {\"backgroundcolor\": \"white\", \"gridcolor\": \"#DFE8F3\", \"gridwidth\": 2, \"linecolor\": \"#EBF0F8\", \"showbackground\": true, \"ticks\": \"\", \"zerolinecolor\": \"#EBF0F8\"}}, \"shapedefaults\": {\"line\": {\"color\": \"#2a3f5f\"}}, \"ternary\": {\"aaxis\": {\"gridcolor\": \"#DFE8F3\", \"linecolor\": \"#A2B1C6\", \"ticks\": \"\"}, \"baxis\": {\"gridcolor\": \"#DFE8F3\", \"linecolor\": \"#A2B1C6\", \"ticks\": \"\"}, \"bgcolor\": \"white\", \"caxis\": {\"gridcolor\": \"#DFE8F3\", \"linecolor\": \"#A2B1C6\", \"ticks\": \"\"}}, \"title\": {\"x\": 0.05}, \"xaxis\": {\"automargin\": true, \"gridcolor\": \"#EBF0F8\", \"linecolor\": \"#EBF0F8\", \"ticks\": \"\", \"title\": {\"standoff\": 15}, \"zerolinecolor\": \"#EBF0F8\", \"zerolinewidth\": 2}, \"yaxis\": {\"automargin\": true, \"gridcolor\": \"#EBF0F8\", \"linecolor\": \"#EBF0F8\", \"ticks\": \"\", \"title\": {\"standoff\": 15}, \"zerolinecolor\": \"#EBF0F8\", \"zerolinewidth\": 2}}}, \"width\": 800, \"xaxis\": {\"anchor\": \"y\", \"domain\": [0.0, 1.0], \"title\": {\"text\": \"index\"}}, \"yaxis\": {\"anchor\": \"x\", \"domain\": [0.0, 1.0], \"title\": {\"text\": \"loss\"}}},                        {\"responsive\": true}                    ).then(function(){\n",
       "                            \n",
       "var gd = document.getElementById('21bc3ef6-cd7b-4226-b853-844254f80a25');\n",
       "var x = new MutationObserver(function (mutations, observer) {{\n",
       "        var display = window.getComputedStyle(gd).display;\n",
       "        if (!display || display === 'none') {{\n",
       "            console.log([gd, 'removed!']);\n",
       "            Plotly.purge(gd);\n",
       "            observer.disconnect();\n",
       "        }}\n",
       "}});\n",
       "\n",
       "// Listen for the removal of the full notebook cells\n",
       "var notebookContainer = gd.closest('#notebook-container');\n",
       "if (notebookContainer) {{\n",
       "    x.observe(notebookContainer, {childList: true});\n",
       "}}\n",
       "\n",
       "// Listen for the clearing of the current output cell\n",
       "var outputEl = gd.closest('.output');\n",
       "if (outputEl) {{\n",
       "    x.observe(outputEl, {childList: true});\n",
       "}}\n",
       "\n",
       "                        })                };                });            </script>        </div>"
      ]
     },
     "metadata": {},
     "output_type": "display_data"
    },
    {
     "name": "stdout",
     "output_type": "stream",
     "text": [
      "score 0.5931204219927143\n"
     ]
    }
   ],
   "source": [
    "params = {\n",
    "    'n_nodes': 32,\n",
    "    'n_layers': 4,\n",
    "    'dropout': 0.4, \n",
    "    'output_bias': False, \n",
    "    'epochs': 512, \n",
    "    'batch_size': 12\n",
    "}\n",
    "\n",
    "logs_df, model, score = train_deep_surv(\n",
    "    train, val, test, CoxPH, out_features = 1, tolerance=10, \n",
    "    print_lr=True, print_logs=True, verbose = True,\n",
    "    **params\n",
    ")\n",
    "\n",
    "print('score', score)"
   ]
  },
  {
   "cell_type": "code",
   "execution_count": 112,
   "id": "32d78f29",
   "metadata": {
    "code_folding": [],
    "scrolled": true
   },
   "outputs": [
    {
     "name": "stdout",
     "output_type": "stream",
     "text": [
      "3 total scenario to run\n",
      "1/3: params: {'n_nodes': 16, 'n_layers': 4, 'dropout': 0.4, 'output_bias': False, 'epochs': 512, 'batch_size': 16}\n",
      "concordance: 0.5311532987765867\n",
      "0:\t[0s / 0s],\t\ttrain_loss: 1.8319,\tval_loss: 1.7896\n",
      "1:\t[0s / 1s],\t\ttrain_loss: 1.6666,\tval_loss: 1.6999\n",
      "2:\t[0s / 1s],\t\ttrain_loss: 1.6429,\tval_loss: 1.6760\n",
      "3:\t[0s / 2s],\t\ttrain_loss: 1.6391,\tval_loss: 1.6655\n",
      "4:\t[0s / 2s],\t\ttrain_loss: 1.6250,\tval_loss: 1.6657\n",
      "concordance: 0.5302415055251625\n",
      "5:\t[0s / 3s],\t\ttrain_loss: 1.6260,\tval_loss: 1.6656\n",
      "6:\t[0s / 3s],\t\ttrain_loss: 1.6302,\tval_loss: 1.6616\n",
      "7:\t[0s / 4s],\t\ttrain_loss: 1.6268,\tval_loss: 1.6642\n",
      "8:\t[0s / 4s],\t\ttrain_loss: 1.6281,\tval_loss: 1.6639\n",
      "9:\t[0s / 5s],\t\ttrain_loss: 1.6279,\tval_loss: 1.6632\n",
      "concordance: 0.5049539315915689\n",
      "10:\t[0s / 5s],\t\ttrain_loss: 1.6248,\tval_loss: 1.6614\n",
      "11:\t[0s / 6s],\t\ttrain_loss: 1.6258,\tval_loss: 1.6613\n",
      "12:\t[0s / 6s],\t\ttrain_loss: 1.6235,\tval_loss: 1.6611\n",
      "13:\t[0s / 7s],\t\ttrain_loss: 1.6276,\tval_loss: 1.6536\n",
      "14:\t[0s / 7s],\t\ttrain_loss: 1.6231,\tval_loss: 1.6645\n",
      "concordance: 0.5325830080037603\n",
      "15:\t[0s / 8s],\t\ttrain_loss: 1.6248,\tval_loss: 1.6565\n",
      "16:\t[0s / 8s],\t\ttrain_loss: 1.6243,\tval_loss: 1.6577\n",
      "17:\t[0s / 9s],\t\ttrain_loss: 1.6254,\tval_loss: 1.6600\n",
      "18:\t[0s / 10s],\t\ttrain_loss: 1.6248,\tval_loss: 1.6577\n",
      "Epoch 00020: reducing learning rate of group 0 to 8.0000e-04.\n",
      "19:\t[0s / 10s],\t\ttrain_loss: 1.6233,\tval_loss: 1.6567\n",
      "concordance: 0.5400035688327741\n",
      "20:\t[0s / 11s],\t\ttrain_loss: 1.6247,\tval_loss: 1.6574\n",
      "21:\t[0s / 11s],\t\ttrain_loss: 1.6231,\tval_loss: 1.6683\n",
      "22:\t[0s / 12s],\t\ttrain_loss: 1.6204,\tval_loss: 1.6672\n",
      "23:\t[0s / 12s],\t\ttrain_loss: 1.6209,\tval_loss: 1.6580\n",
      "24:\t[0s / 13s],\t\ttrain_loss: 1.6242,\tval_loss: 1.6608\n",
      "Epoch 00026: reducing learning rate of group 0 to 6.4000e-04.\n",
      "concordance: 0.5564408727101803\n",
      "25:\t[0s / 13s],\t\ttrain_loss: 1.6201,\tval_loss: 1.6590\n",
      "26:\t[0s / 14s],\t\ttrain_loss: 1.6247,\tval_loss: 1.6586\n",
      "27:\t[0s / 14s],\t\ttrain_loss: 1.6179,\tval_loss: 1.6572\n",
      "28:\t[0s / 15s],\t\ttrain_loss: 1.6260,\tval_loss: 1.6572\n",
      "Current score: 0.5294635435027658 vs. best score: -100\n",
      "2/3: params: {'n_nodes': 32, 'n_layers': 4, 'dropout': 0.4, 'output_bias': False, 'epochs': 512, 'batch_size': 16}\n",
      "concordance: 0.5430718945714572\n",
      "0:\t[0s / 0s],\t\ttrain_loss: 1.6958,\tval_loss: 1.6507\n",
      "1:\t[0s / 1s],\t\ttrain_loss: 1.6474,\tval_loss: 1.6510\n",
      "2:\t[0s / 1s],\t\ttrain_loss: 1.6251,\tval_loss: 1.6508\n",
      "3:\t[0s / 2s],\t\ttrain_loss: 1.6305,\tval_loss: 1.6574\n",
      "4:\t[0s / 2s],\t\ttrain_loss: 1.6242,\tval_loss: 1.6560\n",
      "concordance: 0.5373160636644949\n",
      "5:\t[0s / 3s],\t\ttrain_loss: 1.6240,\tval_loss: 1.6689\n",
      "Epoch 00007: reducing learning rate of group 0 to 8.0000e-04.\n",
      "6:\t[0s / 3s],\t\ttrain_loss: 1.6233,\tval_loss: 1.6594\n",
      "7:\t[0s / 4s],\t\ttrain_loss: 1.6247,\tval_loss: 1.6521\n",
      "8:\t[0s / 5s],\t\ttrain_loss: 1.6221,\tval_loss: 1.6561\n",
      "9:\t[0s / 5s],\t\ttrain_loss: 1.6233,\tval_loss: 1.6694\n",
      "concordance: 0.5663585284222713\n",
      "10:\t[0s / 6s],\t\ttrain_loss: 1.6261,\tval_loss: 1.6533\n",
      "11:\t[0s / 6s],\t\ttrain_loss: 1.6192,\tval_loss: 1.6636\n",
      "Epoch 00013: reducing learning rate of group 0 to 6.4000e-04.\n",
      "12:\t[0s / 7s],\t\ttrain_loss: 1.6219,\tval_loss: 1.6681\n",
      "13:\t[0s / 7s],\t\ttrain_loss: 1.6257,\tval_loss: 1.6610\n",
      "14:\t[0s / 8s],\t\ttrain_loss: 1.6230,\tval_loss: 1.6696\n",
      "concordance: 0.580742665395814\n",
      "15:\t[0s / 8s],\t\ttrain_loss: 1.6214,\tval_loss: 1.6629\n",
      "Current score: 0.5430718945714572 vs. best score: 0.5294635435027658\n",
      "3/3: params: {'n_nodes': 64, 'n_layers': 4, 'dropout': 0.4, 'output_bias': False, 'epochs': 512, 'batch_size': 16}\n",
      "concordance: 0.5175133940034905\n",
      "0:\t[0s / 0s],\t\ttrain_loss: 1.7251,\tval_loss: 1.6777\n",
      "1:\t[0s / 1s],\t\ttrain_loss: 1.6644,\tval_loss: 1.6494\n",
      "2:\t[0s / 1s],\t\ttrain_loss: 1.6412,\tval_loss: 1.6554\n",
      "3:\t[0s / 2s],\t\ttrain_loss: 1.6436,\tval_loss: 1.6497\n",
      "4:\t[0s / 3s],\t\ttrain_loss: 1.6309,\tval_loss: 1.6506\n",
      "concordance: 0.5371310936731558\n",
      "5:\t[0s / 4s],\t\ttrain_loss: 1.6324,\tval_loss: 1.6567\n",
      "6:\t[0s / 4s],\t\ttrain_loss: 1.6262,\tval_loss: 1.6631\n",
      "Epoch 00008: reducing learning rate of group 0 to 8.0000e-04.\n",
      "7:\t[0s / 5s],\t\ttrain_loss: 1.6237,\tval_loss: 1.7069\n",
      "8:\t[0s / 5s],\t\ttrain_loss: 1.6231,\tval_loss: 1.6878\n",
      "9:\t[0s / 6s],\t\ttrain_loss: 1.6311,\tval_loss: 1.6508\n",
      "concordance: 0.5712373839585319\n",
      "10:\t[0s / 6s],\t\ttrain_loss: 1.6212,\tval_loss: 1.6521\n",
      "11:\t[0s / 7s],\t\ttrain_loss: 1.6302,\tval_loss: 1.6556\n",
      "12:\t[0s / 8s],\t\ttrain_loss: 1.6286,\tval_loss: 1.6568\n",
      "Epoch 00014: reducing learning rate of group 0 to 6.4000e-04.\n",
      "13:\t[0s / 8s],\t\ttrain_loss: 1.6209,\tval_loss: 1.6797\n",
      "14:\t[0s / 9s],\t\ttrain_loss: 1.6222,\tval_loss: 1.6542\n",
      "concordance: 0.583044997758599\n",
      "15:\t[0s / 9s],\t\ttrain_loss: 1.6197,\tval_loss: 1.6950\n",
      "16:\t[0s / 10s],\t\ttrain_loss: 1.6266,\tval_loss: 1.6731\n",
      "Current score: 0.5207753942036933 vs. best score: 0.5430718945714572\n"
     ]
    }
   ],
   "source": [
    "grid_params = {\n",
    "    \"n_nodes\" :[16, 32, 64],\n",
    "    \"n_layers\" :[4],\n",
    "    \"dropout\" :[0.4],\n",
    "    \"output_bias\" :[False],\n",
    "    \"epochs\" :[512],\n",
    "    \"batch_size\" :[16]\n",
    "}\n",
    "\n",
    "best_model, table = grid_search_deep(train, val, test, 1, grid_params, CoxPH)"
   ]
  },
  {
   "cell_type": "code",
   "execution_count": 27,
   "id": "928b840f",
   "metadata": {
    "scrolled": true
   },
   "outputs": [
    {
     "data": {
      "text/html": [
       "<div>\n",
       "<style scoped>\n",
       "    .dataframe tbody tr th:only-of-type {\n",
       "        vertical-align: middle;\n",
       "    }\n",
       "\n",
       "    .dataframe tbody tr th {\n",
       "        vertical-align: top;\n",
       "    }\n",
       "\n",
       "    .dataframe thead th {\n",
       "        text-align: right;\n",
       "    }\n",
       "</style>\n",
       "<table border=\"1\" class=\"dataframe\">\n",
       "  <thead>\n",
       "    <tr style=\"text-align: right;\">\n",
       "      <th></th>\n",
       "      <th>n_nodes</th>\n",
       "      <th>n_layers</th>\n",
       "      <th>dropout</th>\n",
       "      <th>output_bias</th>\n",
       "      <th>epochs</th>\n",
       "      <th>batch_size</th>\n",
       "      <th>lr</th>\n",
       "      <th>score</th>\n",
       "    </tr>\n",
       "  </thead>\n",
       "  <tbody>\n",
       "    <tr>\n",
       "      <th>6</th>\n",
       "      <td>32</td>\n",
       "      <td>2</td>\n",
       "      <td>0.4</td>\n",
       "      <td>True</td>\n",
       "      <td>512</td>\n",
       "      <td>16</td>\n",
       "      <td>0.001</td>\n",
       "      <td>0.600487</td>\n",
       "    </tr>\n",
       "    <tr>\n",
       "      <th>16</th>\n",
       "      <td>64</td>\n",
       "      <td>4</td>\n",
       "      <td>0.4</td>\n",
       "      <td>True</td>\n",
       "      <td>512</td>\n",
       "      <td>16</td>\n",
       "      <td>0.001</td>\n",
       "      <td>0.598106</td>\n",
       "    </tr>\n",
       "    <tr>\n",
       "      <th>5</th>\n",
       "      <td>16</td>\n",
       "      <td>4</td>\n",
       "      <td>0.4</td>\n",
       "      <td>False</td>\n",
       "      <td>512</td>\n",
       "      <td>16</td>\n",
       "      <td>0.001</td>\n",
       "      <td>0.598034</td>\n",
       "    </tr>\n",
       "    <tr>\n",
       "      <th>1</th>\n",
       "      <td>16</td>\n",
       "      <td>2</td>\n",
       "      <td>0.4</td>\n",
       "      <td>False</td>\n",
       "      <td>512</td>\n",
       "      <td>16</td>\n",
       "      <td>0.001</td>\n",
       "      <td>0.597936</td>\n",
       "    </tr>\n",
       "    <tr>\n",
       "      <th>15</th>\n",
       "      <td>64</td>\n",
       "      <td>3</td>\n",
       "      <td>0.4</td>\n",
       "      <td>False</td>\n",
       "      <td>512</td>\n",
       "      <td>16</td>\n",
       "      <td>0.001</td>\n",
       "      <td>0.596874</td>\n",
       "    </tr>\n",
       "    <tr>\n",
       "      <th>10</th>\n",
       "      <td>32</td>\n",
       "      <td>4</td>\n",
       "      <td>0.4</td>\n",
       "      <td>True</td>\n",
       "      <td>512</td>\n",
       "      <td>16</td>\n",
       "      <td>0.001</td>\n",
       "      <td>0.596413</td>\n",
       "    </tr>\n",
       "    <tr>\n",
       "      <th>17</th>\n",
       "      <td>64</td>\n",
       "      <td>4</td>\n",
       "      <td>0.4</td>\n",
       "      <td>False</td>\n",
       "      <td>512</td>\n",
       "      <td>16</td>\n",
       "      <td>0.001</td>\n",
       "      <td>0.595542</td>\n",
       "    </tr>\n",
       "    <tr>\n",
       "      <th>9</th>\n",
       "      <td>32</td>\n",
       "      <td>3</td>\n",
       "      <td>0.4</td>\n",
       "      <td>False</td>\n",
       "      <td>512</td>\n",
       "      <td>16</td>\n",
       "      <td>0.001</td>\n",
       "      <td>0.594644</td>\n",
       "    </tr>\n",
       "    <tr>\n",
       "      <th>3</th>\n",
       "      <td>16</td>\n",
       "      <td>3</td>\n",
       "      <td>0.4</td>\n",
       "      <td>False</td>\n",
       "      <td>512</td>\n",
       "      <td>16</td>\n",
       "      <td>0.001</td>\n",
       "      <td>0.594574</td>\n",
       "    </tr>\n",
       "    <tr>\n",
       "      <th>8</th>\n",
       "      <td>32</td>\n",
       "      <td>3</td>\n",
       "      <td>0.4</td>\n",
       "      <td>True</td>\n",
       "      <td>512</td>\n",
       "      <td>16</td>\n",
       "      <td>0.001</td>\n",
       "      <td>0.593632</td>\n",
       "    </tr>\n",
       "    <tr>\n",
       "      <th>4</th>\n",
       "      <td>16</td>\n",
       "      <td>4</td>\n",
       "      <td>0.4</td>\n",
       "      <td>True</td>\n",
       "      <td>512</td>\n",
       "      <td>16</td>\n",
       "      <td>0.001</td>\n",
       "      <td>0.591649</td>\n",
       "    </tr>\n",
       "    <tr>\n",
       "      <th>12</th>\n",
       "      <td>64</td>\n",
       "      <td>2</td>\n",
       "      <td>0.4</td>\n",
       "      <td>True</td>\n",
       "      <td>512</td>\n",
       "      <td>16</td>\n",
       "      <td>0.001</td>\n",
       "      <td>0.589778</td>\n",
       "    </tr>\n",
       "    <tr>\n",
       "      <th>2</th>\n",
       "      <td>16</td>\n",
       "      <td>3</td>\n",
       "      <td>0.4</td>\n",
       "      <td>True</td>\n",
       "      <td>512</td>\n",
       "      <td>16</td>\n",
       "      <td>0.001</td>\n",
       "      <td>0.588307</td>\n",
       "    </tr>\n",
       "    <tr>\n",
       "      <th>13</th>\n",
       "      <td>64</td>\n",
       "      <td>2</td>\n",
       "      <td>0.4</td>\n",
       "      <td>False</td>\n",
       "      <td>512</td>\n",
       "      <td>16</td>\n",
       "      <td>0.001</td>\n",
       "      <td>0.588037</td>\n",
       "    </tr>\n",
       "    <tr>\n",
       "      <th>14</th>\n",
       "      <td>64</td>\n",
       "      <td>3</td>\n",
       "      <td>0.4</td>\n",
       "      <td>True</td>\n",
       "      <td>512</td>\n",
       "      <td>16</td>\n",
       "      <td>0.001</td>\n",
       "      <td>0.581200</td>\n",
       "    </tr>\n",
       "    <tr>\n",
       "      <th>0</th>\n",
       "      <td>16</td>\n",
       "      <td>2</td>\n",
       "      <td>0.4</td>\n",
       "      <td>True</td>\n",
       "      <td>512</td>\n",
       "      <td>16</td>\n",
       "      <td>0.001</td>\n",
       "      <td>0.577304</td>\n",
       "    </tr>\n",
       "    <tr>\n",
       "      <th>7</th>\n",
       "      <td>32</td>\n",
       "      <td>2</td>\n",
       "      <td>0.4</td>\n",
       "      <td>False</td>\n",
       "      <td>512</td>\n",
       "      <td>16</td>\n",
       "      <td>0.001</td>\n",
       "      <td>0.574263</td>\n",
       "    </tr>\n",
       "    <tr>\n",
       "      <th>11</th>\n",
       "      <td>32</td>\n",
       "      <td>4</td>\n",
       "      <td>0.4</td>\n",
       "      <td>False</td>\n",
       "      <td>512</td>\n",
       "      <td>16</td>\n",
       "      <td>0.001</td>\n",
       "      <td>0.563584</td>\n",
       "    </tr>\n",
       "  </tbody>\n",
       "</table>\n",
       "</div>"
      ],
      "text/plain": [
       "    n_nodes  n_layers  dropout  output_bias  epochs  batch_size     lr  \\\n",
       "6        32         2      0.4         True     512          16  0.001   \n",
       "16       64         4      0.4         True     512          16  0.001   \n",
       "5        16         4      0.4        False     512          16  0.001   \n",
       "1        16         2      0.4        False     512          16  0.001   \n",
       "15       64         3      0.4        False     512          16  0.001   \n",
       "10       32         4      0.4         True     512          16  0.001   \n",
       "17       64         4      0.4        False     512          16  0.001   \n",
       "9        32         3      0.4        False     512          16  0.001   \n",
       "3        16         3      0.4        False     512          16  0.001   \n",
       "8        32         3      0.4         True     512          16  0.001   \n",
       "4        16         4      0.4         True     512          16  0.001   \n",
       "12       64         2      0.4         True     512          16  0.001   \n",
       "2        16         3      0.4         True     512          16  0.001   \n",
       "13       64         2      0.4        False     512          16  0.001   \n",
       "14       64         3      0.4         True     512          16  0.001   \n",
       "0        16         2      0.4         True     512          16  0.001   \n",
       "7        32         2      0.4        False     512          16  0.001   \n",
       "11       32         4      0.4        False     512          16  0.001   \n",
       "\n",
       "       score  \n",
       "6   0.600487  \n",
       "16  0.598106  \n",
       "5   0.598034  \n",
       "1   0.597936  \n",
       "15  0.596874  \n",
       "10  0.596413  \n",
       "17  0.595542  \n",
       "9   0.594644  \n",
       "3   0.594574  \n",
       "8   0.593632  \n",
       "4   0.591649  \n",
       "12  0.589778  \n",
       "2   0.588307  \n",
       "13  0.588037  \n",
       "14  0.581200  \n",
       "0   0.577304  \n",
       "7   0.574263  \n",
       "11  0.563584  "
      ]
     },
     "execution_count": 27,
     "metadata": {},
     "output_type": "execute_result"
    }
   ],
   "source": [
    "table"
   ]
  },
  {
   "cell_type": "code",
   "execution_count": 29,
   "id": "a52db66a",
   "metadata": {},
   "outputs": [
    {
     "name": "stdout",
     "output_type": "stream",
     "text": [
      "Best score:  0.600486579883099\n",
      "Best params: \n",
      "{'n_nodes': 32, 'n_layers': 2, 'dropout': 0.4, 'output_bias': True, 'epochs': 512, 'batch_size': 16, 'lr': 0.001}\n"
     ]
    }
   ],
   "source": [
    "table.sort_values(by=\"score\", ascending=False, inplace=True)\n",
    "best_params = table.drop('score', axis=1).iloc[0].to_dict()\n",
    "best_score = table.score.iloc[0]\n",
    "\n",
    "print('Best score: ', best_score)\n",
    "print('Best params: ')\n",
    "print(best_params)"
   ]
  },
  {
   "cell_type": "code",
   "execution_count": 31,
   "id": "ea623caf",
   "metadata": {},
   "outputs": [],
   "source": [
    "best_params = {k:v for k,v in best_params.items() if k!='lr'}"
   ]
  },
  {
   "cell_type": "code",
   "execution_count": 33,
   "id": "f803bc41",
   "metadata": {},
   "outputs": [
    {
     "data": {
      "text/plain": [
       "{'n_nodes': 32,\n",
       " 'n_layers': 2,\n",
       " 'dropout': 0.4,\n",
       " 'output_bias': True,\n",
       " 'epochs': 512,\n",
       " 'batch_size': 16}"
      ]
     },
     "execution_count": 33,
     "metadata": {},
     "output_type": "execute_result"
    }
   ],
   "source": [
    "best_params"
   ]
  },
  {
   "cell_type": "code",
   "execution_count": 35,
   "id": "f0dfc565",
   "metadata": {},
   "outputs": [
    {
     "name": "stdout",
     "output_type": "stream",
     "text": [
      "0:\t[0s / 0s],\t\ttrain_loss: 1.7313,\tval_loss: 1.6788\n",
      "1:\t[0s / 0s],\t\ttrain_loss: 1.6503,\tval_loss: 1.6891\n",
      "2:\t[0s / 0s],\t\ttrain_loss: 1.6329,\tval_loss: 1.6473\n",
      "3:\t[0s / 1s],\t\ttrain_loss: 1.6202,\tval_loss: 1.6489\n",
      "4:\t[0s / 1s],\t\ttrain_loss: 1.6130,\tval_loss: 1.7390\n",
      "5:\t[0s / 2s],\t\ttrain_loss: 1.6199,\tval_loss: 1.6872\n",
      "6:\t[0s / 2s],\t\ttrain_loss: 1.6152,\tval_loss: 1.6797\n",
      "7:\t[0s / 2s],\t\ttrain_loss: 1.6138,\tval_loss: 1.6823\n",
      "Epoch 00009: reducing learning rate of group 0 to 2.0000e-04.\n",
      "8:\t[0s / 2s],\t\ttrain_loss: 1.6162,\tval_loss: 1.6942\n",
      "9:\t[0s / 3s],\t\ttrain_loss: 1.6088,\tval_loss: 1.6521\n",
      "10:\t[0s / 3s],\t\ttrain_loss: 1.6084,\tval_loss: 1.6501\n",
      "11:\t[0s / 3s],\t\ttrain_loss: 1.6104,\tval_loss: 1.6508\n",
      "12:\t[0s / 4s],\t\ttrain_loss: 1.6110,\tval_loss: 1.6583\n",
      "13:\t[0s / 4s],\t\ttrain_loss: 1.5990,\tval_loss: 1.6517\n",
      "Epoch 00015: reducing learning rate of group 0 to 4.0000e-05.\n",
      "14:\t[0s / 4s],\t\ttrain_loss: 1.6041,\tval_loss: 1.6651\n",
      "15:\t[0s / 5s],\t\ttrain_loss: 1.6120,\tval_loss: 1.6529\n",
      "16:\t[0s / 5s],\t\ttrain_loss: 1.6066,\tval_loss: 1.6505\n",
      "17:\t[0s / 5s],\t\ttrain_loss: 1.6067,\tval_loss: 1.6930\n"
     ]
    },
    {
     "data": {
      "application/vnd.plotly.v1+json": {
       "config": {
        "plotlyServerURL": "https://plotly.com"
       },
       "data": [
        {
         "hovertemplate": "dataset=train_loss<br>index=%{x}<br>loss=%{y}<extra></extra>",
         "legendgroup": "train_loss",
         "line": {
          "color": "#636efa",
          "dash": "solid"
         },
         "mode": "lines",
         "name": "train_loss",
         "orientation": "v",
         "showlegend": true,
         "type": "scatter",
         "x": [
          0,
          1,
          2,
          3,
          4,
          5,
          6,
          7,
          8,
          9,
          10,
          11,
          12,
          13,
          14,
          15,
          16,
          17
         ],
         "xaxis": "x",
         "y": [
          1.7312914153894483,
          1.6503449306217344,
          1.6329381963051042,
          1.6202009809589804,
          1.6130070964842385,
          1.6198667696469735,
          1.6152203283455695,
          1.6137630614130778,
          1.6161832569988535,
          1.6088364351394395,
          1.6083941509109396,
          1.6104076101269784,
          1.6110010800403278,
          1.5989719668330062,
          1.6041492796360666,
          1.6119997712201948,
          1.606639089022141,
          1.6066820834921958
         ],
         "yaxis": "y"
        },
        {
         "hovertemplate": "dataset=val_loss<br>index=%{x}<br>loss=%{y}<extra></extra>",
         "legendgroup": "val_loss",
         "line": {
          "color": "#EF553B",
          "dash": "solid"
         },
         "mode": "lines",
         "name": "val_loss",
         "orientation": "v",
         "showlegend": true,
         "type": "scatter",
         "x": [
          0,
          1,
          2,
          3,
          4,
          5,
          6,
          7,
          8,
          9,
          10,
          11,
          12,
          13,
          14,
          15,
          16,
          17
         ],
         "xaxis": "x",
         "y": [
          1.6787878274917603,
          1.6890538930892944,
          1.6473186016082764,
          1.648941993713379,
          1.7389960289001465,
          1.6872236728668213,
          1.679735779762268,
          1.6823492050170898,
          1.6942002773284912,
          1.652126431465149,
          1.6501227617263794,
          1.6508122682571411,
          1.6582541465759277,
          1.6516951322555542,
          1.665074110031128,
          1.6529223918914795,
          1.6505374908447266,
          1.693049669265747
         ],
         "yaxis": "y"
        }
       ],
       "layout": {
        "height": 400,
        "legend": {
         "title": {
          "text": "dataset"
         },
         "tracegroupgap": 0
        },
        "margin": {
         "t": 60
        },
        "template": {
         "data": {
          "bar": [
           {
            "error_x": {
             "color": "#2a3f5f"
            },
            "error_y": {
             "color": "#2a3f5f"
            },
            "marker": {
             "line": {
              "color": "white",
              "width": 0.5
             }
            },
            "type": "bar"
           }
          ],
          "barpolar": [
           {
            "marker": {
             "line": {
              "color": "white",
              "width": 0.5
             }
            },
            "type": "barpolar"
           }
          ],
          "carpet": [
           {
            "aaxis": {
             "endlinecolor": "#2a3f5f",
             "gridcolor": "#C8D4E3",
             "linecolor": "#C8D4E3",
             "minorgridcolor": "#C8D4E3",
             "startlinecolor": "#2a3f5f"
            },
            "baxis": {
             "endlinecolor": "#2a3f5f",
             "gridcolor": "#C8D4E3",
             "linecolor": "#C8D4E3",
             "minorgridcolor": "#C8D4E3",
             "startlinecolor": "#2a3f5f"
            },
            "type": "carpet"
           }
          ],
          "choropleth": [
           {
            "colorbar": {
             "outlinewidth": 0,
             "ticks": ""
            },
            "type": "choropleth"
           }
          ],
          "contour": [
           {
            "colorbar": {
             "outlinewidth": 0,
             "ticks": ""
            },
            "colorscale": [
             [
              0,
              "#0d0887"
             ],
             [
              0.1111111111111111,
              "#46039f"
             ],
             [
              0.2222222222222222,
              "#7201a8"
             ],
             [
              0.3333333333333333,
              "#9c179e"
             ],
             [
              0.4444444444444444,
              "#bd3786"
             ],
             [
              0.5555555555555556,
              "#d8576b"
             ],
             [
              0.6666666666666666,
              "#ed7953"
             ],
             [
              0.7777777777777778,
              "#fb9f3a"
             ],
             [
              0.8888888888888888,
              "#fdca26"
             ],
             [
              1,
              "#f0f921"
             ]
            ],
            "type": "contour"
           }
          ],
          "contourcarpet": [
           {
            "colorbar": {
             "outlinewidth": 0,
             "ticks": ""
            },
            "type": "contourcarpet"
           }
          ],
          "heatmap": [
           {
            "colorbar": {
             "outlinewidth": 0,
             "ticks": ""
            },
            "colorscale": [
             [
              0,
              "#0d0887"
             ],
             [
              0.1111111111111111,
              "#46039f"
             ],
             [
              0.2222222222222222,
              "#7201a8"
             ],
             [
              0.3333333333333333,
              "#9c179e"
             ],
             [
              0.4444444444444444,
              "#bd3786"
             ],
             [
              0.5555555555555556,
              "#d8576b"
             ],
             [
              0.6666666666666666,
              "#ed7953"
             ],
             [
              0.7777777777777778,
              "#fb9f3a"
             ],
             [
              0.8888888888888888,
              "#fdca26"
             ],
             [
              1,
              "#f0f921"
             ]
            ],
            "type": "heatmap"
           }
          ],
          "heatmapgl": [
           {
            "colorbar": {
             "outlinewidth": 0,
             "ticks": ""
            },
            "colorscale": [
             [
              0,
              "#0d0887"
             ],
             [
              0.1111111111111111,
              "#46039f"
             ],
             [
              0.2222222222222222,
              "#7201a8"
             ],
             [
              0.3333333333333333,
              "#9c179e"
             ],
             [
              0.4444444444444444,
              "#bd3786"
             ],
             [
              0.5555555555555556,
              "#d8576b"
             ],
             [
              0.6666666666666666,
              "#ed7953"
             ],
             [
              0.7777777777777778,
              "#fb9f3a"
             ],
             [
              0.8888888888888888,
              "#fdca26"
             ],
             [
              1,
              "#f0f921"
             ]
            ],
            "type": "heatmapgl"
           }
          ],
          "histogram": [
           {
            "marker": {
             "colorbar": {
              "outlinewidth": 0,
              "ticks": ""
             }
            },
            "type": "histogram"
           }
          ],
          "histogram2d": [
           {
            "colorbar": {
             "outlinewidth": 0,
             "ticks": ""
            },
            "colorscale": [
             [
              0,
              "#0d0887"
             ],
             [
              0.1111111111111111,
              "#46039f"
             ],
             [
              0.2222222222222222,
              "#7201a8"
             ],
             [
              0.3333333333333333,
              "#9c179e"
             ],
             [
              0.4444444444444444,
              "#bd3786"
             ],
             [
              0.5555555555555556,
              "#d8576b"
             ],
             [
              0.6666666666666666,
              "#ed7953"
             ],
             [
              0.7777777777777778,
              "#fb9f3a"
             ],
             [
              0.8888888888888888,
              "#fdca26"
             ],
             [
              1,
              "#f0f921"
             ]
            ],
            "type": "histogram2d"
           }
          ],
          "histogram2dcontour": [
           {
            "colorbar": {
             "outlinewidth": 0,
             "ticks": ""
            },
            "colorscale": [
             [
              0,
              "#0d0887"
             ],
             [
              0.1111111111111111,
              "#46039f"
             ],
             [
              0.2222222222222222,
              "#7201a8"
             ],
             [
              0.3333333333333333,
              "#9c179e"
             ],
             [
              0.4444444444444444,
              "#bd3786"
             ],
             [
              0.5555555555555556,
              "#d8576b"
             ],
             [
              0.6666666666666666,
              "#ed7953"
             ],
             [
              0.7777777777777778,
              "#fb9f3a"
             ],
             [
              0.8888888888888888,
              "#fdca26"
             ],
             [
              1,
              "#f0f921"
             ]
            ],
            "type": "histogram2dcontour"
           }
          ],
          "mesh3d": [
           {
            "colorbar": {
             "outlinewidth": 0,
             "ticks": ""
            },
            "type": "mesh3d"
           }
          ],
          "parcoords": [
           {
            "line": {
             "colorbar": {
              "outlinewidth": 0,
              "ticks": ""
             }
            },
            "type": "parcoords"
           }
          ],
          "pie": [
           {
            "automargin": true,
            "type": "pie"
           }
          ],
          "scatter": [
           {
            "marker": {
             "colorbar": {
              "outlinewidth": 0,
              "ticks": ""
             }
            },
            "type": "scatter"
           }
          ],
          "scatter3d": [
           {
            "line": {
             "colorbar": {
              "outlinewidth": 0,
              "ticks": ""
             }
            },
            "marker": {
             "colorbar": {
              "outlinewidth": 0,
              "ticks": ""
             }
            },
            "type": "scatter3d"
           }
          ],
          "scattercarpet": [
           {
            "marker": {
             "colorbar": {
              "outlinewidth": 0,
              "ticks": ""
             }
            },
            "type": "scattercarpet"
           }
          ],
          "scattergeo": [
           {
            "marker": {
             "colorbar": {
              "outlinewidth": 0,
              "ticks": ""
             }
            },
            "type": "scattergeo"
           }
          ],
          "scattergl": [
           {
            "marker": {
             "colorbar": {
              "outlinewidth": 0,
              "ticks": ""
             }
            },
            "type": "scattergl"
           }
          ],
          "scattermapbox": [
           {
            "marker": {
             "colorbar": {
              "outlinewidth": 0,
              "ticks": ""
             }
            },
            "type": "scattermapbox"
           }
          ],
          "scatterpolar": [
           {
            "marker": {
             "colorbar": {
              "outlinewidth": 0,
              "ticks": ""
             }
            },
            "type": "scatterpolar"
           }
          ],
          "scatterpolargl": [
           {
            "marker": {
             "colorbar": {
              "outlinewidth": 0,
              "ticks": ""
             }
            },
            "type": "scatterpolargl"
           }
          ],
          "scatterternary": [
           {
            "marker": {
             "colorbar": {
              "outlinewidth": 0,
              "ticks": ""
             }
            },
            "type": "scatterternary"
           }
          ],
          "surface": [
           {
            "colorbar": {
             "outlinewidth": 0,
             "ticks": ""
            },
            "colorscale": [
             [
              0,
              "#0d0887"
             ],
             [
              0.1111111111111111,
              "#46039f"
             ],
             [
              0.2222222222222222,
              "#7201a8"
             ],
             [
              0.3333333333333333,
              "#9c179e"
             ],
             [
              0.4444444444444444,
              "#bd3786"
             ],
             [
              0.5555555555555556,
              "#d8576b"
             ],
             [
              0.6666666666666666,
              "#ed7953"
             ],
             [
              0.7777777777777778,
              "#fb9f3a"
             ],
             [
              0.8888888888888888,
              "#fdca26"
             ],
             [
              1,
              "#f0f921"
             ]
            ],
            "type": "surface"
           }
          ],
          "table": [
           {
            "cells": {
             "fill": {
              "color": "#EBF0F8"
             },
             "line": {
              "color": "white"
             }
            },
            "header": {
             "fill": {
              "color": "#C8D4E3"
             },
             "line": {
              "color": "white"
             }
            },
            "type": "table"
           }
          ]
         },
         "layout": {
          "annotationdefaults": {
           "arrowcolor": "#2a3f5f",
           "arrowhead": 0,
           "arrowwidth": 1
          },
          "autotypenumbers": "strict",
          "coloraxis": {
           "colorbar": {
            "outlinewidth": 0,
            "ticks": ""
           }
          },
          "colorscale": {
           "diverging": [
            [
             0,
             "#8e0152"
            ],
            [
             0.1,
             "#c51b7d"
            ],
            [
             0.2,
             "#de77ae"
            ],
            [
             0.3,
             "#f1b6da"
            ],
            [
             0.4,
             "#fde0ef"
            ],
            [
             0.5,
             "#f7f7f7"
            ],
            [
             0.6,
             "#e6f5d0"
            ],
            [
             0.7,
             "#b8e186"
            ],
            [
             0.8,
             "#7fbc41"
            ],
            [
             0.9,
             "#4d9221"
            ],
            [
             1,
             "#276419"
            ]
           ],
           "sequential": [
            [
             0,
             "#0d0887"
            ],
            [
             0.1111111111111111,
             "#46039f"
            ],
            [
             0.2222222222222222,
             "#7201a8"
            ],
            [
             0.3333333333333333,
             "#9c179e"
            ],
            [
             0.4444444444444444,
             "#bd3786"
            ],
            [
             0.5555555555555556,
             "#d8576b"
            ],
            [
             0.6666666666666666,
             "#ed7953"
            ],
            [
             0.7777777777777778,
             "#fb9f3a"
            ],
            [
             0.8888888888888888,
             "#fdca26"
            ],
            [
             1,
             "#f0f921"
            ]
           ],
           "sequentialminus": [
            [
             0,
             "#0d0887"
            ],
            [
             0.1111111111111111,
             "#46039f"
            ],
            [
             0.2222222222222222,
             "#7201a8"
            ],
            [
             0.3333333333333333,
             "#9c179e"
            ],
            [
             0.4444444444444444,
             "#bd3786"
            ],
            [
             0.5555555555555556,
             "#d8576b"
            ],
            [
             0.6666666666666666,
             "#ed7953"
            ],
            [
             0.7777777777777778,
             "#fb9f3a"
            ],
            [
             0.8888888888888888,
             "#fdca26"
            ],
            [
             1,
             "#f0f921"
            ]
           ]
          },
          "colorway": [
           "#636efa",
           "#EF553B",
           "#00cc96",
           "#ab63fa",
           "#FFA15A",
           "#19d3f3",
           "#FF6692",
           "#B6E880",
           "#FF97FF",
           "#FECB52"
          ],
          "font": {
           "color": "#2a3f5f"
          },
          "geo": {
           "bgcolor": "white",
           "lakecolor": "white",
           "landcolor": "white",
           "showlakes": true,
           "showland": true,
           "subunitcolor": "#C8D4E3"
          },
          "hoverlabel": {
           "align": "left"
          },
          "hovermode": "closest",
          "mapbox": {
           "style": "light"
          },
          "paper_bgcolor": "white",
          "plot_bgcolor": "white",
          "polar": {
           "angularaxis": {
            "gridcolor": "#EBF0F8",
            "linecolor": "#EBF0F8",
            "ticks": ""
           },
           "bgcolor": "white",
           "radialaxis": {
            "gridcolor": "#EBF0F8",
            "linecolor": "#EBF0F8",
            "ticks": ""
           }
          },
          "scene": {
           "xaxis": {
            "backgroundcolor": "white",
            "gridcolor": "#DFE8F3",
            "gridwidth": 2,
            "linecolor": "#EBF0F8",
            "showbackground": true,
            "ticks": "",
            "zerolinecolor": "#EBF0F8"
           },
           "yaxis": {
            "backgroundcolor": "white",
            "gridcolor": "#DFE8F3",
            "gridwidth": 2,
            "linecolor": "#EBF0F8",
            "showbackground": true,
            "ticks": "",
            "zerolinecolor": "#EBF0F8"
           },
           "zaxis": {
            "backgroundcolor": "white",
            "gridcolor": "#DFE8F3",
            "gridwidth": 2,
            "linecolor": "#EBF0F8",
            "showbackground": true,
            "ticks": "",
            "zerolinecolor": "#EBF0F8"
           }
          },
          "shapedefaults": {
           "line": {
            "color": "#2a3f5f"
           }
          },
          "ternary": {
           "aaxis": {
            "gridcolor": "#DFE8F3",
            "linecolor": "#A2B1C6",
            "ticks": ""
           },
           "baxis": {
            "gridcolor": "#DFE8F3",
            "linecolor": "#A2B1C6",
            "ticks": ""
           },
           "bgcolor": "white",
           "caxis": {
            "gridcolor": "#DFE8F3",
            "linecolor": "#A2B1C6",
            "ticks": ""
           }
          },
          "title": {
           "x": 0.05
          },
          "xaxis": {
           "automargin": true,
           "gridcolor": "#EBF0F8",
           "linecolor": "#EBF0F8",
           "ticks": "",
           "title": {
            "standoff": 15
           },
           "zerolinecolor": "#EBF0F8",
           "zerolinewidth": 2
          },
          "yaxis": {
           "automargin": true,
           "gridcolor": "#EBF0F8",
           "linecolor": "#EBF0F8",
           "ticks": "",
           "title": {
            "standoff": 15
           },
           "zerolinecolor": "#EBF0F8",
           "zerolinewidth": 2
          }
         }
        },
        "width": 800,
        "xaxis": {
         "anchor": "y",
         "domain": [
          0,
          1
         ],
         "title": {
          "text": "index"
         }
        },
        "yaxis": {
         "anchor": "x",
         "domain": [
          0,
          1
         ],
         "title": {
          "text": "loss"
         }
        }
       }
      },
      "text/html": [
       "<div>                            <div id=\"453453e0-2748-4be0-b3d2-0085c3d1a4c8\" class=\"plotly-graph-div\" style=\"height:400px; width:800px;\"></div>            <script type=\"text/javascript\">                require([\"plotly\"], function(Plotly) {                    window.PLOTLYENV=window.PLOTLYENV || {};                                    if (document.getElementById(\"453453e0-2748-4be0-b3d2-0085c3d1a4c8\")) {                    Plotly.newPlot(                        \"453453e0-2748-4be0-b3d2-0085c3d1a4c8\",                        [{\"hovertemplate\": \"dataset=train_loss<br>index=%{x}<br>loss=%{y}<extra></extra>\", \"legendgroup\": \"train_loss\", \"line\": {\"color\": \"#636efa\", \"dash\": \"solid\"}, \"mode\": \"lines\", \"name\": \"train_loss\", \"orientation\": \"v\", \"showlegend\": true, \"type\": \"scatter\", \"x\": [0, 1, 2, 3, 4, 5, 6, 7, 8, 9, 10, 11, 12, 13, 14, 15, 16, 17], \"xaxis\": \"x\", \"y\": [1.7312914153894483, 1.6503449306217344, 1.6329381963051042, 1.6202009809589804, 1.6130070964842385, 1.6198667696469735, 1.6152203283455695, 1.6137630614130778, 1.6161832569988535, 1.6088364351394395, 1.6083941509109396, 1.6104076101269784, 1.6110010800403278, 1.5989719668330062, 1.6041492796360666, 1.6119997712201948, 1.606639089022141, 1.6066820834921958], \"yaxis\": \"y\"}, {\"hovertemplate\": \"dataset=val_loss<br>index=%{x}<br>loss=%{y}<extra></extra>\", \"legendgroup\": \"val_loss\", \"line\": {\"color\": \"#EF553B\", \"dash\": \"solid\"}, \"mode\": \"lines\", \"name\": \"val_loss\", \"orientation\": \"v\", \"showlegend\": true, \"type\": \"scatter\", \"x\": [0, 1, 2, 3, 4, 5, 6, 7, 8, 9, 10, 11, 12, 13, 14, 15, 16, 17], \"xaxis\": \"x\", \"y\": [1.6787878274917603, 1.6890538930892944, 1.6473186016082764, 1.648941993713379, 1.7389960289001465, 1.6872236728668213, 1.679735779762268, 1.6823492050170898, 1.6942002773284912, 1.652126431465149, 1.6501227617263794, 1.6508122682571411, 1.6582541465759277, 1.6516951322555542, 1.665074110031128, 1.6529223918914795, 1.6505374908447266, 1.693049669265747], \"yaxis\": \"y\"}],                        {\"height\": 400, \"legend\": {\"title\": {\"text\": \"dataset\"}, \"tracegroupgap\": 0}, \"margin\": {\"t\": 60}, \"template\": {\"data\": {\"bar\": [{\"error_x\": {\"color\": \"#2a3f5f\"}, \"error_y\": {\"color\": \"#2a3f5f\"}, \"marker\": {\"line\": {\"color\": \"white\", \"width\": 0.5}}, \"type\": \"bar\"}], \"barpolar\": [{\"marker\": {\"line\": {\"color\": \"white\", \"width\": 0.5}}, \"type\": \"barpolar\"}], \"carpet\": [{\"aaxis\": {\"endlinecolor\": \"#2a3f5f\", \"gridcolor\": \"#C8D4E3\", \"linecolor\": \"#C8D4E3\", \"minorgridcolor\": \"#C8D4E3\", \"startlinecolor\": \"#2a3f5f\"}, \"baxis\": {\"endlinecolor\": \"#2a3f5f\", \"gridcolor\": \"#C8D4E3\", \"linecolor\": \"#C8D4E3\", \"minorgridcolor\": \"#C8D4E3\", \"startlinecolor\": \"#2a3f5f\"}, \"type\": \"carpet\"}], \"choropleth\": [{\"colorbar\": {\"outlinewidth\": 0, \"ticks\": \"\"}, \"type\": \"choropleth\"}], \"contour\": [{\"colorbar\": {\"outlinewidth\": 0, \"ticks\": \"\"}, \"colorscale\": [[0.0, \"#0d0887\"], [0.1111111111111111, \"#46039f\"], [0.2222222222222222, \"#7201a8\"], [0.3333333333333333, \"#9c179e\"], [0.4444444444444444, \"#bd3786\"], [0.5555555555555556, \"#d8576b\"], [0.6666666666666666, \"#ed7953\"], [0.7777777777777778, \"#fb9f3a\"], [0.8888888888888888, \"#fdca26\"], [1.0, \"#f0f921\"]], \"type\": \"contour\"}], \"contourcarpet\": [{\"colorbar\": {\"outlinewidth\": 0, \"ticks\": \"\"}, \"type\": \"contourcarpet\"}], \"heatmap\": [{\"colorbar\": {\"outlinewidth\": 0, \"ticks\": \"\"}, \"colorscale\": [[0.0, \"#0d0887\"], [0.1111111111111111, \"#46039f\"], [0.2222222222222222, \"#7201a8\"], [0.3333333333333333, \"#9c179e\"], [0.4444444444444444, \"#bd3786\"], [0.5555555555555556, \"#d8576b\"], [0.6666666666666666, \"#ed7953\"], [0.7777777777777778, \"#fb9f3a\"], [0.8888888888888888, \"#fdca26\"], [1.0, \"#f0f921\"]], \"type\": \"heatmap\"}], \"heatmapgl\": [{\"colorbar\": {\"outlinewidth\": 0, \"ticks\": \"\"}, \"colorscale\": [[0.0, \"#0d0887\"], [0.1111111111111111, \"#46039f\"], [0.2222222222222222, \"#7201a8\"], [0.3333333333333333, \"#9c179e\"], [0.4444444444444444, \"#bd3786\"], [0.5555555555555556, \"#d8576b\"], [0.6666666666666666, \"#ed7953\"], [0.7777777777777778, \"#fb9f3a\"], [0.8888888888888888, \"#fdca26\"], [1.0, \"#f0f921\"]], \"type\": \"heatmapgl\"}], \"histogram\": [{\"marker\": {\"colorbar\": {\"outlinewidth\": 0, \"ticks\": \"\"}}, \"type\": \"histogram\"}], \"histogram2d\": [{\"colorbar\": {\"outlinewidth\": 0, \"ticks\": \"\"}, \"colorscale\": [[0.0, \"#0d0887\"], [0.1111111111111111, \"#46039f\"], [0.2222222222222222, \"#7201a8\"], [0.3333333333333333, \"#9c179e\"], [0.4444444444444444, \"#bd3786\"], [0.5555555555555556, \"#d8576b\"], [0.6666666666666666, \"#ed7953\"], [0.7777777777777778, \"#fb9f3a\"], [0.8888888888888888, \"#fdca26\"], [1.0, \"#f0f921\"]], \"type\": \"histogram2d\"}], \"histogram2dcontour\": [{\"colorbar\": {\"outlinewidth\": 0, \"ticks\": \"\"}, \"colorscale\": [[0.0, \"#0d0887\"], [0.1111111111111111, \"#46039f\"], [0.2222222222222222, \"#7201a8\"], [0.3333333333333333, \"#9c179e\"], [0.4444444444444444, \"#bd3786\"], [0.5555555555555556, \"#d8576b\"], [0.6666666666666666, \"#ed7953\"], [0.7777777777777778, \"#fb9f3a\"], [0.8888888888888888, \"#fdca26\"], [1.0, \"#f0f921\"]], \"type\": \"histogram2dcontour\"}], \"mesh3d\": [{\"colorbar\": {\"outlinewidth\": 0, \"ticks\": \"\"}, \"type\": \"mesh3d\"}], \"parcoords\": [{\"line\": {\"colorbar\": {\"outlinewidth\": 0, \"ticks\": \"\"}}, \"type\": \"parcoords\"}], \"pie\": [{\"automargin\": true, \"type\": \"pie\"}], \"scatter\": [{\"marker\": {\"colorbar\": {\"outlinewidth\": 0, \"ticks\": \"\"}}, \"type\": \"scatter\"}], \"scatter3d\": [{\"line\": {\"colorbar\": {\"outlinewidth\": 0, \"ticks\": \"\"}}, \"marker\": {\"colorbar\": {\"outlinewidth\": 0, \"ticks\": \"\"}}, \"type\": \"scatter3d\"}], \"scattercarpet\": [{\"marker\": {\"colorbar\": {\"outlinewidth\": 0, \"ticks\": \"\"}}, \"type\": \"scattercarpet\"}], \"scattergeo\": [{\"marker\": {\"colorbar\": {\"outlinewidth\": 0, \"ticks\": \"\"}}, \"type\": \"scattergeo\"}], \"scattergl\": [{\"marker\": {\"colorbar\": {\"outlinewidth\": 0, \"ticks\": \"\"}}, \"type\": \"scattergl\"}], \"scattermapbox\": [{\"marker\": {\"colorbar\": {\"outlinewidth\": 0, \"ticks\": \"\"}}, \"type\": \"scattermapbox\"}], \"scatterpolar\": [{\"marker\": {\"colorbar\": {\"outlinewidth\": 0, \"ticks\": \"\"}}, \"type\": \"scatterpolar\"}], \"scatterpolargl\": [{\"marker\": {\"colorbar\": {\"outlinewidth\": 0, \"ticks\": \"\"}}, \"type\": \"scatterpolargl\"}], \"scatterternary\": [{\"marker\": {\"colorbar\": {\"outlinewidth\": 0, \"ticks\": \"\"}}, \"type\": \"scatterternary\"}], \"surface\": [{\"colorbar\": {\"outlinewidth\": 0, \"ticks\": \"\"}, \"colorscale\": [[0.0, \"#0d0887\"], [0.1111111111111111, \"#46039f\"], [0.2222222222222222, \"#7201a8\"], [0.3333333333333333, \"#9c179e\"], [0.4444444444444444, \"#bd3786\"], [0.5555555555555556, \"#d8576b\"], [0.6666666666666666, \"#ed7953\"], [0.7777777777777778, \"#fb9f3a\"], [0.8888888888888888, \"#fdca26\"], [1.0, \"#f0f921\"]], \"type\": \"surface\"}], \"table\": [{\"cells\": {\"fill\": {\"color\": \"#EBF0F8\"}, \"line\": {\"color\": \"white\"}}, \"header\": {\"fill\": {\"color\": \"#C8D4E3\"}, \"line\": {\"color\": \"white\"}}, \"type\": \"table\"}]}, \"layout\": {\"annotationdefaults\": {\"arrowcolor\": \"#2a3f5f\", \"arrowhead\": 0, \"arrowwidth\": 1}, \"autotypenumbers\": \"strict\", \"coloraxis\": {\"colorbar\": {\"outlinewidth\": 0, \"ticks\": \"\"}}, \"colorscale\": {\"diverging\": [[0, \"#8e0152\"], [0.1, \"#c51b7d\"], [0.2, \"#de77ae\"], [0.3, \"#f1b6da\"], [0.4, \"#fde0ef\"], [0.5, \"#f7f7f7\"], [0.6, \"#e6f5d0\"], [0.7, \"#b8e186\"], [0.8, \"#7fbc41\"], [0.9, \"#4d9221\"], [1, \"#276419\"]], \"sequential\": [[0.0, \"#0d0887\"], [0.1111111111111111, \"#46039f\"], [0.2222222222222222, \"#7201a8\"], [0.3333333333333333, \"#9c179e\"], [0.4444444444444444, \"#bd3786\"], [0.5555555555555556, \"#d8576b\"], [0.6666666666666666, \"#ed7953\"], [0.7777777777777778, \"#fb9f3a\"], [0.8888888888888888, \"#fdca26\"], [1.0, \"#f0f921\"]], \"sequentialminus\": [[0.0, \"#0d0887\"], [0.1111111111111111, \"#46039f\"], [0.2222222222222222, \"#7201a8\"], [0.3333333333333333, \"#9c179e\"], [0.4444444444444444, \"#bd3786\"], [0.5555555555555556, \"#d8576b\"], [0.6666666666666666, \"#ed7953\"], [0.7777777777777778, \"#fb9f3a\"], [0.8888888888888888, \"#fdca26\"], [1.0, \"#f0f921\"]]}, \"colorway\": [\"#636efa\", \"#EF553B\", \"#00cc96\", \"#ab63fa\", \"#FFA15A\", \"#19d3f3\", \"#FF6692\", \"#B6E880\", \"#FF97FF\", \"#FECB52\"], \"font\": {\"color\": \"#2a3f5f\"}, \"geo\": {\"bgcolor\": \"white\", \"lakecolor\": \"white\", \"landcolor\": \"white\", \"showlakes\": true, \"showland\": true, \"subunitcolor\": \"#C8D4E3\"}, \"hoverlabel\": {\"align\": \"left\"}, \"hovermode\": \"closest\", \"mapbox\": {\"style\": \"light\"}, \"paper_bgcolor\": \"white\", \"plot_bgcolor\": \"white\", \"polar\": {\"angularaxis\": {\"gridcolor\": \"#EBF0F8\", \"linecolor\": \"#EBF0F8\", \"ticks\": \"\"}, \"bgcolor\": \"white\", \"radialaxis\": {\"gridcolor\": \"#EBF0F8\", \"linecolor\": \"#EBF0F8\", \"ticks\": \"\"}}, \"scene\": {\"xaxis\": {\"backgroundcolor\": \"white\", \"gridcolor\": \"#DFE8F3\", \"gridwidth\": 2, \"linecolor\": \"#EBF0F8\", \"showbackground\": true, \"ticks\": \"\", \"zerolinecolor\": \"#EBF0F8\"}, \"yaxis\": {\"backgroundcolor\": \"white\", \"gridcolor\": \"#DFE8F3\", \"gridwidth\": 2, \"linecolor\": \"#EBF0F8\", \"showbackground\": true, \"ticks\": \"\", \"zerolinecolor\": \"#EBF0F8\"}, \"zaxis\": {\"backgroundcolor\": \"white\", \"gridcolor\": \"#DFE8F3\", \"gridwidth\": 2, \"linecolor\": \"#EBF0F8\", \"showbackground\": true, \"ticks\": \"\", \"zerolinecolor\": \"#EBF0F8\"}}, \"shapedefaults\": {\"line\": {\"color\": \"#2a3f5f\"}}, \"ternary\": {\"aaxis\": {\"gridcolor\": \"#DFE8F3\", \"linecolor\": \"#A2B1C6\", \"ticks\": \"\"}, \"baxis\": {\"gridcolor\": \"#DFE8F3\", \"linecolor\": \"#A2B1C6\", \"ticks\": \"\"}, \"bgcolor\": \"white\", \"caxis\": {\"gridcolor\": \"#DFE8F3\", \"linecolor\": \"#A2B1C6\", \"ticks\": \"\"}}, \"title\": {\"x\": 0.05}, \"xaxis\": {\"automargin\": true, \"gridcolor\": \"#EBF0F8\", \"linecolor\": \"#EBF0F8\", \"ticks\": \"\", \"title\": {\"standoff\": 15}, \"zerolinecolor\": \"#EBF0F8\", \"zerolinewidth\": 2}, \"yaxis\": {\"automargin\": true, \"gridcolor\": \"#EBF0F8\", \"linecolor\": \"#EBF0F8\", \"ticks\": \"\", \"title\": {\"standoff\": 15}, \"zerolinecolor\": \"#EBF0F8\", \"zerolinewidth\": 2}}}, \"width\": 800, \"xaxis\": {\"anchor\": \"y\", \"domain\": [0.0, 1.0], \"title\": {\"text\": \"index\"}}, \"yaxis\": {\"anchor\": \"x\", \"domain\": [0.0, 1.0], \"title\": {\"text\": \"loss\"}}},                        {\"responsive\": true}                    ).then(function(){\n",
       "                            \n",
       "var gd = document.getElementById('453453e0-2748-4be0-b3d2-0085c3d1a4c8');\n",
       "var x = new MutationObserver(function (mutations, observer) {{\n",
       "        var display = window.getComputedStyle(gd).display;\n",
       "        if (!display || display === 'none') {{\n",
       "            console.log([gd, 'removed!']);\n",
       "            Plotly.purge(gd);\n",
       "            observer.disconnect();\n",
       "        }}\n",
       "}});\n",
       "\n",
       "// Listen for the removal of the full notebook cells\n",
       "var notebookContainer = gd.closest('#notebook-container');\n",
       "if (notebookContainer) {{\n",
       "    x.observe(notebookContainer, {childList: true});\n",
       "}}\n",
       "\n",
       "// Listen for the clearing of the current output cell\n",
       "var outputEl = gd.closest('.output');\n",
       "if (outputEl) {{\n",
       "    x.observe(outputEl, {childList: true});\n",
       "}}\n",
       "\n",
       "                        })                };                });            </script>        </div>"
      ]
     },
     "metadata": {},
     "output_type": "display_data"
    },
    {
     "name": "stdout",
     "output_type": "stream",
     "text": [
      "score 0.5913055399600465\n"
     ]
    }
   ],
   "source": [
    "params = {\n",
    "    'n_nodes': 32,\n",
    "    'n_layers': 2,\n",
    "    'dropout': 0.4, \n",
    "    'output_bias': False, \n",
    "    'epochs': 512, \n",
    "    'batch_size': 16\n",
    "}\n",
    "\n",
    "logs_df, model, score = train_deep_surv(\n",
    "    train, val, test, CoxPH, out_features = 1, tolerance=10, \n",
    "    print_lr=True, print_logs=True, verbose = True,\n",
    "    **params\n",
    ")\n",
    "\n",
    "print('score', score)"
   ]
  },
  {
   "cell_type": "markdown",
   "id": "ff5712c7",
   "metadata": {},
   "source": [
    "# 3. DeepHit"
   ]
  },
  {
   "cell_type": "code",
   "execution_count": 145,
   "id": "254ca538",
   "metadata": {},
   "outputs": [],
   "source": [
    "from pycox.models import DeepHitSingle"
   ]
  },
  {
   "cell_type": "code",
   "execution_count": 146,
   "id": "b39cd9bf",
   "metadata": {},
   "outputs": [],
   "source": [
    "num_durations = int(df[col_target].max())\n",
    "labtrans = DeepHitSingle.label_transform(num_durations)"
   ]
  },
  {
   "cell_type": "code",
   "execution_count": 147,
   "id": "43ca6c58",
   "metadata": {},
   "outputs": [],
   "source": [
    "get_target = lambda df: (df[col_target].values, df['censored'].values)\n",
    "\n",
    "y_train = labtrans.fit_transform(*get_target(Xy_train))\n",
    "y_val = labtrans.transform(*get_target(Xy_val))\n",
    "\n",
    "train = (np.array(Xy_train[cols_x]).astype(np.float32), y_train)\n",
    "val = (np.array(Xy_val[cols_x]).astype(np.float32), y_val)\n",
    "test = (np.array(Xy_test[cols_x]).astype(np.float32), y_test)"
   ]
  },
  {
   "cell_type": "code",
   "execution_count": 152,
   "id": "bab86099",
   "metadata": {},
   "outputs": [],
   "source": [
    "params = {\n",
    "    'n_nodes': 32,\n",
    "    'out_features': num_durations,\n",
    "    'dropout': 0.1,\n",
    "    'model_params': {'alpha': 0.2, 'sigma': 0.1, 'duration_index': labtrans.cuts},\n",
    "    'epochs': 512,\n",
    "    'batch_size': 16,\n",
    "    'discrete': True,\n",
    "    'output_bias': True,\n",
    "}"
   ]
  },
  {
   "cell_type": "code",
   "execution_count": 153,
   "id": "28393d34",
   "metadata": {},
   "outputs": [
    {
     "data": {
      "application/vnd.plotly.v1+json": {
       "config": {
        "plotlyServerURL": "https://plotly.com"
       },
       "data": [
        {
         "hovertemplate": "x=%{x}<br>y=%{y}<extra></extra>",
         "legendgroup": "",
         "line": {
          "color": "#636efa",
          "dash": "solid"
         },
         "mode": "lines",
         "name": "",
         "orientation": "v",
         "showlegend": false,
         "type": "scatter",
         "x": [
          1e-07,
          1.2045035402587822e-07,
          1.4508287784959398e-07,
          1.7475284000076842e-07,
          2.1049041445120208e-07,
          2.5353644939701124e-07,
          3.0538555088334166e-07,
          3.678379771828635e-07,
          4.430621457583883e-07,
          5.336699231206313e-07,
          6.428073117284325e-07,
          7.742636826811276e-07,
          9.326033468832207e-07,
          1.1233240329780285e-06,
          1.3530477745798083e-06,
          1.6297508346206458e-06,
          1.963040650040273e-06,
          2.3644894126454104e-06,
          2.8480358684358054e-06,
          3.430469286314923e-06,
          4.132012400115343e-06,
          4.9770235643321185e-06,
          5.99484250318942e-06,
          7.220809018385476e-06,
          8.697490026177848e-06,
          1.0476157527896668e-05,
          1.2618568830660228e-05,
          1.5199110829529368e-05,
          1.830738280295372e-05,
          2.2051307399030502e-05,
          2.656087782946692e-05,
          3.199267137797391e-05,
          3.853528593710538e-05,
          4.64158883361279e-05,
          5.590810182512238e-05,
          6.73415065775084e-05,
          8.111308307896891e-05,
          9.77009957299228e-05,
          0.00011768119524350017,
          0.00014174741629268092,
          0.00017073526474706957,
          0.00020565123083486573,
          0.0002477076355991719,
          0.00029836472402833486,
          0.00035938136638046387,
          0.00043287612810830723,
          0.0005214008287999703,
          0.0006280291441834275,
          0.0007564633275546315,
          0.0009111627561154925,
          0.0010974987654930601,
          0.001321941148466034,
          0.0015922827933410983,
          0.0019179102616724958,
          0.0023101297000831687,
          0.002782559402207136,
          0.0033516026509388557,
          0.004037017258596572,
          0.0048626015800653745,
          0.005857020818056691,
          0.0070548023107186745,
          0.00849753435908648,
          0.010235310218990308,
          0.012328467394420718,
          0.01484968262254472,
          0.017886495290574435,
          0.02154434690031894,
          0.025950242113997487,
          0.031257158496882514,
          0.03764935806792487,
          0.04534878508128605,
          0.05462277217684369,
          0.06579332246575716,
          0.07924828983539216,
          0.09545484566618392,
          0.11497569953977421,
          0.13848863713938808,
          0.16681005372000682,
          0.20092330025650584,
          0.2420128264794396,
          0.29150530628251936
         ],
         "xaxis": "x",
         "y": [
          1.9628843069076538,
          1.8847577571868896,
          1.1583913564682007,
          1.4331982135772705,
          1.4322588443756104,
          1.5577257871627808,
          1.4423878192901611,
          1.6830905675888062,
          1.5606800317764282,
          0.8773156404495239,
          0.9419921040534973,
          1.5403918027877808,
          1.2885260581970215,
          1.5648388862609863,
          0.8968050479888916,
          1.5443532466888428,
          1.1995116472244263,
          1.6515018939971924,
          1.0148041248321533,
          1.414125919342041,
          1.5726516246795654,
          1.5803940296173096,
          1.712209939956665,
          1.2186799049377441,
          1.2927998304367065,
          1.7556333541870117,
          1.5269347429275513,
          0.848700761795044,
          1.2571053504943848,
          1.5534335374832153,
          1.410663366317749,
          1.367431640625,
          1.400939702987671,
          1.419379472732544,
          1.2862130403518677,
          1.464767575263977,
          1.8903635740280151,
          1.3941601514816284,
          1.4338908195495605,
          1.4639465808868408,
          1.673445463180542,
          1.2644022703170776,
          1.2490503787994385,
          1.8432801961898804,
          1.7967742681503296,
          1.4535818099975586,
          1.687538743019104,
          1.186852216720581,
          1.2722151279449463,
          1.3131321668624878,
          1.3005740642547607,
          1.1608833074569702,
          1.2721997499465942,
          1.264304518699646,
          1.5314106941223145,
          1.3988491296768188,
          1.444074034690857,
          1.0886768102645874,
          1.182122826576233,
          1.4223021268844604,
          1.3322218656539917,
          1.1763801574707031,
          1.5821352005004883,
          0.7686691284179688,
          0.8690181374549866,
          1.4986443519592285,
          1.734593391418457,
          1.3532639741897583,
          1.5824884176254272,
          1.2578381299972534,
          1.4331611394882202,
          1.7974590063095093,
          2.0865859985351562,
          1.5001322031021118,
          1.2731717824935913,
          1.5547112226486206,
          4.112077713012695,
          1.8741977214813232,
          1.9569109678268433,
          1.901230812072754,
          192.20278930664062
         ],
         "yaxis": "y"
        }
       ],
       "layout": {
        "height": 400,
        "legend": {
         "tracegroupgap": 0
        },
        "margin": {
         "t": 60
        },
        "template": {
         "data": {
          "bar": [
           {
            "error_x": {
             "color": "#2a3f5f"
            },
            "error_y": {
             "color": "#2a3f5f"
            },
            "marker": {
             "line": {
              "color": "white",
              "width": 0.5
             }
            },
            "type": "bar"
           }
          ],
          "barpolar": [
           {
            "marker": {
             "line": {
              "color": "white",
              "width": 0.5
             }
            },
            "type": "barpolar"
           }
          ],
          "carpet": [
           {
            "aaxis": {
             "endlinecolor": "#2a3f5f",
             "gridcolor": "#C8D4E3",
             "linecolor": "#C8D4E3",
             "minorgridcolor": "#C8D4E3",
             "startlinecolor": "#2a3f5f"
            },
            "baxis": {
             "endlinecolor": "#2a3f5f",
             "gridcolor": "#C8D4E3",
             "linecolor": "#C8D4E3",
             "minorgridcolor": "#C8D4E3",
             "startlinecolor": "#2a3f5f"
            },
            "type": "carpet"
           }
          ],
          "choropleth": [
           {
            "colorbar": {
             "outlinewidth": 0,
             "ticks": ""
            },
            "type": "choropleth"
           }
          ],
          "contour": [
           {
            "colorbar": {
             "outlinewidth": 0,
             "ticks": ""
            },
            "colorscale": [
             [
              0,
              "#0d0887"
             ],
             [
              0.1111111111111111,
              "#46039f"
             ],
             [
              0.2222222222222222,
              "#7201a8"
             ],
             [
              0.3333333333333333,
              "#9c179e"
             ],
             [
              0.4444444444444444,
              "#bd3786"
             ],
             [
              0.5555555555555556,
              "#d8576b"
             ],
             [
              0.6666666666666666,
              "#ed7953"
             ],
             [
              0.7777777777777778,
              "#fb9f3a"
             ],
             [
              0.8888888888888888,
              "#fdca26"
             ],
             [
              1,
              "#f0f921"
             ]
            ],
            "type": "contour"
           }
          ],
          "contourcarpet": [
           {
            "colorbar": {
             "outlinewidth": 0,
             "ticks": ""
            },
            "type": "contourcarpet"
           }
          ],
          "heatmap": [
           {
            "colorbar": {
             "outlinewidth": 0,
             "ticks": ""
            },
            "colorscale": [
             [
              0,
              "#0d0887"
             ],
             [
              0.1111111111111111,
              "#46039f"
             ],
             [
              0.2222222222222222,
              "#7201a8"
             ],
             [
              0.3333333333333333,
              "#9c179e"
             ],
             [
              0.4444444444444444,
              "#bd3786"
             ],
             [
              0.5555555555555556,
              "#d8576b"
             ],
             [
              0.6666666666666666,
              "#ed7953"
             ],
             [
              0.7777777777777778,
              "#fb9f3a"
             ],
             [
              0.8888888888888888,
              "#fdca26"
             ],
             [
              1,
              "#f0f921"
             ]
            ],
            "type": "heatmap"
           }
          ],
          "heatmapgl": [
           {
            "colorbar": {
             "outlinewidth": 0,
             "ticks": ""
            },
            "colorscale": [
             [
              0,
              "#0d0887"
             ],
             [
              0.1111111111111111,
              "#46039f"
             ],
             [
              0.2222222222222222,
              "#7201a8"
             ],
             [
              0.3333333333333333,
              "#9c179e"
             ],
             [
              0.4444444444444444,
              "#bd3786"
             ],
             [
              0.5555555555555556,
              "#d8576b"
             ],
             [
              0.6666666666666666,
              "#ed7953"
             ],
             [
              0.7777777777777778,
              "#fb9f3a"
             ],
             [
              0.8888888888888888,
              "#fdca26"
             ],
             [
              1,
              "#f0f921"
             ]
            ],
            "type": "heatmapgl"
           }
          ],
          "histogram": [
           {
            "marker": {
             "colorbar": {
              "outlinewidth": 0,
              "ticks": ""
             }
            },
            "type": "histogram"
           }
          ],
          "histogram2d": [
           {
            "colorbar": {
             "outlinewidth": 0,
             "ticks": ""
            },
            "colorscale": [
             [
              0,
              "#0d0887"
             ],
             [
              0.1111111111111111,
              "#46039f"
             ],
             [
              0.2222222222222222,
              "#7201a8"
             ],
             [
              0.3333333333333333,
              "#9c179e"
             ],
             [
              0.4444444444444444,
              "#bd3786"
             ],
             [
              0.5555555555555556,
              "#d8576b"
             ],
             [
              0.6666666666666666,
              "#ed7953"
             ],
             [
              0.7777777777777778,
              "#fb9f3a"
             ],
             [
              0.8888888888888888,
              "#fdca26"
             ],
             [
              1,
              "#f0f921"
             ]
            ],
            "type": "histogram2d"
           }
          ],
          "histogram2dcontour": [
           {
            "colorbar": {
             "outlinewidth": 0,
             "ticks": ""
            },
            "colorscale": [
             [
              0,
              "#0d0887"
             ],
             [
              0.1111111111111111,
              "#46039f"
             ],
             [
              0.2222222222222222,
              "#7201a8"
             ],
             [
              0.3333333333333333,
              "#9c179e"
             ],
             [
              0.4444444444444444,
              "#bd3786"
             ],
             [
              0.5555555555555556,
              "#d8576b"
             ],
             [
              0.6666666666666666,
              "#ed7953"
             ],
             [
              0.7777777777777778,
              "#fb9f3a"
             ],
             [
              0.8888888888888888,
              "#fdca26"
             ],
             [
              1,
              "#f0f921"
             ]
            ],
            "type": "histogram2dcontour"
           }
          ],
          "mesh3d": [
           {
            "colorbar": {
             "outlinewidth": 0,
             "ticks": ""
            },
            "type": "mesh3d"
           }
          ],
          "parcoords": [
           {
            "line": {
             "colorbar": {
              "outlinewidth": 0,
              "ticks": ""
             }
            },
            "type": "parcoords"
           }
          ],
          "pie": [
           {
            "automargin": true,
            "type": "pie"
           }
          ],
          "scatter": [
           {
            "marker": {
             "colorbar": {
              "outlinewidth": 0,
              "ticks": ""
             }
            },
            "type": "scatter"
           }
          ],
          "scatter3d": [
           {
            "line": {
             "colorbar": {
              "outlinewidth": 0,
              "ticks": ""
             }
            },
            "marker": {
             "colorbar": {
              "outlinewidth": 0,
              "ticks": ""
             }
            },
            "type": "scatter3d"
           }
          ],
          "scattercarpet": [
           {
            "marker": {
             "colorbar": {
              "outlinewidth": 0,
              "ticks": ""
             }
            },
            "type": "scattercarpet"
           }
          ],
          "scattergeo": [
           {
            "marker": {
             "colorbar": {
              "outlinewidth": 0,
              "ticks": ""
             }
            },
            "type": "scattergeo"
           }
          ],
          "scattergl": [
           {
            "marker": {
             "colorbar": {
              "outlinewidth": 0,
              "ticks": ""
             }
            },
            "type": "scattergl"
           }
          ],
          "scattermapbox": [
           {
            "marker": {
             "colorbar": {
              "outlinewidth": 0,
              "ticks": ""
             }
            },
            "type": "scattermapbox"
           }
          ],
          "scatterpolar": [
           {
            "marker": {
             "colorbar": {
              "outlinewidth": 0,
              "ticks": ""
             }
            },
            "type": "scatterpolar"
           }
          ],
          "scatterpolargl": [
           {
            "marker": {
             "colorbar": {
              "outlinewidth": 0,
              "ticks": ""
             }
            },
            "type": "scatterpolargl"
           }
          ],
          "scatterternary": [
           {
            "marker": {
             "colorbar": {
              "outlinewidth": 0,
              "ticks": ""
             }
            },
            "type": "scatterternary"
           }
          ],
          "surface": [
           {
            "colorbar": {
             "outlinewidth": 0,
             "ticks": ""
            },
            "colorscale": [
             [
              0,
              "#0d0887"
             ],
             [
              0.1111111111111111,
              "#46039f"
             ],
             [
              0.2222222222222222,
              "#7201a8"
             ],
             [
              0.3333333333333333,
              "#9c179e"
             ],
             [
              0.4444444444444444,
              "#bd3786"
             ],
             [
              0.5555555555555556,
              "#d8576b"
             ],
             [
              0.6666666666666666,
              "#ed7953"
             ],
             [
              0.7777777777777778,
              "#fb9f3a"
             ],
             [
              0.8888888888888888,
              "#fdca26"
             ],
             [
              1,
              "#f0f921"
             ]
            ],
            "type": "surface"
           }
          ],
          "table": [
           {
            "cells": {
             "fill": {
              "color": "#EBF0F8"
             },
             "line": {
              "color": "white"
             }
            },
            "header": {
             "fill": {
              "color": "#C8D4E3"
             },
             "line": {
              "color": "white"
             }
            },
            "type": "table"
           }
          ]
         },
         "layout": {
          "annotationdefaults": {
           "arrowcolor": "#2a3f5f",
           "arrowhead": 0,
           "arrowwidth": 1
          },
          "autotypenumbers": "strict",
          "coloraxis": {
           "colorbar": {
            "outlinewidth": 0,
            "ticks": ""
           }
          },
          "colorscale": {
           "diverging": [
            [
             0,
             "#8e0152"
            ],
            [
             0.1,
             "#c51b7d"
            ],
            [
             0.2,
             "#de77ae"
            ],
            [
             0.3,
             "#f1b6da"
            ],
            [
             0.4,
             "#fde0ef"
            ],
            [
             0.5,
             "#f7f7f7"
            ],
            [
             0.6,
             "#e6f5d0"
            ],
            [
             0.7,
             "#b8e186"
            ],
            [
             0.8,
             "#7fbc41"
            ],
            [
             0.9,
             "#4d9221"
            ],
            [
             1,
             "#276419"
            ]
           ],
           "sequential": [
            [
             0,
             "#0d0887"
            ],
            [
             0.1111111111111111,
             "#46039f"
            ],
            [
             0.2222222222222222,
             "#7201a8"
            ],
            [
             0.3333333333333333,
             "#9c179e"
            ],
            [
             0.4444444444444444,
             "#bd3786"
            ],
            [
             0.5555555555555556,
             "#d8576b"
            ],
            [
             0.6666666666666666,
             "#ed7953"
            ],
            [
             0.7777777777777778,
             "#fb9f3a"
            ],
            [
             0.8888888888888888,
             "#fdca26"
            ],
            [
             1,
             "#f0f921"
            ]
           ],
           "sequentialminus": [
            [
             0,
             "#0d0887"
            ],
            [
             0.1111111111111111,
             "#46039f"
            ],
            [
             0.2222222222222222,
             "#7201a8"
            ],
            [
             0.3333333333333333,
             "#9c179e"
            ],
            [
             0.4444444444444444,
             "#bd3786"
            ],
            [
             0.5555555555555556,
             "#d8576b"
            ],
            [
             0.6666666666666666,
             "#ed7953"
            ],
            [
             0.7777777777777778,
             "#fb9f3a"
            ],
            [
             0.8888888888888888,
             "#fdca26"
            ],
            [
             1,
             "#f0f921"
            ]
           ]
          },
          "colorway": [
           "#636efa",
           "#EF553B",
           "#00cc96",
           "#ab63fa",
           "#FFA15A",
           "#19d3f3",
           "#FF6692",
           "#B6E880",
           "#FF97FF",
           "#FECB52"
          ],
          "font": {
           "color": "#2a3f5f"
          },
          "geo": {
           "bgcolor": "white",
           "lakecolor": "white",
           "landcolor": "white",
           "showlakes": true,
           "showland": true,
           "subunitcolor": "#C8D4E3"
          },
          "hoverlabel": {
           "align": "left"
          },
          "hovermode": "closest",
          "mapbox": {
           "style": "light"
          },
          "paper_bgcolor": "white",
          "plot_bgcolor": "white",
          "polar": {
           "angularaxis": {
            "gridcolor": "#EBF0F8",
            "linecolor": "#EBF0F8",
            "ticks": ""
           },
           "bgcolor": "white",
           "radialaxis": {
            "gridcolor": "#EBF0F8",
            "linecolor": "#EBF0F8",
            "ticks": ""
           }
          },
          "scene": {
           "xaxis": {
            "backgroundcolor": "white",
            "gridcolor": "#DFE8F3",
            "gridwidth": 2,
            "linecolor": "#EBF0F8",
            "showbackground": true,
            "ticks": "",
            "zerolinecolor": "#EBF0F8"
           },
           "yaxis": {
            "backgroundcolor": "white",
            "gridcolor": "#DFE8F3",
            "gridwidth": 2,
            "linecolor": "#EBF0F8",
            "showbackground": true,
            "ticks": "",
            "zerolinecolor": "#EBF0F8"
           },
           "zaxis": {
            "backgroundcolor": "white",
            "gridcolor": "#DFE8F3",
            "gridwidth": 2,
            "linecolor": "#EBF0F8",
            "showbackground": true,
            "ticks": "",
            "zerolinecolor": "#EBF0F8"
           }
          },
          "shapedefaults": {
           "line": {
            "color": "#2a3f5f"
           }
          },
          "ternary": {
           "aaxis": {
            "gridcolor": "#DFE8F3",
            "linecolor": "#A2B1C6",
            "ticks": ""
           },
           "baxis": {
            "gridcolor": "#DFE8F3",
            "linecolor": "#A2B1C6",
            "ticks": ""
           },
           "bgcolor": "white",
           "caxis": {
            "gridcolor": "#DFE8F3",
            "linecolor": "#A2B1C6",
            "ticks": ""
           }
          },
          "title": {
           "x": 0.05
          },
          "xaxis": {
           "automargin": true,
           "gridcolor": "#EBF0F8",
           "linecolor": "#EBF0F8",
           "ticks": "",
           "title": {
            "standoff": 15
           },
           "zerolinecolor": "#EBF0F8",
           "zerolinewidth": 2
          },
          "yaxis": {
           "automargin": true,
           "gridcolor": "#EBF0F8",
           "linecolor": "#EBF0F8",
           "ticks": "",
           "title": {
            "standoff": 15
           },
           "zerolinecolor": "#EBF0F8",
           "zerolinewidth": 2
          }
         }
        },
        "width": 700,
        "xaxis": {
         "anchor": "y",
         "domain": [
          0,
          1
         ],
         "title": {
          "text": "lr"
         },
         "type": "log"
        },
        "yaxis": {
         "anchor": "x",
         "domain": [
          0,
          1
         ],
         "title": {
          "text": "batch_loss"
         }
        }
       }
      },
      "text/html": [
       "<div>                            <div id=\"226fb739-16a7-4aab-9363-b177417535ad\" class=\"plotly-graph-div\" style=\"height:400px; width:700px;\"></div>            <script type=\"text/javascript\">                require([\"plotly\"], function(Plotly) {                    window.PLOTLYENV=window.PLOTLYENV || {};                                    if (document.getElementById(\"226fb739-16a7-4aab-9363-b177417535ad\")) {                    Plotly.newPlot(                        \"226fb739-16a7-4aab-9363-b177417535ad\",                        [{\"hovertemplate\": \"x=%{x}<br>y=%{y}<extra></extra>\", \"legendgroup\": \"\", \"line\": {\"color\": \"#636efa\", \"dash\": \"solid\"}, \"mode\": \"lines\", \"name\": \"\", \"orientation\": \"v\", \"showlegend\": false, \"type\": \"scatter\", \"x\": [1e-07, 1.2045035402587822e-07, 1.4508287784959398e-07, 1.7475284000076842e-07, 2.1049041445120208e-07, 2.5353644939701124e-07, 3.0538555088334166e-07, 3.678379771828635e-07, 4.430621457583883e-07, 5.336699231206313e-07, 6.428073117284325e-07, 7.742636826811276e-07, 9.326033468832207e-07, 1.1233240329780285e-06, 1.3530477745798083e-06, 1.6297508346206458e-06, 1.963040650040273e-06, 2.3644894126454104e-06, 2.8480358684358054e-06, 3.430469286314923e-06, 4.132012400115343e-06, 4.9770235643321185e-06, 5.99484250318942e-06, 7.220809018385476e-06, 8.697490026177848e-06, 1.0476157527896668e-05, 1.2618568830660228e-05, 1.5199110829529368e-05, 1.830738280295372e-05, 2.2051307399030502e-05, 2.656087782946692e-05, 3.199267137797391e-05, 3.853528593710538e-05, 4.64158883361279e-05, 5.590810182512238e-05, 6.73415065775084e-05, 8.111308307896891e-05, 9.77009957299228e-05, 0.00011768119524350017, 0.00014174741629268092, 0.00017073526474706957, 0.00020565123083486573, 0.0002477076355991719, 0.00029836472402833486, 0.00035938136638046387, 0.00043287612810830723, 0.0005214008287999703, 0.0006280291441834275, 0.0007564633275546315, 0.0009111627561154925, 0.0010974987654930601, 0.001321941148466034, 0.0015922827933410983, 0.0019179102616724958, 0.0023101297000831687, 0.002782559402207136, 0.0033516026509388557, 0.004037017258596572, 0.0048626015800653745, 0.005857020818056691, 0.0070548023107186745, 0.00849753435908648, 0.010235310218990308, 0.012328467394420718, 0.01484968262254472, 0.017886495290574435, 0.02154434690031894, 0.025950242113997487, 0.031257158496882514, 0.03764935806792487, 0.04534878508128605, 0.05462277217684369, 0.06579332246575716, 0.07924828983539216, 0.09545484566618392, 0.11497569953977421, 0.13848863713938808, 0.16681005372000682, 0.20092330025650584, 0.2420128264794396, 0.29150530628251936], \"xaxis\": \"x\", \"y\": [1.9628843069076538, 1.8847577571868896, 1.1583913564682007, 1.4331982135772705, 1.4322588443756104, 1.5577257871627808, 1.4423878192901611, 1.6830905675888062, 1.5606800317764282, 0.8773156404495239, 0.9419921040534973, 1.5403918027877808, 1.2885260581970215, 1.5648388862609863, 0.8968050479888916, 1.5443532466888428, 1.1995116472244263, 1.6515018939971924, 1.0148041248321533, 1.414125919342041, 1.5726516246795654, 1.5803940296173096, 1.712209939956665, 1.2186799049377441, 1.2927998304367065, 1.7556333541870117, 1.5269347429275513, 0.848700761795044, 1.2571053504943848, 1.5534335374832153, 1.410663366317749, 1.367431640625, 1.400939702987671, 1.419379472732544, 1.2862130403518677, 1.464767575263977, 1.8903635740280151, 1.3941601514816284, 1.4338908195495605, 1.4639465808868408, 1.673445463180542, 1.2644022703170776, 1.2490503787994385, 1.8432801961898804, 1.7967742681503296, 1.4535818099975586, 1.687538743019104, 1.186852216720581, 1.2722151279449463, 1.3131321668624878, 1.3005740642547607, 1.1608833074569702, 1.2721997499465942, 1.264304518699646, 1.5314106941223145, 1.3988491296768188, 1.444074034690857, 1.0886768102645874, 1.182122826576233, 1.4223021268844604, 1.3322218656539917, 1.1763801574707031, 1.5821352005004883, 0.7686691284179688, 0.8690181374549866, 1.4986443519592285, 1.734593391418457, 1.3532639741897583, 1.5824884176254272, 1.2578381299972534, 1.4331611394882202, 1.7974590063095093, 2.0865859985351562, 1.5001322031021118, 1.2731717824935913, 1.5547112226486206, 4.112077713012695, 1.8741977214813232, 1.9569109678268433, 1.901230812072754, 192.20278930664062], \"yaxis\": \"y\"}],                        {\"height\": 400, \"legend\": {\"tracegroupgap\": 0}, \"margin\": {\"t\": 60}, \"template\": {\"data\": {\"bar\": [{\"error_x\": {\"color\": \"#2a3f5f\"}, \"error_y\": {\"color\": \"#2a3f5f\"}, \"marker\": {\"line\": {\"color\": \"white\", \"width\": 0.5}}, \"type\": \"bar\"}], \"barpolar\": [{\"marker\": {\"line\": {\"color\": \"white\", \"width\": 0.5}}, \"type\": \"barpolar\"}], \"carpet\": [{\"aaxis\": {\"endlinecolor\": \"#2a3f5f\", \"gridcolor\": \"#C8D4E3\", \"linecolor\": \"#C8D4E3\", \"minorgridcolor\": \"#C8D4E3\", \"startlinecolor\": \"#2a3f5f\"}, \"baxis\": {\"endlinecolor\": \"#2a3f5f\", \"gridcolor\": \"#C8D4E3\", \"linecolor\": \"#C8D4E3\", \"minorgridcolor\": \"#C8D4E3\", \"startlinecolor\": \"#2a3f5f\"}, \"type\": \"carpet\"}], \"choropleth\": [{\"colorbar\": {\"outlinewidth\": 0, \"ticks\": \"\"}, \"type\": \"choropleth\"}], \"contour\": [{\"colorbar\": {\"outlinewidth\": 0, \"ticks\": \"\"}, \"colorscale\": [[0.0, \"#0d0887\"], [0.1111111111111111, \"#46039f\"], [0.2222222222222222, \"#7201a8\"], [0.3333333333333333, \"#9c179e\"], [0.4444444444444444, \"#bd3786\"], [0.5555555555555556, \"#d8576b\"], [0.6666666666666666, \"#ed7953\"], [0.7777777777777778, \"#fb9f3a\"], [0.8888888888888888, \"#fdca26\"], [1.0, \"#f0f921\"]], \"type\": \"contour\"}], \"contourcarpet\": [{\"colorbar\": {\"outlinewidth\": 0, \"ticks\": \"\"}, \"type\": \"contourcarpet\"}], \"heatmap\": [{\"colorbar\": {\"outlinewidth\": 0, \"ticks\": \"\"}, \"colorscale\": [[0.0, \"#0d0887\"], [0.1111111111111111, \"#46039f\"], [0.2222222222222222, \"#7201a8\"], [0.3333333333333333, \"#9c179e\"], [0.4444444444444444, \"#bd3786\"], [0.5555555555555556, \"#d8576b\"], [0.6666666666666666, \"#ed7953\"], [0.7777777777777778, \"#fb9f3a\"], [0.8888888888888888, \"#fdca26\"], [1.0, \"#f0f921\"]], \"type\": \"heatmap\"}], \"heatmapgl\": [{\"colorbar\": {\"outlinewidth\": 0, \"ticks\": \"\"}, \"colorscale\": [[0.0, \"#0d0887\"], [0.1111111111111111, \"#46039f\"], [0.2222222222222222, \"#7201a8\"], [0.3333333333333333, \"#9c179e\"], [0.4444444444444444, \"#bd3786\"], [0.5555555555555556, \"#d8576b\"], [0.6666666666666666, \"#ed7953\"], [0.7777777777777778, \"#fb9f3a\"], [0.8888888888888888, \"#fdca26\"], [1.0, \"#f0f921\"]], \"type\": \"heatmapgl\"}], \"histogram\": [{\"marker\": {\"colorbar\": {\"outlinewidth\": 0, \"ticks\": \"\"}}, \"type\": \"histogram\"}], \"histogram2d\": [{\"colorbar\": {\"outlinewidth\": 0, \"ticks\": \"\"}, \"colorscale\": [[0.0, \"#0d0887\"], [0.1111111111111111, \"#46039f\"], [0.2222222222222222, \"#7201a8\"], [0.3333333333333333, \"#9c179e\"], [0.4444444444444444, \"#bd3786\"], [0.5555555555555556, \"#d8576b\"], [0.6666666666666666, \"#ed7953\"], [0.7777777777777778, \"#fb9f3a\"], [0.8888888888888888, \"#fdca26\"], [1.0, \"#f0f921\"]], \"type\": \"histogram2d\"}], \"histogram2dcontour\": [{\"colorbar\": {\"outlinewidth\": 0, \"ticks\": \"\"}, \"colorscale\": [[0.0, \"#0d0887\"], [0.1111111111111111, \"#46039f\"], [0.2222222222222222, \"#7201a8\"], [0.3333333333333333, \"#9c179e\"], [0.4444444444444444, \"#bd3786\"], [0.5555555555555556, \"#d8576b\"], [0.6666666666666666, \"#ed7953\"], [0.7777777777777778, \"#fb9f3a\"], [0.8888888888888888, \"#fdca26\"], [1.0, \"#f0f921\"]], \"type\": \"histogram2dcontour\"}], \"mesh3d\": [{\"colorbar\": {\"outlinewidth\": 0, \"ticks\": \"\"}, \"type\": \"mesh3d\"}], \"parcoords\": [{\"line\": {\"colorbar\": {\"outlinewidth\": 0, \"ticks\": \"\"}}, \"type\": \"parcoords\"}], \"pie\": [{\"automargin\": true, \"type\": \"pie\"}], \"scatter\": [{\"marker\": {\"colorbar\": {\"outlinewidth\": 0, \"ticks\": \"\"}}, \"type\": \"scatter\"}], \"scatter3d\": [{\"line\": {\"colorbar\": {\"outlinewidth\": 0, \"ticks\": \"\"}}, \"marker\": {\"colorbar\": {\"outlinewidth\": 0, \"ticks\": \"\"}}, \"type\": \"scatter3d\"}], \"scattercarpet\": [{\"marker\": {\"colorbar\": {\"outlinewidth\": 0, \"ticks\": \"\"}}, \"type\": \"scattercarpet\"}], \"scattergeo\": [{\"marker\": {\"colorbar\": {\"outlinewidth\": 0, \"ticks\": \"\"}}, \"type\": \"scattergeo\"}], \"scattergl\": [{\"marker\": {\"colorbar\": {\"outlinewidth\": 0, \"ticks\": \"\"}}, \"type\": \"scattergl\"}], \"scattermapbox\": [{\"marker\": {\"colorbar\": {\"outlinewidth\": 0, \"ticks\": \"\"}}, \"type\": \"scattermapbox\"}], \"scatterpolar\": [{\"marker\": {\"colorbar\": {\"outlinewidth\": 0, \"ticks\": \"\"}}, \"type\": \"scatterpolar\"}], \"scatterpolargl\": [{\"marker\": {\"colorbar\": {\"outlinewidth\": 0, \"ticks\": \"\"}}, \"type\": \"scatterpolargl\"}], \"scatterternary\": [{\"marker\": {\"colorbar\": {\"outlinewidth\": 0, \"ticks\": \"\"}}, \"type\": \"scatterternary\"}], \"surface\": [{\"colorbar\": {\"outlinewidth\": 0, \"ticks\": \"\"}, \"colorscale\": [[0.0, \"#0d0887\"], [0.1111111111111111, \"#46039f\"], [0.2222222222222222, \"#7201a8\"], [0.3333333333333333, \"#9c179e\"], [0.4444444444444444, \"#bd3786\"], [0.5555555555555556, \"#d8576b\"], [0.6666666666666666, \"#ed7953\"], [0.7777777777777778, \"#fb9f3a\"], [0.8888888888888888, \"#fdca26\"], [1.0, \"#f0f921\"]], \"type\": \"surface\"}], \"table\": [{\"cells\": {\"fill\": {\"color\": \"#EBF0F8\"}, \"line\": {\"color\": \"white\"}}, \"header\": {\"fill\": {\"color\": \"#C8D4E3\"}, \"line\": {\"color\": \"white\"}}, \"type\": \"table\"}]}, \"layout\": {\"annotationdefaults\": {\"arrowcolor\": \"#2a3f5f\", \"arrowhead\": 0, \"arrowwidth\": 1}, \"autotypenumbers\": \"strict\", \"coloraxis\": {\"colorbar\": {\"outlinewidth\": 0, \"ticks\": \"\"}}, \"colorscale\": {\"diverging\": [[0, \"#8e0152\"], [0.1, \"#c51b7d\"], [0.2, \"#de77ae\"], [0.3, \"#f1b6da\"], [0.4, \"#fde0ef\"], [0.5, \"#f7f7f7\"], [0.6, \"#e6f5d0\"], [0.7, \"#b8e186\"], [0.8, \"#7fbc41\"], [0.9, \"#4d9221\"], [1, \"#276419\"]], \"sequential\": [[0.0, \"#0d0887\"], [0.1111111111111111, \"#46039f\"], [0.2222222222222222, \"#7201a8\"], [0.3333333333333333, \"#9c179e\"], [0.4444444444444444, \"#bd3786\"], [0.5555555555555556, \"#d8576b\"], [0.6666666666666666, \"#ed7953\"], [0.7777777777777778, \"#fb9f3a\"], [0.8888888888888888, \"#fdca26\"], [1.0, \"#f0f921\"]], \"sequentialminus\": [[0.0, \"#0d0887\"], [0.1111111111111111, \"#46039f\"], [0.2222222222222222, \"#7201a8\"], [0.3333333333333333, \"#9c179e\"], [0.4444444444444444, \"#bd3786\"], [0.5555555555555556, \"#d8576b\"], [0.6666666666666666, \"#ed7953\"], [0.7777777777777778, \"#fb9f3a\"], [0.8888888888888888, \"#fdca26\"], [1.0, \"#f0f921\"]]}, \"colorway\": [\"#636efa\", \"#EF553B\", \"#00cc96\", \"#ab63fa\", \"#FFA15A\", \"#19d3f3\", \"#FF6692\", \"#B6E880\", \"#FF97FF\", \"#FECB52\"], \"font\": {\"color\": \"#2a3f5f\"}, \"geo\": {\"bgcolor\": \"white\", \"lakecolor\": \"white\", \"landcolor\": \"white\", \"showlakes\": true, \"showland\": true, \"subunitcolor\": \"#C8D4E3\"}, \"hoverlabel\": {\"align\": \"left\"}, \"hovermode\": \"closest\", \"mapbox\": {\"style\": \"light\"}, \"paper_bgcolor\": \"white\", \"plot_bgcolor\": \"white\", \"polar\": {\"angularaxis\": {\"gridcolor\": \"#EBF0F8\", \"linecolor\": \"#EBF0F8\", \"ticks\": \"\"}, \"bgcolor\": \"white\", \"radialaxis\": {\"gridcolor\": \"#EBF0F8\", \"linecolor\": \"#EBF0F8\", \"ticks\": \"\"}}, \"scene\": {\"xaxis\": {\"backgroundcolor\": \"white\", \"gridcolor\": \"#DFE8F3\", \"gridwidth\": 2, \"linecolor\": \"#EBF0F8\", \"showbackground\": true, \"ticks\": \"\", \"zerolinecolor\": \"#EBF0F8\"}, \"yaxis\": {\"backgroundcolor\": \"white\", \"gridcolor\": \"#DFE8F3\", \"gridwidth\": 2, \"linecolor\": \"#EBF0F8\", \"showbackground\": true, \"ticks\": \"\", \"zerolinecolor\": \"#EBF0F8\"}, \"zaxis\": {\"backgroundcolor\": \"white\", \"gridcolor\": \"#DFE8F3\", \"gridwidth\": 2, \"linecolor\": \"#EBF0F8\", \"showbackground\": true, \"ticks\": \"\", \"zerolinecolor\": \"#EBF0F8\"}}, \"shapedefaults\": {\"line\": {\"color\": \"#2a3f5f\"}}, \"ternary\": {\"aaxis\": {\"gridcolor\": \"#DFE8F3\", \"linecolor\": \"#A2B1C6\", \"ticks\": \"\"}, \"baxis\": {\"gridcolor\": \"#DFE8F3\", \"linecolor\": \"#A2B1C6\", \"ticks\": \"\"}, \"bgcolor\": \"white\", \"caxis\": {\"gridcolor\": \"#DFE8F3\", \"linecolor\": \"#A2B1C6\", \"ticks\": \"\"}}, \"title\": {\"x\": 0.05}, \"xaxis\": {\"automargin\": true, \"gridcolor\": \"#EBF0F8\", \"linecolor\": \"#EBF0F8\", \"ticks\": \"\", \"title\": {\"standoff\": 15}, \"zerolinecolor\": \"#EBF0F8\", \"zerolinewidth\": 2}, \"yaxis\": {\"automargin\": true, \"gridcolor\": \"#EBF0F8\", \"linecolor\": \"#EBF0F8\", \"ticks\": \"\", \"title\": {\"standoff\": 15}, \"zerolinecolor\": \"#EBF0F8\", \"zerolinewidth\": 2}}}, \"width\": 700, \"xaxis\": {\"anchor\": \"y\", \"domain\": [0.0, 1.0], \"title\": {\"text\": \"lr\"}, \"type\": \"log\"}, \"yaxis\": {\"anchor\": \"x\", \"domain\": [0.0, 1.0], \"title\": {\"text\": \"batch_loss\"}}},                        {\"responsive\": true}                    ).then(function(){\n",
       "                            \n",
       "var gd = document.getElementById('226fb739-16a7-4aab-9363-b177417535ad');\n",
       "var x = new MutationObserver(function (mutations, observer) {{\n",
       "        var display = window.getComputedStyle(gd).display;\n",
       "        if (!display || display === 'none') {{\n",
       "            console.log([gd, 'removed!']);\n",
       "            Plotly.purge(gd);\n",
       "            observer.disconnect();\n",
       "        }}\n",
       "}});\n",
       "\n",
       "// Listen for the removal of the full notebook cells\n",
       "var notebookContainer = gd.closest('#notebook-container');\n",
       "if (notebookContainer) {{\n",
       "    x.observe(notebookContainer, {childList: true});\n",
       "}}\n",
       "\n",
       "// Listen for the clearing of the current output cell\n",
       "var outputEl = gd.closest('.output');\n",
       "if (outputEl) {{\n",
       "    x.observe(outputEl, {childList: true});\n",
       "}}\n",
       "\n",
       "                        })                };                });            </script>        </div>"
      ]
     },
     "metadata": {},
     "output_type": "display_data"
    },
    {
     "name": "stdout",
     "output_type": "stream",
     "text": [
      "Best learning rate:  0.001484968262254472\n",
      "0:\t[1s / 1s],\t\ttrain_loss: 1.4185,\tval_loss: 17.8841\n",
      "1:\t[1s / 2s],\t\ttrain_loss: 1.3381,\tval_loss: 21.0084\n",
      "2:\t[1s / 3s],\t\ttrain_loss: 1.2589,\tval_loss: 33.6124\n",
      "3:\t[1s / 5s],\t\ttrain_loss: 1.1873,\tval_loss: 30.1431\n",
      "4:\t[1s / 6s],\t\ttrain_loss: 1.1383,\tval_loss: 29.6380\n",
      "5:\t[1s / 7s],\t\ttrain_loss: 1.1061,\tval_loss: 29.9999\n",
      "6:\t[1s / 8s],\t\ttrain_loss: 1.0855,\tval_loss: 22.6818\n",
      "7:\t[1s / 10s],\t\ttrain_loss: 1.0713,\tval_loss: 20.6712\n",
      "8:\t[1s / 11s],\t\ttrain_loss: 1.0595,\tval_loss: 16.4748\n",
      "9:\t[1s / 12s],\t\ttrain_loss: 1.0508,\tval_loss: 18.2265\n",
      "10:\t[1s / 13s],\t\ttrain_loss: 1.0403,\tval_loss: 16.7687\n",
      "11:\t[1s / 14s],\t\ttrain_loss: 1.0338,\tval_loss: 18.2929\n",
      "12:\t[1s / 16s],\t\ttrain_loss: 1.0253,\tval_loss: 15.7813\n",
      "13:\t[1s / 17s],\t\ttrain_loss: 1.0151,\tval_loss: 14.7449\n",
      "14:\t[1s / 18s],\t\ttrain_loss: 1.0125,\tval_loss: 17.5678\n",
      "15:\t[1s / 19s],\t\ttrain_loss: 1.0051,\tval_loss: 14.7083\n",
      "16:\t[1s / 21s],\t\ttrain_loss: 1.0007,\tval_loss: 15.4418\n",
      "17:\t[1s / 22s],\t\ttrain_loss: 0.9945,\tval_loss: 16.6762\n",
      "18:\t[1s / 23s],\t\ttrain_loss: 0.9857,\tval_loss: 20.8983\n",
      "19:\t[1s / 24s],\t\ttrain_loss: 0.9809,\tval_loss: 17.8078\n",
      "20:\t[1s / 25s],\t\ttrain_loss: 0.9820,\tval_loss: 16.8415\n",
      "21:\t[1s / 26s],\t\ttrain_loss: 0.9741,\tval_loss: 15.0406\n",
      "22:\t[1s / 28s],\t\ttrain_loss: 0.9731,\tval_loss: 15.1089\n",
      "23:\t[1s / 29s],\t\ttrain_loss: 0.9662,\tval_loss: 17.0857\n",
      "24:\t[1s / 30s],\t\ttrain_loss: 0.9669,\tval_loss: 15.5898\n",
      "25:\t[1s / 31s],\t\ttrain_loss: 0.9612,\tval_loss: 16.4487\n",
      "26:\t[1s / 33s],\t\ttrain_loss: 0.9558,\tval_loss: 14.9338\n",
      "27:\t[1s / 34s],\t\ttrain_loss: 0.9505,\tval_loss: 14.6172\n",
      "28:\t[1s / 35s],\t\ttrain_loss: 0.9525,\tval_loss: 15.6171\n",
      "29:\t[1s / 36s],\t\ttrain_loss: 0.9455,\tval_loss: 12.9973\n",
      "30:\t[1s / 37s],\t\ttrain_loss: 0.9429,\tval_loss: 15.8442\n",
      "31:\t[1s / 39s],\t\ttrain_loss: 0.9425,\tval_loss: 17.3376\n",
      "32:\t[1s / 40s],\t\ttrain_loss: 0.9396,\tval_loss: 15.6916\n",
      "33:\t[1s / 41s],\t\ttrain_loss: 0.9358,\tval_loss: 11.4400\n",
      "34:\t[1s / 42s],\t\ttrain_loss: 0.9356,\tval_loss: 11.5347\n",
      "35:\t[1s / 43s],\t\ttrain_loss: 0.9333,\tval_loss: 35.9179\n",
      "36:\t[1s / 45s],\t\ttrain_loss: 0.9362,\tval_loss: 12.1442\n",
      "37:\t[1s / 46s],\t\ttrain_loss: 0.9294,\tval_loss: 12.3553\n",
      "38:\t[1s / 47s],\t\ttrain_loss: 0.9308,\tval_loss: 14.6485\n",
      "39:\t[1s / 48s],\t\ttrain_loss: 0.9245,\tval_loss: 15.1353\n",
      "40:\t[1s / 49s],\t\ttrain_loss: 0.9291,\tval_loss: 15.1165\n",
      "41:\t[1s / 51s],\t\ttrain_loss: 0.9189,\tval_loss: 15.4772\n",
      "42:\t[1s / 52s],\t\ttrain_loss: 0.9275,\tval_loss: 16.3408\n",
      "43:\t[1s / 53s],\t\ttrain_loss: 0.9178,\tval_loss: 14.0924\n",
      "44:\t[1s / 54s],\t\ttrain_loss: 0.9145,\tval_loss: 15.8940\n",
      "45:\t[1s / 55s],\t\ttrain_loss: 0.9188,\tval_loss: 16.4180\n",
      "46:\t[1s / 57s],\t\ttrain_loss: 0.9080,\tval_loss: 16.6892\n",
      "47:\t[1s / 58s],\t\ttrain_loss: 0.9097,\tval_loss: 13.3485\n",
      "48:\t[1s / 59s],\t\ttrain_loss: 0.9162,\tval_loss: 15.0003\n"
     ]
    },
    {
     "data": {
      "application/vnd.plotly.v1+json": {
       "config": {
        "plotlyServerURL": "https://plotly.com"
       },
       "data": [
        {
         "hovertemplate": "dataset=train_loss<br>index=%{x}<br>loss=%{y}<extra></extra>",
         "legendgroup": "train_loss",
         "line": {
          "color": "#636efa",
          "dash": "solid"
         },
         "mode": "lines",
         "name": "train_loss",
         "orientation": "v",
         "showlegend": true,
         "type": "scatter",
         "x": [
          0,
          1,
          2,
          3,
          4,
          5,
          6,
          7,
          8,
          9,
          10,
          11,
          12,
          13,
          14,
          15,
          16,
          17,
          18,
          19,
          20,
          21,
          22,
          23,
          24,
          25,
          26,
          27,
          28,
          29,
          30,
          31,
          32,
          33,
          34,
          35,
          36,
          37,
          38,
          39,
          40,
          41,
          42,
          43,
          44,
          45,
          46,
          47,
          48
         ],
         "xaxis": "x",
         "y": [
          1.4184589932579141,
          1.3380920199848159,
          1.258875462946413,
          1.1872785205924354,
          1.138250063079934,
          1.1060592089678003,
          1.0855008941550441,
          1.0713484318495838,
          1.0595252930337165,
          1.0507814439103071,
          1.0403039111841192,
          1.0338052405800882,
          1.0253466293541105,
          1.0150698804699176,
          1.012531508004301,
          1.0050798087791584,
          1.0006682343097753,
          0.9944879475118812,
          0.9856640418023521,
          0.9809311698617893,
          0.981988363651209,
          0.974115096325437,
          0.9730601003596876,
          0.9662254560722534,
          0.9668735382858843,
          0.9612448410696338,
          0.9558024066764715,
          0.9504932731259859,
          0.9525264177520202,
          0.9455393334143026,
          0.9429133732245999,
          0.9425335548590364,
          0.939583130668865,
          0.9357967540686828,
          0.9355730151505449,
          0.9333071473123725,
          0.9361553522697182,
          0.9294155330506996,
          0.9307570883020043,
          0.9245436010662645,
          0.9290630024853752,
          0.9188508092055675,
          0.9274762117966814,
          0.9178235429343178,
          0.9144931663332028,
          0.9187789162433824,
          0.907982393123177,
          0.9097008640068587,
          0.9162112160801367
         ],
         "yaxis": "y"
        },
        {
         "hovertemplate": "dataset=val_loss<br>index=%{x}<br>loss=%{y}<extra></extra>",
         "legendgroup": "val_loss",
         "line": {
          "color": "#EF553B",
          "dash": "solid"
         },
         "mode": "lines",
         "name": "val_loss",
         "orientation": "v",
         "showlegend": true,
         "type": "scatter",
         "x": [
          0,
          1,
          2,
          3,
          4,
          5,
          6,
          7,
          8,
          9,
          10,
          11,
          12,
          13,
          14,
          15,
          16,
          17,
          18,
          19,
          20,
          21,
          22,
          23,
          24,
          25,
          26,
          27,
          28,
          29,
          30,
          31,
          32,
          33,
          34,
          35,
          36,
          37,
          38,
          39,
          40,
          41,
          42,
          43,
          44,
          45,
          46,
          47,
          48
         ],
         "xaxis": "x",
         "y": [
          17.884145736694336,
          21.008371353149414,
          33.612403869628906,
          30.14310646057129,
          29.63801383972168,
          29.999948501586914,
          22.681779861450195,
          20.671186447143555,
          16.474807739257812,
          18.226526260375977,
          16.768657684326172,
          18.292877197265625,
          15.781279563903809,
          14.744908332824707,
          17.56780242919922,
          14.708281517028809,
          15.441834449768066,
          16.676162719726562,
          20.898269653320312,
          17.80777931213379,
          16.841506958007812,
          15.040592193603516,
          15.108943939208984,
          17.08574867248535,
          15.589766502380371,
          16.448745727539062,
          14.933805465698242,
          14.617220878601074,
          15.617116928100586,
          12.997347831726074,
          15.844225883483887,
          17.337594985961914,
          15.691570281982422,
          11.440018653869629,
          11.534725189208984,
          35.917938232421875,
          12.144172668457031,
          12.3553466796875,
          14.648487091064453,
          15.135294914245605,
          15.116517066955566,
          15.47721004486084,
          16.340843200683594,
          14.092357635498047,
          15.894025802612305,
          16.418031692504883,
          16.689231872558594,
          13.348487854003906,
          15.000333786010742
         ],
         "yaxis": "y"
        }
       ],
       "layout": {
        "height": 400,
        "legend": {
         "title": {
          "text": "dataset"
         },
         "tracegroupgap": 0
        },
        "margin": {
         "t": 60
        },
        "template": {
         "data": {
          "bar": [
           {
            "error_x": {
             "color": "#2a3f5f"
            },
            "error_y": {
             "color": "#2a3f5f"
            },
            "marker": {
             "line": {
              "color": "white",
              "width": 0.5
             }
            },
            "type": "bar"
           }
          ],
          "barpolar": [
           {
            "marker": {
             "line": {
              "color": "white",
              "width": 0.5
             }
            },
            "type": "barpolar"
           }
          ],
          "carpet": [
           {
            "aaxis": {
             "endlinecolor": "#2a3f5f",
             "gridcolor": "#C8D4E3",
             "linecolor": "#C8D4E3",
             "minorgridcolor": "#C8D4E3",
             "startlinecolor": "#2a3f5f"
            },
            "baxis": {
             "endlinecolor": "#2a3f5f",
             "gridcolor": "#C8D4E3",
             "linecolor": "#C8D4E3",
             "minorgridcolor": "#C8D4E3",
             "startlinecolor": "#2a3f5f"
            },
            "type": "carpet"
           }
          ],
          "choropleth": [
           {
            "colorbar": {
             "outlinewidth": 0,
             "ticks": ""
            },
            "type": "choropleth"
           }
          ],
          "contour": [
           {
            "colorbar": {
             "outlinewidth": 0,
             "ticks": ""
            },
            "colorscale": [
             [
              0,
              "#0d0887"
             ],
             [
              0.1111111111111111,
              "#46039f"
             ],
             [
              0.2222222222222222,
              "#7201a8"
             ],
             [
              0.3333333333333333,
              "#9c179e"
             ],
             [
              0.4444444444444444,
              "#bd3786"
             ],
             [
              0.5555555555555556,
              "#d8576b"
             ],
             [
              0.6666666666666666,
              "#ed7953"
             ],
             [
              0.7777777777777778,
              "#fb9f3a"
             ],
             [
              0.8888888888888888,
              "#fdca26"
             ],
             [
              1,
              "#f0f921"
             ]
            ],
            "type": "contour"
           }
          ],
          "contourcarpet": [
           {
            "colorbar": {
             "outlinewidth": 0,
             "ticks": ""
            },
            "type": "contourcarpet"
           }
          ],
          "heatmap": [
           {
            "colorbar": {
             "outlinewidth": 0,
             "ticks": ""
            },
            "colorscale": [
             [
              0,
              "#0d0887"
             ],
             [
              0.1111111111111111,
              "#46039f"
             ],
             [
              0.2222222222222222,
              "#7201a8"
             ],
             [
              0.3333333333333333,
              "#9c179e"
             ],
             [
              0.4444444444444444,
              "#bd3786"
             ],
             [
              0.5555555555555556,
              "#d8576b"
             ],
             [
              0.6666666666666666,
              "#ed7953"
             ],
             [
              0.7777777777777778,
              "#fb9f3a"
             ],
             [
              0.8888888888888888,
              "#fdca26"
             ],
             [
              1,
              "#f0f921"
             ]
            ],
            "type": "heatmap"
           }
          ],
          "heatmapgl": [
           {
            "colorbar": {
             "outlinewidth": 0,
             "ticks": ""
            },
            "colorscale": [
             [
              0,
              "#0d0887"
             ],
             [
              0.1111111111111111,
              "#46039f"
             ],
             [
              0.2222222222222222,
              "#7201a8"
             ],
             [
              0.3333333333333333,
              "#9c179e"
             ],
             [
              0.4444444444444444,
              "#bd3786"
             ],
             [
              0.5555555555555556,
              "#d8576b"
             ],
             [
              0.6666666666666666,
              "#ed7953"
             ],
             [
              0.7777777777777778,
              "#fb9f3a"
             ],
             [
              0.8888888888888888,
              "#fdca26"
             ],
             [
              1,
              "#f0f921"
             ]
            ],
            "type": "heatmapgl"
           }
          ],
          "histogram": [
           {
            "marker": {
             "colorbar": {
              "outlinewidth": 0,
              "ticks": ""
             }
            },
            "type": "histogram"
           }
          ],
          "histogram2d": [
           {
            "colorbar": {
             "outlinewidth": 0,
             "ticks": ""
            },
            "colorscale": [
             [
              0,
              "#0d0887"
             ],
             [
              0.1111111111111111,
              "#46039f"
             ],
             [
              0.2222222222222222,
              "#7201a8"
             ],
             [
              0.3333333333333333,
              "#9c179e"
             ],
             [
              0.4444444444444444,
              "#bd3786"
             ],
             [
              0.5555555555555556,
              "#d8576b"
             ],
             [
              0.6666666666666666,
              "#ed7953"
             ],
             [
              0.7777777777777778,
              "#fb9f3a"
             ],
             [
              0.8888888888888888,
              "#fdca26"
             ],
             [
              1,
              "#f0f921"
             ]
            ],
            "type": "histogram2d"
           }
          ],
          "histogram2dcontour": [
           {
            "colorbar": {
             "outlinewidth": 0,
             "ticks": ""
            },
            "colorscale": [
             [
              0,
              "#0d0887"
             ],
             [
              0.1111111111111111,
              "#46039f"
             ],
             [
              0.2222222222222222,
              "#7201a8"
             ],
             [
              0.3333333333333333,
              "#9c179e"
             ],
             [
              0.4444444444444444,
              "#bd3786"
             ],
             [
              0.5555555555555556,
              "#d8576b"
             ],
             [
              0.6666666666666666,
              "#ed7953"
             ],
             [
              0.7777777777777778,
              "#fb9f3a"
             ],
             [
              0.8888888888888888,
              "#fdca26"
             ],
             [
              1,
              "#f0f921"
             ]
            ],
            "type": "histogram2dcontour"
           }
          ],
          "mesh3d": [
           {
            "colorbar": {
             "outlinewidth": 0,
             "ticks": ""
            },
            "type": "mesh3d"
           }
          ],
          "parcoords": [
           {
            "line": {
             "colorbar": {
              "outlinewidth": 0,
              "ticks": ""
             }
            },
            "type": "parcoords"
           }
          ],
          "pie": [
           {
            "automargin": true,
            "type": "pie"
           }
          ],
          "scatter": [
           {
            "marker": {
             "colorbar": {
              "outlinewidth": 0,
              "ticks": ""
             }
            },
            "type": "scatter"
           }
          ],
          "scatter3d": [
           {
            "line": {
             "colorbar": {
              "outlinewidth": 0,
              "ticks": ""
             }
            },
            "marker": {
             "colorbar": {
              "outlinewidth": 0,
              "ticks": ""
             }
            },
            "type": "scatter3d"
           }
          ],
          "scattercarpet": [
           {
            "marker": {
             "colorbar": {
              "outlinewidth": 0,
              "ticks": ""
             }
            },
            "type": "scattercarpet"
           }
          ],
          "scattergeo": [
           {
            "marker": {
             "colorbar": {
              "outlinewidth": 0,
              "ticks": ""
             }
            },
            "type": "scattergeo"
           }
          ],
          "scattergl": [
           {
            "marker": {
             "colorbar": {
              "outlinewidth": 0,
              "ticks": ""
             }
            },
            "type": "scattergl"
           }
          ],
          "scattermapbox": [
           {
            "marker": {
             "colorbar": {
              "outlinewidth": 0,
              "ticks": ""
             }
            },
            "type": "scattermapbox"
           }
          ],
          "scatterpolar": [
           {
            "marker": {
             "colorbar": {
              "outlinewidth": 0,
              "ticks": ""
             }
            },
            "type": "scatterpolar"
           }
          ],
          "scatterpolargl": [
           {
            "marker": {
             "colorbar": {
              "outlinewidth": 0,
              "ticks": ""
             }
            },
            "type": "scatterpolargl"
           }
          ],
          "scatterternary": [
           {
            "marker": {
             "colorbar": {
              "outlinewidth": 0,
              "ticks": ""
             }
            },
            "type": "scatterternary"
           }
          ],
          "surface": [
           {
            "colorbar": {
             "outlinewidth": 0,
             "ticks": ""
            },
            "colorscale": [
             [
              0,
              "#0d0887"
             ],
             [
              0.1111111111111111,
              "#46039f"
             ],
             [
              0.2222222222222222,
              "#7201a8"
             ],
             [
              0.3333333333333333,
              "#9c179e"
             ],
             [
              0.4444444444444444,
              "#bd3786"
             ],
             [
              0.5555555555555556,
              "#d8576b"
             ],
             [
              0.6666666666666666,
              "#ed7953"
             ],
             [
              0.7777777777777778,
              "#fb9f3a"
             ],
             [
              0.8888888888888888,
              "#fdca26"
             ],
             [
              1,
              "#f0f921"
             ]
            ],
            "type": "surface"
           }
          ],
          "table": [
           {
            "cells": {
             "fill": {
              "color": "#EBF0F8"
             },
             "line": {
              "color": "white"
             }
            },
            "header": {
             "fill": {
              "color": "#C8D4E3"
             },
             "line": {
              "color": "white"
             }
            },
            "type": "table"
           }
          ]
         },
         "layout": {
          "annotationdefaults": {
           "arrowcolor": "#2a3f5f",
           "arrowhead": 0,
           "arrowwidth": 1
          },
          "autotypenumbers": "strict",
          "coloraxis": {
           "colorbar": {
            "outlinewidth": 0,
            "ticks": ""
           }
          },
          "colorscale": {
           "diverging": [
            [
             0,
             "#8e0152"
            ],
            [
             0.1,
             "#c51b7d"
            ],
            [
             0.2,
             "#de77ae"
            ],
            [
             0.3,
             "#f1b6da"
            ],
            [
             0.4,
             "#fde0ef"
            ],
            [
             0.5,
             "#f7f7f7"
            ],
            [
             0.6,
             "#e6f5d0"
            ],
            [
             0.7,
             "#b8e186"
            ],
            [
             0.8,
             "#7fbc41"
            ],
            [
             0.9,
             "#4d9221"
            ],
            [
             1,
             "#276419"
            ]
           ],
           "sequential": [
            [
             0,
             "#0d0887"
            ],
            [
             0.1111111111111111,
             "#46039f"
            ],
            [
             0.2222222222222222,
             "#7201a8"
            ],
            [
             0.3333333333333333,
             "#9c179e"
            ],
            [
             0.4444444444444444,
             "#bd3786"
            ],
            [
             0.5555555555555556,
             "#d8576b"
            ],
            [
             0.6666666666666666,
             "#ed7953"
            ],
            [
             0.7777777777777778,
             "#fb9f3a"
            ],
            [
             0.8888888888888888,
             "#fdca26"
            ],
            [
             1,
             "#f0f921"
            ]
           ],
           "sequentialminus": [
            [
             0,
             "#0d0887"
            ],
            [
             0.1111111111111111,
             "#46039f"
            ],
            [
             0.2222222222222222,
             "#7201a8"
            ],
            [
             0.3333333333333333,
             "#9c179e"
            ],
            [
             0.4444444444444444,
             "#bd3786"
            ],
            [
             0.5555555555555556,
             "#d8576b"
            ],
            [
             0.6666666666666666,
             "#ed7953"
            ],
            [
             0.7777777777777778,
             "#fb9f3a"
            ],
            [
             0.8888888888888888,
             "#fdca26"
            ],
            [
             1,
             "#f0f921"
            ]
           ]
          },
          "colorway": [
           "#636efa",
           "#EF553B",
           "#00cc96",
           "#ab63fa",
           "#FFA15A",
           "#19d3f3",
           "#FF6692",
           "#B6E880",
           "#FF97FF",
           "#FECB52"
          ],
          "font": {
           "color": "#2a3f5f"
          },
          "geo": {
           "bgcolor": "white",
           "lakecolor": "white",
           "landcolor": "white",
           "showlakes": true,
           "showland": true,
           "subunitcolor": "#C8D4E3"
          },
          "hoverlabel": {
           "align": "left"
          },
          "hovermode": "closest",
          "mapbox": {
           "style": "light"
          },
          "paper_bgcolor": "white",
          "plot_bgcolor": "white",
          "polar": {
           "angularaxis": {
            "gridcolor": "#EBF0F8",
            "linecolor": "#EBF0F8",
            "ticks": ""
           },
           "bgcolor": "white",
           "radialaxis": {
            "gridcolor": "#EBF0F8",
            "linecolor": "#EBF0F8",
            "ticks": ""
           }
          },
          "scene": {
           "xaxis": {
            "backgroundcolor": "white",
            "gridcolor": "#DFE8F3",
            "gridwidth": 2,
            "linecolor": "#EBF0F8",
            "showbackground": true,
            "ticks": "",
            "zerolinecolor": "#EBF0F8"
           },
           "yaxis": {
            "backgroundcolor": "white",
            "gridcolor": "#DFE8F3",
            "gridwidth": 2,
            "linecolor": "#EBF0F8",
            "showbackground": true,
            "ticks": "",
            "zerolinecolor": "#EBF0F8"
           },
           "zaxis": {
            "backgroundcolor": "white",
            "gridcolor": "#DFE8F3",
            "gridwidth": 2,
            "linecolor": "#EBF0F8",
            "showbackground": true,
            "ticks": "",
            "zerolinecolor": "#EBF0F8"
           }
          },
          "shapedefaults": {
           "line": {
            "color": "#2a3f5f"
           }
          },
          "ternary": {
           "aaxis": {
            "gridcolor": "#DFE8F3",
            "linecolor": "#A2B1C6",
            "ticks": ""
           },
           "baxis": {
            "gridcolor": "#DFE8F3",
            "linecolor": "#A2B1C6",
            "ticks": ""
           },
           "bgcolor": "white",
           "caxis": {
            "gridcolor": "#DFE8F3",
            "linecolor": "#A2B1C6",
            "ticks": ""
           }
          },
          "title": {
           "x": 0.05
          },
          "xaxis": {
           "automargin": true,
           "gridcolor": "#EBF0F8",
           "linecolor": "#EBF0F8",
           "ticks": "",
           "title": {
            "standoff": 15
           },
           "zerolinecolor": "#EBF0F8",
           "zerolinewidth": 2
          },
          "yaxis": {
           "automargin": true,
           "gridcolor": "#EBF0F8",
           "linecolor": "#EBF0F8",
           "ticks": "",
           "title": {
            "standoff": 15
           },
           "zerolinecolor": "#EBF0F8",
           "zerolinewidth": 2
          }
         }
        },
        "width": 800,
        "xaxis": {
         "anchor": "y",
         "domain": [
          0,
          1
         ],
         "title": {
          "text": "index"
         }
        },
        "yaxis": {
         "anchor": "x",
         "domain": [
          0,
          1
         ],
         "title": {
          "text": "loss"
         }
        }
       }
      },
      "text/html": [
       "<div>                            <div id=\"37054360-2824-42f8-bf1a-2e73d933894a\" class=\"plotly-graph-div\" style=\"height:400px; width:800px;\"></div>            <script type=\"text/javascript\">                require([\"plotly\"], function(Plotly) {                    window.PLOTLYENV=window.PLOTLYENV || {};                                    if (document.getElementById(\"37054360-2824-42f8-bf1a-2e73d933894a\")) {                    Plotly.newPlot(                        \"37054360-2824-42f8-bf1a-2e73d933894a\",                        [{\"hovertemplate\": \"dataset=train_loss<br>index=%{x}<br>loss=%{y}<extra></extra>\", \"legendgroup\": \"train_loss\", \"line\": {\"color\": \"#636efa\", \"dash\": \"solid\"}, \"mode\": \"lines\", \"name\": \"train_loss\", \"orientation\": \"v\", \"showlegend\": true, \"type\": \"scatter\", \"x\": [0, 1, 2, 3, 4, 5, 6, 7, 8, 9, 10, 11, 12, 13, 14, 15, 16, 17, 18, 19, 20, 21, 22, 23, 24, 25, 26, 27, 28, 29, 30, 31, 32, 33, 34, 35, 36, 37, 38, 39, 40, 41, 42, 43, 44, 45, 46, 47, 48], \"xaxis\": \"x\", \"y\": [1.4184589932579141, 1.3380920199848159, 1.258875462946413, 1.1872785205924354, 1.138250063079934, 1.1060592089678003, 1.0855008941550441, 1.0713484318495838, 1.0595252930337165, 1.0507814439103071, 1.0403039111841192, 1.0338052405800882, 1.0253466293541105, 1.0150698804699176, 1.012531508004301, 1.0050798087791584, 1.0006682343097753, 0.9944879475118812, 0.9856640418023521, 0.9809311698617893, 0.981988363651209, 0.974115096325437, 0.9730601003596876, 0.9662254560722534, 0.9668735382858843, 0.9612448410696338, 0.9558024066764715, 0.9504932731259859, 0.9525264177520202, 0.9455393334143026, 0.9429133732245999, 0.9425335548590364, 0.939583130668865, 0.9357967540686828, 0.9355730151505449, 0.9333071473123725, 0.9361553522697182, 0.9294155330506996, 0.9307570883020043, 0.9245436010662645, 0.9290630024853752, 0.9188508092055675, 0.9274762117966814, 0.9178235429343178, 0.9144931663332028, 0.9187789162433824, 0.907982393123177, 0.9097008640068587, 0.9162112160801367], \"yaxis\": \"y\"}, {\"hovertemplate\": \"dataset=val_loss<br>index=%{x}<br>loss=%{y}<extra></extra>\", \"legendgroup\": \"val_loss\", \"line\": {\"color\": \"#EF553B\", \"dash\": \"solid\"}, \"mode\": \"lines\", \"name\": \"val_loss\", \"orientation\": \"v\", \"showlegend\": true, \"type\": \"scatter\", \"x\": [0, 1, 2, 3, 4, 5, 6, 7, 8, 9, 10, 11, 12, 13, 14, 15, 16, 17, 18, 19, 20, 21, 22, 23, 24, 25, 26, 27, 28, 29, 30, 31, 32, 33, 34, 35, 36, 37, 38, 39, 40, 41, 42, 43, 44, 45, 46, 47, 48], \"xaxis\": \"x\", \"y\": [17.884145736694336, 21.008371353149414, 33.612403869628906, 30.14310646057129, 29.63801383972168, 29.999948501586914, 22.681779861450195, 20.671186447143555, 16.474807739257812, 18.226526260375977, 16.768657684326172, 18.292877197265625, 15.781279563903809, 14.744908332824707, 17.56780242919922, 14.708281517028809, 15.441834449768066, 16.676162719726562, 20.898269653320312, 17.80777931213379, 16.841506958007812, 15.040592193603516, 15.108943939208984, 17.08574867248535, 15.589766502380371, 16.448745727539062, 14.933805465698242, 14.617220878601074, 15.617116928100586, 12.997347831726074, 15.844225883483887, 17.337594985961914, 15.691570281982422, 11.440018653869629, 11.534725189208984, 35.917938232421875, 12.144172668457031, 12.3553466796875, 14.648487091064453, 15.135294914245605, 15.116517066955566, 15.47721004486084, 16.340843200683594, 14.092357635498047, 15.894025802612305, 16.418031692504883, 16.689231872558594, 13.348487854003906, 15.000333786010742], \"yaxis\": \"y\"}],                        {\"height\": 400, \"legend\": {\"title\": {\"text\": \"dataset\"}, \"tracegroupgap\": 0}, \"margin\": {\"t\": 60}, \"template\": {\"data\": {\"bar\": [{\"error_x\": {\"color\": \"#2a3f5f\"}, \"error_y\": {\"color\": \"#2a3f5f\"}, \"marker\": {\"line\": {\"color\": \"white\", \"width\": 0.5}}, \"type\": \"bar\"}], \"barpolar\": [{\"marker\": {\"line\": {\"color\": \"white\", \"width\": 0.5}}, \"type\": \"barpolar\"}], \"carpet\": [{\"aaxis\": {\"endlinecolor\": \"#2a3f5f\", \"gridcolor\": \"#C8D4E3\", \"linecolor\": \"#C8D4E3\", \"minorgridcolor\": \"#C8D4E3\", \"startlinecolor\": \"#2a3f5f\"}, \"baxis\": {\"endlinecolor\": \"#2a3f5f\", \"gridcolor\": \"#C8D4E3\", \"linecolor\": \"#C8D4E3\", \"minorgridcolor\": \"#C8D4E3\", \"startlinecolor\": \"#2a3f5f\"}, \"type\": \"carpet\"}], \"choropleth\": [{\"colorbar\": {\"outlinewidth\": 0, \"ticks\": \"\"}, \"type\": \"choropleth\"}], \"contour\": [{\"colorbar\": {\"outlinewidth\": 0, \"ticks\": \"\"}, \"colorscale\": [[0.0, \"#0d0887\"], [0.1111111111111111, \"#46039f\"], [0.2222222222222222, \"#7201a8\"], [0.3333333333333333, \"#9c179e\"], [0.4444444444444444, \"#bd3786\"], [0.5555555555555556, \"#d8576b\"], [0.6666666666666666, \"#ed7953\"], [0.7777777777777778, \"#fb9f3a\"], [0.8888888888888888, \"#fdca26\"], [1.0, \"#f0f921\"]], \"type\": \"contour\"}], \"contourcarpet\": [{\"colorbar\": {\"outlinewidth\": 0, \"ticks\": \"\"}, \"type\": \"contourcarpet\"}], \"heatmap\": [{\"colorbar\": {\"outlinewidth\": 0, \"ticks\": \"\"}, \"colorscale\": [[0.0, \"#0d0887\"], [0.1111111111111111, \"#46039f\"], [0.2222222222222222, \"#7201a8\"], [0.3333333333333333, \"#9c179e\"], [0.4444444444444444, \"#bd3786\"], [0.5555555555555556, \"#d8576b\"], [0.6666666666666666, \"#ed7953\"], [0.7777777777777778, \"#fb9f3a\"], [0.8888888888888888, \"#fdca26\"], [1.0, \"#f0f921\"]], \"type\": \"heatmap\"}], \"heatmapgl\": [{\"colorbar\": {\"outlinewidth\": 0, \"ticks\": \"\"}, \"colorscale\": [[0.0, \"#0d0887\"], [0.1111111111111111, \"#46039f\"], [0.2222222222222222, \"#7201a8\"], [0.3333333333333333, \"#9c179e\"], [0.4444444444444444, \"#bd3786\"], [0.5555555555555556, \"#d8576b\"], [0.6666666666666666, \"#ed7953\"], [0.7777777777777778, \"#fb9f3a\"], [0.8888888888888888, \"#fdca26\"], [1.0, \"#f0f921\"]], \"type\": \"heatmapgl\"}], \"histogram\": [{\"marker\": {\"colorbar\": {\"outlinewidth\": 0, \"ticks\": \"\"}}, \"type\": \"histogram\"}], \"histogram2d\": [{\"colorbar\": {\"outlinewidth\": 0, \"ticks\": \"\"}, \"colorscale\": [[0.0, \"#0d0887\"], [0.1111111111111111, \"#46039f\"], [0.2222222222222222, \"#7201a8\"], [0.3333333333333333, \"#9c179e\"], [0.4444444444444444, \"#bd3786\"], [0.5555555555555556, \"#d8576b\"], [0.6666666666666666, \"#ed7953\"], [0.7777777777777778, \"#fb9f3a\"], [0.8888888888888888, \"#fdca26\"], [1.0, \"#f0f921\"]], \"type\": \"histogram2d\"}], \"histogram2dcontour\": [{\"colorbar\": {\"outlinewidth\": 0, \"ticks\": \"\"}, \"colorscale\": [[0.0, \"#0d0887\"], [0.1111111111111111, \"#46039f\"], [0.2222222222222222, \"#7201a8\"], [0.3333333333333333, \"#9c179e\"], [0.4444444444444444, \"#bd3786\"], [0.5555555555555556, \"#d8576b\"], [0.6666666666666666, \"#ed7953\"], [0.7777777777777778, \"#fb9f3a\"], [0.8888888888888888, \"#fdca26\"], [1.0, \"#f0f921\"]], \"type\": \"histogram2dcontour\"}], \"mesh3d\": [{\"colorbar\": {\"outlinewidth\": 0, \"ticks\": \"\"}, \"type\": \"mesh3d\"}], \"parcoords\": [{\"line\": {\"colorbar\": {\"outlinewidth\": 0, \"ticks\": \"\"}}, \"type\": \"parcoords\"}], \"pie\": [{\"automargin\": true, \"type\": \"pie\"}], \"scatter\": [{\"marker\": {\"colorbar\": {\"outlinewidth\": 0, \"ticks\": \"\"}}, \"type\": \"scatter\"}], \"scatter3d\": [{\"line\": {\"colorbar\": {\"outlinewidth\": 0, \"ticks\": \"\"}}, \"marker\": {\"colorbar\": {\"outlinewidth\": 0, \"ticks\": \"\"}}, \"type\": \"scatter3d\"}], \"scattercarpet\": [{\"marker\": {\"colorbar\": {\"outlinewidth\": 0, \"ticks\": \"\"}}, \"type\": \"scattercarpet\"}], \"scattergeo\": [{\"marker\": {\"colorbar\": {\"outlinewidth\": 0, \"ticks\": \"\"}}, \"type\": \"scattergeo\"}], \"scattergl\": [{\"marker\": {\"colorbar\": {\"outlinewidth\": 0, \"ticks\": \"\"}}, \"type\": \"scattergl\"}], \"scattermapbox\": [{\"marker\": {\"colorbar\": {\"outlinewidth\": 0, \"ticks\": \"\"}}, \"type\": \"scattermapbox\"}], \"scatterpolar\": [{\"marker\": {\"colorbar\": {\"outlinewidth\": 0, \"ticks\": \"\"}}, \"type\": \"scatterpolar\"}], \"scatterpolargl\": [{\"marker\": {\"colorbar\": {\"outlinewidth\": 0, \"ticks\": \"\"}}, \"type\": \"scatterpolargl\"}], \"scatterternary\": [{\"marker\": {\"colorbar\": {\"outlinewidth\": 0, \"ticks\": \"\"}}, \"type\": \"scatterternary\"}], \"surface\": [{\"colorbar\": {\"outlinewidth\": 0, \"ticks\": \"\"}, \"colorscale\": [[0.0, \"#0d0887\"], [0.1111111111111111, \"#46039f\"], [0.2222222222222222, \"#7201a8\"], [0.3333333333333333, \"#9c179e\"], [0.4444444444444444, \"#bd3786\"], [0.5555555555555556, \"#d8576b\"], [0.6666666666666666, \"#ed7953\"], [0.7777777777777778, \"#fb9f3a\"], [0.8888888888888888, \"#fdca26\"], [1.0, \"#f0f921\"]], \"type\": \"surface\"}], \"table\": [{\"cells\": {\"fill\": {\"color\": \"#EBF0F8\"}, \"line\": {\"color\": \"white\"}}, \"header\": {\"fill\": {\"color\": \"#C8D4E3\"}, \"line\": {\"color\": \"white\"}}, \"type\": \"table\"}]}, \"layout\": {\"annotationdefaults\": {\"arrowcolor\": \"#2a3f5f\", \"arrowhead\": 0, \"arrowwidth\": 1}, \"autotypenumbers\": \"strict\", \"coloraxis\": {\"colorbar\": {\"outlinewidth\": 0, \"ticks\": \"\"}}, \"colorscale\": {\"diverging\": [[0, \"#8e0152\"], [0.1, \"#c51b7d\"], [0.2, \"#de77ae\"], [0.3, \"#f1b6da\"], [0.4, \"#fde0ef\"], [0.5, \"#f7f7f7\"], [0.6, \"#e6f5d0\"], [0.7, \"#b8e186\"], [0.8, \"#7fbc41\"], [0.9, \"#4d9221\"], [1, \"#276419\"]], \"sequential\": [[0.0, \"#0d0887\"], [0.1111111111111111, \"#46039f\"], [0.2222222222222222, \"#7201a8\"], [0.3333333333333333, \"#9c179e\"], [0.4444444444444444, \"#bd3786\"], [0.5555555555555556, \"#d8576b\"], [0.6666666666666666, \"#ed7953\"], [0.7777777777777778, \"#fb9f3a\"], [0.8888888888888888, \"#fdca26\"], [1.0, \"#f0f921\"]], \"sequentialminus\": [[0.0, \"#0d0887\"], [0.1111111111111111, \"#46039f\"], [0.2222222222222222, \"#7201a8\"], [0.3333333333333333, \"#9c179e\"], [0.4444444444444444, \"#bd3786\"], [0.5555555555555556, \"#d8576b\"], [0.6666666666666666, \"#ed7953\"], [0.7777777777777778, \"#fb9f3a\"], [0.8888888888888888, \"#fdca26\"], [1.0, \"#f0f921\"]]}, \"colorway\": [\"#636efa\", \"#EF553B\", \"#00cc96\", \"#ab63fa\", \"#FFA15A\", \"#19d3f3\", \"#FF6692\", \"#B6E880\", \"#FF97FF\", \"#FECB52\"], \"font\": {\"color\": \"#2a3f5f\"}, \"geo\": {\"bgcolor\": \"white\", \"lakecolor\": \"white\", \"landcolor\": \"white\", \"showlakes\": true, \"showland\": true, \"subunitcolor\": \"#C8D4E3\"}, \"hoverlabel\": {\"align\": \"left\"}, \"hovermode\": \"closest\", \"mapbox\": {\"style\": \"light\"}, \"paper_bgcolor\": \"white\", \"plot_bgcolor\": \"white\", \"polar\": {\"angularaxis\": {\"gridcolor\": \"#EBF0F8\", \"linecolor\": \"#EBF0F8\", \"ticks\": \"\"}, \"bgcolor\": \"white\", \"radialaxis\": {\"gridcolor\": \"#EBF0F8\", \"linecolor\": \"#EBF0F8\", \"ticks\": \"\"}}, \"scene\": {\"xaxis\": {\"backgroundcolor\": \"white\", \"gridcolor\": \"#DFE8F3\", \"gridwidth\": 2, \"linecolor\": \"#EBF0F8\", \"showbackground\": true, \"ticks\": \"\", \"zerolinecolor\": \"#EBF0F8\"}, \"yaxis\": {\"backgroundcolor\": \"white\", \"gridcolor\": \"#DFE8F3\", \"gridwidth\": 2, \"linecolor\": \"#EBF0F8\", \"showbackground\": true, \"ticks\": \"\", \"zerolinecolor\": \"#EBF0F8\"}, \"zaxis\": {\"backgroundcolor\": \"white\", \"gridcolor\": \"#DFE8F3\", \"gridwidth\": 2, \"linecolor\": \"#EBF0F8\", \"showbackground\": true, \"ticks\": \"\", \"zerolinecolor\": \"#EBF0F8\"}}, \"shapedefaults\": {\"line\": {\"color\": \"#2a3f5f\"}}, \"ternary\": {\"aaxis\": {\"gridcolor\": \"#DFE8F3\", \"linecolor\": \"#A2B1C6\", \"ticks\": \"\"}, \"baxis\": {\"gridcolor\": \"#DFE8F3\", \"linecolor\": \"#A2B1C6\", \"ticks\": \"\"}, \"bgcolor\": \"white\", \"caxis\": {\"gridcolor\": \"#DFE8F3\", \"linecolor\": \"#A2B1C6\", \"ticks\": \"\"}}, \"title\": {\"x\": 0.05}, \"xaxis\": {\"automargin\": true, \"gridcolor\": \"#EBF0F8\", \"linecolor\": \"#EBF0F8\", \"ticks\": \"\", \"title\": {\"standoff\": 15}, \"zerolinecolor\": \"#EBF0F8\", \"zerolinewidth\": 2}, \"yaxis\": {\"automargin\": true, \"gridcolor\": \"#EBF0F8\", \"linecolor\": \"#EBF0F8\", \"ticks\": \"\", \"title\": {\"standoff\": 15}, \"zerolinecolor\": \"#EBF0F8\", \"zerolinewidth\": 2}}}, \"width\": 800, \"xaxis\": {\"anchor\": \"y\", \"domain\": [0.0, 1.0], \"title\": {\"text\": \"index\"}}, \"yaxis\": {\"anchor\": \"x\", \"domain\": [0.0, 1.0], \"title\": {\"text\": \"loss\"}}},                        {\"responsive\": true}                    ).then(function(){\n",
       "                            \n",
       "var gd = document.getElementById('37054360-2824-42f8-bf1a-2e73d933894a');\n",
       "var x = new MutationObserver(function (mutations, observer) {{\n",
       "        var display = window.getComputedStyle(gd).display;\n",
       "        if (!display || display === 'none') {{\n",
       "            console.log([gd, 'removed!']);\n",
       "            Plotly.purge(gd);\n",
       "            observer.disconnect();\n",
       "        }}\n",
       "}});\n",
       "\n",
       "// Listen for the removal of the full notebook cells\n",
       "var notebookContainer = gd.closest('#notebook-container');\n",
       "if (notebookContainer) {{\n",
       "    x.observe(notebookContainer, {childList: true});\n",
       "}}\n",
       "\n",
       "// Listen for the clearing of the current output cell\n",
       "var outputEl = gd.closest('.output');\n",
       "if (outputEl) {{\n",
       "    x.observe(outputEl, {childList: true});\n",
       "}}\n",
       "\n",
       "                        })                };                });            </script>        </div>"
      ]
     },
     "metadata": {},
     "output_type": "display_data"
    }
   ],
   "source": [
    "logs_df, model, score = train_deep_surv(\n",
    "    train, val, test, DeepHitSingle, tolerance=10, \n",
    "    print_lr=True, print_logs=True, verbose = True,\n",
    "    **params\n",
    ")"
   ]
  },
  {
   "cell_type": "code",
   "execution_count": 154,
   "id": "dc80b9aa",
   "metadata": {},
   "outputs": [
    {
     "data": {
      "text/plain": [
       "0.5673976245500877"
      ]
     },
     "execution_count": 154,
     "metadata": {},
     "output_type": "execute_result"
    }
   ],
   "source": [
    "score"
   ]
  },
  {
   "cell_type": "code",
   "execution_count": 43,
   "id": "6b483189",
   "metadata": {},
   "outputs": [
    {
     "name": "stdout",
     "output_type": "stream",
     "text": [
      "2 total scenario to run\n",
      "1/2: params: {'n_nodes': 32, 'dropout': 0.1, 'model_params': {'alpha': 0.2, 'sigma': 0.1}, 'epochs': 512, 'batch_size': 16, 'discrete': True, 'output_bias': True}\n",
      "Best learning rate:  0.0001\n",
      "0:\t[1s / 1s],\t\ttrain_loss: 1.4401,\tval_loss: 309.6760\n",
      "1:\t[1s / 2s],\t\ttrain_loss: 1.4326,\tval_loss: 356.1917\n",
      "2:\t[1s / 3s],\t\ttrain_loss: 1.4295,\tval_loss: 376.0471\n",
      "3:\t[1s / 4s],\t\ttrain_loss: 1.4240,\tval_loss: 303.4081\n",
      "4:\t[1s / 5s],\t\ttrain_loss: 1.4209,\tval_loss: 344.3560\n",
      "5:\t[1s / 6s],\t\ttrain_loss: 1.4164,\tval_loss: 299.7307\n",
      "6:\t[1s / 7s],\t\ttrain_loss: 1.4124,\tval_loss: 325.4799\n",
      "7:\t[1s / 8s],\t\ttrain_loss: 1.4074,\tval_loss: 344.2605\n",
      "8:\t[1s / 9s],\t\ttrain_loss: 1.4049,\tval_loss: 287.5052\n",
      "9:\t[1s / 11s],\t\ttrain_loss: 1.3992,\tval_loss: 340.7303\n",
      "10:\t[1s / 12s],\t\ttrain_loss: 1.3950,\tval_loss: 407.2778\n",
      "11:\t[1s / 13s],\t\ttrain_loss: 1.3929,\tval_loss: 345.2958\n",
      "12:\t[1s / 14s],\t\ttrain_loss: 1.3916,\tval_loss: 303.9655\n",
      "13:\t[1s / 15s],\t\ttrain_loss: 1.3905,\tval_loss: 366.0233\n",
      "14:\t[1s / 17s],\t\ttrain_loss: 1.3848,\tval_loss: 342.0277\n",
      "15:\t[1s / 18s],\t\ttrain_loss: 1.3809,\tval_loss: 364.6475\n",
      "16:\t[1s / 19s],\t\ttrain_loss: 1.3767,\tval_loss: 371.1595\n",
      "17:\t[1s / 20s],\t\ttrain_loss: 1.3756,\tval_loss: 338.6603\n",
      "18:\t[1s / 21s],\t\ttrain_loss: 1.3733,\tval_loss: 335.0749\n",
      "19:\t[1s / 22s],\t\ttrain_loss: 1.3720,\tval_loss: 310.4877\n",
      "20:\t[1s / 24s],\t\ttrain_loss: 1.3688,\tval_loss: 380.2205\n",
      "21:\t[1s / 25s],\t\ttrain_loss: 1.3662,\tval_loss: 348.3492\n",
      "22:\t[1s / 26s],\t\ttrain_loss: 1.3618,\tval_loss: 372.3979\n",
      "23:\t[1s / 27s],\t\ttrain_loss: 1.3608,\tval_loss: 272.5088\n",
      "24:\t[1s / 28s],\t\ttrain_loss: 1.3580,\tval_loss: 338.7491\n",
      "25:\t[1s / 29s],\t\ttrain_loss: 1.3579,\tval_loss: 312.8919\n",
      "26:\t[1s / 31s],\t\ttrain_loss: 1.3540,\tval_loss: 325.1862\n",
      "27:\t[2s / 33s],\t\ttrain_loss: 1.3501,\tval_loss: 321.1522\n",
      "28:\t[2s / 36s],\t\ttrain_loss: 1.3480,\tval_loss: 343.9400\n",
      "29:\t[1s / 37s],\t\ttrain_loss: 1.3449,\tval_loss: 311.9812\n",
      "30:\t[1s / 39s],\t\ttrain_loss: 1.3441,\tval_loss: 335.7747\n",
      "31:\t[1s / 41s],\t\ttrain_loss: 1.3408,\tval_loss: 333.3017\n",
      "32:\t[1s / 42s],\t\ttrain_loss: 1.3386,\tval_loss: 279.4369\n",
      "33:\t[1s / 43s],\t\ttrain_loss: 1.3360,\tval_loss: 271.1064\n",
      "34:\t[1s / 44s],\t\ttrain_loss: 1.3342,\tval_loss: 335.3157\n",
      "35:\t[1s / 46s],\t\ttrain_loss: 1.3346,\tval_loss: 336.5338\n",
      "36:\t[2s / 48s],\t\ttrain_loss: 1.3314,\tval_loss: 301.7129\n",
      "37:\t[1s / 50s],\t\ttrain_loss: 1.3279,\tval_loss: 321.1220\n",
      "38:\t[1s / 51s],\t\ttrain_loss: 1.3255,\tval_loss: 289.5733\n",
      "39:\t[1s / 52s],\t\ttrain_loss: 1.3237,\tval_loss: 314.9616\n",
      "40:\t[1s / 53s],\t\ttrain_loss: 1.3211,\tval_loss: 316.2885\n",
      "41:\t[1s / 55s],\t\ttrain_loss: 1.3192,\tval_loss: 339.8386\n",
      "42:\t[1s / 56s],\t\ttrain_loss: 1.3162,\tval_loss: 330.8965\n",
      "43:\t[1s / 57s],\t\ttrain_loss: 1.3174,\tval_loss: 270.2732\n",
      "44:\t[1s / 58s],\t\ttrain_loss: 1.3123,\tval_loss: 324.0611\n",
      "45:\t[1s / 1m:0s],\t\ttrain_loss: 1.3124,\tval_loss: 343.2808\n",
      "46:\t[1s / 1m:1s],\t\ttrain_loss: 1.3113,\tval_loss: 330.8094\n",
      "47:\t[1s / 1m:2s],\t\ttrain_loss: 1.3083,\tval_loss: 298.7174\n",
      "48:\t[1s / 1m:3s],\t\ttrain_loss: 1.3068,\tval_loss: 359.3284\n",
      "49:\t[1s / 1m:5s],\t\ttrain_loss: 1.3031,\tval_loss: 273.7493\n",
      "50:\t[1s / 1m:6s],\t\ttrain_loss: 1.3036,\tval_loss: 327.4770\n",
      "51:\t[1s / 1m:8s],\t\ttrain_loss: 1.3001,\tval_loss: 334.8833\n",
      "52:\t[1s / 1m:9s],\t\ttrain_loss: 1.2970,\tval_loss: 303.3438\n",
      "53:\t[1s / 1m:11s],\t\ttrain_loss: 1.2974,\tval_loss: 330.2990\n",
      "54:\t[1s / 1m:12s],\t\ttrain_loss: 1.2945,\tval_loss: 310.5937\n",
      "55:\t[1s / 1m:13s],\t\ttrain_loss: 1.2920,\tval_loss: 294.6249\n",
      "56:\t[1s / 1m:14s],\t\ttrain_loss: 1.2906,\tval_loss: 280.8743\n",
      "57:\t[1s / 1m:16s],\t\ttrain_loss: 1.2895,\tval_loss: 295.5592\n",
      "58:\t[1s / 1m:17s],\t\ttrain_loss: 1.2868,\tval_loss: 269.7829\n",
      "59:\t[1s / 1m:18s],\t\ttrain_loss: 1.2851,\tval_loss: 279.4842\n",
      "60:\t[1s / 1m:19s],\t\ttrain_loss: 1.2851,\tval_loss: 344.4339\n",
      "61:\t[1s / 1m:20s],\t\ttrain_loss: 1.2811,\tval_loss: 282.2435\n",
      "62:\t[1s / 1m:22s],\t\ttrain_loss: 1.2788,\tval_loss: 285.5640\n",
      "63:\t[1s / 1m:23s],\t\ttrain_loss: 1.2808,\tval_loss: 275.8467\n",
      "64:\t[1s / 1m:25s],\t\ttrain_loss: 1.2746,\tval_loss: 257.5811\n",
      "65:\t[2s / 1m:27s],\t\ttrain_loss: 1.2756,\tval_loss: 279.7443\n",
      "66:\t[1s / 1m:29s],\t\ttrain_loss: 1.2745,\tval_loss: 294.2690\n",
      "67:\t[1s / 1m:30s],\t\ttrain_loss: 1.2754,\tval_loss: 276.1952\n",
      "68:\t[2s / 1m:33s],\t\ttrain_loss: 1.2686,\tval_loss: 250.8855\n",
      "69:\t[4s / 1m:37s],\t\ttrain_loss: 1.2695,\tval_loss: 237.5296\n",
      "70:\t[1s / 1m:38s],\t\ttrain_loss: 1.2681,\tval_loss: 230.7429\n",
      "71:\t[1s / 1m:40s],\t\ttrain_loss: 1.2660,\tval_loss: 216.0397\n",
      "72:\t[1s / 1m:41s],\t\ttrain_loss: 1.2665,\tval_loss: 239.1463\n",
      "73:\t[1s / 1m:42s],\t\ttrain_loss: 1.2604,\tval_loss: 221.9181\n",
      "74:\t[1s / 1m:44s],\t\ttrain_loss: 1.2593,\tval_loss: 212.8692\n",
      "75:\t[1s / 1m:45s],\t\ttrain_loss: 1.2585,\tval_loss: 214.2487\n",
      "76:\t[1s / 1m:46s],\t\ttrain_loss: 1.2585,\tval_loss: 182.7080\n",
      "77:\t[1s / 1m:47s],\t\ttrain_loss: 1.2559,\tval_loss: 154.3046\n",
      "78:\t[1s / 1m:49s],\t\ttrain_loss: 1.2554,\tval_loss: 199.1695\n",
      "79:\t[1s / 1m:50s],\t\ttrain_loss: 1.2537,\tval_loss: 200.7390\n",
      "80:\t[1s / 1m:51s],\t\ttrain_loss: 1.2526,\tval_loss: 220.9492\n",
      "81:\t[1s / 1m:52s],\t\ttrain_loss: 1.2487,\tval_loss: 161.6515\n",
      "82:\t[1s / 1m:53s],\t\ttrain_loss: 1.2466,\tval_loss: 151.7643\n",
      "83:\t[1s / 1m:55s],\t\ttrain_loss: 1.2480,\tval_loss: 140.5105\n",
      "84:\t[1s / 1m:57s],\t\ttrain_loss: 1.2495,\tval_loss: 293.0732\n",
      "85:\t[1s / 1m:58s],\t\ttrain_loss: 1.2447,\tval_loss: 175.0241\n",
      "86:\t[1s / 1m:59s],\t\ttrain_loss: 1.2395,\tval_loss: 171.5945\n",
      "87:\t[1s / 2m:0s],\t\ttrain_loss: 1.2415,\tval_loss: 166.7673\n",
      "88:\t[1s / 2m:1s],\t\ttrain_loss: 1.2402,\tval_loss: 175.0378\n",
      "89:\t[1s / 2m:2s],\t\ttrain_loss: 1.2403,\tval_loss: 156.5185\n",
      "90:\t[1s / 2m:4s],\t\ttrain_loss: 1.2395,\tval_loss: 177.1043\n",
      "91:\t[1s / 2m:5s],\t\ttrain_loss: 1.2368,\tval_loss: 174.8864\n",
      "92:\t[1s / 2m:6s],\t\ttrain_loss: 1.2362,\tval_loss: 146.7506\n",
      "93:\t[1s / 2m:7s],\t\ttrain_loss: 1.2376,\tval_loss: 129.9996\n",
      "94:\t[1s / 2m:8s],\t\ttrain_loss: 1.2342,\tval_loss: 137.0601\n",
      "95:\t[1s / 2m:10s],\t\ttrain_loss: 1.2325,\tval_loss: 134.2200\n",
      "96:\t[1s / 2m:11s],\t\ttrain_loss: 1.2319,\tval_loss: 141.5021\n",
      "97:\t[1s / 2m:12s],\t\ttrain_loss: 1.2317,\tval_loss: 174.1641\n",
      "98:\t[1s / 2m:13s],\t\ttrain_loss: 1.2345,\tval_loss: 133.7809\n",
      "99:\t[1s / 2m:14s],\t\ttrain_loss: 1.2259,\tval_loss: 166.5795\n",
      "100:\t[1s / 2m:15s],\t\ttrain_loss: 1.2270,\tval_loss: 161.3012\n",
      "101:\t[1s / 2m:17s],\t\ttrain_loss: 1.2250,\tval_loss: 162.9919\n",
      "102:\t[1s / 2m:18s],\t\ttrain_loss: 1.2250,\tval_loss: 266.5652\n",
      "103:\t[1s / 2m:19s],\t\ttrain_loss: 1.2205,\tval_loss: 203.0990\n",
      "104:\t[1s / 2m:20s],\t\ttrain_loss: 1.2198,\tval_loss: 300.5289\n",
      "105:\t[1s / 2m:22s],\t\ttrain_loss: 1.2176,\tval_loss: 164.5139\n",
      "106:\t[1s / 2m:23s],\t\ttrain_loss: 1.2212,\tval_loss: 322.7976\n",
      "107:\t[1s / 2m:24s],\t\ttrain_loss: 1.2210,\tval_loss: 159.5535\n",
      "108:\t[1s / 2m:26s],\t\ttrain_loss: 1.2191,\tval_loss: 271.1515\n",
      "Current score: 0.6372563236307355 vs. best score: -100\n",
      "2/2: params: {'n_nodes': 64, 'dropout': 0.1, 'model_params': {'alpha': 0.2, 'sigma': 0.1}, 'epochs': 512, 'batch_size': 16, 'discrete': True, 'output_bias': True}\n",
      "Best learning rate:  0.005462277217684369\n",
      "0:\t[1s / 1s],\t\ttrain_loss: 1.4293,\tval_loss: 124.4335\n",
      "1:\t[2s / 4s],\t\ttrain_loss: 1.3631,\tval_loss: 231.0130\n",
      "2:\t[1s / 5s],\t\ttrain_loss: 1.3139,\tval_loss: 186.7716\n",
      "3:\t[1s / 7s],\t\ttrain_loss: 1.2813,\tval_loss: 436.8846\n",
      "4:\t[1s / 9s],\t\ttrain_loss: 1.2542,\tval_loss: 223.9198\n",
      "5:\t[1s / 10s],\t\ttrain_loss: 1.2292,\tval_loss: 170.0847\n",
      "6:\t[1s / 11s],\t\ttrain_loss: 1.2111,\tval_loss: 595.0883\n",
      "7:\t[1s / 12s],\t\ttrain_loss: 1.1949,\tval_loss: 240.6180\n",
      "8:\t[1s / 14s],\t\ttrain_loss: 1.1928,\tval_loss: 64.6298\n",
      "9:\t[1s / 15s],\t\ttrain_loss: 1.1678,\tval_loss: 292.6006\n",
      "10:\t[1s / 16s],\t\ttrain_loss: 1.1568,\tval_loss: 374.5154\n",
      "11:\t[1s / 18s],\t\ttrain_loss: 1.1442,\tval_loss: 113.6265\n",
      "12:\t[1s / 19s],\t\ttrain_loss: 1.1348,\tval_loss: 64.0501\n",
      "13:\t[1s / 20s],\t\ttrain_loss: 1.1236,\tval_loss: 784.8533\n",
      "14:\t[1s / 22s],\t\ttrain_loss: 1.1175,\tval_loss: 209.9946\n",
      "15:\t[1s / 23s],\t\ttrain_loss: 1.1090,\tval_loss: 56.8623\n",
      "16:\t[1s / 24s],\t\ttrain_loss: 1.0973,\tval_loss: 271.2534\n",
      "17:\t[1s / 26s],\t\ttrain_loss: 1.0919,\tval_loss: 93.7082\n",
      "18:\t[1s / 27s],\t\ttrain_loss: 1.0827,\tval_loss: 395.7160\n",
      "19:\t[1s / 28s],\t\ttrain_loss: 1.0786,\tval_loss: 74.4866\n",
      "20:\t[1s / 29s],\t\ttrain_loss: 1.0650,\tval_loss: 70.1179\n",
      "21:\t[1s / 30s],\t\ttrain_loss: 1.0630,\tval_loss: 53.9206\n",
      "22:\t[1s / 32s],\t\ttrain_loss: 1.0873,\tval_loss: 56.5037\n",
      "23:\t[1s / 33s],\t\ttrain_loss: 1.0581,\tval_loss: 65.3384\n",
      "24:\t[1s / 34s],\t\ttrain_loss: 1.0491,\tval_loss: 65.1594\n",
      "25:\t[1s / 36s],\t\ttrain_loss: 1.0514,\tval_loss: 68.5398\n",
      "26:\t[1s / 37s],\t\ttrain_loss: 1.0374,\tval_loss: 58.4090\n"
     ]
    },
    {
     "name": "stdout",
     "output_type": "stream",
     "text": [
      "27:\t[1s / 38s],\t\ttrain_loss: 1.0368,\tval_loss: 64.0916\n",
      "28:\t[1s / 40s],\t\ttrain_loss: 1.0373,\tval_loss: 78.5223\n",
      "29:\t[1s / 41s],\t\ttrain_loss: 1.0180,\tval_loss: 84.9396\n",
      "30:\t[1s / 42s],\t\ttrain_loss: 1.0266,\tval_loss: 67.3732\n",
      "31:\t[1s / 43s],\t\ttrain_loss: 1.0235,\tval_loss: 64.5239\n",
      "32:\t[1s / 45s],\t\ttrain_loss: 1.0357,\tval_loss: 70.4244\n",
      "33:\t[1s / 46s],\t\ttrain_loss: 1.0306,\tval_loss: 63.7743\n",
      "34:\t[1s / 47s],\t\ttrain_loss: 1.0040,\tval_loss: 68.0986\n",
      "35:\t[1s / 48s],\t\ttrain_loss: 1.0148,\tval_loss: 100.2245\n",
      "36:\t[1s / 49s],\t\ttrain_loss: 1.0087,\tval_loss: 76.6970\n",
      "Current score: 0.6439156444003863 vs. best score: 0.6372563236307355\n"
     ]
    }
   ],
   "source": [
    "grid_params = {\n",
    "    'n_nodes': [32, 64],\n",
    "    'dropout': [0.1],\n",
    "    'model_params': [{'alpha': 0.2, 'sigma': 0.1, 'duration_index': labtrans.cuts}],\n",
    "    'epochs': [512],\n",
    "    'batch_size': [16],\n",
    "    'discrete': [True],\n",
    "    'output_bias': [True],\n",
    "}\n",
    "\n",
    "best_model, table = grid_search_deep(train, val, test, labtrans.out_features, grid_params, DeepHitSingle)"
   ]
  },
  {
   "cell_type": "code",
   "execution_count": 269,
   "id": "b9978ef2",
   "metadata": {},
   "outputs": [
    {
     "data": {
      "text/html": [
       "<div>\n",
       "<style scoped>\n",
       "    .dataframe tbody tr th:only-of-type {\n",
       "        vertical-align: middle;\n",
       "    }\n",
       "\n",
       "    .dataframe tbody tr th {\n",
       "        vertical-align: top;\n",
       "    }\n",
       "\n",
       "    .dataframe thead th {\n",
       "        text-align: right;\n",
       "    }\n",
       "</style>\n",
       "<table border=\"1\" class=\"dataframe\">\n",
       "  <thead>\n",
       "    <tr style=\"text-align: right;\">\n",
       "      <th></th>\n",
       "      <th>n_nodes</th>\n",
       "      <th>dropout</th>\n",
       "      <th>model_params</th>\n",
       "      <th>epochs</th>\n",
       "      <th>batch_size</th>\n",
       "      <th>discrete</th>\n",
       "      <th>output_bias</th>\n",
       "      <th>lr</th>\n",
       "      <th>score</th>\n",
       "    </tr>\n",
       "  </thead>\n",
       "  <tbody>\n",
       "    <tr>\n",
       "      <th>0</th>\n",
       "      <td>32</td>\n",
       "      <td>0.1</td>\n",
       "      <td>{'alpha': 0.2, 'sigma': 0.1, 'duration_index':...</td>\n",
       "      <td>512</td>\n",
       "      <td>16</td>\n",
       "      <td>True</td>\n",
       "      <td>True</td>\n",
       "      <td>0.007925</td>\n",
       "      <td>0.630384</td>\n",
       "    </tr>\n",
       "    <tr>\n",
       "      <th>1</th>\n",
       "      <td>64</td>\n",
       "      <td>0.1</td>\n",
       "      <td>{'alpha': 0.2, 'sigma': 0.1, 'duration_index':...</td>\n",
       "      <td>512</td>\n",
       "      <td>16</td>\n",
       "      <td>True</td>\n",
       "      <td>True</td>\n",
       "      <td>0.000100</td>\n",
       "      <td>0.577057</td>\n",
       "    </tr>\n",
       "  </tbody>\n",
       "</table>\n",
       "</div>"
      ],
      "text/plain": [
       "   n_nodes  dropout                                       model_params  \\\n",
       "0       32      0.1  {'alpha': 0.2, 'sigma': 0.1, 'duration_index':...   \n",
       "1       64      0.1  {'alpha': 0.2, 'sigma': 0.1, 'duration_index':...   \n",
       "\n",
       "   epochs  batch_size  discrete  output_bias        lr     score  \n",
       "0     512          16      True         True  0.007925  0.630384  \n",
       "1     512          16      True         True  0.000100  0.577057  "
      ]
     },
     "execution_count": 269,
     "metadata": {},
     "output_type": "execute_result"
    }
   ],
   "source": [
    "table"
   ]
  },
  {
   "cell_type": "markdown",
   "id": "eb832e48",
   "metadata": {
    "heading_collapsed": true
   },
   "source": [
    "# Draft"
   ]
  },
  {
   "cell_type": "code",
   "execution_count": null,
   "id": "12edbf67",
   "metadata": {
    "hidden": true
   },
   "outputs": [],
   "source": []
  },
  {
   "cell_type": "code",
   "execution_count": 206,
   "id": "e980ffb7",
   "metadata": {
    "hidden": true
   },
   "outputs": [
    {
     "data": {
      "application/vnd.plotly.v1+json": {
       "config": {
        "plotlyServerURL": "https://plotly.com"
       },
       "data": [
        {
         "hovertemplate": "x=%{x}<br>y=%{y}<extra></extra>",
         "legendgroup": "",
         "line": {
          "color": "#636efa",
          "dash": "solid"
         },
         "mode": "lines",
         "name": "",
         "orientation": "v",
         "showlegend": false,
         "type": "scatter",
         "x": [
          1e-07,
          1.2045035402587822e-07,
          1.4508287784959398e-07,
          1.7475284000076842e-07,
          2.1049041445120208e-07,
          2.5353644939701124e-07,
          3.0538555088334166e-07,
          3.678379771828635e-07,
          4.430621457583883e-07,
          5.336699231206313e-07,
          6.428073117284325e-07,
          7.742636826811276e-07,
          9.326033468832207e-07,
          1.1233240329780285e-06,
          1.3530477745798083e-06,
          1.6297508346206458e-06,
          1.963040650040273e-06,
          2.3644894126454104e-06,
          2.8480358684358054e-06,
          3.430469286314923e-06,
          4.132012400115343e-06,
          4.9770235643321185e-06,
          5.99484250318942e-06,
          7.220809018385476e-06,
          8.697490026177848e-06,
          1.0476157527896668e-05,
          1.2618568830660228e-05,
          1.5199110829529368e-05,
          1.830738280295372e-05,
          2.2051307399030502e-05,
          2.656087782946692e-05,
          3.199267137797391e-05,
          3.853528593710538e-05,
          4.64158883361279e-05,
          5.590810182512238e-05,
          6.73415065775084e-05,
          8.111308307896891e-05,
          9.77009957299228e-05,
          0.00011768119524350017,
          0.00014174741629268092,
          0.00017073526474706957,
          0.00020565123083486573,
          0.0002477076355991719,
          0.00029836472402833486,
          0.00035938136638046387,
          0.00043287612810830723,
          0.0005214008287999703,
          0.0006280291441834275,
          0.0007564633275546315,
          0.0009111627561154925,
          0.0010974987654930601,
          0.001321941148466034,
          0.0015922827933410983,
          0.0019179102616724958,
          0.0023101297000831687,
          0.002782559402207136,
          0.0033516026509388557,
          0.004037017258596572,
          0.0048626015800653745,
          0.005857020818056691,
          0.0070548023107186745,
          0.00849753435908648,
          0.010235310218990308,
          0.012328467394420718,
          0.01484968262254472,
          0.017886495290574435,
          0.02154434690031894,
          0.025950242113997487,
          0.031257158496882514,
          0.03764935806792487,
          0.04534878508128605,
          0.05462277217684369,
          0.06579332246575716,
          0.07924828983539216,
          0.09545484566618392,
          0.11497569953977421,
          0.13848863713938808,
          0.16681005372000682,
          0.20092330025650584,
          0.2420128264794396,
          0.29150530628251936,
          0.35111917342151516,
          0.42292428743895233,
          0.509413801481641,
          0.613590727341321,
          0.7390722033525824,
          0.8902150854450441
         ],
         "xaxis": "x",
         "y": [
          1.4917874336242676,
          1.4208825826644897,
          1.425682783126831,
          1.4148547649383545,
          1.4394752979278564,
          1.4280285835266113,
          1.4438815116882324,
          1.4405510425567627,
          1.3875460624694824,
          1.505665898323059,
          1.417623519897461,
          1.5255869626998901,
          1.4978361129760742,
          1.5412962436676025,
          1.5365554094314575,
          1.3833749294281006,
          1.5439674854278564,
          1.5166133642196655,
          1.4768002033233643,
          1.5040606260299683,
          1.4470568895339966,
          1.458267092704773,
          1.4551937580108643,
          1.449357032775879,
          1.4014344215393066,
          1.4164040088653564,
          1.3502721786499023,
          1.4128960371017456,
          1.42250394821167,
          1.4048011302947998,
          1.5174260139465332,
          1.4399850368499756,
          1.444887399673462,
          1.5307737588882446,
          1.4839138984680176,
          1.424299716949463,
          1.4732239246368408,
          1.3965128660202026,
          1.5004405975341797,
          1.4720412492752075,
          1.4930410385131836,
          1.4508557319641113,
          1.4762306213378906,
          1.4312082529067993,
          1.4495306015014648,
          1.4495959281921387,
          1.4807013273239136,
          1.476309895515442,
          1.5032224655151367,
          1.4872032403945923,
          1.5524338483810425,
          1.4696214199066162,
          1.5085219144821167,
          1.470461368560791,
          1.4967613220214844,
          1.451461911201477,
          1.435888409614563,
          1.4562960863113403,
          1.415877342224121,
          1.4112932682037354,
          1.4371274709701538,
          1.4213109016418457,
          1.412315845489502,
          1.4047999382019043,
          1.4315993785858154,
          1.4470192193984985,
          1.4004173278808594,
          1.4265989065170288,
          1.4519051313400269,
          1.4477344751358032,
          1.3834635019302368,
          1.474552869796753,
          1.4383963346481323,
          1.4389691352844238,
          1.3614753484725952,
          1.454951286315918,
          1.503200650215149,
          1.3614132404327393,
          1.396492600440979,
          1.480518102645874,
          1.3857262134552002,
          1.3725141286849976,
          1.4105173349380493,
          1.4488458633422852,
          1.5620323419570923,
          2.701261281967163,
          21.057519912719727
         ],
         "yaxis": "y"
        }
       ],
       "layout": {
        "height": 400,
        "legend": {
         "tracegroupgap": 0
        },
        "margin": {
         "t": 60
        },
        "template": {
         "data": {
          "bar": [
           {
            "error_x": {
             "color": "#2a3f5f"
            },
            "error_y": {
             "color": "#2a3f5f"
            },
            "marker": {
             "line": {
              "color": "white",
              "width": 0.5
             }
            },
            "type": "bar"
           }
          ],
          "barpolar": [
           {
            "marker": {
             "line": {
              "color": "white",
              "width": 0.5
             }
            },
            "type": "barpolar"
           }
          ],
          "carpet": [
           {
            "aaxis": {
             "endlinecolor": "#2a3f5f",
             "gridcolor": "#C8D4E3",
             "linecolor": "#C8D4E3",
             "minorgridcolor": "#C8D4E3",
             "startlinecolor": "#2a3f5f"
            },
            "baxis": {
             "endlinecolor": "#2a3f5f",
             "gridcolor": "#C8D4E3",
             "linecolor": "#C8D4E3",
             "minorgridcolor": "#C8D4E3",
             "startlinecolor": "#2a3f5f"
            },
            "type": "carpet"
           }
          ],
          "choropleth": [
           {
            "colorbar": {
             "outlinewidth": 0,
             "ticks": ""
            },
            "type": "choropleth"
           }
          ],
          "contour": [
           {
            "colorbar": {
             "outlinewidth": 0,
             "ticks": ""
            },
            "colorscale": [
             [
              0,
              "#0d0887"
             ],
             [
              0.1111111111111111,
              "#46039f"
             ],
             [
              0.2222222222222222,
              "#7201a8"
             ],
             [
              0.3333333333333333,
              "#9c179e"
             ],
             [
              0.4444444444444444,
              "#bd3786"
             ],
             [
              0.5555555555555556,
              "#d8576b"
             ],
             [
              0.6666666666666666,
              "#ed7953"
             ],
             [
              0.7777777777777778,
              "#fb9f3a"
             ],
             [
              0.8888888888888888,
              "#fdca26"
             ],
             [
              1,
              "#f0f921"
             ]
            ],
            "type": "contour"
           }
          ],
          "contourcarpet": [
           {
            "colorbar": {
             "outlinewidth": 0,
             "ticks": ""
            },
            "type": "contourcarpet"
           }
          ],
          "heatmap": [
           {
            "colorbar": {
             "outlinewidth": 0,
             "ticks": ""
            },
            "colorscale": [
             [
              0,
              "#0d0887"
             ],
             [
              0.1111111111111111,
              "#46039f"
             ],
             [
              0.2222222222222222,
              "#7201a8"
             ],
             [
              0.3333333333333333,
              "#9c179e"
             ],
             [
              0.4444444444444444,
              "#bd3786"
             ],
             [
              0.5555555555555556,
              "#d8576b"
             ],
             [
              0.6666666666666666,
              "#ed7953"
             ],
             [
              0.7777777777777778,
              "#fb9f3a"
             ],
             [
              0.8888888888888888,
              "#fdca26"
             ],
             [
              1,
              "#f0f921"
             ]
            ],
            "type": "heatmap"
           }
          ],
          "heatmapgl": [
           {
            "colorbar": {
             "outlinewidth": 0,
             "ticks": ""
            },
            "colorscale": [
             [
              0,
              "#0d0887"
             ],
             [
              0.1111111111111111,
              "#46039f"
             ],
             [
              0.2222222222222222,
              "#7201a8"
             ],
             [
              0.3333333333333333,
              "#9c179e"
             ],
             [
              0.4444444444444444,
              "#bd3786"
             ],
             [
              0.5555555555555556,
              "#d8576b"
             ],
             [
              0.6666666666666666,
              "#ed7953"
             ],
             [
              0.7777777777777778,
              "#fb9f3a"
             ],
             [
              0.8888888888888888,
              "#fdca26"
             ],
             [
              1,
              "#f0f921"
             ]
            ],
            "type": "heatmapgl"
           }
          ],
          "histogram": [
           {
            "marker": {
             "colorbar": {
              "outlinewidth": 0,
              "ticks": ""
             }
            },
            "type": "histogram"
           }
          ],
          "histogram2d": [
           {
            "colorbar": {
             "outlinewidth": 0,
             "ticks": ""
            },
            "colorscale": [
             [
              0,
              "#0d0887"
             ],
             [
              0.1111111111111111,
              "#46039f"
             ],
             [
              0.2222222222222222,
              "#7201a8"
             ],
             [
              0.3333333333333333,
              "#9c179e"
             ],
             [
              0.4444444444444444,
              "#bd3786"
             ],
             [
              0.5555555555555556,
              "#d8576b"
             ],
             [
              0.6666666666666666,
              "#ed7953"
             ],
             [
              0.7777777777777778,
              "#fb9f3a"
             ],
             [
              0.8888888888888888,
              "#fdca26"
             ],
             [
              1,
              "#f0f921"
             ]
            ],
            "type": "histogram2d"
           }
          ],
          "histogram2dcontour": [
           {
            "colorbar": {
             "outlinewidth": 0,
             "ticks": ""
            },
            "colorscale": [
             [
              0,
              "#0d0887"
             ],
             [
              0.1111111111111111,
              "#46039f"
             ],
             [
              0.2222222222222222,
              "#7201a8"
             ],
             [
              0.3333333333333333,
              "#9c179e"
             ],
             [
              0.4444444444444444,
              "#bd3786"
             ],
             [
              0.5555555555555556,
              "#d8576b"
             ],
             [
              0.6666666666666666,
              "#ed7953"
             ],
             [
              0.7777777777777778,
              "#fb9f3a"
             ],
             [
              0.8888888888888888,
              "#fdca26"
             ],
             [
              1,
              "#f0f921"
             ]
            ],
            "type": "histogram2dcontour"
           }
          ],
          "mesh3d": [
           {
            "colorbar": {
             "outlinewidth": 0,
             "ticks": ""
            },
            "type": "mesh3d"
           }
          ],
          "parcoords": [
           {
            "line": {
             "colorbar": {
              "outlinewidth": 0,
              "ticks": ""
             }
            },
            "type": "parcoords"
           }
          ],
          "pie": [
           {
            "automargin": true,
            "type": "pie"
           }
          ],
          "scatter": [
           {
            "marker": {
             "colorbar": {
              "outlinewidth": 0,
              "ticks": ""
             }
            },
            "type": "scatter"
           }
          ],
          "scatter3d": [
           {
            "line": {
             "colorbar": {
              "outlinewidth": 0,
              "ticks": ""
             }
            },
            "marker": {
             "colorbar": {
              "outlinewidth": 0,
              "ticks": ""
             }
            },
            "type": "scatter3d"
           }
          ],
          "scattercarpet": [
           {
            "marker": {
             "colorbar": {
              "outlinewidth": 0,
              "ticks": ""
             }
            },
            "type": "scattercarpet"
           }
          ],
          "scattergeo": [
           {
            "marker": {
             "colorbar": {
              "outlinewidth": 0,
              "ticks": ""
             }
            },
            "type": "scattergeo"
           }
          ],
          "scattergl": [
           {
            "marker": {
             "colorbar": {
              "outlinewidth": 0,
              "ticks": ""
             }
            },
            "type": "scattergl"
           }
          ],
          "scattermapbox": [
           {
            "marker": {
             "colorbar": {
              "outlinewidth": 0,
              "ticks": ""
             }
            },
            "type": "scattermapbox"
           }
          ],
          "scatterpolar": [
           {
            "marker": {
             "colorbar": {
              "outlinewidth": 0,
              "ticks": ""
             }
            },
            "type": "scatterpolar"
           }
          ],
          "scatterpolargl": [
           {
            "marker": {
             "colorbar": {
              "outlinewidth": 0,
              "ticks": ""
             }
            },
            "type": "scatterpolargl"
           }
          ],
          "scatterternary": [
           {
            "marker": {
             "colorbar": {
              "outlinewidth": 0,
              "ticks": ""
             }
            },
            "type": "scatterternary"
           }
          ],
          "surface": [
           {
            "colorbar": {
             "outlinewidth": 0,
             "ticks": ""
            },
            "colorscale": [
             [
              0,
              "#0d0887"
             ],
             [
              0.1111111111111111,
              "#46039f"
             ],
             [
              0.2222222222222222,
              "#7201a8"
             ],
             [
              0.3333333333333333,
              "#9c179e"
             ],
             [
              0.4444444444444444,
              "#bd3786"
             ],
             [
              0.5555555555555556,
              "#d8576b"
             ],
             [
              0.6666666666666666,
              "#ed7953"
             ],
             [
              0.7777777777777778,
              "#fb9f3a"
             ],
             [
              0.8888888888888888,
              "#fdca26"
             ],
             [
              1,
              "#f0f921"
             ]
            ],
            "type": "surface"
           }
          ],
          "table": [
           {
            "cells": {
             "fill": {
              "color": "#EBF0F8"
             },
             "line": {
              "color": "white"
             }
            },
            "header": {
             "fill": {
              "color": "#C8D4E3"
             },
             "line": {
              "color": "white"
             }
            },
            "type": "table"
           }
          ]
         },
         "layout": {
          "annotationdefaults": {
           "arrowcolor": "#2a3f5f",
           "arrowhead": 0,
           "arrowwidth": 1
          },
          "autotypenumbers": "strict",
          "coloraxis": {
           "colorbar": {
            "outlinewidth": 0,
            "ticks": ""
           }
          },
          "colorscale": {
           "diverging": [
            [
             0,
             "#8e0152"
            ],
            [
             0.1,
             "#c51b7d"
            ],
            [
             0.2,
             "#de77ae"
            ],
            [
             0.3,
             "#f1b6da"
            ],
            [
             0.4,
             "#fde0ef"
            ],
            [
             0.5,
             "#f7f7f7"
            ],
            [
             0.6,
             "#e6f5d0"
            ],
            [
             0.7,
             "#b8e186"
            ],
            [
             0.8,
             "#7fbc41"
            ],
            [
             0.9,
             "#4d9221"
            ],
            [
             1,
             "#276419"
            ]
           ],
           "sequential": [
            [
             0,
             "#0d0887"
            ],
            [
             0.1111111111111111,
             "#46039f"
            ],
            [
             0.2222222222222222,
             "#7201a8"
            ],
            [
             0.3333333333333333,
             "#9c179e"
            ],
            [
             0.4444444444444444,
             "#bd3786"
            ],
            [
             0.5555555555555556,
             "#d8576b"
            ],
            [
             0.6666666666666666,
             "#ed7953"
            ],
            [
             0.7777777777777778,
             "#fb9f3a"
            ],
            [
             0.8888888888888888,
             "#fdca26"
            ],
            [
             1,
             "#f0f921"
            ]
           ],
           "sequentialminus": [
            [
             0,
             "#0d0887"
            ],
            [
             0.1111111111111111,
             "#46039f"
            ],
            [
             0.2222222222222222,
             "#7201a8"
            ],
            [
             0.3333333333333333,
             "#9c179e"
            ],
            [
             0.4444444444444444,
             "#bd3786"
            ],
            [
             0.5555555555555556,
             "#d8576b"
            ],
            [
             0.6666666666666666,
             "#ed7953"
            ],
            [
             0.7777777777777778,
             "#fb9f3a"
            ],
            [
             0.8888888888888888,
             "#fdca26"
            ],
            [
             1,
             "#f0f921"
            ]
           ]
          },
          "colorway": [
           "#636efa",
           "#EF553B",
           "#00cc96",
           "#ab63fa",
           "#FFA15A",
           "#19d3f3",
           "#FF6692",
           "#B6E880",
           "#FF97FF",
           "#FECB52"
          ],
          "font": {
           "color": "#2a3f5f"
          },
          "geo": {
           "bgcolor": "white",
           "lakecolor": "white",
           "landcolor": "white",
           "showlakes": true,
           "showland": true,
           "subunitcolor": "#C8D4E3"
          },
          "hoverlabel": {
           "align": "left"
          },
          "hovermode": "closest",
          "mapbox": {
           "style": "light"
          },
          "paper_bgcolor": "white",
          "plot_bgcolor": "white",
          "polar": {
           "angularaxis": {
            "gridcolor": "#EBF0F8",
            "linecolor": "#EBF0F8",
            "ticks": ""
           },
           "bgcolor": "white",
           "radialaxis": {
            "gridcolor": "#EBF0F8",
            "linecolor": "#EBF0F8",
            "ticks": ""
           }
          },
          "scene": {
           "xaxis": {
            "backgroundcolor": "white",
            "gridcolor": "#DFE8F3",
            "gridwidth": 2,
            "linecolor": "#EBF0F8",
            "showbackground": true,
            "ticks": "",
            "zerolinecolor": "#EBF0F8"
           },
           "yaxis": {
            "backgroundcolor": "white",
            "gridcolor": "#DFE8F3",
            "gridwidth": 2,
            "linecolor": "#EBF0F8",
            "showbackground": true,
            "ticks": "",
            "zerolinecolor": "#EBF0F8"
           },
           "zaxis": {
            "backgroundcolor": "white",
            "gridcolor": "#DFE8F3",
            "gridwidth": 2,
            "linecolor": "#EBF0F8",
            "showbackground": true,
            "ticks": "",
            "zerolinecolor": "#EBF0F8"
           }
          },
          "shapedefaults": {
           "line": {
            "color": "#2a3f5f"
           }
          },
          "ternary": {
           "aaxis": {
            "gridcolor": "#DFE8F3",
            "linecolor": "#A2B1C6",
            "ticks": ""
           },
           "baxis": {
            "gridcolor": "#DFE8F3",
            "linecolor": "#A2B1C6",
            "ticks": ""
           },
           "bgcolor": "white",
           "caxis": {
            "gridcolor": "#DFE8F3",
            "linecolor": "#A2B1C6",
            "ticks": ""
           }
          },
          "title": {
           "x": 0.05
          },
          "xaxis": {
           "automargin": true,
           "gridcolor": "#EBF0F8",
           "linecolor": "#EBF0F8",
           "ticks": "",
           "title": {
            "standoff": 15
           },
           "zerolinecolor": "#EBF0F8",
           "zerolinewidth": 2
          },
          "yaxis": {
           "automargin": true,
           "gridcolor": "#EBF0F8",
           "linecolor": "#EBF0F8",
           "ticks": "",
           "title": {
            "standoff": 15
           },
           "zerolinecolor": "#EBF0F8",
           "zerolinewidth": 2
          }
         }
        },
        "width": 700,
        "xaxis": {
         "anchor": "y",
         "domain": [
          0,
          1
         ],
         "title": {
          "text": "lr"
         },
         "type": "log"
        },
        "yaxis": {
         "anchor": "x",
         "domain": [
          0,
          1
         ],
         "title": {
          "text": "batch_loss"
         }
        }
       }
      },
      "text/html": [
       "<div>                            <div id=\"abd874e7-0079-4de3-a117-24e873ee9742\" class=\"plotly-graph-div\" style=\"height:400px; width:700px;\"></div>            <script type=\"text/javascript\">                require([\"plotly\"], function(Plotly) {                    window.PLOTLYENV=window.PLOTLYENV || {};                                    if (document.getElementById(\"abd874e7-0079-4de3-a117-24e873ee9742\")) {                    Plotly.newPlot(                        \"abd874e7-0079-4de3-a117-24e873ee9742\",                        [{\"hovertemplate\": \"x=%{x}<br>y=%{y}<extra></extra>\", \"legendgroup\": \"\", \"line\": {\"color\": \"#636efa\", \"dash\": \"solid\"}, \"mode\": \"lines\", \"name\": \"\", \"orientation\": \"v\", \"showlegend\": false, \"type\": \"scatter\", \"x\": [1e-07, 1.2045035402587822e-07, 1.4508287784959398e-07, 1.7475284000076842e-07, 2.1049041445120208e-07, 2.5353644939701124e-07, 3.0538555088334166e-07, 3.678379771828635e-07, 4.430621457583883e-07, 5.336699231206313e-07, 6.428073117284325e-07, 7.742636826811276e-07, 9.326033468832207e-07, 1.1233240329780285e-06, 1.3530477745798083e-06, 1.6297508346206458e-06, 1.963040650040273e-06, 2.3644894126454104e-06, 2.8480358684358054e-06, 3.430469286314923e-06, 4.132012400115343e-06, 4.9770235643321185e-06, 5.99484250318942e-06, 7.220809018385476e-06, 8.697490026177848e-06, 1.0476157527896668e-05, 1.2618568830660228e-05, 1.5199110829529368e-05, 1.830738280295372e-05, 2.2051307399030502e-05, 2.656087782946692e-05, 3.199267137797391e-05, 3.853528593710538e-05, 4.64158883361279e-05, 5.590810182512238e-05, 6.73415065775084e-05, 8.111308307896891e-05, 9.77009957299228e-05, 0.00011768119524350017, 0.00014174741629268092, 0.00017073526474706957, 0.00020565123083486573, 0.0002477076355991719, 0.00029836472402833486, 0.00035938136638046387, 0.00043287612810830723, 0.0005214008287999703, 0.0006280291441834275, 0.0007564633275546315, 0.0009111627561154925, 0.0010974987654930601, 0.001321941148466034, 0.0015922827933410983, 0.0019179102616724958, 0.0023101297000831687, 0.002782559402207136, 0.0033516026509388557, 0.004037017258596572, 0.0048626015800653745, 0.005857020818056691, 0.0070548023107186745, 0.00849753435908648, 0.010235310218990308, 0.012328467394420718, 0.01484968262254472, 0.017886495290574435, 0.02154434690031894, 0.025950242113997487, 0.031257158496882514, 0.03764935806792487, 0.04534878508128605, 0.05462277217684369, 0.06579332246575716, 0.07924828983539216, 0.09545484566618392, 0.11497569953977421, 0.13848863713938808, 0.16681005372000682, 0.20092330025650584, 0.2420128264794396, 0.29150530628251936, 0.35111917342151516, 0.42292428743895233, 0.509413801481641, 0.613590727341321, 0.7390722033525824, 0.8902150854450441], \"xaxis\": \"x\", \"y\": [1.4917874336242676, 1.4208825826644897, 1.425682783126831, 1.4148547649383545, 1.4394752979278564, 1.4280285835266113, 1.4438815116882324, 1.4405510425567627, 1.3875460624694824, 1.505665898323059, 1.417623519897461, 1.5255869626998901, 1.4978361129760742, 1.5412962436676025, 1.5365554094314575, 1.3833749294281006, 1.5439674854278564, 1.5166133642196655, 1.4768002033233643, 1.5040606260299683, 1.4470568895339966, 1.458267092704773, 1.4551937580108643, 1.449357032775879, 1.4014344215393066, 1.4164040088653564, 1.3502721786499023, 1.4128960371017456, 1.42250394821167, 1.4048011302947998, 1.5174260139465332, 1.4399850368499756, 1.444887399673462, 1.5307737588882446, 1.4839138984680176, 1.424299716949463, 1.4732239246368408, 1.3965128660202026, 1.5004405975341797, 1.4720412492752075, 1.4930410385131836, 1.4508557319641113, 1.4762306213378906, 1.4312082529067993, 1.4495306015014648, 1.4495959281921387, 1.4807013273239136, 1.476309895515442, 1.5032224655151367, 1.4872032403945923, 1.5524338483810425, 1.4696214199066162, 1.5085219144821167, 1.470461368560791, 1.4967613220214844, 1.451461911201477, 1.435888409614563, 1.4562960863113403, 1.415877342224121, 1.4112932682037354, 1.4371274709701538, 1.4213109016418457, 1.412315845489502, 1.4047999382019043, 1.4315993785858154, 1.4470192193984985, 1.4004173278808594, 1.4265989065170288, 1.4519051313400269, 1.4477344751358032, 1.3834635019302368, 1.474552869796753, 1.4383963346481323, 1.4389691352844238, 1.3614753484725952, 1.454951286315918, 1.503200650215149, 1.3614132404327393, 1.396492600440979, 1.480518102645874, 1.3857262134552002, 1.3725141286849976, 1.4105173349380493, 1.4488458633422852, 1.5620323419570923, 2.701261281967163, 21.057519912719727], \"yaxis\": \"y\"}],                        {\"height\": 400, \"legend\": {\"tracegroupgap\": 0}, \"margin\": {\"t\": 60}, \"template\": {\"data\": {\"bar\": [{\"error_x\": {\"color\": \"#2a3f5f\"}, \"error_y\": {\"color\": \"#2a3f5f\"}, \"marker\": {\"line\": {\"color\": \"white\", \"width\": 0.5}}, \"type\": \"bar\"}], \"barpolar\": [{\"marker\": {\"line\": {\"color\": \"white\", \"width\": 0.5}}, \"type\": \"barpolar\"}], \"carpet\": [{\"aaxis\": {\"endlinecolor\": \"#2a3f5f\", \"gridcolor\": \"#C8D4E3\", \"linecolor\": \"#C8D4E3\", \"minorgridcolor\": \"#C8D4E3\", \"startlinecolor\": \"#2a3f5f\"}, \"baxis\": {\"endlinecolor\": \"#2a3f5f\", \"gridcolor\": \"#C8D4E3\", \"linecolor\": \"#C8D4E3\", \"minorgridcolor\": \"#C8D4E3\", \"startlinecolor\": \"#2a3f5f\"}, \"type\": \"carpet\"}], \"choropleth\": [{\"colorbar\": {\"outlinewidth\": 0, \"ticks\": \"\"}, \"type\": \"choropleth\"}], \"contour\": [{\"colorbar\": {\"outlinewidth\": 0, \"ticks\": \"\"}, \"colorscale\": [[0.0, \"#0d0887\"], [0.1111111111111111, \"#46039f\"], [0.2222222222222222, \"#7201a8\"], [0.3333333333333333, \"#9c179e\"], [0.4444444444444444, \"#bd3786\"], [0.5555555555555556, \"#d8576b\"], [0.6666666666666666, \"#ed7953\"], [0.7777777777777778, \"#fb9f3a\"], [0.8888888888888888, \"#fdca26\"], [1.0, \"#f0f921\"]], \"type\": \"contour\"}], \"contourcarpet\": [{\"colorbar\": {\"outlinewidth\": 0, \"ticks\": \"\"}, \"type\": \"contourcarpet\"}], \"heatmap\": [{\"colorbar\": {\"outlinewidth\": 0, \"ticks\": \"\"}, \"colorscale\": [[0.0, \"#0d0887\"], [0.1111111111111111, \"#46039f\"], [0.2222222222222222, \"#7201a8\"], [0.3333333333333333, \"#9c179e\"], [0.4444444444444444, \"#bd3786\"], [0.5555555555555556, \"#d8576b\"], [0.6666666666666666, \"#ed7953\"], [0.7777777777777778, \"#fb9f3a\"], [0.8888888888888888, \"#fdca26\"], [1.0, \"#f0f921\"]], \"type\": \"heatmap\"}], \"heatmapgl\": [{\"colorbar\": {\"outlinewidth\": 0, \"ticks\": \"\"}, \"colorscale\": [[0.0, \"#0d0887\"], [0.1111111111111111, \"#46039f\"], [0.2222222222222222, \"#7201a8\"], [0.3333333333333333, \"#9c179e\"], [0.4444444444444444, \"#bd3786\"], [0.5555555555555556, \"#d8576b\"], [0.6666666666666666, \"#ed7953\"], [0.7777777777777778, \"#fb9f3a\"], [0.8888888888888888, \"#fdca26\"], [1.0, \"#f0f921\"]], \"type\": \"heatmapgl\"}], \"histogram\": [{\"marker\": {\"colorbar\": {\"outlinewidth\": 0, \"ticks\": \"\"}}, \"type\": \"histogram\"}], \"histogram2d\": [{\"colorbar\": {\"outlinewidth\": 0, \"ticks\": \"\"}, \"colorscale\": [[0.0, \"#0d0887\"], [0.1111111111111111, \"#46039f\"], [0.2222222222222222, \"#7201a8\"], [0.3333333333333333, \"#9c179e\"], [0.4444444444444444, \"#bd3786\"], [0.5555555555555556, \"#d8576b\"], [0.6666666666666666, \"#ed7953\"], [0.7777777777777778, \"#fb9f3a\"], [0.8888888888888888, \"#fdca26\"], [1.0, \"#f0f921\"]], \"type\": \"histogram2d\"}], \"histogram2dcontour\": [{\"colorbar\": {\"outlinewidth\": 0, \"ticks\": \"\"}, \"colorscale\": [[0.0, \"#0d0887\"], [0.1111111111111111, \"#46039f\"], [0.2222222222222222, \"#7201a8\"], [0.3333333333333333, \"#9c179e\"], [0.4444444444444444, \"#bd3786\"], [0.5555555555555556, \"#d8576b\"], [0.6666666666666666, \"#ed7953\"], [0.7777777777777778, \"#fb9f3a\"], [0.8888888888888888, \"#fdca26\"], [1.0, \"#f0f921\"]], \"type\": \"histogram2dcontour\"}], \"mesh3d\": [{\"colorbar\": {\"outlinewidth\": 0, \"ticks\": \"\"}, \"type\": \"mesh3d\"}], \"parcoords\": [{\"line\": {\"colorbar\": {\"outlinewidth\": 0, \"ticks\": \"\"}}, \"type\": \"parcoords\"}], \"pie\": [{\"automargin\": true, \"type\": \"pie\"}], \"scatter\": [{\"marker\": {\"colorbar\": {\"outlinewidth\": 0, \"ticks\": \"\"}}, \"type\": \"scatter\"}], \"scatter3d\": [{\"line\": {\"colorbar\": {\"outlinewidth\": 0, \"ticks\": \"\"}}, \"marker\": {\"colorbar\": {\"outlinewidth\": 0, \"ticks\": \"\"}}, \"type\": \"scatter3d\"}], \"scattercarpet\": [{\"marker\": {\"colorbar\": {\"outlinewidth\": 0, \"ticks\": \"\"}}, \"type\": \"scattercarpet\"}], \"scattergeo\": [{\"marker\": {\"colorbar\": {\"outlinewidth\": 0, \"ticks\": \"\"}}, \"type\": \"scattergeo\"}], \"scattergl\": [{\"marker\": {\"colorbar\": {\"outlinewidth\": 0, \"ticks\": \"\"}}, \"type\": \"scattergl\"}], \"scattermapbox\": [{\"marker\": {\"colorbar\": {\"outlinewidth\": 0, \"ticks\": \"\"}}, \"type\": \"scattermapbox\"}], \"scatterpolar\": [{\"marker\": {\"colorbar\": {\"outlinewidth\": 0, \"ticks\": \"\"}}, \"type\": \"scatterpolar\"}], \"scatterpolargl\": [{\"marker\": {\"colorbar\": {\"outlinewidth\": 0, \"ticks\": \"\"}}, \"type\": \"scatterpolargl\"}], \"scatterternary\": [{\"marker\": {\"colorbar\": {\"outlinewidth\": 0, \"ticks\": \"\"}}, \"type\": \"scatterternary\"}], \"surface\": [{\"colorbar\": {\"outlinewidth\": 0, \"ticks\": \"\"}, \"colorscale\": [[0.0, \"#0d0887\"], [0.1111111111111111, \"#46039f\"], [0.2222222222222222, \"#7201a8\"], [0.3333333333333333, \"#9c179e\"], [0.4444444444444444, \"#bd3786\"], [0.5555555555555556, \"#d8576b\"], [0.6666666666666666, \"#ed7953\"], [0.7777777777777778, \"#fb9f3a\"], [0.8888888888888888, \"#fdca26\"], [1.0, \"#f0f921\"]], \"type\": \"surface\"}], \"table\": [{\"cells\": {\"fill\": {\"color\": \"#EBF0F8\"}, \"line\": {\"color\": \"white\"}}, \"header\": {\"fill\": {\"color\": \"#C8D4E3\"}, \"line\": {\"color\": \"white\"}}, \"type\": \"table\"}]}, \"layout\": {\"annotationdefaults\": {\"arrowcolor\": \"#2a3f5f\", \"arrowhead\": 0, \"arrowwidth\": 1}, \"autotypenumbers\": \"strict\", \"coloraxis\": {\"colorbar\": {\"outlinewidth\": 0, \"ticks\": \"\"}}, \"colorscale\": {\"diverging\": [[0, \"#8e0152\"], [0.1, \"#c51b7d\"], [0.2, \"#de77ae\"], [0.3, \"#f1b6da\"], [0.4, \"#fde0ef\"], [0.5, \"#f7f7f7\"], [0.6, \"#e6f5d0\"], [0.7, \"#b8e186\"], [0.8, \"#7fbc41\"], [0.9, \"#4d9221\"], [1, \"#276419\"]], \"sequential\": [[0.0, \"#0d0887\"], [0.1111111111111111, \"#46039f\"], [0.2222222222222222, \"#7201a8\"], [0.3333333333333333, \"#9c179e\"], [0.4444444444444444, \"#bd3786\"], [0.5555555555555556, \"#d8576b\"], [0.6666666666666666, \"#ed7953\"], [0.7777777777777778, \"#fb9f3a\"], [0.8888888888888888, \"#fdca26\"], [1.0, \"#f0f921\"]], \"sequentialminus\": [[0.0, \"#0d0887\"], [0.1111111111111111, \"#46039f\"], [0.2222222222222222, \"#7201a8\"], [0.3333333333333333, \"#9c179e\"], [0.4444444444444444, \"#bd3786\"], [0.5555555555555556, \"#d8576b\"], [0.6666666666666666, \"#ed7953\"], [0.7777777777777778, \"#fb9f3a\"], [0.8888888888888888, \"#fdca26\"], [1.0, \"#f0f921\"]]}, \"colorway\": [\"#636efa\", \"#EF553B\", \"#00cc96\", \"#ab63fa\", \"#FFA15A\", \"#19d3f3\", \"#FF6692\", \"#B6E880\", \"#FF97FF\", \"#FECB52\"], \"font\": {\"color\": \"#2a3f5f\"}, \"geo\": {\"bgcolor\": \"white\", \"lakecolor\": \"white\", \"landcolor\": \"white\", \"showlakes\": true, \"showland\": true, \"subunitcolor\": \"#C8D4E3\"}, \"hoverlabel\": {\"align\": \"left\"}, \"hovermode\": \"closest\", \"mapbox\": {\"style\": \"light\"}, \"paper_bgcolor\": \"white\", \"plot_bgcolor\": \"white\", \"polar\": {\"angularaxis\": {\"gridcolor\": \"#EBF0F8\", \"linecolor\": \"#EBF0F8\", \"ticks\": \"\"}, \"bgcolor\": \"white\", \"radialaxis\": {\"gridcolor\": \"#EBF0F8\", \"linecolor\": \"#EBF0F8\", \"ticks\": \"\"}}, \"scene\": {\"xaxis\": {\"backgroundcolor\": \"white\", \"gridcolor\": \"#DFE8F3\", \"gridwidth\": 2, \"linecolor\": \"#EBF0F8\", \"showbackground\": true, \"ticks\": \"\", \"zerolinecolor\": \"#EBF0F8\"}, \"yaxis\": {\"backgroundcolor\": \"white\", \"gridcolor\": \"#DFE8F3\", \"gridwidth\": 2, \"linecolor\": \"#EBF0F8\", \"showbackground\": true, \"ticks\": \"\", \"zerolinecolor\": \"#EBF0F8\"}, \"zaxis\": {\"backgroundcolor\": \"white\", \"gridcolor\": \"#DFE8F3\", \"gridwidth\": 2, \"linecolor\": \"#EBF0F8\", \"showbackground\": true, \"ticks\": \"\", \"zerolinecolor\": \"#EBF0F8\"}}, \"shapedefaults\": {\"line\": {\"color\": \"#2a3f5f\"}}, \"ternary\": {\"aaxis\": {\"gridcolor\": \"#DFE8F3\", \"linecolor\": \"#A2B1C6\", \"ticks\": \"\"}, \"baxis\": {\"gridcolor\": \"#DFE8F3\", \"linecolor\": \"#A2B1C6\", \"ticks\": \"\"}, \"bgcolor\": \"white\", \"caxis\": {\"gridcolor\": \"#DFE8F3\", \"linecolor\": \"#A2B1C6\", \"ticks\": \"\"}}, \"title\": {\"x\": 0.05}, \"xaxis\": {\"automargin\": true, \"gridcolor\": \"#EBF0F8\", \"linecolor\": \"#EBF0F8\", \"ticks\": \"\", \"title\": {\"standoff\": 15}, \"zerolinecolor\": \"#EBF0F8\", \"zerolinewidth\": 2}, \"yaxis\": {\"automargin\": true, \"gridcolor\": \"#EBF0F8\", \"linecolor\": \"#EBF0F8\", \"ticks\": \"\", \"title\": {\"standoff\": 15}, \"zerolinecolor\": \"#EBF0F8\", \"zerolinewidth\": 2}}}, \"width\": 700, \"xaxis\": {\"anchor\": \"y\", \"domain\": [0.0, 1.0], \"title\": {\"text\": \"lr\"}, \"type\": \"log\"}, \"yaxis\": {\"anchor\": \"x\", \"domain\": [0.0, 1.0], \"title\": {\"text\": \"batch_loss\"}}},                        {\"responsive\": true}                    ).then(function(){\n",
       "                            \n",
       "var gd = document.getElementById('abd874e7-0079-4de3-a117-24e873ee9742');\n",
       "var x = new MutationObserver(function (mutations, observer) {{\n",
       "        var display = window.getComputedStyle(gd).display;\n",
       "        if (!display || display === 'none') {{\n",
       "            console.log([gd, 'removed!']);\n",
       "            Plotly.purge(gd);\n",
       "            observer.disconnect();\n",
       "        }}\n",
       "}});\n",
       "\n",
       "// Listen for the removal of the full notebook cells\n",
       "var notebookContainer = gd.closest('#notebook-container');\n",
       "if (notebookContainer) {{\n",
       "    x.observe(notebookContainer, {childList: true});\n",
       "}}\n",
       "\n",
       "// Listen for the clearing of the current output cell\n",
       "var outputEl = gd.closest('.output');\n",
       "if (outputEl) {{\n",
       "    x.observe(outputEl, {childList: true});\n",
       "}}\n",
       "\n",
       "                        })                };                });            </script>        </div>"
      ]
     },
     "metadata": {},
     "output_type": "display_data"
    },
    {
     "name": "stdout",
     "output_type": "stream",
     "text": [
      "Best learning rate:  0.0001\n"
     ]
    }
   ],
   "source": [
    "# finding the best learning rate from this model\n",
    "lrfinder = model.lr_finder(train[0], train[1], batch_size, tolerance=10)\n",
    "lr = lrfinder.get_best_lr()\n",
    "model.optimizer.set_lr(lr)\n",
    "\n",
    "lrfinder_df = lrfinder.to_pandas()\n",
    "fig = px.line(x=lrfinder_df.index, y=lrfinder_df.train_loss, \n",
    "              log_x=True, width=700, height=400)\n",
    "\n",
    "fig.update_layout(dict(xaxis={'title':'lr'}, yaxis={'title':'batch_loss'}))\n",
    "fig.show()\n",
    "\n",
    "print(\"Best learning rate: \", lr)"
   ]
  },
  {
   "cell_type": "code",
   "execution_count": 208,
   "id": "8d4bcd23",
   "metadata": {
    "hidden": true,
    "scrolled": true
   },
   "outputs": [
    {
     "name": "stdout",
     "output_type": "stream",
     "text": [
      "0:\t[0s / 0s],\t\ttrain_loss: 1.4597,\tval_loss: 271.5473\n",
      "1:\t[0s / 0s],\t\ttrain_loss: 1.4582,\tval_loss: 280.5531\n",
      "2:\t[0s / 0s],\t\ttrain_loss: 1.4579,\tval_loss: 271.2865\n",
      "3:\t[0s / 1s],\t\ttrain_loss: 1.4580,\tval_loss: 300.3719\n",
      "4:\t[0s / 1s],\t\ttrain_loss: 1.4543,\tval_loss: 305.8623\n",
      "5:\t[0s / 1s],\t\ttrain_loss: 1.4541,\tval_loss: 296.1074\n",
      "6:\t[0s / 2s],\t\ttrain_loss: 1.4494,\tval_loss: 305.4858\n",
      "7:\t[0s / 2s],\t\ttrain_loss: 1.4490,\tval_loss: 322.0967\n",
      "8:\t[0s / 2s],\t\ttrain_loss: 1.4457,\tval_loss: 292.0412\n",
      "9:\t[0s / 2s],\t\ttrain_loss: 1.4483,\tval_loss: 282.3502\n",
      "10:\t[0s / 3s],\t\ttrain_loss: 1.4455,\tval_loss: 316.9798\n",
      "11:\t[0s / 3s],\t\ttrain_loss: 1.4452,\tval_loss: 304.8284\n",
      "12:\t[0s / 3s],\t\ttrain_loss: 1.4434,\tval_loss: 319.9052\n",
      "13:\t[0s / 3s],\t\ttrain_loss: 1.4415,\tval_loss: 336.0021\n",
      "14:\t[0s / 4s],\t\ttrain_loss: 1.4418,\tval_loss: 331.8771\n",
      "15:\t[0s / 4s],\t\ttrain_loss: 1.4382,\tval_loss: 320.0784\n",
      "16:\t[0s / 4s],\t\ttrain_loss: 1.4340,\tval_loss: 358.6517\n",
      "17:\t[0s / 5s],\t\ttrain_loss: 1.4378,\tval_loss: 335.6406\n"
     ]
    }
   ],
   "source": [
    "callbacks = [tt.callbacks.EarlyStopping(patience=15)]\n",
    "\n",
    "log = model.fit(train[0], train[1], batch_size, 100, callbacks, verbose,\n",
    "            val_data=val, val_batch_size=batch_size)"
   ]
  },
  {
   "cell_type": "code",
   "execution_count": 212,
   "id": "90775cd3",
   "metadata": {
    "hidden": true
   },
   "outputs": [
    {
     "data": {
      "application/vnd.plotly.v1+json": {
       "config": {
        "plotlyServerURL": "https://plotly.com"
       },
       "data": [
        {
         "hovertemplate": "dataset=train_loss<br>index=%{x}<br>loss=%{y}<extra></extra>",
         "legendgroup": "train_loss",
         "line": {
          "color": "#636efa",
          "dash": "solid"
         },
         "mode": "lines",
         "name": "train_loss",
         "orientation": "v",
         "showlegend": true,
         "type": "scatter",
         "x": [
          0,
          1,
          2,
          3,
          4,
          5,
          6,
          7,
          8,
          9,
          10,
          11,
          12,
          13,
          14,
          15,
          16,
          17
         ],
         "xaxis": "x",
         "y": [
          1.459663721231314,
          1.4581823669947112,
          1.4579278322366567,
          1.457978056027339,
          1.4542693816698515,
          1.4541486822641814,
          1.4494453118397639,
          1.4490031966796288,
          1.445728430381188,
          1.4483418602209825,
          1.4455416523493254,
          1.4451827865380507,
          1.443441248857058,
          1.4415075137065008,
          1.441783029299516,
          1.438174504500169,
          1.4339956732896657,
          1.437779119381538
         ],
         "yaxis": "y"
        },
        {
         "hovertemplate": "dataset=val_loss<br>index=%{x}<br>loss=%{y}<extra></extra>",
         "legendgroup": "val_loss",
         "line": {
          "color": "#EF553B",
          "dash": "solid"
         },
         "mode": "lines",
         "name": "val_loss",
         "orientation": "v",
         "showlegend": true,
         "type": "scatter",
         "x": [
          0,
          1,
          2,
          3,
          4,
          5,
          6,
          7,
          8,
          9,
          10,
          11,
          12,
          13,
          14,
          15,
          16,
          17
         ],
         "xaxis": "x",
         "y": [
          271.54730224609375,
          280.5531005859375,
          271.2864685058594,
          300.37188720703125,
          305.8622741699219,
          296.107421875,
          305.48583984375,
          322.0967102050781,
          292.0412292480469,
          282.3501892089844,
          316.9798278808594,
          304.8283996582031,
          319.9051513671875,
          336.0021057128906,
          331.87713623046875,
          320.0783996582031,
          358.6517028808594,
          335.6405944824219
         ],
         "yaxis": "y"
        }
       ],
       "layout": {
        "height": 400,
        "legend": {
         "title": {
          "text": "dataset"
         },
         "tracegroupgap": 0
        },
        "margin": {
         "t": 60
        },
        "template": {
         "data": {
          "bar": [
           {
            "error_x": {
             "color": "#2a3f5f"
            },
            "error_y": {
             "color": "#2a3f5f"
            },
            "marker": {
             "line": {
              "color": "white",
              "width": 0.5
             }
            },
            "type": "bar"
           }
          ],
          "barpolar": [
           {
            "marker": {
             "line": {
              "color": "white",
              "width": 0.5
             }
            },
            "type": "barpolar"
           }
          ],
          "carpet": [
           {
            "aaxis": {
             "endlinecolor": "#2a3f5f",
             "gridcolor": "#C8D4E3",
             "linecolor": "#C8D4E3",
             "minorgridcolor": "#C8D4E3",
             "startlinecolor": "#2a3f5f"
            },
            "baxis": {
             "endlinecolor": "#2a3f5f",
             "gridcolor": "#C8D4E3",
             "linecolor": "#C8D4E3",
             "minorgridcolor": "#C8D4E3",
             "startlinecolor": "#2a3f5f"
            },
            "type": "carpet"
           }
          ],
          "choropleth": [
           {
            "colorbar": {
             "outlinewidth": 0,
             "ticks": ""
            },
            "type": "choropleth"
           }
          ],
          "contour": [
           {
            "colorbar": {
             "outlinewidth": 0,
             "ticks": ""
            },
            "colorscale": [
             [
              0,
              "#0d0887"
             ],
             [
              0.1111111111111111,
              "#46039f"
             ],
             [
              0.2222222222222222,
              "#7201a8"
             ],
             [
              0.3333333333333333,
              "#9c179e"
             ],
             [
              0.4444444444444444,
              "#bd3786"
             ],
             [
              0.5555555555555556,
              "#d8576b"
             ],
             [
              0.6666666666666666,
              "#ed7953"
             ],
             [
              0.7777777777777778,
              "#fb9f3a"
             ],
             [
              0.8888888888888888,
              "#fdca26"
             ],
             [
              1,
              "#f0f921"
             ]
            ],
            "type": "contour"
           }
          ],
          "contourcarpet": [
           {
            "colorbar": {
             "outlinewidth": 0,
             "ticks": ""
            },
            "type": "contourcarpet"
           }
          ],
          "heatmap": [
           {
            "colorbar": {
             "outlinewidth": 0,
             "ticks": ""
            },
            "colorscale": [
             [
              0,
              "#0d0887"
             ],
             [
              0.1111111111111111,
              "#46039f"
             ],
             [
              0.2222222222222222,
              "#7201a8"
             ],
             [
              0.3333333333333333,
              "#9c179e"
             ],
             [
              0.4444444444444444,
              "#bd3786"
             ],
             [
              0.5555555555555556,
              "#d8576b"
             ],
             [
              0.6666666666666666,
              "#ed7953"
             ],
             [
              0.7777777777777778,
              "#fb9f3a"
             ],
             [
              0.8888888888888888,
              "#fdca26"
             ],
             [
              1,
              "#f0f921"
             ]
            ],
            "type": "heatmap"
           }
          ],
          "heatmapgl": [
           {
            "colorbar": {
             "outlinewidth": 0,
             "ticks": ""
            },
            "colorscale": [
             [
              0,
              "#0d0887"
             ],
             [
              0.1111111111111111,
              "#46039f"
             ],
             [
              0.2222222222222222,
              "#7201a8"
             ],
             [
              0.3333333333333333,
              "#9c179e"
             ],
             [
              0.4444444444444444,
              "#bd3786"
             ],
             [
              0.5555555555555556,
              "#d8576b"
             ],
             [
              0.6666666666666666,
              "#ed7953"
             ],
             [
              0.7777777777777778,
              "#fb9f3a"
             ],
             [
              0.8888888888888888,
              "#fdca26"
             ],
             [
              1,
              "#f0f921"
             ]
            ],
            "type": "heatmapgl"
           }
          ],
          "histogram": [
           {
            "marker": {
             "colorbar": {
              "outlinewidth": 0,
              "ticks": ""
             }
            },
            "type": "histogram"
           }
          ],
          "histogram2d": [
           {
            "colorbar": {
             "outlinewidth": 0,
             "ticks": ""
            },
            "colorscale": [
             [
              0,
              "#0d0887"
             ],
             [
              0.1111111111111111,
              "#46039f"
             ],
             [
              0.2222222222222222,
              "#7201a8"
             ],
             [
              0.3333333333333333,
              "#9c179e"
             ],
             [
              0.4444444444444444,
              "#bd3786"
             ],
             [
              0.5555555555555556,
              "#d8576b"
             ],
             [
              0.6666666666666666,
              "#ed7953"
             ],
             [
              0.7777777777777778,
              "#fb9f3a"
             ],
             [
              0.8888888888888888,
              "#fdca26"
             ],
             [
              1,
              "#f0f921"
             ]
            ],
            "type": "histogram2d"
           }
          ],
          "histogram2dcontour": [
           {
            "colorbar": {
             "outlinewidth": 0,
             "ticks": ""
            },
            "colorscale": [
             [
              0,
              "#0d0887"
             ],
             [
              0.1111111111111111,
              "#46039f"
             ],
             [
              0.2222222222222222,
              "#7201a8"
             ],
             [
              0.3333333333333333,
              "#9c179e"
             ],
             [
              0.4444444444444444,
              "#bd3786"
             ],
             [
              0.5555555555555556,
              "#d8576b"
             ],
             [
              0.6666666666666666,
              "#ed7953"
             ],
             [
              0.7777777777777778,
              "#fb9f3a"
             ],
             [
              0.8888888888888888,
              "#fdca26"
             ],
             [
              1,
              "#f0f921"
             ]
            ],
            "type": "histogram2dcontour"
           }
          ],
          "mesh3d": [
           {
            "colorbar": {
             "outlinewidth": 0,
             "ticks": ""
            },
            "type": "mesh3d"
           }
          ],
          "parcoords": [
           {
            "line": {
             "colorbar": {
              "outlinewidth": 0,
              "ticks": ""
             }
            },
            "type": "parcoords"
           }
          ],
          "pie": [
           {
            "automargin": true,
            "type": "pie"
           }
          ],
          "scatter": [
           {
            "marker": {
             "colorbar": {
              "outlinewidth": 0,
              "ticks": ""
             }
            },
            "type": "scatter"
           }
          ],
          "scatter3d": [
           {
            "line": {
             "colorbar": {
              "outlinewidth": 0,
              "ticks": ""
             }
            },
            "marker": {
             "colorbar": {
              "outlinewidth": 0,
              "ticks": ""
             }
            },
            "type": "scatter3d"
           }
          ],
          "scattercarpet": [
           {
            "marker": {
             "colorbar": {
              "outlinewidth": 0,
              "ticks": ""
             }
            },
            "type": "scattercarpet"
           }
          ],
          "scattergeo": [
           {
            "marker": {
             "colorbar": {
              "outlinewidth": 0,
              "ticks": ""
             }
            },
            "type": "scattergeo"
           }
          ],
          "scattergl": [
           {
            "marker": {
             "colorbar": {
              "outlinewidth": 0,
              "ticks": ""
             }
            },
            "type": "scattergl"
           }
          ],
          "scattermapbox": [
           {
            "marker": {
             "colorbar": {
              "outlinewidth": 0,
              "ticks": ""
             }
            },
            "type": "scattermapbox"
           }
          ],
          "scatterpolar": [
           {
            "marker": {
             "colorbar": {
              "outlinewidth": 0,
              "ticks": ""
             }
            },
            "type": "scatterpolar"
           }
          ],
          "scatterpolargl": [
           {
            "marker": {
             "colorbar": {
              "outlinewidth": 0,
              "ticks": ""
             }
            },
            "type": "scatterpolargl"
           }
          ],
          "scatterternary": [
           {
            "marker": {
             "colorbar": {
              "outlinewidth": 0,
              "ticks": ""
             }
            },
            "type": "scatterternary"
           }
          ],
          "surface": [
           {
            "colorbar": {
             "outlinewidth": 0,
             "ticks": ""
            },
            "colorscale": [
             [
              0,
              "#0d0887"
             ],
             [
              0.1111111111111111,
              "#46039f"
             ],
             [
              0.2222222222222222,
              "#7201a8"
             ],
             [
              0.3333333333333333,
              "#9c179e"
             ],
             [
              0.4444444444444444,
              "#bd3786"
             ],
             [
              0.5555555555555556,
              "#d8576b"
             ],
             [
              0.6666666666666666,
              "#ed7953"
             ],
             [
              0.7777777777777778,
              "#fb9f3a"
             ],
             [
              0.8888888888888888,
              "#fdca26"
             ],
             [
              1,
              "#f0f921"
             ]
            ],
            "type": "surface"
           }
          ],
          "table": [
           {
            "cells": {
             "fill": {
              "color": "#EBF0F8"
             },
             "line": {
              "color": "white"
             }
            },
            "header": {
             "fill": {
              "color": "#C8D4E3"
             },
             "line": {
              "color": "white"
             }
            },
            "type": "table"
           }
          ]
         },
         "layout": {
          "annotationdefaults": {
           "arrowcolor": "#2a3f5f",
           "arrowhead": 0,
           "arrowwidth": 1
          },
          "autotypenumbers": "strict",
          "coloraxis": {
           "colorbar": {
            "outlinewidth": 0,
            "ticks": ""
           }
          },
          "colorscale": {
           "diverging": [
            [
             0,
             "#8e0152"
            ],
            [
             0.1,
             "#c51b7d"
            ],
            [
             0.2,
             "#de77ae"
            ],
            [
             0.3,
             "#f1b6da"
            ],
            [
             0.4,
             "#fde0ef"
            ],
            [
             0.5,
             "#f7f7f7"
            ],
            [
             0.6,
             "#e6f5d0"
            ],
            [
             0.7,
             "#b8e186"
            ],
            [
             0.8,
             "#7fbc41"
            ],
            [
             0.9,
             "#4d9221"
            ],
            [
             1,
             "#276419"
            ]
           ],
           "sequential": [
            [
             0,
             "#0d0887"
            ],
            [
             0.1111111111111111,
             "#46039f"
            ],
            [
             0.2222222222222222,
             "#7201a8"
            ],
            [
             0.3333333333333333,
             "#9c179e"
            ],
            [
             0.4444444444444444,
             "#bd3786"
            ],
            [
             0.5555555555555556,
             "#d8576b"
            ],
            [
             0.6666666666666666,
             "#ed7953"
            ],
            [
             0.7777777777777778,
             "#fb9f3a"
            ],
            [
             0.8888888888888888,
             "#fdca26"
            ],
            [
             1,
             "#f0f921"
            ]
           ],
           "sequentialminus": [
            [
             0,
             "#0d0887"
            ],
            [
             0.1111111111111111,
             "#46039f"
            ],
            [
             0.2222222222222222,
             "#7201a8"
            ],
            [
             0.3333333333333333,
             "#9c179e"
            ],
            [
             0.4444444444444444,
             "#bd3786"
            ],
            [
             0.5555555555555556,
             "#d8576b"
            ],
            [
             0.6666666666666666,
             "#ed7953"
            ],
            [
             0.7777777777777778,
             "#fb9f3a"
            ],
            [
             0.8888888888888888,
             "#fdca26"
            ],
            [
             1,
             "#f0f921"
            ]
           ]
          },
          "colorway": [
           "#636efa",
           "#EF553B",
           "#00cc96",
           "#ab63fa",
           "#FFA15A",
           "#19d3f3",
           "#FF6692",
           "#B6E880",
           "#FF97FF",
           "#FECB52"
          ],
          "font": {
           "color": "#2a3f5f"
          },
          "geo": {
           "bgcolor": "white",
           "lakecolor": "white",
           "landcolor": "white",
           "showlakes": true,
           "showland": true,
           "subunitcolor": "#C8D4E3"
          },
          "hoverlabel": {
           "align": "left"
          },
          "hovermode": "closest",
          "mapbox": {
           "style": "light"
          },
          "paper_bgcolor": "white",
          "plot_bgcolor": "white",
          "polar": {
           "angularaxis": {
            "gridcolor": "#EBF0F8",
            "linecolor": "#EBF0F8",
            "ticks": ""
           },
           "bgcolor": "white",
           "radialaxis": {
            "gridcolor": "#EBF0F8",
            "linecolor": "#EBF0F8",
            "ticks": ""
           }
          },
          "scene": {
           "xaxis": {
            "backgroundcolor": "white",
            "gridcolor": "#DFE8F3",
            "gridwidth": 2,
            "linecolor": "#EBF0F8",
            "showbackground": true,
            "ticks": "",
            "zerolinecolor": "#EBF0F8"
           },
           "yaxis": {
            "backgroundcolor": "white",
            "gridcolor": "#DFE8F3",
            "gridwidth": 2,
            "linecolor": "#EBF0F8",
            "showbackground": true,
            "ticks": "",
            "zerolinecolor": "#EBF0F8"
           },
           "zaxis": {
            "backgroundcolor": "white",
            "gridcolor": "#DFE8F3",
            "gridwidth": 2,
            "linecolor": "#EBF0F8",
            "showbackground": true,
            "ticks": "",
            "zerolinecolor": "#EBF0F8"
           }
          },
          "shapedefaults": {
           "line": {
            "color": "#2a3f5f"
           }
          },
          "ternary": {
           "aaxis": {
            "gridcolor": "#DFE8F3",
            "linecolor": "#A2B1C6",
            "ticks": ""
           },
           "baxis": {
            "gridcolor": "#DFE8F3",
            "linecolor": "#A2B1C6",
            "ticks": ""
           },
           "bgcolor": "white",
           "caxis": {
            "gridcolor": "#DFE8F3",
            "linecolor": "#A2B1C6",
            "ticks": ""
           }
          },
          "title": {
           "x": 0.05
          },
          "xaxis": {
           "automargin": true,
           "gridcolor": "#EBF0F8",
           "linecolor": "#EBF0F8",
           "ticks": "",
           "title": {
            "standoff": 15
           },
           "zerolinecolor": "#EBF0F8",
           "zerolinewidth": 2
          },
          "yaxis": {
           "automargin": true,
           "gridcolor": "#EBF0F8",
           "linecolor": "#EBF0F8",
           "ticks": "",
           "title": {
            "standoff": 15
           },
           "zerolinecolor": "#EBF0F8",
           "zerolinewidth": 2
          }
         }
        },
        "width": 800,
        "xaxis": {
         "anchor": "y",
         "domain": [
          0,
          1
         ],
         "title": {
          "text": "index"
         }
        },
        "yaxis": {
         "anchor": "x",
         "domain": [
          0,
          1
         ],
         "title": {
          "text": "loss"
         }
        }
       }
      },
      "text/html": [
       "<div>                            <div id=\"0d02133d-690f-49d0-b545-8feee851542a\" class=\"plotly-graph-div\" style=\"height:400px; width:800px;\"></div>            <script type=\"text/javascript\">                require([\"plotly\"], function(Plotly) {                    window.PLOTLYENV=window.PLOTLYENV || {};                                    if (document.getElementById(\"0d02133d-690f-49d0-b545-8feee851542a\")) {                    Plotly.newPlot(                        \"0d02133d-690f-49d0-b545-8feee851542a\",                        [{\"hovertemplate\": \"dataset=train_loss<br>index=%{x}<br>loss=%{y}<extra></extra>\", \"legendgroup\": \"train_loss\", \"line\": {\"color\": \"#636efa\", \"dash\": \"solid\"}, \"mode\": \"lines\", \"name\": \"train_loss\", \"orientation\": \"v\", \"showlegend\": true, \"type\": \"scatter\", \"x\": [0, 1, 2, 3, 4, 5, 6, 7, 8, 9, 10, 11, 12, 13, 14, 15, 16, 17], \"xaxis\": \"x\", \"y\": [1.459663721231314, 1.4581823669947112, 1.4579278322366567, 1.457978056027339, 1.4542693816698515, 1.4541486822641814, 1.4494453118397639, 1.4490031966796288, 1.445728430381188, 1.4483418602209825, 1.4455416523493254, 1.4451827865380507, 1.443441248857058, 1.4415075137065008, 1.441783029299516, 1.438174504500169, 1.4339956732896657, 1.437779119381538], \"yaxis\": \"y\"}, {\"hovertemplate\": \"dataset=val_loss<br>index=%{x}<br>loss=%{y}<extra></extra>\", \"legendgroup\": \"val_loss\", \"line\": {\"color\": \"#EF553B\", \"dash\": \"solid\"}, \"mode\": \"lines\", \"name\": \"val_loss\", \"orientation\": \"v\", \"showlegend\": true, \"type\": \"scatter\", \"x\": [0, 1, 2, 3, 4, 5, 6, 7, 8, 9, 10, 11, 12, 13, 14, 15, 16, 17], \"xaxis\": \"x\", \"y\": [271.54730224609375, 280.5531005859375, 271.2864685058594, 300.37188720703125, 305.8622741699219, 296.107421875, 305.48583984375, 322.0967102050781, 292.0412292480469, 282.3501892089844, 316.9798278808594, 304.8283996582031, 319.9051513671875, 336.0021057128906, 331.87713623046875, 320.0783996582031, 358.6517028808594, 335.6405944824219], \"yaxis\": \"y\"}],                        {\"height\": 400, \"legend\": {\"title\": {\"text\": \"dataset\"}, \"tracegroupgap\": 0}, \"margin\": {\"t\": 60}, \"template\": {\"data\": {\"bar\": [{\"error_x\": {\"color\": \"#2a3f5f\"}, \"error_y\": {\"color\": \"#2a3f5f\"}, \"marker\": {\"line\": {\"color\": \"white\", \"width\": 0.5}}, \"type\": \"bar\"}], \"barpolar\": [{\"marker\": {\"line\": {\"color\": \"white\", \"width\": 0.5}}, \"type\": \"barpolar\"}], \"carpet\": [{\"aaxis\": {\"endlinecolor\": \"#2a3f5f\", \"gridcolor\": \"#C8D4E3\", \"linecolor\": \"#C8D4E3\", \"minorgridcolor\": \"#C8D4E3\", \"startlinecolor\": \"#2a3f5f\"}, \"baxis\": {\"endlinecolor\": \"#2a3f5f\", \"gridcolor\": \"#C8D4E3\", \"linecolor\": \"#C8D4E3\", \"minorgridcolor\": \"#C8D4E3\", \"startlinecolor\": \"#2a3f5f\"}, \"type\": \"carpet\"}], \"choropleth\": [{\"colorbar\": {\"outlinewidth\": 0, \"ticks\": \"\"}, \"type\": \"choropleth\"}], \"contour\": [{\"colorbar\": {\"outlinewidth\": 0, \"ticks\": \"\"}, \"colorscale\": [[0.0, \"#0d0887\"], [0.1111111111111111, \"#46039f\"], [0.2222222222222222, \"#7201a8\"], [0.3333333333333333, \"#9c179e\"], [0.4444444444444444, \"#bd3786\"], [0.5555555555555556, \"#d8576b\"], [0.6666666666666666, \"#ed7953\"], [0.7777777777777778, \"#fb9f3a\"], [0.8888888888888888, \"#fdca26\"], [1.0, \"#f0f921\"]], \"type\": \"contour\"}], \"contourcarpet\": [{\"colorbar\": {\"outlinewidth\": 0, \"ticks\": \"\"}, \"type\": \"contourcarpet\"}], \"heatmap\": [{\"colorbar\": {\"outlinewidth\": 0, \"ticks\": \"\"}, \"colorscale\": [[0.0, \"#0d0887\"], [0.1111111111111111, \"#46039f\"], [0.2222222222222222, \"#7201a8\"], [0.3333333333333333, \"#9c179e\"], [0.4444444444444444, \"#bd3786\"], [0.5555555555555556, \"#d8576b\"], [0.6666666666666666, \"#ed7953\"], [0.7777777777777778, \"#fb9f3a\"], [0.8888888888888888, \"#fdca26\"], [1.0, \"#f0f921\"]], \"type\": \"heatmap\"}], \"heatmapgl\": [{\"colorbar\": {\"outlinewidth\": 0, \"ticks\": \"\"}, \"colorscale\": [[0.0, \"#0d0887\"], [0.1111111111111111, \"#46039f\"], [0.2222222222222222, \"#7201a8\"], [0.3333333333333333, \"#9c179e\"], [0.4444444444444444, \"#bd3786\"], [0.5555555555555556, \"#d8576b\"], [0.6666666666666666, \"#ed7953\"], [0.7777777777777778, \"#fb9f3a\"], [0.8888888888888888, \"#fdca26\"], [1.0, \"#f0f921\"]], \"type\": \"heatmapgl\"}], \"histogram\": [{\"marker\": {\"colorbar\": {\"outlinewidth\": 0, \"ticks\": \"\"}}, \"type\": \"histogram\"}], \"histogram2d\": [{\"colorbar\": {\"outlinewidth\": 0, \"ticks\": \"\"}, \"colorscale\": [[0.0, \"#0d0887\"], [0.1111111111111111, \"#46039f\"], [0.2222222222222222, \"#7201a8\"], [0.3333333333333333, \"#9c179e\"], [0.4444444444444444, \"#bd3786\"], [0.5555555555555556, \"#d8576b\"], [0.6666666666666666, \"#ed7953\"], [0.7777777777777778, \"#fb9f3a\"], [0.8888888888888888, \"#fdca26\"], [1.0, \"#f0f921\"]], \"type\": \"histogram2d\"}], \"histogram2dcontour\": [{\"colorbar\": {\"outlinewidth\": 0, \"ticks\": \"\"}, \"colorscale\": [[0.0, \"#0d0887\"], [0.1111111111111111, \"#46039f\"], [0.2222222222222222, \"#7201a8\"], [0.3333333333333333, \"#9c179e\"], [0.4444444444444444, \"#bd3786\"], [0.5555555555555556, \"#d8576b\"], [0.6666666666666666, \"#ed7953\"], [0.7777777777777778, \"#fb9f3a\"], [0.8888888888888888, \"#fdca26\"], [1.0, \"#f0f921\"]], \"type\": \"histogram2dcontour\"}], \"mesh3d\": [{\"colorbar\": {\"outlinewidth\": 0, \"ticks\": \"\"}, \"type\": \"mesh3d\"}], \"parcoords\": [{\"line\": {\"colorbar\": {\"outlinewidth\": 0, \"ticks\": \"\"}}, \"type\": \"parcoords\"}], \"pie\": [{\"automargin\": true, \"type\": \"pie\"}], \"scatter\": [{\"marker\": {\"colorbar\": {\"outlinewidth\": 0, \"ticks\": \"\"}}, \"type\": \"scatter\"}], \"scatter3d\": [{\"line\": {\"colorbar\": {\"outlinewidth\": 0, \"ticks\": \"\"}}, \"marker\": {\"colorbar\": {\"outlinewidth\": 0, \"ticks\": \"\"}}, \"type\": \"scatter3d\"}], \"scattercarpet\": [{\"marker\": {\"colorbar\": {\"outlinewidth\": 0, \"ticks\": \"\"}}, \"type\": \"scattercarpet\"}], \"scattergeo\": [{\"marker\": {\"colorbar\": {\"outlinewidth\": 0, \"ticks\": \"\"}}, \"type\": \"scattergeo\"}], \"scattergl\": [{\"marker\": {\"colorbar\": {\"outlinewidth\": 0, \"ticks\": \"\"}}, \"type\": \"scattergl\"}], \"scattermapbox\": [{\"marker\": {\"colorbar\": {\"outlinewidth\": 0, \"ticks\": \"\"}}, \"type\": \"scattermapbox\"}], \"scatterpolar\": [{\"marker\": {\"colorbar\": {\"outlinewidth\": 0, \"ticks\": \"\"}}, \"type\": \"scatterpolar\"}], \"scatterpolargl\": [{\"marker\": {\"colorbar\": {\"outlinewidth\": 0, \"ticks\": \"\"}}, \"type\": \"scatterpolargl\"}], \"scatterternary\": [{\"marker\": {\"colorbar\": {\"outlinewidth\": 0, \"ticks\": \"\"}}, \"type\": \"scatterternary\"}], \"surface\": [{\"colorbar\": {\"outlinewidth\": 0, \"ticks\": \"\"}, \"colorscale\": [[0.0, \"#0d0887\"], [0.1111111111111111, \"#46039f\"], [0.2222222222222222, \"#7201a8\"], [0.3333333333333333, \"#9c179e\"], [0.4444444444444444, \"#bd3786\"], [0.5555555555555556, \"#d8576b\"], [0.6666666666666666, \"#ed7953\"], [0.7777777777777778, \"#fb9f3a\"], [0.8888888888888888, \"#fdca26\"], [1.0, \"#f0f921\"]], \"type\": \"surface\"}], \"table\": [{\"cells\": {\"fill\": {\"color\": \"#EBF0F8\"}, \"line\": {\"color\": \"white\"}}, \"header\": {\"fill\": {\"color\": \"#C8D4E3\"}, \"line\": {\"color\": \"white\"}}, \"type\": \"table\"}]}, \"layout\": {\"annotationdefaults\": {\"arrowcolor\": \"#2a3f5f\", \"arrowhead\": 0, \"arrowwidth\": 1}, \"autotypenumbers\": \"strict\", \"coloraxis\": {\"colorbar\": {\"outlinewidth\": 0, \"ticks\": \"\"}}, \"colorscale\": {\"diverging\": [[0, \"#8e0152\"], [0.1, \"#c51b7d\"], [0.2, \"#de77ae\"], [0.3, \"#f1b6da\"], [0.4, \"#fde0ef\"], [0.5, \"#f7f7f7\"], [0.6, \"#e6f5d0\"], [0.7, \"#b8e186\"], [0.8, \"#7fbc41\"], [0.9, \"#4d9221\"], [1, \"#276419\"]], \"sequential\": [[0.0, \"#0d0887\"], [0.1111111111111111, \"#46039f\"], [0.2222222222222222, \"#7201a8\"], [0.3333333333333333, \"#9c179e\"], [0.4444444444444444, \"#bd3786\"], [0.5555555555555556, \"#d8576b\"], [0.6666666666666666, \"#ed7953\"], [0.7777777777777778, \"#fb9f3a\"], [0.8888888888888888, \"#fdca26\"], [1.0, \"#f0f921\"]], \"sequentialminus\": [[0.0, \"#0d0887\"], [0.1111111111111111, \"#46039f\"], [0.2222222222222222, \"#7201a8\"], [0.3333333333333333, \"#9c179e\"], [0.4444444444444444, \"#bd3786\"], [0.5555555555555556, \"#d8576b\"], [0.6666666666666666, \"#ed7953\"], [0.7777777777777778, \"#fb9f3a\"], [0.8888888888888888, \"#fdca26\"], [1.0, \"#f0f921\"]]}, \"colorway\": [\"#636efa\", \"#EF553B\", \"#00cc96\", \"#ab63fa\", \"#FFA15A\", \"#19d3f3\", \"#FF6692\", \"#B6E880\", \"#FF97FF\", \"#FECB52\"], \"font\": {\"color\": \"#2a3f5f\"}, \"geo\": {\"bgcolor\": \"white\", \"lakecolor\": \"white\", \"landcolor\": \"white\", \"showlakes\": true, \"showland\": true, \"subunitcolor\": \"#C8D4E3\"}, \"hoverlabel\": {\"align\": \"left\"}, \"hovermode\": \"closest\", \"mapbox\": {\"style\": \"light\"}, \"paper_bgcolor\": \"white\", \"plot_bgcolor\": \"white\", \"polar\": {\"angularaxis\": {\"gridcolor\": \"#EBF0F8\", \"linecolor\": \"#EBF0F8\", \"ticks\": \"\"}, \"bgcolor\": \"white\", \"radialaxis\": {\"gridcolor\": \"#EBF0F8\", \"linecolor\": \"#EBF0F8\", \"ticks\": \"\"}}, \"scene\": {\"xaxis\": {\"backgroundcolor\": \"white\", \"gridcolor\": \"#DFE8F3\", \"gridwidth\": 2, \"linecolor\": \"#EBF0F8\", \"showbackground\": true, \"ticks\": \"\", \"zerolinecolor\": \"#EBF0F8\"}, \"yaxis\": {\"backgroundcolor\": \"white\", \"gridcolor\": \"#DFE8F3\", \"gridwidth\": 2, \"linecolor\": \"#EBF0F8\", \"showbackground\": true, \"ticks\": \"\", \"zerolinecolor\": \"#EBF0F8\"}, \"zaxis\": {\"backgroundcolor\": \"white\", \"gridcolor\": \"#DFE8F3\", \"gridwidth\": 2, \"linecolor\": \"#EBF0F8\", \"showbackground\": true, \"ticks\": \"\", \"zerolinecolor\": \"#EBF0F8\"}}, \"shapedefaults\": {\"line\": {\"color\": \"#2a3f5f\"}}, \"ternary\": {\"aaxis\": {\"gridcolor\": \"#DFE8F3\", \"linecolor\": \"#A2B1C6\", \"ticks\": \"\"}, \"baxis\": {\"gridcolor\": \"#DFE8F3\", \"linecolor\": \"#A2B1C6\", \"ticks\": \"\"}, \"bgcolor\": \"white\", \"caxis\": {\"gridcolor\": \"#DFE8F3\", \"linecolor\": \"#A2B1C6\", \"ticks\": \"\"}}, \"title\": {\"x\": 0.05}, \"xaxis\": {\"automargin\": true, \"gridcolor\": \"#EBF0F8\", \"linecolor\": \"#EBF0F8\", \"ticks\": \"\", \"title\": {\"standoff\": 15}, \"zerolinecolor\": \"#EBF0F8\", \"zerolinewidth\": 2}, \"yaxis\": {\"automargin\": true, \"gridcolor\": \"#EBF0F8\", \"linecolor\": \"#EBF0F8\", \"ticks\": \"\", \"title\": {\"standoff\": 15}, \"zerolinecolor\": \"#EBF0F8\", \"zerolinewidth\": 2}}}, \"width\": 800, \"xaxis\": {\"anchor\": \"y\", \"domain\": [0.0, 1.0], \"title\": {\"text\": \"index\"}}, \"yaxis\": {\"anchor\": \"x\", \"domain\": [0.0, 1.0], \"title\": {\"text\": \"loss\"}}},                        {\"responsive\": true}                    ).then(function(){\n",
       "                            \n",
       "var gd = document.getElementById('0d02133d-690f-49d0-b545-8feee851542a');\n",
       "var x = new MutationObserver(function (mutations, observer) {{\n",
       "        var display = window.getComputedStyle(gd).display;\n",
       "        if (!display || display === 'none') {{\n",
       "            console.log([gd, 'removed!']);\n",
       "            Plotly.purge(gd);\n",
       "            observer.disconnect();\n",
       "        }}\n",
       "}});\n",
       "\n",
       "// Listen for the removal of the full notebook cells\n",
       "var notebookContainer = gd.closest('#notebook-container');\n",
       "if (notebookContainer) {{\n",
       "    x.observe(notebookContainer, {childList: true});\n",
       "}}\n",
       "\n",
       "// Listen for the clearing of the current output cell\n",
       "var outputEl = gd.closest('.output');\n",
       "if (outputEl) {{\n",
       "    x.observe(outputEl, {childList: true});\n",
       "}}\n",
       "\n",
       "                        })                };                });            </script>        </div>"
      ]
     },
     "metadata": {},
     "output_type": "display_data"
    },
    {
     "data": {
      "text/plain": [
       "0.5252427912727381"
      ]
     },
     "execution_count": 212,
     "metadata": {},
     "output_type": "execute_result"
    }
   ],
   "source": [
    "logs_df = log.to_pandas().reset_index().melt(\n",
    "    id_vars=\"index\", value_name=\"loss\", var_name=\"dataset\").reset_index()\n",
    "\n",
    "fig = px.line(logs_df, y=\"loss\", x=\"index\", color=\"dataset\", width=800, height = 400)\n",
    "fig.show()\n",
    "\n",
    "# scoring the model\n",
    "surv = model.interpolate(10).predict_surv_df(test[0])\n",
    "ev = EvalSurv(surv, test[1][0], test[1][1], censor_surv='km')\n",
    "score = ev.concordance_td()\n",
    "score"
   ]
  },
  {
   "cell_type": "code",
   "execution_count": null,
   "id": "aa02c8c8",
   "metadata": {
    "hidden": true
   },
   "outputs": [],
   "source": []
  },
  {
   "cell_type": "code",
   "execution_count": null,
   "id": "f77e89d3",
   "metadata": {
    "hidden": true
   },
   "outputs": [],
   "source": []
  },
  {
   "cell_type": "code",
   "execution_count": null,
   "id": "c0309179",
   "metadata": {
    "hidden": true
   },
   "outputs": [],
   "source": []
  },
  {
   "cell_type": "code",
   "execution_count": null,
   "id": "6c4ec535",
   "metadata": {
    "hidden": true
   },
   "outputs": [],
   "source": []
  },
  {
   "cell_type": "code",
   "execution_count": null,
   "id": "4118c778",
   "metadata": {
    "hidden": true
   },
   "outputs": [],
   "source": []
  },
  {
   "cell_type": "code",
   "execution_count": null,
   "id": "afdf1d9c",
   "metadata": {
    "hidden": true
   },
   "outputs": [],
   "source": []
  },
  {
   "cell_type": "code",
   "execution_count": 143,
   "id": "3b3f42ed",
   "metadata": {
    "hidden": true
   },
   "outputs": [
    {
     "data": {
      "text/plain": [
       "0.6584983169424773"
      ]
     },
     "execution_count": 143,
     "metadata": {},
     "output_type": "execute_result"
    }
   ],
   "source": [
    "\n",
    "best_score"
   ]
  },
  {
   "cell_type": "code",
   "execution_count": null,
   "id": "cfebebc0",
   "metadata": {
    "hidden": true
   },
   "outputs": [],
   "source": []
  },
  {
   "cell_type": "code",
   "execution_count": 84,
   "id": "e39b0a5a",
   "metadata": {
    "hidden": true
   },
   "outputs": [
    {
     "name": "stdout",
     "output_type": "stream",
     "text": [
      "Best LR:  0.0001\n"
     ]
    },
    {
     "data": {
      "application/vnd.plotly.v1+json": {
       "config": {
        "plotlyServerURL": "https://plotly.com"
       },
       "data": [
        {
         "hovertemplate": "x=%{x}<br>y=%{y}<extra></extra>",
         "legendgroup": "",
         "line": {
          "color": "#636efa",
          "dash": "solid"
         },
         "mode": "lines",
         "name": "",
         "orientation": "v",
         "showlegend": false,
         "type": "scatter",
         "x": [
          1e-07,
          1.2045035402587822e-07,
          1.4508287784959398e-07,
          1.7475284000076842e-07,
          2.1049041445120208e-07,
          2.5353644939701124e-07,
          3.0538555088334166e-07,
          3.678379771828635e-07,
          4.430621457583883e-07,
          5.336699231206313e-07,
          6.428073117284325e-07,
          7.742636826811276e-07,
          9.326033468832207e-07,
          1.1233240329780285e-06,
          1.3530477745798083e-06,
          1.6297508346206458e-06,
          1.963040650040273e-06,
          2.3644894126454104e-06,
          2.8480358684358054e-06,
          3.430469286314923e-06,
          4.132012400115343e-06,
          4.9770235643321185e-06,
          5.99484250318942e-06,
          7.220809018385476e-06,
          8.697490026177848e-06,
          1.0476157527896668e-05,
          1.2618568830660228e-05,
          1.5199110829529368e-05,
          1.830738280295372e-05,
          2.2051307399030502e-05,
          2.656087782946692e-05,
          3.199267137797391e-05,
          3.853528593710538e-05,
          4.64158883361279e-05,
          5.590810182512238e-05,
          6.73415065775084e-05,
          8.111308307896891e-05,
          9.77009957299228e-05,
          0.00011768119524350017,
          0.00014174741629268092,
          0.00017073526474706957,
          0.00020565123083486573,
          0.0002477076355991719,
          0.00029836472402833486,
          0.00035938136638046387,
          0.00043287612810830723,
          0.0005214008287999703,
          0.0006280291441834275,
          0.0007564633275546315,
          0.0009111627561154925,
          0.0010974987654930601,
          0.001321941148466034,
          0.0015922827933410983,
          0.0019179102616724958,
          0.0023101297000831687,
          0.002782559402207136,
          0.0033516026509388557,
          0.004037017258596572,
          0.0048626015800653745,
          0.005857020818056691,
          0.0070548023107186745,
          0.00849753435908648,
          0.010235310218990308,
          0.012328467394420718,
          0.01484968262254472,
          0.017886495290574435,
          0.02154434690031894,
          0.025950242113997487,
          0.031257158496882514,
          0.03764935806792487,
          0.04534878508128605,
          0.05462277217684369,
          0.06579332246575716,
          0.07924828983539216,
          0.09545484566618392,
          0.11497569953977421,
          0.13848863713938808,
          0.16681005372000682,
          0.20092330025650584,
          0.2420128264794396,
          0.29150530628251936,
          0.35111917342151516,
          0.42292428743895233,
          0.509413801481641
         ],
         "xaxis": "x",
         "y": [
          2.557462215423584,
          2.409972906112671,
          2.4812262058258057,
          2.3212363719940186,
          2.5972578525543213,
          2.4594132900238037,
          3.0272703170776367,
          2.511889934539795,
          2.325937509536743,
          2.3777058124542236,
          2.5823028087615967,
          2.4796149730682373,
          2.4804189205169678,
          2.5130980014801025,
          2.4354565143585205,
          2.601062059402466,
          2.692185401916504,
          2.5581717491149902,
          2.4894604682922363,
          2.6029062271118164,
          2.478055477142334,
          2.307323932647705,
          2.4087624549865723,
          2.655034303665161,
          2.517927885055542,
          2.682833433151245,
          2.457113742828369,
          2.429424524307251,
          2.358370065689087,
          2.47566556930542,
          2.658728837966919,
          2.3099124431610107,
          2.743375778198242,
          2.6649091243743896,
          2.426886796951294,
          2.397865056991577,
          2.5156614780426025,
          2.3924479484558105,
          2.709294080734253,
          2.4646854400634766,
          2.3336362838745117,
          2.451737642288208,
          2.4542970657348633,
          2.430368423461914,
          2.5041537284851074,
          2.3122222423553467,
          2.5063796043395996,
          2.728781223297119,
          2.416414976119995,
          2.534937620162964,
          2.5527682304382324,
          2.613884687423706,
          2.788869619369507,
          2.7148361206054688,
          2.337716817855835,
          2.4240376949310303,
          2.8133134841918945,
          2.660982370376587,
          2.5828323364257812,
          2.4492547512054443,
          2.5819814205169678,
          2.3695271015167236,
          2.652932643890381,
          2.490511178970337,
          2.865522623062134,
          2.720198631286621,
          2.547318696975708,
          2.442950963973999,
          2.764050245285034,
          2.9448373317718506,
          2.645439863204956,
          3.0609374046325684,
          2.7243802547454834,
          3.302699089050293,
          3.112107753753662,
          3.3263533115386963,
          4.14069938659668,
          4.599363803863525,
          5.362083435058594,
          8.944233894348145,
          7.118499755859375,
          6.868209362030029,
          9.094478607177734,
          12.600908279418945
         ],
         "yaxis": "y"
        }
       ],
       "layout": {
        "height": 400,
        "legend": {
         "tracegroupgap": 0
        },
        "margin": {
         "t": 60
        },
        "template": {
         "data": {
          "bar": [
           {
            "error_x": {
             "color": "#2a3f5f"
            },
            "error_y": {
             "color": "#2a3f5f"
            },
            "marker": {
             "line": {
              "color": "white",
              "width": 0.5
             }
            },
            "type": "bar"
           }
          ],
          "barpolar": [
           {
            "marker": {
             "line": {
              "color": "white",
              "width": 0.5
             }
            },
            "type": "barpolar"
           }
          ],
          "carpet": [
           {
            "aaxis": {
             "endlinecolor": "#2a3f5f",
             "gridcolor": "#C8D4E3",
             "linecolor": "#C8D4E3",
             "minorgridcolor": "#C8D4E3",
             "startlinecolor": "#2a3f5f"
            },
            "baxis": {
             "endlinecolor": "#2a3f5f",
             "gridcolor": "#C8D4E3",
             "linecolor": "#C8D4E3",
             "minorgridcolor": "#C8D4E3",
             "startlinecolor": "#2a3f5f"
            },
            "type": "carpet"
           }
          ],
          "choropleth": [
           {
            "colorbar": {
             "outlinewidth": 0,
             "ticks": ""
            },
            "type": "choropleth"
           }
          ],
          "contour": [
           {
            "colorbar": {
             "outlinewidth": 0,
             "ticks": ""
            },
            "colorscale": [
             [
              0,
              "#0d0887"
             ],
             [
              0.1111111111111111,
              "#46039f"
             ],
             [
              0.2222222222222222,
              "#7201a8"
             ],
             [
              0.3333333333333333,
              "#9c179e"
             ],
             [
              0.4444444444444444,
              "#bd3786"
             ],
             [
              0.5555555555555556,
              "#d8576b"
             ],
             [
              0.6666666666666666,
              "#ed7953"
             ],
             [
              0.7777777777777778,
              "#fb9f3a"
             ],
             [
              0.8888888888888888,
              "#fdca26"
             ],
             [
              1,
              "#f0f921"
             ]
            ],
            "type": "contour"
           }
          ],
          "contourcarpet": [
           {
            "colorbar": {
             "outlinewidth": 0,
             "ticks": ""
            },
            "type": "contourcarpet"
           }
          ],
          "heatmap": [
           {
            "colorbar": {
             "outlinewidth": 0,
             "ticks": ""
            },
            "colorscale": [
             [
              0,
              "#0d0887"
             ],
             [
              0.1111111111111111,
              "#46039f"
             ],
             [
              0.2222222222222222,
              "#7201a8"
             ],
             [
              0.3333333333333333,
              "#9c179e"
             ],
             [
              0.4444444444444444,
              "#bd3786"
             ],
             [
              0.5555555555555556,
              "#d8576b"
             ],
             [
              0.6666666666666666,
              "#ed7953"
             ],
             [
              0.7777777777777778,
              "#fb9f3a"
             ],
             [
              0.8888888888888888,
              "#fdca26"
             ],
             [
              1,
              "#f0f921"
             ]
            ],
            "type": "heatmap"
           }
          ],
          "heatmapgl": [
           {
            "colorbar": {
             "outlinewidth": 0,
             "ticks": ""
            },
            "colorscale": [
             [
              0,
              "#0d0887"
             ],
             [
              0.1111111111111111,
              "#46039f"
             ],
             [
              0.2222222222222222,
              "#7201a8"
             ],
             [
              0.3333333333333333,
              "#9c179e"
             ],
             [
              0.4444444444444444,
              "#bd3786"
             ],
             [
              0.5555555555555556,
              "#d8576b"
             ],
             [
              0.6666666666666666,
              "#ed7953"
             ],
             [
              0.7777777777777778,
              "#fb9f3a"
             ],
             [
              0.8888888888888888,
              "#fdca26"
             ],
             [
              1,
              "#f0f921"
             ]
            ],
            "type": "heatmapgl"
           }
          ],
          "histogram": [
           {
            "marker": {
             "colorbar": {
              "outlinewidth": 0,
              "ticks": ""
             }
            },
            "type": "histogram"
           }
          ],
          "histogram2d": [
           {
            "colorbar": {
             "outlinewidth": 0,
             "ticks": ""
            },
            "colorscale": [
             [
              0,
              "#0d0887"
             ],
             [
              0.1111111111111111,
              "#46039f"
             ],
             [
              0.2222222222222222,
              "#7201a8"
             ],
             [
              0.3333333333333333,
              "#9c179e"
             ],
             [
              0.4444444444444444,
              "#bd3786"
             ],
             [
              0.5555555555555556,
              "#d8576b"
             ],
             [
              0.6666666666666666,
              "#ed7953"
             ],
             [
              0.7777777777777778,
              "#fb9f3a"
             ],
             [
              0.8888888888888888,
              "#fdca26"
             ],
             [
              1,
              "#f0f921"
             ]
            ],
            "type": "histogram2d"
           }
          ],
          "histogram2dcontour": [
           {
            "colorbar": {
             "outlinewidth": 0,
             "ticks": ""
            },
            "colorscale": [
             [
              0,
              "#0d0887"
             ],
             [
              0.1111111111111111,
              "#46039f"
             ],
             [
              0.2222222222222222,
              "#7201a8"
             ],
             [
              0.3333333333333333,
              "#9c179e"
             ],
             [
              0.4444444444444444,
              "#bd3786"
             ],
             [
              0.5555555555555556,
              "#d8576b"
             ],
             [
              0.6666666666666666,
              "#ed7953"
             ],
             [
              0.7777777777777778,
              "#fb9f3a"
             ],
             [
              0.8888888888888888,
              "#fdca26"
             ],
             [
              1,
              "#f0f921"
             ]
            ],
            "type": "histogram2dcontour"
           }
          ],
          "mesh3d": [
           {
            "colorbar": {
             "outlinewidth": 0,
             "ticks": ""
            },
            "type": "mesh3d"
           }
          ],
          "parcoords": [
           {
            "line": {
             "colorbar": {
              "outlinewidth": 0,
              "ticks": ""
             }
            },
            "type": "parcoords"
           }
          ],
          "pie": [
           {
            "automargin": true,
            "type": "pie"
           }
          ],
          "scatter": [
           {
            "marker": {
             "colorbar": {
              "outlinewidth": 0,
              "ticks": ""
             }
            },
            "type": "scatter"
           }
          ],
          "scatter3d": [
           {
            "line": {
             "colorbar": {
              "outlinewidth": 0,
              "ticks": ""
             }
            },
            "marker": {
             "colorbar": {
              "outlinewidth": 0,
              "ticks": ""
             }
            },
            "type": "scatter3d"
           }
          ],
          "scattercarpet": [
           {
            "marker": {
             "colorbar": {
              "outlinewidth": 0,
              "ticks": ""
             }
            },
            "type": "scattercarpet"
           }
          ],
          "scattergeo": [
           {
            "marker": {
             "colorbar": {
              "outlinewidth": 0,
              "ticks": ""
             }
            },
            "type": "scattergeo"
           }
          ],
          "scattergl": [
           {
            "marker": {
             "colorbar": {
              "outlinewidth": 0,
              "ticks": ""
             }
            },
            "type": "scattergl"
           }
          ],
          "scattermapbox": [
           {
            "marker": {
             "colorbar": {
              "outlinewidth": 0,
              "ticks": ""
             }
            },
            "type": "scattermapbox"
           }
          ],
          "scatterpolar": [
           {
            "marker": {
             "colorbar": {
              "outlinewidth": 0,
              "ticks": ""
             }
            },
            "type": "scatterpolar"
           }
          ],
          "scatterpolargl": [
           {
            "marker": {
             "colorbar": {
              "outlinewidth": 0,
              "ticks": ""
             }
            },
            "type": "scatterpolargl"
           }
          ],
          "scatterternary": [
           {
            "marker": {
             "colorbar": {
              "outlinewidth": 0,
              "ticks": ""
             }
            },
            "type": "scatterternary"
           }
          ],
          "surface": [
           {
            "colorbar": {
             "outlinewidth": 0,
             "ticks": ""
            },
            "colorscale": [
             [
              0,
              "#0d0887"
             ],
             [
              0.1111111111111111,
              "#46039f"
             ],
             [
              0.2222222222222222,
              "#7201a8"
             ],
             [
              0.3333333333333333,
              "#9c179e"
             ],
             [
              0.4444444444444444,
              "#bd3786"
             ],
             [
              0.5555555555555556,
              "#d8576b"
             ],
             [
              0.6666666666666666,
              "#ed7953"
             ],
             [
              0.7777777777777778,
              "#fb9f3a"
             ],
             [
              0.8888888888888888,
              "#fdca26"
             ],
             [
              1,
              "#f0f921"
             ]
            ],
            "type": "surface"
           }
          ],
          "table": [
           {
            "cells": {
             "fill": {
              "color": "#EBF0F8"
             },
             "line": {
              "color": "white"
             }
            },
            "header": {
             "fill": {
              "color": "#C8D4E3"
             },
             "line": {
              "color": "white"
             }
            },
            "type": "table"
           }
          ]
         },
         "layout": {
          "annotationdefaults": {
           "arrowcolor": "#2a3f5f",
           "arrowhead": 0,
           "arrowwidth": 1
          },
          "autotypenumbers": "strict",
          "coloraxis": {
           "colorbar": {
            "outlinewidth": 0,
            "ticks": ""
           }
          },
          "colorscale": {
           "diverging": [
            [
             0,
             "#8e0152"
            ],
            [
             0.1,
             "#c51b7d"
            ],
            [
             0.2,
             "#de77ae"
            ],
            [
             0.3,
             "#f1b6da"
            ],
            [
             0.4,
             "#fde0ef"
            ],
            [
             0.5,
             "#f7f7f7"
            ],
            [
             0.6,
             "#e6f5d0"
            ],
            [
             0.7,
             "#b8e186"
            ],
            [
             0.8,
             "#7fbc41"
            ],
            [
             0.9,
             "#4d9221"
            ],
            [
             1,
             "#276419"
            ]
           ],
           "sequential": [
            [
             0,
             "#0d0887"
            ],
            [
             0.1111111111111111,
             "#46039f"
            ],
            [
             0.2222222222222222,
             "#7201a8"
            ],
            [
             0.3333333333333333,
             "#9c179e"
            ],
            [
             0.4444444444444444,
             "#bd3786"
            ],
            [
             0.5555555555555556,
             "#d8576b"
            ],
            [
             0.6666666666666666,
             "#ed7953"
            ],
            [
             0.7777777777777778,
             "#fb9f3a"
            ],
            [
             0.8888888888888888,
             "#fdca26"
            ],
            [
             1,
             "#f0f921"
            ]
           ],
           "sequentialminus": [
            [
             0,
             "#0d0887"
            ],
            [
             0.1111111111111111,
             "#46039f"
            ],
            [
             0.2222222222222222,
             "#7201a8"
            ],
            [
             0.3333333333333333,
             "#9c179e"
            ],
            [
             0.4444444444444444,
             "#bd3786"
            ],
            [
             0.5555555555555556,
             "#d8576b"
            ],
            [
             0.6666666666666666,
             "#ed7953"
            ],
            [
             0.7777777777777778,
             "#fb9f3a"
            ],
            [
             0.8888888888888888,
             "#fdca26"
            ],
            [
             1,
             "#f0f921"
            ]
           ]
          },
          "colorway": [
           "#636efa",
           "#EF553B",
           "#00cc96",
           "#ab63fa",
           "#FFA15A",
           "#19d3f3",
           "#FF6692",
           "#B6E880",
           "#FF97FF",
           "#FECB52"
          ],
          "font": {
           "color": "#2a3f5f"
          },
          "geo": {
           "bgcolor": "white",
           "lakecolor": "white",
           "landcolor": "white",
           "showlakes": true,
           "showland": true,
           "subunitcolor": "#C8D4E3"
          },
          "hoverlabel": {
           "align": "left"
          },
          "hovermode": "closest",
          "mapbox": {
           "style": "light"
          },
          "paper_bgcolor": "white",
          "plot_bgcolor": "white",
          "polar": {
           "angularaxis": {
            "gridcolor": "#EBF0F8",
            "linecolor": "#EBF0F8",
            "ticks": ""
           },
           "bgcolor": "white",
           "radialaxis": {
            "gridcolor": "#EBF0F8",
            "linecolor": "#EBF0F8",
            "ticks": ""
           }
          },
          "scene": {
           "xaxis": {
            "backgroundcolor": "white",
            "gridcolor": "#DFE8F3",
            "gridwidth": 2,
            "linecolor": "#EBF0F8",
            "showbackground": true,
            "ticks": "",
            "zerolinecolor": "#EBF0F8"
           },
           "yaxis": {
            "backgroundcolor": "white",
            "gridcolor": "#DFE8F3",
            "gridwidth": 2,
            "linecolor": "#EBF0F8",
            "showbackground": true,
            "ticks": "",
            "zerolinecolor": "#EBF0F8"
           },
           "zaxis": {
            "backgroundcolor": "white",
            "gridcolor": "#DFE8F3",
            "gridwidth": 2,
            "linecolor": "#EBF0F8",
            "showbackground": true,
            "ticks": "",
            "zerolinecolor": "#EBF0F8"
           }
          },
          "shapedefaults": {
           "line": {
            "color": "#2a3f5f"
           }
          },
          "ternary": {
           "aaxis": {
            "gridcolor": "#DFE8F3",
            "linecolor": "#A2B1C6",
            "ticks": ""
           },
           "baxis": {
            "gridcolor": "#DFE8F3",
            "linecolor": "#A2B1C6",
            "ticks": ""
           },
           "bgcolor": "white",
           "caxis": {
            "gridcolor": "#DFE8F3",
            "linecolor": "#A2B1C6",
            "ticks": ""
           }
          },
          "title": {
           "x": 0.05
          },
          "xaxis": {
           "automargin": true,
           "gridcolor": "#EBF0F8",
           "linecolor": "#EBF0F8",
           "ticks": "",
           "title": {
            "standoff": 15
           },
           "zerolinecolor": "#EBF0F8",
           "zerolinewidth": 2
          },
          "yaxis": {
           "automargin": true,
           "gridcolor": "#EBF0F8",
           "linecolor": "#EBF0F8",
           "ticks": "",
           "title": {
            "standoff": 15
           },
           "zerolinecolor": "#EBF0F8",
           "zerolinewidth": 2
          }
         }
        },
        "width": 700,
        "xaxis": {
         "anchor": "y",
         "domain": [
          0,
          1
         ],
         "title": {
          "text": "lr"
         },
         "type": "log"
        },
        "yaxis": {
         "anchor": "x",
         "domain": [
          0,
          1
         ],
         "title": {
          "text": "batch_loss"
         }
        }
       }
      },
      "text/html": [
       "<div>                            <div id=\"02e2c335-2b10-42cc-acdf-98eb222ccff8\" class=\"plotly-graph-div\" style=\"height:400px; width:700px;\"></div>            <script type=\"text/javascript\">                require([\"plotly\"], function(Plotly) {                    window.PLOTLYENV=window.PLOTLYENV || {};                                    if (document.getElementById(\"02e2c335-2b10-42cc-acdf-98eb222ccff8\")) {                    Plotly.newPlot(                        \"02e2c335-2b10-42cc-acdf-98eb222ccff8\",                        [{\"hovertemplate\": \"x=%{x}<br>y=%{y}<extra></extra>\", \"legendgroup\": \"\", \"line\": {\"color\": \"#636efa\", \"dash\": \"solid\"}, \"mode\": \"lines\", \"name\": \"\", \"orientation\": \"v\", \"showlegend\": false, \"type\": \"scatter\", \"x\": [1e-07, 1.2045035402587822e-07, 1.4508287784959398e-07, 1.7475284000076842e-07, 2.1049041445120208e-07, 2.5353644939701124e-07, 3.0538555088334166e-07, 3.678379771828635e-07, 4.430621457583883e-07, 5.336699231206313e-07, 6.428073117284325e-07, 7.742636826811276e-07, 9.326033468832207e-07, 1.1233240329780285e-06, 1.3530477745798083e-06, 1.6297508346206458e-06, 1.963040650040273e-06, 2.3644894126454104e-06, 2.8480358684358054e-06, 3.430469286314923e-06, 4.132012400115343e-06, 4.9770235643321185e-06, 5.99484250318942e-06, 7.220809018385476e-06, 8.697490026177848e-06, 1.0476157527896668e-05, 1.2618568830660228e-05, 1.5199110829529368e-05, 1.830738280295372e-05, 2.2051307399030502e-05, 2.656087782946692e-05, 3.199267137797391e-05, 3.853528593710538e-05, 4.64158883361279e-05, 5.590810182512238e-05, 6.73415065775084e-05, 8.111308307896891e-05, 9.77009957299228e-05, 0.00011768119524350017, 0.00014174741629268092, 0.00017073526474706957, 0.00020565123083486573, 0.0002477076355991719, 0.00029836472402833486, 0.00035938136638046387, 0.00043287612810830723, 0.0005214008287999703, 0.0006280291441834275, 0.0007564633275546315, 0.0009111627561154925, 0.0010974987654930601, 0.001321941148466034, 0.0015922827933410983, 0.0019179102616724958, 0.0023101297000831687, 0.002782559402207136, 0.0033516026509388557, 0.004037017258596572, 0.0048626015800653745, 0.005857020818056691, 0.0070548023107186745, 0.00849753435908648, 0.010235310218990308, 0.012328467394420718, 0.01484968262254472, 0.017886495290574435, 0.02154434690031894, 0.025950242113997487, 0.031257158496882514, 0.03764935806792487, 0.04534878508128605, 0.05462277217684369, 0.06579332246575716, 0.07924828983539216, 0.09545484566618392, 0.11497569953977421, 0.13848863713938808, 0.16681005372000682, 0.20092330025650584, 0.2420128264794396, 0.29150530628251936, 0.35111917342151516, 0.42292428743895233, 0.509413801481641], \"xaxis\": \"x\", \"y\": [2.557462215423584, 2.409972906112671, 2.4812262058258057, 2.3212363719940186, 2.5972578525543213, 2.4594132900238037, 3.0272703170776367, 2.511889934539795, 2.325937509536743, 2.3777058124542236, 2.5823028087615967, 2.4796149730682373, 2.4804189205169678, 2.5130980014801025, 2.4354565143585205, 2.601062059402466, 2.692185401916504, 2.5581717491149902, 2.4894604682922363, 2.6029062271118164, 2.478055477142334, 2.307323932647705, 2.4087624549865723, 2.655034303665161, 2.517927885055542, 2.682833433151245, 2.457113742828369, 2.429424524307251, 2.358370065689087, 2.47566556930542, 2.658728837966919, 2.3099124431610107, 2.743375778198242, 2.6649091243743896, 2.426886796951294, 2.397865056991577, 2.5156614780426025, 2.3924479484558105, 2.709294080734253, 2.4646854400634766, 2.3336362838745117, 2.451737642288208, 2.4542970657348633, 2.430368423461914, 2.5041537284851074, 2.3122222423553467, 2.5063796043395996, 2.728781223297119, 2.416414976119995, 2.534937620162964, 2.5527682304382324, 2.613884687423706, 2.788869619369507, 2.7148361206054688, 2.337716817855835, 2.4240376949310303, 2.8133134841918945, 2.660982370376587, 2.5828323364257812, 2.4492547512054443, 2.5819814205169678, 2.3695271015167236, 2.652932643890381, 2.490511178970337, 2.865522623062134, 2.720198631286621, 2.547318696975708, 2.442950963973999, 2.764050245285034, 2.9448373317718506, 2.645439863204956, 3.0609374046325684, 2.7243802547454834, 3.302699089050293, 3.112107753753662, 3.3263533115386963, 4.14069938659668, 4.599363803863525, 5.362083435058594, 8.944233894348145, 7.118499755859375, 6.868209362030029, 9.094478607177734, 12.600908279418945], \"yaxis\": \"y\"}],                        {\"height\": 400, \"legend\": {\"tracegroupgap\": 0}, \"margin\": {\"t\": 60}, \"template\": {\"data\": {\"bar\": [{\"error_x\": {\"color\": \"#2a3f5f\"}, \"error_y\": {\"color\": \"#2a3f5f\"}, \"marker\": {\"line\": {\"color\": \"white\", \"width\": 0.5}}, \"type\": \"bar\"}], \"barpolar\": [{\"marker\": {\"line\": {\"color\": \"white\", \"width\": 0.5}}, \"type\": \"barpolar\"}], \"carpet\": [{\"aaxis\": {\"endlinecolor\": \"#2a3f5f\", \"gridcolor\": \"#C8D4E3\", \"linecolor\": \"#C8D4E3\", \"minorgridcolor\": \"#C8D4E3\", \"startlinecolor\": \"#2a3f5f\"}, \"baxis\": {\"endlinecolor\": \"#2a3f5f\", \"gridcolor\": \"#C8D4E3\", \"linecolor\": \"#C8D4E3\", \"minorgridcolor\": \"#C8D4E3\", \"startlinecolor\": \"#2a3f5f\"}, \"type\": \"carpet\"}], \"choropleth\": [{\"colorbar\": {\"outlinewidth\": 0, \"ticks\": \"\"}, \"type\": \"choropleth\"}], \"contour\": [{\"colorbar\": {\"outlinewidth\": 0, \"ticks\": \"\"}, \"colorscale\": [[0.0, \"#0d0887\"], [0.1111111111111111, \"#46039f\"], [0.2222222222222222, \"#7201a8\"], [0.3333333333333333, \"#9c179e\"], [0.4444444444444444, \"#bd3786\"], [0.5555555555555556, \"#d8576b\"], [0.6666666666666666, \"#ed7953\"], [0.7777777777777778, \"#fb9f3a\"], [0.8888888888888888, \"#fdca26\"], [1.0, \"#f0f921\"]], \"type\": \"contour\"}], \"contourcarpet\": [{\"colorbar\": {\"outlinewidth\": 0, \"ticks\": \"\"}, \"type\": \"contourcarpet\"}], \"heatmap\": [{\"colorbar\": {\"outlinewidth\": 0, \"ticks\": \"\"}, \"colorscale\": [[0.0, \"#0d0887\"], [0.1111111111111111, \"#46039f\"], [0.2222222222222222, \"#7201a8\"], [0.3333333333333333, \"#9c179e\"], [0.4444444444444444, \"#bd3786\"], [0.5555555555555556, \"#d8576b\"], [0.6666666666666666, \"#ed7953\"], [0.7777777777777778, \"#fb9f3a\"], [0.8888888888888888, \"#fdca26\"], [1.0, \"#f0f921\"]], \"type\": \"heatmap\"}], \"heatmapgl\": [{\"colorbar\": {\"outlinewidth\": 0, \"ticks\": \"\"}, \"colorscale\": [[0.0, \"#0d0887\"], [0.1111111111111111, \"#46039f\"], [0.2222222222222222, \"#7201a8\"], [0.3333333333333333, \"#9c179e\"], [0.4444444444444444, \"#bd3786\"], [0.5555555555555556, \"#d8576b\"], [0.6666666666666666, \"#ed7953\"], [0.7777777777777778, \"#fb9f3a\"], [0.8888888888888888, \"#fdca26\"], [1.0, \"#f0f921\"]], \"type\": \"heatmapgl\"}], \"histogram\": [{\"marker\": {\"colorbar\": {\"outlinewidth\": 0, \"ticks\": \"\"}}, \"type\": \"histogram\"}], \"histogram2d\": [{\"colorbar\": {\"outlinewidth\": 0, \"ticks\": \"\"}, \"colorscale\": [[0.0, \"#0d0887\"], [0.1111111111111111, \"#46039f\"], [0.2222222222222222, \"#7201a8\"], [0.3333333333333333, \"#9c179e\"], [0.4444444444444444, \"#bd3786\"], [0.5555555555555556, \"#d8576b\"], [0.6666666666666666, \"#ed7953\"], [0.7777777777777778, \"#fb9f3a\"], [0.8888888888888888, \"#fdca26\"], [1.0, \"#f0f921\"]], \"type\": \"histogram2d\"}], \"histogram2dcontour\": [{\"colorbar\": {\"outlinewidth\": 0, \"ticks\": \"\"}, \"colorscale\": [[0.0, \"#0d0887\"], [0.1111111111111111, \"#46039f\"], [0.2222222222222222, \"#7201a8\"], [0.3333333333333333, \"#9c179e\"], [0.4444444444444444, \"#bd3786\"], [0.5555555555555556, \"#d8576b\"], [0.6666666666666666, \"#ed7953\"], [0.7777777777777778, \"#fb9f3a\"], [0.8888888888888888, \"#fdca26\"], [1.0, \"#f0f921\"]], \"type\": \"histogram2dcontour\"}], \"mesh3d\": [{\"colorbar\": {\"outlinewidth\": 0, \"ticks\": \"\"}, \"type\": \"mesh3d\"}], \"parcoords\": [{\"line\": {\"colorbar\": {\"outlinewidth\": 0, \"ticks\": \"\"}}, \"type\": \"parcoords\"}], \"pie\": [{\"automargin\": true, \"type\": \"pie\"}], \"scatter\": [{\"marker\": {\"colorbar\": {\"outlinewidth\": 0, \"ticks\": \"\"}}, \"type\": \"scatter\"}], \"scatter3d\": [{\"line\": {\"colorbar\": {\"outlinewidth\": 0, \"ticks\": \"\"}}, \"marker\": {\"colorbar\": {\"outlinewidth\": 0, \"ticks\": \"\"}}, \"type\": \"scatter3d\"}], \"scattercarpet\": [{\"marker\": {\"colorbar\": {\"outlinewidth\": 0, \"ticks\": \"\"}}, \"type\": \"scattercarpet\"}], \"scattergeo\": [{\"marker\": {\"colorbar\": {\"outlinewidth\": 0, \"ticks\": \"\"}}, \"type\": \"scattergeo\"}], \"scattergl\": [{\"marker\": {\"colorbar\": {\"outlinewidth\": 0, \"ticks\": \"\"}}, \"type\": \"scattergl\"}], \"scattermapbox\": [{\"marker\": {\"colorbar\": {\"outlinewidth\": 0, \"ticks\": \"\"}}, \"type\": \"scattermapbox\"}], \"scatterpolar\": [{\"marker\": {\"colorbar\": {\"outlinewidth\": 0, \"ticks\": \"\"}}, \"type\": \"scatterpolar\"}], \"scatterpolargl\": [{\"marker\": {\"colorbar\": {\"outlinewidth\": 0, \"ticks\": \"\"}}, \"type\": \"scatterpolargl\"}], \"scatterternary\": [{\"marker\": {\"colorbar\": {\"outlinewidth\": 0, \"ticks\": \"\"}}, \"type\": \"scatterternary\"}], \"surface\": [{\"colorbar\": {\"outlinewidth\": 0, \"ticks\": \"\"}, \"colorscale\": [[0.0, \"#0d0887\"], [0.1111111111111111, \"#46039f\"], [0.2222222222222222, \"#7201a8\"], [0.3333333333333333, \"#9c179e\"], [0.4444444444444444, \"#bd3786\"], [0.5555555555555556, \"#d8576b\"], [0.6666666666666666, \"#ed7953\"], [0.7777777777777778, \"#fb9f3a\"], [0.8888888888888888, \"#fdca26\"], [1.0, \"#f0f921\"]], \"type\": \"surface\"}], \"table\": [{\"cells\": {\"fill\": {\"color\": \"#EBF0F8\"}, \"line\": {\"color\": \"white\"}}, \"header\": {\"fill\": {\"color\": \"#C8D4E3\"}, \"line\": {\"color\": \"white\"}}, \"type\": \"table\"}]}, \"layout\": {\"annotationdefaults\": {\"arrowcolor\": \"#2a3f5f\", \"arrowhead\": 0, \"arrowwidth\": 1}, \"autotypenumbers\": \"strict\", \"coloraxis\": {\"colorbar\": {\"outlinewidth\": 0, \"ticks\": \"\"}}, \"colorscale\": {\"diverging\": [[0, \"#8e0152\"], [0.1, \"#c51b7d\"], [0.2, \"#de77ae\"], [0.3, \"#f1b6da\"], [0.4, \"#fde0ef\"], [0.5, \"#f7f7f7\"], [0.6, \"#e6f5d0\"], [0.7, \"#b8e186\"], [0.8, \"#7fbc41\"], [0.9, \"#4d9221\"], [1, \"#276419\"]], \"sequential\": [[0.0, \"#0d0887\"], [0.1111111111111111, \"#46039f\"], [0.2222222222222222, \"#7201a8\"], [0.3333333333333333, \"#9c179e\"], [0.4444444444444444, \"#bd3786\"], [0.5555555555555556, \"#d8576b\"], [0.6666666666666666, \"#ed7953\"], [0.7777777777777778, \"#fb9f3a\"], [0.8888888888888888, \"#fdca26\"], [1.0, \"#f0f921\"]], \"sequentialminus\": [[0.0, \"#0d0887\"], [0.1111111111111111, \"#46039f\"], [0.2222222222222222, \"#7201a8\"], [0.3333333333333333, \"#9c179e\"], [0.4444444444444444, \"#bd3786\"], [0.5555555555555556, \"#d8576b\"], [0.6666666666666666, \"#ed7953\"], [0.7777777777777778, \"#fb9f3a\"], [0.8888888888888888, \"#fdca26\"], [1.0, \"#f0f921\"]]}, \"colorway\": [\"#636efa\", \"#EF553B\", \"#00cc96\", \"#ab63fa\", \"#FFA15A\", \"#19d3f3\", \"#FF6692\", \"#B6E880\", \"#FF97FF\", \"#FECB52\"], \"font\": {\"color\": \"#2a3f5f\"}, \"geo\": {\"bgcolor\": \"white\", \"lakecolor\": \"white\", \"landcolor\": \"white\", \"showlakes\": true, \"showland\": true, \"subunitcolor\": \"#C8D4E3\"}, \"hoverlabel\": {\"align\": \"left\"}, \"hovermode\": \"closest\", \"mapbox\": {\"style\": \"light\"}, \"paper_bgcolor\": \"white\", \"plot_bgcolor\": \"white\", \"polar\": {\"angularaxis\": {\"gridcolor\": \"#EBF0F8\", \"linecolor\": \"#EBF0F8\", \"ticks\": \"\"}, \"bgcolor\": \"white\", \"radialaxis\": {\"gridcolor\": \"#EBF0F8\", \"linecolor\": \"#EBF0F8\", \"ticks\": \"\"}}, \"scene\": {\"xaxis\": {\"backgroundcolor\": \"white\", \"gridcolor\": \"#DFE8F3\", \"gridwidth\": 2, \"linecolor\": \"#EBF0F8\", \"showbackground\": true, \"ticks\": \"\", \"zerolinecolor\": \"#EBF0F8\"}, \"yaxis\": {\"backgroundcolor\": \"white\", \"gridcolor\": \"#DFE8F3\", \"gridwidth\": 2, \"linecolor\": \"#EBF0F8\", \"showbackground\": true, \"ticks\": \"\", \"zerolinecolor\": \"#EBF0F8\"}, \"zaxis\": {\"backgroundcolor\": \"white\", \"gridcolor\": \"#DFE8F3\", \"gridwidth\": 2, \"linecolor\": \"#EBF0F8\", \"showbackground\": true, \"ticks\": \"\", \"zerolinecolor\": \"#EBF0F8\"}}, \"shapedefaults\": {\"line\": {\"color\": \"#2a3f5f\"}}, \"ternary\": {\"aaxis\": {\"gridcolor\": \"#DFE8F3\", \"linecolor\": \"#A2B1C6\", \"ticks\": \"\"}, \"baxis\": {\"gridcolor\": \"#DFE8F3\", \"linecolor\": \"#A2B1C6\", \"ticks\": \"\"}, \"bgcolor\": \"white\", \"caxis\": {\"gridcolor\": \"#DFE8F3\", \"linecolor\": \"#A2B1C6\", \"ticks\": \"\"}}, \"title\": {\"x\": 0.05}, \"xaxis\": {\"automargin\": true, \"gridcolor\": \"#EBF0F8\", \"linecolor\": \"#EBF0F8\", \"ticks\": \"\", \"title\": {\"standoff\": 15}, \"zerolinecolor\": \"#EBF0F8\", \"zerolinewidth\": 2}, \"yaxis\": {\"automargin\": true, \"gridcolor\": \"#EBF0F8\", \"linecolor\": \"#EBF0F8\", \"ticks\": \"\", \"title\": {\"standoff\": 15}, \"zerolinecolor\": \"#EBF0F8\", \"zerolinewidth\": 2}}}, \"width\": 700, \"xaxis\": {\"anchor\": \"y\", \"domain\": [0.0, 1.0], \"title\": {\"text\": \"lr\"}, \"type\": \"log\"}, \"yaxis\": {\"anchor\": \"x\", \"domain\": [0.0, 1.0], \"title\": {\"text\": \"batch_loss\"}}},                        {\"responsive\": true}                    ).then(function(){\n",
       "                            \n",
       "var gd = document.getElementById('02e2c335-2b10-42cc-acdf-98eb222ccff8');\n",
       "var x = new MutationObserver(function (mutations, observer) {{\n",
       "        var display = window.getComputedStyle(gd).display;\n",
       "        if (!display || display === 'none') {{\n",
       "            console.log([gd, 'removed!']);\n",
       "            Plotly.purge(gd);\n",
       "            observer.disconnect();\n",
       "        }}\n",
       "}});\n",
       "\n",
       "// Listen for the removal of the full notebook cells\n",
       "var notebookContainer = gd.closest('#notebook-container');\n",
       "if (notebookContainer) {{\n",
       "    x.observe(notebookContainer, {childList: true});\n",
       "}}\n",
       "\n",
       "// Listen for the clearing of the current output cell\n",
       "var outputEl = gd.closest('.output');\n",
       "if (outputEl) {{\n",
       "    x.observe(outputEl, {childList: true});\n",
       "}}\n",
       "\n",
       "                        })                };                });            </script>        </div>"
      ]
     },
     "metadata": {},
     "output_type": "display_data"
    }
   ],
   "source": [
    "# finding the best learning rate from this model\n",
    "lrfinder = model.lr_finder(train[0], y_train, params['batch_size'], tolerance=10, lr_min=0.001, lr_max=1.0)\n",
    "\n",
    "lrfinder_df = lrfinder.to_pandas()\n",
    "fig = px.line(x=lrfinder_df.index, y=lrfinder_df.train_loss, \n",
    "              log_x=True, width=700, height=400)\n",
    "fig.update_layout(dict(xaxis={'title':'lr'}, yaxis={'title':'batch_loss'}))\n",
    "\n",
    "\n",
    "print(\"Best LR: \", lrfinder.get_best_lr())\n",
    "fig"
   ]
  },
  {
   "cell_type": "code",
   "execution_count": 83,
   "id": "030230bd",
   "metadata": {
    "hidden": true
   },
   "outputs": [
    {
     "name": "stdout",
     "output_type": "stream",
     "text": [
      "Help on method lr_finder in module torchtuples.base:\n",
      "\n",
      "lr_finder(input, target, batch_size=256, lr_min=0.0001, lr_max=1.0, lr_range=(1e-07, 10.0), n_steps=100, tolerance=inf, callbacks=None, verbose=False, num_workers=0, shuffle=True, **kwargs) method of pycox.models.cox.CoxPH instance\n",
      "\n"
     ]
    }
   ],
   "source": [
    "help(model.lr_finder)"
   ]
  },
  {
   "cell_type": "code",
   "execution_count": 85,
   "id": "275f60ef",
   "metadata": {
    "hidden": true
   },
   "outputs": [
    {
     "data": {
      "text/plain": [
       "0.0001"
      ]
     },
     "execution_count": 85,
     "metadata": {},
     "output_type": "execute_result"
    }
   ],
   "source": [
    "# setting the new number\n",
    "model.optimizer.set_lr(lrfinder.get_best_lr())\n",
    "model.optimizer.param_groups[0]['lr']"
   ]
  },
  {
   "cell_type": "code",
   "execution_count": 88,
   "id": "cafa2de5",
   "metadata": {
    "hidden": true,
    "scrolled": false
   },
   "outputs": [
    {
     "name": "stdout",
     "output_type": "stream",
     "text": [
      "0:\t[0s / 0s],\t\ttrain_loss: 2.5088,\tval_loss: 11.4820\n",
      "1:\t[0s / 0s],\t\ttrain_loss: 2.4612,\tval_loss: 12.4909\n"
     ]
    }
   ],
   "source": [
    "callbacks = [tt.callbacks.EarlyStopping()]\n",
    "verbose = True\n",
    "\n",
    "log = model.fit(train[0], train[1], params['batch_size'], 2, callbacks, verbose,\n",
    "                val_data=val, val_batch_size=params['batch_size'])"
   ]
  },
  {
   "cell_type": "code",
   "execution_count": 89,
   "id": "8c0a93a4",
   "metadata": {
    "hidden": true
   },
   "outputs": [
    {
     "data": {
      "application/vnd.plotly.v1+json": {
       "config": {
        "plotlyServerURL": "https://plotly.com"
       },
       "data": [
        {
         "hovertemplate": "dataset=train_loss<br>index=%{x}<br>loss=%{y}<extra></extra>",
         "legendgroup": "train_loss",
         "line": {
          "color": "#636efa",
          "dash": "solid"
         },
         "mode": "lines",
         "name": "train_loss",
         "orientation": "v",
         "showlegend": true,
         "type": "scatter",
         "x": [
          0,
          1
         ],
         "xaxis": "x",
         "y": [
          2.50876057031678,
          2.4612194386924187
         ],
         "yaxis": "y"
        },
        {
         "hovertemplate": "dataset=val_loss<br>index=%{x}<br>loss=%{y}<extra></extra>",
         "legendgroup": "val_loss",
         "line": {
          "color": "#EF553B",
          "dash": "solid"
         },
         "mode": "lines",
         "name": "val_loss",
         "orientation": "v",
         "showlegend": true,
         "type": "scatter",
         "x": [
          0,
          1
         ],
         "xaxis": "x",
         "y": [
          11.481961250305176,
          12.490945816040039
         ],
         "yaxis": "y"
        }
       ],
       "layout": {
        "height": 400,
        "legend": {
         "title": {
          "text": "dataset"
         },
         "tracegroupgap": 0
        },
        "margin": {
         "t": 60
        },
        "template": {
         "data": {
          "bar": [
           {
            "error_x": {
             "color": "#2a3f5f"
            },
            "error_y": {
             "color": "#2a3f5f"
            },
            "marker": {
             "line": {
              "color": "white",
              "width": 0.5
             }
            },
            "type": "bar"
           }
          ],
          "barpolar": [
           {
            "marker": {
             "line": {
              "color": "white",
              "width": 0.5
             }
            },
            "type": "barpolar"
           }
          ],
          "carpet": [
           {
            "aaxis": {
             "endlinecolor": "#2a3f5f",
             "gridcolor": "#C8D4E3",
             "linecolor": "#C8D4E3",
             "minorgridcolor": "#C8D4E3",
             "startlinecolor": "#2a3f5f"
            },
            "baxis": {
             "endlinecolor": "#2a3f5f",
             "gridcolor": "#C8D4E3",
             "linecolor": "#C8D4E3",
             "minorgridcolor": "#C8D4E3",
             "startlinecolor": "#2a3f5f"
            },
            "type": "carpet"
           }
          ],
          "choropleth": [
           {
            "colorbar": {
             "outlinewidth": 0,
             "ticks": ""
            },
            "type": "choropleth"
           }
          ],
          "contour": [
           {
            "colorbar": {
             "outlinewidth": 0,
             "ticks": ""
            },
            "colorscale": [
             [
              0,
              "#0d0887"
             ],
             [
              0.1111111111111111,
              "#46039f"
             ],
             [
              0.2222222222222222,
              "#7201a8"
             ],
             [
              0.3333333333333333,
              "#9c179e"
             ],
             [
              0.4444444444444444,
              "#bd3786"
             ],
             [
              0.5555555555555556,
              "#d8576b"
             ],
             [
              0.6666666666666666,
              "#ed7953"
             ],
             [
              0.7777777777777778,
              "#fb9f3a"
             ],
             [
              0.8888888888888888,
              "#fdca26"
             ],
             [
              1,
              "#f0f921"
             ]
            ],
            "type": "contour"
           }
          ],
          "contourcarpet": [
           {
            "colorbar": {
             "outlinewidth": 0,
             "ticks": ""
            },
            "type": "contourcarpet"
           }
          ],
          "heatmap": [
           {
            "colorbar": {
             "outlinewidth": 0,
             "ticks": ""
            },
            "colorscale": [
             [
              0,
              "#0d0887"
             ],
             [
              0.1111111111111111,
              "#46039f"
             ],
             [
              0.2222222222222222,
              "#7201a8"
             ],
             [
              0.3333333333333333,
              "#9c179e"
             ],
             [
              0.4444444444444444,
              "#bd3786"
             ],
             [
              0.5555555555555556,
              "#d8576b"
             ],
             [
              0.6666666666666666,
              "#ed7953"
             ],
             [
              0.7777777777777778,
              "#fb9f3a"
             ],
             [
              0.8888888888888888,
              "#fdca26"
             ],
             [
              1,
              "#f0f921"
             ]
            ],
            "type": "heatmap"
           }
          ],
          "heatmapgl": [
           {
            "colorbar": {
             "outlinewidth": 0,
             "ticks": ""
            },
            "colorscale": [
             [
              0,
              "#0d0887"
             ],
             [
              0.1111111111111111,
              "#46039f"
             ],
             [
              0.2222222222222222,
              "#7201a8"
             ],
             [
              0.3333333333333333,
              "#9c179e"
             ],
             [
              0.4444444444444444,
              "#bd3786"
             ],
             [
              0.5555555555555556,
              "#d8576b"
             ],
             [
              0.6666666666666666,
              "#ed7953"
             ],
             [
              0.7777777777777778,
              "#fb9f3a"
             ],
             [
              0.8888888888888888,
              "#fdca26"
             ],
             [
              1,
              "#f0f921"
             ]
            ],
            "type": "heatmapgl"
           }
          ],
          "histogram": [
           {
            "marker": {
             "colorbar": {
              "outlinewidth": 0,
              "ticks": ""
             }
            },
            "type": "histogram"
           }
          ],
          "histogram2d": [
           {
            "colorbar": {
             "outlinewidth": 0,
             "ticks": ""
            },
            "colorscale": [
             [
              0,
              "#0d0887"
             ],
             [
              0.1111111111111111,
              "#46039f"
             ],
             [
              0.2222222222222222,
              "#7201a8"
             ],
             [
              0.3333333333333333,
              "#9c179e"
             ],
             [
              0.4444444444444444,
              "#bd3786"
             ],
             [
              0.5555555555555556,
              "#d8576b"
             ],
             [
              0.6666666666666666,
              "#ed7953"
             ],
             [
              0.7777777777777778,
              "#fb9f3a"
             ],
             [
              0.8888888888888888,
              "#fdca26"
             ],
             [
              1,
              "#f0f921"
             ]
            ],
            "type": "histogram2d"
           }
          ],
          "histogram2dcontour": [
           {
            "colorbar": {
             "outlinewidth": 0,
             "ticks": ""
            },
            "colorscale": [
             [
              0,
              "#0d0887"
             ],
             [
              0.1111111111111111,
              "#46039f"
             ],
             [
              0.2222222222222222,
              "#7201a8"
             ],
             [
              0.3333333333333333,
              "#9c179e"
             ],
             [
              0.4444444444444444,
              "#bd3786"
             ],
             [
              0.5555555555555556,
              "#d8576b"
             ],
             [
              0.6666666666666666,
              "#ed7953"
             ],
             [
              0.7777777777777778,
              "#fb9f3a"
             ],
             [
              0.8888888888888888,
              "#fdca26"
             ],
             [
              1,
              "#f0f921"
             ]
            ],
            "type": "histogram2dcontour"
           }
          ],
          "mesh3d": [
           {
            "colorbar": {
             "outlinewidth": 0,
             "ticks": ""
            },
            "type": "mesh3d"
           }
          ],
          "parcoords": [
           {
            "line": {
             "colorbar": {
              "outlinewidth": 0,
              "ticks": ""
             }
            },
            "type": "parcoords"
           }
          ],
          "pie": [
           {
            "automargin": true,
            "type": "pie"
           }
          ],
          "scatter": [
           {
            "marker": {
             "colorbar": {
              "outlinewidth": 0,
              "ticks": ""
             }
            },
            "type": "scatter"
           }
          ],
          "scatter3d": [
           {
            "line": {
             "colorbar": {
              "outlinewidth": 0,
              "ticks": ""
             }
            },
            "marker": {
             "colorbar": {
              "outlinewidth": 0,
              "ticks": ""
             }
            },
            "type": "scatter3d"
           }
          ],
          "scattercarpet": [
           {
            "marker": {
             "colorbar": {
              "outlinewidth": 0,
              "ticks": ""
             }
            },
            "type": "scattercarpet"
           }
          ],
          "scattergeo": [
           {
            "marker": {
             "colorbar": {
              "outlinewidth": 0,
              "ticks": ""
             }
            },
            "type": "scattergeo"
           }
          ],
          "scattergl": [
           {
            "marker": {
             "colorbar": {
              "outlinewidth": 0,
              "ticks": ""
             }
            },
            "type": "scattergl"
           }
          ],
          "scattermapbox": [
           {
            "marker": {
             "colorbar": {
              "outlinewidth": 0,
              "ticks": ""
             }
            },
            "type": "scattermapbox"
           }
          ],
          "scatterpolar": [
           {
            "marker": {
             "colorbar": {
              "outlinewidth": 0,
              "ticks": ""
             }
            },
            "type": "scatterpolar"
           }
          ],
          "scatterpolargl": [
           {
            "marker": {
             "colorbar": {
              "outlinewidth": 0,
              "ticks": ""
             }
            },
            "type": "scatterpolargl"
           }
          ],
          "scatterternary": [
           {
            "marker": {
             "colorbar": {
              "outlinewidth": 0,
              "ticks": ""
             }
            },
            "type": "scatterternary"
           }
          ],
          "surface": [
           {
            "colorbar": {
             "outlinewidth": 0,
             "ticks": ""
            },
            "colorscale": [
             [
              0,
              "#0d0887"
             ],
             [
              0.1111111111111111,
              "#46039f"
             ],
             [
              0.2222222222222222,
              "#7201a8"
             ],
             [
              0.3333333333333333,
              "#9c179e"
             ],
             [
              0.4444444444444444,
              "#bd3786"
             ],
             [
              0.5555555555555556,
              "#d8576b"
             ],
             [
              0.6666666666666666,
              "#ed7953"
             ],
             [
              0.7777777777777778,
              "#fb9f3a"
             ],
             [
              0.8888888888888888,
              "#fdca26"
             ],
             [
              1,
              "#f0f921"
             ]
            ],
            "type": "surface"
           }
          ],
          "table": [
           {
            "cells": {
             "fill": {
              "color": "#EBF0F8"
             },
             "line": {
              "color": "white"
             }
            },
            "header": {
             "fill": {
              "color": "#C8D4E3"
             },
             "line": {
              "color": "white"
             }
            },
            "type": "table"
           }
          ]
         },
         "layout": {
          "annotationdefaults": {
           "arrowcolor": "#2a3f5f",
           "arrowhead": 0,
           "arrowwidth": 1
          },
          "autotypenumbers": "strict",
          "coloraxis": {
           "colorbar": {
            "outlinewidth": 0,
            "ticks": ""
           }
          },
          "colorscale": {
           "diverging": [
            [
             0,
             "#8e0152"
            ],
            [
             0.1,
             "#c51b7d"
            ],
            [
             0.2,
             "#de77ae"
            ],
            [
             0.3,
             "#f1b6da"
            ],
            [
             0.4,
             "#fde0ef"
            ],
            [
             0.5,
             "#f7f7f7"
            ],
            [
             0.6,
             "#e6f5d0"
            ],
            [
             0.7,
             "#b8e186"
            ],
            [
             0.8,
             "#7fbc41"
            ],
            [
             0.9,
             "#4d9221"
            ],
            [
             1,
             "#276419"
            ]
           ],
           "sequential": [
            [
             0,
             "#0d0887"
            ],
            [
             0.1111111111111111,
             "#46039f"
            ],
            [
             0.2222222222222222,
             "#7201a8"
            ],
            [
             0.3333333333333333,
             "#9c179e"
            ],
            [
             0.4444444444444444,
             "#bd3786"
            ],
            [
             0.5555555555555556,
             "#d8576b"
            ],
            [
             0.6666666666666666,
             "#ed7953"
            ],
            [
             0.7777777777777778,
             "#fb9f3a"
            ],
            [
             0.8888888888888888,
             "#fdca26"
            ],
            [
             1,
             "#f0f921"
            ]
           ],
           "sequentialminus": [
            [
             0,
             "#0d0887"
            ],
            [
             0.1111111111111111,
             "#46039f"
            ],
            [
             0.2222222222222222,
             "#7201a8"
            ],
            [
             0.3333333333333333,
             "#9c179e"
            ],
            [
             0.4444444444444444,
             "#bd3786"
            ],
            [
             0.5555555555555556,
             "#d8576b"
            ],
            [
             0.6666666666666666,
             "#ed7953"
            ],
            [
             0.7777777777777778,
             "#fb9f3a"
            ],
            [
             0.8888888888888888,
             "#fdca26"
            ],
            [
             1,
             "#f0f921"
            ]
           ]
          },
          "colorway": [
           "#636efa",
           "#EF553B",
           "#00cc96",
           "#ab63fa",
           "#FFA15A",
           "#19d3f3",
           "#FF6692",
           "#B6E880",
           "#FF97FF",
           "#FECB52"
          ],
          "font": {
           "color": "#2a3f5f"
          },
          "geo": {
           "bgcolor": "white",
           "lakecolor": "white",
           "landcolor": "white",
           "showlakes": true,
           "showland": true,
           "subunitcolor": "#C8D4E3"
          },
          "hoverlabel": {
           "align": "left"
          },
          "hovermode": "closest",
          "mapbox": {
           "style": "light"
          },
          "paper_bgcolor": "white",
          "plot_bgcolor": "white",
          "polar": {
           "angularaxis": {
            "gridcolor": "#EBF0F8",
            "linecolor": "#EBF0F8",
            "ticks": ""
           },
           "bgcolor": "white",
           "radialaxis": {
            "gridcolor": "#EBF0F8",
            "linecolor": "#EBF0F8",
            "ticks": ""
           }
          },
          "scene": {
           "xaxis": {
            "backgroundcolor": "white",
            "gridcolor": "#DFE8F3",
            "gridwidth": 2,
            "linecolor": "#EBF0F8",
            "showbackground": true,
            "ticks": "",
            "zerolinecolor": "#EBF0F8"
           },
           "yaxis": {
            "backgroundcolor": "white",
            "gridcolor": "#DFE8F3",
            "gridwidth": 2,
            "linecolor": "#EBF0F8",
            "showbackground": true,
            "ticks": "",
            "zerolinecolor": "#EBF0F8"
           },
           "zaxis": {
            "backgroundcolor": "white",
            "gridcolor": "#DFE8F3",
            "gridwidth": 2,
            "linecolor": "#EBF0F8",
            "showbackground": true,
            "ticks": "",
            "zerolinecolor": "#EBF0F8"
           }
          },
          "shapedefaults": {
           "line": {
            "color": "#2a3f5f"
           }
          },
          "ternary": {
           "aaxis": {
            "gridcolor": "#DFE8F3",
            "linecolor": "#A2B1C6",
            "ticks": ""
           },
           "baxis": {
            "gridcolor": "#DFE8F3",
            "linecolor": "#A2B1C6",
            "ticks": ""
           },
           "bgcolor": "white",
           "caxis": {
            "gridcolor": "#DFE8F3",
            "linecolor": "#A2B1C6",
            "ticks": ""
           }
          },
          "title": {
           "x": 0.05
          },
          "xaxis": {
           "automargin": true,
           "gridcolor": "#EBF0F8",
           "linecolor": "#EBF0F8",
           "ticks": "",
           "title": {
            "standoff": 15
           },
           "zerolinecolor": "#EBF0F8",
           "zerolinewidth": 2
          },
          "yaxis": {
           "automargin": true,
           "gridcolor": "#EBF0F8",
           "linecolor": "#EBF0F8",
           "ticks": "",
           "title": {
            "standoff": 15
           },
           "zerolinecolor": "#EBF0F8",
           "zerolinewidth": 2
          }
         }
        },
        "width": 800,
        "xaxis": {
         "anchor": "y",
         "domain": [
          0,
          1
         ],
         "title": {
          "text": "index"
         }
        },
        "yaxis": {
         "anchor": "x",
         "domain": [
          0,
          1
         ],
         "title": {
          "text": "loss"
         }
        }
       }
      },
      "text/html": [
       "<div>                            <div id=\"0a782a6a-d471-4b4a-9fdc-b015a85b45b3\" class=\"plotly-graph-div\" style=\"height:400px; width:800px;\"></div>            <script type=\"text/javascript\">                require([\"plotly\"], function(Plotly) {                    window.PLOTLYENV=window.PLOTLYENV || {};                                    if (document.getElementById(\"0a782a6a-d471-4b4a-9fdc-b015a85b45b3\")) {                    Plotly.newPlot(                        \"0a782a6a-d471-4b4a-9fdc-b015a85b45b3\",                        [{\"hovertemplate\": \"dataset=train_loss<br>index=%{x}<br>loss=%{y}<extra></extra>\", \"legendgroup\": \"train_loss\", \"line\": {\"color\": \"#636efa\", \"dash\": \"solid\"}, \"mode\": \"lines\", \"name\": \"train_loss\", \"orientation\": \"v\", \"showlegend\": true, \"type\": \"scatter\", \"x\": [0, 1], \"xaxis\": \"x\", \"y\": [2.50876057031678, 2.4612194386924187], \"yaxis\": \"y\"}, {\"hovertemplate\": \"dataset=val_loss<br>index=%{x}<br>loss=%{y}<extra></extra>\", \"legendgroup\": \"val_loss\", \"line\": {\"color\": \"#EF553B\", \"dash\": \"solid\"}, \"mode\": \"lines\", \"name\": \"val_loss\", \"orientation\": \"v\", \"showlegend\": true, \"type\": \"scatter\", \"x\": [0, 1], \"xaxis\": \"x\", \"y\": [11.481961250305176, 12.490945816040039], \"yaxis\": \"y\"}],                        {\"height\": 400, \"legend\": {\"title\": {\"text\": \"dataset\"}, \"tracegroupgap\": 0}, \"margin\": {\"t\": 60}, \"template\": {\"data\": {\"bar\": [{\"error_x\": {\"color\": \"#2a3f5f\"}, \"error_y\": {\"color\": \"#2a3f5f\"}, \"marker\": {\"line\": {\"color\": \"white\", \"width\": 0.5}}, \"type\": \"bar\"}], \"barpolar\": [{\"marker\": {\"line\": {\"color\": \"white\", \"width\": 0.5}}, \"type\": \"barpolar\"}], \"carpet\": [{\"aaxis\": {\"endlinecolor\": \"#2a3f5f\", \"gridcolor\": \"#C8D4E3\", \"linecolor\": \"#C8D4E3\", \"minorgridcolor\": \"#C8D4E3\", \"startlinecolor\": \"#2a3f5f\"}, \"baxis\": {\"endlinecolor\": \"#2a3f5f\", \"gridcolor\": \"#C8D4E3\", \"linecolor\": \"#C8D4E3\", \"minorgridcolor\": \"#C8D4E3\", \"startlinecolor\": \"#2a3f5f\"}, \"type\": \"carpet\"}], \"choropleth\": [{\"colorbar\": {\"outlinewidth\": 0, \"ticks\": \"\"}, \"type\": \"choropleth\"}], \"contour\": [{\"colorbar\": {\"outlinewidth\": 0, \"ticks\": \"\"}, \"colorscale\": [[0.0, \"#0d0887\"], [0.1111111111111111, \"#46039f\"], [0.2222222222222222, \"#7201a8\"], [0.3333333333333333, \"#9c179e\"], [0.4444444444444444, \"#bd3786\"], [0.5555555555555556, \"#d8576b\"], [0.6666666666666666, \"#ed7953\"], [0.7777777777777778, \"#fb9f3a\"], [0.8888888888888888, \"#fdca26\"], [1.0, \"#f0f921\"]], \"type\": \"contour\"}], \"contourcarpet\": [{\"colorbar\": {\"outlinewidth\": 0, \"ticks\": \"\"}, \"type\": \"contourcarpet\"}], \"heatmap\": [{\"colorbar\": {\"outlinewidth\": 0, \"ticks\": \"\"}, \"colorscale\": [[0.0, \"#0d0887\"], [0.1111111111111111, \"#46039f\"], [0.2222222222222222, \"#7201a8\"], [0.3333333333333333, \"#9c179e\"], [0.4444444444444444, \"#bd3786\"], [0.5555555555555556, \"#d8576b\"], [0.6666666666666666, \"#ed7953\"], [0.7777777777777778, \"#fb9f3a\"], [0.8888888888888888, \"#fdca26\"], [1.0, \"#f0f921\"]], \"type\": \"heatmap\"}], \"heatmapgl\": [{\"colorbar\": {\"outlinewidth\": 0, \"ticks\": \"\"}, \"colorscale\": [[0.0, \"#0d0887\"], [0.1111111111111111, \"#46039f\"], [0.2222222222222222, \"#7201a8\"], [0.3333333333333333, \"#9c179e\"], [0.4444444444444444, \"#bd3786\"], [0.5555555555555556, \"#d8576b\"], [0.6666666666666666, \"#ed7953\"], [0.7777777777777778, \"#fb9f3a\"], [0.8888888888888888, \"#fdca26\"], [1.0, \"#f0f921\"]], \"type\": \"heatmapgl\"}], \"histogram\": [{\"marker\": {\"colorbar\": {\"outlinewidth\": 0, \"ticks\": \"\"}}, \"type\": \"histogram\"}], \"histogram2d\": [{\"colorbar\": {\"outlinewidth\": 0, \"ticks\": \"\"}, \"colorscale\": [[0.0, \"#0d0887\"], [0.1111111111111111, \"#46039f\"], [0.2222222222222222, \"#7201a8\"], [0.3333333333333333, \"#9c179e\"], [0.4444444444444444, \"#bd3786\"], [0.5555555555555556, \"#d8576b\"], [0.6666666666666666, \"#ed7953\"], [0.7777777777777778, \"#fb9f3a\"], [0.8888888888888888, \"#fdca26\"], [1.0, \"#f0f921\"]], \"type\": \"histogram2d\"}], \"histogram2dcontour\": [{\"colorbar\": {\"outlinewidth\": 0, \"ticks\": \"\"}, \"colorscale\": [[0.0, \"#0d0887\"], [0.1111111111111111, \"#46039f\"], [0.2222222222222222, \"#7201a8\"], [0.3333333333333333, \"#9c179e\"], [0.4444444444444444, \"#bd3786\"], [0.5555555555555556, \"#d8576b\"], [0.6666666666666666, \"#ed7953\"], [0.7777777777777778, \"#fb9f3a\"], [0.8888888888888888, \"#fdca26\"], [1.0, \"#f0f921\"]], \"type\": \"histogram2dcontour\"}], \"mesh3d\": [{\"colorbar\": {\"outlinewidth\": 0, \"ticks\": \"\"}, \"type\": \"mesh3d\"}], \"parcoords\": [{\"line\": {\"colorbar\": {\"outlinewidth\": 0, \"ticks\": \"\"}}, \"type\": \"parcoords\"}], \"pie\": [{\"automargin\": true, \"type\": \"pie\"}], \"scatter\": [{\"marker\": {\"colorbar\": {\"outlinewidth\": 0, \"ticks\": \"\"}}, \"type\": \"scatter\"}], \"scatter3d\": [{\"line\": {\"colorbar\": {\"outlinewidth\": 0, \"ticks\": \"\"}}, \"marker\": {\"colorbar\": {\"outlinewidth\": 0, \"ticks\": \"\"}}, \"type\": \"scatter3d\"}], \"scattercarpet\": [{\"marker\": {\"colorbar\": {\"outlinewidth\": 0, \"ticks\": \"\"}}, \"type\": \"scattercarpet\"}], \"scattergeo\": [{\"marker\": {\"colorbar\": {\"outlinewidth\": 0, \"ticks\": \"\"}}, \"type\": \"scattergeo\"}], \"scattergl\": [{\"marker\": {\"colorbar\": {\"outlinewidth\": 0, \"ticks\": \"\"}}, \"type\": \"scattergl\"}], \"scattermapbox\": [{\"marker\": {\"colorbar\": {\"outlinewidth\": 0, \"ticks\": \"\"}}, \"type\": \"scattermapbox\"}], \"scatterpolar\": [{\"marker\": {\"colorbar\": {\"outlinewidth\": 0, \"ticks\": \"\"}}, \"type\": \"scatterpolar\"}], \"scatterpolargl\": [{\"marker\": {\"colorbar\": {\"outlinewidth\": 0, \"ticks\": \"\"}}, \"type\": \"scatterpolargl\"}], \"scatterternary\": [{\"marker\": {\"colorbar\": {\"outlinewidth\": 0, \"ticks\": \"\"}}, \"type\": \"scatterternary\"}], \"surface\": [{\"colorbar\": {\"outlinewidth\": 0, \"ticks\": \"\"}, \"colorscale\": [[0.0, \"#0d0887\"], [0.1111111111111111, \"#46039f\"], [0.2222222222222222, \"#7201a8\"], [0.3333333333333333, \"#9c179e\"], [0.4444444444444444, \"#bd3786\"], [0.5555555555555556, \"#d8576b\"], [0.6666666666666666, \"#ed7953\"], [0.7777777777777778, \"#fb9f3a\"], [0.8888888888888888, \"#fdca26\"], [1.0, \"#f0f921\"]], \"type\": \"surface\"}], \"table\": [{\"cells\": {\"fill\": {\"color\": \"#EBF0F8\"}, \"line\": {\"color\": \"white\"}}, \"header\": {\"fill\": {\"color\": \"#C8D4E3\"}, \"line\": {\"color\": \"white\"}}, \"type\": \"table\"}]}, \"layout\": {\"annotationdefaults\": {\"arrowcolor\": \"#2a3f5f\", \"arrowhead\": 0, \"arrowwidth\": 1}, \"autotypenumbers\": \"strict\", \"coloraxis\": {\"colorbar\": {\"outlinewidth\": 0, \"ticks\": \"\"}}, \"colorscale\": {\"diverging\": [[0, \"#8e0152\"], [0.1, \"#c51b7d\"], [0.2, \"#de77ae\"], [0.3, \"#f1b6da\"], [0.4, \"#fde0ef\"], [0.5, \"#f7f7f7\"], [0.6, \"#e6f5d0\"], [0.7, \"#b8e186\"], [0.8, \"#7fbc41\"], [0.9, \"#4d9221\"], [1, \"#276419\"]], \"sequential\": [[0.0, \"#0d0887\"], [0.1111111111111111, \"#46039f\"], [0.2222222222222222, \"#7201a8\"], [0.3333333333333333, \"#9c179e\"], [0.4444444444444444, \"#bd3786\"], [0.5555555555555556, \"#d8576b\"], [0.6666666666666666, \"#ed7953\"], [0.7777777777777778, \"#fb9f3a\"], [0.8888888888888888, \"#fdca26\"], [1.0, \"#f0f921\"]], \"sequentialminus\": [[0.0, \"#0d0887\"], [0.1111111111111111, \"#46039f\"], [0.2222222222222222, \"#7201a8\"], [0.3333333333333333, \"#9c179e\"], [0.4444444444444444, \"#bd3786\"], [0.5555555555555556, \"#d8576b\"], [0.6666666666666666, \"#ed7953\"], [0.7777777777777778, \"#fb9f3a\"], [0.8888888888888888, \"#fdca26\"], [1.0, \"#f0f921\"]]}, \"colorway\": [\"#636efa\", \"#EF553B\", \"#00cc96\", \"#ab63fa\", \"#FFA15A\", \"#19d3f3\", \"#FF6692\", \"#B6E880\", \"#FF97FF\", \"#FECB52\"], \"font\": {\"color\": \"#2a3f5f\"}, \"geo\": {\"bgcolor\": \"white\", \"lakecolor\": \"white\", \"landcolor\": \"white\", \"showlakes\": true, \"showland\": true, \"subunitcolor\": \"#C8D4E3\"}, \"hoverlabel\": {\"align\": \"left\"}, \"hovermode\": \"closest\", \"mapbox\": {\"style\": \"light\"}, \"paper_bgcolor\": \"white\", \"plot_bgcolor\": \"white\", \"polar\": {\"angularaxis\": {\"gridcolor\": \"#EBF0F8\", \"linecolor\": \"#EBF0F8\", \"ticks\": \"\"}, \"bgcolor\": \"white\", \"radialaxis\": {\"gridcolor\": \"#EBF0F8\", \"linecolor\": \"#EBF0F8\", \"ticks\": \"\"}}, \"scene\": {\"xaxis\": {\"backgroundcolor\": \"white\", \"gridcolor\": \"#DFE8F3\", \"gridwidth\": 2, \"linecolor\": \"#EBF0F8\", \"showbackground\": true, \"ticks\": \"\", \"zerolinecolor\": \"#EBF0F8\"}, \"yaxis\": {\"backgroundcolor\": \"white\", \"gridcolor\": \"#DFE8F3\", \"gridwidth\": 2, \"linecolor\": \"#EBF0F8\", \"showbackground\": true, \"ticks\": \"\", \"zerolinecolor\": \"#EBF0F8\"}, \"zaxis\": {\"backgroundcolor\": \"white\", \"gridcolor\": \"#DFE8F3\", \"gridwidth\": 2, \"linecolor\": \"#EBF0F8\", \"showbackground\": true, \"ticks\": \"\", \"zerolinecolor\": \"#EBF0F8\"}}, \"shapedefaults\": {\"line\": {\"color\": \"#2a3f5f\"}}, \"ternary\": {\"aaxis\": {\"gridcolor\": \"#DFE8F3\", \"linecolor\": \"#A2B1C6\", \"ticks\": \"\"}, \"baxis\": {\"gridcolor\": \"#DFE8F3\", \"linecolor\": \"#A2B1C6\", \"ticks\": \"\"}, \"bgcolor\": \"white\", \"caxis\": {\"gridcolor\": \"#DFE8F3\", \"linecolor\": \"#A2B1C6\", \"ticks\": \"\"}}, \"title\": {\"x\": 0.05}, \"xaxis\": {\"automargin\": true, \"gridcolor\": \"#EBF0F8\", \"linecolor\": \"#EBF0F8\", \"ticks\": \"\", \"title\": {\"standoff\": 15}, \"zerolinecolor\": \"#EBF0F8\", \"zerolinewidth\": 2}, \"yaxis\": {\"automargin\": true, \"gridcolor\": \"#EBF0F8\", \"linecolor\": \"#EBF0F8\", \"ticks\": \"\", \"title\": {\"standoff\": 15}, \"zerolinecolor\": \"#EBF0F8\", \"zerolinewidth\": 2}}}, \"width\": 800, \"xaxis\": {\"anchor\": \"y\", \"domain\": [0.0, 1.0], \"title\": {\"text\": \"index\"}}, \"yaxis\": {\"anchor\": \"x\", \"domain\": [0.0, 1.0], \"title\": {\"text\": \"loss\"}}},                        {\"responsive\": true}                    ).then(function(){\n",
       "                            \n",
       "var gd = document.getElementById('0a782a6a-d471-4b4a-9fdc-b015a85b45b3');\n",
       "var x = new MutationObserver(function (mutations, observer) {{\n",
       "        var display = window.getComputedStyle(gd).display;\n",
       "        if (!display || display === 'none') {{\n",
       "            console.log([gd, 'removed!']);\n",
       "            Plotly.purge(gd);\n",
       "            observer.disconnect();\n",
       "        }}\n",
       "}});\n",
       "\n",
       "// Listen for the removal of the full notebook cells\n",
       "var notebookContainer = gd.closest('#notebook-container');\n",
       "if (notebookContainer) {{\n",
       "    x.observe(notebookContainer, {childList: true});\n",
       "}}\n",
       "\n",
       "// Listen for the clearing of the current output cell\n",
       "var outputEl = gd.closest('.output');\n",
       "if (outputEl) {{\n",
       "    x.observe(outputEl, {childList: true});\n",
       "}}\n",
       "\n",
       "                        })                };                });            </script>        </div>"
      ]
     },
     "metadata": {},
     "output_type": "display_data"
    }
   ],
   "source": [
    "logs_df = log.to_pandas().reset_index().melt(\n",
    "    id_vars=\"index\", value_name=\"loss\", var_name=\"dataset\").reset_index()\n",
    "\n",
    "px.line(logs_df, y=\"loss\", x=\"index\", color=\"dataset\", width=800, height = 400)"
   ]
  },
  {
   "cell_type": "code",
   "execution_count": 91,
   "id": "b781624d",
   "metadata": {
    "hidden": true
   },
   "outputs": [
    {
     "data": {
      "text/plain": [
       "-25.007416"
      ]
     },
     "execution_count": 91,
     "metadata": {},
     "output_type": "execute_result"
    }
   ],
   "source": [
    "model.partial_log_likelihood(*val).mean()"
   ]
  },
  {
   "cell_type": "code",
   "execution_count": null,
   "id": "3fdd2be2",
   "metadata": {
    "hidden": true
   },
   "outputs": [],
   "source": []
  },
  {
   "cell_type": "code",
   "execution_count": null,
   "id": "38536eb4",
   "metadata": {
    "hidden": true
   },
   "outputs": [],
   "source": []
  },
  {
   "cell_type": "code",
   "execution_count": 92,
   "id": "86bd81e1",
   "metadata": {
    "hidden": true
   },
   "outputs": [],
   "source": [
    "_ = model.compute_baseline_hazards()\n",
    "surv = model.predict_surv_df(test[0])"
   ]
  },
  {
   "cell_type": "code",
   "execution_count": 93,
   "id": "b5d05066",
   "metadata": {
    "hidden": true
   },
   "outputs": [
    {
     "data": {
      "application/vnd.plotly.v1+json": {
       "config": {
        "plotlyServerURL": "https://plotly.com"
       },
       "data": [
        {
         "hovertemplate": "patient_id=2863<br>duration=%{x}<br>S=%{y}<extra></extra>",
         "legendgroup": "2863",
         "line": {
          "color": "#636efa",
          "dash": "solid"
         },
         "mode": "lines",
         "name": "2863",
         "showlegend": true,
         "type": "scattergl",
         "x": [
          0,
          1,
          2,
          3,
          4,
          5,
          6,
          7,
          8,
          9,
          10,
          11,
          12,
          13,
          14,
          15,
          16,
          17,
          18,
          19,
          20,
          21,
          22,
          23,
          24,
          25,
          26,
          27,
          28,
          29,
          30,
          31,
          32,
          33,
          34,
          35,
          36,
          37,
          38,
          39,
          40,
          41,
          42,
          43,
          44,
          45,
          46,
          47,
          48,
          49,
          50,
          51,
          52,
          53,
          54,
          55,
          56,
          57,
          58,
          59,
          60,
          61,
          62,
          63,
          64,
          65,
          66,
          67,
          68,
          69,
          70,
          71,
          72,
          73,
          74,
          75,
          76,
          77,
          78,
          79,
          80,
          81,
          82,
          83,
          84,
          85,
          86,
          87,
          88,
          89,
          90,
          91,
          92,
          93,
          94,
          95,
          96,
          97,
          98,
          99,
          100,
          101,
          102,
          103,
          104,
          105,
          106,
          107,
          108,
          109,
          110,
          111,
          112,
          113,
          114,
          115,
          116,
          117,
          118,
          119,
          120,
          121,
          122,
          123,
          124,
          125,
          126,
          127,
          128,
          129,
          130,
          131,
          132,
          133,
          134,
          135,
          136,
          137,
          138,
          139,
          140,
          141,
          142,
          143,
          144,
          145,
          146,
          147,
          148,
          149,
          150,
          151,
          152,
          153,
          154,
          155,
          156,
          157,
          158,
          159,
          160,
          161,
          162,
          163,
          164,
          165,
          166,
          167,
          168,
          169,
          170,
          171,
          172,
          173,
          174,
          175,
          176,
          177,
          178,
          179,
          180,
          181,
          182,
          183,
          184,
          185,
          186,
          187,
          188,
          189,
          190,
          191,
          192,
          193,
          194,
          195,
          196,
          197,
          198,
          199,
          200,
          201,
          202,
          203,
          204,
          205,
          206,
          207,
          208,
          209,
          210,
          211,
          212,
          213,
          214,
          215,
          216,
          217,
          218,
          219,
          220,
          221,
          222,
          223,
          224,
          225,
          226,
          227,
          228,
          229,
          230,
          231,
          232,
          233,
          234,
          235,
          236,
          237,
          238,
          239,
          240,
          241,
          242,
          243,
          244,
          245,
          246,
          247,
          248,
          249,
          250,
          251,
          252,
          253,
          254,
          255,
          256,
          257,
          258,
          259,
          260,
          261,
          262,
          263,
          264,
          265,
          266,
          267,
          268,
          269,
          270,
          271,
          272,
          273,
          274,
          275,
          276,
          277,
          278,
          279,
          280,
          281,
          282,
          283,
          284,
          285,
          286,
          287,
          288,
          289,
          290,
          291,
          292,
          293,
          294,
          295,
          296,
          297,
          298,
          299,
          300,
          301,
          302,
          303,
          304,
          305,
          306,
          307,
          308,
          309,
          310,
          311,
          312,
          313,
          314,
          315,
          316,
          317,
          318,
          319,
          320,
          321,
          322,
          323,
          324,
          325,
          326,
          327,
          328,
          329,
          330,
          331,
          332,
          333,
          334,
          335,
          336,
          337,
          338,
          339,
          340,
          341,
          342,
          343,
          344,
          345,
          346,
          347,
          348,
          349,
          350,
          351,
          352,
          353,
          354,
          355,
          356,
          357,
          358,
          359,
          360,
          361,
          362,
          363,
          364,
          365,
          366,
          367,
          368,
          369,
          370,
          371,
          372,
          373,
          374,
          375,
          376,
          377,
          378,
          379,
          380,
          381,
          382,
          383,
          384,
          385,
          386,
          387,
          388,
          389,
          390,
          391,
          392,
          393,
          394,
          395,
          396,
          397,
          398,
          399,
          400,
          401,
          402,
          403,
          404,
          405,
          406,
          407,
          408,
          409,
          410,
          411,
          412,
          413,
          414,
          415,
          416,
          417,
          418,
          419,
          421,
          422,
          423,
          424,
          425,
          426,
          427,
          428,
          429,
          430,
          431,
          432,
          433,
          434,
          435,
          436,
          437,
          438,
          439,
          440,
          441,
          442,
          443,
          444,
          445,
          446,
          447,
          448,
          449,
          450,
          451,
          452,
          453,
          454,
          455,
          456,
          457,
          458,
          459,
          460,
          461,
          462,
          463,
          464,
          465,
          466,
          467,
          468,
          469,
          470,
          471,
          472,
          473,
          474,
          475,
          476,
          477,
          478,
          479,
          480,
          481,
          482,
          483,
          484,
          485,
          486,
          487,
          488,
          489,
          490,
          491,
          492,
          493,
          494,
          495,
          496,
          497,
          498,
          499,
          500,
          501,
          502,
          503,
          504,
          505,
          506,
          507,
          508,
          509,
          510,
          511,
          512,
          513,
          514,
          515,
          516,
          517,
          518,
          519,
          520,
          521,
          522,
          523,
          524,
          525,
          526,
          527,
          528,
          529,
          530,
          531,
          532,
          533,
          534,
          535,
          536,
          537,
          538,
          539,
          540,
          541,
          542,
          543,
          544,
          545,
          546,
          547,
          548,
          549,
          550,
          551,
          552,
          553,
          554,
          555,
          556,
          557,
          558,
          559,
          560,
          561,
          562,
          563,
          564,
          565,
          566,
          567,
          568,
          569,
          570,
          571,
          572,
          573,
          574,
          575,
          576,
          577,
          578,
          579,
          580,
          581,
          582,
          583,
          584,
          585,
          586,
          587,
          588,
          590,
          591,
          592,
          593,
          594,
          595,
          597,
          598,
          599,
          600,
          601,
          602,
          603,
          604,
          605,
          606,
          607,
          608,
          609,
          610,
          611,
          612,
          613,
          614,
          615,
          616,
          617,
          618,
          619,
          620,
          621,
          622,
          623,
          624,
          625,
          626,
          627,
          628,
          629,
          630,
          631,
          632,
          633,
          634,
          635,
          636,
          637,
          638,
          639,
          640,
          641,
          642,
          643,
          644,
          645,
          646,
          647,
          648,
          649,
          650,
          651,
          652,
          653,
          654,
          655,
          656,
          657,
          658,
          659,
          660,
          661,
          662,
          663,
          664,
          665,
          666,
          667,
          668,
          669,
          670,
          671,
          672,
          673,
          674,
          675,
          676,
          677,
          678,
          679,
          680,
          681,
          682,
          683,
          684,
          685,
          686,
          687,
          688,
          689,
          690,
          691,
          692,
          693,
          694,
          695,
          696,
          697,
          698,
          699,
          700,
          701,
          702,
          703,
          704,
          705,
          706,
          707,
          708,
          709,
          710,
          711,
          713,
          714,
          715,
          716,
          717,
          718,
          719,
          720,
          721,
          722,
          723,
          724,
          725,
          726,
          727,
          728,
          729
         ],
         "xaxis": "x",
         "y": [
          0.9997196351051034,
          0.9994391588461063,
          0.9988075792014698,
          0.9978944960298495,
          0.9975425288412808,
          0.9969786049890773,
          0.9960600471253427,
          0.9951388004944942,
          0.994285417162056,
          0.993714259978701,
          0.9927127961345635,
          0.9922814669467745,
          0.9911991058722028,
          0.9903303324447346,
          0.9896765271913317,
          0.9888028094907434,
          0.9879261342454635,
          0.9874859910761135,
          0.9866777262907352,
          0.985720241346048,
          0.984833641799434,
          0.9843149151680815,
          0.9836464571015076,
          0.9831996765590933,
          0.9825279588433667,
          0.981705593274903,
          0.9810309559617317,
          0.9805048761111443,
          0.9798269062950734,
          0.979221989813166,
          0.9786917222675446,
          0.9783120178516285,
          0.9773223147522191,
          0.9766349971015172,
          0.9757173658074965,
          0.9749506804955994,
          0.9744892596931959,
          0.9733338852807735,
          0.9723297342665407,
          0.9717100401509471,
          0.9710116548463296,
          0.9696136306654275,
          0.9689125231407091,
          0.9685222711111822,
          0.9677404503292475,
          0.9662516168291818,
          0.9653080274060749,
          0.9645193569971386,
          0.9632541522991459,
          0.962857617273886,
          0.9622228700985205,
          0.9612692434552549,
          0.9604716712870252,
          0.9595124309081089,
          0.9584703607040873,
          0.9572650043049076,
          0.9569426690088768,
          0.9560551307599597,
          0.9550048681951724,
          0.9535479785093826,
          0.9528171229961983,
          0.9516788667563527,
          0.9505350299420289,
          0.9497979963236063,
          0.9490596660537277,
          0.9474164438605489,
          0.9470040079928468,
          0.9457650293434656,
          0.9453510338351467,
          0.9444396191221756,
          0.9441074342434229,
          0.9434418809046317,
          0.9423590073636308,
          0.9407722455018418,
          0.9399339762281707,
          0.938505604373766,
          0.9368204402376765,
          0.9361432599698247,
          0.9357192124868978,
          0.9352098726578865,
          0.9344444645221255,
          0.9332520089662693,
          0.9322275255956184,
          0.931543054542583,
          0.9309430148423572,
          0.9299988124400832,
          0.9291388657412973,
          0.9280196392676111,
          0.9270710491725656,
          0.9264663687952621,
          0.9254280803473548,
          0.9246418036285019,
          0.923679248814804,
          0.9227156151888262,
          0.9220136586811161,
          0.9211351556511613,
          0.9203429863792282,
          0.9196374608668236,
          0.9191074164017069,
          0.9187536041619433,
          0.918311103613426,
          0.9176027195010739,
          0.9173367872574166,
          0.9168047097268874,
          0.9160050651309551,
          0.9152931777414937,
          0.9140450797017468,
          0.9135088336724899,
          0.9124354223834055,
          0.9120762972074331,
          0.9112679235307489,
          0.9104579022484366,
          0.9100071882108965,
          0.9093755822158021,
          0.9087427543764487,
          0.9078372371538587,
          0.9066575068533492,
          0.9062024558365686,
          0.9056559015794099,
          0.9050175120751073,
          0.9043782220999707,
          0.903921093708115,
          0.903189244198035,
          0.9023630117896663,
          0.9018102982474484,
          0.9007963986882366,
          0.8995953974399062,
          0.8982992823453462,
          0.8978351021448686,
          0.8971847035721283,
          0.8967195168278926,
          0.8951371662636854,
          0.8940159168648518,
          0.8934540573354762,
          0.8931727175954216,
          0.8924223651249955,
          0.8915772467373835,
          0.8912010535093693,
          0.8903541914600596,
          0.8890345407975327,
          0.8883733182989176,
          0.8878059381382057,
          0.8867653872223441,
          0.8860074008921257,
          0.8858176943989494,
          0.8853431159873415,
          0.8842036590300746,
          0.8838230488618131,
          0.8828707789104965,
          0.8818212662636685,
          0.8808651354788425,
          0.8801943868364952,
          0.8797144740370477,
          0.8780816820324959,
          0.8773107135084771,
          0.8763457241078217,
          0.8749921613253682,
          0.8739263121332269,
          0.8733437618462843,
          0.8724687418985079,
          0.8717868187992062,
          0.8713964656616501,
          0.8704199983581713,
          0.869735167452661,
          0.8690494607351388,
          0.8678726440544479,
          0.8667906855095903,
          0.8655082288500973,
          0.8649146354472749,
          0.8638254247255769,
          0.862931898673856,
          0.8620368397678234,
          0.8611401546306557,
          0.8606410986677328,
          0.8596425333182545,
          0.8588421655594896,
          0.8578398732982564,
          0.8575385372569968,
          0.8569354058120654,
          0.8556273817663368,
          0.8549211251373615,
          0.854011806472463,
          0.8532020238190281,
          0.8527961178423892,
          0.8519823939242804,
          0.8511666635285537,
          0.8503500300531219,
          0.8491228675436253,
          0.8484055316879915,
          0.8478922791158326,
          0.8472757317840813,
          0.8462475562062592,
          0.8455265313893622,
          0.8453202124055161,
          0.8440826290235589,
          0.8429452100239109,
          0.8424263004957133,
          0.8412833613217946,
          0.8405541623469746,
          0.8397195074413323,
          0.8391967354852444,
          0.8381507304738443,
          0.8368933481521053,
          0.8364727738424598,
          0.8357364448830719,
          0.8353150384976523,
          0.8344718816786076,
          0.8337330376839931,
          0.8326766803439132,
          0.831723583194877,
          0.8312989913524003,
          0.8308738731819191,
          0.8302358859953933,
          0.8294891492354679,
          0.8286345323158248,
          0.8278842213932375,
          0.8270249968560066,
          0.8263797164738343,
          0.8257329613211596,
          0.8251933220181523,
          0.8237894875042627,
          0.8223813394100398,
          0.8211865482349521,
          0.8200980379712096,
          0.8198796507801303,
          0.8193335628649443,
          0.8184591159300008,
          0.8173644413184485,
          0.8169255367298159,
          0.8163761624402643,
          0.8156066641064404,
          0.814616010039461,
          0.813954187027387,
          0.8124086265067795,
          0.8114117021139021,
          0.8110787637791177,
          0.8096357652643654,
          0.8087446517745032,
          0.8081866683775449,
          0.8077399563514638,
          0.8066223317002024,
          0.8060623316818979,
          0.8056138272446837,
          0.8049403687017038,
          0.8038157865614943,
          0.8033648968181286,
          0.8028006428877049,
          0.8022359494278796,
          0.801783487381908,
          0.8005387673022856,
          0.7994038923148152,
          0.7987210840835728,
          0.798265349725524,
          0.7973527917699751,
          0.7966673813988707,
          0.7958667389158038,
          0.7954085077868192,
          0.7943767489713338,
          0.7932280199350777,
          0.7924224481495066,
          0.7916151868798057,
          0.7906912943624879,
          0.7898811685274278,
          0.7893014807100719,
          0.7879099022867544,
          0.7872118750603923,
          0.7870952553429086,
          0.7862788242931241,
          0.7849935794885808,
          0.7844081154443571,
          0.7833540365682301,
          0.7830015328866538,
          0.7825312208105747,
          0.7817077423626645,
          0.7805303036449431,
          0.779822371302554,
          0.7792314874229386,
          0.7785216651917233,
          0.7776924953887969,
          0.776862266012583,
          0.7766245914992863,
          0.7759111419590594,
          0.7753159355364545,
          0.7746010843243779,
          0.7736467373547598,
          0.772929832677352,
          0.772451370901925,
          0.7722118409293202,
          0.7717324602585757,
          0.7712523470704098,
          0.769931075573799,
          0.768244183996152,
          0.7669149092129386,
          0.7659459229770745,
          0.7654604298173134,
          0.7649741717294333,
          0.7640013365273014,
          0.762661918545258,
          0.7619294480585874,
          0.7610738538294317,
          0.7593612992060775,
          0.7591157863912354,
          0.7582566329563193,
          0.7569055024851119,
          0.7559199115518119,
          0.7551787251871812,
          0.7540659525216205,
          0.7528275606242504,
          0.7517113053874702,
          0.7512139531292404,
          0.7499703118105108,
          0.7487220061271384,
          0.7479717480329641,
          0.7467204234628526,
          0.745591493196399,
          0.745339889936983,
          0.7445846467258287,
          0.7440797391784705,
          0.743448241360837,
          0.7424357325564231,
          0.7418014838690838,
          0.740531867004111,
          0.7401499057192599,
          0.7388769889330262,
          0.7378563031842317,
          0.736578941600842,
          0.7350424415092836,
          0.7341426473720303,
          0.7325978202034585,
          0.7318230945009013,
          0.7311762207212277,
          0.73052852415825,
          0.7300093705411319,
          0.728970133527991,
          0.7284495745402314,
          0.7277985759740327,
          0.7277985759740327,
          0.7274074069264269,
          0.726755167171534,
          0.7262325184330657,
          0.7255782421600938,
          0.724269083659519,
          0.7225635056472014,
          0.7223001093850433,
          0.7219048473982824,
          0.7208502870255277,
          0.7200574427198664,
          0.7195281309507537,
          0.718865632708309,
          0.7183346577497097,
          0.716873803677564,
          0.716207695308919,
          0.7152735875956968,
          0.7144711131354445,
          0.714069125521109,
          0.7133987311534304,
          0.7125932115597632,
          0.7121897459253299,
          0.7111136779742103,
          0.7103048325114204,
          0.7092240977862865,
          0.7080057829107771,
          0.707056497024355,
          0.7066485181655153,
          0.7062401747831744,
          0.7054229638493537,
          0.7048711147521948,
          0.7047329628325961,
          0.7040422980239249,
          0.7030736542572162,
          0.7012734510769878,
          0.7004395038625855,
          0.6991878452723348,
          0.6979327075506263,
          0.6970943891456466,
          0.6959756313252148,
          0.6952744674486445,
          0.6930297413301749,
          0.6920428884557839,
          0.6911957908437133,
          0.6896397410704787,
          0.688929244119355,
          0.6879328720668516,
          0.6865073399952923,
          0.684793320350101,
          0.6842202699377856,
          0.6835032573473512,
          0.682354055087177,
          0.6813464607563854,
          0.6806248624152953,
          0.6799024728333275,
          0.6790344263151067,
          0.6785998171858899,
          0.6774407977650737,
          0.6765699004151707,
          0.6756973223546502,
          0.6740960482837236,
          0.671908306603656,
          0.6707364642247023,
          0.6701495883331177,
          0.6697089867313847,
          0.6685340849043027,
          0.6673572287506362,
          0.6657358051840568,
          0.6638156277133272,
          0.6611487299794742,
          0.6607017578137455,
          0.659658072678782,
          0.6584623638033235,
          0.6575638774028605,
          0.655316855780811,
          0.654113002348341,
          0.6530572279049365,
          0.6516971967269727,
          0.650787854366198,
          0.6495727171869795,
          0.6488105055666568,
          0.6477423150997957,
          0.6471300159785112,
          0.6459047735142242,
          0.6455977744450935,
          0.64452328777973,
          0.6422187724331426,
          0.6417554797534968,
          0.6411373436885444,
          0.6405186218150459,
          0.6400536379582961,
          0.6395883074334736,
          0.6386570929522943,
          0.6381902883089463,
          0.6378788420943767,
          0.6371000326330039,
          0.6366319799723804,
          0.636163449845181,
          0.6346014198745218,
          0.6339746004088506,
          0.6327190424224041,
          0.6306761936963421,
          0.6286252229655166,
          0.6272000706125166,
          0.626564494163493,
          0.6256097290130198,
          0.6236968049718716,
          0.6228962766749742,
          0.6212920695080931,
          0.6192005556332609,
          0.6185532269595749,
          0.6172569124257422,
          0.6157952152339794,
          0.6141671273540191,
          0.6123738581579957,
          0.6107362712181592,
          0.6082736211191487,
          0.6058019166130401,
          0.6049731511463716,
          0.603977462861572,
          0.6026484659140631,
          0.6019821268064881,
          0.6008143250081037,
          0.5989774344513762,
          0.5978027716295345,
          0.5969616242785613,
          0.5954457208539558,
          0.5939253781270212,
          0.5917246014302587,
          0.5900220363000245,
          0.5891669843473217,
          0.5874549123429242,
          0.5865949236203002,
          0.5860781886433059,
          0.5850442532881331,
          0.5834921075415657,
          0.5829731991854722,
          0.5814147754007978,
          0.5796789974788098,
          0.578459380363971,
          0.577585820878675,
          0.5763610268492748,
          0.573558901605031,
          0.5725008604825144,
          0.5705587076085713,
          0.5687847908541914,
          0.5673613833853827,
          0.5655772606773118,
          0.5646825001281878,
          0.562534931472291,
          0.5596671816788787,
          0.5580446499801753,
          0.5565992976063783,
          0.5558739459698968,
          0.5549662824324572,
          0.5531502495913292,
          0.5515114028054796,
          0.5496843139779252,
          0.5482181730958607,
          0.5463798726842304,
          0.5460109879667256,
          0.5443519522834872,
          0.5421354632656998,
          0.5406529172022201,
          0.5378718253768503,
          0.5373114759812074,
          0.5345115887832457,
          0.5326337792462524,
          0.530936972296141,
          0.5292356764740476,
          0.5282870930312701,
          0.5263877852402373,
          0.5252439392427546,
          0.5233334290204583,
          0.5219891283247735,
          0.520256672699477,
          0.5179388290501517,
          0.5156066005207914,
          0.5136528613213924,
          0.5114959215394214,
          0.5099201820409652,
          0.5093269222775547,
          0.5087330900064497,
          0.5071494968645037,
          0.5057576434164982,
          0.5039616131757974,
          0.5027609910728502,
          0.5015585171274585,
          0.5013575346675394,
          0.5003518403990731,
          0.49894110021034305,
          0.4987385742671128,
          0.4983334193262617,
          0.4969153345465801,
          0.4961022219762157,
          0.4948813154232027,
          0.4936574113763784,
          0.49181877590538037,
          0.490383517745468,
          0.4879150282799376,
          0.48481574370590014,
          0.4833602467453812,
          0.4816931858280816,
          0.4802290586198281,
          0.4785511032277972,
          0.47770818538374044,
          0.47602080159087057,
          0.4743295021069183,
          0.4717838717619793,
          0.47135691473470925,
          0.4707161385783528,
          0.46986141624548283,
          0.46879071973853426,
          0.46793190391651696,
          0.46535859907864685,
          0.46234326769041134,
          0.46169151060460845,
          0.46060426405428506,
          0.45907910496722254,
          0.45842220945518586,
          0.4577645618578175,
          0.4564493004971676,
          0.45425571568036255,
          0.45359397408293106,
          0.45182995121249103,
          0.44961909333903183,
          0.4485078694893042,
          0.44650414665777255,
          0.4440452894338036,
          0.44157445696832326,
          0.44112238328274456,
          0.43976588189724325,
          0.43885799206927595,
          0.43726645294791566,
          0.4345309668244923,
          0.4329242627540847,
          0.43062251141715957,
          0.4301592397997178,
          0.428538883309611,
          0.4264495120511188,
          0.42458190125297784,
          0.4213040946530209,
          0.4196469621404682,
          0.41751270849599453,
          0.41631917875669694,
          0.41440422864865517,
          0.4127214399180436,
          0.40983106706917266,
          0.4076475524251001,
          0.40642847754726313,
          0.404959749019092,
          0.4037312500344318,
          0.4029898707512147,
          0.4000237950167411,
          0.3987764513013534,
          0.3982752965845044,
          0.39777364280188876,
          0.3970199108939865,
          0.3967675559653626,
          0.3965145606490587,
          0.39626150909026503,
          0.393985851335861,
          0.392968316377634,
          0.3904217058010763,
          0.38939379786846195,
          0.387080046616139,
          0.3857841682034419,
          0.38396471881198896,
          0.3816181476916926,
          0.3797812118121996,
          0.37819860799702465,
          0.37766873161128944,
          0.37581595718198807,
          0.3742205613412796,
          0.3723526360115298,
          0.370742472909863,
          0.36858691226390405,
          0.36804408172447567,
          0.3672295898091769,
          0.36587001199653757,
          0.3639612545416583,
          0.3615009379019878,
          0.36039678035061407,
          0.3568163997703495,
          0.3554238554920149,
          0.35458376580623513,
          0.3520647958058116,
          0.3506535558502251,
          0.3495196531620656,
          0.34668778727179467,
          0.3438363332494179,
          0.3429707627676179,
          0.340950750823269,
          0.33920317334390954,
          0.3365691590452513,
          0.33391982472687587,
          0.3303693379998707,
          0.3273764883602174,
          0.32677270801632136,
          0.3249627935605853,
          0.32284108206368933,
          0.319504093310899,
          0.3173607819749028,
          0.3161284640090022,
          0.31489242214023994,
          0.31303544438632225,
          0.3093069742428524,
          0.30678922837278016,
          0.3052041569562899,
          0.3029781717204509,
          0.30137216890933743,
          0.29943610019882183,
          0.29846164695203625,
          0.29618298295200884,
          0.29324115227010444,
          0.2905990621281164,
          0.287283108486599,
          0.2845975440991028,
          0.283916156600272,
          0.2825528812251247,
          0.280841707954713,
          0.279808833649494,
          0.27567920750372393,
          0.2732371737823866,
          0.27008003533098696,
          0.26618419860649867,
          0.26546323609881395,
          0.2622159442562109,
          0.259276271429011,
          0.2559225757370868,
          0.255162971990298,
          0.2510011066753319,
          0.24907670696596296,
          0.2475267342690123,
          0.24519066831723657,
          0.24322628030200125,
          0.2408617542682069,
          0.23690769369012188,
          0.2332811875024578,
          0.23082636622991998,
          0.22875356483737674,
          0.22833445061445481,
          0.22458924612130637,
          0.22248272465298524,
          0.2170253733673213,
          0.21399721310268904,
          0.2083338043613439,
          0.2047640136110074,
          0.20248227345835834,
          0.1988146490890772,
          0.19693408930875106,
          0.19362319071571857,
          0.18933058223997126,
          0.1868853568751156,
          0.18439882476853117,
          0.17990248969798464,
          0.17584846864087372,
          0.17223019234547743,
          0.1701379063310481,
          0.1675010009359212,
          0.16171952915210366,
          0.15901005056451176,
          0.15519125171590462,
          0.15130830328596748,
          0.14397874348246878,
          0.13974036270568943,
          0.13542692723091806,
          0.128555535730739,
          0.12390436905892986,
          0.11849259764529113,
          0.11226875510187806,
          0.1056799051782707,
          0.10406416055587844,
          0.1000360894823592,
          0.09750127782210619,
          0.09662692244759301,
          0.09313753264645878,
          0.08866886386605043,
          0.08770736242846727,
          0.08482880295630098,
          0.08181935255668586,
          0.07772835132355946,
          0.07445731051135396,
          0.06999916555189721,
          0.0675763020199866,
          0.06631079991690791,
          0.05449114799730387,
          0.03847408674526776,
          0.03548065037568567,
          0.017791708425391038
         ],
         "yaxis": "y"
        },
        {
         "hovertemplate": "patient_id=723<br>duration=%{x}<br>S=%{y}<extra></extra>",
         "legendgroup": "723",
         "line": {
          "color": "#EF553B",
          "dash": "solid"
         },
         "mode": "lines",
         "name": "723",
         "showlegend": true,
         "type": "scattergl",
         "x": [
          0,
          1,
          2,
          3,
          4,
          5,
          6,
          7,
          8,
          9,
          10,
          11,
          12,
          13,
          14,
          15,
          16,
          17,
          18,
          19,
          20,
          21,
          22,
          23,
          24,
          25,
          26,
          27,
          28,
          29,
          30,
          31,
          32,
          33,
          34,
          35,
          36,
          37,
          38,
          39,
          40,
          41,
          42,
          43,
          44,
          45,
          46,
          47,
          48,
          49,
          50,
          51,
          52,
          53,
          54,
          55,
          56,
          57,
          58,
          59,
          60,
          61,
          62,
          63,
          64,
          65,
          66,
          67,
          68,
          69,
          70,
          71,
          72,
          73,
          74,
          75,
          76,
          77,
          78,
          79,
          80,
          81,
          82,
          83,
          84,
          85,
          86,
          87,
          88,
          89,
          90,
          91,
          92,
          93,
          94,
          95,
          96,
          97,
          98,
          99,
          100,
          101,
          102,
          103,
          104,
          105,
          106,
          107,
          108,
          109,
          110,
          111,
          112,
          113,
          114,
          115,
          116,
          117,
          118,
          119,
          120,
          121,
          122,
          123,
          124,
          125,
          126,
          127,
          128,
          129,
          130,
          131,
          132,
          133,
          134,
          135,
          136,
          137,
          138,
          139,
          140,
          141,
          142,
          143,
          144,
          145,
          146,
          147,
          148,
          149,
          150,
          151,
          152,
          153,
          154,
          155,
          156,
          157,
          158,
          159,
          160,
          161,
          162,
          163,
          164,
          165,
          166,
          167,
          168,
          169,
          170,
          171,
          172,
          173,
          174,
          175,
          176,
          177,
          178,
          179,
          180,
          181,
          182,
          183,
          184,
          185,
          186,
          187,
          188,
          189,
          190,
          191,
          192,
          193,
          194,
          195,
          196,
          197,
          198,
          199,
          200,
          201,
          202,
          203,
          204,
          205,
          206,
          207,
          208,
          209,
          210,
          211,
          212,
          213,
          214,
          215,
          216,
          217,
          218,
          219,
          220,
          221,
          222,
          223,
          224,
          225,
          226,
          227,
          228,
          229,
          230,
          231,
          232,
          233,
          234,
          235,
          236,
          237,
          238,
          239,
          240,
          241,
          242,
          243,
          244,
          245,
          246,
          247,
          248,
          249,
          250,
          251,
          252,
          253,
          254,
          255,
          256,
          257,
          258,
          259,
          260,
          261,
          262,
          263,
          264,
          265,
          266,
          267,
          268,
          269,
          270,
          271,
          272,
          273,
          274,
          275,
          276,
          277,
          278,
          279,
          280,
          281,
          282,
          283,
          284,
          285,
          286,
          287,
          288,
          289,
          290,
          291,
          292,
          293,
          294,
          295,
          296,
          297,
          298,
          299,
          300,
          301,
          302,
          303,
          304,
          305,
          306,
          307,
          308,
          309,
          310,
          311,
          312,
          313,
          314,
          315,
          316,
          317,
          318,
          319,
          320,
          321,
          322,
          323,
          324,
          325,
          326,
          327,
          328,
          329,
          330,
          331,
          332,
          333,
          334,
          335,
          336,
          337,
          338,
          339,
          340,
          341,
          342,
          343,
          344,
          345,
          346,
          347,
          348,
          349,
          350,
          351,
          352,
          353,
          354,
          355,
          356,
          357,
          358,
          359,
          360,
          361,
          362,
          363,
          364,
          365,
          366,
          367,
          368,
          369,
          370,
          371,
          372,
          373,
          374,
          375,
          376,
          377,
          378,
          379,
          380,
          381,
          382,
          383,
          384,
          385,
          386,
          387,
          388,
          389,
          390,
          391,
          392,
          393,
          394,
          395,
          396,
          397,
          398,
          399,
          400,
          401,
          402,
          403,
          404,
          405,
          406,
          407,
          408,
          409,
          410,
          411,
          412,
          413,
          414,
          415,
          416,
          417,
          418,
          419,
          421,
          422,
          423,
          424,
          425,
          426,
          427,
          428,
          429,
          430,
          431,
          432,
          433,
          434,
          435,
          436,
          437,
          438,
          439,
          440,
          441,
          442,
          443,
          444,
          445,
          446,
          447,
          448,
          449,
          450,
          451,
          452,
          453,
          454,
          455,
          456,
          457,
          458,
          459,
          460,
          461,
          462,
          463,
          464,
          465,
          466,
          467,
          468,
          469,
          470,
          471,
          472,
          473,
          474,
          475,
          476,
          477,
          478,
          479,
          480,
          481,
          482,
          483,
          484,
          485,
          486,
          487,
          488,
          489,
          490,
          491,
          492,
          493,
          494,
          495,
          496,
          497,
          498,
          499,
          500,
          501,
          502,
          503,
          504,
          505,
          506,
          507,
          508,
          509,
          510,
          511,
          512,
          513,
          514,
          515,
          516,
          517,
          518,
          519,
          520,
          521,
          522,
          523,
          524,
          525,
          526,
          527,
          528,
          529,
          530,
          531,
          532,
          533,
          534,
          535,
          536,
          537,
          538,
          539,
          540,
          541,
          542,
          543,
          544,
          545,
          546,
          547,
          548,
          549,
          550,
          551,
          552,
          553,
          554,
          555,
          556,
          557,
          558,
          559,
          560,
          561,
          562,
          563,
          564,
          565,
          566,
          567,
          568,
          569,
          570,
          571,
          572,
          573,
          574,
          575,
          576,
          577,
          578,
          579,
          580,
          581,
          582,
          583,
          584,
          585,
          586,
          587,
          588,
          590,
          591,
          592,
          593,
          594,
          595,
          597,
          598,
          599,
          600,
          601,
          602,
          603,
          604,
          605,
          606,
          607,
          608,
          609,
          610,
          611,
          612,
          613,
          614,
          615,
          616,
          617,
          618,
          619,
          620,
          621,
          622,
          623,
          624,
          625,
          626,
          627,
          628,
          629,
          630,
          631,
          632,
          633,
          634,
          635,
          636,
          637,
          638,
          639,
          640,
          641,
          642,
          643,
          644,
          645,
          646,
          647,
          648,
          649,
          650,
          651,
          652,
          653,
          654,
          655,
          656,
          657,
          658,
          659,
          660,
          661,
          662,
          663,
          664,
          665,
          666,
          667,
          668,
          669,
          670,
          671,
          672,
          673,
          674,
          675,
          676,
          677,
          678,
          679,
          680,
          681,
          682,
          683,
          684,
          685,
          686,
          687,
          688,
          689,
          690,
          691,
          692,
          693,
          694,
          695,
          696,
          697,
          698,
          699,
          700,
          701,
          702,
          703,
          704,
          705,
          706,
          707,
          708,
          709,
          710,
          711,
          713,
          714,
          715,
          716,
          717,
          718,
          719,
          720,
          721,
          722,
          723,
          724,
          725,
          726,
          727,
          728,
          729
         ],
         "xaxis": "x",
         "y": [
          0.9994606275199713,
          0.9989211806387233,
          0.9977069601051946,
          0.9959527991387793,
          0.9952770166410994,
          0.9941947332855134,
          0.9924330467642644,
          0.9906677107172811,
          0.9890337643282158,
          0.9879409111494276,
          0.9860261092127858,
          0.985201956183483,
          0.9831353152555035,
          0.98147800269769,
          0.9802316590294335,
          0.9785672854518186,
          0.9768986432971416,
          0.9760614013053108,
          0.974524814889107,
          0.9727060516282904,
          0.9710233917611827,
          0.9700395594782273,
          0.9687724484617686,
          0.9679259868667354,
          0.9666540325201004,
          0.96509790746902,
          0.9638222209708742,
          0.9628280074051043,
          0.9615474709178181,
          0.9604056071368111,
          0.9594051895613428,
          0.9586891362615283,
          0.9568239435434105,
          0.955529652379611,
          0.9538029681127944,
          0.9523614653236593,
          0.9514944180615359,
          0.9493250393865214,
          0.9474415357250449,
          0.9462800610878366,
          0.9449719179736397,
          0.9423558950409412,
          0.941045273926403,
          0.940316132618992,
          0.9388562064748224,
          0.9360790592591851,
          0.9343210110907464,
          0.9328528179862908,
          0.9304998225504905,
          0.9297629442659304,
          0.9285839816116954,
          0.9268140911712087,
          0.9253350765758982,
          0.9235577678399136,
          0.921628849399846,
          0.9194000969388512,
          0.9188045252211187,
          0.9171655984639819,
          0.9152280007032737,
          0.9125434873931271,
          0.9111982153029781,
          0.9091049466335416,
          0.9070037445261444,
          0.9056510677196147,
          0.9042969833481398,
          0.9012868364610866,
          0.9005320700119641,
          0.8982665391260378,
          0.8975101397421137,
          0.8958459984247442,
          0.8952398348318455,
          0.8940259407948848,
          0.8920525925199153,
          0.8891647785106539,
          0.8876409928685635,
          0.8850474248242408,
          0.8819922728012936,
          0.8807659944656516,
          0.8799985212607311,
          0.8790771042921435,
          0.877693320909055,
          0.8755395636046939,
          0.8736912194848174,
          0.8724573614630773,
          0.8713763920545184,
          0.8696767180407708,
          0.8681301009440572,
          0.8661191485564901,
          0.8644165380474566,
          0.8633320458443388,
          0.8614714043854977,
          0.8600636577534009,
          0.8583418089548579,
          0.8566196904110975,
          0.8553662632026974,
          0.8537988330350106,
          0.8523866239543908,
          0.8511298209794214,
          0.8501862008434834,
          0.8495566007347644,
          0.848769497254914,
          0.8475101794800208,
          0.8470376548145795,
          0.8460926068875804,
          0.8446732734731025,
          0.8434106681591069,
          0.8411992276444217,
          0.8402499374120568,
          0.838351276308318,
          0.8377165124791547,
          0.8362885342163212,
          0.8348588191465145,
          0.8340638023231685,
          0.8329503213239514,
          0.8318354027838949,
          0.8302413064342633,
          0.8281666812414742,
          0.8273671134899724,
          0.8264072561915612,
          0.8252867956115506,
          0.8241654862405978,
          0.8233641357689052,
          0.8220819760521811,
          0.8206356160538556,
          0.8196687469840692,
          0.8178965423541993,
          0.8157996845624353,
          0.8135396656344093,
          0.8127310130053663,
          0.8115985973703825,
          0.8107891211127572,
          0.808038560847334,
          0.8060922387868125,
          0.805117782136741,
          0.8046300554755044,
          0.8033299490017878,
          0.8018668544062065,
          0.801215989290615,
          0.7997517323988174,
          0.7974725701084968,
          0.7963317507443178,
          0.7953534645902646,
          0.7935608306022965,
          0.7922562145463432,
          0.7919298605412972,
          0.791113721337909,
          0.7891558312842717,
          0.7885023609502034,
          0.7868685458402568,
          0.7850697763034878,
          0.7834327759458967,
          0.7822853604650152,
          0.7814648938173239,
          0.7786765430810153,
          0.7773616089054515,
          0.7757172643105958,
          0.7734136076626784,
          0.7716019325671303,
          0.77061260629163,
          0.7691277338186803,
          0.7679714923478684,
          0.7673100012114419,
          0.7656564819307314,
          0.7644978327494516,
          0.7633385461651971,
          0.7613509364508572,
          0.7595257355180246,
          0.7573650310522535,
          0.7563659358292266,
          0.7545342994636596,
          0.7530333225175342,
          0.751531209823509,
          0.7500278124140211,
          0.7491917130688144,
          0.7475200994473853,
          0.7461815663669333,
          0.7445069601405208,
          0.7440038483080569,
          0.7429973483424571,
          0.7408167789561866,
          0.7396406784942652,
          0.7381277487129038,
          0.7367816800143696,
          0.7361074030458336,
          0.734756566033555,
          0.7334035942348827,
          0.7320503242390531,
          0.7300190104692357,
          0.7288328647902218,
          0.7279847481332278,
          0.7269665706292935,
          0.7252701451316143,
          0.7240816347117129,
          0.7237417184603926,
          0.7217043745255255,
          0.7198343565589166,
          0.7189819971931873,
          0.7171063191473633,
          0.7159108599790224,
          0.7145436906473412,
          0.7136880265716099,
          0.7119774220605308,
          0.7099237470749097,
          0.7092374614729221,
          0.7080367007483556,
          0.707349936370816,
          0.705976807838052,
          0.7047746121061925,
          0.7030574899824317,
          0.7015099450279827,
          0.7008210620952849,
          0.700131650881423,
          0.6990976429501521,
          0.6978883131372732,
          0.6965055069235924,
          0.6952925581152625,
          0.6939047873086108,
          0.6928634425704802,
          0.691820471570526,
          0.6909508153367733,
          0.6886909256429352,
          0.686427664276721,
          0.6845101292159022,
          0.6827654084845556,
          0.6824156237324993,
          0.6815413465219251,
          0.6801424933930098,
          0.6783932876036244,
          0.677692559442697,
          0.6768159522628405,
          0.6755890211374915,
          0.6740110412807885,
          0.6729578329425426,
          0.6705013479535988,
          0.668919144047677,
          0.6683911424574012,
          0.6661050289322975,
          0.6646951346712274,
          0.6638130397942854,
          0.6631072551150156,
          0.6613430387048641,
          0.6604599045828992,
          0.6597530105406206,
          0.6586922460607756,
          0.6569227443170932,
          0.6562139226864178,
          0.6553274045333357,
          0.654440772092006,
          0.6537307716690771,
          0.6517794750501706,
          0.6500028197245344,
          0.6489350005579816,
          0.6482227632409385,
          0.646797715510966,
          0.6457283713180294,
          0.6444803236807848,
          0.6437665512670152,
          0.6421608032090437,
          0.6403752779295276,
          0.6391245629984239,
          0.6378724030824688,
          0.6364407812984485,
          0.6351867184802533,
          0.6342900994673839,
          0.6321401899593823,
          0.6310630979367855,
          0.6308832337004275,
          0.6296247302147033,
          0.6276460102617376,
          0.6267456410748523,
          0.6251261668917574,
          0.6245850334721545,
          0.6238634011817741,
          0.622600846293067,
          0.620797734475165,
          0.6197148266748801,
          0.6188116604706533,
          0.6177275334327073,
          0.6164622804390425,
          0.6151966589654798,
          0.6148345722665888,
          0.6137482781281898,
          0.6128427261954034,
          0.6117559944819161,
          0.6103066202253896,
          0.6092189375229256,
          0.608493537187983,
          0.6081305394898165,
          0.6074043704970318,
          0.6066775095466176,
          0.6046793463132352,
          0.6021328562677922,
          0.6001298520116559,
          0.5986717649478989,
          0.5979418571784194,
          0.5972112280682916,
          0.595750778331451,
          0.5937428135544855,
          0.5926461205241177,
          0.5913663133104967,
          0.5888086472380102,
          0.5884424151306029,
          0.5871616752877038,
          0.5851502566663457,
          0.583685105360221,
          0.582584441109177,
          0.58093384351329,
          0.579099556967898,
          0.5774485648387253,
          0.5767136873456726,
          0.5748780755802848,
          0.5730384056963159,
          0.5719340877991511,
          0.5700945177388996,
          0.5684373217314204,
          0.5680683002941436,
          0.566961291543477,
          0.5662217943761175,
          0.5652975431558738,
          0.5638171631720286,
          0.5628907836242922,
          0.5610385875950384,
          0.560481932452309,
          0.5586287503110033,
          0.5571449094873469,
          0.5552905919495243,
          0.5530640226301341,
          0.5517621099680114,
          0.5495303357158168,
          0.548412744009422,
          0.5474804240533104,
          0.5465476815860731,
          0.5458006042713907,
          0.5443065862598078,
          0.5435589645607906,
          0.5426247013515155,
          0.5426247013515155,
          0.5420636967932063,
          0.5411288911697263,
          0.5403803777682235,
          0.5394440548735557,
          0.5375728834124912,
          0.535139796688141,
          0.5347645221554281,
          0.5342016088082528,
          0.5327011472973124,
          0.5315743984630734,
          0.5308228061263439,
          0.5298828163302167,
          0.5291300168245143,
          0.527061516762538,
          0.5261196306257323,
          0.5248001527952267,
          0.5236678848604964,
          0.5231011336768427,
          0.522156618930928,
          0.5210228113941383,
          0.5204553590558667,
          0.5189433806890792,
          0.517808266358689,
          0.5162934523819528,
          0.5145883547740607,
          0.5132616556256688,
          0.5126919795585834,
          0.5121220987462931,
          0.5109825197911364,
          0.5102136705460397,
          0.5100212810386713,
          0.5090599881067746,
          0.5077132611908954,
          0.5052149502052217,
          0.5040596094985144,
          0.502327960652457,
          0.5005943726232867,
          0.4994380960426609,
          0.49789701525301244,
          0.4969323331374804,
          0.49385001565138276,
          0.4924978460001317,
          0.49133858693777227,
          0.48921254077647364,
          0.4882432543095498,
          0.4868855216439205,
          0.48494614047060175,
          0.48261920565923755,
          0.4818424375731725,
          0.48087137554495646,
          0.4793169543905741,
          0.4779560621855156,
          0.47698258823049655,
          0.47600900166541416,
          0.47484037259363876,
          0.47425578761769993,
          0.4726985024103449,
          0.47152996340711506,
          0.4703605624479953,
          0.468218214676508,
          0.4652988240853882,
          0.4637386881524762,
          0.4629582949416944,
          0.46237282358987525,
          0.4608133537511836,
          0.45925382672746073,
          0.4571093344959163,
          0.45457594615850855,
          0.45106859083269313,
          0.45048203463214803,
          0.44911384649402775,
          0.4475488241598832,
          0.4463745527599889,
          0.44344430832409115,
          0.4418782282026129,
          0.4405069727445515,
          0.4387435610602402,
          0.4375664060695279,
          0.435995766961193,
          0.4350119462774071,
          0.43363498122458793,
          0.43284663432742165,
          0.4312711798828761,
          0.430876863312046,
          0.42949813248504487,
          0.4265482442723639,
          0.4259563866686347,
          0.42516733085917496,
          0.42437823093256494,
          0.4237856673882222,
          0.42319306016816055,
          0.4220083369677229,
          0.4214150522280826,
          0.4210194430263406,
          0.4200309547636861,
          0.41943742519993393,
          0.41884369388075454,
          0.4168671746977547,
          0.4160752893682987,
          0.41449126939666503,
          0.41192020059222734,
          0.4093466397885634,
          0.4075629186690816,
          0.40676863728997614,
          0.4055768636818671,
          0.4031941339814588,
          0.4021990009318383,
          0.4002083734457074,
          0.39762018174798974,
          0.39682076451184045,
          0.395222206644491,
          0.3934234237885378,
          0.39142451821451035,
          0.3892284692174537,
          0.3872282538067529,
          0.38422959194323714,
          0.3812311643775402,
          0.3802283138600383,
          0.37902515556614896,
          0.3774220913703101,
          0.37661956733681456,
          0.3752150717594875,
          0.37301097465281574,
          0.3716047585408595,
          0.37059936893033396,
          0.36879077392109794,
          0.36698115093091827,
          0.36436919996700284,
          0.3623546901097447,
          0.3613449986828216,
          0.3593273592913947,
          0.35831592877276863,
          0.35770885665877744,
          0.35649565002448846,
          0.35467809859788113,
          0.35407145590383493,
          0.3522525403829032,
          0.3502319228095476,
          0.34881550728287797,
          0.3478026840179137,
          0.3463850140470043,
          0.3431520813256639,
          0.34193516072902036,
          0.33970677109186054,
          0.3376775276688952,
          0.3360534666020067,
          0.33402315247307146,
          0.3330071487687557,
          0.33057464336336306,
          0.3273397614772562,
          0.3255162799950361,
          0.3238960418330087,
          0.3230843869417384,
          0.3220701062277601,
          0.32004535461979733,
          0.3182234181711416,
          0.3161980993976567,
          0.3145773814070572,
          0.31255091912516897,
          0.3121450344391449,
          0.3103227254635799,
          0.30789609920444017,
          0.30627810537735145,
          0.30325397441502744,
          0.3026464007734178,
          0.2996193178167962,
          0.2975973229059794,
          0.29577588488261003,
          0.2939550207849661,
          0.2929421153513929,
          0.29091906592425637,
          0.28970394619633505,
          0.28767983865672964,
          0.2862596926230776,
          0.2844344704852535,
          0.2820012855599482,
          0.27956313490574336,
          0.27752849126471313,
          0.275290523773853,
          0.27366109166671715,
          0.2730488207426365,
          0.2724366185829549,
          0.2708072647636852,
          0.2693790676784842,
          0.26754150051437897,
          0.26631648070950426,
          0.26509227800057733,
          0.2648879280103079,
          0.2638665199318921,
          0.2624369313532414,
          0.26223200571905037,
          0.26182228092343657,
          0.26039062461317347,
          0.25957143101392577,
          0.25834372206594514,
          0.257115804911884,
          0.2552764222716391,
          0.25384498928925814,
          0.2513921220915699,
          0.24832865199632692,
          0.24689620040622853,
          0.24526042493662742,
          0.24382808267017655,
          0.24219150974270967,
          0.24137137794259125,
          0.2397336228822145,
          0.2380974418541703,
          0.23564491958904266,
          0.23523477316161057,
          0.23461987029737041,
          0.23380086324780572,
          0.232776847573293,
          0.2319570352389668,
          0.2295089164250868,
          0.22665615191378843,
          0.22604178590686425,
          0.2250186967816793,
          0.22358729280987452,
          0.22297213000390798,
          0.22235707831920148,
          0.22112945452222782,
          0.21908929380878284,
          0.21847561916330951,
          0.2168437693612938,
          0.21480686291494047,
          0.21378655763853593,
          0.21195267345899518,
          0.2097126036712225,
          0.2074731409605826,
          0.20706464939470748,
          0.20584124233668458,
          0.20502437610002133,
          0.20359616685980544,
          0.20115261227274936,
          0.199723982831923,
          0.19768586263231722,
          0.19727686569517405,
          0.19584954258596088,
          0.19401642720676276,
          0.1923848827811405,
          0.18953739401240885,
          0.18810557602031092,
          0.18626919339349146,
          0.185246013607658,
          0.18361003635615733,
          0.18217815323896713,
          0.17973130656496852,
          0.17789338984025818,
          0.17687121254586927,
          0.1756434619319161,
          0.17461968075093165,
          0.17400323617869187,
          0.17154746917881122,
          0.17051973724190192,
          0.17010765288518595,
          0.16969563775900567,
          0.16907748960232177,
          0.16887077119887692,
          0.16866365013983806,
          0.16845660516027872,
          0.166600167105272,
          0.1657732785583491,
          0.16371246638450462,
          0.1628841528268952,
          0.16102705938571776,
          0.15999141324086566,
          0.1585427542672458,
          0.15668374322300566,
          0.15523582761390514,
          0.15399356037252435,
          0.1535787043724813,
          0.15213233808755372,
          0.1508921617756945,
          0.1494463322829279,
          0.14820538470646294,
          0.14655188209100786,
          0.14613688835157826,
          0.14551526991091035,
          0.14448047857732396,
          0.14303368602836514,
          0.14117914343849922,
          0.1403506287659378,
          0.13768017227678356,
          0.13664818790211175,
          0.13602741922421063,
          0.13417421225455853,
          0.13314129968083438,
          0.13231415337724658,
          0.13025921107877506,
          0.12820566808157619,
          0.12758540798309656,
          0.12614350635110863,
          0.12490242216001039,
          0.12304295205231083,
          0.1211861829745192,
          0.11871911675754367,
          0.11665846215880166,
          0.1162448446713809,
          0.11500919772923349,
          0.11356876044881815,
          0.1113209139656152,
          0.10988853275533599,
          0.10906900556505696,
          0.10824996201918685,
          0.10702503973103267,
          0.10458584406243013,
          0.10295399600891099,
          0.10193297369412586,
          0.10050736051930441,
          0.09948479969256459,
          0.0982587599084391,
          0.09764443802128676,
          0.09621513043117444,
          0.09438482227462952,
          0.0927553980697445,
          0.09072968259788186,
          0.08910482249369193,
          0.08869480261059419,
          0.0878771885072938,
          0.08685607339395662,
          0.08624249678788454,
          0.08381018467952735,
          0.08238757973715241,
          0.0805657341384043,
          0.07834459981569852,
          0.07793682817204874,
          0.07611285365356489,
          0.07447956383107984,
          0.07263703084468971,
          0.07222278137221311,
          0.0699733158303242,
          0.06894475011630255,
          0.0681216306539395,
          0.0668900266677338,
          0.06586273163506767,
          0.06463631181595572,
          0.06261019062336516,
          0.06077917544628146,
          0.05955456174349862,
          0.058529847781351105,
          0.05832369199889075,
          0.05649700002927948,
          0.05548183390797263,
          0.05289299771971505,
          0.051482156744056665,
          0.04889274485551329,
          0.04729357219011787,
          0.04628479869063923,
          0.04468521842728457,
          0.04387552347779952,
          0.042467270935740306,
          0.040674331645819725,
          0.039669623790008546,
          0.03866032595669438,
          0.036866981313750734,
          0.035285151655575005,
          0.03390150306043289,
          0.03311353819323954,
          0.03213314996136476,
          0.030033205986112248,
          0.029072545453979137,
          0.027744057264162836,
          0.02642387863584167,
          0.02401624653992601,
          0.022674482432173963,
          0.0213470365446858,
          0.01931195115147186,
          0.017990075570021698,
          0.016508774421725218,
          0.01488090573450788,
          0.013246182459039064,
          0.012859270221854862,
          0.011918705905022284,
          0.011344428573831002,
          0.011149498825575385,
          0.010387746232203201,
          0.009450080064031367,
          0.009253900519253946,
          0.008678402697440583,
          0.00809573525143199,
          0.007334905781164877,
          0.006752553684601502,
          0.0059961852334343944,
          0.005603246555793,
          0.005403097438401879,
          0.0037033916135780238,
          0.001895664156158558,
          0.001622104348163363,
          0.00042982538484002297
         ],
         "yaxis": "y"
        },
        {
         "hovertemplate": "patient_id=1318<br>duration=%{x}<br>S=%{y}<extra></extra>",
         "legendgroup": "1318",
         "line": {
          "color": "#00cc96",
          "dash": "solid"
         },
         "mode": "lines",
         "name": "1318",
         "showlegend": true,
         "type": "scattergl",
         "x": [
          0,
          1,
          2,
          3,
          4,
          5,
          6,
          7,
          8,
          9,
          10,
          11,
          12,
          13,
          14,
          15,
          16,
          17,
          18,
          19,
          20,
          21,
          22,
          23,
          24,
          25,
          26,
          27,
          28,
          29,
          30,
          31,
          32,
          33,
          34,
          35,
          36,
          37,
          38,
          39,
          40,
          41,
          42,
          43,
          44,
          45,
          46,
          47,
          48,
          49,
          50,
          51,
          52,
          53,
          54,
          55,
          56,
          57,
          58,
          59,
          60,
          61,
          62,
          63,
          64,
          65,
          66,
          67,
          68,
          69,
          70,
          71,
          72,
          73,
          74,
          75,
          76,
          77,
          78,
          79,
          80,
          81,
          82,
          83,
          84,
          85,
          86,
          87,
          88,
          89,
          90,
          91,
          92,
          93,
          94,
          95,
          96,
          97,
          98,
          99,
          100,
          101,
          102,
          103,
          104,
          105,
          106,
          107,
          108,
          109,
          110,
          111,
          112,
          113,
          114,
          115,
          116,
          117,
          118,
          119,
          120,
          121,
          122,
          123,
          124,
          125,
          126,
          127,
          128,
          129,
          130,
          131,
          132,
          133,
          134,
          135,
          136,
          137,
          138,
          139,
          140,
          141,
          142,
          143,
          144,
          145,
          146,
          147,
          148,
          149,
          150,
          151,
          152,
          153,
          154,
          155,
          156,
          157,
          158,
          159,
          160,
          161,
          162,
          163,
          164,
          165,
          166,
          167,
          168,
          169,
          170,
          171,
          172,
          173,
          174,
          175,
          176,
          177,
          178,
          179,
          180,
          181,
          182,
          183,
          184,
          185,
          186,
          187,
          188,
          189,
          190,
          191,
          192,
          193,
          194,
          195,
          196,
          197,
          198,
          199,
          200,
          201,
          202,
          203,
          204,
          205,
          206,
          207,
          208,
          209,
          210,
          211,
          212,
          213,
          214,
          215,
          216,
          217,
          218,
          219,
          220,
          221,
          222,
          223,
          224,
          225,
          226,
          227,
          228,
          229,
          230,
          231,
          232,
          233,
          234,
          235,
          236,
          237,
          238,
          239,
          240,
          241,
          242,
          243,
          244,
          245,
          246,
          247,
          248,
          249,
          250,
          251,
          252,
          253,
          254,
          255,
          256,
          257,
          258,
          259,
          260,
          261,
          262,
          263,
          264,
          265,
          266,
          267,
          268,
          269,
          270,
          271,
          272,
          273,
          274,
          275,
          276,
          277,
          278,
          279,
          280,
          281,
          282,
          283,
          284,
          285,
          286,
          287,
          288,
          289,
          290,
          291,
          292,
          293,
          294,
          295,
          296,
          297,
          298,
          299,
          300,
          301,
          302,
          303,
          304,
          305,
          306,
          307,
          308,
          309,
          310,
          311,
          312,
          313,
          314,
          315,
          316,
          317,
          318,
          319,
          320,
          321,
          322,
          323,
          324,
          325,
          326,
          327,
          328,
          329,
          330,
          331,
          332,
          333,
          334,
          335,
          336,
          337,
          338,
          339,
          340,
          341,
          342,
          343,
          344,
          345,
          346,
          347,
          348,
          349,
          350,
          351,
          352,
          353,
          354,
          355,
          356,
          357,
          358,
          359,
          360,
          361,
          362,
          363,
          364,
          365,
          366,
          367,
          368,
          369,
          370,
          371,
          372,
          373,
          374,
          375,
          376,
          377,
          378,
          379,
          380,
          381,
          382,
          383,
          384,
          385,
          386,
          387,
          388,
          389,
          390,
          391,
          392,
          393,
          394,
          395,
          396,
          397,
          398,
          399,
          400,
          401,
          402,
          403,
          404,
          405,
          406,
          407,
          408,
          409,
          410,
          411,
          412,
          413,
          414,
          415,
          416,
          417,
          418,
          419,
          421,
          422,
          423,
          424,
          425,
          426,
          427,
          428,
          429,
          430,
          431,
          432,
          433,
          434,
          435,
          436,
          437,
          438,
          439,
          440,
          441,
          442,
          443,
          444,
          445,
          446,
          447,
          448,
          449,
          450,
          451,
          452,
          453,
          454,
          455,
          456,
          457,
          458,
          459,
          460,
          461,
          462,
          463,
          464,
          465,
          466,
          467,
          468,
          469,
          470,
          471,
          472,
          473,
          474,
          475,
          476,
          477,
          478,
          479,
          480,
          481,
          482,
          483,
          484,
          485,
          486,
          487,
          488,
          489,
          490,
          491,
          492,
          493,
          494,
          495,
          496,
          497,
          498,
          499,
          500,
          501,
          502,
          503,
          504,
          505,
          506,
          507,
          508,
          509,
          510,
          511,
          512,
          513,
          514,
          515,
          516,
          517,
          518,
          519,
          520,
          521,
          522,
          523,
          524,
          525,
          526,
          527,
          528,
          529,
          530,
          531,
          532,
          533,
          534,
          535,
          536,
          537,
          538,
          539,
          540,
          541,
          542,
          543,
          544,
          545,
          546,
          547,
          548,
          549,
          550,
          551,
          552,
          553,
          554,
          555,
          556,
          557,
          558,
          559,
          560,
          561,
          562,
          563,
          564,
          565,
          566,
          567,
          568,
          569,
          570,
          571,
          572,
          573,
          574,
          575,
          576,
          577,
          578,
          579,
          580,
          581,
          582,
          583,
          584,
          585,
          586,
          587,
          588,
          590,
          591,
          592,
          593,
          594,
          595,
          597,
          598,
          599,
          600,
          601,
          602,
          603,
          604,
          605,
          606,
          607,
          608,
          609,
          610,
          611,
          612,
          613,
          614,
          615,
          616,
          617,
          618,
          619,
          620,
          621,
          622,
          623,
          624,
          625,
          626,
          627,
          628,
          629,
          630,
          631,
          632,
          633,
          634,
          635,
          636,
          637,
          638,
          639,
          640,
          641,
          642,
          643,
          644,
          645,
          646,
          647,
          648,
          649,
          650,
          651,
          652,
          653,
          654,
          655,
          656,
          657,
          658,
          659,
          660,
          661,
          662,
          663,
          664,
          665,
          666,
          667,
          668,
          669,
          670,
          671,
          672,
          673,
          674,
          675,
          676,
          677,
          678,
          679,
          680,
          681,
          682,
          683,
          684,
          685,
          686,
          687,
          688,
          689,
          690,
          691,
          692,
          693,
          694,
          695,
          696,
          697,
          698,
          699,
          700,
          701,
          702,
          703,
          704,
          705,
          706,
          707,
          708,
          709,
          710,
          711,
          713,
          714,
          715,
          716,
          717,
          718,
          719,
          720,
          721,
          722,
          723,
          724,
          725,
          726,
          727,
          728,
          729
         ],
         "xaxis": "x",
         "y": [
          0.999441421249191,
          0.9988827761869662,
          0.9976253825178129,
          0.9958089464214828,
          0.9951092031091027,
          0.9939885811400103,
          0.992164581894598,
          0.9903369197171168,
          0.9886453893458186,
          0.9875140770781811,
          0.985531997980097,
          0.9846789302647613,
          0.9825398948801395,
          0.9808246423398157,
          0.9795347941963212,
          0.9778124156245491,
          0.9760857244537847,
          0.9752193959071265,
          0.9736294959503333,
          0.9717477441162882,
          0.970006920894022,
          0.968989130916796,
          0.9676783388082174,
          0.9668027311770129,
          0.9654870311819649,
          0.9638774710247099,
          0.9625580482221101,
          0.9615297916419253,
          0.960205463843109,
          0.9590246040078672,
          0.9579900620366004,
          0.9572496076405244,
          0.9553209468847278,
          0.9539826927804707,
          0.9521974590952201,
          0.950707165141286,
          0.9498108092465326,
          0.9475682269938792,
          0.9456213143476819,
          0.9444208068507767,
          0.9430687647388252,
          0.940365152694011,
          0.9390107501134088,
          0.9382572808276863,
          0.9367487064532268,
          0.933879248795864,
          0.9320629209993245,
          0.9305461502853347,
          0.9281154794659198,
          0.9273543208776359,
          0.9261365558375618,
          0.9243085176229704,
          0.922781007009538,
          0.9209455364147893,
          0.9189536371075809,
          0.9166522988578114,
          0.9160373642429464,
          0.9143452269267202,
          0.9123448606832539,
          0.9095736318850455,
          0.9081850138059396,
          0.906024443209873,
          0.9038558623015839,
          0.9024599041439743,
          0.9010625677623446,
          0.8979565382375734,
          0.8971777879938392,
          0.8948404062847923,
          0.8940600645861501,
          0.8923433306780639,
          0.8917180384413632,
          0.8904658830194981,
          0.8884304649800573,
          0.8854521067314836,
          0.8838806832508259,
          0.8812062539804087,
          0.8780562077854863,
          0.876791950009373,
          0.8760007390497215,
          0.8750508553531424,
          0.8736243872879327,
          0.8714043538140471,
          0.8694992868784668,
          0.8682276435447599,
          0.8671136234788659,
          0.8653620814724349,
          0.8637683730779024,
          0.8616963425941938,
          0.8599421531080768,
          0.8588248713809311,
          0.8569080900850148,
          0.8554579664632828,
          0.8536844003006568,
          0.8519106830397765,
          0.8506197800536577,
          0.8490055806640429,
          0.8475513242541987,
          0.8462571732008334,
          0.8452855564882639,
          0.8446372979276332,
          0.8438268923897929,
          0.8425303484206257,
          0.8420438733394122,
          0.8410709536259064,
          0.8396098333115034,
          0.8383101288545902,
          0.8360338766115925,
          0.8350568304339576,
          0.833102773082024,
          0.8324495242185456,
          0.8309800260904736,
          0.829508830190338,
          0.8286907860759599,
          0.8275451003142353,
          0.826397990089953,
          0.8247579616203299,
          0.8226237263973195,
          0.8218012355453886,
          0.820813897142456,
          0.8196614089927187,
          0.8185081035838712,
          0.8176839211898248,
          0.8163652898652067,
          0.8148778754371927,
          0.8138836141844819,
          0.8120613100528243,
          0.8099053566104839,
          0.8075818646871478,
          0.8067505567322383,
          0.8055864647029012,
          0.8047543808962185,
          0.8019272225580474,
          0.7999269060030657,
          0.7989254807609686,
          0.7984242722199096,
          0.7970882807164487,
          0.7955848944605659,
          0.7949161367825065,
          0.7934116975936495,
          0.7910701855466086,
          0.7898982468994142,
          0.7888933226682212,
          0.7870519907450929,
          0.7857120271663213,
          0.7853768431459838,
          0.7845386435672672,
          0.7825279570542346,
          0.7818569047663165,
          0.7801792177333944,
          0.7783322903479883,
          0.7766515941233584,
          0.7754736256380319,
          0.7746313496023168,
          0.7717691154039086,
          0.7704194657537782,
          0.7687318233820877,
          0.7663677227474067,
          0.7645086885536522,
          0.7634935658519301,
          0.761970062849021,
          0.7607838130693146,
          0.7601051826404192,
          0.7584089117166992,
          0.7572203834587037,
          0.7560312655712159,
          0.7539926594889368,
          0.7521207960753898,
          0.7499050588820315,
          0.7488805929797312,
          0.7470025698959851,
          0.7454637013107228,
          0.7439237776801808,
          0.7423826467626552,
          0.7415256099030243,
          0.7398122380814854,
          0.7384403657832675,
          0.7367241731143724,
          0.7362085940663017,
          0.7351771901021511,
          0.7329428373027318,
          0.7317378256994759,
          0.7301878051475603,
          0.7288088315398464,
          0.7281181054630353,
          0.7267343823562964,
          0.7253485633156086,
          0.7239625299253944,
          0.7218822083097268,
          0.7206675407729558,
          0.7197990736107904,
          0.7187565126070407,
          0.7170195763533872,
          0.7158027704064087,
          0.7154547746575316,
          0.7133691270295901,
          0.7114549570868243,
          0.7105825318637756,
          0.7086628272438266,
          0.707439401124575,
          0.7060403369986424,
          0.7051647595709731,
          0.7034144573311435,
          0.7013133209161223,
          0.7006112231492577,
          0.6993828548655768,
          0.6986803339373837,
          0.6972757743553424,
          0.6960461401239354,
          0.6942899565876706,
          0.6927073386676422,
          0.6920028831375735,
          0.6912979120764196,
          0.6902406131909035,
          0.6890041139825994,
          0.6875903344974462,
          0.6863502993282287,
          0.6849316327259183,
          0.6838671709931364,
          0.6828011040128987,
          0.6819122335144499,
          0.6796026000460772,
          0.677289791227856,
          0.6753304898778111,
          0.6735479368081584,
          0.673190586871331,
          0.6722974292323236,
          0.670868452114459,
          0.669081724882316,
          0.6683660117200799,
          0.6674706954996434,
          0.6662176478954319,
          0.66460619830627,
          0.6635307256526145,
          0.6610225448919231,
          0.6594072173341506,
          0.6588681922280547,
          0.6565345248055876,
          0.6550954452088145,
          0.6541951459139352,
          0.6534748261395332,
          0.6516743965460835,
          0.6507731989946737,
          0.6500518772230517,
          0.6489695141635147,
          0.6471641212121948,
          0.6464409709531475,
          0.6455365712486089,
          0.6446320985357603,
          0.6439078433880079,
          0.6419175148549549,
          0.6401055055458947,
          0.6390165224966343,
          0.6382902043077264,
          0.6368370688651884,
          0.6357467227578167,
          0.634474244810498,
          0.6337465398695298,
          0.6321095534005118,
          0.630289463508619,
          0.6290146445682723,
          0.6277384418042082,
          0.6262794406448654,
          0.6250014902538502,
          0.6240878473947807,
          0.6218973056827851,
          0.6207999568781388,
          0.620616716446798,
          0.6193346419357888,
          0.6173190463688708,
          0.6164019726951734,
          0.6147525706706639,
          0.614201471023266,
          0.6134665746632832,
          0.6121808860436941,
          0.6103448969522802,
          0.6092423350655064,
          0.6083228294478819,
          0.6072191523187281,
          0.6059311702354335,
          0.6046429072484155,
          0.6042743603066101,
          0.6031687312363592,
          0.6022471146630874,
          0.6011411681878461,
          0.5996662761177424,
          0.5985595254993179,
          0.5978214474502657,
          0.5974521174580196,
          0.5967133044193671,
          0.5959738188798701,
          0.5939411129844636,
          0.5913509480614954,
          0.5893138643059359,
          0.587831121323741,
          0.5870889192718678,
          0.5863460160471167,
          0.5848611287272198,
          0.5828197765751437,
          0.5817049520828536,
          0.5804040789223087,
          0.5778046136716908,
          0.577432429217482,
          0.5761309385012895,
          0.5740871345407669,
          0.5725985506743985,
          0.5714803707278995,
          0.5698036470048006,
          0.5679405259267518,
          0.5662637603215103,
          0.5655174656161346,
          0.56365348345659,
          0.5617855931437106,
          0.5606644376158775,
          0.5587969907386517,
          0.5571148653471949,
          0.5567403164393767,
          0.5556167781238645,
          0.5548662825006062,
          0.5539283340877631,
          0.5524261290521201,
          0.5514861634475616,
          0.5496069688617601,
          0.5490422427795542,
          0.5471623354263917,
          0.545657255848214,
          0.5437765975181972,
          0.5415186951317733,
          0.5401986114115269,
          0.5379359460667574,
          0.5368030081213259,
          0.5358579488968713,
          0.5349125187486282,
          0.5341553207166236,
          0.5326411738989083,
          0.5318835350876373,
          0.5309368062015172,
          0.5309368062015172,
          0.5303683441697057,
          0.529421158668958,
          0.5286627745182201,
          0.5277141568860513,
          0.5258185911122065,
          0.5233541359989083,
          0.5229740587464059,
          0.5224039591145271,
          0.520884446947574,
          0.5197434925064105,
          0.518982472269768,
          0.5180307453559198,
          0.5172685894296503,
          0.5151745793390481,
          0.5142211741939204,
          0.512885661771066,
          0.5117397295960833,
          0.5111661719738249,
          0.5102103632020959,
          0.5090630795113121,
          0.5084889159532426,
          0.5069591644412542,
          0.5058108112628737,
          0.5042784696964984,
          0.5025538343554558,
          0.5012120740840782,
          0.5006359687588003,
          0.5000596791901907,
          0.49890735330638913,
          0.4981299556820115,
          0.4979354336340592,
          0.4969635244288991,
          0.49560203457109675,
          0.4930766777588705,
          0.4919089800152381,
          0.49015898876296393,
          0.4884072530094607,
          0.48723899224549844,
          0.4856820887789331,
          0.4847075893349685,
          0.48159435608289086,
          0.4802288422509449,
          0.4790582490877638,
          0.47691167232466397,
          0.4759331359276854,
          0.47456256274912395,
          0.47260507641021204,
          0.4702567864618313,
          0.4694729793691624,
          0.46849318096564163,
          0.4669249218645255,
          0.46555206326468146,
          0.4645701148955873,
          0.4635881243275315,
          0.462409502126184,
          0.4618199570243403,
          0.4602495848569752,
          0.4590713467762213,
          0.4578923436980763,
          0.45573267581095195,
          0.4527902498623783,
          0.45121807304619604,
          0.45043172752812466,
          0.44984182159173836,
          0.44827066962990925,
          0.4466996494390947,
          0.44453966345953483,
          0.44198843678131944,
          0.4384572215269843,
          0.4378667703298181,
          0.4364896032984444,
          0.4349144935688058,
          0.4337327821513032,
          0.43078445558882345,
          0.4292089956380172,
          0.427829690502301,
          0.4260561519104509,
          0.42487237800668426,
          0.42329308418706735,
          0.4223039455136485,
          0.42091967118695417,
          0.4201272099919978,
          0.4185436875294093,
          0.41814738384246997,
          0.41676180667117574,
          0.413797802934922,
          0.41320320100391444,
          0.4124105322717765,
          0.411617871621233,
          0.41102266870801146,
          0.41042745157057087,
          0.4092375997389262,
          0.40864179137436163,
          0.4082445159904207,
          0.4072519226673062,
          0.40665596821808486,
          0.40605984124123606,
          0.4040755640688072,
          0.4032806644596255,
          0.4016907767745752,
          0.39911064495013504,
          0.3965285867291595,
          0.3947393151057174,
          0.3939426517952196,
          0.3927474082051688,
          0.39035811633856987,
          0.3893603913434329,
          0.3873648430875581,
          0.384770782335918,
          0.38396967370062507,
          0.3823679061279222,
          0.3805657874920341,
          0.3785635193190108,
          0.37636419596869325,
          0.37436138271384417,
          0.37135951706244935,
          0.36835872020977684,
          0.36735526452396033,
          0.3661515045939921,
          0.36454785032968456,
          0.3637451219571926,
          0.36234041545213186,
          0.36013636513975456,
          0.3587304210798591,
          0.3577253421052694,
          0.35591755055301116,
          0.3541090475001313,
          0.35149927347735543,
          0.3494868974825451,
          0.34847842533677814,
          0.34646352333645763,
          0.34545361654355394,
          0.34484750772865375,
          0.3436363360352554,
          0.34182210809198277,
          0.3412166482953182,
          0.3394015012081892,
          0.33738546142269754,
          0.3359725016692691,
          0.3349622747490399,
          0.33354841497511367,
          0.33032494343290025,
          0.32911186379869317,
          0.32689090658630915,
          0.32486888266653147,
          0.32325091122626876,
          0.32122860186843594,
          0.3202167680806865,
          0.3177946936125867,
          0.31457466746896356,
          0.3127600588235012,
          0.31114800823273675,
          0.31034056277516037,
          0.30933164393445917,
          0.30731793471137414,
          0.30550632229829855,
          0.3034929136780994,
          0.3018820572276921,
          0.2998683413196619,
          0.29946506543433327,
          0.297654699755284,
          0.2952445656009685,
          0.29363794374839597,
          0.29063587939979674,
          0.29003286741569684,
          0.28702915598443807,
          0.2850233739038041,
          0.2832169560403111,
          0.281411503369557,
          0.2804073432205574,
          0.27840213107899064,
          0.27719796360713306,
          0.2751924997399741,
          0.27378573418203184,
          0.2719780742939955,
          0.26956894431810186,
          0.26715564026153993,
          0.2651423046592549,
          0.2629283817828295,
          0.2613168591648646,
          0.2607114060860243,
          0.2601060693528347,
          0.258495223965321,
          0.25708353411474494,
          0.25526759803754945,
          0.25405724525197254,
          0.2528478978697807,
          0.2526460469527684,
          0.251637213287637,
          0.250225457856613,
          0.2500231109417069,
          0.24961855888527373,
          0.24820515437987822,
          0.24739652885907476,
          0.24618482834761538,
          0.24497312748185143,
          0.2431584222445225,
          0.2417465156056949,
          0.23932776837222286,
          0.23630809313676548,
          0.2348965738490605,
          0.23328505863544838,
          0.23187427375409966,
          0.23026269335884791,
          0.22945523172547103,
          0.22784307096786346,
          0.2262328513203016,
          0.22381998225057292,
          0.22341655424973206,
          0.22281177078588266,
          0.22200632975785145,
          0.22099941727466704,
          0.2201934111876575,
          0.2177871257452359,
          0.2149842630238829,
          0.21438080765894613,
          0.21337601748181026,
          0.21197048880089742,
          0.21136654454859802,
          0.21076276872093938,
          0.20955782918678678,
          0.20755589452902132,
          0.2069538477863038,
          0.2053532117327553,
          0.20335586918450174,
          0.20235563499623288,
          0.2005582542905466,
          0.19836352500272508,
          0.1961702250346664,
          0.19577024449386685,
          0.19457249577435876,
          0.19377290262226324,
          0.19237516652789963,
          0.1899845602438346,
          0.18858736543137056,
          0.1865947074068391,
          0.18619492143524594,
          0.18479997454151803,
          0.18300897148330378,
          0.18141541538286024,
          0.1786353819324108,
          0.17723804345682834,
          0.17544643749246544,
          0.17444847847253145,
          0.17285323539669148,
          0.17145741998069572,
          0.16907311284729054,
          0.16728293126200006,
          0.1662875869915601,
          0.16509233679222707,
          0.16409588406960426,
          0.16349599493783257,
          0.16110693481454919,
          0.16010748005085695,
          0.15970679403237983,
          0.15930620989273056,
          0.1587052766956701,
          0.15850433268946226,
          0.15830300606216552,
          0.1581017621869193,
          0.15629773374710468,
          0.1554944193098322,
          0.15349298222846167,
          0.1526887857945211,
          0.1508862937930906,
          0.14988141826335377,
          0.1484761901288882,
          0.14667358276608303,
          0.1452701250982528,
          0.14406637281977647,
          0.14366445581481,
          0.14226350350223693,
          0.1410626446353354,
          0.13966309639277444,
          0.13846225613680624,
          0.13686275153445832,
          0.1364614107563495,
          0.13586031903960497,
          0.1348599010064804,
          0.13346159565771015,
          0.13166994275713134,
          0.13086979419559175,
          0.12829191676476567,
          0.12729618423409522,
          0.12669735097330945,
          0.1249102094321227,
          0.12391450016015437,
          0.12311734415896167,
          0.12113767953015606,
          0.11916047392940557,
          0.11856349203601116,
          0.11717610488277877,
          0.11598239481757232,
          0.11419469541460675,
          0.11241055274624913,
          0.11004149276428983,
          0.10806404148880407,
          0.10766727389416648,
          0.10648226473258018,
          0.10510143037823294,
          0.10294784502005751,
          0.10157633506271949,
          0.10079192075632987,
          0.1000081790943944,
          0.09883644719487729,
          0.09650459752137798,
          0.09494564349695873,
          0.09397067651094344,
          0.09260995113887734,
          0.09163435565487192,
          0.09046509791518809,
          0.08987942234394815,
          0.08851727372748418,
          0.08677401999451884,
          0.0852231077506045,
          0.08329635374650925,
          0.0817519777897055,
          0.0813624251689156,
          0.08058581625678513,
          0.07961627400812075,
          0.07903388189832804,
          0.07672665186895632,
          0.07537830530253588,
          0.0736527706129177,
          0.07155093793601619,
          0.07116529732772055,
          0.06944120039439132,
          0.06789859406828583,
          0.06615980939501205,
          0.06576910011019592,
          0.06364886795275247,
          0.0626801980104316,
          0.06190538104654839,
          0.06074667420069408,
          0.05978076404800706,
          0.058628330837696536,
          0.056726152716934854,
          0.05500902879931971,
          0.05386161200840294,
          0.052902138645544036,
          0.0527091801607576,
          0.051000496827258074,
          0.05005175920032953,
          0.047635150607500266,
          0.04631992856949796,
          0.04390937696831047,
          0.04242292028962419,
          0.041486165861019615,
          0.04000228049576974,
          0.03925186619796808,
          0.037947896746661804,
          0.036289961575592646,
          0.035362036201855934,
          0.034430714200792766,
          0.032778068833042545,
          0.03132271487099805,
          0.03005159732681195,
          0.029328537731640215,
          0.028429761777596707,
          0.026507950713258253,
          0.025630355690755183,
          0.02441844621471715,
          0.02321616354707029,
          0.02102912290314542,
          0.01981363210721277,
          0.018613631367714604,
          0.01677914616579322,
          0.015591212270050584,
          0.014263710425437006,
          0.01280976519368916,
          0.011355399717142256,
          0.011012082307250435,
          0.010179050633231771,
          0.009671568336018161,
          0.009499516805842913,
          0.008828212967872184,
          0.00800430339660135,
          0.007832283018234602,
          0.007328416122275922,
          0.00681948422884561,
          0.006156914181334371,
          0.005651411857421144,
          0.004997194900186625,
          0.004658461804066958,
          0.0044862445387500545,
          0.003033868905941679,
          0.0015163496290762938,
          0.0012903454256670249,
          0.00032611815911781194
         ],
         "yaxis": "y"
        }
       ],
       "layout": {
        "height": 400,
        "legend": {
         "title": {
          "text": "patient_id"
         },
         "tracegroupgap": 0
        },
        "margin": {
         "t": 60
        },
        "template": {
         "data": {
          "bar": [
           {
            "error_x": {
             "color": "#2a3f5f"
            },
            "error_y": {
             "color": "#2a3f5f"
            },
            "marker": {
             "line": {
              "color": "white",
              "width": 0.5
             }
            },
            "type": "bar"
           }
          ],
          "barpolar": [
           {
            "marker": {
             "line": {
              "color": "white",
              "width": 0.5
             }
            },
            "type": "barpolar"
           }
          ],
          "carpet": [
           {
            "aaxis": {
             "endlinecolor": "#2a3f5f",
             "gridcolor": "#C8D4E3",
             "linecolor": "#C8D4E3",
             "minorgridcolor": "#C8D4E3",
             "startlinecolor": "#2a3f5f"
            },
            "baxis": {
             "endlinecolor": "#2a3f5f",
             "gridcolor": "#C8D4E3",
             "linecolor": "#C8D4E3",
             "minorgridcolor": "#C8D4E3",
             "startlinecolor": "#2a3f5f"
            },
            "type": "carpet"
           }
          ],
          "choropleth": [
           {
            "colorbar": {
             "outlinewidth": 0,
             "ticks": ""
            },
            "type": "choropleth"
           }
          ],
          "contour": [
           {
            "colorbar": {
             "outlinewidth": 0,
             "ticks": ""
            },
            "colorscale": [
             [
              0,
              "#0d0887"
             ],
             [
              0.1111111111111111,
              "#46039f"
             ],
             [
              0.2222222222222222,
              "#7201a8"
             ],
             [
              0.3333333333333333,
              "#9c179e"
             ],
             [
              0.4444444444444444,
              "#bd3786"
             ],
             [
              0.5555555555555556,
              "#d8576b"
             ],
             [
              0.6666666666666666,
              "#ed7953"
             ],
             [
              0.7777777777777778,
              "#fb9f3a"
             ],
             [
              0.8888888888888888,
              "#fdca26"
             ],
             [
              1,
              "#f0f921"
             ]
            ],
            "type": "contour"
           }
          ],
          "contourcarpet": [
           {
            "colorbar": {
             "outlinewidth": 0,
             "ticks": ""
            },
            "type": "contourcarpet"
           }
          ],
          "heatmap": [
           {
            "colorbar": {
             "outlinewidth": 0,
             "ticks": ""
            },
            "colorscale": [
             [
              0,
              "#0d0887"
             ],
             [
              0.1111111111111111,
              "#46039f"
             ],
             [
              0.2222222222222222,
              "#7201a8"
             ],
             [
              0.3333333333333333,
              "#9c179e"
             ],
             [
              0.4444444444444444,
              "#bd3786"
             ],
             [
              0.5555555555555556,
              "#d8576b"
             ],
             [
              0.6666666666666666,
              "#ed7953"
             ],
             [
              0.7777777777777778,
              "#fb9f3a"
             ],
             [
              0.8888888888888888,
              "#fdca26"
             ],
             [
              1,
              "#f0f921"
             ]
            ],
            "type": "heatmap"
           }
          ],
          "heatmapgl": [
           {
            "colorbar": {
             "outlinewidth": 0,
             "ticks": ""
            },
            "colorscale": [
             [
              0,
              "#0d0887"
             ],
             [
              0.1111111111111111,
              "#46039f"
             ],
             [
              0.2222222222222222,
              "#7201a8"
             ],
             [
              0.3333333333333333,
              "#9c179e"
             ],
             [
              0.4444444444444444,
              "#bd3786"
             ],
             [
              0.5555555555555556,
              "#d8576b"
             ],
             [
              0.6666666666666666,
              "#ed7953"
             ],
             [
              0.7777777777777778,
              "#fb9f3a"
             ],
             [
              0.8888888888888888,
              "#fdca26"
             ],
             [
              1,
              "#f0f921"
             ]
            ],
            "type": "heatmapgl"
           }
          ],
          "histogram": [
           {
            "marker": {
             "colorbar": {
              "outlinewidth": 0,
              "ticks": ""
             }
            },
            "type": "histogram"
           }
          ],
          "histogram2d": [
           {
            "colorbar": {
             "outlinewidth": 0,
             "ticks": ""
            },
            "colorscale": [
             [
              0,
              "#0d0887"
             ],
             [
              0.1111111111111111,
              "#46039f"
             ],
             [
              0.2222222222222222,
              "#7201a8"
             ],
             [
              0.3333333333333333,
              "#9c179e"
             ],
             [
              0.4444444444444444,
              "#bd3786"
             ],
             [
              0.5555555555555556,
              "#d8576b"
             ],
             [
              0.6666666666666666,
              "#ed7953"
             ],
             [
              0.7777777777777778,
              "#fb9f3a"
             ],
             [
              0.8888888888888888,
              "#fdca26"
             ],
             [
              1,
              "#f0f921"
             ]
            ],
            "type": "histogram2d"
           }
          ],
          "histogram2dcontour": [
           {
            "colorbar": {
             "outlinewidth": 0,
             "ticks": ""
            },
            "colorscale": [
             [
              0,
              "#0d0887"
             ],
             [
              0.1111111111111111,
              "#46039f"
             ],
             [
              0.2222222222222222,
              "#7201a8"
             ],
             [
              0.3333333333333333,
              "#9c179e"
             ],
             [
              0.4444444444444444,
              "#bd3786"
             ],
             [
              0.5555555555555556,
              "#d8576b"
             ],
             [
              0.6666666666666666,
              "#ed7953"
             ],
             [
              0.7777777777777778,
              "#fb9f3a"
             ],
             [
              0.8888888888888888,
              "#fdca26"
             ],
             [
              1,
              "#f0f921"
             ]
            ],
            "type": "histogram2dcontour"
           }
          ],
          "mesh3d": [
           {
            "colorbar": {
             "outlinewidth": 0,
             "ticks": ""
            },
            "type": "mesh3d"
           }
          ],
          "parcoords": [
           {
            "line": {
             "colorbar": {
              "outlinewidth": 0,
              "ticks": ""
             }
            },
            "type": "parcoords"
           }
          ],
          "pie": [
           {
            "automargin": true,
            "type": "pie"
           }
          ],
          "scatter": [
           {
            "marker": {
             "colorbar": {
              "outlinewidth": 0,
              "ticks": ""
             }
            },
            "type": "scatter"
           }
          ],
          "scatter3d": [
           {
            "line": {
             "colorbar": {
              "outlinewidth": 0,
              "ticks": ""
             }
            },
            "marker": {
             "colorbar": {
              "outlinewidth": 0,
              "ticks": ""
             }
            },
            "type": "scatter3d"
           }
          ],
          "scattercarpet": [
           {
            "marker": {
             "colorbar": {
              "outlinewidth": 0,
              "ticks": ""
             }
            },
            "type": "scattercarpet"
           }
          ],
          "scattergeo": [
           {
            "marker": {
             "colorbar": {
              "outlinewidth": 0,
              "ticks": ""
             }
            },
            "type": "scattergeo"
           }
          ],
          "scattergl": [
           {
            "marker": {
             "colorbar": {
              "outlinewidth": 0,
              "ticks": ""
             }
            },
            "type": "scattergl"
           }
          ],
          "scattermapbox": [
           {
            "marker": {
             "colorbar": {
              "outlinewidth": 0,
              "ticks": ""
             }
            },
            "type": "scattermapbox"
           }
          ],
          "scatterpolar": [
           {
            "marker": {
             "colorbar": {
              "outlinewidth": 0,
              "ticks": ""
             }
            },
            "type": "scatterpolar"
           }
          ],
          "scatterpolargl": [
           {
            "marker": {
             "colorbar": {
              "outlinewidth": 0,
              "ticks": ""
             }
            },
            "type": "scatterpolargl"
           }
          ],
          "scatterternary": [
           {
            "marker": {
             "colorbar": {
              "outlinewidth": 0,
              "ticks": ""
             }
            },
            "type": "scatterternary"
           }
          ],
          "surface": [
           {
            "colorbar": {
             "outlinewidth": 0,
             "ticks": ""
            },
            "colorscale": [
             [
              0,
              "#0d0887"
             ],
             [
              0.1111111111111111,
              "#46039f"
             ],
             [
              0.2222222222222222,
              "#7201a8"
             ],
             [
              0.3333333333333333,
              "#9c179e"
             ],
             [
              0.4444444444444444,
              "#bd3786"
             ],
             [
              0.5555555555555556,
              "#d8576b"
             ],
             [
              0.6666666666666666,
              "#ed7953"
             ],
             [
              0.7777777777777778,
              "#fb9f3a"
             ],
             [
              0.8888888888888888,
              "#fdca26"
             ],
             [
              1,
              "#f0f921"
             ]
            ],
            "type": "surface"
           }
          ],
          "table": [
           {
            "cells": {
             "fill": {
              "color": "#EBF0F8"
             },
             "line": {
              "color": "white"
             }
            },
            "header": {
             "fill": {
              "color": "#C8D4E3"
             },
             "line": {
              "color": "white"
             }
            },
            "type": "table"
           }
          ]
         },
         "layout": {
          "annotationdefaults": {
           "arrowcolor": "#2a3f5f",
           "arrowhead": 0,
           "arrowwidth": 1
          },
          "autotypenumbers": "strict",
          "coloraxis": {
           "colorbar": {
            "outlinewidth": 0,
            "ticks": ""
           }
          },
          "colorscale": {
           "diverging": [
            [
             0,
             "#8e0152"
            ],
            [
             0.1,
             "#c51b7d"
            ],
            [
             0.2,
             "#de77ae"
            ],
            [
             0.3,
             "#f1b6da"
            ],
            [
             0.4,
             "#fde0ef"
            ],
            [
             0.5,
             "#f7f7f7"
            ],
            [
             0.6,
             "#e6f5d0"
            ],
            [
             0.7,
             "#b8e186"
            ],
            [
             0.8,
             "#7fbc41"
            ],
            [
             0.9,
             "#4d9221"
            ],
            [
             1,
             "#276419"
            ]
           ],
           "sequential": [
            [
             0,
             "#0d0887"
            ],
            [
             0.1111111111111111,
             "#46039f"
            ],
            [
             0.2222222222222222,
             "#7201a8"
            ],
            [
             0.3333333333333333,
             "#9c179e"
            ],
            [
             0.4444444444444444,
             "#bd3786"
            ],
            [
             0.5555555555555556,
             "#d8576b"
            ],
            [
             0.6666666666666666,
             "#ed7953"
            ],
            [
             0.7777777777777778,
             "#fb9f3a"
            ],
            [
             0.8888888888888888,
             "#fdca26"
            ],
            [
             1,
             "#f0f921"
            ]
           ],
           "sequentialminus": [
            [
             0,
             "#0d0887"
            ],
            [
             0.1111111111111111,
             "#46039f"
            ],
            [
             0.2222222222222222,
             "#7201a8"
            ],
            [
             0.3333333333333333,
             "#9c179e"
            ],
            [
             0.4444444444444444,
             "#bd3786"
            ],
            [
             0.5555555555555556,
             "#d8576b"
            ],
            [
             0.6666666666666666,
             "#ed7953"
            ],
            [
             0.7777777777777778,
             "#fb9f3a"
            ],
            [
             0.8888888888888888,
             "#fdca26"
            ],
            [
             1,
             "#f0f921"
            ]
           ]
          },
          "colorway": [
           "#636efa",
           "#EF553B",
           "#00cc96",
           "#ab63fa",
           "#FFA15A",
           "#19d3f3",
           "#FF6692",
           "#B6E880",
           "#FF97FF",
           "#FECB52"
          ],
          "font": {
           "color": "#2a3f5f"
          },
          "geo": {
           "bgcolor": "white",
           "lakecolor": "white",
           "landcolor": "white",
           "showlakes": true,
           "showland": true,
           "subunitcolor": "#C8D4E3"
          },
          "hoverlabel": {
           "align": "left"
          },
          "hovermode": "closest",
          "mapbox": {
           "style": "light"
          },
          "paper_bgcolor": "white",
          "plot_bgcolor": "white",
          "polar": {
           "angularaxis": {
            "gridcolor": "#EBF0F8",
            "linecolor": "#EBF0F8",
            "ticks": ""
           },
           "bgcolor": "white",
           "radialaxis": {
            "gridcolor": "#EBF0F8",
            "linecolor": "#EBF0F8",
            "ticks": ""
           }
          },
          "scene": {
           "xaxis": {
            "backgroundcolor": "white",
            "gridcolor": "#DFE8F3",
            "gridwidth": 2,
            "linecolor": "#EBF0F8",
            "showbackground": true,
            "ticks": "",
            "zerolinecolor": "#EBF0F8"
           },
           "yaxis": {
            "backgroundcolor": "white",
            "gridcolor": "#DFE8F3",
            "gridwidth": 2,
            "linecolor": "#EBF0F8",
            "showbackground": true,
            "ticks": "",
            "zerolinecolor": "#EBF0F8"
           },
           "zaxis": {
            "backgroundcolor": "white",
            "gridcolor": "#DFE8F3",
            "gridwidth": 2,
            "linecolor": "#EBF0F8",
            "showbackground": true,
            "ticks": "",
            "zerolinecolor": "#EBF0F8"
           }
          },
          "shapedefaults": {
           "line": {
            "color": "#2a3f5f"
           }
          },
          "ternary": {
           "aaxis": {
            "gridcolor": "#DFE8F3",
            "linecolor": "#A2B1C6",
            "ticks": ""
           },
           "baxis": {
            "gridcolor": "#DFE8F3",
            "linecolor": "#A2B1C6",
            "ticks": ""
           },
           "bgcolor": "white",
           "caxis": {
            "gridcolor": "#DFE8F3",
            "linecolor": "#A2B1C6",
            "ticks": ""
           }
          },
          "title": {
           "x": 0.05
          },
          "xaxis": {
           "automargin": true,
           "gridcolor": "#EBF0F8",
           "linecolor": "#EBF0F8",
           "ticks": "",
           "title": {
            "standoff": 15
           },
           "zerolinecolor": "#EBF0F8",
           "zerolinewidth": 2
          },
          "yaxis": {
           "automargin": true,
           "gridcolor": "#EBF0F8",
           "linecolor": "#EBF0F8",
           "ticks": "",
           "title": {
            "standoff": 15
           },
           "zerolinecolor": "#EBF0F8",
           "zerolinewidth": 2
          }
         }
        },
        "width": 800,
        "xaxis": {
         "anchor": "y",
         "domain": [
          0,
          1
         ],
         "title": {
          "text": "duration"
         }
        },
        "yaxis": {
         "anchor": "x",
         "domain": [
          0,
          1
         ],
         "title": {
          "text": "S"
         }
        }
       }
      },
      "text/html": [
       "<div>                            <div id=\"f4f4b1f0-91ed-4c5f-b2bd-1e55e184ff66\" class=\"plotly-graph-div\" style=\"height:400px; width:800px;\"></div>            <script type=\"text/javascript\">                require([\"plotly\"], function(Plotly) {                    window.PLOTLYENV=window.PLOTLYENV || {};                                    if (document.getElementById(\"f4f4b1f0-91ed-4c5f-b2bd-1e55e184ff66\")) {                    Plotly.newPlot(                        \"f4f4b1f0-91ed-4c5f-b2bd-1e55e184ff66\",                        [{\"hovertemplate\": \"patient_id=2863<br>duration=%{x}<br>S=%{y}<extra></extra>\", \"legendgroup\": \"2863\", \"line\": {\"color\": \"#636efa\", \"dash\": \"solid\"}, \"mode\": \"lines\", \"name\": \"2863\", \"showlegend\": true, \"type\": \"scattergl\", \"x\": [0.0, 1.0, 2.0, 3.0, 4.0, 5.0, 6.0, 7.0, 8.0, 9.0, 10.0, 11.0, 12.0, 13.0, 14.0, 15.0, 16.0, 17.0, 18.0, 19.0, 20.0, 21.0, 22.0, 23.0, 24.0, 25.0, 26.0, 27.0, 28.0, 29.0, 30.0, 31.0, 32.0, 33.0, 34.0, 35.0, 36.0, 37.0, 38.0, 39.0, 40.0, 41.0, 42.0, 43.0, 44.0, 45.0, 46.0, 47.0, 48.0, 49.0, 50.0, 51.0, 52.0, 53.0, 54.0, 55.0, 56.0, 57.0, 58.0, 59.0, 60.0, 61.0, 62.0, 63.0, 64.0, 65.0, 66.0, 67.0, 68.0, 69.0, 70.0, 71.0, 72.0, 73.0, 74.0, 75.0, 76.0, 77.0, 78.0, 79.0, 80.0, 81.0, 82.0, 83.0, 84.0, 85.0, 86.0, 87.0, 88.0, 89.0, 90.0, 91.0, 92.0, 93.0, 94.0, 95.0, 96.0, 97.0, 98.0, 99.0, 100.0, 101.0, 102.0, 103.0, 104.0, 105.0, 106.0, 107.0, 108.0, 109.0, 110.0, 111.0, 112.0, 113.0, 114.0, 115.0, 116.0, 117.0, 118.0, 119.0, 120.0, 121.0, 122.0, 123.0, 124.0, 125.0, 126.0, 127.0, 128.0, 129.0, 130.0, 131.0, 132.0, 133.0, 134.0, 135.0, 136.0, 137.0, 138.0, 139.0, 140.0, 141.0, 142.0, 143.0, 144.0, 145.0, 146.0, 147.0, 148.0, 149.0, 150.0, 151.0, 152.0, 153.0, 154.0, 155.0, 156.0, 157.0, 158.0, 159.0, 160.0, 161.0, 162.0, 163.0, 164.0, 165.0, 166.0, 167.0, 168.0, 169.0, 170.0, 171.0, 172.0, 173.0, 174.0, 175.0, 176.0, 177.0, 178.0, 179.0, 180.0, 181.0, 182.0, 183.0, 184.0, 185.0, 186.0, 187.0, 188.0, 189.0, 190.0, 191.0, 192.0, 193.0, 194.0, 195.0, 196.0, 197.0, 198.0, 199.0, 200.0, 201.0, 202.0, 203.0, 204.0, 205.0, 206.0, 207.0, 208.0, 209.0, 210.0, 211.0, 212.0, 213.0, 214.0, 215.0, 216.0, 217.0, 218.0, 219.0, 220.0, 221.0, 222.0, 223.0, 224.0, 225.0, 226.0, 227.0, 228.0, 229.0, 230.0, 231.0, 232.0, 233.0, 234.0, 235.0, 236.0, 237.0, 238.0, 239.0, 240.0, 241.0, 242.0, 243.0, 244.0, 245.0, 246.0, 247.0, 248.0, 249.0, 250.0, 251.0, 252.0, 253.0, 254.0, 255.0, 256.0, 257.0, 258.0, 259.0, 260.0, 261.0, 262.0, 263.0, 264.0, 265.0, 266.0, 267.0, 268.0, 269.0, 270.0, 271.0, 272.0, 273.0, 274.0, 275.0, 276.0, 277.0, 278.0, 279.0, 280.0, 281.0, 282.0, 283.0, 284.0, 285.0, 286.0, 287.0, 288.0, 289.0, 290.0, 291.0, 292.0, 293.0, 294.0, 295.0, 296.0, 297.0, 298.0, 299.0, 300.0, 301.0, 302.0, 303.0, 304.0, 305.0, 306.0, 307.0, 308.0, 309.0, 310.0, 311.0, 312.0, 313.0, 314.0, 315.0, 316.0, 317.0, 318.0, 319.0, 320.0, 321.0, 322.0, 323.0, 324.0, 325.0, 326.0, 327.0, 328.0, 329.0, 330.0, 331.0, 332.0, 333.0, 334.0, 335.0, 336.0, 337.0, 338.0, 339.0, 340.0, 341.0, 342.0, 343.0, 344.0, 345.0, 346.0, 347.0, 348.0, 349.0, 350.0, 351.0, 352.0, 353.0, 354.0, 355.0, 356.0, 357.0, 358.0, 359.0, 360.0, 361.0, 362.0, 363.0, 364.0, 365.0, 366.0, 367.0, 368.0, 369.0, 370.0, 371.0, 372.0, 373.0, 374.0, 375.0, 376.0, 377.0, 378.0, 379.0, 380.0, 381.0, 382.0, 383.0, 384.0, 385.0, 386.0, 387.0, 388.0, 389.0, 390.0, 391.0, 392.0, 393.0, 394.0, 395.0, 396.0, 397.0, 398.0, 399.0, 400.0, 401.0, 402.0, 403.0, 404.0, 405.0, 406.0, 407.0, 408.0, 409.0, 410.0, 411.0, 412.0, 413.0, 414.0, 415.0, 416.0, 417.0, 418.0, 419.0, 421.0, 422.0, 423.0, 424.0, 425.0, 426.0, 427.0, 428.0, 429.0, 430.0, 431.0, 432.0, 433.0, 434.0, 435.0, 436.0, 437.0, 438.0, 439.0, 440.0, 441.0, 442.0, 443.0, 444.0, 445.0, 446.0, 447.0, 448.0, 449.0, 450.0, 451.0, 452.0, 453.0, 454.0, 455.0, 456.0, 457.0, 458.0, 459.0, 460.0, 461.0, 462.0, 463.0, 464.0, 465.0, 466.0, 467.0, 468.0, 469.0, 470.0, 471.0, 472.0, 473.0, 474.0, 475.0, 476.0, 477.0, 478.0, 479.0, 480.0, 481.0, 482.0, 483.0, 484.0, 485.0, 486.0, 487.0, 488.0, 489.0, 490.0, 491.0, 492.0, 493.0, 494.0, 495.0, 496.0, 497.0, 498.0, 499.0, 500.0, 501.0, 502.0, 503.0, 504.0, 505.0, 506.0, 507.0, 508.0, 509.0, 510.0, 511.0, 512.0, 513.0, 514.0, 515.0, 516.0, 517.0, 518.0, 519.0, 520.0, 521.0, 522.0, 523.0, 524.0, 525.0, 526.0, 527.0, 528.0, 529.0, 530.0, 531.0, 532.0, 533.0, 534.0, 535.0, 536.0, 537.0, 538.0, 539.0, 540.0, 541.0, 542.0, 543.0, 544.0, 545.0, 546.0, 547.0, 548.0, 549.0, 550.0, 551.0, 552.0, 553.0, 554.0, 555.0, 556.0, 557.0, 558.0, 559.0, 560.0, 561.0, 562.0, 563.0, 564.0, 565.0, 566.0, 567.0, 568.0, 569.0, 570.0, 571.0, 572.0, 573.0, 574.0, 575.0, 576.0, 577.0, 578.0, 579.0, 580.0, 581.0, 582.0, 583.0, 584.0, 585.0, 586.0, 587.0, 588.0, 590.0, 591.0, 592.0, 593.0, 594.0, 595.0, 597.0, 598.0, 599.0, 600.0, 601.0, 602.0, 603.0, 604.0, 605.0, 606.0, 607.0, 608.0, 609.0, 610.0, 611.0, 612.0, 613.0, 614.0, 615.0, 616.0, 617.0, 618.0, 619.0, 620.0, 621.0, 622.0, 623.0, 624.0, 625.0, 626.0, 627.0, 628.0, 629.0, 630.0, 631.0, 632.0, 633.0, 634.0, 635.0, 636.0, 637.0, 638.0, 639.0, 640.0, 641.0, 642.0, 643.0, 644.0, 645.0, 646.0, 647.0, 648.0, 649.0, 650.0, 651.0, 652.0, 653.0, 654.0, 655.0, 656.0, 657.0, 658.0, 659.0, 660.0, 661.0, 662.0, 663.0, 664.0, 665.0, 666.0, 667.0, 668.0, 669.0, 670.0, 671.0, 672.0, 673.0, 674.0, 675.0, 676.0, 677.0, 678.0, 679.0, 680.0, 681.0, 682.0, 683.0, 684.0, 685.0, 686.0, 687.0, 688.0, 689.0, 690.0, 691.0, 692.0, 693.0, 694.0, 695.0, 696.0, 697.0, 698.0, 699.0, 700.0, 701.0, 702.0, 703.0, 704.0, 705.0, 706.0, 707.0, 708.0, 709.0, 710.0, 711.0, 713.0, 714.0, 715.0, 716.0, 717.0, 718.0, 719.0, 720.0, 721.0, 722.0, 723.0, 724.0, 725.0, 726.0, 727.0, 728.0, 729.0], \"xaxis\": \"x\", \"y\": [0.9997196351051034, 0.9994391588461063, 0.9988075792014698, 0.9978944960298495, 0.9975425288412808, 0.9969786049890773, 0.9960600471253427, 0.9951388004944942, 0.994285417162056, 0.993714259978701, 0.9927127961345635, 0.9922814669467745, 0.9911991058722028, 0.9903303324447346, 0.9896765271913317, 0.9888028094907434, 0.9879261342454635, 0.9874859910761135, 0.9866777262907352, 0.985720241346048, 0.984833641799434, 0.9843149151680815, 0.9836464571015076, 0.9831996765590933, 0.9825279588433667, 0.981705593274903, 0.9810309559617317, 0.9805048761111443, 0.9798269062950734, 0.979221989813166, 0.9786917222675446, 0.9783120178516285, 0.9773223147522191, 0.9766349971015172, 0.9757173658074965, 0.9749506804955994, 0.9744892596931959, 0.9733338852807735, 0.9723297342665407, 0.9717100401509471, 0.9710116548463296, 0.9696136306654275, 0.9689125231407091, 0.9685222711111822, 0.9677404503292475, 0.9662516168291818, 0.9653080274060749, 0.9645193569971386, 0.9632541522991459, 0.962857617273886, 0.9622228700985205, 0.9612692434552549, 0.9604716712870252, 0.9595124309081089, 0.9584703607040873, 0.9572650043049076, 0.9569426690088768, 0.9560551307599597, 0.9550048681951724, 0.9535479785093826, 0.9528171229961983, 0.9516788667563527, 0.9505350299420289, 0.9497979963236063, 0.9490596660537277, 0.9474164438605489, 0.9470040079928468, 0.9457650293434656, 0.9453510338351467, 0.9444396191221756, 0.9441074342434229, 0.9434418809046317, 0.9423590073636308, 0.9407722455018418, 0.9399339762281707, 0.938505604373766, 0.9368204402376765, 0.9361432599698247, 0.9357192124868978, 0.9352098726578865, 0.9344444645221255, 0.9332520089662693, 0.9322275255956184, 0.931543054542583, 0.9309430148423572, 0.9299988124400832, 0.9291388657412973, 0.9280196392676111, 0.9270710491725656, 0.9264663687952621, 0.9254280803473548, 0.9246418036285019, 0.923679248814804, 0.9227156151888262, 0.9220136586811161, 0.9211351556511613, 0.9203429863792282, 0.9196374608668236, 0.9191074164017069, 0.9187536041619433, 0.918311103613426, 0.9176027195010739, 0.9173367872574166, 0.9168047097268874, 0.9160050651309551, 0.9152931777414937, 0.9140450797017468, 0.9135088336724899, 0.9124354223834055, 0.9120762972074331, 0.9112679235307489, 0.9104579022484366, 0.9100071882108965, 0.9093755822158021, 0.9087427543764487, 0.9078372371538587, 0.9066575068533492, 0.9062024558365686, 0.9056559015794099, 0.9050175120751073, 0.9043782220999707, 0.903921093708115, 0.903189244198035, 0.9023630117896663, 0.9018102982474484, 0.9007963986882366, 0.8995953974399062, 0.8982992823453462, 0.8978351021448686, 0.8971847035721283, 0.8967195168278926, 0.8951371662636854, 0.8940159168648518, 0.8934540573354762, 0.8931727175954216, 0.8924223651249955, 0.8915772467373835, 0.8912010535093693, 0.8903541914600596, 0.8890345407975327, 0.8883733182989176, 0.8878059381382057, 0.8867653872223441, 0.8860074008921257, 0.8858176943989494, 0.8853431159873415, 0.8842036590300746, 0.8838230488618131, 0.8828707789104965, 0.8818212662636685, 0.8808651354788425, 0.8801943868364952, 0.8797144740370477, 0.8780816820324959, 0.8773107135084771, 0.8763457241078217, 0.8749921613253682, 0.8739263121332269, 0.8733437618462843, 0.8724687418985079, 0.8717868187992062, 0.8713964656616501, 0.8704199983581713, 0.869735167452661, 0.8690494607351388, 0.8678726440544479, 0.8667906855095903, 0.8655082288500973, 0.8649146354472749, 0.8638254247255769, 0.862931898673856, 0.8620368397678234, 0.8611401546306557, 0.8606410986677328, 0.8596425333182545, 0.8588421655594896, 0.8578398732982564, 0.8575385372569968, 0.8569354058120654, 0.8556273817663368, 0.8549211251373615, 0.854011806472463, 0.8532020238190281, 0.8527961178423892, 0.8519823939242804, 0.8511666635285537, 0.8503500300531219, 0.8491228675436253, 0.8484055316879915, 0.8478922791158326, 0.8472757317840813, 0.8462475562062592, 0.8455265313893622, 0.8453202124055161, 0.8440826290235589, 0.8429452100239109, 0.8424263004957133, 0.8412833613217946, 0.8405541623469746, 0.8397195074413323, 0.8391967354852444, 0.8381507304738443, 0.8368933481521053, 0.8364727738424598, 0.8357364448830719, 0.8353150384976523, 0.8344718816786076, 0.8337330376839931, 0.8326766803439132, 0.831723583194877, 0.8312989913524003, 0.8308738731819191, 0.8302358859953933, 0.8294891492354679, 0.8286345323158248, 0.8278842213932375, 0.8270249968560066, 0.8263797164738343, 0.8257329613211596, 0.8251933220181523, 0.8237894875042627, 0.8223813394100398, 0.8211865482349521, 0.8200980379712096, 0.8198796507801303, 0.8193335628649443, 0.8184591159300008, 0.8173644413184485, 0.8169255367298159, 0.8163761624402643, 0.8156066641064404, 0.814616010039461, 0.813954187027387, 0.8124086265067795, 0.8114117021139021, 0.8110787637791177, 0.8096357652643654, 0.8087446517745032, 0.8081866683775449, 0.8077399563514638, 0.8066223317002024, 0.8060623316818979, 0.8056138272446837, 0.8049403687017038, 0.8038157865614943, 0.8033648968181286, 0.8028006428877049, 0.8022359494278796, 0.801783487381908, 0.8005387673022856, 0.7994038923148152, 0.7987210840835728, 0.798265349725524, 0.7973527917699751, 0.7966673813988707, 0.7958667389158038, 0.7954085077868192, 0.7943767489713338, 0.7932280199350777, 0.7924224481495066, 0.7916151868798057, 0.7906912943624879, 0.7898811685274278, 0.7893014807100719, 0.7879099022867544, 0.7872118750603923, 0.7870952553429086, 0.7862788242931241, 0.7849935794885808, 0.7844081154443571, 0.7833540365682301, 0.7830015328866538, 0.7825312208105747, 0.7817077423626645, 0.7805303036449431, 0.779822371302554, 0.7792314874229386, 0.7785216651917233, 0.7776924953887969, 0.776862266012583, 0.7766245914992863, 0.7759111419590594, 0.7753159355364545, 0.7746010843243779, 0.7736467373547598, 0.772929832677352, 0.772451370901925, 0.7722118409293202, 0.7717324602585757, 0.7712523470704098, 0.769931075573799, 0.768244183996152, 0.7669149092129386, 0.7659459229770745, 0.7654604298173134, 0.7649741717294333, 0.7640013365273014, 0.762661918545258, 0.7619294480585874, 0.7610738538294317, 0.7593612992060775, 0.7591157863912354, 0.7582566329563193, 0.7569055024851119, 0.7559199115518119, 0.7551787251871812, 0.7540659525216205, 0.7528275606242504, 0.7517113053874702, 0.7512139531292404, 0.7499703118105108, 0.7487220061271384, 0.7479717480329641, 0.7467204234628526, 0.745591493196399, 0.745339889936983, 0.7445846467258287, 0.7440797391784705, 0.743448241360837, 0.7424357325564231, 0.7418014838690838, 0.740531867004111, 0.7401499057192599, 0.7388769889330262, 0.7378563031842317, 0.736578941600842, 0.7350424415092836, 0.7341426473720303, 0.7325978202034585, 0.7318230945009013, 0.7311762207212277, 0.73052852415825, 0.7300093705411319, 0.728970133527991, 0.7284495745402314, 0.7277985759740327, 0.7277985759740327, 0.7274074069264269, 0.726755167171534, 0.7262325184330657, 0.7255782421600938, 0.724269083659519, 0.7225635056472014, 0.7223001093850433, 0.7219048473982824, 0.7208502870255277, 0.7200574427198664, 0.7195281309507537, 0.718865632708309, 0.7183346577497097, 0.716873803677564, 0.716207695308919, 0.7152735875956968, 0.7144711131354445, 0.714069125521109, 0.7133987311534304, 0.7125932115597632, 0.7121897459253299, 0.7111136779742103, 0.7103048325114204, 0.7092240977862865, 0.7080057829107771, 0.707056497024355, 0.7066485181655153, 0.7062401747831744, 0.7054229638493537, 0.7048711147521948, 0.7047329628325961, 0.7040422980239249, 0.7030736542572162, 0.7012734510769878, 0.7004395038625855, 0.6991878452723348, 0.6979327075506263, 0.6970943891456466, 0.6959756313252148, 0.6952744674486445, 0.6930297413301749, 0.6920428884557839, 0.6911957908437133, 0.6896397410704787, 0.688929244119355, 0.6879328720668516, 0.6865073399952923, 0.684793320350101, 0.6842202699377856, 0.6835032573473512, 0.682354055087177, 0.6813464607563854, 0.6806248624152953, 0.6799024728333275, 0.6790344263151067, 0.6785998171858899, 0.6774407977650737, 0.6765699004151707, 0.6756973223546502, 0.6740960482837236, 0.671908306603656, 0.6707364642247023, 0.6701495883331177, 0.6697089867313847, 0.6685340849043027, 0.6673572287506362, 0.6657358051840568, 0.6638156277133272, 0.6611487299794742, 0.6607017578137455, 0.659658072678782, 0.6584623638033235, 0.6575638774028605, 0.655316855780811, 0.654113002348341, 0.6530572279049365, 0.6516971967269727, 0.650787854366198, 0.6495727171869795, 0.6488105055666568, 0.6477423150997957, 0.6471300159785112, 0.6459047735142242, 0.6455977744450935, 0.64452328777973, 0.6422187724331426, 0.6417554797534968, 0.6411373436885444, 0.6405186218150459, 0.6400536379582961, 0.6395883074334736, 0.6386570929522943, 0.6381902883089463, 0.6378788420943767, 0.6371000326330039, 0.6366319799723804, 0.636163449845181, 0.6346014198745218, 0.6339746004088506, 0.6327190424224041, 0.6306761936963421, 0.6286252229655166, 0.6272000706125166, 0.626564494163493, 0.6256097290130198, 0.6236968049718716, 0.6228962766749742, 0.6212920695080931, 0.6192005556332609, 0.6185532269595749, 0.6172569124257422, 0.6157952152339794, 0.6141671273540191, 0.6123738581579957, 0.6107362712181592, 0.6082736211191487, 0.6058019166130401, 0.6049731511463716, 0.603977462861572, 0.6026484659140631, 0.6019821268064881, 0.6008143250081037, 0.5989774344513762, 0.5978027716295345, 0.5969616242785613, 0.5954457208539558, 0.5939253781270212, 0.5917246014302587, 0.5900220363000245, 0.5891669843473217, 0.5874549123429242, 0.5865949236203002, 0.5860781886433059, 0.5850442532881331, 0.5834921075415657, 0.5829731991854722, 0.5814147754007978, 0.5796789974788098, 0.578459380363971, 0.577585820878675, 0.5763610268492748, 0.573558901605031, 0.5725008604825144, 0.5705587076085713, 0.5687847908541914, 0.5673613833853827, 0.5655772606773118, 0.5646825001281878, 0.562534931472291, 0.5596671816788787, 0.5580446499801753, 0.5565992976063783, 0.5558739459698968, 0.5549662824324572, 0.5531502495913292, 0.5515114028054796, 0.5496843139779252, 0.5482181730958607, 0.5463798726842304, 0.5460109879667256, 0.5443519522834872, 0.5421354632656998, 0.5406529172022201, 0.5378718253768503, 0.5373114759812074, 0.5345115887832457, 0.5326337792462524, 0.530936972296141, 0.5292356764740476, 0.5282870930312701, 0.5263877852402373, 0.5252439392427546, 0.5233334290204583, 0.5219891283247735, 0.520256672699477, 0.5179388290501517, 0.5156066005207914, 0.5136528613213924, 0.5114959215394214, 0.5099201820409652, 0.5093269222775547, 0.5087330900064497, 0.5071494968645037, 0.5057576434164982, 0.5039616131757974, 0.5027609910728502, 0.5015585171274585, 0.5013575346675394, 0.5003518403990731, 0.49894110021034305, 0.4987385742671128, 0.4983334193262617, 0.4969153345465801, 0.4961022219762157, 0.4948813154232027, 0.4936574113763784, 0.49181877590538037, 0.490383517745468, 0.4879150282799376, 0.48481574370590014, 0.4833602467453812, 0.4816931858280816, 0.4802290586198281, 0.4785511032277972, 0.47770818538374044, 0.47602080159087057, 0.4743295021069183, 0.4717838717619793, 0.47135691473470925, 0.4707161385783528, 0.46986141624548283, 0.46879071973853426, 0.46793190391651696, 0.46535859907864685, 0.46234326769041134, 0.46169151060460845, 0.46060426405428506, 0.45907910496722254, 0.45842220945518586, 0.4577645618578175, 0.4564493004971676, 0.45425571568036255, 0.45359397408293106, 0.45182995121249103, 0.44961909333903183, 0.4485078694893042, 0.44650414665777255, 0.4440452894338036, 0.44157445696832326, 0.44112238328274456, 0.43976588189724325, 0.43885799206927595, 0.43726645294791566, 0.4345309668244923, 0.4329242627540847, 0.43062251141715957, 0.4301592397997178, 0.428538883309611, 0.4264495120511188, 0.42458190125297784, 0.4213040946530209, 0.4196469621404682, 0.41751270849599453, 0.41631917875669694, 0.41440422864865517, 0.4127214399180436, 0.40983106706917266, 0.4076475524251001, 0.40642847754726313, 0.404959749019092, 0.4037312500344318, 0.4029898707512147, 0.4000237950167411, 0.3987764513013534, 0.3982752965845044, 0.39777364280188876, 0.3970199108939865, 0.3967675559653626, 0.3965145606490587, 0.39626150909026503, 0.393985851335861, 0.392968316377634, 0.3904217058010763, 0.38939379786846195, 0.387080046616139, 0.3857841682034419, 0.38396471881198896, 0.3816181476916926, 0.3797812118121996, 0.37819860799702465, 0.37766873161128944, 0.37581595718198807, 0.3742205613412796, 0.3723526360115298, 0.370742472909863, 0.36858691226390405, 0.36804408172447567, 0.3672295898091769, 0.36587001199653757, 0.3639612545416583, 0.3615009379019878, 0.36039678035061407, 0.3568163997703495, 0.3554238554920149, 0.35458376580623513, 0.3520647958058116, 0.3506535558502251, 0.3495196531620656, 0.34668778727179467, 0.3438363332494179, 0.3429707627676179, 0.340950750823269, 0.33920317334390954, 0.3365691590452513, 0.33391982472687587, 0.3303693379998707, 0.3273764883602174, 0.32677270801632136, 0.3249627935605853, 0.32284108206368933, 0.319504093310899, 0.3173607819749028, 0.3161284640090022, 0.31489242214023994, 0.31303544438632225, 0.3093069742428524, 0.30678922837278016, 0.3052041569562899, 0.3029781717204509, 0.30137216890933743, 0.29943610019882183, 0.29846164695203625, 0.29618298295200884, 0.29324115227010444, 0.2905990621281164, 0.287283108486599, 0.2845975440991028, 0.283916156600272, 0.2825528812251247, 0.280841707954713, 0.279808833649494, 0.27567920750372393, 0.2732371737823866, 0.27008003533098696, 0.26618419860649867, 0.26546323609881395, 0.2622159442562109, 0.259276271429011, 0.2559225757370868, 0.255162971990298, 0.2510011066753319, 0.24907670696596296, 0.2475267342690123, 0.24519066831723657, 0.24322628030200125, 0.2408617542682069, 0.23690769369012188, 0.2332811875024578, 0.23082636622991998, 0.22875356483737674, 0.22833445061445481, 0.22458924612130637, 0.22248272465298524, 0.2170253733673213, 0.21399721310268904, 0.2083338043613439, 0.2047640136110074, 0.20248227345835834, 0.1988146490890772, 0.19693408930875106, 0.19362319071571857, 0.18933058223997126, 0.1868853568751156, 0.18439882476853117, 0.17990248969798464, 0.17584846864087372, 0.17223019234547743, 0.1701379063310481, 0.1675010009359212, 0.16171952915210366, 0.15901005056451176, 0.15519125171590462, 0.15130830328596748, 0.14397874348246878, 0.13974036270568943, 0.13542692723091806, 0.128555535730739, 0.12390436905892986, 0.11849259764529113, 0.11226875510187806, 0.1056799051782707, 0.10406416055587844, 0.1000360894823592, 0.09750127782210619, 0.09662692244759301, 0.09313753264645878, 0.08866886386605043, 0.08770736242846727, 0.08482880295630098, 0.08181935255668586, 0.07772835132355946, 0.07445731051135396, 0.06999916555189721, 0.0675763020199866, 0.06631079991690791, 0.05449114799730387, 0.03847408674526776, 0.03548065037568567, 0.017791708425391038], \"yaxis\": \"y\"}, {\"hovertemplate\": \"patient_id=723<br>duration=%{x}<br>S=%{y}<extra></extra>\", \"legendgroup\": \"723\", \"line\": {\"color\": \"#EF553B\", \"dash\": \"solid\"}, \"mode\": \"lines\", \"name\": \"723\", \"showlegend\": true, \"type\": \"scattergl\", \"x\": [0.0, 1.0, 2.0, 3.0, 4.0, 5.0, 6.0, 7.0, 8.0, 9.0, 10.0, 11.0, 12.0, 13.0, 14.0, 15.0, 16.0, 17.0, 18.0, 19.0, 20.0, 21.0, 22.0, 23.0, 24.0, 25.0, 26.0, 27.0, 28.0, 29.0, 30.0, 31.0, 32.0, 33.0, 34.0, 35.0, 36.0, 37.0, 38.0, 39.0, 40.0, 41.0, 42.0, 43.0, 44.0, 45.0, 46.0, 47.0, 48.0, 49.0, 50.0, 51.0, 52.0, 53.0, 54.0, 55.0, 56.0, 57.0, 58.0, 59.0, 60.0, 61.0, 62.0, 63.0, 64.0, 65.0, 66.0, 67.0, 68.0, 69.0, 70.0, 71.0, 72.0, 73.0, 74.0, 75.0, 76.0, 77.0, 78.0, 79.0, 80.0, 81.0, 82.0, 83.0, 84.0, 85.0, 86.0, 87.0, 88.0, 89.0, 90.0, 91.0, 92.0, 93.0, 94.0, 95.0, 96.0, 97.0, 98.0, 99.0, 100.0, 101.0, 102.0, 103.0, 104.0, 105.0, 106.0, 107.0, 108.0, 109.0, 110.0, 111.0, 112.0, 113.0, 114.0, 115.0, 116.0, 117.0, 118.0, 119.0, 120.0, 121.0, 122.0, 123.0, 124.0, 125.0, 126.0, 127.0, 128.0, 129.0, 130.0, 131.0, 132.0, 133.0, 134.0, 135.0, 136.0, 137.0, 138.0, 139.0, 140.0, 141.0, 142.0, 143.0, 144.0, 145.0, 146.0, 147.0, 148.0, 149.0, 150.0, 151.0, 152.0, 153.0, 154.0, 155.0, 156.0, 157.0, 158.0, 159.0, 160.0, 161.0, 162.0, 163.0, 164.0, 165.0, 166.0, 167.0, 168.0, 169.0, 170.0, 171.0, 172.0, 173.0, 174.0, 175.0, 176.0, 177.0, 178.0, 179.0, 180.0, 181.0, 182.0, 183.0, 184.0, 185.0, 186.0, 187.0, 188.0, 189.0, 190.0, 191.0, 192.0, 193.0, 194.0, 195.0, 196.0, 197.0, 198.0, 199.0, 200.0, 201.0, 202.0, 203.0, 204.0, 205.0, 206.0, 207.0, 208.0, 209.0, 210.0, 211.0, 212.0, 213.0, 214.0, 215.0, 216.0, 217.0, 218.0, 219.0, 220.0, 221.0, 222.0, 223.0, 224.0, 225.0, 226.0, 227.0, 228.0, 229.0, 230.0, 231.0, 232.0, 233.0, 234.0, 235.0, 236.0, 237.0, 238.0, 239.0, 240.0, 241.0, 242.0, 243.0, 244.0, 245.0, 246.0, 247.0, 248.0, 249.0, 250.0, 251.0, 252.0, 253.0, 254.0, 255.0, 256.0, 257.0, 258.0, 259.0, 260.0, 261.0, 262.0, 263.0, 264.0, 265.0, 266.0, 267.0, 268.0, 269.0, 270.0, 271.0, 272.0, 273.0, 274.0, 275.0, 276.0, 277.0, 278.0, 279.0, 280.0, 281.0, 282.0, 283.0, 284.0, 285.0, 286.0, 287.0, 288.0, 289.0, 290.0, 291.0, 292.0, 293.0, 294.0, 295.0, 296.0, 297.0, 298.0, 299.0, 300.0, 301.0, 302.0, 303.0, 304.0, 305.0, 306.0, 307.0, 308.0, 309.0, 310.0, 311.0, 312.0, 313.0, 314.0, 315.0, 316.0, 317.0, 318.0, 319.0, 320.0, 321.0, 322.0, 323.0, 324.0, 325.0, 326.0, 327.0, 328.0, 329.0, 330.0, 331.0, 332.0, 333.0, 334.0, 335.0, 336.0, 337.0, 338.0, 339.0, 340.0, 341.0, 342.0, 343.0, 344.0, 345.0, 346.0, 347.0, 348.0, 349.0, 350.0, 351.0, 352.0, 353.0, 354.0, 355.0, 356.0, 357.0, 358.0, 359.0, 360.0, 361.0, 362.0, 363.0, 364.0, 365.0, 366.0, 367.0, 368.0, 369.0, 370.0, 371.0, 372.0, 373.0, 374.0, 375.0, 376.0, 377.0, 378.0, 379.0, 380.0, 381.0, 382.0, 383.0, 384.0, 385.0, 386.0, 387.0, 388.0, 389.0, 390.0, 391.0, 392.0, 393.0, 394.0, 395.0, 396.0, 397.0, 398.0, 399.0, 400.0, 401.0, 402.0, 403.0, 404.0, 405.0, 406.0, 407.0, 408.0, 409.0, 410.0, 411.0, 412.0, 413.0, 414.0, 415.0, 416.0, 417.0, 418.0, 419.0, 421.0, 422.0, 423.0, 424.0, 425.0, 426.0, 427.0, 428.0, 429.0, 430.0, 431.0, 432.0, 433.0, 434.0, 435.0, 436.0, 437.0, 438.0, 439.0, 440.0, 441.0, 442.0, 443.0, 444.0, 445.0, 446.0, 447.0, 448.0, 449.0, 450.0, 451.0, 452.0, 453.0, 454.0, 455.0, 456.0, 457.0, 458.0, 459.0, 460.0, 461.0, 462.0, 463.0, 464.0, 465.0, 466.0, 467.0, 468.0, 469.0, 470.0, 471.0, 472.0, 473.0, 474.0, 475.0, 476.0, 477.0, 478.0, 479.0, 480.0, 481.0, 482.0, 483.0, 484.0, 485.0, 486.0, 487.0, 488.0, 489.0, 490.0, 491.0, 492.0, 493.0, 494.0, 495.0, 496.0, 497.0, 498.0, 499.0, 500.0, 501.0, 502.0, 503.0, 504.0, 505.0, 506.0, 507.0, 508.0, 509.0, 510.0, 511.0, 512.0, 513.0, 514.0, 515.0, 516.0, 517.0, 518.0, 519.0, 520.0, 521.0, 522.0, 523.0, 524.0, 525.0, 526.0, 527.0, 528.0, 529.0, 530.0, 531.0, 532.0, 533.0, 534.0, 535.0, 536.0, 537.0, 538.0, 539.0, 540.0, 541.0, 542.0, 543.0, 544.0, 545.0, 546.0, 547.0, 548.0, 549.0, 550.0, 551.0, 552.0, 553.0, 554.0, 555.0, 556.0, 557.0, 558.0, 559.0, 560.0, 561.0, 562.0, 563.0, 564.0, 565.0, 566.0, 567.0, 568.0, 569.0, 570.0, 571.0, 572.0, 573.0, 574.0, 575.0, 576.0, 577.0, 578.0, 579.0, 580.0, 581.0, 582.0, 583.0, 584.0, 585.0, 586.0, 587.0, 588.0, 590.0, 591.0, 592.0, 593.0, 594.0, 595.0, 597.0, 598.0, 599.0, 600.0, 601.0, 602.0, 603.0, 604.0, 605.0, 606.0, 607.0, 608.0, 609.0, 610.0, 611.0, 612.0, 613.0, 614.0, 615.0, 616.0, 617.0, 618.0, 619.0, 620.0, 621.0, 622.0, 623.0, 624.0, 625.0, 626.0, 627.0, 628.0, 629.0, 630.0, 631.0, 632.0, 633.0, 634.0, 635.0, 636.0, 637.0, 638.0, 639.0, 640.0, 641.0, 642.0, 643.0, 644.0, 645.0, 646.0, 647.0, 648.0, 649.0, 650.0, 651.0, 652.0, 653.0, 654.0, 655.0, 656.0, 657.0, 658.0, 659.0, 660.0, 661.0, 662.0, 663.0, 664.0, 665.0, 666.0, 667.0, 668.0, 669.0, 670.0, 671.0, 672.0, 673.0, 674.0, 675.0, 676.0, 677.0, 678.0, 679.0, 680.0, 681.0, 682.0, 683.0, 684.0, 685.0, 686.0, 687.0, 688.0, 689.0, 690.0, 691.0, 692.0, 693.0, 694.0, 695.0, 696.0, 697.0, 698.0, 699.0, 700.0, 701.0, 702.0, 703.0, 704.0, 705.0, 706.0, 707.0, 708.0, 709.0, 710.0, 711.0, 713.0, 714.0, 715.0, 716.0, 717.0, 718.0, 719.0, 720.0, 721.0, 722.0, 723.0, 724.0, 725.0, 726.0, 727.0, 728.0, 729.0], \"xaxis\": \"x\", \"y\": [0.9994606275199713, 0.9989211806387233, 0.9977069601051946, 0.9959527991387793, 0.9952770166410994, 0.9941947332855134, 0.9924330467642644, 0.9906677107172811, 0.9890337643282158, 0.9879409111494276, 0.9860261092127858, 0.985201956183483, 0.9831353152555035, 0.98147800269769, 0.9802316590294335, 0.9785672854518186, 0.9768986432971416, 0.9760614013053108, 0.974524814889107, 0.9727060516282904, 0.9710233917611827, 0.9700395594782273, 0.9687724484617686, 0.9679259868667354, 0.9666540325201004, 0.96509790746902, 0.9638222209708742, 0.9628280074051043, 0.9615474709178181, 0.9604056071368111, 0.9594051895613428, 0.9586891362615283, 0.9568239435434105, 0.955529652379611, 0.9538029681127944, 0.9523614653236593, 0.9514944180615359, 0.9493250393865214, 0.9474415357250449, 0.9462800610878366, 0.9449719179736397, 0.9423558950409412, 0.941045273926403, 0.940316132618992, 0.9388562064748224, 0.9360790592591851, 0.9343210110907464, 0.9328528179862908, 0.9304998225504905, 0.9297629442659304, 0.9285839816116954, 0.9268140911712087, 0.9253350765758982, 0.9235577678399136, 0.921628849399846, 0.9194000969388512, 0.9188045252211187, 0.9171655984639819, 0.9152280007032737, 0.9125434873931271, 0.9111982153029781, 0.9091049466335416, 0.9070037445261444, 0.9056510677196147, 0.9042969833481398, 0.9012868364610866, 0.9005320700119641, 0.8982665391260378, 0.8975101397421137, 0.8958459984247442, 0.8952398348318455, 0.8940259407948848, 0.8920525925199153, 0.8891647785106539, 0.8876409928685635, 0.8850474248242408, 0.8819922728012936, 0.8807659944656516, 0.8799985212607311, 0.8790771042921435, 0.877693320909055, 0.8755395636046939, 0.8736912194848174, 0.8724573614630773, 0.8713763920545184, 0.8696767180407708, 0.8681301009440572, 0.8661191485564901, 0.8644165380474566, 0.8633320458443388, 0.8614714043854977, 0.8600636577534009, 0.8583418089548579, 0.8566196904110975, 0.8553662632026974, 0.8537988330350106, 0.8523866239543908, 0.8511298209794214, 0.8501862008434834, 0.8495566007347644, 0.848769497254914, 0.8475101794800208, 0.8470376548145795, 0.8460926068875804, 0.8446732734731025, 0.8434106681591069, 0.8411992276444217, 0.8402499374120568, 0.838351276308318, 0.8377165124791547, 0.8362885342163212, 0.8348588191465145, 0.8340638023231685, 0.8329503213239514, 0.8318354027838949, 0.8302413064342633, 0.8281666812414742, 0.8273671134899724, 0.8264072561915612, 0.8252867956115506, 0.8241654862405978, 0.8233641357689052, 0.8220819760521811, 0.8206356160538556, 0.8196687469840692, 0.8178965423541993, 0.8157996845624353, 0.8135396656344093, 0.8127310130053663, 0.8115985973703825, 0.8107891211127572, 0.808038560847334, 0.8060922387868125, 0.805117782136741, 0.8046300554755044, 0.8033299490017878, 0.8018668544062065, 0.801215989290615, 0.7997517323988174, 0.7974725701084968, 0.7963317507443178, 0.7953534645902646, 0.7935608306022965, 0.7922562145463432, 0.7919298605412972, 0.791113721337909, 0.7891558312842717, 0.7885023609502034, 0.7868685458402568, 0.7850697763034878, 0.7834327759458967, 0.7822853604650152, 0.7814648938173239, 0.7786765430810153, 0.7773616089054515, 0.7757172643105958, 0.7734136076626784, 0.7716019325671303, 0.77061260629163, 0.7691277338186803, 0.7679714923478684, 0.7673100012114419, 0.7656564819307314, 0.7644978327494516, 0.7633385461651971, 0.7613509364508572, 0.7595257355180246, 0.7573650310522535, 0.7563659358292266, 0.7545342994636596, 0.7530333225175342, 0.751531209823509, 0.7500278124140211, 0.7491917130688144, 0.7475200994473853, 0.7461815663669333, 0.7445069601405208, 0.7440038483080569, 0.7429973483424571, 0.7408167789561866, 0.7396406784942652, 0.7381277487129038, 0.7367816800143696, 0.7361074030458336, 0.734756566033555, 0.7334035942348827, 0.7320503242390531, 0.7300190104692357, 0.7288328647902218, 0.7279847481332278, 0.7269665706292935, 0.7252701451316143, 0.7240816347117129, 0.7237417184603926, 0.7217043745255255, 0.7198343565589166, 0.7189819971931873, 0.7171063191473633, 0.7159108599790224, 0.7145436906473412, 0.7136880265716099, 0.7119774220605308, 0.7099237470749097, 0.7092374614729221, 0.7080367007483556, 0.707349936370816, 0.705976807838052, 0.7047746121061925, 0.7030574899824317, 0.7015099450279827, 0.7008210620952849, 0.700131650881423, 0.6990976429501521, 0.6978883131372732, 0.6965055069235924, 0.6952925581152625, 0.6939047873086108, 0.6928634425704802, 0.691820471570526, 0.6909508153367733, 0.6886909256429352, 0.686427664276721, 0.6845101292159022, 0.6827654084845556, 0.6824156237324993, 0.6815413465219251, 0.6801424933930098, 0.6783932876036244, 0.677692559442697, 0.6768159522628405, 0.6755890211374915, 0.6740110412807885, 0.6729578329425426, 0.6705013479535988, 0.668919144047677, 0.6683911424574012, 0.6661050289322975, 0.6646951346712274, 0.6638130397942854, 0.6631072551150156, 0.6613430387048641, 0.6604599045828992, 0.6597530105406206, 0.6586922460607756, 0.6569227443170932, 0.6562139226864178, 0.6553274045333357, 0.654440772092006, 0.6537307716690771, 0.6517794750501706, 0.6500028197245344, 0.6489350005579816, 0.6482227632409385, 0.646797715510966, 0.6457283713180294, 0.6444803236807848, 0.6437665512670152, 0.6421608032090437, 0.6403752779295276, 0.6391245629984239, 0.6378724030824688, 0.6364407812984485, 0.6351867184802533, 0.6342900994673839, 0.6321401899593823, 0.6310630979367855, 0.6308832337004275, 0.6296247302147033, 0.6276460102617376, 0.6267456410748523, 0.6251261668917574, 0.6245850334721545, 0.6238634011817741, 0.622600846293067, 0.620797734475165, 0.6197148266748801, 0.6188116604706533, 0.6177275334327073, 0.6164622804390425, 0.6151966589654798, 0.6148345722665888, 0.6137482781281898, 0.6128427261954034, 0.6117559944819161, 0.6103066202253896, 0.6092189375229256, 0.608493537187983, 0.6081305394898165, 0.6074043704970318, 0.6066775095466176, 0.6046793463132352, 0.6021328562677922, 0.6001298520116559, 0.5986717649478989, 0.5979418571784194, 0.5972112280682916, 0.595750778331451, 0.5937428135544855, 0.5926461205241177, 0.5913663133104967, 0.5888086472380102, 0.5884424151306029, 0.5871616752877038, 0.5851502566663457, 0.583685105360221, 0.582584441109177, 0.58093384351329, 0.579099556967898, 0.5774485648387253, 0.5767136873456726, 0.5748780755802848, 0.5730384056963159, 0.5719340877991511, 0.5700945177388996, 0.5684373217314204, 0.5680683002941436, 0.566961291543477, 0.5662217943761175, 0.5652975431558738, 0.5638171631720286, 0.5628907836242922, 0.5610385875950384, 0.560481932452309, 0.5586287503110033, 0.5571449094873469, 0.5552905919495243, 0.5530640226301341, 0.5517621099680114, 0.5495303357158168, 0.548412744009422, 0.5474804240533104, 0.5465476815860731, 0.5458006042713907, 0.5443065862598078, 0.5435589645607906, 0.5426247013515155, 0.5426247013515155, 0.5420636967932063, 0.5411288911697263, 0.5403803777682235, 0.5394440548735557, 0.5375728834124912, 0.535139796688141, 0.5347645221554281, 0.5342016088082528, 0.5327011472973124, 0.5315743984630734, 0.5308228061263439, 0.5298828163302167, 0.5291300168245143, 0.527061516762538, 0.5261196306257323, 0.5248001527952267, 0.5236678848604964, 0.5231011336768427, 0.522156618930928, 0.5210228113941383, 0.5204553590558667, 0.5189433806890792, 0.517808266358689, 0.5162934523819528, 0.5145883547740607, 0.5132616556256688, 0.5126919795585834, 0.5121220987462931, 0.5109825197911364, 0.5102136705460397, 0.5100212810386713, 0.5090599881067746, 0.5077132611908954, 0.5052149502052217, 0.5040596094985144, 0.502327960652457, 0.5005943726232867, 0.4994380960426609, 0.49789701525301244, 0.4969323331374804, 0.49385001565138276, 0.4924978460001317, 0.49133858693777227, 0.48921254077647364, 0.4882432543095498, 0.4868855216439205, 0.48494614047060175, 0.48261920565923755, 0.4818424375731725, 0.48087137554495646, 0.4793169543905741, 0.4779560621855156, 0.47698258823049655, 0.47600900166541416, 0.47484037259363876, 0.47425578761769993, 0.4726985024103449, 0.47152996340711506, 0.4703605624479953, 0.468218214676508, 0.4652988240853882, 0.4637386881524762, 0.4629582949416944, 0.46237282358987525, 0.4608133537511836, 0.45925382672746073, 0.4571093344959163, 0.45457594615850855, 0.45106859083269313, 0.45048203463214803, 0.44911384649402775, 0.4475488241598832, 0.4463745527599889, 0.44344430832409115, 0.4418782282026129, 0.4405069727445515, 0.4387435610602402, 0.4375664060695279, 0.435995766961193, 0.4350119462774071, 0.43363498122458793, 0.43284663432742165, 0.4312711798828761, 0.430876863312046, 0.42949813248504487, 0.4265482442723639, 0.4259563866686347, 0.42516733085917496, 0.42437823093256494, 0.4237856673882222, 0.42319306016816055, 0.4220083369677229, 0.4214150522280826, 0.4210194430263406, 0.4200309547636861, 0.41943742519993393, 0.41884369388075454, 0.4168671746977547, 0.4160752893682987, 0.41449126939666503, 0.41192020059222734, 0.4093466397885634, 0.4075629186690816, 0.40676863728997614, 0.4055768636818671, 0.4031941339814588, 0.4021990009318383, 0.4002083734457074, 0.39762018174798974, 0.39682076451184045, 0.395222206644491, 0.3934234237885378, 0.39142451821451035, 0.3892284692174537, 0.3872282538067529, 0.38422959194323714, 0.3812311643775402, 0.3802283138600383, 0.37902515556614896, 0.3774220913703101, 0.37661956733681456, 0.3752150717594875, 0.37301097465281574, 0.3716047585408595, 0.37059936893033396, 0.36879077392109794, 0.36698115093091827, 0.36436919996700284, 0.3623546901097447, 0.3613449986828216, 0.3593273592913947, 0.35831592877276863, 0.35770885665877744, 0.35649565002448846, 0.35467809859788113, 0.35407145590383493, 0.3522525403829032, 0.3502319228095476, 0.34881550728287797, 0.3478026840179137, 0.3463850140470043, 0.3431520813256639, 0.34193516072902036, 0.33970677109186054, 0.3376775276688952, 0.3360534666020067, 0.33402315247307146, 0.3330071487687557, 0.33057464336336306, 0.3273397614772562, 0.3255162799950361, 0.3238960418330087, 0.3230843869417384, 0.3220701062277601, 0.32004535461979733, 0.3182234181711416, 0.3161980993976567, 0.3145773814070572, 0.31255091912516897, 0.3121450344391449, 0.3103227254635799, 0.30789609920444017, 0.30627810537735145, 0.30325397441502744, 0.3026464007734178, 0.2996193178167962, 0.2975973229059794, 0.29577588488261003, 0.2939550207849661, 0.2929421153513929, 0.29091906592425637, 0.28970394619633505, 0.28767983865672964, 0.2862596926230776, 0.2844344704852535, 0.2820012855599482, 0.27956313490574336, 0.27752849126471313, 0.275290523773853, 0.27366109166671715, 0.2730488207426365, 0.2724366185829549, 0.2708072647636852, 0.2693790676784842, 0.26754150051437897, 0.26631648070950426, 0.26509227800057733, 0.2648879280103079, 0.2638665199318921, 0.2624369313532414, 0.26223200571905037, 0.26182228092343657, 0.26039062461317347, 0.25957143101392577, 0.25834372206594514, 0.257115804911884, 0.2552764222716391, 0.25384498928925814, 0.2513921220915699, 0.24832865199632692, 0.24689620040622853, 0.24526042493662742, 0.24382808267017655, 0.24219150974270967, 0.24137137794259125, 0.2397336228822145, 0.2380974418541703, 0.23564491958904266, 0.23523477316161057, 0.23461987029737041, 0.23380086324780572, 0.232776847573293, 0.2319570352389668, 0.2295089164250868, 0.22665615191378843, 0.22604178590686425, 0.2250186967816793, 0.22358729280987452, 0.22297213000390798, 0.22235707831920148, 0.22112945452222782, 0.21908929380878284, 0.21847561916330951, 0.2168437693612938, 0.21480686291494047, 0.21378655763853593, 0.21195267345899518, 0.2097126036712225, 0.2074731409605826, 0.20706464939470748, 0.20584124233668458, 0.20502437610002133, 0.20359616685980544, 0.20115261227274936, 0.199723982831923, 0.19768586263231722, 0.19727686569517405, 0.19584954258596088, 0.19401642720676276, 0.1923848827811405, 0.18953739401240885, 0.18810557602031092, 0.18626919339349146, 0.185246013607658, 0.18361003635615733, 0.18217815323896713, 0.17973130656496852, 0.17789338984025818, 0.17687121254586927, 0.1756434619319161, 0.17461968075093165, 0.17400323617869187, 0.17154746917881122, 0.17051973724190192, 0.17010765288518595, 0.16969563775900567, 0.16907748960232177, 0.16887077119887692, 0.16866365013983806, 0.16845660516027872, 0.166600167105272, 0.1657732785583491, 0.16371246638450462, 0.1628841528268952, 0.16102705938571776, 0.15999141324086566, 0.1585427542672458, 0.15668374322300566, 0.15523582761390514, 0.15399356037252435, 0.1535787043724813, 0.15213233808755372, 0.1508921617756945, 0.1494463322829279, 0.14820538470646294, 0.14655188209100786, 0.14613688835157826, 0.14551526991091035, 0.14448047857732396, 0.14303368602836514, 0.14117914343849922, 0.1403506287659378, 0.13768017227678356, 0.13664818790211175, 0.13602741922421063, 0.13417421225455853, 0.13314129968083438, 0.13231415337724658, 0.13025921107877506, 0.12820566808157619, 0.12758540798309656, 0.12614350635110863, 0.12490242216001039, 0.12304295205231083, 0.1211861829745192, 0.11871911675754367, 0.11665846215880166, 0.1162448446713809, 0.11500919772923349, 0.11356876044881815, 0.1113209139656152, 0.10988853275533599, 0.10906900556505696, 0.10824996201918685, 0.10702503973103267, 0.10458584406243013, 0.10295399600891099, 0.10193297369412586, 0.10050736051930441, 0.09948479969256459, 0.0982587599084391, 0.09764443802128676, 0.09621513043117444, 0.09438482227462952, 0.0927553980697445, 0.09072968259788186, 0.08910482249369193, 0.08869480261059419, 0.0878771885072938, 0.08685607339395662, 0.08624249678788454, 0.08381018467952735, 0.08238757973715241, 0.0805657341384043, 0.07834459981569852, 0.07793682817204874, 0.07611285365356489, 0.07447956383107984, 0.07263703084468971, 0.07222278137221311, 0.0699733158303242, 0.06894475011630255, 0.0681216306539395, 0.0668900266677338, 0.06586273163506767, 0.06463631181595572, 0.06261019062336516, 0.06077917544628146, 0.05955456174349862, 0.058529847781351105, 0.05832369199889075, 0.05649700002927948, 0.05548183390797263, 0.05289299771971505, 0.051482156744056665, 0.04889274485551329, 0.04729357219011787, 0.04628479869063923, 0.04468521842728457, 0.04387552347779952, 0.042467270935740306, 0.040674331645819725, 0.039669623790008546, 0.03866032595669438, 0.036866981313750734, 0.035285151655575005, 0.03390150306043289, 0.03311353819323954, 0.03213314996136476, 0.030033205986112248, 0.029072545453979137, 0.027744057264162836, 0.02642387863584167, 0.02401624653992601, 0.022674482432173963, 0.0213470365446858, 0.01931195115147186, 0.017990075570021698, 0.016508774421725218, 0.01488090573450788, 0.013246182459039064, 0.012859270221854862, 0.011918705905022284, 0.011344428573831002, 0.011149498825575385, 0.010387746232203201, 0.009450080064031367, 0.009253900519253946, 0.008678402697440583, 0.00809573525143199, 0.007334905781164877, 0.006752553684601502, 0.0059961852334343944, 0.005603246555793, 0.005403097438401879, 0.0037033916135780238, 0.001895664156158558, 0.001622104348163363, 0.00042982538484002297], \"yaxis\": \"y\"}, {\"hovertemplate\": \"patient_id=1318<br>duration=%{x}<br>S=%{y}<extra></extra>\", \"legendgroup\": \"1318\", \"line\": {\"color\": \"#00cc96\", \"dash\": \"solid\"}, \"mode\": \"lines\", \"name\": \"1318\", \"showlegend\": true, \"type\": \"scattergl\", \"x\": [0.0, 1.0, 2.0, 3.0, 4.0, 5.0, 6.0, 7.0, 8.0, 9.0, 10.0, 11.0, 12.0, 13.0, 14.0, 15.0, 16.0, 17.0, 18.0, 19.0, 20.0, 21.0, 22.0, 23.0, 24.0, 25.0, 26.0, 27.0, 28.0, 29.0, 30.0, 31.0, 32.0, 33.0, 34.0, 35.0, 36.0, 37.0, 38.0, 39.0, 40.0, 41.0, 42.0, 43.0, 44.0, 45.0, 46.0, 47.0, 48.0, 49.0, 50.0, 51.0, 52.0, 53.0, 54.0, 55.0, 56.0, 57.0, 58.0, 59.0, 60.0, 61.0, 62.0, 63.0, 64.0, 65.0, 66.0, 67.0, 68.0, 69.0, 70.0, 71.0, 72.0, 73.0, 74.0, 75.0, 76.0, 77.0, 78.0, 79.0, 80.0, 81.0, 82.0, 83.0, 84.0, 85.0, 86.0, 87.0, 88.0, 89.0, 90.0, 91.0, 92.0, 93.0, 94.0, 95.0, 96.0, 97.0, 98.0, 99.0, 100.0, 101.0, 102.0, 103.0, 104.0, 105.0, 106.0, 107.0, 108.0, 109.0, 110.0, 111.0, 112.0, 113.0, 114.0, 115.0, 116.0, 117.0, 118.0, 119.0, 120.0, 121.0, 122.0, 123.0, 124.0, 125.0, 126.0, 127.0, 128.0, 129.0, 130.0, 131.0, 132.0, 133.0, 134.0, 135.0, 136.0, 137.0, 138.0, 139.0, 140.0, 141.0, 142.0, 143.0, 144.0, 145.0, 146.0, 147.0, 148.0, 149.0, 150.0, 151.0, 152.0, 153.0, 154.0, 155.0, 156.0, 157.0, 158.0, 159.0, 160.0, 161.0, 162.0, 163.0, 164.0, 165.0, 166.0, 167.0, 168.0, 169.0, 170.0, 171.0, 172.0, 173.0, 174.0, 175.0, 176.0, 177.0, 178.0, 179.0, 180.0, 181.0, 182.0, 183.0, 184.0, 185.0, 186.0, 187.0, 188.0, 189.0, 190.0, 191.0, 192.0, 193.0, 194.0, 195.0, 196.0, 197.0, 198.0, 199.0, 200.0, 201.0, 202.0, 203.0, 204.0, 205.0, 206.0, 207.0, 208.0, 209.0, 210.0, 211.0, 212.0, 213.0, 214.0, 215.0, 216.0, 217.0, 218.0, 219.0, 220.0, 221.0, 222.0, 223.0, 224.0, 225.0, 226.0, 227.0, 228.0, 229.0, 230.0, 231.0, 232.0, 233.0, 234.0, 235.0, 236.0, 237.0, 238.0, 239.0, 240.0, 241.0, 242.0, 243.0, 244.0, 245.0, 246.0, 247.0, 248.0, 249.0, 250.0, 251.0, 252.0, 253.0, 254.0, 255.0, 256.0, 257.0, 258.0, 259.0, 260.0, 261.0, 262.0, 263.0, 264.0, 265.0, 266.0, 267.0, 268.0, 269.0, 270.0, 271.0, 272.0, 273.0, 274.0, 275.0, 276.0, 277.0, 278.0, 279.0, 280.0, 281.0, 282.0, 283.0, 284.0, 285.0, 286.0, 287.0, 288.0, 289.0, 290.0, 291.0, 292.0, 293.0, 294.0, 295.0, 296.0, 297.0, 298.0, 299.0, 300.0, 301.0, 302.0, 303.0, 304.0, 305.0, 306.0, 307.0, 308.0, 309.0, 310.0, 311.0, 312.0, 313.0, 314.0, 315.0, 316.0, 317.0, 318.0, 319.0, 320.0, 321.0, 322.0, 323.0, 324.0, 325.0, 326.0, 327.0, 328.0, 329.0, 330.0, 331.0, 332.0, 333.0, 334.0, 335.0, 336.0, 337.0, 338.0, 339.0, 340.0, 341.0, 342.0, 343.0, 344.0, 345.0, 346.0, 347.0, 348.0, 349.0, 350.0, 351.0, 352.0, 353.0, 354.0, 355.0, 356.0, 357.0, 358.0, 359.0, 360.0, 361.0, 362.0, 363.0, 364.0, 365.0, 366.0, 367.0, 368.0, 369.0, 370.0, 371.0, 372.0, 373.0, 374.0, 375.0, 376.0, 377.0, 378.0, 379.0, 380.0, 381.0, 382.0, 383.0, 384.0, 385.0, 386.0, 387.0, 388.0, 389.0, 390.0, 391.0, 392.0, 393.0, 394.0, 395.0, 396.0, 397.0, 398.0, 399.0, 400.0, 401.0, 402.0, 403.0, 404.0, 405.0, 406.0, 407.0, 408.0, 409.0, 410.0, 411.0, 412.0, 413.0, 414.0, 415.0, 416.0, 417.0, 418.0, 419.0, 421.0, 422.0, 423.0, 424.0, 425.0, 426.0, 427.0, 428.0, 429.0, 430.0, 431.0, 432.0, 433.0, 434.0, 435.0, 436.0, 437.0, 438.0, 439.0, 440.0, 441.0, 442.0, 443.0, 444.0, 445.0, 446.0, 447.0, 448.0, 449.0, 450.0, 451.0, 452.0, 453.0, 454.0, 455.0, 456.0, 457.0, 458.0, 459.0, 460.0, 461.0, 462.0, 463.0, 464.0, 465.0, 466.0, 467.0, 468.0, 469.0, 470.0, 471.0, 472.0, 473.0, 474.0, 475.0, 476.0, 477.0, 478.0, 479.0, 480.0, 481.0, 482.0, 483.0, 484.0, 485.0, 486.0, 487.0, 488.0, 489.0, 490.0, 491.0, 492.0, 493.0, 494.0, 495.0, 496.0, 497.0, 498.0, 499.0, 500.0, 501.0, 502.0, 503.0, 504.0, 505.0, 506.0, 507.0, 508.0, 509.0, 510.0, 511.0, 512.0, 513.0, 514.0, 515.0, 516.0, 517.0, 518.0, 519.0, 520.0, 521.0, 522.0, 523.0, 524.0, 525.0, 526.0, 527.0, 528.0, 529.0, 530.0, 531.0, 532.0, 533.0, 534.0, 535.0, 536.0, 537.0, 538.0, 539.0, 540.0, 541.0, 542.0, 543.0, 544.0, 545.0, 546.0, 547.0, 548.0, 549.0, 550.0, 551.0, 552.0, 553.0, 554.0, 555.0, 556.0, 557.0, 558.0, 559.0, 560.0, 561.0, 562.0, 563.0, 564.0, 565.0, 566.0, 567.0, 568.0, 569.0, 570.0, 571.0, 572.0, 573.0, 574.0, 575.0, 576.0, 577.0, 578.0, 579.0, 580.0, 581.0, 582.0, 583.0, 584.0, 585.0, 586.0, 587.0, 588.0, 590.0, 591.0, 592.0, 593.0, 594.0, 595.0, 597.0, 598.0, 599.0, 600.0, 601.0, 602.0, 603.0, 604.0, 605.0, 606.0, 607.0, 608.0, 609.0, 610.0, 611.0, 612.0, 613.0, 614.0, 615.0, 616.0, 617.0, 618.0, 619.0, 620.0, 621.0, 622.0, 623.0, 624.0, 625.0, 626.0, 627.0, 628.0, 629.0, 630.0, 631.0, 632.0, 633.0, 634.0, 635.0, 636.0, 637.0, 638.0, 639.0, 640.0, 641.0, 642.0, 643.0, 644.0, 645.0, 646.0, 647.0, 648.0, 649.0, 650.0, 651.0, 652.0, 653.0, 654.0, 655.0, 656.0, 657.0, 658.0, 659.0, 660.0, 661.0, 662.0, 663.0, 664.0, 665.0, 666.0, 667.0, 668.0, 669.0, 670.0, 671.0, 672.0, 673.0, 674.0, 675.0, 676.0, 677.0, 678.0, 679.0, 680.0, 681.0, 682.0, 683.0, 684.0, 685.0, 686.0, 687.0, 688.0, 689.0, 690.0, 691.0, 692.0, 693.0, 694.0, 695.0, 696.0, 697.0, 698.0, 699.0, 700.0, 701.0, 702.0, 703.0, 704.0, 705.0, 706.0, 707.0, 708.0, 709.0, 710.0, 711.0, 713.0, 714.0, 715.0, 716.0, 717.0, 718.0, 719.0, 720.0, 721.0, 722.0, 723.0, 724.0, 725.0, 726.0, 727.0, 728.0, 729.0], \"xaxis\": \"x\", \"y\": [0.999441421249191, 0.9988827761869662, 0.9976253825178129, 0.9958089464214828, 0.9951092031091027, 0.9939885811400103, 0.992164581894598, 0.9903369197171168, 0.9886453893458186, 0.9875140770781811, 0.985531997980097, 0.9846789302647613, 0.9825398948801395, 0.9808246423398157, 0.9795347941963212, 0.9778124156245491, 0.9760857244537847, 0.9752193959071265, 0.9736294959503333, 0.9717477441162882, 0.970006920894022, 0.968989130916796, 0.9676783388082174, 0.9668027311770129, 0.9654870311819649, 0.9638774710247099, 0.9625580482221101, 0.9615297916419253, 0.960205463843109, 0.9590246040078672, 0.9579900620366004, 0.9572496076405244, 0.9553209468847278, 0.9539826927804707, 0.9521974590952201, 0.950707165141286, 0.9498108092465326, 0.9475682269938792, 0.9456213143476819, 0.9444208068507767, 0.9430687647388252, 0.940365152694011, 0.9390107501134088, 0.9382572808276863, 0.9367487064532268, 0.933879248795864, 0.9320629209993245, 0.9305461502853347, 0.9281154794659198, 0.9273543208776359, 0.9261365558375618, 0.9243085176229704, 0.922781007009538, 0.9209455364147893, 0.9189536371075809, 0.9166522988578114, 0.9160373642429464, 0.9143452269267202, 0.9123448606832539, 0.9095736318850455, 0.9081850138059396, 0.906024443209873, 0.9038558623015839, 0.9024599041439743, 0.9010625677623446, 0.8979565382375734, 0.8971777879938392, 0.8948404062847923, 0.8940600645861501, 0.8923433306780639, 0.8917180384413632, 0.8904658830194981, 0.8884304649800573, 0.8854521067314836, 0.8838806832508259, 0.8812062539804087, 0.8780562077854863, 0.876791950009373, 0.8760007390497215, 0.8750508553531424, 0.8736243872879327, 0.8714043538140471, 0.8694992868784668, 0.8682276435447599, 0.8671136234788659, 0.8653620814724349, 0.8637683730779024, 0.8616963425941938, 0.8599421531080768, 0.8588248713809311, 0.8569080900850148, 0.8554579664632828, 0.8536844003006568, 0.8519106830397765, 0.8506197800536577, 0.8490055806640429, 0.8475513242541987, 0.8462571732008334, 0.8452855564882639, 0.8446372979276332, 0.8438268923897929, 0.8425303484206257, 0.8420438733394122, 0.8410709536259064, 0.8396098333115034, 0.8383101288545902, 0.8360338766115925, 0.8350568304339576, 0.833102773082024, 0.8324495242185456, 0.8309800260904736, 0.829508830190338, 0.8286907860759599, 0.8275451003142353, 0.826397990089953, 0.8247579616203299, 0.8226237263973195, 0.8218012355453886, 0.820813897142456, 0.8196614089927187, 0.8185081035838712, 0.8176839211898248, 0.8163652898652067, 0.8148778754371927, 0.8138836141844819, 0.8120613100528243, 0.8099053566104839, 0.8075818646871478, 0.8067505567322383, 0.8055864647029012, 0.8047543808962185, 0.8019272225580474, 0.7999269060030657, 0.7989254807609686, 0.7984242722199096, 0.7970882807164487, 0.7955848944605659, 0.7949161367825065, 0.7934116975936495, 0.7910701855466086, 0.7898982468994142, 0.7888933226682212, 0.7870519907450929, 0.7857120271663213, 0.7853768431459838, 0.7845386435672672, 0.7825279570542346, 0.7818569047663165, 0.7801792177333944, 0.7783322903479883, 0.7766515941233584, 0.7754736256380319, 0.7746313496023168, 0.7717691154039086, 0.7704194657537782, 0.7687318233820877, 0.7663677227474067, 0.7645086885536522, 0.7634935658519301, 0.761970062849021, 0.7607838130693146, 0.7601051826404192, 0.7584089117166992, 0.7572203834587037, 0.7560312655712159, 0.7539926594889368, 0.7521207960753898, 0.7499050588820315, 0.7488805929797312, 0.7470025698959851, 0.7454637013107228, 0.7439237776801808, 0.7423826467626552, 0.7415256099030243, 0.7398122380814854, 0.7384403657832675, 0.7367241731143724, 0.7362085940663017, 0.7351771901021511, 0.7329428373027318, 0.7317378256994759, 0.7301878051475603, 0.7288088315398464, 0.7281181054630353, 0.7267343823562964, 0.7253485633156086, 0.7239625299253944, 0.7218822083097268, 0.7206675407729558, 0.7197990736107904, 0.7187565126070407, 0.7170195763533872, 0.7158027704064087, 0.7154547746575316, 0.7133691270295901, 0.7114549570868243, 0.7105825318637756, 0.7086628272438266, 0.707439401124575, 0.7060403369986424, 0.7051647595709731, 0.7034144573311435, 0.7013133209161223, 0.7006112231492577, 0.6993828548655768, 0.6986803339373837, 0.6972757743553424, 0.6960461401239354, 0.6942899565876706, 0.6927073386676422, 0.6920028831375735, 0.6912979120764196, 0.6902406131909035, 0.6890041139825994, 0.6875903344974462, 0.6863502993282287, 0.6849316327259183, 0.6838671709931364, 0.6828011040128987, 0.6819122335144499, 0.6796026000460772, 0.677289791227856, 0.6753304898778111, 0.6735479368081584, 0.673190586871331, 0.6722974292323236, 0.670868452114459, 0.669081724882316, 0.6683660117200799, 0.6674706954996434, 0.6662176478954319, 0.66460619830627, 0.6635307256526145, 0.6610225448919231, 0.6594072173341506, 0.6588681922280547, 0.6565345248055876, 0.6550954452088145, 0.6541951459139352, 0.6534748261395332, 0.6516743965460835, 0.6507731989946737, 0.6500518772230517, 0.6489695141635147, 0.6471641212121948, 0.6464409709531475, 0.6455365712486089, 0.6446320985357603, 0.6439078433880079, 0.6419175148549549, 0.6401055055458947, 0.6390165224966343, 0.6382902043077264, 0.6368370688651884, 0.6357467227578167, 0.634474244810498, 0.6337465398695298, 0.6321095534005118, 0.630289463508619, 0.6290146445682723, 0.6277384418042082, 0.6262794406448654, 0.6250014902538502, 0.6240878473947807, 0.6218973056827851, 0.6207999568781388, 0.620616716446798, 0.6193346419357888, 0.6173190463688708, 0.6164019726951734, 0.6147525706706639, 0.614201471023266, 0.6134665746632832, 0.6121808860436941, 0.6103448969522802, 0.6092423350655064, 0.6083228294478819, 0.6072191523187281, 0.6059311702354335, 0.6046429072484155, 0.6042743603066101, 0.6031687312363592, 0.6022471146630874, 0.6011411681878461, 0.5996662761177424, 0.5985595254993179, 0.5978214474502657, 0.5974521174580196, 0.5967133044193671, 0.5959738188798701, 0.5939411129844636, 0.5913509480614954, 0.5893138643059359, 0.587831121323741, 0.5870889192718678, 0.5863460160471167, 0.5848611287272198, 0.5828197765751437, 0.5817049520828536, 0.5804040789223087, 0.5778046136716908, 0.577432429217482, 0.5761309385012895, 0.5740871345407669, 0.5725985506743985, 0.5714803707278995, 0.5698036470048006, 0.5679405259267518, 0.5662637603215103, 0.5655174656161346, 0.56365348345659, 0.5617855931437106, 0.5606644376158775, 0.5587969907386517, 0.5571148653471949, 0.5567403164393767, 0.5556167781238645, 0.5548662825006062, 0.5539283340877631, 0.5524261290521201, 0.5514861634475616, 0.5496069688617601, 0.5490422427795542, 0.5471623354263917, 0.545657255848214, 0.5437765975181972, 0.5415186951317733, 0.5401986114115269, 0.5379359460667574, 0.5368030081213259, 0.5358579488968713, 0.5349125187486282, 0.5341553207166236, 0.5326411738989083, 0.5318835350876373, 0.5309368062015172, 0.5309368062015172, 0.5303683441697057, 0.529421158668958, 0.5286627745182201, 0.5277141568860513, 0.5258185911122065, 0.5233541359989083, 0.5229740587464059, 0.5224039591145271, 0.520884446947574, 0.5197434925064105, 0.518982472269768, 0.5180307453559198, 0.5172685894296503, 0.5151745793390481, 0.5142211741939204, 0.512885661771066, 0.5117397295960833, 0.5111661719738249, 0.5102103632020959, 0.5090630795113121, 0.5084889159532426, 0.5069591644412542, 0.5058108112628737, 0.5042784696964984, 0.5025538343554558, 0.5012120740840782, 0.5006359687588003, 0.5000596791901907, 0.49890735330638913, 0.4981299556820115, 0.4979354336340592, 0.4969635244288991, 0.49560203457109675, 0.4930766777588705, 0.4919089800152381, 0.49015898876296393, 0.4884072530094607, 0.48723899224549844, 0.4856820887789331, 0.4847075893349685, 0.48159435608289086, 0.4802288422509449, 0.4790582490877638, 0.47691167232466397, 0.4759331359276854, 0.47456256274912395, 0.47260507641021204, 0.4702567864618313, 0.4694729793691624, 0.46849318096564163, 0.4669249218645255, 0.46555206326468146, 0.4645701148955873, 0.4635881243275315, 0.462409502126184, 0.4618199570243403, 0.4602495848569752, 0.4590713467762213, 0.4578923436980763, 0.45573267581095195, 0.4527902498623783, 0.45121807304619604, 0.45043172752812466, 0.44984182159173836, 0.44827066962990925, 0.4466996494390947, 0.44453966345953483, 0.44198843678131944, 0.4384572215269843, 0.4378667703298181, 0.4364896032984444, 0.4349144935688058, 0.4337327821513032, 0.43078445558882345, 0.4292089956380172, 0.427829690502301, 0.4260561519104509, 0.42487237800668426, 0.42329308418706735, 0.4223039455136485, 0.42091967118695417, 0.4201272099919978, 0.4185436875294093, 0.41814738384246997, 0.41676180667117574, 0.413797802934922, 0.41320320100391444, 0.4124105322717765, 0.411617871621233, 0.41102266870801146, 0.41042745157057087, 0.4092375997389262, 0.40864179137436163, 0.4082445159904207, 0.4072519226673062, 0.40665596821808486, 0.40605984124123606, 0.4040755640688072, 0.4032806644596255, 0.4016907767745752, 0.39911064495013504, 0.3965285867291595, 0.3947393151057174, 0.3939426517952196, 0.3927474082051688, 0.39035811633856987, 0.3893603913434329, 0.3873648430875581, 0.384770782335918, 0.38396967370062507, 0.3823679061279222, 0.3805657874920341, 0.3785635193190108, 0.37636419596869325, 0.37436138271384417, 0.37135951706244935, 0.36835872020977684, 0.36735526452396033, 0.3661515045939921, 0.36454785032968456, 0.3637451219571926, 0.36234041545213186, 0.36013636513975456, 0.3587304210798591, 0.3577253421052694, 0.35591755055301116, 0.3541090475001313, 0.35149927347735543, 0.3494868974825451, 0.34847842533677814, 0.34646352333645763, 0.34545361654355394, 0.34484750772865375, 0.3436363360352554, 0.34182210809198277, 0.3412166482953182, 0.3394015012081892, 0.33738546142269754, 0.3359725016692691, 0.3349622747490399, 0.33354841497511367, 0.33032494343290025, 0.32911186379869317, 0.32689090658630915, 0.32486888266653147, 0.32325091122626876, 0.32122860186843594, 0.3202167680806865, 0.3177946936125867, 0.31457466746896356, 0.3127600588235012, 0.31114800823273675, 0.31034056277516037, 0.30933164393445917, 0.30731793471137414, 0.30550632229829855, 0.3034929136780994, 0.3018820572276921, 0.2998683413196619, 0.29946506543433327, 0.297654699755284, 0.2952445656009685, 0.29363794374839597, 0.29063587939979674, 0.29003286741569684, 0.28702915598443807, 0.2850233739038041, 0.2832169560403111, 0.281411503369557, 0.2804073432205574, 0.27840213107899064, 0.27719796360713306, 0.2751924997399741, 0.27378573418203184, 0.2719780742939955, 0.26956894431810186, 0.26715564026153993, 0.2651423046592549, 0.2629283817828295, 0.2613168591648646, 0.2607114060860243, 0.2601060693528347, 0.258495223965321, 0.25708353411474494, 0.25526759803754945, 0.25405724525197254, 0.2528478978697807, 0.2526460469527684, 0.251637213287637, 0.250225457856613, 0.2500231109417069, 0.24961855888527373, 0.24820515437987822, 0.24739652885907476, 0.24618482834761538, 0.24497312748185143, 0.2431584222445225, 0.2417465156056949, 0.23932776837222286, 0.23630809313676548, 0.2348965738490605, 0.23328505863544838, 0.23187427375409966, 0.23026269335884791, 0.22945523172547103, 0.22784307096786346, 0.2262328513203016, 0.22381998225057292, 0.22341655424973206, 0.22281177078588266, 0.22200632975785145, 0.22099941727466704, 0.2201934111876575, 0.2177871257452359, 0.2149842630238829, 0.21438080765894613, 0.21337601748181026, 0.21197048880089742, 0.21136654454859802, 0.21076276872093938, 0.20955782918678678, 0.20755589452902132, 0.2069538477863038, 0.2053532117327553, 0.20335586918450174, 0.20235563499623288, 0.2005582542905466, 0.19836352500272508, 0.1961702250346664, 0.19577024449386685, 0.19457249577435876, 0.19377290262226324, 0.19237516652789963, 0.1899845602438346, 0.18858736543137056, 0.1865947074068391, 0.18619492143524594, 0.18479997454151803, 0.18300897148330378, 0.18141541538286024, 0.1786353819324108, 0.17723804345682834, 0.17544643749246544, 0.17444847847253145, 0.17285323539669148, 0.17145741998069572, 0.16907311284729054, 0.16728293126200006, 0.1662875869915601, 0.16509233679222707, 0.16409588406960426, 0.16349599493783257, 0.16110693481454919, 0.16010748005085695, 0.15970679403237983, 0.15930620989273056, 0.1587052766956701, 0.15850433268946226, 0.15830300606216552, 0.1581017621869193, 0.15629773374710468, 0.1554944193098322, 0.15349298222846167, 0.1526887857945211, 0.1508862937930906, 0.14988141826335377, 0.1484761901288882, 0.14667358276608303, 0.1452701250982528, 0.14406637281977647, 0.14366445581481, 0.14226350350223693, 0.1410626446353354, 0.13966309639277444, 0.13846225613680624, 0.13686275153445832, 0.1364614107563495, 0.13586031903960497, 0.1348599010064804, 0.13346159565771015, 0.13166994275713134, 0.13086979419559175, 0.12829191676476567, 0.12729618423409522, 0.12669735097330945, 0.1249102094321227, 0.12391450016015437, 0.12311734415896167, 0.12113767953015606, 0.11916047392940557, 0.11856349203601116, 0.11717610488277877, 0.11598239481757232, 0.11419469541460675, 0.11241055274624913, 0.11004149276428983, 0.10806404148880407, 0.10766727389416648, 0.10648226473258018, 0.10510143037823294, 0.10294784502005751, 0.10157633506271949, 0.10079192075632987, 0.1000081790943944, 0.09883644719487729, 0.09650459752137798, 0.09494564349695873, 0.09397067651094344, 0.09260995113887734, 0.09163435565487192, 0.09046509791518809, 0.08987942234394815, 0.08851727372748418, 0.08677401999451884, 0.0852231077506045, 0.08329635374650925, 0.0817519777897055, 0.0813624251689156, 0.08058581625678513, 0.07961627400812075, 0.07903388189832804, 0.07672665186895632, 0.07537830530253588, 0.0736527706129177, 0.07155093793601619, 0.07116529732772055, 0.06944120039439132, 0.06789859406828583, 0.06615980939501205, 0.06576910011019592, 0.06364886795275247, 0.0626801980104316, 0.06190538104654839, 0.06074667420069408, 0.05978076404800706, 0.058628330837696536, 0.056726152716934854, 0.05500902879931971, 0.05386161200840294, 0.052902138645544036, 0.0527091801607576, 0.051000496827258074, 0.05005175920032953, 0.047635150607500266, 0.04631992856949796, 0.04390937696831047, 0.04242292028962419, 0.041486165861019615, 0.04000228049576974, 0.03925186619796808, 0.037947896746661804, 0.036289961575592646, 0.035362036201855934, 0.034430714200792766, 0.032778068833042545, 0.03132271487099805, 0.03005159732681195, 0.029328537731640215, 0.028429761777596707, 0.026507950713258253, 0.025630355690755183, 0.02441844621471715, 0.02321616354707029, 0.02102912290314542, 0.01981363210721277, 0.018613631367714604, 0.01677914616579322, 0.015591212270050584, 0.014263710425437006, 0.01280976519368916, 0.011355399717142256, 0.011012082307250435, 0.010179050633231771, 0.009671568336018161, 0.009499516805842913, 0.008828212967872184, 0.00800430339660135, 0.007832283018234602, 0.007328416122275922, 0.00681948422884561, 0.006156914181334371, 0.005651411857421144, 0.004997194900186625, 0.004658461804066958, 0.0044862445387500545, 0.003033868905941679, 0.0015163496290762938, 0.0012903454256670249, 0.00032611815911781194], \"yaxis\": \"y\"}],                        {\"height\": 400, \"legend\": {\"title\": {\"text\": \"patient_id\"}, \"tracegroupgap\": 0}, \"margin\": {\"t\": 60}, \"template\": {\"data\": {\"bar\": [{\"error_x\": {\"color\": \"#2a3f5f\"}, \"error_y\": {\"color\": \"#2a3f5f\"}, \"marker\": {\"line\": {\"color\": \"white\", \"width\": 0.5}}, \"type\": \"bar\"}], \"barpolar\": [{\"marker\": {\"line\": {\"color\": \"white\", \"width\": 0.5}}, \"type\": \"barpolar\"}], \"carpet\": [{\"aaxis\": {\"endlinecolor\": \"#2a3f5f\", \"gridcolor\": \"#C8D4E3\", \"linecolor\": \"#C8D4E3\", \"minorgridcolor\": \"#C8D4E3\", \"startlinecolor\": \"#2a3f5f\"}, \"baxis\": {\"endlinecolor\": \"#2a3f5f\", \"gridcolor\": \"#C8D4E3\", \"linecolor\": \"#C8D4E3\", \"minorgridcolor\": \"#C8D4E3\", \"startlinecolor\": \"#2a3f5f\"}, \"type\": \"carpet\"}], \"choropleth\": [{\"colorbar\": {\"outlinewidth\": 0, \"ticks\": \"\"}, \"type\": \"choropleth\"}], \"contour\": [{\"colorbar\": {\"outlinewidth\": 0, \"ticks\": \"\"}, \"colorscale\": [[0.0, \"#0d0887\"], [0.1111111111111111, \"#46039f\"], [0.2222222222222222, \"#7201a8\"], [0.3333333333333333, \"#9c179e\"], [0.4444444444444444, \"#bd3786\"], [0.5555555555555556, \"#d8576b\"], [0.6666666666666666, \"#ed7953\"], [0.7777777777777778, \"#fb9f3a\"], [0.8888888888888888, \"#fdca26\"], [1.0, \"#f0f921\"]], \"type\": \"contour\"}], \"contourcarpet\": [{\"colorbar\": {\"outlinewidth\": 0, \"ticks\": \"\"}, \"type\": \"contourcarpet\"}], \"heatmap\": [{\"colorbar\": {\"outlinewidth\": 0, \"ticks\": \"\"}, \"colorscale\": [[0.0, \"#0d0887\"], [0.1111111111111111, \"#46039f\"], [0.2222222222222222, \"#7201a8\"], [0.3333333333333333, \"#9c179e\"], [0.4444444444444444, \"#bd3786\"], [0.5555555555555556, \"#d8576b\"], [0.6666666666666666, \"#ed7953\"], [0.7777777777777778, \"#fb9f3a\"], [0.8888888888888888, \"#fdca26\"], [1.0, \"#f0f921\"]], \"type\": \"heatmap\"}], \"heatmapgl\": [{\"colorbar\": {\"outlinewidth\": 0, \"ticks\": \"\"}, \"colorscale\": [[0.0, \"#0d0887\"], [0.1111111111111111, \"#46039f\"], [0.2222222222222222, \"#7201a8\"], [0.3333333333333333, \"#9c179e\"], [0.4444444444444444, \"#bd3786\"], [0.5555555555555556, \"#d8576b\"], [0.6666666666666666, \"#ed7953\"], [0.7777777777777778, \"#fb9f3a\"], [0.8888888888888888, \"#fdca26\"], [1.0, \"#f0f921\"]], \"type\": \"heatmapgl\"}], \"histogram\": [{\"marker\": {\"colorbar\": {\"outlinewidth\": 0, \"ticks\": \"\"}}, \"type\": \"histogram\"}], \"histogram2d\": [{\"colorbar\": {\"outlinewidth\": 0, \"ticks\": \"\"}, \"colorscale\": [[0.0, \"#0d0887\"], [0.1111111111111111, \"#46039f\"], [0.2222222222222222, \"#7201a8\"], [0.3333333333333333, \"#9c179e\"], [0.4444444444444444, \"#bd3786\"], [0.5555555555555556, \"#d8576b\"], [0.6666666666666666, \"#ed7953\"], [0.7777777777777778, \"#fb9f3a\"], [0.8888888888888888, \"#fdca26\"], [1.0, \"#f0f921\"]], \"type\": \"histogram2d\"}], \"histogram2dcontour\": [{\"colorbar\": {\"outlinewidth\": 0, \"ticks\": \"\"}, \"colorscale\": [[0.0, \"#0d0887\"], [0.1111111111111111, \"#46039f\"], [0.2222222222222222, \"#7201a8\"], [0.3333333333333333, \"#9c179e\"], [0.4444444444444444, \"#bd3786\"], [0.5555555555555556, \"#d8576b\"], [0.6666666666666666, \"#ed7953\"], [0.7777777777777778, \"#fb9f3a\"], [0.8888888888888888, \"#fdca26\"], [1.0, \"#f0f921\"]], \"type\": \"histogram2dcontour\"}], \"mesh3d\": [{\"colorbar\": {\"outlinewidth\": 0, \"ticks\": \"\"}, \"type\": \"mesh3d\"}], \"parcoords\": [{\"line\": {\"colorbar\": {\"outlinewidth\": 0, \"ticks\": \"\"}}, \"type\": \"parcoords\"}], \"pie\": [{\"automargin\": true, \"type\": \"pie\"}], \"scatter\": [{\"marker\": {\"colorbar\": {\"outlinewidth\": 0, \"ticks\": \"\"}}, \"type\": \"scatter\"}], \"scatter3d\": [{\"line\": {\"colorbar\": {\"outlinewidth\": 0, \"ticks\": \"\"}}, \"marker\": {\"colorbar\": {\"outlinewidth\": 0, \"ticks\": \"\"}}, \"type\": \"scatter3d\"}], \"scattercarpet\": [{\"marker\": {\"colorbar\": {\"outlinewidth\": 0, \"ticks\": \"\"}}, \"type\": \"scattercarpet\"}], \"scattergeo\": [{\"marker\": {\"colorbar\": {\"outlinewidth\": 0, \"ticks\": \"\"}}, \"type\": \"scattergeo\"}], \"scattergl\": [{\"marker\": {\"colorbar\": {\"outlinewidth\": 0, \"ticks\": \"\"}}, \"type\": \"scattergl\"}], \"scattermapbox\": [{\"marker\": {\"colorbar\": {\"outlinewidth\": 0, \"ticks\": \"\"}}, \"type\": \"scattermapbox\"}], \"scatterpolar\": [{\"marker\": {\"colorbar\": {\"outlinewidth\": 0, \"ticks\": \"\"}}, \"type\": \"scatterpolar\"}], \"scatterpolargl\": [{\"marker\": {\"colorbar\": {\"outlinewidth\": 0, \"ticks\": \"\"}}, \"type\": \"scatterpolargl\"}], \"scatterternary\": [{\"marker\": {\"colorbar\": {\"outlinewidth\": 0, \"ticks\": \"\"}}, \"type\": \"scatterternary\"}], \"surface\": [{\"colorbar\": {\"outlinewidth\": 0, \"ticks\": \"\"}, \"colorscale\": [[0.0, \"#0d0887\"], [0.1111111111111111, \"#46039f\"], [0.2222222222222222, \"#7201a8\"], [0.3333333333333333, \"#9c179e\"], [0.4444444444444444, \"#bd3786\"], [0.5555555555555556, \"#d8576b\"], [0.6666666666666666, \"#ed7953\"], [0.7777777777777778, \"#fb9f3a\"], [0.8888888888888888, \"#fdca26\"], [1.0, \"#f0f921\"]], \"type\": \"surface\"}], \"table\": [{\"cells\": {\"fill\": {\"color\": \"#EBF0F8\"}, \"line\": {\"color\": \"white\"}}, \"header\": {\"fill\": {\"color\": \"#C8D4E3\"}, \"line\": {\"color\": \"white\"}}, \"type\": \"table\"}]}, \"layout\": {\"annotationdefaults\": {\"arrowcolor\": \"#2a3f5f\", \"arrowhead\": 0, \"arrowwidth\": 1}, \"autotypenumbers\": \"strict\", \"coloraxis\": {\"colorbar\": {\"outlinewidth\": 0, \"ticks\": \"\"}}, \"colorscale\": {\"diverging\": [[0, \"#8e0152\"], [0.1, \"#c51b7d\"], [0.2, \"#de77ae\"], [0.3, \"#f1b6da\"], [0.4, \"#fde0ef\"], [0.5, \"#f7f7f7\"], [0.6, \"#e6f5d0\"], [0.7, \"#b8e186\"], [0.8, \"#7fbc41\"], [0.9, \"#4d9221\"], [1, \"#276419\"]], \"sequential\": [[0.0, \"#0d0887\"], [0.1111111111111111, \"#46039f\"], [0.2222222222222222, \"#7201a8\"], [0.3333333333333333, \"#9c179e\"], [0.4444444444444444, \"#bd3786\"], [0.5555555555555556, \"#d8576b\"], [0.6666666666666666, \"#ed7953\"], [0.7777777777777778, \"#fb9f3a\"], [0.8888888888888888, \"#fdca26\"], [1.0, \"#f0f921\"]], \"sequentialminus\": [[0.0, \"#0d0887\"], [0.1111111111111111, \"#46039f\"], [0.2222222222222222, \"#7201a8\"], [0.3333333333333333, \"#9c179e\"], [0.4444444444444444, \"#bd3786\"], [0.5555555555555556, \"#d8576b\"], [0.6666666666666666, \"#ed7953\"], [0.7777777777777778, \"#fb9f3a\"], [0.8888888888888888, \"#fdca26\"], [1.0, \"#f0f921\"]]}, \"colorway\": [\"#636efa\", \"#EF553B\", \"#00cc96\", \"#ab63fa\", \"#FFA15A\", \"#19d3f3\", \"#FF6692\", \"#B6E880\", \"#FF97FF\", \"#FECB52\"], \"font\": {\"color\": \"#2a3f5f\"}, \"geo\": {\"bgcolor\": \"white\", \"lakecolor\": \"white\", \"landcolor\": \"white\", \"showlakes\": true, \"showland\": true, \"subunitcolor\": \"#C8D4E3\"}, \"hoverlabel\": {\"align\": \"left\"}, \"hovermode\": \"closest\", \"mapbox\": {\"style\": \"light\"}, \"paper_bgcolor\": \"white\", \"plot_bgcolor\": \"white\", \"polar\": {\"angularaxis\": {\"gridcolor\": \"#EBF0F8\", \"linecolor\": \"#EBF0F8\", \"ticks\": \"\"}, \"bgcolor\": \"white\", \"radialaxis\": {\"gridcolor\": \"#EBF0F8\", \"linecolor\": \"#EBF0F8\", \"ticks\": \"\"}}, \"scene\": {\"xaxis\": {\"backgroundcolor\": \"white\", \"gridcolor\": \"#DFE8F3\", \"gridwidth\": 2, \"linecolor\": \"#EBF0F8\", \"showbackground\": true, \"ticks\": \"\", \"zerolinecolor\": \"#EBF0F8\"}, \"yaxis\": {\"backgroundcolor\": \"white\", \"gridcolor\": \"#DFE8F3\", \"gridwidth\": 2, \"linecolor\": \"#EBF0F8\", \"showbackground\": true, \"ticks\": \"\", \"zerolinecolor\": \"#EBF0F8\"}, \"zaxis\": {\"backgroundcolor\": \"white\", \"gridcolor\": \"#DFE8F3\", \"gridwidth\": 2, \"linecolor\": \"#EBF0F8\", \"showbackground\": true, \"ticks\": \"\", \"zerolinecolor\": \"#EBF0F8\"}}, \"shapedefaults\": {\"line\": {\"color\": \"#2a3f5f\"}}, \"ternary\": {\"aaxis\": {\"gridcolor\": \"#DFE8F3\", \"linecolor\": \"#A2B1C6\", \"ticks\": \"\"}, \"baxis\": {\"gridcolor\": \"#DFE8F3\", \"linecolor\": \"#A2B1C6\", \"ticks\": \"\"}, \"bgcolor\": \"white\", \"caxis\": {\"gridcolor\": \"#DFE8F3\", \"linecolor\": \"#A2B1C6\", \"ticks\": \"\"}}, \"title\": {\"x\": 0.05}, \"xaxis\": {\"automargin\": true, \"gridcolor\": \"#EBF0F8\", \"linecolor\": \"#EBF0F8\", \"ticks\": \"\", \"title\": {\"standoff\": 15}, \"zerolinecolor\": \"#EBF0F8\", \"zerolinewidth\": 2}, \"yaxis\": {\"automargin\": true, \"gridcolor\": \"#EBF0F8\", \"linecolor\": \"#EBF0F8\", \"ticks\": \"\", \"title\": {\"standoff\": 15}, \"zerolinecolor\": \"#EBF0F8\", \"zerolinewidth\": 2}}}, \"width\": 800, \"xaxis\": {\"anchor\": \"y\", \"domain\": [0.0, 1.0], \"title\": {\"text\": \"duration\"}}, \"yaxis\": {\"anchor\": \"x\", \"domain\": [0.0, 1.0], \"title\": {\"text\": \"S\"}}},                        {\"responsive\": true}                    ).then(function(){\n",
       "                            \n",
       "var gd = document.getElementById('f4f4b1f0-91ed-4c5f-b2bd-1e55e184ff66');\n",
       "var x = new MutationObserver(function (mutations, observer) {{\n",
       "        var display = window.getComputedStyle(gd).display;\n",
       "        if (!display || display === 'none') {{\n",
       "            console.log([gd, 'removed!']);\n",
       "            Plotly.purge(gd);\n",
       "            observer.disconnect();\n",
       "        }}\n",
       "}});\n",
       "\n",
       "// Listen for the removal of the full notebook cells\n",
       "var notebookContainer = gd.closest('#notebook-container');\n",
       "if (notebookContainer) {{\n",
       "    x.observe(notebookContainer, {childList: true});\n",
       "}}\n",
       "\n",
       "// Listen for the clearing of the current output cell\n",
       "var outputEl = gd.closest('.output');\n",
       "if (outputEl) {{\n",
       "    x.observe(outputEl, {childList: true});\n",
       "}}\n",
       "\n",
       "                        })                };                });            </script>        </div>"
      ]
     },
     "metadata": {},
     "output_type": "display_data"
    }
   ],
   "source": [
    "N = 3\n",
    "surv_df = surv[np.random.choice(surv.columns, N)]\\\n",
    "    .reset_index().melt(id_vars=\"duration\", var_name=\"patient_id\", value_name=\"S\")\n",
    "px.line(surv_df, x=\"duration\", y=\"S\", color=\"patient_id\", width=800, height = 400)"
   ]
  },
  {
   "cell_type": "code",
   "execution_count": 95,
   "id": "b067dd07",
   "metadata": {
    "hidden": true
   },
   "outputs": [],
   "source": [
    "ev = EvalSurv(surv, test[1][0], test[1][1], censor_surv='km')"
   ]
  },
  {
   "cell_type": "code",
   "execution_count": 97,
   "id": "e6abd6bb",
   "metadata": {
    "hidden": true
   },
   "outputs": [
    {
     "data": {
      "text/plain": [
       "2800"
      ]
     },
     "execution_count": 97,
     "metadata": {},
     "output_type": "execute_result"
    }
   ],
   "source": [
    "test[1][0].shape[0]"
   ]
  },
  {
   "cell_type": "code",
   "execution_count": 100,
   "id": "2de54039",
   "metadata": {
    "hidden": true
   },
   "outputs": [
    {
     "data": {
      "text/plain": [
       "(48,)"
      ]
     },
     "execution_count": 100,
     "metadata": {},
     "output_type": "execute_result"
    }
   ],
   "source": [
    "test[0][0].shape"
   ]
  },
  {
   "cell_type": "code",
   "execution_count": 98,
   "id": "3b485c8f",
   "metadata": {
    "hidden": true
   },
   "outputs": [
    {
     "data": {
      "text/plain": [
       "4000"
      ]
     },
     "execution_count": 98,
     "metadata": {},
     "output_type": "execute_result"
    }
   ],
   "source": [
    "surv.shape[1]"
   ]
  },
  {
   "cell_type": "code",
   "execution_count": 96,
   "id": "37c6077b",
   "metadata": {
    "hidden": true
   },
   "outputs": [
    {
     "ename": "AssertionError",
     "evalue": "",
     "output_type": "error",
     "traceback": [
      "\u001b[0;31m---------------------------------------------------------------------------\u001b[0m",
      "\u001b[0;31mAssertionError\u001b[0m                            Traceback (most recent call last)",
      "\u001b[0;32m<ipython-input-96-442535b1efb6>\u001b[0m in \u001b[0;36m<module>\u001b[0;34m\u001b[0m\n\u001b[0;32m----> 1\u001b[0;31m \u001b[0mev\u001b[0m\u001b[0;34m.\u001b[0m\u001b[0mconcordance_td\u001b[0m\u001b[0;34m(\u001b[0m\u001b[0;34m)\u001b[0m\u001b[0;34m\u001b[0m\u001b[0;34m\u001b[0m\u001b[0m\n\u001b[0m",
      "\u001b[0;32m/usr/local/lib/python3.9/site-packages/pycox/evaluation/eval_surv.py\u001b[0m in \u001b[0;36mconcordance_td\u001b[0;34m(self, method)\u001b[0m\n\u001b[1;32m    188\u001b[0m             \u001b[0mfloat\u001b[0m \u001b[0;34m-\u001b[0m\u001b[0;34m-\u001b[0m \u001b[0mTime\u001b[0m \u001b[0mdependent\u001b[0m \u001b[0mconcordance\u001b[0m \u001b[0mindex\u001b[0m\u001b[0;34m.\u001b[0m\u001b[0;34m\u001b[0m\u001b[0;34m\u001b[0m\u001b[0m\n\u001b[1;32m    189\u001b[0m         \"\"\"\n\u001b[0;32m--> 190\u001b[0;31m         return concordance_td(self.durations, self.events, self.surv.values,\n\u001b[0m\u001b[1;32m    191\u001b[0m                               self._duration_idx(), method)\n\u001b[1;32m    192\u001b[0m \u001b[0;34m\u001b[0m\u001b[0m\n",
      "\u001b[0;32m/usr/local/lib/python3.9/site-packages/pycox/evaluation/concordance.py\u001b[0m in \u001b[0;36mconcordance_td\u001b[0;34m(durations, events, surv, surv_idx, method)\u001b[0m\n\u001b[1;32m     91\u001b[0m     \u001b[0;32mif\u001b[0m \u001b[0mnp\u001b[0m\u001b[0;34m.\u001b[0m\u001b[0misfortran\u001b[0m\u001b[0;34m(\u001b[0m\u001b[0msurv\u001b[0m\u001b[0;34m)\u001b[0m\u001b[0;34m:\u001b[0m\u001b[0;34m\u001b[0m\u001b[0;34m\u001b[0m\u001b[0m\n\u001b[1;32m     92\u001b[0m         \u001b[0msurv\u001b[0m \u001b[0;34m=\u001b[0m \u001b[0mnp\u001b[0m\u001b[0;34m.\u001b[0m\u001b[0marray\u001b[0m\u001b[0;34m(\u001b[0m\u001b[0msurv\u001b[0m\u001b[0;34m,\u001b[0m \u001b[0morder\u001b[0m\u001b[0;34m=\u001b[0m\u001b[0;34m'C'\u001b[0m\u001b[0;34m)\u001b[0m\u001b[0;34m\u001b[0m\u001b[0;34m\u001b[0m\u001b[0m\n\u001b[0;32m---> 93\u001b[0;31m     \u001b[0;32massert\u001b[0m \u001b[0mdurations\u001b[0m\u001b[0;34m.\u001b[0m\u001b[0mshape\u001b[0m\u001b[0;34m[\u001b[0m\u001b[0;36m0\u001b[0m\u001b[0;34m]\u001b[0m \u001b[0;34m==\u001b[0m \u001b[0msurv\u001b[0m\u001b[0;34m.\u001b[0m\u001b[0mshape\u001b[0m\u001b[0;34m[\u001b[0m\u001b[0;36m1\u001b[0m\u001b[0;34m]\u001b[0m \u001b[0;34m==\u001b[0m \u001b[0msurv_idx\u001b[0m\u001b[0;34m.\u001b[0m\u001b[0mshape\u001b[0m\u001b[0;34m[\u001b[0m\u001b[0;36m0\u001b[0m\u001b[0;34m]\u001b[0m \u001b[0;34m==\u001b[0m \u001b[0mevents\u001b[0m\u001b[0;34m.\u001b[0m\u001b[0mshape\u001b[0m\u001b[0;34m[\u001b[0m\u001b[0;36m0\u001b[0m\u001b[0;34m]\u001b[0m\u001b[0;34m\u001b[0m\u001b[0;34m\u001b[0m\u001b[0m\n\u001b[0m\u001b[1;32m     94\u001b[0m     \u001b[0;32massert\u001b[0m \u001b[0mtype\u001b[0m\u001b[0;34m(\u001b[0m\u001b[0mdurations\u001b[0m\u001b[0;34m)\u001b[0m \u001b[0;32mis\u001b[0m \u001b[0mtype\u001b[0m\u001b[0;34m(\u001b[0m\u001b[0mevents\u001b[0m\u001b[0;34m)\u001b[0m \u001b[0;32mis\u001b[0m \u001b[0mtype\u001b[0m\u001b[0;34m(\u001b[0m\u001b[0msurv\u001b[0m\u001b[0;34m)\u001b[0m \u001b[0;32mis\u001b[0m \u001b[0mtype\u001b[0m\u001b[0;34m(\u001b[0m\u001b[0msurv_idx\u001b[0m\u001b[0;34m)\u001b[0m \u001b[0;32mis\u001b[0m \u001b[0mnp\u001b[0m\u001b[0;34m.\u001b[0m\u001b[0mndarray\u001b[0m\u001b[0;34m\u001b[0m\u001b[0;34m\u001b[0m\u001b[0m\n\u001b[1;32m     95\u001b[0m     \u001b[0;32mif\u001b[0m \u001b[0mevents\u001b[0m\u001b[0;34m.\u001b[0m\u001b[0mdtype\u001b[0m \u001b[0;32min\u001b[0m \u001b[0;34m(\u001b[0m\u001b[0;34m'float'\u001b[0m\u001b[0;34m,\u001b[0m \u001b[0;34m'float32'\u001b[0m\u001b[0;34m)\u001b[0m\u001b[0;34m:\u001b[0m\u001b[0;34m\u001b[0m\u001b[0;34m\u001b[0m\u001b[0m\n",
      "\u001b[0;31mAssertionError\u001b[0m: "
     ]
    }
   ],
   "source": [
    "ev.concordance_td()"
   ]
  },
  {
   "cell_type": "code",
   "execution_count": 157,
   "id": "d0712d9a",
   "metadata": {
    "hidden": true
   },
   "outputs": [],
   "source": [
    "time_grid = np.linspace(durations_test.min(), durations_test.max(), 100)\n",
    "brier_scores = ev.brier_score(time_grid)"
   ]
  },
  {
   "cell_type": "code",
   "execution_count": 158,
   "id": "a125b8dd",
   "metadata": {
    "hidden": true
   },
   "outputs": [
    {
     "data": {
      "application/vnd.plotly.v1+json": {
       "config": {
        "plotlyServerURL": "https://plotly.com"
       },
       "data": [
        {
         "hovertemplate": "duration=%{x}<br>brier_score=%{y}<extra></extra>",
         "legendgroup": "",
         "line": {
          "color": "#636efa",
          "dash": "solid"
         },
         "mode": "lines",
         "name": "",
         "orientation": "v",
         "showlegend": false,
         "type": "scatter",
         "x": [
          1,
          8.353535353535353,
          15.707070707070708,
          23.060606060606062,
          30.414141414141415,
          37.76767676767677,
          45.121212121212125,
          52.474747474747474,
          59.82828282828283,
          67.18181818181819,
          74.53535353535354,
          81.88888888888889,
          89.24242424242425,
          96.5959595959596,
          103.94949494949495,
          111.30303030303031,
          118.65656565656566,
          126.01010101010101,
          133.36363636363637,
          140.7171717171717,
          148.07070707070707,
          155.42424242424244,
          162.77777777777777,
          170.13131313131314,
          177.4848484848485,
          184.83838383838383,
          192.1919191919192,
          199.54545454545456,
          206.8989898989899,
          214.25252525252526,
          221.60606060606062,
          228.95959595959596,
          236.31313131313132,
          243.66666666666669,
          251.02020202020202,
          258.37373737373736,
          265.72727272727275,
          273.0808080808081,
          280.4343434343434,
          287.7878787878788,
          295.14141414141415,
          302.4949494949495,
          309.8484848484849,
          317.2020202020202,
          324.55555555555554,
          331.90909090909093,
          339.26262626262627,
          346.6161616161616,
          353.969696969697,
          361.32323232323233,
          368.67676767676767,
          376.03030303030306,
          383.3838383838384,
          390.73737373737373,
          398.0909090909091,
          405.44444444444446,
          412.7979797979798,
          420.1515151515152,
          427.5050505050505,
          434.85858585858585,
          442.21212121212125,
          449.5656565656566,
          456.9191919191919,
          464.2727272727273,
          471.62626262626264,
          478.979797979798,
          486.33333333333337,
          493.6868686868687,
          501.04040404040404,
          508.39393939393943,
          515.7474747474747,
          523.1010101010102,
          530.4545454545455,
          537.8080808080808,
          545.1616161616162,
          552.5151515151515,
          559.8686868686868,
          567.2222222222223,
          574.5757575757576,
          581.929292929293,
          589.2828282828283,
          596.6363636363636,
          603.989898989899,
          611.3434343434344,
          618.6969696969697,
          626.0505050505051,
          633.4040404040404,
          640.7575757575758,
          648.1111111111111,
          655.4646464646465,
          662.8181818181819,
          670.1717171717172,
          677.5252525252525,
          684.8787878787879,
          692.2323232323232,
          699.5858585858587,
          706.939393939394,
          714.2929292929293,
          721.6464646464647,
          729
         ],
         "xaxis": "x",
         "y": [
          0.0009992450102498291,
          0.011611136816216729,
          0.02182287213384353,
          0.028598835150747178,
          0.03790108107368422,
          0.04860192871475912,
          0.056774286567667726,
          0.06632457992955226,
          0.07773014358890953,
          0.09115097353250683,
          0.09897842778540315,
          0.1057247352543293,
          0.1178391240594434,
          0.12644970160331248,
          0.13333957080741166,
          0.1394289174080416,
          0.14626862327014092,
          0.15458627630076027,
          0.15898325688696807,
          0.16368652221449628,
          0.16991322408736642,
          0.1739788937381999,
          0.17856354327774457,
          0.1822532415922988,
          0.18648345312161285,
          0.18995469003984974,
          0.19478603084360102,
          0.19775014098259316,
          0.19976753296377003,
          0.20163543110134427,
          0.2042352288934431,
          0.2064863645159464,
          0.20884150974286075,
          0.21092416317198395,
          0.21276866646638112,
          0.21466120787034149,
          0.21605882294342665,
          0.21727986835432847,
          0.21853016068777711,
          0.2200834275318006,
          0.2210139228405968,
          0.22243886982811875,
          0.22333249486199472,
          0.22417988217588128,
          0.22448252931833715,
          0.22489066146059347,
          0.22488636782784288,
          0.22450695035755705,
          0.22432204462149183,
          0.22435893832890227,
          0.22454777150420316,
          0.224735060384765,
          0.22469892373143302,
          0.22410914352137465,
          0.2235346124297946,
          0.22315388088662624,
          0.22204244585371768,
          0.22106226724896186,
          0.2199194984498291,
          0.21893258640428617,
          0.21624230958034663,
          0.21391665313613498,
          0.21108548339268,
          0.20749134928781285,
          0.2041402988886178,
          0.20154050657924083,
          0.19743729005463082,
          0.19423534958088218,
          0.1893226815056281,
          0.18501236311388627,
          0.18092983012069017,
          0.17628343281680087,
          0.17458094170368502,
          0.17021833185797525,
          0.1655365432268715,
          0.1614693815610671,
          0.1564762501695442,
          0.14936506392433807,
          0.14539318321440978,
          0.1403233286287457,
          0.1320726466500695,
          0.12880000181380655,
          0.12499316831491493,
          0.11764410116688206,
          0.11072477119651525,
          0.10620121331064791,
          0.09971270728514614,
          0.09430881833178648,
          0.0858799639556444,
          0.07884342003650989,
          0.07326461736593035,
          0.06337270515368074,
          0.05696860260032142,
          0.04707051469939026,
          0.03694264272819153,
          0.026971143266309883,
          0.014200145667811,
          0.007730083850136724,
          0.005467304230046179,
          5.724624187713338e-06
         ],
         "yaxis": "y"
        }
       ],
       "layout": {
        "height": 400,
        "legend": {
         "tracegroupgap": 0
        },
        "margin": {
         "t": 60
        },
        "template": {
         "data": {
          "bar": [
           {
            "error_x": {
             "color": "#2a3f5f"
            },
            "error_y": {
             "color": "#2a3f5f"
            },
            "marker": {
             "line": {
              "color": "white",
              "width": 0.5
             }
            },
            "type": "bar"
           }
          ],
          "barpolar": [
           {
            "marker": {
             "line": {
              "color": "white",
              "width": 0.5
             }
            },
            "type": "barpolar"
           }
          ],
          "carpet": [
           {
            "aaxis": {
             "endlinecolor": "#2a3f5f",
             "gridcolor": "#C8D4E3",
             "linecolor": "#C8D4E3",
             "minorgridcolor": "#C8D4E3",
             "startlinecolor": "#2a3f5f"
            },
            "baxis": {
             "endlinecolor": "#2a3f5f",
             "gridcolor": "#C8D4E3",
             "linecolor": "#C8D4E3",
             "minorgridcolor": "#C8D4E3",
             "startlinecolor": "#2a3f5f"
            },
            "type": "carpet"
           }
          ],
          "choropleth": [
           {
            "colorbar": {
             "outlinewidth": 0,
             "ticks": ""
            },
            "type": "choropleth"
           }
          ],
          "contour": [
           {
            "colorbar": {
             "outlinewidth": 0,
             "ticks": ""
            },
            "colorscale": [
             [
              0,
              "#0d0887"
             ],
             [
              0.1111111111111111,
              "#46039f"
             ],
             [
              0.2222222222222222,
              "#7201a8"
             ],
             [
              0.3333333333333333,
              "#9c179e"
             ],
             [
              0.4444444444444444,
              "#bd3786"
             ],
             [
              0.5555555555555556,
              "#d8576b"
             ],
             [
              0.6666666666666666,
              "#ed7953"
             ],
             [
              0.7777777777777778,
              "#fb9f3a"
             ],
             [
              0.8888888888888888,
              "#fdca26"
             ],
             [
              1,
              "#f0f921"
             ]
            ],
            "type": "contour"
           }
          ],
          "contourcarpet": [
           {
            "colorbar": {
             "outlinewidth": 0,
             "ticks": ""
            },
            "type": "contourcarpet"
           }
          ],
          "heatmap": [
           {
            "colorbar": {
             "outlinewidth": 0,
             "ticks": ""
            },
            "colorscale": [
             [
              0,
              "#0d0887"
             ],
             [
              0.1111111111111111,
              "#46039f"
             ],
             [
              0.2222222222222222,
              "#7201a8"
             ],
             [
              0.3333333333333333,
              "#9c179e"
             ],
             [
              0.4444444444444444,
              "#bd3786"
             ],
             [
              0.5555555555555556,
              "#d8576b"
             ],
             [
              0.6666666666666666,
              "#ed7953"
             ],
             [
              0.7777777777777778,
              "#fb9f3a"
             ],
             [
              0.8888888888888888,
              "#fdca26"
             ],
             [
              1,
              "#f0f921"
             ]
            ],
            "type": "heatmap"
           }
          ],
          "heatmapgl": [
           {
            "colorbar": {
             "outlinewidth": 0,
             "ticks": ""
            },
            "colorscale": [
             [
              0,
              "#0d0887"
             ],
             [
              0.1111111111111111,
              "#46039f"
             ],
             [
              0.2222222222222222,
              "#7201a8"
             ],
             [
              0.3333333333333333,
              "#9c179e"
             ],
             [
              0.4444444444444444,
              "#bd3786"
             ],
             [
              0.5555555555555556,
              "#d8576b"
             ],
             [
              0.6666666666666666,
              "#ed7953"
             ],
             [
              0.7777777777777778,
              "#fb9f3a"
             ],
             [
              0.8888888888888888,
              "#fdca26"
             ],
             [
              1,
              "#f0f921"
             ]
            ],
            "type": "heatmapgl"
           }
          ],
          "histogram": [
           {
            "marker": {
             "colorbar": {
              "outlinewidth": 0,
              "ticks": ""
             }
            },
            "type": "histogram"
           }
          ],
          "histogram2d": [
           {
            "colorbar": {
             "outlinewidth": 0,
             "ticks": ""
            },
            "colorscale": [
             [
              0,
              "#0d0887"
             ],
             [
              0.1111111111111111,
              "#46039f"
             ],
             [
              0.2222222222222222,
              "#7201a8"
             ],
             [
              0.3333333333333333,
              "#9c179e"
             ],
             [
              0.4444444444444444,
              "#bd3786"
             ],
             [
              0.5555555555555556,
              "#d8576b"
             ],
             [
              0.6666666666666666,
              "#ed7953"
             ],
             [
              0.7777777777777778,
              "#fb9f3a"
             ],
             [
              0.8888888888888888,
              "#fdca26"
             ],
             [
              1,
              "#f0f921"
             ]
            ],
            "type": "histogram2d"
           }
          ],
          "histogram2dcontour": [
           {
            "colorbar": {
             "outlinewidth": 0,
             "ticks": ""
            },
            "colorscale": [
             [
              0,
              "#0d0887"
             ],
             [
              0.1111111111111111,
              "#46039f"
             ],
             [
              0.2222222222222222,
              "#7201a8"
             ],
             [
              0.3333333333333333,
              "#9c179e"
             ],
             [
              0.4444444444444444,
              "#bd3786"
             ],
             [
              0.5555555555555556,
              "#d8576b"
             ],
             [
              0.6666666666666666,
              "#ed7953"
             ],
             [
              0.7777777777777778,
              "#fb9f3a"
             ],
             [
              0.8888888888888888,
              "#fdca26"
             ],
             [
              1,
              "#f0f921"
             ]
            ],
            "type": "histogram2dcontour"
           }
          ],
          "mesh3d": [
           {
            "colorbar": {
             "outlinewidth": 0,
             "ticks": ""
            },
            "type": "mesh3d"
           }
          ],
          "parcoords": [
           {
            "line": {
             "colorbar": {
              "outlinewidth": 0,
              "ticks": ""
             }
            },
            "type": "parcoords"
           }
          ],
          "pie": [
           {
            "automargin": true,
            "type": "pie"
           }
          ],
          "scatter": [
           {
            "marker": {
             "colorbar": {
              "outlinewidth": 0,
              "ticks": ""
             }
            },
            "type": "scatter"
           }
          ],
          "scatter3d": [
           {
            "line": {
             "colorbar": {
              "outlinewidth": 0,
              "ticks": ""
             }
            },
            "marker": {
             "colorbar": {
              "outlinewidth": 0,
              "ticks": ""
             }
            },
            "type": "scatter3d"
           }
          ],
          "scattercarpet": [
           {
            "marker": {
             "colorbar": {
              "outlinewidth": 0,
              "ticks": ""
             }
            },
            "type": "scattercarpet"
           }
          ],
          "scattergeo": [
           {
            "marker": {
             "colorbar": {
              "outlinewidth": 0,
              "ticks": ""
             }
            },
            "type": "scattergeo"
           }
          ],
          "scattergl": [
           {
            "marker": {
             "colorbar": {
              "outlinewidth": 0,
              "ticks": ""
             }
            },
            "type": "scattergl"
           }
          ],
          "scattermapbox": [
           {
            "marker": {
             "colorbar": {
              "outlinewidth": 0,
              "ticks": ""
             }
            },
            "type": "scattermapbox"
           }
          ],
          "scatterpolar": [
           {
            "marker": {
             "colorbar": {
              "outlinewidth": 0,
              "ticks": ""
             }
            },
            "type": "scatterpolar"
           }
          ],
          "scatterpolargl": [
           {
            "marker": {
             "colorbar": {
              "outlinewidth": 0,
              "ticks": ""
             }
            },
            "type": "scatterpolargl"
           }
          ],
          "scatterternary": [
           {
            "marker": {
             "colorbar": {
              "outlinewidth": 0,
              "ticks": ""
             }
            },
            "type": "scatterternary"
           }
          ],
          "surface": [
           {
            "colorbar": {
             "outlinewidth": 0,
             "ticks": ""
            },
            "colorscale": [
             [
              0,
              "#0d0887"
             ],
             [
              0.1111111111111111,
              "#46039f"
             ],
             [
              0.2222222222222222,
              "#7201a8"
             ],
             [
              0.3333333333333333,
              "#9c179e"
             ],
             [
              0.4444444444444444,
              "#bd3786"
             ],
             [
              0.5555555555555556,
              "#d8576b"
             ],
             [
              0.6666666666666666,
              "#ed7953"
             ],
             [
              0.7777777777777778,
              "#fb9f3a"
             ],
             [
              0.8888888888888888,
              "#fdca26"
             ],
             [
              1,
              "#f0f921"
             ]
            ],
            "type": "surface"
           }
          ],
          "table": [
           {
            "cells": {
             "fill": {
              "color": "#EBF0F8"
             },
             "line": {
              "color": "white"
             }
            },
            "header": {
             "fill": {
              "color": "#C8D4E3"
             },
             "line": {
              "color": "white"
             }
            },
            "type": "table"
           }
          ]
         },
         "layout": {
          "annotationdefaults": {
           "arrowcolor": "#2a3f5f",
           "arrowhead": 0,
           "arrowwidth": 1
          },
          "autotypenumbers": "strict",
          "coloraxis": {
           "colorbar": {
            "outlinewidth": 0,
            "ticks": ""
           }
          },
          "colorscale": {
           "diverging": [
            [
             0,
             "#8e0152"
            ],
            [
             0.1,
             "#c51b7d"
            ],
            [
             0.2,
             "#de77ae"
            ],
            [
             0.3,
             "#f1b6da"
            ],
            [
             0.4,
             "#fde0ef"
            ],
            [
             0.5,
             "#f7f7f7"
            ],
            [
             0.6,
             "#e6f5d0"
            ],
            [
             0.7,
             "#b8e186"
            ],
            [
             0.8,
             "#7fbc41"
            ],
            [
             0.9,
             "#4d9221"
            ],
            [
             1,
             "#276419"
            ]
           ],
           "sequential": [
            [
             0,
             "#0d0887"
            ],
            [
             0.1111111111111111,
             "#46039f"
            ],
            [
             0.2222222222222222,
             "#7201a8"
            ],
            [
             0.3333333333333333,
             "#9c179e"
            ],
            [
             0.4444444444444444,
             "#bd3786"
            ],
            [
             0.5555555555555556,
             "#d8576b"
            ],
            [
             0.6666666666666666,
             "#ed7953"
            ],
            [
             0.7777777777777778,
             "#fb9f3a"
            ],
            [
             0.8888888888888888,
             "#fdca26"
            ],
            [
             1,
             "#f0f921"
            ]
           ],
           "sequentialminus": [
            [
             0,
             "#0d0887"
            ],
            [
             0.1111111111111111,
             "#46039f"
            ],
            [
             0.2222222222222222,
             "#7201a8"
            ],
            [
             0.3333333333333333,
             "#9c179e"
            ],
            [
             0.4444444444444444,
             "#bd3786"
            ],
            [
             0.5555555555555556,
             "#d8576b"
            ],
            [
             0.6666666666666666,
             "#ed7953"
            ],
            [
             0.7777777777777778,
             "#fb9f3a"
            ],
            [
             0.8888888888888888,
             "#fdca26"
            ],
            [
             1,
             "#f0f921"
            ]
           ]
          },
          "colorway": [
           "#636efa",
           "#EF553B",
           "#00cc96",
           "#ab63fa",
           "#FFA15A",
           "#19d3f3",
           "#FF6692",
           "#B6E880",
           "#FF97FF",
           "#FECB52"
          ],
          "font": {
           "color": "#2a3f5f"
          },
          "geo": {
           "bgcolor": "white",
           "lakecolor": "white",
           "landcolor": "white",
           "showlakes": true,
           "showland": true,
           "subunitcolor": "#C8D4E3"
          },
          "hoverlabel": {
           "align": "left"
          },
          "hovermode": "closest",
          "mapbox": {
           "style": "light"
          },
          "paper_bgcolor": "white",
          "plot_bgcolor": "white",
          "polar": {
           "angularaxis": {
            "gridcolor": "#EBF0F8",
            "linecolor": "#EBF0F8",
            "ticks": ""
           },
           "bgcolor": "white",
           "radialaxis": {
            "gridcolor": "#EBF0F8",
            "linecolor": "#EBF0F8",
            "ticks": ""
           }
          },
          "scene": {
           "xaxis": {
            "backgroundcolor": "white",
            "gridcolor": "#DFE8F3",
            "gridwidth": 2,
            "linecolor": "#EBF0F8",
            "showbackground": true,
            "ticks": "",
            "zerolinecolor": "#EBF0F8"
           },
           "yaxis": {
            "backgroundcolor": "white",
            "gridcolor": "#DFE8F3",
            "gridwidth": 2,
            "linecolor": "#EBF0F8",
            "showbackground": true,
            "ticks": "",
            "zerolinecolor": "#EBF0F8"
           },
           "zaxis": {
            "backgroundcolor": "white",
            "gridcolor": "#DFE8F3",
            "gridwidth": 2,
            "linecolor": "#EBF0F8",
            "showbackground": true,
            "ticks": "",
            "zerolinecolor": "#EBF0F8"
           }
          },
          "shapedefaults": {
           "line": {
            "color": "#2a3f5f"
           }
          },
          "ternary": {
           "aaxis": {
            "gridcolor": "#DFE8F3",
            "linecolor": "#A2B1C6",
            "ticks": ""
           },
           "baxis": {
            "gridcolor": "#DFE8F3",
            "linecolor": "#A2B1C6",
            "ticks": ""
           },
           "bgcolor": "white",
           "caxis": {
            "gridcolor": "#DFE8F3",
            "linecolor": "#A2B1C6",
            "ticks": ""
           }
          },
          "title": {
           "x": 0.05
          },
          "xaxis": {
           "automargin": true,
           "gridcolor": "#EBF0F8",
           "linecolor": "#EBF0F8",
           "ticks": "",
           "title": {
            "standoff": 15
           },
           "zerolinecolor": "#EBF0F8",
           "zerolinewidth": 2
          },
          "yaxis": {
           "automargin": true,
           "gridcolor": "#EBF0F8",
           "linecolor": "#EBF0F8",
           "ticks": "",
           "title": {
            "standoff": 15
           },
           "zerolinecolor": "#EBF0F8",
           "zerolinewidth": 2
          }
         }
        },
        "width": 800,
        "xaxis": {
         "anchor": "y",
         "domain": [
          0,
          1
         ],
         "title": {
          "text": "duration"
         }
        },
        "yaxis": {
         "anchor": "x",
         "domain": [
          0,
          1
         ],
         "title": {
          "text": "brier_score"
         }
        }
       }
      },
      "text/html": [
       "<div>                            <div id=\"696d9c65-df40-4975-9c0f-d00600331235\" class=\"plotly-graph-div\" style=\"height:400px; width:800px;\"></div>            <script type=\"text/javascript\">                require([\"plotly\"], function(Plotly) {                    window.PLOTLYENV=window.PLOTLYENV || {};                                    if (document.getElementById(\"696d9c65-df40-4975-9c0f-d00600331235\")) {                    Plotly.newPlot(                        \"696d9c65-df40-4975-9c0f-d00600331235\",                        [{\"hovertemplate\": \"duration=%{x}<br>brier_score=%{y}<extra></extra>\", \"legendgroup\": \"\", \"line\": {\"color\": \"#636efa\", \"dash\": \"solid\"}, \"mode\": \"lines\", \"name\": \"\", \"orientation\": \"v\", \"showlegend\": false, \"type\": \"scatter\", \"x\": [1.0, 8.353535353535353, 15.707070707070708, 23.060606060606062, 30.414141414141415, 37.76767676767677, 45.121212121212125, 52.474747474747474, 59.82828282828283, 67.18181818181819, 74.53535353535354, 81.88888888888889, 89.24242424242425, 96.5959595959596, 103.94949494949495, 111.30303030303031, 118.65656565656566, 126.01010101010101, 133.36363636363637, 140.7171717171717, 148.07070707070707, 155.42424242424244, 162.77777777777777, 170.13131313131314, 177.4848484848485, 184.83838383838383, 192.1919191919192, 199.54545454545456, 206.8989898989899, 214.25252525252526, 221.60606060606062, 228.95959595959596, 236.31313131313132, 243.66666666666669, 251.02020202020202, 258.37373737373736, 265.72727272727275, 273.0808080808081, 280.4343434343434, 287.7878787878788, 295.14141414141415, 302.4949494949495, 309.8484848484849, 317.2020202020202, 324.55555555555554, 331.90909090909093, 339.26262626262627, 346.6161616161616, 353.969696969697, 361.32323232323233, 368.67676767676767, 376.03030303030306, 383.3838383838384, 390.73737373737373, 398.0909090909091, 405.44444444444446, 412.7979797979798, 420.1515151515152, 427.5050505050505, 434.85858585858585, 442.21212121212125, 449.5656565656566, 456.9191919191919, 464.2727272727273, 471.62626262626264, 478.979797979798, 486.33333333333337, 493.6868686868687, 501.04040404040404, 508.39393939393943, 515.7474747474747, 523.1010101010102, 530.4545454545455, 537.8080808080808, 545.1616161616162, 552.5151515151515, 559.8686868686868, 567.2222222222223, 574.5757575757576, 581.929292929293, 589.2828282828283, 596.6363636363636, 603.989898989899, 611.3434343434344, 618.6969696969697, 626.0505050505051, 633.4040404040404, 640.7575757575758, 648.1111111111111, 655.4646464646465, 662.8181818181819, 670.1717171717172, 677.5252525252525, 684.8787878787879, 692.2323232323232, 699.5858585858587, 706.939393939394, 714.2929292929293, 721.6464646464647, 729.0], \"xaxis\": \"x\", \"y\": [0.0009992450102498291, 0.011611136816216729, 0.02182287213384353, 0.028598835150747178, 0.03790108107368422, 0.04860192871475912, 0.056774286567667726, 0.06632457992955226, 0.07773014358890953, 0.09115097353250683, 0.09897842778540315, 0.1057247352543293, 0.1178391240594434, 0.12644970160331248, 0.13333957080741166, 0.1394289174080416, 0.14626862327014092, 0.15458627630076027, 0.15898325688696807, 0.16368652221449628, 0.16991322408736642, 0.1739788937381999, 0.17856354327774457, 0.1822532415922988, 0.18648345312161285, 0.18995469003984974, 0.19478603084360102, 0.19775014098259316, 0.19976753296377003, 0.20163543110134427, 0.2042352288934431, 0.2064863645159464, 0.20884150974286075, 0.21092416317198395, 0.21276866646638112, 0.21466120787034149, 0.21605882294342665, 0.21727986835432847, 0.21853016068777711, 0.2200834275318006, 0.2210139228405968, 0.22243886982811875, 0.22333249486199472, 0.22417988217588128, 0.22448252931833715, 0.22489066146059347, 0.22488636782784288, 0.22450695035755705, 0.22432204462149183, 0.22435893832890227, 0.22454777150420316, 0.224735060384765, 0.22469892373143302, 0.22410914352137465, 0.2235346124297946, 0.22315388088662624, 0.22204244585371768, 0.22106226724896186, 0.2199194984498291, 0.21893258640428617, 0.21624230958034663, 0.21391665313613498, 0.21108548339268, 0.20749134928781285, 0.2041402988886178, 0.20154050657924083, 0.19743729005463082, 0.19423534958088218, 0.1893226815056281, 0.18501236311388627, 0.18092983012069017, 0.17628343281680087, 0.17458094170368502, 0.17021833185797525, 0.1655365432268715, 0.1614693815610671, 0.1564762501695442, 0.14936506392433807, 0.14539318321440978, 0.1403233286287457, 0.1320726466500695, 0.12880000181380655, 0.12499316831491493, 0.11764410116688206, 0.11072477119651525, 0.10620121331064791, 0.09971270728514614, 0.09430881833178648, 0.0858799639556444, 0.07884342003650989, 0.07326461736593035, 0.06337270515368074, 0.05696860260032142, 0.04707051469939026, 0.03694264272819153, 0.026971143266309883, 0.014200145667811, 0.007730083850136724, 0.005467304230046179, 5.724624187713338e-06], \"yaxis\": \"y\"}],                        {\"height\": 400, \"legend\": {\"tracegroupgap\": 0}, \"margin\": {\"t\": 60}, \"template\": {\"data\": {\"bar\": [{\"error_x\": {\"color\": \"#2a3f5f\"}, \"error_y\": {\"color\": \"#2a3f5f\"}, \"marker\": {\"line\": {\"color\": \"white\", \"width\": 0.5}}, \"type\": \"bar\"}], \"barpolar\": [{\"marker\": {\"line\": {\"color\": \"white\", \"width\": 0.5}}, \"type\": \"barpolar\"}], \"carpet\": [{\"aaxis\": {\"endlinecolor\": \"#2a3f5f\", \"gridcolor\": \"#C8D4E3\", \"linecolor\": \"#C8D4E3\", \"minorgridcolor\": \"#C8D4E3\", \"startlinecolor\": \"#2a3f5f\"}, \"baxis\": {\"endlinecolor\": \"#2a3f5f\", \"gridcolor\": \"#C8D4E3\", \"linecolor\": \"#C8D4E3\", \"minorgridcolor\": \"#C8D4E3\", \"startlinecolor\": \"#2a3f5f\"}, \"type\": \"carpet\"}], \"choropleth\": [{\"colorbar\": {\"outlinewidth\": 0, \"ticks\": \"\"}, \"type\": \"choropleth\"}], \"contour\": [{\"colorbar\": {\"outlinewidth\": 0, \"ticks\": \"\"}, \"colorscale\": [[0.0, \"#0d0887\"], [0.1111111111111111, \"#46039f\"], [0.2222222222222222, \"#7201a8\"], [0.3333333333333333, \"#9c179e\"], [0.4444444444444444, \"#bd3786\"], [0.5555555555555556, \"#d8576b\"], [0.6666666666666666, \"#ed7953\"], [0.7777777777777778, \"#fb9f3a\"], [0.8888888888888888, \"#fdca26\"], [1.0, \"#f0f921\"]], \"type\": \"contour\"}], \"contourcarpet\": [{\"colorbar\": {\"outlinewidth\": 0, \"ticks\": \"\"}, \"type\": \"contourcarpet\"}], \"heatmap\": [{\"colorbar\": {\"outlinewidth\": 0, \"ticks\": \"\"}, \"colorscale\": [[0.0, \"#0d0887\"], [0.1111111111111111, \"#46039f\"], [0.2222222222222222, \"#7201a8\"], [0.3333333333333333, \"#9c179e\"], [0.4444444444444444, \"#bd3786\"], [0.5555555555555556, \"#d8576b\"], [0.6666666666666666, \"#ed7953\"], [0.7777777777777778, \"#fb9f3a\"], [0.8888888888888888, \"#fdca26\"], [1.0, \"#f0f921\"]], \"type\": \"heatmap\"}], \"heatmapgl\": [{\"colorbar\": {\"outlinewidth\": 0, \"ticks\": \"\"}, \"colorscale\": [[0.0, \"#0d0887\"], [0.1111111111111111, \"#46039f\"], [0.2222222222222222, \"#7201a8\"], [0.3333333333333333, \"#9c179e\"], [0.4444444444444444, \"#bd3786\"], [0.5555555555555556, \"#d8576b\"], [0.6666666666666666, \"#ed7953\"], [0.7777777777777778, \"#fb9f3a\"], [0.8888888888888888, \"#fdca26\"], [1.0, \"#f0f921\"]], \"type\": \"heatmapgl\"}], \"histogram\": [{\"marker\": {\"colorbar\": {\"outlinewidth\": 0, \"ticks\": \"\"}}, \"type\": \"histogram\"}], \"histogram2d\": [{\"colorbar\": {\"outlinewidth\": 0, \"ticks\": \"\"}, \"colorscale\": [[0.0, \"#0d0887\"], [0.1111111111111111, \"#46039f\"], [0.2222222222222222, \"#7201a8\"], [0.3333333333333333, \"#9c179e\"], [0.4444444444444444, \"#bd3786\"], [0.5555555555555556, \"#d8576b\"], [0.6666666666666666, \"#ed7953\"], [0.7777777777777778, \"#fb9f3a\"], [0.8888888888888888, \"#fdca26\"], [1.0, \"#f0f921\"]], \"type\": \"histogram2d\"}], \"histogram2dcontour\": [{\"colorbar\": {\"outlinewidth\": 0, \"ticks\": \"\"}, \"colorscale\": [[0.0, \"#0d0887\"], [0.1111111111111111, \"#46039f\"], [0.2222222222222222, \"#7201a8\"], [0.3333333333333333, \"#9c179e\"], [0.4444444444444444, \"#bd3786\"], [0.5555555555555556, \"#d8576b\"], [0.6666666666666666, \"#ed7953\"], [0.7777777777777778, \"#fb9f3a\"], [0.8888888888888888, \"#fdca26\"], [1.0, \"#f0f921\"]], \"type\": \"histogram2dcontour\"}], \"mesh3d\": [{\"colorbar\": {\"outlinewidth\": 0, \"ticks\": \"\"}, \"type\": \"mesh3d\"}], \"parcoords\": [{\"line\": {\"colorbar\": {\"outlinewidth\": 0, \"ticks\": \"\"}}, \"type\": \"parcoords\"}], \"pie\": [{\"automargin\": true, \"type\": \"pie\"}], \"scatter\": [{\"marker\": {\"colorbar\": {\"outlinewidth\": 0, \"ticks\": \"\"}}, \"type\": \"scatter\"}], \"scatter3d\": [{\"line\": {\"colorbar\": {\"outlinewidth\": 0, \"ticks\": \"\"}}, \"marker\": {\"colorbar\": {\"outlinewidth\": 0, \"ticks\": \"\"}}, \"type\": \"scatter3d\"}], \"scattercarpet\": [{\"marker\": {\"colorbar\": {\"outlinewidth\": 0, \"ticks\": \"\"}}, \"type\": \"scattercarpet\"}], \"scattergeo\": [{\"marker\": {\"colorbar\": {\"outlinewidth\": 0, \"ticks\": \"\"}}, \"type\": \"scattergeo\"}], \"scattergl\": [{\"marker\": {\"colorbar\": {\"outlinewidth\": 0, \"ticks\": \"\"}}, \"type\": \"scattergl\"}], \"scattermapbox\": [{\"marker\": {\"colorbar\": {\"outlinewidth\": 0, \"ticks\": \"\"}}, \"type\": \"scattermapbox\"}], \"scatterpolar\": [{\"marker\": {\"colorbar\": {\"outlinewidth\": 0, \"ticks\": \"\"}}, \"type\": \"scatterpolar\"}], \"scatterpolargl\": [{\"marker\": {\"colorbar\": {\"outlinewidth\": 0, \"ticks\": \"\"}}, \"type\": \"scatterpolargl\"}], \"scatterternary\": [{\"marker\": {\"colorbar\": {\"outlinewidth\": 0, \"ticks\": \"\"}}, \"type\": \"scatterternary\"}], \"surface\": [{\"colorbar\": {\"outlinewidth\": 0, \"ticks\": \"\"}, \"colorscale\": [[0.0, \"#0d0887\"], [0.1111111111111111, \"#46039f\"], [0.2222222222222222, \"#7201a8\"], [0.3333333333333333, \"#9c179e\"], [0.4444444444444444, \"#bd3786\"], [0.5555555555555556, \"#d8576b\"], [0.6666666666666666, \"#ed7953\"], [0.7777777777777778, \"#fb9f3a\"], [0.8888888888888888, \"#fdca26\"], [1.0, \"#f0f921\"]], \"type\": \"surface\"}], \"table\": [{\"cells\": {\"fill\": {\"color\": \"#EBF0F8\"}, \"line\": {\"color\": \"white\"}}, \"header\": {\"fill\": {\"color\": \"#C8D4E3\"}, \"line\": {\"color\": \"white\"}}, \"type\": \"table\"}]}, \"layout\": {\"annotationdefaults\": {\"arrowcolor\": \"#2a3f5f\", \"arrowhead\": 0, \"arrowwidth\": 1}, \"autotypenumbers\": \"strict\", \"coloraxis\": {\"colorbar\": {\"outlinewidth\": 0, \"ticks\": \"\"}}, \"colorscale\": {\"diverging\": [[0, \"#8e0152\"], [0.1, \"#c51b7d\"], [0.2, \"#de77ae\"], [0.3, \"#f1b6da\"], [0.4, \"#fde0ef\"], [0.5, \"#f7f7f7\"], [0.6, \"#e6f5d0\"], [0.7, \"#b8e186\"], [0.8, \"#7fbc41\"], [0.9, \"#4d9221\"], [1, \"#276419\"]], \"sequential\": [[0.0, \"#0d0887\"], [0.1111111111111111, \"#46039f\"], [0.2222222222222222, \"#7201a8\"], [0.3333333333333333, \"#9c179e\"], [0.4444444444444444, \"#bd3786\"], [0.5555555555555556, \"#d8576b\"], [0.6666666666666666, \"#ed7953\"], [0.7777777777777778, \"#fb9f3a\"], [0.8888888888888888, \"#fdca26\"], [1.0, \"#f0f921\"]], \"sequentialminus\": [[0.0, \"#0d0887\"], [0.1111111111111111, \"#46039f\"], [0.2222222222222222, \"#7201a8\"], [0.3333333333333333, \"#9c179e\"], [0.4444444444444444, \"#bd3786\"], [0.5555555555555556, \"#d8576b\"], [0.6666666666666666, \"#ed7953\"], [0.7777777777777778, \"#fb9f3a\"], [0.8888888888888888, \"#fdca26\"], [1.0, \"#f0f921\"]]}, \"colorway\": [\"#636efa\", \"#EF553B\", \"#00cc96\", \"#ab63fa\", \"#FFA15A\", \"#19d3f3\", \"#FF6692\", \"#B6E880\", \"#FF97FF\", \"#FECB52\"], \"font\": {\"color\": \"#2a3f5f\"}, \"geo\": {\"bgcolor\": \"white\", \"lakecolor\": \"white\", \"landcolor\": \"white\", \"showlakes\": true, \"showland\": true, \"subunitcolor\": \"#C8D4E3\"}, \"hoverlabel\": {\"align\": \"left\"}, \"hovermode\": \"closest\", \"mapbox\": {\"style\": \"light\"}, \"paper_bgcolor\": \"white\", \"plot_bgcolor\": \"white\", \"polar\": {\"angularaxis\": {\"gridcolor\": \"#EBF0F8\", \"linecolor\": \"#EBF0F8\", \"ticks\": \"\"}, \"bgcolor\": \"white\", \"radialaxis\": {\"gridcolor\": \"#EBF0F8\", \"linecolor\": \"#EBF0F8\", \"ticks\": \"\"}}, \"scene\": {\"xaxis\": {\"backgroundcolor\": \"white\", \"gridcolor\": \"#DFE8F3\", \"gridwidth\": 2, \"linecolor\": \"#EBF0F8\", \"showbackground\": true, \"ticks\": \"\", \"zerolinecolor\": \"#EBF0F8\"}, \"yaxis\": {\"backgroundcolor\": \"white\", \"gridcolor\": \"#DFE8F3\", \"gridwidth\": 2, \"linecolor\": \"#EBF0F8\", \"showbackground\": true, \"ticks\": \"\", \"zerolinecolor\": \"#EBF0F8\"}, \"zaxis\": {\"backgroundcolor\": \"white\", \"gridcolor\": \"#DFE8F3\", \"gridwidth\": 2, \"linecolor\": \"#EBF0F8\", \"showbackground\": true, \"ticks\": \"\", \"zerolinecolor\": \"#EBF0F8\"}}, \"shapedefaults\": {\"line\": {\"color\": \"#2a3f5f\"}}, \"ternary\": {\"aaxis\": {\"gridcolor\": \"#DFE8F3\", \"linecolor\": \"#A2B1C6\", \"ticks\": \"\"}, \"baxis\": {\"gridcolor\": \"#DFE8F3\", \"linecolor\": \"#A2B1C6\", \"ticks\": \"\"}, \"bgcolor\": \"white\", \"caxis\": {\"gridcolor\": \"#DFE8F3\", \"linecolor\": \"#A2B1C6\", \"ticks\": \"\"}}, \"title\": {\"x\": 0.05}, \"xaxis\": {\"automargin\": true, \"gridcolor\": \"#EBF0F8\", \"linecolor\": \"#EBF0F8\", \"ticks\": \"\", \"title\": {\"standoff\": 15}, \"zerolinecolor\": \"#EBF0F8\", \"zerolinewidth\": 2}, \"yaxis\": {\"automargin\": true, \"gridcolor\": \"#EBF0F8\", \"linecolor\": \"#EBF0F8\", \"ticks\": \"\", \"title\": {\"standoff\": 15}, \"zerolinecolor\": \"#EBF0F8\", \"zerolinewidth\": 2}}}, \"width\": 800, \"xaxis\": {\"anchor\": \"y\", \"domain\": [0.0, 1.0], \"title\": {\"text\": \"duration\"}}, \"yaxis\": {\"anchor\": \"x\", \"domain\": [0.0, 1.0], \"title\": {\"text\": \"brier_score\"}}},                        {\"responsive\": true}                    ).then(function(){\n",
       "                            \n",
       "var gd = document.getElementById('696d9c65-df40-4975-9c0f-d00600331235');\n",
       "var x = new MutationObserver(function (mutations, observer) {{\n",
       "        var display = window.getComputedStyle(gd).display;\n",
       "        if (!display || display === 'none') {{\n",
       "            console.log([gd, 'removed!']);\n",
       "            Plotly.purge(gd);\n",
       "            observer.disconnect();\n",
       "        }}\n",
       "}});\n",
       "\n",
       "// Listen for the removal of the full notebook cells\n",
       "var notebookContainer = gd.closest('#notebook-container');\n",
       "if (notebookContainer) {{\n",
       "    x.observe(notebookContainer, {childList: true});\n",
       "}}\n",
       "\n",
       "// Listen for the clearing of the current output cell\n",
       "var outputEl = gd.closest('.output');\n",
       "if (outputEl) {{\n",
       "    x.observe(outputEl, {childList: true});\n",
       "}}\n",
       "\n",
       "                        })                };                });            </script>        </div>"
      ]
     },
     "metadata": {},
     "output_type": "display_data"
    }
   ],
   "source": [
    "brier_scores_df = pd.DataFrame(brier_scores).reset_index().rename(columns={\"index\":\"duration\"})\n",
    "px.line(brier_scores_df, x=\"duration\", y=\"brier_score\", width=800, height = 400)"
   ]
  },
  {
   "cell_type": "code",
   "execution_count": 159,
   "id": "8cb659d4",
   "metadata": {
    "hidden": true
   },
   "outputs": [],
   "source": [
    "time_grid = np.arange(1, 91)"
   ]
  },
  {
   "cell_type": "code",
   "execution_count": 160,
   "id": "e041d4ac",
   "metadata": {
    "hidden": true
   },
   "outputs": [
    {
     "data": {
      "text/plain": [
       "0.06015295918635839"
      ]
     },
     "execution_count": 160,
     "metadata": {},
     "output_type": "execute_result"
    }
   ],
   "source": [
    "ev.integrated_brier_score(time_grid)"
   ]
  },
  {
   "cell_type": "code",
   "execution_count": 161,
   "id": "587d8378",
   "metadata": {
    "hidden": true
   },
   "outputs": [
    {
     "data": {
      "text/plain": [
       "0.22598241274956873"
      ]
     },
     "execution_count": 161,
     "metadata": {},
     "output_type": "execute_result"
    }
   ],
   "source": [
    "ev.integrated_nbll(time_grid)"
   ]
  },
  {
   "cell_type": "code",
   "execution_count": 162,
   "id": "5c400523",
   "metadata": {
    "hidden": true
   },
   "outputs": [
    {
     "name": "stdout",
     "output_type": "stream",
     "text": [
      "Help on method integrated_nbll in module pycox.evaluation.eval_surv:\n",
      "\n",
      "integrated_nbll(time_grid, max_weight=inf) method of pycox.evaluation.eval_surv.EvalSurv instance\n",
      "    Integrated negative binomial log-likelihood weighted by the inverse censoring distribution.\n",
      "    Essentially an integral over values obtained from `nbll(time_grid, max_weight)`.\n",
      "    \n",
      "    Arguments:\n",
      "        time_grid {np.array} -- Durations where the brier score should be calculated.\n",
      "    \n",
      "    Keyword Arguments:\n",
      "        max_weight {float} -- Max weight value (max number of individuals an individual\n",
      "            can represent (default {np.inf}).\n",
      "\n"
     ]
    }
   ],
   "source": [
    "help(ev.integrated_nbll)"
   ]
  },
  {
   "cell_type": "code",
   "execution_count": null,
   "id": "623ed58f",
   "metadata": {
    "hidden": true
   },
   "outputs": [],
   "source": []
  }
 ],
 "metadata": {
  "kernelspec": {
   "display_name": "py39",
   "language": "python",
   "name": "py39"
  },
  "language_info": {
   "codemirror_mode": {
    "name": "ipython",
    "version": 3
   },
   "file_extension": ".py",
   "mimetype": "text/x-python",
   "name": "python",
   "nbconvert_exporter": "python",
   "pygments_lexer": "ipython3",
   "version": "3.9.13"
  }
 },
 "nbformat": 4,
 "nbformat_minor": 5
}
