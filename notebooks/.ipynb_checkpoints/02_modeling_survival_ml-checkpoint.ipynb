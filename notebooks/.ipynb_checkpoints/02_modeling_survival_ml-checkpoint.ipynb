{
 "cells": [
  {
   "cell_type": "code",
   "execution_count": 1,
   "id": "28e07783",
   "metadata": {},
   "outputs": [],
   "source": [
    "# Import libraries\n",
    "\n",
    "import pandas as pd\n",
    "import numpy as np\n",
    "import matplotlib.pyplot as plt\n",
    "import datetime\n",
    "import re\n",
    "\n",
    "import plotly.graph_objects as go\n",
    "import plotly.express as px\n",
    "import plotly.io as pio\n",
    "pio.templates.default = \"plotly_white\"\n",
    "\n",
    "# %load_ext nb_black\n",
    "%load_ext autoreload\n",
    "%autoreload 2"
   ]
  },
  {
   "cell_type": "code",
   "execution_count": 2,
   "id": "65b4841b",
   "metadata": {},
   "outputs": [],
   "source": [
    "import sys\n",
    "sys.path.append('./src')"
   ]
  },
  {
   "cell_type": "code",
   "execution_count": null,
   "id": "213eeb3e",
   "metadata": {},
   "outputs": [],
   "source": [
    "cd ../src/"
   ]
  },
  {
   "cell_type": "code",
   "execution_count": 5,
   "id": "d74ceb87",
   "metadata": {},
   "outputs": [
    {
     "ename": "ModuleNotFoundError",
     "evalue": "No module named 'train'",
     "output_type": "error",
     "traceback": [
      "\u001b[0;31m---------------------------------------------------------------------------\u001b[0m",
      "\u001b[0;31mModuleNotFoundError\u001b[0m                       Traceback (most recent call last)",
      "\u001b[0;32m<ipython-input-5-7e0b528b9237>\u001b[0m in \u001b[0;36m<module>\u001b[0;34m\u001b[0m\n\u001b[0;32m----> 1\u001b[0;31m \u001b[0;32mfrom\u001b[0m \u001b[0mtrain\u001b[0m \u001b[0;32mimport\u001b[0m \u001b[0;34m*\u001b[0m\u001b[0;34m\u001b[0m\u001b[0;34m\u001b[0m\u001b[0m\n\u001b[0m",
      "\u001b[0;31mModuleNotFoundError\u001b[0m: No module named 'train'"
     ]
    }
   ],
   "source": [
    "from train import *"
   ]
  },
  {
   "cell_type": "code",
   "execution_count": null,
   "id": "b6b8a182",
   "metadata": {},
   "outputs": [],
   "source": [
    "df = pd.read_csv(\"./datasets/hdhi_clean.csv\")"
   ]
  },
  {
   "cell_type": "code",
   "execution_count": null,
   "id": "f02fb37a",
   "metadata": {},
   "outputs": [],
   "source": [
    "# Parameters\n",
    "\n",
    "scaler_name = \"StandardScaler\" #MinMaxScaler\n",
    "random_state=123"
   ]
  },
  {
   "cell_type": "markdown",
   "id": "2131140e",
   "metadata": {},
   "source": [
    "# 1. Train / test splits"
   ]
  },
  {
   "cell_type": "code",
   "execution_count": null,
   "id": "15d55ee7",
   "metadata": {},
   "outputs": [],
   "source": [
    "# covariate columns (used when possible)\n",
    "\n",
    "cols_x = [\n",
    "    'age', 'gender', 'rural',\n",
    "    'duration_of_stay', 'duration_of_intensive_unit_stay', \n",
    "    'smoking_','alcohol', 'dm', 'htn', 'cad', 'prior_cmp', 'ckd', 'hb', 'tlc',\n",
    "    'platelets', 'glucose', 'urea', 'creatinine', 'raised_cardiac_enzymes',\n",
    "    'severe_anaemia', 'anaemia', 'stable_angina', 'acs', 'stemi',\n",
    "    'atypical_chest_pain', 'heart_failure', 'hfref', 'hfnef', 'valvular',\n",
    "    'chb', 'sss', 'aki', 'cva_infract', 'cva_bleed', 'af', 'vt', 'psvt',\n",
    "    'congenital', 'uti', 'neuro_cardiogenic_syncope', 'orthostatic',\n",
    "    'infective_endocarditis', 'dvt', 'cardiogenic_shock', 'shock',\n",
    "    'pulmonary_embolism', 'chest_infection',\n",
    "    'type_adm'\n",
    "]"
   ]
  },
  {
   "cell_type": "code",
   "execution_count": null,
   "id": "6e633ae8",
   "metadata": {},
   "outputs": [],
   "source": [
    "from sklearn.model_selection import train_test_split\n",
    "\n",
    "# split train / test\n",
    "\n",
    "df.sort_values(by=\"doa\", inplace=True)\n",
    "Xy = df[cols_x+[\"censored\", \"time_before_readm\"]].dropna()\n",
    "\n",
    "Xy_train, Xy_test = train_test_split(Xy, test_size=0.3, random_state=random_state)#, stratify=Xy.censored)\n",
    "\n",
    "\n",
    "y_train = np.array(list(zip(Xy_train.censored, Xy_train.time_before_readm)), \n",
    "                   dtype=[('censored', '?'), ('time_before_readm', '<f8')])\n",
    "y_test = np.array(list(zip(Xy_test.censored, Xy_test.time_before_readm)), \n",
    "                   dtype=[('censored', '?'), ('time_before_readm', '<f8')])"
   ]
  },
  {
   "cell_type": "code",
   "execution_count": null,
   "id": "4713f46a",
   "metadata": {},
   "outputs": [],
   "source": [
    "from sklearn.preprocessing import StandardScaler, MinMaxScaler\n",
    "\n",
    "# rescale\n",
    "scaler = eval(scaler_name)()\n",
    "\n",
    "Xy_train[cols_x] = scaler.fit_transform(Xy_train[cols_x])\n",
    "Xy_test[cols_x] = scaler.transform(Xy_test[cols_x])"
   ]
  },
  {
   "cell_type": "markdown",
   "id": "6196e582",
   "metadata": {},
   "source": [
    "# 2. Kaplan-Meier estimator"
   ]
  },
  {
   "cell_type": "code",
   "execution_count": null,
   "id": "f119aef7",
   "metadata": {},
   "outputs": [],
   "source": [
    "from sksurv.nonparametric import kaplan_meier_estimator\n",
    "\n",
    "time, probas = kaplan_meier_estimator(Xy_train[\"censored\"], Xy_train[\"time_before_readm\"])\n",
    "\n",
    "fig = px.line(x=time, y=probas, width=800, height = 400)\n",
    "fig.update_layout(dict(xaxis={'title' : 'Time (# days)'}, yaxis={'title' : 'Survival probability'}))"
   ]
  },
  {
   "cell_type": "code",
   "execution_count": null,
   "id": "18ef0571",
   "metadata": {},
   "outputs": [],
   "source": [
    "from sksurv.nonparametric import kaplan_meier_estimator\n",
    "\n",
    "for i, age_bin in enumerate(df.age_bin.unique()):\n",
    "    \n",
    "    Xy_train_filter = df[df.age_bin == age_bin]\n",
    "\n",
    "    time, probas = kaplan_meier_estimator(Xy_train_filter[\"censored\"], Xy_train_filter[\"time_before_readm\"])\n",
    "    probas = pd.DataFrame({'time': time, 'age_bin' : age_bin, 'proba_readm': [1-p for p in probas]})\n",
    "    \n",
    "    preds = probas if i ==0 else pd.concat([probas, preds], axis=0)\n",
    "\n",
    "preds.head()"
   ]
  },
  {
   "cell_type": "code",
   "execution_count": null,
   "id": "1efad008",
   "metadata": {},
   "outputs": [],
   "source": [
    "preds_graph = preds[preds.age_bin!=\"[110,120[\"].sort_values(by=[\"age_bin\", \"time\"])\n",
    "fig = px.line(preds_graph, x=\"time\", y=\"proba_readm\", color=\"age_bin\", width=800, height = 400)\n",
    "fig.update_layout(dict(xaxis={'title' : 'nb days'}, yaxis={'title' : 'proba'}))"
   ]
  },
  {
   "cell_type": "markdown",
   "id": "8f9ad047",
   "metadata": {},
   "source": [
    "# 3. Cox PH estimator"
   ]
  },
  {
   "cell_type": "markdown",
   "id": "f53eaf30",
   "metadata": {},
   "source": [
    "## 3.1 Model training & analysis"
   ]
  },
  {
   "cell_type": "markdown",
   "id": "eca254a6",
   "metadata": {
    "heading_collapsed": true
   },
   "source": [
    "### Training"
   ]
  },
  {
   "cell_type": "code",
   "execution_count": null,
   "id": "04f1b3e0",
   "metadata": {
    "hidden": true
   },
   "outputs": [],
   "source": [
    "from sksurv.linear_model import CoxPHSurvivalAnalysis\n",
    "\n",
    "# train an estimator\n",
    "estimator = CoxPHSurvivalAnalysis(alpha=0.5)\n",
    "estimator = estimator.fit(Xy_train[cols_x], y_train)"
   ]
  },
  {
   "cell_type": "markdown",
   "id": "ee053b86",
   "metadata": {
    "heading_collapsed": true
   },
   "source": [
    "### Cumulative hazard functions"
   ]
  },
  {
   "cell_type": "code",
   "execution_count": null,
   "id": "7dcd1448",
   "metadata": {
    "hidden": true
   },
   "outputs": [],
   "source": [
    "# predict cumulative hazard function\n",
    "chf_funcs = estimator.predict_cumulative_hazard_function(Xy_test[cols_x].iloc[:3])\n",
    "\n",
    "data = [go.Scatter(x=fn.x,y= fn(fn.x), name=i) for i, fn in enumerate(chf_funcs)]\n",
    "fig = go.Figure(data, layout=dict(width=800, height=400))\n",
    "fig.update_layout({\"yaxis\":{\"range\": [0,1]}})"
   ]
  },
  {
   "cell_type": "markdown",
   "id": "4352369d",
   "metadata": {
    "heading_collapsed": true
   },
   "source": [
    "### Survival functions"
   ]
  },
  {
   "cell_type": "code",
   "execution_count": null,
   "id": "09184190",
   "metadata": {
    "hidden": true
   },
   "outputs": [],
   "source": [
    "# predict survival function\n",
    "surv_funcs = estimator.predict_survival_function(Xy_test[cols_x].iloc[:3])\n",
    "\n",
    "# plot results\n",
    "data = [go.Scatter(x=fn.x,y= fn(fn.x), name=i) for i, fn in enumerate(surv_funcs)]\n",
    "go.Figure(data, layout=dict(width=800, height=400))"
   ]
  },
  {
   "cell_type": "markdown",
   "id": "602b7e35",
   "metadata": {},
   "source": [
    "### Feature importance"
   ]
  },
  {
   "cell_type": "code",
   "execution_count": null,
   "id": "82c205c0",
   "metadata": {},
   "outputs": [],
   "source": [
    "feat_importance, fig = plot_feat_imp(cols_x, estimator.coef_)\n",
    "fig"
   ]
  },
  {
   "cell_type": "markdown",
   "id": "b4cbc6f7",
   "metadata": {},
   "source": [
    "## 3.2. Model evaluation"
   ]
  },
  {
   "cell_type": "markdown",
   "id": "fb63e338",
   "metadata": {
    "heading_collapsed": true
   },
   "source": [
    "### C-index"
   ]
  },
  {
   "cell_type": "code",
   "execution_count": null,
   "id": "0da6fcdf",
   "metadata": {
    "hidden": true
   },
   "outputs": [],
   "source": [
    "from sksurv.metrics import concordance_index_censored\n",
    "\n",
    "prediction = estimator.predict(Xy_test[cols_x])\n",
    "result = concordance_index_censored(list(Xy_test.censored), Xy_test.time_before_readm, prediction)\n",
    "result\n",
    "# c-index, concordant,  discordant, tied_risk, tied_time"
   ]
  },
  {
   "cell_type": "markdown",
   "id": "3bc6808b",
   "metadata": {
    "heading_collapsed": true
   },
   "source": [
    "### Time-dependant AUC"
   ]
  },
  {
   "cell_type": "code",
   "execution_count": null,
   "id": "aa3145ff",
   "metadata": {
    "hidden": true
   },
   "outputs": [],
   "source": [
    "from sksurv.metrics import cumulative_dynamic_auc\n",
    "\n",
    "times = np.percentile(df.time_before_readm, np.linspace(5, 81, 15))\n",
    "risk_score = estimator.predict(Xy_test[cols_x]) \n",
    "\n",
    "# Possible because the Cox PH is not time-dependant\n",
    "auc, mean_auc = cumulative_dynamic_auc(y_train, y_test, risk_score, times)\n",
    "mean_auc"
   ]
  },
  {
   "cell_type": "code",
   "execution_count": null,
   "id": "53844268",
   "metadata": {
    "hidden": true
   },
   "outputs": [],
   "source": [
    "fig = px.line(x=times, y= auc, width=800, height=400)\n",
    "fig.update_layout({\n",
    "    \"xaxis\": dict(title = \"Time before readmission (#days)\"),\n",
    "    \"yaxis\": dict(title = \"Time-dependent AUC\")\n",
    "})"
   ]
  },
  {
   "cell_type": "markdown",
   "id": "a73ec5cb",
   "metadata": {
    "heading_collapsed": true
   },
   "source": [
    "### Bier score"
   ]
  },
  {
   "cell_type": "code",
   "execution_count": null,
   "id": "37c7b179",
   "metadata": {
    "hidden": true
   },
   "outputs": [],
   "source": [
    "from sksurv.metrics import brier_score, integrated_brier_score"
   ]
  },
  {
   "cell_type": "code",
   "execution_count": null,
   "id": "c10ce3dc",
   "metadata": {
    "hidden": true
   },
   "outputs": [],
   "source": [
    "survs = estimator.predict_survival_function(Xy_test[cols_x])"
   ]
  },
  {
   "cell_type": "code",
   "execution_count": null,
   "id": "6a587a73",
   "metadata": {
    "hidden": true
   },
   "outputs": [],
   "source": [
    "T = 364/2\n",
    "preds = [fn(T) for fn in survs]\n",
    "times, score = brier_score(y_train, y_test, preds, T)\n",
    "score"
   ]
  },
  {
   "cell_type": "code",
   "execution_count": null,
   "id": "67e0a90f",
   "metadata": {
    "hidden": true
   },
   "outputs": [],
   "source": [
    "times = np.arange(364/2, 365)\n",
    "\n",
    "preds = np.asarray([[fn(t) for t in times] for fn in survs])\n",
    "score = integrated_brier_score(y_train, y_test, preds, times)\n",
    "print(score)"
   ]
  },
  {
   "cell_type": "markdown",
   "id": "9970b8c7",
   "metadata": {},
   "source": [
    "## 3.3. Model fine-tuning"
   ]
  },
  {
   "cell_type": "code",
   "execution_count": null,
   "id": "a4b1ec28",
   "metadata": {},
   "outputs": [],
   "source": [
    "col_target = \"time_before_readm\""
   ]
  },
  {
   "cell_type": "code",
   "execution_count": null,
   "id": "654b2787",
   "metadata": {},
   "outputs": [],
   "source": [
    "from sklearn.model_selection import KFold\n",
    "\n",
    "cv = KFold(n_splits=5, random_state=random_state, shuffle=True)\n",
    "\n",
    "grid_params = {\"alpha\": [0.3, 0.6, 1, 1.2]}\n",
    "\n",
    "estimator_cox, results = grid_search(grid_params, df, cv, CoxPHSurvivalAnalysis, cols_x,  col_target, verbose = True)"
   ]
  },
  {
   "cell_type": "code",
   "execution_count": null,
   "id": "28e8d2f0",
   "metadata": {},
   "outputs": [],
   "source": [
    "results"
   ]
  },
  {
   "cell_type": "markdown",
   "id": "6a3d708e",
   "metadata": {},
   "source": [
    "# 4. Gradient Boosting Survival Analysis"
   ]
  },
  {
   "cell_type": "code",
   "execution_count": null,
   "id": "6e949ca0",
   "metadata": {
    "scrolled": true
   },
   "outputs": [],
   "source": [
    "from sksurv.ensemble import GradientBoostingSurvivalAnalysis\n",
    "\n",
    "grid_params = {\n",
    "    \"n_estimators\": [100,200, 300],\n",
    "    \"min_samples_leaf\": [2, 3],\n",
    "    \"random_state\": [random_state],\n",
    "    \"verbose\":[1]}\n",
    "\n",
    "estimator_gb, results = grid_search(grid_params, df, cv, GradientBoostingSurvivalAnalysis, cols_x, col_target, verbose = True)\n",
    "\n",
    "results"
   ]
  },
  {
   "cell_type": "code",
   "execution_count": null,
   "id": "905e2c9d",
   "metadata": {},
   "outputs": [],
   "source": [
    "feat_importance_gb, fig = plot_feat_imp(cols_x, estimator_gb.feature_importances_)\n",
    "fig"
   ]
  },
  {
   "cell_type": "markdown",
   "id": "5cfbd998",
   "metadata": {},
   "source": [
    "## 5. Survival Support Vector Machine"
   ]
  },
  {
   "cell_type": "code",
   "execution_count": null,
   "id": "7bdebf2d",
   "metadata": {},
   "outputs": [],
   "source": [
    "from sksurv.svm import FastSurvivalSVM "
   ]
  },
  {
   "cell_type": "code",
   "execution_count": null,
   "id": "0d27daa1",
   "metadata": {
    "scrolled": true
   },
   "outputs": [],
   "source": [
    "from sksurv.svm import FastSurvivalSVM \n",
    "\n",
    "grid_params = {\n",
    "    \"alpha\": [1,2, 5, 10],\n",
    "    \"rank_ratio\": [0],\n",
    "    \"max_iter\": [1000],\n",
    "    \"tol\": [1e-5],\n",
    "    \"random_state\": [random_state],\n",
    "    \"verbose\":[0]}\n",
    "\n",
    "estimator_svm, results = grid_search(grid_params, df, cv, FastSurvivalSVM, cols_x, col_target, verbose = True)\n",
    "\n",
    "results"
   ]
  },
  {
   "cell_type": "code",
   "execution_count": null,
   "id": "c30213c1",
   "metadata": {},
   "outputs": [],
   "source": [
    "from sksurv.svm import FastKernelSurvivalSVM \n",
    "\n",
    "grid_params = {\n",
    "    \"kernel\": [\"linear\",\"poly\",\"rbf\",\"sigmoid\",\"cosine\"],\n",
    "    \"alpha\": [2],\n",
    "    \"rank_ratio\": [0],\n",
    "    \"max_iter\": [1000],\n",
    "    \"tol\": [1e-5],\n",
    "    \"random_state\": [random_state]\n",
    "}\n",
    "\n",
    "estimator_ksvm, results = grid_search(grid_params, df, cv, FastKernelSurvivalSVM, cols_x, col_target, verbose = True)\n",
    "\n",
    "results"
   ]
  },
  {
   "cell_type": "code",
   "execution_count": null,
   "id": "40bf4a21",
   "metadata": {},
   "outputs": [],
   "source": []
  }
 ],
 "metadata": {
  "kernelspec": {
   "display_name": "py39",
   "language": "python",
   "name": "py39"
  },
  "language_info": {
   "codemirror_mode": {
    "name": "ipython",
    "version": 3
   },
   "file_extension": ".py",
   "mimetype": "text/x-python",
   "name": "python",
   "nbconvert_exporter": "python",
   "pygments_lexer": "ipython3",
   "version": "3.9.13"
  }
 },
 "nbformat": 4,
 "nbformat_minor": 5
}
