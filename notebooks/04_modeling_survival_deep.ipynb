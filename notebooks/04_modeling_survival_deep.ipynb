{
 "cells": [
  {
   "cell_type": "code",
   "execution_count": 27,
   "id": "68e5e0b9",
   "metadata": {},
   "outputs": [
    {
     "name": "stdout",
     "output_type": "stream",
     "text": [
      "The autoreload extension is already loaded. To reload it, use:\n",
      "  %reload_ext autoreload\n"
     ]
    }
   ],
   "source": [
    "# Import libraries\n",
    "\n",
    "import pandas as pd\n",
    "import numpy as np\n",
    "import matplotlib.pyplot as plt\n",
    "import datetime\n",
    "import re\n",
    "import pickle\n",
    "\n",
    "import os\n",
    "path_dir = os.path.dirname(os.getcwd())\n",
    "\n",
    "import plotly.graph_objects as go\n",
    "import plotly.express as px\n",
    "import plotly.io as pio\n",
    "pio.templates.default = \"plotly_white\"\n",
    "\n",
    "import torch # For building the networks \n",
    "import torchtuples as tt # Some useful functions\n",
    "\n",
    "from pycox.datasets import metabric\n",
    "from pycox.models import LogisticHazard, PMF, DeepHitSingle, CoxPH\n",
    "from pycox.evaluation import EvalSurv\n",
    "\n",
    "%load_ext autoreload\n",
    "%autoreload 2"
   ]
  },
  {
   "cell_type": "code",
   "execution_count": 28,
   "id": "6a06ff43",
   "metadata": {},
   "outputs": [
    {
     "name": "stdout",
     "output_type": "stream",
     "text": [
      "/Users/linafaik/Documents/survival_analysis/src\n"
     ]
    }
   ],
   "source": [
    "cd ../src/"
   ]
  },
  {
   "cell_type": "code",
   "execution_count": 29,
   "id": "91bc3a17",
   "metadata": {},
   "outputs": [],
   "source": [
    "from train import *\n",
    "from train_survival_ml import *\n",
    "from train_survival_deep import *"
   ]
  },
  {
   "cell_type": "code",
   "execution_count": 30,
   "id": "17670c96",
   "metadata": {},
   "outputs": [],
   "source": [
    "# We also set some seeds to make this reproducable.\n",
    "# Note that on gpu, there is still some randomness.\n",
    "np.random.seed(1234)\n",
    "_ = torch.manual_seed(123)"
   ]
  },
  {
   "cell_type": "code",
   "execution_count": 31,
   "id": "8811d634",
   "metadata": {},
   "outputs": [],
   "source": [
    "# Parameters\n",
    "\n",
    "scaler_name = \"StandardScaler\" #MinMaxScaler\n",
    "random_state = 123"
   ]
  },
  {
   "cell_type": "code",
   "execution_count": 72,
   "id": "eca57c2f",
   "metadata": {},
   "outputs": [],
   "source": [
    "df = pd.read_csv(os.path.join(path_dir, \"outputs/customer_subscription_clean.csv\"))"
   ]
  },
  {
   "cell_type": "markdown",
   "id": "f1d0b799",
   "metadata": {},
   "source": [
    "# 1. Train / test split"
   ]
  },
  {
   "cell_type": "code",
   "execution_count": 73,
   "id": "ecf41212",
   "metadata": {},
   "outputs": [
    {
     "data": {
      "text/plain": [
       "Index(['date_time', 'customer_id', 'signup_date_time', 'cancel_date_time',\n",
       "       'price', 'billing_cycle', 'age', 'duration', 'censored',\n",
       "       'product=prd_1', 'gender=female', 'channel=email', 'reason=support',\n",
       "       'nb_cases', 'time_since_signup', 'date_month_cos', 'date_month_sin',\n",
       "       'date_weekday_cos', 'date_weekday_sin', 'date_hour_cos',\n",
       "       'date_hour_sin'],\n",
       "      dtype='object')"
      ]
     },
     "execution_count": 73,
     "metadata": {},
     "output_type": "execute_result"
    }
   ],
   "source": [
    "df.columns"
   ]
  },
  {
   "cell_type": "code",
   "execution_count": 74,
   "id": "ac75da01",
   "metadata": {},
   "outputs": [],
   "source": [
    "# covariate columns (used when possible)\n",
    "\n",
    "cols_x = [\n",
    "    'age', 'gender', 'rural',\n",
    "    'duration_of_stay', 'duration_of_intensive_unit_stay', \n",
    "    'smoking','alcohol', 'dm', 'htn', 'cad', 'prior_cmp', 'ckd', 'hb', 'tlc',\n",
    "    'platelets', 'glucose', 'urea', 'creatinine', 'raised_cardiac_enzymes',\n",
    "    'severe_anaemia', 'anaemia', 'stable_angina', 'acs', 'stemi',\n",
    "    'atypical_chest_pain', 'heart_failure', 'hfref', 'hfnef', 'valvular',\n",
    "    'chb', 'sss', 'aki', 'cva_infract', 'cva_bleed', 'af', 'vt', 'psvt',\n",
    "    'congenital', 'uti', 'neuro_cardiogenic_syncope', 'orthostatic',\n",
    "    'infective_endocarditis', 'dvt', 'cardiogenic_shock', 'shock',\n",
    "    'pulmonary_embolism', 'chest_infection',\n",
    "    'type_adm', \n",
    "    'first_visit', 'nb_visits',\n",
    "    'duration_of_stay_lag1', 'duration_of_intensive_unit_stay_lag1',\n",
    "    'cardiogenic_shock_lag1', 'cad_lag1', 'time_before_readm_lag1'\n",
    "]\n",
    "\n",
    "col_target = \"time_before_readm\""
   ]
  },
  {
   "cell_type": "code",
   "execution_count": 75,
   "id": "ff65e5f9",
   "metadata": {},
   "outputs": [],
   "source": [
    "cols_x = [\n",
    "    'price', 'billing_cycle', 'age',\n",
    "    'product=prd_1', 'gender=female', 'channel=email', 'reason=support',\n",
    "    'nb_cases', 'time_since_signup', \n",
    "    'date_month_cos', 'date_month_sin',\n",
    "    'date_weekday_cos', 'date_weekday_sin', 'date_hour_cos',\n",
    "    'date_hour_sin'\n",
    "]\n",
    "\n",
    "col_target = \"duration\""
   ]
  },
  {
   "cell_type": "code",
   "execution_count": 76,
   "id": "f6463858",
   "metadata": {},
   "outputs": [
    {
     "name": "stdout",
     "output_type": "stream",
     "text": [
      "Train: 68%, Test: 15%, Val: 17%\n"
     ]
    }
   ],
   "source": [
    "Xy_train, Xy_test, y_train, y_test = split_train_test(\n",
    "    df, cols_x, col_target, test_size=0.15, col_stratify= \"censored\", random_state=random_state)\n",
    "\n",
    "Xy_train, Xy_val, y_train, y_val = split_train_test(\n",
    "    Xy_train, cols_x, col_target, test_size=0.2,  col_stratify= \"censored\", random_state=random_state)\n",
    "\n",
    "n_train, n_test, n_val = Xy_train.shape[0], Xy_test.shape[0], Xy_val.shape[0]\n",
    "n_tot =  n_train + n_test + n_val\n",
    "\n",
    "print(\"Train: {}%, Test: {}%, Val: {}%\".format(\n",
    "    round(n_train/n_tot *100),\n",
    "    round(n_test/n_tot *100),\n",
    "    round(n_val/n_tot *100)\n",
    "))"
   ]
  },
  {
   "cell_type": "code",
   "execution_count": 77,
   "id": "d0a54aac",
   "metadata": {},
   "outputs": [],
   "source": [
    "from sklearn.preprocessing import StandardScaler, MinMaxScaler\n",
    "\n",
    "# rescale\n",
    "scaler = eval(scaler_name)()\n",
    "\n",
    "Xy_train[cols_x] = scaler.fit_transform(Xy_train[cols_x])\n",
    "Xy_test[cols_x] = scaler.transform(Xy_test[cols_x])"
   ]
  },
  {
   "cell_type": "code",
   "execution_count": 78,
   "id": "c43b155e",
   "metadata": {},
   "outputs": [],
   "source": [
    "#with open(os.path.join(path_dir, \"outputs/cox_ph.pkl\"), \"rb\") as f:\n",
    "    #estimator = pickle.load(f)"
   ]
  },
  {
   "cell_type": "code",
   "execution_count": 79,
   "id": "00b1dfbc",
   "metadata": {},
   "outputs": [],
   "source": [
    "from sksurv.linear_model import CoxPHSurvivalAnalysis\n",
    "\n",
    "# train an estimator\n",
    "estimator = CoxPHSurvivalAnalysis(alpha=0.5)\n",
    "estimator = estimator.fit(Xy_train[cols_x], y_train)"
   ]
  },
  {
   "cell_type": "code",
   "execution_count": 80,
   "id": "95af5a7f",
   "metadata": {},
   "outputs": [
    {
     "data": {
      "text/plain": [
       "0.6818926526547785"
      ]
     },
     "execution_count": 80,
     "metadata": {},
     "output_type": "execute_result"
    }
   ],
   "source": [
    "estimator.score(Xy_test[cols_x], y_test)"
   ]
  },
  {
   "cell_type": "code",
   "execution_count": 81,
   "id": "e4a106de",
   "metadata": {},
   "outputs": [
    {
     "data": {
      "application/vnd.plotly.v1+json": {
       "config": {
        "plotlyServerURL": "https://plotly.com"
       },
       "data": [
        {
         "alignmentgroup": "True",
         "hovertemplate": "coef=%{x}<br>feature=%{y}<extra></extra>",
         "legendgroup": "",
         "marker": {
          "color": "#636efa"
         },
         "name": "",
         "offsetgroup": "",
         "orientation": "h",
         "showlegend": false,
         "textposition": "auto",
         "type": "bar",
         "x": [
          0.002655516991901704,
          0.0035406072350311186,
          -0.003590890731812067,
          -0.0041565750731520365,
          -0.004650611362156267,
          0.007139304359096848,
          0.023938482349828243,
          -0.025407051786813583,
          -0.056079937872981045,
          -0.12277371883203941,
          -0.12277371883420365,
          -0.12277371883455657,
          0.13661192348108622,
          0.15719537290370508,
          -0.20616124481723525
         ],
         "xaxis": "x",
         "y": [
          "date_weekday_cos",
          "date_hour_cos",
          "date_weekday_sin",
          "gender=female",
          "date_hour_sin",
          "age",
          "time_since_signup",
          "nb_cases",
          "date_month_cos",
          "price",
          "product=prd_1",
          "billing_cycle",
          "channel=email",
          "reason=support",
          "date_month_sin"
         ],
         "yaxis": "y"
        }
       ],
       "layout": {
        "barmode": "relative",
        "height": 1000,
        "legend": {
         "tracegroupgap": 0
        },
        "margin": {
         "t": 60
        },
        "template": {
         "data": {
          "bar": [
           {
            "error_x": {
             "color": "#2a3f5f"
            },
            "error_y": {
             "color": "#2a3f5f"
            },
            "marker": {
             "line": {
              "color": "white",
              "width": 0.5
             }
            },
            "type": "bar"
           }
          ],
          "barpolar": [
           {
            "marker": {
             "line": {
              "color": "white",
              "width": 0.5
             }
            },
            "type": "barpolar"
           }
          ],
          "carpet": [
           {
            "aaxis": {
             "endlinecolor": "#2a3f5f",
             "gridcolor": "#C8D4E3",
             "linecolor": "#C8D4E3",
             "minorgridcolor": "#C8D4E3",
             "startlinecolor": "#2a3f5f"
            },
            "baxis": {
             "endlinecolor": "#2a3f5f",
             "gridcolor": "#C8D4E3",
             "linecolor": "#C8D4E3",
             "minorgridcolor": "#C8D4E3",
             "startlinecolor": "#2a3f5f"
            },
            "type": "carpet"
           }
          ],
          "choropleth": [
           {
            "colorbar": {
             "outlinewidth": 0,
             "ticks": ""
            },
            "type": "choropleth"
           }
          ],
          "contour": [
           {
            "colorbar": {
             "outlinewidth": 0,
             "ticks": ""
            },
            "colorscale": [
             [
              0,
              "#0d0887"
             ],
             [
              0.1111111111111111,
              "#46039f"
             ],
             [
              0.2222222222222222,
              "#7201a8"
             ],
             [
              0.3333333333333333,
              "#9c179e"
             ],
             [
              0.4444444444444444,
              "#bd3786"
             ],
             [
              0.5555555555555556,
              "#d8576b"
             ],
             [
              0.6666666666666666,
              "#ed7953"
             ],
             [
              0.7777777777777778,
              "#fb9f3a"
             ],
             [
              0.8888888888888888,
              "#fdca26"
             ],
             [
              1,
              "#f0f921"
             ]
            ],
            "type": "contour"
           }
          ],
          "contourcarpet": [
           {
            "colorbar": {
             "outlinewidth": 0,
             "ticks": ""
            },
            "type": "contourcarpet"
           }
          ],
          "heatmap": [
           {
            "colorbar": {
             "outlinewidth": 0,
             "ticks": ""
            },
            "colorscale": [
             [
              0,
              "#0d0887"
             ],
             [
              0.1111111111111111,
              "#46039f"
             ],
             [
              0.2222222222222222,
              "#7201a8"
             ],
             [
              0.3333333333333333,
              "#9c179e"
             ],
             [
              0.4444444444444444,
              "#bd3786"
             ],
             [
              0.5555555555555556,
              "#d8576b"
             ],
             [
              0.6666666666666666,
              "#ed7953"
             ],
             [
              0.7777777777777778,
              "#fb9f3a"
             ],
             [
              0.8888888888888888,
              "#fdca26"
             ],
             [
              1,
              "#f0f921"
             ]
            ],
            "type": "heatmap"
           }
          ],
          "heatmapgl": [
           {
            "colorbar": {
             "outlinewidth": 0,
             "ticks": ""
            },
            "colorscale": [
             [
              0,
              "#0d0887"
             ],
             [
              0.1111111111111111,
              "#46039f"
             ],
             [
              0.2222222222222222,
              "#7201a8"
             ],
             [
              0.3333333333333333,
              "#9c179e"
             ],
             [
              0.4444444444444444,
              "#bd3786"
             ],
             [
              0.5555555555555556,
              "#d8576b"
             ],
             [
              0.6666666666666666,
              "#ed7953"
             ],
             [
              0.7777777777777778,
              "#fb9f3a"
             ],
             [
              0.8888888888888888,
              "#fdca26"
             ],
             [
              1,
              "#f0f921"
             ]
            ],
            "type": "heatmapgl"
           }
          ],
          "histogram": [
           {
            "marker": {
             "colorbar": {
              "outlinewidth": 0,
              "ticks": ""
             }
            },
            "type": "histogram"
           }
          ],
          "histogram2d": [
           {
            "colorbar": {
             "outlinewidth": 0,
             "ticks": ""
            },
            "colorscale": [
             [
              0,
              "#0d0887"
             ],
             [
              0.1111111111111111,
              "#46039f"
             ],
             [
              0.2222222222222222,
              "#7201a8"
             ],
             [
              0.3333333333333333,
              "#9c179e"
             ],
             [
              0.4444444444444444,
              "#bd3786"
             ],
             [
              0.5555555555555556,
              "#d8576b"
             ],
             [
              0.6666666666666666,
              "#ed7953"
             ],
             [
              0.7777777777777778,
              "#fb9f3a"
             ],
             [
              0.8888888888888888,
              "#fdca26"
             ],
             [
              1,
              "#f0f921"
             ]
            ],
            "type": "histogram2d"
           }
          ],
          "histogram2dcontour": [
           {
            "colorbar": {
             "outlinewidth": 0,
             "ticks": ""
            },
            "colorscale": [
             [
              0,
              "#0d0887"
             ],
             [
              0.1111111111111111,
              "#46039f"
             ],
             [
              0.2222222222222222,
              "#7201a8"
             ],
             [
              0.3333333333333333,
              "#9c179e"
             ],
             [
              0.4444444444444444,
              "#bd3786"
             ],
             [
              0.5555555555555556,
              "#d8576b"
             ],
             [
              0.6666666666666666,
              "#ed7953"
             ],
             [
              0.7777777777777778,
              "#fb9f3a"
             ],
             [
              0.8888888888888888,
              "#fdca26"
             ],
             [
              1,
              "#f0f921"
             ]
            ],
            "type": "histogram2dcontour"
           }
          ],
          "mesh3d": [
           {
            "colorbar": {
             "outlinewidth": 0,
             "ticks": ""
            },
            "type": "mesh3d"
           }
          ],
          "parcoords": [
           {
            "line": {
             "colorbar": {
              "outlinewidth": 0,
              "ticks": ""
             }
            },
            "type": "parcoords"
           }
          ],
          "pie": [
           {
            "automargin": true,
            "type": "pie"
           }
          ],
          "scatter": [
           {
            "marker": {
             "colorbar": {
              "outlinewidth": 0,
              "ticks": ""
             }
            },
            "type": "scatter"
           }
          ],
          "scatter3d": [
           {
            "line": {
             "colorbar": {
              "outlinewidth": 0,
              "ticks": ""
             }
            },
            "marker": {
             "colorbar": {
              "outlinewidth": 0,
              "ticks": ""
             }
            },
            "type": "scatter3d"
           }
          ],
          "scattercarpet": [
           {
            "marker": {
             "colorbar": {
              "outlinewidth": 0,
              "ticks": ""
             }
            },
            "type": "scattercarpet"
           }
          ],
          "scattergeo": [
           {
            "marker": {
             "colorbar": {
              "outlinewidth": 0,
              "ticks": ""
             }
            },
            "type": "scattergeo"
           }
          ],
          "scattergl": [
           {
            "marker": {
             "colorbar": {
              "outlinewidth": 0,
              "ticks": ""
             }
            },
            "type": "scattergl"
           }
          ],
          "scattermapbox": [
           {
            "marker": {
             "colorbar": {
              "outlinewidth": 0,
              "ticks": ""
             }
            },
            "type": "scattermapbox"
           }
          ],
          "scatterpolar": [
           {
            "marker": {
             "colorbar": {
              "outlinewidth": 0,
              "ticks": ""
             }
            },
            "type": "scatterpolar"
           }
          ],
          "scatterpolargl": [
           {
            "marker": {
             "colorbar": {
              "outlinewidth": 0,
              "ticks": ""
             }
            },
            "type": "scatterpolargl"
           }
          ],
          "scatterternary": [
           {
            "marker": {
             "colorbar": {
              "outlinewidth": 0,
              "ticks": ""
             }
            },
            "type": "scatterternary"
           }
          ],
          "surface": [
           {
            "colorbar": {
             "outlinewidth": 0,
             "ticks": ""
            },
            "colorscale": [
             [
              0,
              "#0d0887"
             ],
             [
              0.1111111111111111,
              "#46039f"
             ],
             [
              0.2222222222222222,
              "#7201a8"
             ],
             [
              0.3333333333333333,
              "#9c179e"
             ],
             [
              0.4444444444444444,
              "#bd3786"
             ],
             [
              0.5555555555555556,
              "#d8576b"
             ],
             [
              0.6666666666666666,
              "#ed7953"
             ],
             [
              0.7777777777777778,
              "#fb9f3a"
             ],
             [
              0.8888888888888888,
              "#fdca26"
             ],
             [
              1,
              "#f0f921"
             ]
            ],
            "type": "surface"
           }
          ],
          "table": [
           {
            "cells": {
             "fill": {
              "color": "#EBF0F8"
             },
             "line": {
              "color": "white"
             }
            },
            "header": {
             "fill": {
              "color": "#C8D4E3"
             },
             "line": {
              "color": "white"
             }
            },
            "type": "table"
           }
          ]
         },
         "layout": {
          "annotationdefaults": {
           "arrowcolor": "#2a3f5f",
           "arrowhead": 0,
           "arrowwidth": 1
          },
          "autotypenumbers": "strict",
          "coloraxis": {
           "colorbar": {
            "outlinewidth": 0,
            "ticks": ""
           }
          },
          "colorscale": {
           "diverging": [
            [
             0,
             "#8e0152"
            ],
            [
             0.1,
             "#c51b7d"
            ],
            [
             0.2,
             "#de77ae"
            ],
            [
             0.3,
             "#f1b6da"
            ],
            [
             0.4,
             "#fde0ef"
            ],
            [
             0.5,
             "#f7f7f7"
            ],
            [
             0.6,
             "#e6f5d0"
            ],
            [
             0.7,
             "#b8e186"
            ],
            [
             0.8,
             "#7fbc41"
            ],
            [
             0.9,
             "#4d9221"
            ],
            [
             1,
             "#276419"
            ]
           ],
           "sequential": [
            [
             0,
             "#0d0887"
            ],
            [
             0.1111111111111111,
             "#46039f"
            ],
            [
             0.2222222222222222,
             "#7201a8"
            ],
            [
             0.3333333333333333,
             "#9c179e"
            ],
            [
             0.4444444444444444,
             "#bd3786"
            ],
            [
             0.5555555555555556,
             "#d8576b"
            ],
            [
             0.6666666666666666,
             "#ed7953"
            ],
            [
             0.7777777777777778,
             "#fb9f3a"
            ],
            [
             0.8888888888888888,
             "#fdca26"
            ],
            [
             1,
             "#f0f921"
            ]
           ],
           "sequentialminus": [
            [
             0,
             "#0d0887"
            ],
            [
             0.1111111111111111,
             "#46039f"
            ],
            [
             0.2222222222222222,
             "#7201a8"
            ],
            [
             0.3333333333333333,
             "#9c179e"
            ],
            [
             0.4444444444444444,
             "#bd3786"
            ],
            [
             0.5555555555555556,
             "#d8576b"
            ],
            [
             0.6666666666666666,
             "#ed7953"
            ],
            [
             0.7777777777777778,
             "#fb9f3a"
            ],
            [
             0.8888888888888888,
             "#fdca26"
            ],
            [
             1,
             "#f0f921"
            ]
           ]
          },
          "colorway": [
           "#636efa",
           "#EF553B",
           "#00cc96",
           "#ab63fa",
           "#FFA15A",
           "#19d3f3",
           "#FF6692",
           "#B6E880",
           "#FF97FF",
           "#FECB52"
          ],
          "font": {
           "color": "#2a3f5f"
          },
          "geo": {
           "bgcolor": "white",
           "lakecolor": "white",
           "landcolor": "white",
           "showlakes": true,
           "showland": true,
           "subunitcolor": "#C8D4E3"
          },
          "hoverlabel": {
           "align": "left"
          },
          "hovermode": "closest",
          "mapbox": {
           "style": "light"
          },
          "paper_bgcolor": "white",
          "plot_bgcolor": "white",
          "polar": {
           "angularaxis": {
            "gridcolor": "#EBF0F8",
            "linecolor": "#EBF0F8",
            "ticks": ""
           },
           "bgcolor": "white",
           "radialaxis": {
            "gridcolor": "#EBF0F8",
            "linecolor": "#EBF0F8",
            "ticks": ""
           }
          },
          "scene": {
           "xaxis": {
            "backgroundcolor": "white",
            "gridcolor": "#DFE8F3",
            "gridwidth": 2,
            "linecolor": "#EBF0F8",
            "showbackground": true,
            "ticks": "",
            "zerolinecolor": "#EBF0F8"
           },
           "yaxis": {
            "backgroundcolor": "white",
            "gridcolor": "#DFE8F3",
            "gridwidth": 2,
            "linecolor": "#EBF0F8",
            "showbackground": true,
            "ticks": "",
            "zerolinecolor": "#EBF0F8"
           },
           "zaxis": {
            "backgroundcolor": "white",
            "gridcolor": "#DFE8F3",
            "gridwidth": 2,
            "linecolor": "#EBF0F8",
            "showbackground": true,
            "ticks": "",
            "zerolinecolor": "#EBF0F8"
           }
          },
          "shapedefaults": {
           "line": {
            "color": "#2a3f5f"
           }
          },
          "ternary": {
           "aaxis": {
            "gridcolor": "#DFE8F3",
            "linecolor": "#A2B1C6",
            "ticks": ""
           },
           "baxis": {
            "gridcolor": "#DFE8F3",
            "linecolor": "#A2B1C6",
            "ticks": ""
           },
           "bgcolor": "white",
           "caxis": {
            "gridcolor": "#DFE8F3",
            "linecolor": "#A2B1C6",
            "ticks": ""
           }
          },
          "title": {
           "x": 0.05
          },
          "xaxis": {
           "automargin": true,
           "gridcolor": "#EBF0F8",
           "linecolor": "#EBF0F8",
           "ticks": "",
           "title": {
            "standoff": 15
           },
           "zerolinecolor": "#EBF0F8",
           "zerolinewidth": 2
          },
          "yaxis": {
           "automargin": true,
           "gridcolor": "#EBF0F8",
           "linecolor": "#EBF0F8",
           "ticks": "",
           "title": {
            "standoff": 15
           },
           "zerolinecolor": "#EBF0F8",
           "zerolinewidth": 2
          }
         }
        },
        "xaxis": {
         "anchor": "y",
         "domain": [
          0,
          1
         ],
         "title": {
          "text": "coef"
         }
        },
        "yaxis": {
         "anchor": "x",
         "domain": [
          0,
          1
         ],
         "title": {
          "text": "feature"
         }
        }
       }
      },
      "text/html": [
       "<div>                            <div id=\"d258ef95-3b3f-4f1a-8f27-06981a772d5f\" class=\"plotly-graph-div\" style=\"height:1000px; width:100%;\"></div>            <script type=\"text/javascript\">                require([\"plotly\"], function(Plotly) {                    window.PLOTLYENV=window.PLOTLYENV || {};                                    if (document.getElementById(\"d258ef95-3b3f-4f1a-8f27-06981a772d5f\")) {                    Plotly.newPlot(                        \"d258ef95-3b3f-4f1a-8f27-06981a772d5f\",                        [{\"alignmentgroup\": \"True\", \"hovertemplate\": \"coef=%{x}<br>feature=%{y}<extra></extra>\", \"legendgroup\": \"\", \"marker\": {\"color\": \"#636efa\"}, \"name\": \"\", \"offsetgroup\": \"\", \"orientation\": \"h\", \"showlegend\": false, \"textposition\": \"auto\", \"type\": \"bar\", \"x\": [0.002655516991901704, 0.0035406072350311186, -0.003590890731812067, -0.0041565750731520365, -0.004650611362156267, 0.007139304359096848, 0.023938482349828243, -0.025407051786813583, -0.056079937872981045, -0.12277371883203941, -0.12277371883420365, -0.12277371883455657, 0.13661192348108622, 0.15719537290370508, -0.20616124481723525], \"xaxis\": \"x\", \"y\": [\"date_weekday_cos\", \"date_hour_cos\", \"date_weekday_sin\", \"gender=female\", \"date_hour_sin\", \"age\", \"time_since_signup\", \"nb_cases\", \"date_month_cos\", \"price\", \"product=prd_1\", \"billing_cycle\", \"channel=email\", \"reason=support\", \"date_month_sin\"], \"yaxis\": \"y\"}],                        {\"barmode\": \"relative\", \"height\": 1000, \"legend\": {\"tracegroupgap\": 0}, \"margin\": {\"t\": 60}, \"template\": {\"data\": {\"bar\": [{\"error_x\": {\"color\": \"#2a3f5f\"}, \"error_y\": {\"color\": \"#2a3f5f\"}, \"marker\": {\"line\": {\"color\": \"white\", \"width\": 0.5}}, \"type\": \"bar\"}], \"barpolar\": [{\"marker\": {\"line\": {\"color\": \"white\", \"width\": 0.5}}, \"type\": \"barpolar\"}], \"carpet\": [{\"aaxis\": {\"endlinecolor\": \"#2a3f5f\", \"gridcolor\": \"#C8D4E3\", \"linecolor\": \"#C8D4E3\", \"minorgridcolor\": \"#C8D4E3\", \"startlinecolor\": \"#2a3f5f\"}, \"baxis\": {\"endlinecolor\": \"#2a3f5f\", \"gridcolor\": \"#C8D4E3\", \"linecolor\": \"#C8D4E3\", \"minorgridcolor\": \"#C8D4E3\", \"startlinecolor\": \"#2a3f5f\"}, \"type\": \"carpet\"}], \"choropleth\": [{\"colorbar\": {\"outlinewidth\": 0, \"ticks\": \"\"}, \"type\": \"choropleth\"}], \"contour\": [{\"colorbar\": {\"outlinewidth\": 0, \"ticks\": \"\"}, \"colorscale\": [[0.0, \"#0d0887\"], [0.1111111111111111, \"#46039f\"], [0.2222222222222222, \"#7201a8\"], [0.3333333333333333, \"#9c179e\"], [0.4444444444444444, \"#bd3786\"], [0.5555555555555556, \"#d8576b\"], [0.6666666666666666, \"#ed7953\"], [0.7777777777777778, \"#fb9f3a\"], [0.8888888888888888, \"#fdca26\"], [1.0, \"#f0f921\"]], \"type\": \"contour\"}], \"contourcarpet\": [{\"colorbar\": {\"outlinewidth\": 0, \"ticks\": \"\"}, \"type\": \"contourcarpet\"}], \"heatmap\": [{\"colorbar\": {\"outlinewidth\": 0, \"ticks\": \"\"}, \"colorscale\": [[0.0, \"#0d0887\"], [0.1111111111111111, \"#46039f\"], [0.2222222222222222, \"#7201a8\"], [0.3333333333333333, \"#9c179e\"], [0.4444444444444444, \"#bd3786\"], [0.5555555555555556, \"#d8576b\"], [0.6666666666666666, \"#ed7953\"], [0.7777777777777778, \"#fb9f3a\"], [0.8888888888888888, \"#fdca26\"], [1.0, \"#f0f921\"]], \"type\": \"heatmap\"}], \"heatmapgl\": [{\"colorbar\": {\"outlinewidth\": 0, \"ticks\": \"\"}, \"colorscale\": [[0.0, \"#0d0887\"], [0.1111111111111111, \"#46039f\"], [0.2222222222222222, \"#7201a8\"], [0.3333333333333333, \"#9c179e\"], [0.4444444444444444, \"#bd3786\"], [0.5555555555555556, \"#d8576b\"], [0.6666666666666666, \"#ed7953\"], [0.7777777777777778, \"#fb9f3a\"], [0.8888888888888888, \"#fdca26\"], [1.0, \"#f0f921\"]], \"type\": \"heatmapgl\"}], \"histogram\": [{\"marker\": {\"colorbar\": {\"outlinewidth\": 0, \"ticks\": \"\"}}, \"type\": \"histogram\"}], \"histogram2d\": [{\"colorbar\": {\"outlinewidth\": 0, \"ticks\": \"\"}, \"colorscale\": [[0.0, \"#0d0887\"], [0.1111111111111111, \"#46039f\"], [0.2222222222222222, \"#7201a8\"], [0.3333333333333333, \"#9c179e\"], [0.4444444444444444, \"#bd3786\"], [0.5555555555555556, \"#d8576b\"], [0.6666666666666666, \"#ed7953\"], [0.7777777777777778, \"#fb9f3a\"], [0.8888888888888888, \"#fdca26\"], [1.0, \"#f0f921\"]], \"type\": \"histogram2d\"}], \"histogram2dcontour\": [{\"colorbar\": {\"outlinewidth\": 0, \"ticks\": \"\"}, \"colorscale\": [[0.0, \"#0d0887\"], [0.1111111111111111, \"#46039f\"], [0.2222222222222222, \"#7201a8\"], [0.3333333333333333, \"#9c179e\"], [0.4444444444444444, \"#bd3786\"], [0.5555555555555556, \"#d8576b\"], [0.6666666666666666, \"#ed7953\"], [0.7777777777777778, \"#fb9f3a\"], [0.8888888888888888, \"#fdca26\"], [1.0, \"#f0f921\"]], \"type\": \"histogram2dcontour\"}], \"mesh3d\": [{\"colorbar\": {\"outlinewidth\": 0, \"ticks\": \"\"}, \"type\": \"mesh3d\"}], \"parcoords\": [{\"line\": {\"colorbar\": {\"outlinewidth\": 0, \"ticks\": \"\"}}, \"type\": \"parcoords\"}], \"pie\": [{\"automargin\": true, \"type\": \"pie\"}], \"scatter\": [{\"marker\": {\"colorbar\": {\"outlinewidth\": 0, \"ticks\": \"\"}}, \"type\": \"scatter\"}], \"scatter3d\": [{\"line\": {\"colorbar\": {\"outlinewidth\": 0, \"ticks\": \"\"}}, \"marker\": {\"colorbar\": {\"outlinewidth\": 0, \"ticks\": \"\"}}, \"type\": \"scatter3d\"}], \"scattercarpet\": [{\"marker\": {\"colorbar\": {\"outlinewidth\": 0, \"ticks\": \"\"}}, \"type\": \"scattercarpet\"}], \"scattergeo\": [{\"marker\": {\"colorbar\": {\"outlinewidth\": 0, \"ticks\": \"\"}}, \"type\": \"scattergeo\"}], \"scattergl\": [{\"marker\": {\"colorbar\": {\"outlinewidth\": 0, \"ticks\": \"\"}}, \"type\": \"scattergl\"}], \"scattermapbox\": [{\"marker\": {\"colorbar\": {\"outlinewidth\": 0, \"ticks\": \"\"}}, \"type\": \"scattermapbox\"}], \"scatterpolar\": [{\"marker\": {\"colorbar\": {\"outlinewidth\": 0, \"ticks\": \"\"}}, \"type\": \"scatterpolar\"}], \"scatterpolargl\": [{\"marker\": {\"colorbar\": {\"outlinewidth\": 0, \"ticks\": \"\"}}, \"type\": \"scatterpolargl\"}], \"scatterternary\": [{\"marker\": {\"colorbar\": {\"outlinewidth\": 0, \"ticks\": \"\"}}, \"type\": \"scatterternary\"}], \"surface\": [{\"colorbar\": {\"outlinewidth\": 0, \"ticks\": \"\"}, \"colorscale\": [[0.0, \"#0d0887\"], [0.1111111111111111, \"#46039f\"], [0.2222222222222222, \"#7201a8\"], [0.3333333333333333, \"#9c179e\"], [0.4444444444444444, \"#bd3786\"], [0.5555555555555556, \"#d8576b\"], [0.6666666666666666, \"#ed7953\"], [0.7777777777777778, \"#fb9f3a\"], [0.8888888888888888, \"#fdca26\"], [1.0, \"#f0f921\"]], \"type\": \"surface\"}], \"table\": [{\"cells\": {\"fill\": {\"color\": \"#EBF0F8\"}, \"line\": {\"color\": \"white\"}}, \"header\": {\"fill\": {\"color\": \"#C8D4E3\"}, \"line\": {\"color\": \"white\"}}, \"type\": \"table\"}]}, \"layout\": {\"annotationdefaults\": {\"arrowcolor\": \"#2a3f5f\", \"arrowhead\": 0, \"arrowwidth\": 1}, \"autotypenumbers\": \"strict\", \"coloraxis\": {\"colorbar\": {\"outlinewidth\": 0, \"ticks\": \"\"}}, \"colorscale\": {\"diverging\": [[0, \"#8e0152\"], [0.1, \"#c51b7d\"], [0.2, \"#de77ae\"], [0.3, \"#f1b6da\"], [0.4, \"#fde0ef\"], [0.5, \"#f7f7f7\"], [0.6, \"#e6f5d0\"], [0.7, \"#b8e186\"], [0.8, \"#7fbc41\"], [0.9, \"#4d9221\"], [1, \"#276419\"]], \"sequential\": [[0.0, \"#0d0887\"], [0.1111111111111111, \"#46039f\"], [0.2222222222222222, \"#7201a8\"], [0.3333333333333333, \"#9c179e\"], [0.4444444444444444, \"#bd3786\"], [0.5555555555555556, \"#d8576b\"], [0.6666666666666666, \"#ed7953\"], [0.7777777777777778, \"#fb9f3a\"], [0.8888888888888888, \"#fdca26\"], [1.0, \"#f0f921\"]], \"sequentialminus\": [[0.0, \"#0d0887\"], [0.1111111111111111, \"#46039f\"], [0.2222222222222222, \"#7201a8\"], [0.3333333333333333, \"#9c179e\"], [0.4444444444444444, \"#bd3786\"], [0.5555555555555556, \"#d8576b\"], [0.6666666666666666, \"#ed7953\"], [0.7777777777777778, \"#fb9f3a\"], [0.8888888888888888, \"#fdca26\"], [1.0, \"#f0f921\"]]}, \"colorway\": [\"#636efa\", \"#EF553B\", \"#00cc96\", \"#ab63fa\", \"#FFA15A\", \"#19d3f3\", \"#FF6692\", \"#B6E880\", \"#FF97FF\", \"#FECB52\"], \"font\": {\"color\": \"#2a3f5f\"}, \"geo\": {\"bgcolor\": \"white\", \"lakecolor\": \"white\", \"landcolor\": \"white\", \"showlakes\": true, \"showland\": true, \"subunitcolor\": \"#C8D4E3\"}, \"hoverlabel\": {\"align\": \"left\"}, \"hovermode\": \"closest\", \"mapbox\": {\"style\": \"light\"}, \"paper_bgcolor\": \"white\", \"plot_bgcolor\": \"white\", \"polar\": {\"angularaxis\": {\"gridcolor\": \"#EBF0F8\", \"linecolor\": \"#EBF0F8\", \"ticks\": \"\"}, \"bgcolor\": \"white\", \"radialaxis\": {\"gridcolor\": \"#EBF0F8\", \"linecolor\": \"#EBF0F8\", \"ticks\": \"\"}}, \"scene\": {\"xaxis\": {\"backgroundcolor\": \"white\", \"gridcolor\": \"#DFE8F3\", \"gridwidth\": 2, \"linecolor\": \"#EBF0F8\", \"showbackground\": true, \"ticks\": \"\", \"zerolinecolor\": \"#EBF0F8\"}, \"yaxis\": {\"backgroundcolor\": \"white\", \"gridcolor\": \"#DFE8F3\", \"gridwidth\": 2, \"linecolor\": \"#EBF0F8\", \"showbackground\": true, \"ticks\": \"\", \"zerolinecolor\": \"#EBF0F8\"}, \"zaxis\": {\"backgroundcolor\": \"white\", \"gridcolor\": \"#DFE8F3\", \"gridwidth\": 2, \"linecolor\": \"#EBF0F8\", \"showbackground\": true, \"ticks\": \"\", \"zerolinecolor\": \"#EBF0F8\"}}, \"shapedefaults\": {\"line\": {\"color\": \"#2a3f5f\"}}, \"ternary\": {\"aaxis\": {\"gridcolor\": \"#DFE8F3\", \"linecolor\": \"#A2B1C6\", \"ticks\": \"\"}, \"baxis\": {\"gridcolor\": \"#DFE8F3\", \"linecolor\": \"#A2B1C6\", \"ticks\": \"\"}, \"bgcolor\": \"white\", \"caxis\": {\"gridcolor\": \"#DFE8F3\", \"linecolor\": \"#A2B1C6\", \"ticks\": \"\"}}, \"title\": {\"x\": 0.05}, \"xaxis\": {\"automargin\": true, \"gridcolor\": \"#EBF0F8\", \"linecolor\": \"#EBF0F8\", \"ticks\": \"\", \"title\": {\"standoff\": 15}, \"zerolinecolor\": \"#EBF0F8\", \"zerolinewidth\": 2}, \"yaxis\": {\"automargin\": true, \"gridcolor\": \"#EBF0F8\", \"linecolor\": \"#EBF0F8\", \"ticks\": \"\", \"title\": {\"standoff\": 15}, \"zerolinecolor\": \"#EBF0F8\", \"zerolinewidth\": 2}}}, \"xaxis\": {\"anchor\": \"y\", \"domain\": [0.0, 1.0], \"title\": {\"text\": \"coef\"}}, \"yaxis\": {\"anchor\": \"x\", \"domain\": [0.0, 1.0], \"title\": {\"text\": \"feature\"}}},                        {\"responsive\": true}                    ).then(function(){\n",
       "                            \n",
       "var gd = document.getElementById('d258ef95-3b3f-4f1a-8f27-06981a772d5f');\n",
       "var x = new MutationObserver(function (mutations, observer) {{\n",
       "        var display = window.getComputedStyle(gd).display;\n",
       "        if (!display || display === 'none') {{\n",
       "            console.log([gd, 'removed!']);\n",
       "            Plotly.purge(gd);\n",
       "            observer.disconnect();\n",
       "        }}\n",
       "}});\n",
       "\n",
       "// Listen for the removal of the full notebook cells\n",
       "var notebookContainer = gd.closest('#notebook-container');\n",
       "if (notebookContainer) {{\n",
       "    x.observe(notebookContainer, {childList: true});\n",
       "}}\n",
       "\n",
       "// Listen for the clearing of the current output cell\n",
       "var outputEl = gd.closest('.output');\n",
       "if (outputEl) {{\n",
       "    x.observe(outputEl, {childList: true});\n",
       "}}\n",
       "\n",
       "                        })                };                });            </script>        </div>"
      ]
     },
     "metadata": {},
     "output_type": "display_data"
    }
   ],
   "source": [
    "feat_importance, fig = plot_feat_imp(cols_x, estimator.coef_)\n",
    "fig"
   ]
  },
  {
   "cell_type": "markdown",
   "id": "2034b0a7",
   "metadata": {},
   "source": [
    "# 2. DeepSurv"
   ]
  },
  {
   "cell_type": "markdown",
   "id": "541d1548",
   "metadata": {},
   "source": [
    "Source: https://nbviewer.org/github/havakv/pycox/blob/master/examples/cox-ph.ipynb"
   ]
  },
  {
   "cell_type": "code",
   "execution_count": 82,
   "id": "2226dd1f",
   "metadata": {},
   "outputs": [
    {
     "data": {
      "text/plain": [
       "['date_weekday_cos',\n",
       " 'date_hour_cos',\n",
       " 'date_weekday_sin',\n",
       " 'gender=female',\n",
       " 'date_hour_sin',\n",
       " 'age',\n",
       " 'time_since_signup',\n",
       " 'nb_cases',\n",
       " 'date_month_cos',\n",
       " 'price',\n",
       " 'product=prd_1',\n",
       " 'billing_cycle',\n",
       " 'channel=email',\n",
       " 'reason=support',\n",
       " 'date_month_sin']"
      ]
     },
     "execution_count": 82,
     "metadata": {},
     "output_type": "execute_result"
    }
   ],
   "source": [
    "n_top = 40\n",
    "cols_x_reduc = list(feat_importance.feature.iloc[:n_top])\n",
    "cols_x_reduc"
   ]
  },
  {
   "cell_type": "code",
   "execution_count": 83,
   "id": "aaa1b0dc",
   "metadata": {},
   "outputs": [],
   "source": [
    "get_target = lambda df: (df[col_target].values, df['censored'].values)\n",
    "\n",
    "y_train = get_target(Xy_train)\n",
    "y_val = get_target(Xy_val)\n",
    "y_test = get_target(Xy_test)\n",
    "\n",
    "train = (np.array(Xy_train[cols_x_reduc]).astype(np.float32), y_train)\n",
    "val = (np.array(Xy_val[cols_x_reduc]).astype(np.float32), y_val)\n",
    "test = (np.array(Xy_test[cols_x_reduc]).astype(np.float32), y_test)"
   ]
  },
  {
   "cell_type": "code",
   "execution_count": 88,
   "id": "ac599c70",
   "metadata": {
    "code_folding": [],
    "scrolled": false
   },
   "outputs": [
    {
     "name": "stdout",
     "output_type": "stream",
     "text": [
      "concordance: 0.652570868600722\n",
      "0:\t[21s / 21s],\t\ttrain_loss: 3.0540,\tval_loss: 29.2488\n",
      "1:\t[15s / 36s],\t\ttrain_loss: 3.0369,\tval_loss: 21.1583\n",
      "2:\t[12s / 48s],\t\ttrain_loss: 3.0339,\tval_loss: 19.1340\n",
      "3:\t[13s / 1m:2s],\t\ttrain_loss: 3.0318,\tval_loss: 12.9004\n",
      "4:\t[9s / 1m:11s],\t\ttrain_loss: 3.0306,\tval_loss: 13.3456\n",
      "concordance: 0.6588056433214963\n",
      "5:\t[17s / 1m:29s],\t\ttrain_loss: 3.0301,\tval_loss: 23.7524\n",
      "6:\t[9s / 1m:38s],\t\ttrain_loss: 3.0289,\tval_loss: 14.4282\n",
      "7:\t[9s / 1m:48s],\t\ttrain_loss: 3.0286,\tval_loss: 12.7086\n",
      "8:\t[9s / 1m:57s],\t\ttrain_loss: 3.0283,\tval_loss: 12.1495\n",
      "9:\t[10s / 2m:7s],\t\ttrain_loss: 3.0275,\tval_loss: 17.6870\n",
      "concordance: 0.6616914091750455\n",
      "10:\t[17s / 2m:24s],\t\ttrain_loss: 3.0276,\tval_loss: 13.1918\n",
      "11:\t[9s / 2m:34s],\t\ttrain_loss: 3.0271,\tval_loss: 8.8010\n",
      "12:\t[9s / 2m:43s],\t\ttrain_loss: 3.0257,\tval_loss: 13.8372\n",
      "13:\t[9s / 2m:52s],\t\ttrain_loss: 3.0262,\tval_loss: 9.0589\n",
      "14:\t[9s / 3m:1s],\t\ttrain_loss: 3.0274,\tval_loss: 8.7906\n",
      "concordance: 0.6603391914794575\n",
      "15:\t[16s / 3m:18s],\t\ttrain_loss: 3.0267,\tval_loss: 10.0524\n",
      "16:\t[10s / 3m:28s],\t\ttrain_loss: 3.0249,\tval_loss: 8.8497\n",
      "17:\t[11s / 3m:40s],\t\ttrain_loss: 3.0257,\tval_loss: 12.2570\n",
      "18:\t[10s / 3m:51s],\t\ttrain_loss: 3.0244,\tval_loss: 8.6322\n",
      "19:\t[10s / 4m:1s],\t\ttrain_loss: 3.0249,\tval_loss: 10.5055\n",
      "concordance: 0.6573812264635701\n",
      "20:\t[19s / 4m:20s],\t\ttrain_loss: 3.0253,\tval_loss: 10.5720\n",
      "21:\t[11s / 4m:31s],\t\ttrain_loss: 3.0241,\tval_loss: 10.3830\n",
      "22:\t[10s / 4m:42s],\t\ttrain_loss: 3.0251,\tval_loss: 10.3342\n",
      "23:\t[12s / 4m:54s],\t\ttrain_loss: 3.0241,\tval_loss: 11.9805\n",
      "24:\t[10s / 5m:4s],\t\ttrain_loss: 3.0244,\tval_loss: 9.4281\n",
      "concordance: 0.6562130186121725\n",
      "25:\t[18s / 5m:22s],\t\ttrain_loss: 3.0240,\tval_loss: 12.6116\n",
      "26:\t[12s / 5m:35s],\t\ttrain_loss: 3.0258,\tval_loss: 7.4867\n",
      "27:\t[9s / 5m:45s],\t\ttrain_loss: 3.0237,\tval_loss: 9.2131\n",
      "28:\t[9s / 5m:54s],\t\ttrain_loss: 3.0239,\tval_loss: 8.0445\n",
      "29:\t[10s / 6m:4s],\t\ttrain_loss: 3.0229,\tval_loss: 7.2671\n",
      "concordance: 0.6576208433086506\n",
      "30:\t[16s / 6m:21s],\t\ttrain_loss: 3.0242,\tval_loss: 8.6827\n",
      "31:\t[11s / 6m:33s],\t\ttrain_loss: 3.0233,\tval_loss: 8.0087\n",
      "32:\t[10s / 6m:44s],\t\ttrain_loss: 3.0238,\tval_loss: 8.9733\n",
      "33:\t[10s / 6m:54s],\t\ttrain_loss: 3.0223,\tval_loss: 9.7623\n",
      "34:\t[9s / 7m:4s],\t\ttrain_loss: 3.0223,\tval_loss: 7.9493\n",
      "concordance: 0.6559438827022377\n",
      "35:\t[17s / 7m:22s],\t\ttrain_loss: 3.0234,\tval_loss: 10.0143\n",
      "36:\t[10s / 7m:32s],\t\ttrain_loss: 3.0229,\tval_loss: 6.7594\n",
      "37:\t[11s / 7m:44s],\t\ttrain_loss: 3.0222,\tval_loss: 10.2763\n",
      "38:\t[11s / 7m:56s],\t\ttrain_loss: 3.0235,\tval_loss: 12.1834\n",
      "39:\t[13s / 8m:10s],\t\ttrain_loss: 3.0228,\tval_loss: 11.0858\n",
      "concordance: 0.6550319519994557\n",
      "40:\t[21s / 8m:31s],\t\ttrain_loss: 3.0208,\tval_loss: 7.4091\n",
      "41:\t[11s / 8m:43s],\t\ttrain_loss: 3.0225,\tval_loss: 6.8576\n",
      "42:\t[9s / 8m:52s],\t\ttrain_loss: 3.0226,\tval_loss: 10.3270\n",
      "43:\t[11s / 9m:4s],\t\ttrain_loss: 3.0220,\tval_loss: 8.9312\n",
      "44:\t[9s / 9m:13s],\t\ttrain_loss: 3.0219,\tval_loss: 9.2425\n",
      "concordance: 0.6514983641268882\n",
      "45:\t[16s / 9m:29s],\t\ttrain_loss: 3.0219,\tval_loss: 10.2454\n",
      "46:\t[9s / 9m:38s],\t\ttrain_loss: 3.0227,\tval_loss: 6.5789\n",
      "47:\t[8s / 9m:47s],\t\ttrain_loss: 3.0229,\tval_loss: 11.2451\n",
      "48:\t[8s / 9m:56s],\t\ttrain_loss: 3.0224,\tval_loss: 7.9387\n",
      "49:\t[8s / 10m:5s],\t\ttrain_loss: 3.0218,\tval_loss: 9.8446\n",
      "concordance: 0.6544465188662464\n",
      "50:\t[15s / 10m:21s],\t\ttrain_loss: 3.0224,\tval_loss: 7.6079\n",
      "51:\t[10s / 10m:31s],\t\ttrain_loss: 3.0220,\tval_loss: 8.2654\n",
      "52:\t[12s / 10m:44s],\t\ttrain_loss: 3.0223,\tval_loss: 8.7698\n",
      "53:\t[11s / 10m:55s],\t\ttrain_loss: 3.0214,\tval_loss: 14.8853\n",
      "54:\t[9s / 11m:4s],\t\ttrain_loss: 3.0217,\tval_loss: 7.1094\n",
      "concordance: 0.6439119592176247\n",
      "55:\t[16s / 11m:21s],\t\ttrain_loss: 3.0211,\tval_loss: 11.9051\n",
      "56:\t[11s / 11m:32s],\t\ttrain_loss: 3.0206,\tval_loss: 12.2964\n",
      "57:\t[15s / 11m:48s],\t\ttrain_loss: 3.0207,\tval_loss: 11.8751\n",
      "58:\t[10s / 11m:59s],\t\ttrain_loss: 3.0212,\tval_loss: 10.0622\n",
      "59:\t[8s / 12m:8s],\t\ttrain_loss: 3.0224,\tval_loss: 12.4594\n",
      "concordance: 0.6518281945434228\n",
      "60:\t[16s / 12m:24s],\t\ttrain_loss: 3.0218,\tval_loss: 8.7649\n",
      "61:\t[9s / 12m:33s],\t\ttrain_loss: 3.0211,\tval_loss: 19.1941\n"
     ]
    },
    {
     "data": {
      "application/vnd.plotly.v1+json": {
       "config": {
        "plotlyServerURL": "https://plotly.com"
       },
       "data": [
        {
         "hovertemplate": "dataset=train_loss<br>index=%{x}<br>loss=%{y}<extra></extra>",
         "legendgroup": "train_loss",
         "line": {
          "color": "#636efa",
          "dash": "solid"
         },
         "mode": "lines",
         "name": "train_loss",
         "orientation": "v",
         "showlegend": true,
         "type": "scatter",
         "x": [
          0,
          1,
          2,
          3,
          4,
          5,
          6,
          7,
          8,
          9,
          10,
          11,
          12,
          13,
          14,
          15,
          16,
          17,
          18,
          19,
          20,
          21,
          22,
          23,
          24,
          25,
          26,
          27,
          28,
          29,
          30,
          31,
          32,
          33,
          34,
          35,
          36,
          37,
          38,
          39,
          40,
          41,
          42,
          43,
          44,
          45,
          46,
          47,
          48,
          49,
          50,
          51,
          52,
          53,
          54,
          55,
          56,
          57,
          58,
          59,
          60,
          61
         ],
         "xaxis": "x",
         "y": [
          3.0539611568495926,
          3.0368630597810062,
          3.033855585424783,
          3.0318024681226863,
          3.0306010883278427,
          3.030108099312812,
          3.028853613484472,
          3.0286048516099413,
          3.028275191274163,
          3.027530387206543,
          3.0275502397190746,
          3.0271235294694994,
          3.0256525083686427,
          3.026187982048759,
          3.0274202488615463,
          3.026739833172849,
          3.0249272209463904,
          3.0257134211165333,
          3.0244179056197695,
          3.024852712011661,
          3.025256049172501,
          3.0240834964056416,
          3.025100268364234,
          3.0241278883138962,
          3.0244196922123097,
          3.024041679660608,
          3.0257712765732756,
          3.0236776053676984,
          3.023929111622175,
          3.022868221609756,
          3.02420458769735,
          3.023343992177029,
          3.02383728928708,
          3.022323861089789,
          3.0223370482175618,
          3.023373303389486,
          3.0229192984135795,
          3.0222125773372217,
          3.0234954441869832,
          3.0227551343201253,
          3.020847169848819,
          3.02250980114522,
          3.022633303937853,
          3.021962525921211,
          3.021918315024054,
          3.0219468400387663,
          3.022714657651327,
          3.022877229522091,
          3.022432741040292,
          3.0217792746311303,
          3.0224389190063543,
          3.021999904519511,
          3.022303227687859,
          3.021418883047495,
          3.021722804301258,
          3.021102933221354,
          3.02061309135266,
          3.0206562630443297,
          3.0211836925758018,
          3.0224481281436884,
          3.0217959025868693,
          3.021096767735179
         ],
         "yaxis": "y"
        },
        {
         "hovertemplate": "dataset=val_loss<br>index=%{x}<br>loss=%{y}<extra></extra>",
         "legendgroup": "val_loss",
         "line": {
          "color": "#EF553B",
          "dash": "solid"
         },
         "mode": "lines",
         "name": "val_loss",
         "orientation": "v",
         "showlegend": true,
         "type": "scatter",
         "x": [
          0,
          1,
          2,
          3,
          4,
          5,
          6,
          7,
          8,
          9,
          10,
          11,
          12,
          13,
          14,
          15,
          16,
          17,
          18,
          19,
          20,
          21,
          22,
          23,
          24,
          25,
          26,
          27,
          28,
          29,
          30,
          31,
          32,
          33,
          34,
          35,
          36,
          37,
          38,
          39,
          40,
          41,
          42,
          43,
          44,
          45,
          46,
          47,
          48,
          49,
          50,
          51,
          52,
          53,
          54,
          55,
          56,
          57,
          58,
          59,
          60,
          61
         ],
         "xaxis": "x",
         "y": [
          29.248802185058594,
          21.15829849243164,
          19.133960723876953,
          12.900362014770508,
          13.345609664916992,
          23.75242805480957,
          14.428230285644531,
          12.708573341369629,
          12.149514198303223,
          17.68698501586914,
          13.191788673400879,
          8.801045417785645,
          13.837241172790527,
          9.05892276763916,
          8.790617942810059,
          10.052419662475586,
          8.849702835083008,
          12.257003784179688,
          8.632226943969727,
          10.505525588989258,
          10.571986198425293,
          10.383030891418457,
          10.334249496459961,
          11.980498313903809,
          9.428118705749512,
          12.611639022827148,
          7.48668098449707,
          9.213127136230469,
          8.044472694396973,
          7.267062664031982,
          8.682707786560059,
          8.008674621582031,
          8.973260879516602,
          9.76229476928711,
          7.949265956878662,
          10.014336585998535,
          6.759360313415527,
          10.27633285522461,
          12.18339729309082,
          11.085765838623047,
          7.4091081619262695,
          6.857632637023926,
          10.32695484161377,
          8.931196212768555,
          9.24251651763916,
          10.245356559753418,
          6.578898906707764,
          11.245129585266113,
          7.938674449920654,
          9.844610214233398,
          7.607925891876221,
          8.265443801879883,
          8.769843101501465,
          14.885330200195312,
          7.109358787536621,
          11.905139923095703,
          12.296418190002441,
          11.875051498413086,
          10.062185287475586,
          12.459388732910156,
          8.764853477478027,
          19.19405174255371
         ],
         "yaxis": "y"
        }
       ],
       "layout": {
        "height": 400,
        "legend": {
         "title": {
          "text": "dataset"
         },
         "tracegroupgap": 0
        },
        "margin": {
         "t": 60
        },
        "template": {
         "data": {
          "bar": [
           {
            "error_x": {
             "color": "#2a3f5f"
            },
            "error_y": {
             "color": "#2a3f5f"
            },
            "marker": {
             "line": {
              "color": "white",
              "width": 0.5
             }
            },
            "type": "bar"
           }
          ],
          "barpolar": [
           {
            "marker": {
             "line": {
              "color": "white",
              "width": 0.5
             }
            },
            "type": "barpolar"
           }
          ],
          "carpet": [
           {
            "aaxis": {
             "endlinecolor": "#2a3f5f",
             "gridcolor": "#C8D4E3",
             "linecolor": "#C8D4E3",
             "minorgridcolor": "#C8D4E3",
             "startlinecolor": "#2a3f5f"
            },
            "baxis": {
             "endlinecolor": "#2a3f5f",
             "gridcolor": "#C8D4E3",
             "linecolor": "#C8D4E3",
             "minorgridcolor": "#C8D4E3",
             "startlinecolor": "#2a3f5f"
            },
            "type": "carpet"
           }
          ],
          "choropleth": [
           {
            "colorbar": {
             "outlinewidth": 0,
             "ticks": ""
            },
            "type": "choropleth"
           }
          ],
          "contour": [
           {
            "colorbar": {
             "outlinewidth": 0,
             "ticks": ""
            },
            "colorscale": [
             [
              0,
              "#0d0887"
             ],
             [
              0.1111111111111111,
              "#46039f"
             ],
             [
              0.2222222222222222,
              "#7201a8"
             ],
             [
              0.3333333333333333,
              "#9c179e"
             ],
             [
              0.4444444444444444,
              "#bd3786"
             ],
             [
              0.5555555555555556,
              "#d8576b"
             ],
             [
              0.6666666666666666,
              "#ed7953"
             ],
             [
              0.7777777777777778,
              "#fb9f3a"
             ],
             [
              0.8888888888888888,
              "#fdca26"
             ],
             [
              1,
              "#f0f921"
             ]
            ],
            "type": "contour"
           }
          ],
          "contourcarpet": [
           {
            "colorbar": {
             "outlinewidth": 0,
             "ticks": ""
            },
            "type": "contourcarpet"
           }
          ],
          "heatmap": [
           {
            "colorbar": {
             "outlinewidth": 0,
             "ticks": ""
            },
            "colorscale": [
             [
              0,
              "#0d0887"
             ],
             [
              0.1111111111111111,
              "#46039f"
             ],
             [
              0.2222222222222222,
              "#7201a8"
             ],
             [
              0.3333333333333333,
              "#9c179e"
             ],
             [
              0.4444444444444444,
              "#bd3786"
             ],
             [
              0.5555555555555556,
              "#d8576b"
             ],
             [
              0.6666666666666666,
              "#ed7953"
             ],
             [
              0.7777777777777778,
              "#fb9f3a"
             ],
             [
              0.8888888888888888,
              "#fdca26"
             ],
             [
              1,
              "#f0f921"
             ]
            ],
            "type": "heatmap"
           }
          ],
          "heatmapgl": [
           {
            "colorbar": {
             "outlinewidth": 0,
             "ticks": ""
            },
            "colorscale": [
             [
              0,
              "#0d0887"
             ],
             [
              0.1111111111111111,
              "#46039f"
             ],
             [
              0.2222222222222222,
              "#7201a8"
             ],
             [
              0.3333333333333333,
              "#9c179e"
             ],
             [
              0.4444444444444444,
              "#bd3786"
             ],
             [
              0.5555555555555556,
              "#d8576b"
             ],
             [
              0.6666666666666666,
              "#ed7953"
             ],
             [
              0.7777777777777778,
              "#fb9f3a"
             ],
             [
              0.8888888888888888,
              "#fdca26"
             ],
             [
              1,
              "#f0f921"
             ]
            ],
            "type": "heatmapgl"
           }
          ],
          "histogram": [
           {
            "marker": {
             "colorbar": {
              "outlinewidth": 0,
              "ticks": ""
             }
            },
            "type": "histogram"
           }
          ],
          "histogram2d": [
           {
            "colorbar": {
             "outlinewidth": 0,
             "ticks": ""
            },
            "colorscale": [
             [
              0,
              "#0d0887"
             ],
             [
              0.1111111111111111,
              "#46039f"
             ],
             [
              0.2222222222222222,
              "#7201a8"
             ],
             [
              0.3333333333333333,
              "#9c179e"
             ],
             [
              0.4444444444444444,
              "#bd3786"
             ],
             [
              0.5555555555555556,
              "#d8576b"
             ],
             [
              0.6666666666666666,
              "#ed7953"
             ],
             [
              0.7777777777777778,
              "#fb9f3a"
             ],
             [
              0.8888888888888888,
              "#fdca26"
             ],
             [
              1,
              "#f0f921"
             ]
            ],
            "type": "histogram2d"
           }
          ],
          "histogram2dcontour": [
           {
            "colorbar": {
             "outlinewidth": 0,
             "ticks": ""
            },
            "colorscale": [
             [
              0,
              "#0d0887"
             ],
             [
              0.1111111111111111,
              "#46039f"
             ],
             [
              0.2222222222222222,
              "#7201a8"
             ],
             [
              0.3333333333333333,
              "#9c179e"
             ],
             [
              0.4444444444444444,
              "#bd3786"
             ],
             [
              0.5555555555555556,
              "#d8576b"
             ],
             [
              0.6666666666666666,
              "#ed7953"
             ],
             [
              0.7777777777777778,
              "#fb9f3a"
             ],
             [
              0.8888888888888888,
              "#fdca26"
             ],
             [
              1,
              "#f0f921"
             ]
            ],
            "type": "histogram2dcontour"
           }
          ],
          "mesh3d": [
           {
            "colorbar": {
             "outlinewidth": 0,
             "ticks": ""
            },
            "type": "mesh3d"
           }
          ],
          "parcoords": [
           {
            "line": {
             "colorbar": {
              "outlinewidth": 0,
              "ticks": ""
             }
            },
            "type": "parcoords"
           }
          ],
          "pie": [
           {
            "automargin": true,
            "type": "pie"
           }
          ],
          "scatter": [
           {
            "marker": {
             "colorbar": {
              "outlinewidth": 0,
              "ticks": ""
             }
            },
            "type": "scatter"
           }
          ],
          "scatter3d": [
           {
            "line": {
             "colorbar": {
              "outlinewidth": 0,
              "ticks": ""
             }
            },
            "marker": {
             "colorbar": {
              "outlinewidth": 0,
              "ticks": ""
             }
            },
            "type": "scatter3d"
           }
          ],
          "scattercarpet": [
           {
            "marker": {
             "colorbar": {
              "outlinewidth": 0,
              "ticks": ""
             }
            },
            "type": "scattercarpet"
           }
          ],
          "scattergeo": [
           {
            "marker": {
             "colorbar": {
              "outlinewidth": 0,
              "ticks": ""
             }
            },
            "type": "scattergeo"
           }
          ],
          "scattergl": [
           {
            "marker": {
             "colorbar": {
              "outlinewidth": 0,
              "ticks": ""
             }
            },
            "type": "scattergl"
           }
          ],
          "scattermapbox": [
           {
            "marker": {
             "colorbar": {
              "outlinewidth": 0,
              "ticks": ""
             }
            },
            "type": "scattermapbox"
           }
          ],
          "scatterpolar": [
           {
            "marker": {
             "colorbar": {
              "outlinewidth": 0,
              "ticks": ""
             }
            },
            "type": "scatterpolar"
           }
          ],
          "scatterpolargl": [
           {
            "marker": {
             "colorbar": {
              "outlinewidth": 0,
              "ticks": ""
             }
            },
            "type": "scatterpolargl"
           }
          ],
          "scatterternary": [
           {
            "marker": {
             "colorbar": {
              "outlinewidth": 0,
              "ticks": ""
             }
            },
            "type": "scatterternary"
           }
          ],
          "surface": [
           {
            "colorbar": {
             "outlinewidth": 0,
             "ticks": ""
            },
            "colorscale": [
             [
              0,
              "#0d0887"
             ],
             [
              0.1111111111111111,
              "#46039f"
             ],
             [
              0.2222222222222222,
              "#7201a8"
             ],
             [
              0.3333333333333333,
              "#9c179e"
             ],
             [
              0.4444444444444444,
              "#bd3786"
             ],
             [
              0.5555555555555556,
              "#d8576b"
             ],
             [
              0.6666666666666666,
              "#ed7953"
             ],
             [
              0.7777777777777778,
              "#fb9f3a"
             ],
             [
              0.8888888888888888,
              "#fdca26"
             ],
             [
              1,
              "#f0f921"
             ]
            ],
            "type": "surface"
           }
          ],
          "table": [
           {
            "cells": {
             "fill": {
              "color": "#EBF0F8"
             },
             "line": {
              "color": "white"
             }
            },
            "header": {
             "fill": {
              "color": "#C8D4E3"
             },
             "line": {
              "color": "white"
             }
            },
            "type": "table"
           }
          ]
         },
         "layout": {
          "annotationdefaults": {
           "arrowcolor": "#2a3f5f",
           "arrowhead": 0,
           "arrowwidth": 1
          },
          "autotypenumbers": "strict",
          "coloraxis": {
           "colorbar": {
            "outlinewidth": 0,
            "ticks": ""
           }
          },
          "colorscale": {
           "diverging": [
            [
             0,
             "#8e0152"
            ],
            [
             0.1,
             "#c51b7d"
            ],
            [
             0.2,
             "#de77ae"
            ],
            [
             0.3,
             "#f1b6da"
            ],
            [
             0.4,
             "#fde0ef"
            ],
            [
             0.5,
             "#f7f7f7"
            ],
            [
             0.6,
             "#e6f5d0"
            ],
            [
             0.7,
             "#b8e186"
            ],
            [
             0.8,
             "#7fbc41"
            ],
            [
             0.9,
             "#4d9221"
            ],
            [
             1,
             "#276419"
            ]
           ],
           "sequential": [
            [
             0,
             "#0d0887"
            ],
            [
             0.1111111111111111,
             "#46039f"
            ],
            [
             0.2222222222222222,
             "#7201a8"
            ],
            [
             0.3333333333333333,
             "#9c179e"
            ],
            [
             0.4444444444444444,
             "#bd3786"
            ],
            [
             0.5555555555555556,
             "#d8576b"
            ],
            [
             0.6666666666666666,
             "#ed7953"
            ],
            [
             0.7777777777777778,
             "#fb9f3a"
            ],
            [
             0.8888888888888888,
             "#fdca26"
            ],
            [
             1,
             "#f0f921"
            ]
           ],
           "sequentialminus": [
            [
             0,
             "#0d0887"
            ],
            [
             0.1111111111111111,
             "#46039f"
            ],
            [
             0.2222222222222222,
             "#7201a8"
            ],
            [
             0.3333333333333333,
             "#9c179e"
            ],
            [
             0.4444444444444444,
             "#bd3786"
            ],
            [
             0.5555555555555556,
             "#d8576b"
            ],
            [
             0.6666666666666666,
             "#ed7953"
            ],
            [
             0.7777777777777778,
             "#fb9f3a"
            ],
            [
             0.8888888888888888,
             "#fdca26"
            ],
            [
             1,
             "#f0f921"
            ]
           ]
          },
          "colorway": [
           "#636efa",
           "#EF553B",
           "#00cc96",
           "#ab63fa",
           "#FFA15A",
           "#19d3f3",
           "#FF6692",
           "#B6E880",
           "#FF97FF",
           "#FECB52"
          ],
          "font": {
           "color": "#2a3f5f"
          },
          "geo": {
           "bgcolor": "white",
           "lakecolor": "white",
           "landcolor": "white",
           "showlakes": true,
           "showland": true,
           "subunitcolor": "#C8D4E3"
          },
          "hoverlabel": {
           "align": "left"
          },
          "hovermode": "closest",
          "mapbox": {
           "style": "light"
          },
          "paper_bgcolor": "white",
          "plot_bgcolor": "white",
          "polar": {
           "angularaxis": {
            "gridcolor": "#EBF0F8",
            "linecolor": "#EBF0F8",
            "ticks": ""
           },
           "bgcolor": "white",
           "radialaxis": {
            "gridcolor": "#EBF0F8",
            "linecolor": "#EBF0F8",
            "ticks": ""
           }
          },
          "scene": {
           "xaxis": {
            "backgroundcolor": "white",
            "gridcolor": "#DFE8F3",
            "gridwidth": 2,
            "linecolor": "#EBF0F8",
            "showbackground": true,
            "ticks": "",
            "zerolinecolor": "#EBF0F8"
           },
           "yaxis": {
            "backgroundcolor": "white",
            "gridcolor": "#DFE8F3",
            "gridwidth": 2,
            "linecolor": "#EBF0F8",
            "showbackground": true,
            "ticks": "",
            "zerolinecolor": "#EBF0F8"
           },
           "zaxis": {
            "backgroundcolor": "white",
            "gridcolor": "#DFE8F3",
            "gridwidth": 2,
            "linecolor": "#EBF0F8",
            "showbackground": true,
            "ticks": "",
            "zerolinecolor": "#EBF0F8"
           }
          },
          "shapedefaults": {
           "line": {
            "color": "#2a3f5f"
           }
          },
          "ternary": {
           "aaxis": {
            "gridcolor": "#DFE8F3",
            "linecolor": "#A2B1C6",
            "ticks": ""
           },
           "baxis": {
            "gridcolor": "#DFE8F3",
            "linecolor": "#A2B1C6",
            "ticks": ""
           },
           "bgcolor": "white",
           "caxis": {
            "gridcolor": "#DFE8F3",
            "linecolor": "#A2B1C6",
            "ticks": ""
           }
          },
          "title": {
           "x": 0.05
          },
          "xaxis": {
           "automargin": true,
           "gridcolor": "#EBF0F8",
           "linecolor": "#EBF0F8",
           "ticks": "",
           "title": {
            "standoff": 15
           },
           "zerolinecolor": "#EBF0F8",
           "zerolinewidth": 2
          },
          "yaxis": {
           "automargin": true,
           "gridcolor": "#EBF0F8",
           "linecolor": "#EBF0F8",
           "ticks": "",
           "title": {
            "standoff": 15
           },
           "zerolinecolor": "#EBF0F8",
           "zerolinewidth": 2
          }
         }
        },
        "width": 800,
        "xaxis": {
         "anchor": "y",
         "domain": [
          0,
          1
         ],
         "title": {
          "text": "index"
         }
        },
        "yaxis": {
         "anchor": "x",
         "domain": [
          0,
          1
         ],
         "title": {
          "text": "loss"
         }
        }
       }
      },
      "text/html": [
       "<div>                            <div id=\"7816e777-f649-4b82-ab9a-10d90c64aee2\" class=\"plotly-graph-div\" style=\"height:400px; width:800px;\"></div>            <script type=\"text/javascript\">                require([\"plotly\"], function(Plotly) {                    window.PLOTLYENV=window.PLOTLYENV || {};                                    if (document.getElementById(\"7816e777-f649-4b82-ab9a-10d90c64aee2\")) {                    Plotly.newPlot(                        \"7816e777-f649-4b82-ab9a-10d90c64aee2\",                        [{\"hovertemplate\": \"dataset=train_loss<br>index=%{x}<br>loss=%{y}<extra></extra>\", \"legendgroup\": \"train_loss\", \"line\": {\"color\": \"#636efa\", \"dash\": \"solid\"}, \"mode\": \"lines\", \"name\": \"train_loss\", \"orientation\": \"v\", \"showlegend\": true, \"type\": \"scatter\", \"x\": [0, 1, 2, 3, 4, 5, 6, 7, 8, 9, 10, 11, 12, 13, 14, 15, 16, 17, 18, 19, 20, 21, 22, 23, 24, 25, 26, 27, 28, 29, 30, 31, 32, 33, 34, 35, 36, 37, 38, 39, 40, 41, 42, 43, 44, 45, 46, 47, 48, 49, 50, 51, 52, 53, 54, 55, 56, 57, 58, 59, 60, 61], \"xaxis\": \"x\", \"y\": [3.0539611568495926, 3.0368630597810062, 3.033855585424783, 3.0318024681226863, 3.0306010883278427, 3.030108099312812, 3.028853613484472, 3.0286048516099413, 3.028275191274163, 3.027530387206543, 3.0275502397190746, 3.0271235294694994, 3.0256525083686427, 3.026187982048759, 3.0274202488615463, 3.026739833172849, 3.0249272209463904, 3.0257134211165333, 3.0244179056197695, 3.024852712011661, 3.025256049172501, 3.0240834964056416, 3.025100268364234, 3.0241278883138962, 3.0244196922123097, 3.024041679660608, 3.0257712765732756, 3.0236776053676984, 3.023929111622175, 3.022868221609756, 3.02420458769735, 3.023343992177029, 3.02383728928708, 3.022323861089789, 3.0223370482175618, 3.023373303389486, 3.0229192984135795, 3.0222125773372217, 3.0234954441869832, 3.0227551343201253, 3.020847169848819, 3.02250980114522, 3.022633303937853, 3.021962525921211, 3.021918315024054, 3.0219468400387663, 3.022714657651327, 3.022877229522091, 3.022432741040292, 3.0217792746311303, 3.0224389190063543, 3.021999904519511, 3.022303227687859, 3.021418883047495, 3.021722804301258, 3.021102933221354, 3.02061309135266, 3.0206562630443297, 3.0211836925758018, 3.0224481281436884, 3.0217959025868693, 3.021096767735179], \"yaxis\": \"y\"}, {\"hovertemplate\": \"dataset=val_loss<br>index=%{x}<br>loss=%{y}<extra></extra>\", \"legendgroup\": \"val_loss\", \"line\": {\"color\": \"#EF553B\", \"dash\": \"solid\"}, \"mode\": \"lines\", \"name\": \"val_loss\", \"orientation\": \"v\", \"showlegend\": true, \"type\": \"scatter\", \"x\": [0, 1, 2, 3, 4, 5, 6, 7, 8, 9, 10, 11, 12, 13, 14, 15, 16, 17, 18, 19, 20, 21, 22, 23, 24, 25, 26, 27, 28, 29, 30, 31, 32, 33, 34, 35, 36, 37, 38, 39, 40, 41, 42, 43, 44, 45, 46, 47, 48, 49, 50, 51, 52, 53, 54, 55, 56, 57, 58, 59, 60, 61], \"xaxis\": \"x\", \"y\": [29.248802185058594, 21.15829849243164, 19.133960723876953, 12.900362014770508, 13.345609664916992, 23.75242805480957, 14.428230285644531, 12.708573341369629, 12.149514198303223, 17.68698501586914, 13.191788673400879, 8.801045417785645, 13.837241172790527, 9.05892276763916, 8.790617942810059, 10.052419662475586, 8.849702835083008, 12.257003784179688, 8.632226943969727, 10.505525588989258, 10.571986198425293, 10.383030891418457, 10.334249496459961, 11.980498313903809, 9.428118705749512, 12.611639022827148, 7.48668098449707, 9.213127136230469, 8.044472694396973, 7.267062664031982, 8.682707786560059, 8.008674621582031, 8.973260879516602, 9.76229476928711, 7.949265956878662, 10.014336585998535, 6.759360313415527, 10.27633285522461, 12.18339729309082, 11.085765838623047, 7.4091081619262695, 6.857632637023926, 10.32695484161377, 8.931196212768555, 9.24251651763916, 10.245356559753418, 6.578898906707764, 11.245129585266113, 7.938674449920654, 9.844610214233398, 7.607925891876221, 8.265443801879883, 8.769843101501465, 14.885330200195312, 7.109358787536621, 11.905139923095703, 12.296418190002441, 11.875051498413086, 10.062185287475586, 12.459388732910156, 8.764853477478027, 19.19405174255371], \"yaxis\": \"y\"}],                        {\"height\": 400, \"legend\": {\"title\": {\"text\": \"dataset\"}, \"tracegroupgap\": 0}, \"margin\": {\"t\": 60}, \"template\": {\"data\": {\"bar\": [{\"error_x\": {\"color\": \"#2a3f5f\"}, \"error_y\": {\"color\": \"#2a3f5f\"}, \"marker\": {\"line\": {\"color\": \"white\", \"width\": 0.5}}, \"type\": \"bar\"}], \"barpolar\": [{\"marker\": {\"line\": {\"color\": \"white\", \"width\": 0.5}}, \"type\": \"barpolar\"}], \"carpet\": [{\"aaxis\": {\"endlinecolor\": \"#2a3f5f\", \"gridcolor\": \"#C8D4E3\", \"linecolor\": \"#C8D4E3\", \"minorgridcolor\": \"#C8D4E3\", \"startlinecolor\": \"#2a3f5f\"}, \"baxis\": {\"endlinecolor\": \"#2a3f5f\", \"gridcolor\": \"#C8D4E3\", \"linecolor\": \"#C8D4E3\", \"minorgridcolor\": \"#C8D4E3\", \"startlinecolor\": \"#2a3f5f\"}, \"type\": \"carpet\"}], \"choropleth\": [{\"colorbar\": {\"outlinewidth\": 0, \"ticks\": \"\"}, \"type\": \"choropleth\"}], \"contour\": [{\"colorbar\": {\"outlinewidth\": 0, \"ticks\": \"\"}, \"colorscale\": [[0.0, \"#0d0887\"], [0.1111111111111111, \"#46039f\"], [0.2222222222222222, \"#7201a8\"], [0.3333333333333333, \"#9c179e\"], [0.4444444444444444, \"#bd3786\"], [0.5555555555555556, \"#d8576b\"], [0.6666666666666666, \"#ed7953\"], [0.7777777777777778, \"#fb9f3a\"], [0.8888888888888888, \"#fdca26\"], [1.0, \"#f0f921\"]], \"type\": \"contour\"}], \"contourcarpet\": [{\"colorbar\": {\"outlinewidth\": 0, \"ticks\": \"\"}, \"type\": \"contourcarpet\"}], \"heatmap\": [{\"colorbar\": {\"outlinewidth\": 0, \"ticks\": \"\"}, \"colorscale\": [[0.0, \"#0d0887\"], [0.1111111111111111, \"#46039f\"], [0.2222222222222222, \"#7201a8\"], [0.3333333333333333, \"#9c179e\"], [0.4444444444444444, \"#bd3786\"], [0.5555555555555556, \"#d8576b\"], [0.6666666666666666, \"#ed7953\"], [0.7777777777777778, \"#fb9f3a\"], [0.8888888888888888, \"#fdca26\"], [1.0, \"#f0f921\"]], \"type\": \"heatmap\"}], \"heatmapgl\": [{\"colorbar\": {\"outlinewidth\": 0, \"ticks\": \"\"}, \"colorscale\": [[0.0, \"#0d0887\"], [0.1111111111111111, \"#46039f\"], [0.2222222222222222, \"#7201a8\"], [0.3333333333333333, \"#9c179e\"], [0.4444444444444444, \"#bd3786\"], [0.5555555555555556, \"#d8576b\"], [0.6666666666666666, \"#ed7953\"], [0.7777777777777778, \"#fb9f3a\"], [0.8888888888888888, \"#fdca26\"], [1.0, \"#f0f921\"]], \"type\": \"heatmapgl\"}], \"histogram\": [{\"marker\": {\"colorbar\": {\"outlinewidth\": 0, \"ticks\": \"\"}}, \"type\": \"histogram\"}], \"histogram2d\": [{\"colorbar\": {\"outlinewidth\": 0, \"ticks\": \"\"}, \"colorscale\": [[0.0, \"#0d0887\"], [0.1111111111111111, \"#46039f\"], [0.2222222222222222, \"#7201a8\"], [0.3333333333333333, \"#9c179e\"], [0.4444444444444444, \"#bd3786\"], [0.5555555555555556, \"#d8576b\"], [0.6666666666666666, \"#ed7953\"], [0.7777777777777778, \"#fb9f3a\"], [0.8888888888888888, \"#fdca26\"], [1.0, \"#f0f921\"]], \"type\": \"histogram2d\"}], \"histogram2dcontour\": [{\"colorbar\": {\"outlinewidth\": 0, \"ticks\": \"\"}, \"colorscale\": [[0.0, \"#0d0887\"], [0.1111111111111111, \"#46039f\"], [0.2222222222222222, \"#7201a8\"], [0.3333333333333333, \"#9c179e\"], [0.4444444444444444, \"#bd3786\"], [0.5555555555555556, \"#d8576b\"], [0.6666666666666666, \"#ed7953\"], [0.7777777777777778, \"#fb9f3a\"], [0.8888888888888888, \"#fdca26\"], [1.0, \"#f0f921\"]], \"type\": \"histogram2dcontour\"}], \"mesh3d\": [{\"colorbar\": {\"outlinewidth\": 0, \"ticks\": \"\"}, \"type\": \"mesh3d\"}], \"parcoords\": [{\"line\": {\"colorbar\": {\"outlinewidth\": 0, \"ticks\": \"\"}}, \"type\": \"parcoords\"}], \"pie\": [{\"automargin\": true, \"type\": \"pie\"}], \"scatter\": [{\"marker\": {\"colorbar\": {\"outlinewidth\": 0, \"ticks\": \"\"}}, \"type\": \"scatter\"}], \"scatter3d\": [{\"line\": {\"colorbar\": {\"outlinewidth\": 0, \"ticks\": \"\"}}, \"marker\": {\"colorbar\": {\"outlinewidth\": 0, \"ticks\": \"\"}}, \"type\": \"scatter3d\"}], \"scattercarpet\": [{\"marker\": {\"colorbar\": {\"outlinewidth\": 0, \"ticks\": \"\"}}, \"type\": \"scattercarpet\"}], \"scattergeo\": [{\"marker\": {\"colorbar\": {\"outlinewidth\": 0, \"ticks\": \"\"}}, \"type\": \"scattergeo\"}], \"scattergl\": [{\"marker\": {\"colorbar\": {\"outlinewidth\": 0, \"ticks\": \"\"}}, \"type\": \"scattergl\"}], \"scattermapbox\": [{\"marker\": {\"colorbar\": {\"outlinewidth\": 0, \"ticks\": \"\"}}, \"type\": \"scattermapbox\"}], \"scatterpolar\": [{\"marker\": {\"colorbar\": {\"outlinewidth\": 0, \"ticks\": \"\"}}, \"type\": \"scatterpolar\"}], \"scatterpolargl\": [{\"marker\": {\"colorbar\": {\"outlinewidth\": 0, \"ticks\": \"\"}}, \"type\": \"scatterpolargl\"}], \"scatterternary\": [{\"marker\": {\"colorbar\": {\"outlinewidth\": 0, \"ticks\": \"\"}}, \"type\": \"scatterternary\"}], \"surface\": [{\"colorbar\": {\"outlinewidth\": 0, \"ticks\": \"\"}, \"colorscale\": [[0.0, \"#0d0887\"], [0.1111111111111111, \"#46039f\"], [0.2222222222222222, \"#7201a8\"], [0.3333333333333333, \"#9c179e\"], [0.4444444444444444, \"#bd3786\"], [0.5555555555555556, \"#d8576b\"], [0.6666666666666666, \"#ed7953\"], [0.7777777777777778, \"#fb9f3a\"], [0.8888888888888888, \"#fdca26\"], [1.0, \"#f0f921\"]], \"type\": \"surface\"}], \"table\": [{\"cells\": {\"fill\": {\"color\": \"#EBF0F8\"}, \"line\": {\"color\": \"white\"}}, \"header\": {\"fill\": {\"color\": \"#C8D4E3\"}, \"line\": {\"color\": \"white\"}}, \"type\": \"table\"}]}, \"layout\": {\"annotationdefaults\": {\"arrowcolor\": \"#2a3f5f\", \"arrowhead\": 0, \"arrowwidth\": 1}, \"autotypenumbers\": \"strict\", \"coloraxis\": {\"colorbar\": {\"outlinewidth\": 0, \"ticks\": \"\"}}, \"colorscale\": {\"diverging\": [[0, \"#8e0152\"], [0.1, \"#c51b7d\"], [0.2, \"#de77ae\"], [0.3, \"#f1b6da\"], [0.4, \"#fde0ef\"], [0.5, \"#f7f7f7\"], [0.6, \"#e6f5d0\"], [0.7, \"#b8e186\"], [0.8, \"#7fbc41\"], [0.9, \"#4d9221\"], [1, \"#276419\"]], \"sequential\": [[0.0, \"#0d0887\"], [0.1111111111111111, \"#46039f\"], [0.2222222222222222, \"#7201a8\"], [0.3333333333333333, \"#9c179e\"], [0.4444444444444444, \"#bd3786\"], [0.5555555555555556, \"#d8576b\"], [0.6666666666666666, \"#ed7953\"], [0.7777777777777778, \"#fb9f3a\"], [0.8888888888888888, \"#fdca26\"], [1.0, \"#f0f921\"]], \"sequentialminus\": [[0.0, \"#0d0887\"], [0.1111111111111111, \"#46039f\"], [0.2222222222222222, \"#7201a8\"], [0.3333333333333333, \"#9c179e\"], [0.4444444444444444, \"#bd3786\"], [0.5555555555555556, \"#d8576b\"], [0.6666666666666666, \"#ed7953\"], [0.7777777777777778, \"#fb9f3a\"], [0.8888888888888888, \"#fdca26\"], [1.0, \"#f0f921\"]]}, \"colorway\": [\"#636efa\", \"#EF553B\", \"#00cc96\", \"#ab63fa\", \"#FFA15A\", \"#19d3f3\", \"#FF6692\", \"#B6E880\", \"#FF97FF\", \"#FECB52\"], \"font\": {\"color\": \"#2a3f5f\"}, \"geo\": {\"bgcolor\": \"white\", \"lakecolor\": \"white\", \"landcolor\": \"white\", \"showlakes\": true, \"showland\": true, \"subunitcolor\": \"#C8D4E3\"}, \"hoverlabel\": {\"align\": \"left\"}, \"hovermode\": \"closest\", \"mapbox\": {\"style\": \"light\"}, \"paper_bgcolor\": \"white\", \"plot_bgcolor\": \"white\", \"polar\": {\"angularaxis\": {\"gridcolor\": \"#EBF0F8\", \"linecolor\": \"#EBF0F8\", \"ticks\": \"\"}, \"bgcolor\": \"white\", \"radialaxis\": {\"gridcolor\": \"#EBF0F8\", \"linecolor\": \"#EBF0F8\", \"ticks\": \"\"}}, \"scene\": {\"xaxis\": {\"backgroundcolor\": \"white\", \"gridcolor\": \"#DFE8F3\", \"gridwidth\": 2, \"linecolor\": \"#EBF0F8\", \"showbackground\": true, \"ticks\": \"\", \"zerolinecolor\": \"#EBF0F8\"}, \"yaxis\": {\"backgroundcolor\": \"white\", \"gridcolor\": \"#DFE8F3\", \"gridwidth\": 2, \"linecolor\": \"#EBF0F8\", \"showbackground\": true, \"ticks\": \"\", \"zerolinecolor\": \"#EBF0F8\"}, \"zaxis\": {\"backgroundcolor\": \"white\", \"gridcolor\": \"#DFE8F3\", \"gridwidth\": 2, \"linecolor\": \"#EBF0F8\", \"showbackground\": true, \"ticks\": \"\", \"zerolinecolor\": \"#EBF0F8\"}}, \"shapedefaults\": {\"line\": {\"color\": \"#2a3f5f\"}}, \"ternary\": {\"aaxis\": {\"gridcolor\": \"#DFE8F3\", \"linecolor\": \"#A2B1C6\", \"ticks\": \"\"}, \"baxis\": {\"gridcolor\": \"#DFE8F3\", \"linecolor\": \"#A2B1C6\", \"ticks\": \"\"}, \"bgcolor\": \"white\", \"caxis\": {\"gridcolor\": \"#DFE8F3\", \"linecolor\": \"#A2B1C6\", \"ticks\": \"\"}}, \"title\": {\"x\": 0.05}, \"xaxis\": {\"automargin\": true, \"gridcolor\": \"#EBF0F8\", \"linecolor\": \"#EBF0F8\", \"ticks\": \"\", \"title\": {\"standoff\": 15}, \"zerolinecolor\": \"#EBF0F8\", \"zerolinewidth\": 2}, \"yaxis\": {\"automargin\": true, \"gridcolor\": \"#EBF0F8\", \"linecolor\": \"#EBF0F8\", \"ticks\": \"\", \"title\": {\"standoff\": 15}, \"zerolinecolor\": \"#EBF0F8\", \"zerolinewidth\": 2}}}, \"width\": 800, \"xaxis\": {\"anchor\": \"y\", \"domain\": [0.0, 1.0], \"title\": {\"text\": \"index\"}}, \"yaxis\": {\"anchor\": \"x\", \"domain\": [0.0, 1.0], \"title\": {\"text\": \"loss\"}}},                        {\"responsive\": true}                    ).then(function(){\n",
       "                            \n",
       "var gd = document.getElementById('7816e777-f649-4b82-ab9a-10d90c64aee2');\n",
       "var x = new MutationObserver(function (mutations, observer) {{\n",
       "        var display = window.getComputedStyle(gd).display;\n",
       "        if (!display || display === 'none') {{\n",
       "            console.log([gd, 'removed!']);\n",
       "            Plotly.purge(gd);\n",
       "            observer.disconnect();\n",
       "        }}\n",
       "}});\n",
       "\n",
       "// Listen for the removal of the full notebook cells\n",
       "var notebookContainer = gd.closest('#notebook-container');\n",
       "if (notebookContainer) {{\n",
       "    x.observe(notebookContainer, {childList: true});\n",
       "}}\n",
       "\n",
       "// Listen for the clearing of the current output cell\n",
       "var outputEl = gd.closest('.output');\n",
       "if (outputEl) {{\n",
       "    x.observe(outputEl, {childList: true});\n",
       "}}\n",
       "\n",
       "                        })                };                });            </script>        </div>"
      ]
     },
     "metadata": {},
     "output_type": "display_data"
    },
    {
     "name": "stdout",
     "output_type": "stream",
     "text": [
      "score 0.7045817952566035\n"
     ]
    }
   ],
   "source": [
    "params = {\n",
    "    'n_nodes': 128,\n",
    "    'n_layers': 4,\n",
    "    'dropout': 0.4,\n",
    "    'lr':0.005, \n",
    "    'batch_size': 64,\n",
    "}\n",
    "\n",
    "\n",
    "logs_df, model, score = train_deep_surv(\n",
    "    train, val, test, CoxPH, out_features = 1, tolerance=10, \n",
    "    print_lr=True, print_logs=True, verbose = True,\n",
    "    **params\n",
    ")\n",
    "\n",
    "print('score', score)"
   ]
  },
  {
   "cell_type": "code",
   "execution_count": 89,
   "id": "ce6b5aa2",
   "metadata": {},
   "outputs": [
    {
     "data": {
      "text/plain": [
       "0.7045817952566035"
      ]
     },
     "execution_count": 89,
     "metadata": {},
     "output_type": "execute_result"
    }
   ],
   "source": [
    "surv = model.predict_surv_df(test[0])\n",
    "ev = EvalSurv(surv, test[1][0], test[1][1])\n",
    "score = ev.concordance_td()\n",
    "score"
   ]
  },
  {
   "cell_type": "code",
   "execution_count": 85,
   "id": "32d78f29",
   "metadata": {
    "code_folding": [],
    "scrolled": true
   },
   "outputs": [
    {
     "name": "stdout",
     "output_type": "stream",
     "text": [
      "24 total scenario to run\n",
      "1/24: params: {'n_nodes': 32, 'n_layers': 2, 'dropout': 0.3, 'lr': 0.01}\n",
      "concordance: 0.6504141121319281\n",
      "0:\t[28s / 28s],\t\ttrain_loss: 1.7751,\tval_loss: 34.9330\n",
      "1:\t[20s / 48s],\t\ttrain_loss: 1.7673,\tval_loss: 99.0763\n",
      "2:\t[27s / 1m:15s],\t\ttrain_loss: 1.7659,\tval_loss: 41.2679\n",
      "3:\t[24s / 1m:39s],\t\ttrain_loss: 1.7654,\tval_loss: 58.9233\n",
      "4:\t[24s / 2m:4s],\t\ttrain_loss: 1.7647,\tval_loss: 93.6270\n",
      "concordance: 0.6423004425339345\n",
      "5:\t[30s / 2m:35s],\t\ttrain_loss: 1.7645,\tval_loss: 31.7624\n",
      "6:\t[20s / 2m:55s],\t\ttrain_loss: 1.7665,\tval_loss: 37.1184\n",
      "7:\t[18s / 3m:14s],\t\ttrain_loss: 1.7641,\tval_loss: 51.9789\n",
      "8:\t[20s / 3m:35s],\t\ttrain_loss: 1.7644,\tval_loss: 57.5091\n",
      "9:\t[20s / 3m:55s],\t\ttrain_loss: 1.7638,\tval_loss: 78.7920\n",
      "concordance: 0.649419447325389\n",
      "10:\t[26s / 4m:22s],\t\ttrain_loss: 1.7638,\tval_loss: 58.7192\n",
      "11:\t[18s / 4m:40s],\t\ttrain_loss: 1.7637,\tval_loss: 74.4302\n",
      "12:\t[20s / 5m:0s],\t\ttrain_loss: 1.7640,\tval_loss: 56.9902\n",
      "13:\t[19s / 5m:19s],\t\ttrain_loss: 1.7636,\tval_loss: 91.4547\n",
      "14:\t[25s / 5m:45s],\t\ttrain_loss: 1.7639,\tval_loss: 46.7251\n",
      "concordance: 0.6510221675645027\n",
      "15:\t[34s / 6m:19s],\t\ttrain_loss: 1.7643,\tval_loss: 67.9185\n",
      "16:\t[27s / 6m:47s],\t\ttrain_loss: 1.7634,\tval_loss: 52.9058\n",
      "17:\t[23s / 7m:10s],\t\ttrain_loss: 1.7634,\tval_loss: 70.3944\n",
      "18:\t[28s / 7m:38s],\t\ttrain_loss: 1.7626,\tval_loss: 72.5779\n",
      "19:\t[23s / 8m:2s],\t\ttrain_loss: 1.7617,\tval_loss: 63.2526\n",
      "concordance: 0.651312923735673\n",
      "20:\t[37s / 8m:40s],\t\ttrain_loss: 1.7624,\tval_loss: 40.8853\n",
      "Current score: 0.6996865451896459 vs. best score: -100\n",
      "2/24: params: {'n_nodes': 32, 'n_layers': 2, 'dropout': 0.3, 'lr': 0.005}\n",
      "concordance: 0.6536387114568917\n",
      "0:\t[31s / 31s],\t\ttrain_loss: 1.7719,\tval_loss: 18.3311\n",
      "1:\t[19s / 51s],\t\ttrain_loss: 1.7627,\tval_loss: 29.8117\n",
      "2:\t[31s / 1m:22s],\t\ttrain_loss: 1.7618,\tval_loss: 29.9646\n",
      "3:\t[25s / 1m:48s],\t\ttrain_loss: 1.7601,\tval_loss: 26.0742\n",
      "4:\t[22s / 2m:10s],\t\ttrain_loss: 1.7599,\tval_loss: 24.6723\n",
      "concordance: 0.642927510919289\n",
      "5:\t[37s / 2m:48s],\t\ttrain_loss: 1.7580,\tval_loss: 29.5339\n",
      "6:\t[23s / 3m:11s],\t\ttrain_loss: 1.7592,\tval_loss: 53.8604\n",
      "7:\t[22s / 3m:33s],\t\ttrain_loss: 1.7586,\tval_loss: 42.2880\n",
      "8:\t[20s / 3m:54s],\t\ttrain_loss: 1.7581,\tval_loss: 62.1334\n",
      "9:\t[21s / 4m:15s],\t\ttrain_loss: 1.7583,\tval_loss: 33.0408\n",
      "concordance: 0.6507865907589441\n",
      "10:\t[31s / 4m:47s],\t\ttrain_loss: 1.7573,\tval_loss: 34.9595\n",
      "11:\t[23s / 5m:10s],\t\ttrain_loss: 1.7558,\tval_loss: 23.6541\n",
      "12:\t[21s / 5m:32s],\t\ttrain_loss: 1.7579,\tval_loss: 42.8990\n",
      "13:\t[19s / 5m:52s],\t\ttrain_loss: 1.7580,\tval_loss: 34.8150\n",
      "14:\t[20s / 6m:13s],\t\ttrain_loss: 1.7572,\tval_loss: 32.9065\n",
      "concordance: 0.647982451263425\n",
      "15:\t[31s / 6m:44s],\t\ttrain_loss: 1.7567,\tval_loss: 38.9735\n",
      "Current score: 0.6943494987590428 vs. best score: 0.6996865451896459\n",
      "3/24: params: {'n_nodes': 32, 'n_layers': 2, 'dropout': 0.4, 'lr': 0.01}\n",
      "concordance: 0.6504389914195309\n",
      "0:\t[34s / 34s],\t\ttrain_loss: 1.7805,\tval_loss: 41.5494\n",
      "1:\t[27s / 1m:1s],\t\ttrain_loss: 1.7745,\tval_loss: 42.2162\n",
      "2:\t[24s / 1m:26s],\t\ttrain_loss: 1.7742,\tval_loss: 24.8297\n",
      "3:\t[22s / 1m:48s],\t\ttrain_loss: 1.7736,\tval_loss: 45.6863\n",
      "4:\t[32s / 2m:20s],\t\ttrain_loss: 1.7710,\tval_loss: 90.3708\n",
      "concordance: 0.6546572146369692\n",
      "5:\t[26s / 2m:46s],\t\ttrain_loss: 1.7689,\tval_loss: 23.3943\n",
      "6:\t[18s / 3m:5s],\t\ttrain_loss: 1.7710,\tval_loss: 47.9360\n",
      "7:\t[18s / 3m:23s],\t\ttrain_loss: 1.7700,\tval_loss: 50.2428\n",
      "8:\t[17s / 3m:41s],\t\ttrain_loss: 1.7687,\tval_loss: 1374.3934\n",
      "9:\t[17s / 3m:59s],\t\ttrain_loss: 1.7699,\tval_loss: 237.2243\n",
      "concordance: 0.6510391205295668\n",
      "10:\t[25s / 4m:25s],\t\ttrain_loss: 1.7691,\tval_loss: 58.7732\n",
      "11:\t[18s / 4m:44s],\t\ttrain_loss: 1.7688,\tval_loss: 46.3607\n",
      "12:\t[18s / 5m:2s],\t\ttrain_loss: 1.7696,\tval_loss: 63.8434\n",
      "13:\t[19s / 5m:22s],\t\ttrain_loss: 1.7693,\tval_loss: 36.9794\n",
      "14:\t[21s / 5m:43s],\t\ttrain_loss: 1.7698,\tval_loss: 60.5037\n",
      "concordance: 0.6559096281991247\n",
      "15:\t[31s / 6m:15s],\t\ttrain_loss: 1.7683,\tval_loss: 28.5889\n",
      "16:\t[29s / 6m:45s],\t\ttrain_loss: 1.7672,\tval_loss: 44.6943\n",
      "17:\t[28s / 7m:13s],\t\ttrain_loss: 1.7693,\tval_loss: 11.8022\n",
      "18:\t[31s / 7m:44s],\t\ttrain_loss: 1.7679,\tval_loss: 61.1553\n",
      "19:\t[24s / 8m:9s],\t\ttrain_loss: 1.7689,\tval_loss: 37.6605\n",
      "concordance: 0.6492348346858111\n",
      "20:\t[30s / 8m:40s],\t\ttrain_loss: 1.7684,\tval_loss: 39.6634\n",
      "21:\t[18s / 8m:58s],\t\ttrain_loss: 1.7690,\tval_loss: 24.1106\n",
      "22:\t[22s / 9m:21s],\t\ttrain_loss: 1.7682,\tval_loss: 28.4118\n",
      "23:\t[36s / 9m:57s],\t\ttrain_loss: 1.7684,\tval_loss: 40.6402\n",
      "24:\t[44s / 10m:41s],\t\ttrain_loss: 1.7679,\tval_loss: 28.0433\n",
      "concordance: 0.6496043303492749\n",
      "25:\t[51s / 11m:33s],\t\ttrain_loss: 1.7696,\tval_loss: 42.9925\n",
      "26:\t[28s / 12m:1s],\t\ttrain_loss: 1.7701,\tval_loss: 71.0309\n",
      "27:\t[37s / 12m:39s],\t\ttrain_loss: 1.7684,\tval_loss: 58.8431\n",
      "28:\t[55s / 13m:34s],\t\ttrain_loss: 1.7674,\tval_loss: 67.5663\n",
      "29:\t[1m:14s / 14m:49s],\t\ttrain_loss: 1.7678,\tval_loss: 52.1644\n",
      "concordance: 0.6480396320844467\n",
      "30:\t[37s / 15m:26s],\t\ttrain_loss: 1.7686,\tval_loss: 63.5885\n",
      "31:\t[23s / 15m:50s],\t\ttrain_loss: 1.7693,\tval_loss: 37.7309\n",
      "32:\t[21s / 16m:12s],\t\ttrain_loss: 1.7688,\tval_loss: 56.5034\n",
      "Current score: 0.6998000406757322 vs. best score: 0.6996865451896459\n",
      "4/24: params: {'n_nodes': 32, 'n_layers': 2, 'dropout': 0.4, 'lr': 0.005}\n",
      "concordance: 0.6495965171600734\n",
      "0:\t[30s / 30s],\t\ttrain_loss: 1.7770,\tval_loss: 59.7945\n",
      "1:\t[21s / 51s],\t\ttrain_loss: 1.7676,\tval_loss: 25.1052\n",
      "2:\t[21s / 1m:13s],\t\ttrain_loss: 1.7647,\tval_loss: 34.2974\n",
      "3:\t[28s / 1m:41s],\t\ttrain_loss: 1.7643,\tval_loss: 56.1977\n",
      "4:\t[26s / 2m:8s],\t\ttrain_loss: 1.7645,\tval_loss: 50.6524\n",
      "concordance: 0.6494159349502355\n",
      "5:\t[29s / 2m:37s],\t\ttrain_loss: 1.7641,\tval_loss: 46.2281\n",
      "6:\t[21s / 2m:59s],\t\ttrain_loss: 1.7643,\tval_loss: 30.8099\n",
      "7:\t[21s / 3m:21s],\t\ttrain_loss: 1.7642,\tval_loss: 28.6488\n",
      "8:\t[20s / 3m:41s],\t\ttrain_loss: 1.7643,\tval_loss: 38.6401\n",
      "9:\t[21s / 4m:3s],\t\ttrain_loss: 1.7632,\tval_loss: 41.6038\n",
      "concordance: 0.6492979159126993\n",
      "10:\t[38s / 4m:41s],\t\ttrain_loss: 1.7621,\tval_loss: 61.1214\n",
      "11:\t[20s / 5m:2s],\t\ttrain_loss: 1.7613,\tval_loss: 62.0494\n",
      "12:\t[20s / 5m:23s],\t\ttrain_loss: 1.7624,\tval_loss: 66.7974\n",
      "13:\t[20s / 5m:44s],\t\ttrain_loss: 1.7615,\tval_loss: 56.3040\n",
      "14:\t[21s / 6m:6s],\t\ttrain_loss: 1.7617,\tval_loss: 60.9353\n",
      "concordance: 0.650582468952412\n",
      "15:\t[30s / 6m:36s],\t\ttrain_loss: 1.7618,\tval_loss: 55.6958\n",
      "16:\t[21s / 6m:57s],\t\ttrain_loss: 1.7624,\tval_loss: 60.8470\n",
      "Current score: 0.6940575059957916 vs. best score: 0.6998000406757322\n",
      "5/24: params: {'n_nodes': 32, 'n_layers': 4, 'dropout': 0.3, 'lr': 0.01}\n",
      "concordance: 0.6516045255676188\n",
      "0:\t[40s / 40s],\t\ttrain_loss: 1.7809,\tval_loss: 35.9034\n",
      "1:\t[58s / 1m:39s],\t\ttrain_loss: 1.7754,\tval_loss: 14.7004\n",
      "2:\t[38s / 2m:17s],\t\ttrain_loss: 1.7713,\tval_loss: 21.7815\n",
      "3:\t[42s / 3m:0s],\t\ttrain_loss: 1.7700,\tval_loss: 16.4324\n",
      "4:\t[42s / 3m:42s],\t\ttrain_loss: 1.7688,\tval_loss: 45.7868\n",
      "concordance: 0.6652366170207298\n",
      "5:\t[55s / 4m:38s],\t\ttrain_loss: 1.7688,\tval_loss: 12.5488\n",
      "6:\t[38s / 5m:16s],\t\ttrain_loss: 1.7678,\tval_loss: 32.5469\n",
      "7:\t[38s / 5m:55s],\t\ttrain_loss: 1.7673,\tval_loss: 21.7437\n",
      "8:\t[38s / 6m:34s],\t\ttrain_loss: 1.7689,\tval_loss: 9.4826\n",
      "9:\t[49s / 7m:24s],\t\ttrain_loss: 1.7674,\tval_loss: 24.9524\n",
      "concordance: 0.6620162494941105\n",
      "10:\t[55s / 8m:20s],\t\ttrain_loss: 1.7669,\tval_loss: 15.2850\n",
      "11:\t[38s / 8m:58s],\t\ttrain_loss: 1.7665,\tval_loss: 34.6989\n",
      "12:\t[35s / 9m:33s],\t\ttrain_loss: 1.7684,\tval_loss: 26.3059\n",
      "13:\t[40s / 10m:14s],\t\ttrain_loss: 1.7667,\tval_loss: 14.0835\n",
      "14:\t[35s / 10m:50s],\t\ttrain_loss: 1.7661,\tval_loss: 32.5054\n",
      "concordance: 0.653684775944711\n",
      "15:\t[43s / 11m:33s],\t\ttrain_loss: 1.7675,\tval_loss: 29.5142\n",
      "16:\t[35s / 12m:8s],\t\ttrain_loss: 1.7658,\tval_loss: 21.9302\n",
      "17:\t[31s / 12m:40s],\t\ttrain_loss: 1.7659,\tval_loss: 17.0449\n",
      "18:\t[31s / 13m:12s],\t\ttrain_loss: 1.7667,\tval_loss: 10.6765\n",
      "19:\t[31s / 13m:44s],\t\ttrain_loss: 1.7669,\tval_loss: 9.1582\n",
      "concordance: 0.6599372885749779\n",
      "20:\t[41s / 14m:26s],\t\ttrain_loss: 1.7649,\tval_loss: 19.2411\n",
      "21:\t[33s / 14m:59s],\t\ttrain_loss: 1.7664,\tval_loss: 9.8401\n",
      "22:\t[30s / 15m:30s],\t\ttrain_loss: 1.7646,\tval_loss: 10.4805\n",
      "23:\t[1m:17s / 16m:48s],\t\ttrain_loss: 1.7647,\tval_loss: 10.5563\n",
      "24:\t[49s / 17m:37s],\t\ttrain_loss: 1.7654,\tval_loss: 15.9731\n",
      "concordance: 0.6656609609491501\n",
      "25:\t[39s / 18m:16s],\t\ttrain_loss: 1.7643,\tval_loss: 12.2338\n",
      "26:\t[31s / 18m:48s],\t\ttrain_loss: 1.7658,\tval_loss: 21.5370\n",
      "27:\t[34s / 19m:23s],\t\ttrain_loss: 1.7636,\tval_loss: 28.2526\n"
     ]
    },
    {
     "name": "stdout",
     "output_type": "stream",
     "text": [
      "28:\t[41s / 20m:4s],\t\ttrain_loss: 1.7635,\tval_loss: 10.1493\n",
      "29:\t[31s / 20m:36s],\t\ttrain_loss: 1.7648,\tval_loss: 10.1115\n",
      "concordance: 0.6586946568968153\n",
      "30:\t[39s / 21m:15s],\t\ttrain_loss: 1.7644,\tval_loss: 21.7910\n",
      "31:\t[31s / 21m:47s],\t\ttrain_loss: 1.7655,\tval_loss: 16.3775\n",
      "32:\t[31s / 22m:18s],\t\ttrain_loss: 1.7641,\tval_loss: 16.5737\n",
      "33:\t[31s / 22m:49s],\t\ttrain_loss: 1.7656,\tval_loss: 9.5660\n",
      "34:\t[37s / 23m:27s],\t\ttrain_loss: 1.7640,\tval_loss: 15.5554\n",
      "Current score: 0.7029911558302366 vs. best score: 0.6998000406757322\n",
      "6/24: params: {'n_nodes': 32, 'n_layers': 4, 'dropout': 0.3, 'lr': 0.005}\n",
      "concordance: 0.6513218306927372\n",
      "0:\t[38s / 38s],\t\ttrain_loss: 1.7804,\tval_loss: 49.3429\n",
      "1:\t[30s / 1m:9s],\t\ttrain_loss: 1.7692,\tval_loss: 14.6531\n",
      "2:\t[42s / 1m:51s],\t\ttrain_loss: 1.7681,\tval_loss: 19.4893\n",
      "3:\t[38s / 2m:30s],\t\ttrain_loss: 1.7651,\tval_loss: 24.0068\n",
      "4:\t[38s / 3m:9s],\t\ttrain_loss: 1.7640,\tval_loss: 26.8162\n",
      "concordance: 0.659067969390784\n",
      "5:\t[55s / 4m:4s],\t\ttrain_loss: 1.7639,\tval_loss: 18.8007\n",
      "6:\t[40s / 4m:45s],\t\ttrain_loss: 1.7617,\tval_loss: 20.7596\n",
      "7:\t[44s / 5m:29s],\t\ttrain_loss: 1.7635,\tval_loss: 21.3989\n",
      "8:\t[39s / 6m:9s],\t\ttrain_loss: 1.7627,\tval_loss: 28.1340\n",
      "9:\t[47s / 6m:56s],\t\ttrain_loss: 1.7620,\tval_loss: 19.0984\n",
      "concordance: 0.6543736789062028\n",
      "10:\t[53s / 7m:50s],\t\ttrain_loss: 1.7615,\tval_loss: 22.1155\n",
      "11:\t[33s / 8m:24s],\t\ttrain_loss: 1.7617,\tval_loss: 20.8664\n",
      "12:\t[32s / 8m:56s],\t\ttrain_loss: 1.7618,\tval_loss: 31.6234\n",
      "13:\t[32s / 9m:29s],\t\ttrain_loss: 1.7609,\tval_loss: 29.7892\n",
      "14:\t[32s / 10m:2s],\t\ttrain_loss: 1.7612,\tval_loss: 16.7259\n",
      "concordance: 0.6523924053477141\n",
      "15:\t[40s / 10m:43s],\t\ttrain_loss: 1.7620,\tval_loss: 45.6524\n",
      "16:\t[35s / 11m:18s],\t\ttrain_loss: 1.7609,\tval_loss: 542.0494\n",
      "Current score: 0.7001015607883054 vs. best score: 0.7029911558302366\n",
      "7/24: params: {'n_nodes': 32, 'n_layers': 4, 'dropout': 0.4, 'lr': 0.01}\n",
      "concordance: 0.656161543380537\n",
      "0:\t[46s / 46s],\t\ttrain_loss: 1.7893,\tval_loss: 17.4249\n",
      "1:\t[36s / 1m:22s],\t\ttrain_loss: 1.7817,\tval_loss: 21.2363\n",
      "2:\t[38s / 2m:1s],\t\ttrain_loss: 1.7787,\tval_loss: 34.2770\n",
      "3:\t[38s / 2m:40s],\t\ttrain_loss: 1.7770,\tval_loss: 16.7263\n",
      "4:\t[33s / 3m:13s],\t\ttrain_loss: 1.7766,\tval_loss: 21.1671\n",
      "concordance: 0.6546706229030692\n",
      "5:\t[38s / 3m:52s],\t\ttrain_loss: 1.7756,\tval_loss: 21.5917\n",
      "6:\t[31s / 4m:23s],\t\ttrain_loss: 1.7752,\tval_loss: 26.7030\n",
      "7:\t[36s / 5m:0s],\t\ttrain_loss: 1.7732,\tval_loss: 31.8765\n",
      "8:\t[44s / 5m:45s],\t\ttrain_loss: 1.7759,\tval_loss: 34.4201\n",
      "9:\t[36s / 6m:22s],\t\ttrain_loss: 1.7755,\tval_loss: 67.7909\n",
      "concordance: 0.6549763703334442\n",
      "10:\t[44s / 7m:6s],\t\ttrain_loss: 1.7748,\tval_loss: 20.1420\n",
      "11:\t[33s / 7m:39s],\t\ttrain_loss: 1.7746,\tval_loss: 16.7279\n",
      "12:\t[32s / 8m:11s],\t\ttrain_loss: 1.7748,\tval_loss: 11.9230\n",
      "13:\t[38s / 8m:49s],\t\ttrain_loss: 1.7747,\tval_loss: 66.0534\n",
      "14:\t[1h:29m:3s / 1h:37m:53s],\t\ttrain_loss: 1.7728,\tval_loss: 24.3568\n",
      "concordance: 0.6537452638410076\n",
      "15:\t[1m:13s / 1h:39m:7s],\t\ttrain_loss: 1.7733,\tval_loss: 30.1728\n",
      "16:\t[44s / 1h:39m:51s],\t\ttrain_loss: 1.7734,\tval_loss: 18.9124\n",
      "17:\t[42s / 1h:40m:34s],\t\ttrain_loss: 1.7732,\tval_loss: 38.3308\n",
      "18:\t[36s / 1h:41m:10s],\t\ttrain_loss: 1.7744,\tval_loss: 24.2687\n",
      "19:\t[35s / 1h:41m:45s],\t\ttrain_loss: 1.7721,\tval_loss: 30.3067\n",
      "concordance: 0.6519057865404386\n",
      "20:\t[53s / 1h:42m:39s],\t\ttrain_loss: 1.7730,\tval_loss: 113.1230\n",
      "21:\t[44s / 1h:43m:23s],\t\ttrain_loss: 1.7735,\tval_loss: 239.8957\n",
      "22:\t[49s / 1h:44m:12s],\t\ttrain_loss: 1.7717,\tval_loss: 178.2066\n",
      "23:\t[45s / 1h:44m:58s],\t\ttrain_loss: 1.7722,\tval_loss: 20.9382\n",
      "24:\t[39s / 1h:45m:38s],\t\ttrain_loss: 1.7712,\tval_loss: 30.2429\n",
      "concordance: 0.6545148444130067\n",
      "25:\t[48s / 1h:46m:26s],\t\ttrain_loss: 1.7703,\tval_loss: 29.3728\n",
      "26:\t[40s / 1h:47m:7s],\t\ttrain_loss: 1.7717,\tval_loss: 45.3231\n",
      "27:\t[42m:56s / 2h:30m:4s],\t\ttrain_loss: 1.7735,\tval_loss: 22.2084\n",
      "Current score: 0.7002449947814662 vs. best score: 0.7029911558302366\n",
      "8/24: params: {'n_nodes': 32, 'n_layers': 4, 'dropout': 0.4, 'lr': 0.005}\n",
      "concordance: 0.6498669053992663\n",
      "0:\t[59s / 59s],\t\ttrain_loss: 1.7849,\tval_loss: 41.5769\n",
      "1:\t[42s / 1m:41s],\t\ttrain_loss: 1.7741,\tval_loss: 37.1942\n",
      "2:\t[38s / 2m:20s],\t\ttrain_loss: 1.7742,\tval_loss: 15.9131\n",
      "3:\t[36s / 2m:57s],\t\ttrain_loss: 1.7711,\tval_loss: 17.3821\n",
      "4:\t[31s / 3m:28s],\t\ttrain_loss: 1.7710,\tval_loss: 19.7242\n",
      "concordance: 0.6522622561450229\n",
      "5:\t[37s / 4m:6s],\t\ttrain_loss: 1.7701,\tval_loss: 27.9243\n",
      "6:\t[28s / 4m:34s],\t\ttrain_loss: 1.7687,\tval_loss: 26.8317\n",
      "7:\t[31s / 5m:6s],\t\ttrain_loss: 1.7682,\tval_loss: 19.1413\n",
      "8:\t[31s / 5m:38s],\t\ttrain_loss: 1.7690,\tval_loss: 53.6670\n",
      "9:\t[34s / 6m:13s],\t\ttrain_loss: 1.7680,\tval_loss: 29.7430\n",
      "concordance: 0.6520844371841865\n",
      "10:\t[39s / 6m:52s],\t\ttrain_loss: 1.7677,\tval_loss: 32.6683\n",
      "11:\t[35s / 7m:28s],\t\ttrain_loss: 1.7670,\tval_loss: 23.9362\n",
      "12:\t[45s / 8m:13s],\t\ttrain_loss: 1.7666,\tval_loss: 18.7135\n",
      "13:\t[41s / 8m:55s],\t\ttrain_loss: 1.7667,\tval_loss: 25.8675\n",
      "14:\t[37s / 9m:33s],\t\ttrain_loss: 1.7675,\tval_loss: 19.6075\n",
      "concordance: 0.6565278861620386\n",
      "15:\t[41s / 10m:14s],\t\ttrain_loss: 1.7676,\tval_loss: 19.1666\n",
      "16:\t[32s / 10m:46s],\t\ttrain_loss: 1.7678,\tval_loss: 24.0493\n",
      "17:\t[37s / 11m:24s],\t\ttrain_loss: 1.7679,\tval_loss: 64.1910\n",
      "Current score: 0.6964055637735529 vs. best score: 0.7029911558302366\n",
      "9/24: params: {'n_nodes': 64, 'n_layers': 2, 'dropout': 0.3, 'lr': 0.01}\n",
      "concordance: 0.6556421657016029\n",
      "0:\t[33s / 33s],\t\ttrain_loss: 1.7752,\tval_loss: 25.5310\n",
      "1:\t[24s / 58s],\t\ttrain_loss: 1.7693,\tval_loss: 45.3522\n",
      "2:\t[25s / 1m:23s],\t\ttrain_loss: 1.7673,\tval_loss: 39.8268\n",
      "3:\t[36s / 2m:0s],\t\ttrain_loss: 1.7659,\tval_loss: 54.8666\n",
      "4:\t[28s / 2m:28s],\t\ttrain_loss: 1.7650,\tval_loss: 46.4882\n",
      "concordance: 0.6518028727690608\n",
      "5:\t[33s / 3m:2s],\t\ttrain_loss: 1.7638,\tval_loss: 68.5733\n",
      "6:\t[26s / 3m:29s],\t\ttrain_loss: 1.7638,\tval_loss: 41.3216\n",
      "7:\t[21s / 3m:51s],\t\ttrain_loss: 1.7639,\tval_loss: 16.7041\n",
      "8:\t[19s / 4m:10s],\t\ttrain_loss: 1.7631,\tval_loss: 21.1741\n",
      "9:\t[23s / 4m:34s],\t\ttrain_loss: 1.7629,\tval_loss: 75.1758\n",
      "concordance: 0.660031825237701\n",
      "10:\t[30s / 5m:4s],\t\ttrain_loss: 1.7639,\tval_loss: 19.3545\n",
      "11:\t[20s / 5m:25s],\t\ttrain_loss: 1.7637,\tval_loss: 49.1036\n",
      "12:\t[19s / 5m:44s],\t\ttrain_loss: 1.7628,\tval_loss: 42.8449\n",
      "13:\t[18s / 6m:3s],\t\ttrain_loss: 1.7630,\tval_loss: 62.2785\n",
      "14:\t[19s / 6m:23s],\t\ttrain_loss: 1.7645,\tval_loss: 16.4008\n",
      "concordance: 0.6550697747891784\n",
      "15:\t[43s / 7m:6s],\t\ttrain_loss: 1.7628,\tval_loss: 36.0762\n",
      "16:\t[27s / 7m:34s],\t\ttrain_loss: 1.7627,\tval_loss: 37.4371\n",
      "17:\t[19s / 7m:54s],\t\ttrain_loss: 1.7622,\tval_loss: 29.5163\n",
      "18:\t[19s / 8m:14s],\t\ttrain_loss: 1.7634,\tval_loss: 64.3180\n",
      "19:\t[20s / 8m:34s],\t\ttrain_loss: 1.7626,\tval_loss: 49.4057\n"
     ]
    },
    {
     "name": "stderr",
     "output_type": "stream",
     "text": [
      "/usr/local/lib/python3.9/site-packages/pycox/models/cox.py:251: RuntimeWarning:\n",
      "\n",
      "overflow encountered in exp\n",
      "\n"
     ]
    },
    {
     "name": "stdout",
     "output_type": "stream",
     "text": [
      "concordance: 0.6539490217862658\n",
      "20:\t[27s / 9m:1s],\t\ttrain_loss: 1.7619,\tval_loss: 35.3761\n",
      "21:\t[21s / 9m:22s],\t\ttrain_loss: 1.7624,\tval_loss: 52.1026\n",
      "22:\t[21s / 9m:44s],\t\ttrain_loss: 1.7614,\tval_loss: 69.7244\n",
      "23:\t[19s / 10m:4s],\t\ttrain_loss: 1.7624,\tval_loss: 37.3000\n",
      "24:\t[20s / 10m:24s],\t\ttrain_loss: 1.7614,\tval_loss: 87.0978\n"
     ]
    },
    {
     "name": "stderr",
     "output_type": "stream",
     "text": [
      "/usr/local/lib/python3.9/site-packages/pycox/models/cox.py:251: RuntimeWarning:\n",
      "\n",
      "overflow encountered in exp\n",
      "\n"
     ]
    },
    {
     "name": "stdout",
     "output_type": "stream",
     "text": [
      "concordance: 0.6484240840624551\n",
      "25:\t[39s / 11m:4s],\t\ttrain_loss: 1.7614,\tval_loss: 48.4945\n",
      "26:\t[22s / 11m:26s],\t\ttrain_loss: 1.7619,\tval_loss: 32.2269\n",
      "27:\t[33s / 11m:59s],\t\ttrain_loss: 1.7612,\tval_loss: 52.4732\n",
      "28:\t[25s / 12m:25s],\t\ttrain_loss: 1.7608,\tval_loss: 38.6607\n",
      "29:\t[27s / 12m:53s],\t\ttrain_loss: 1.7610,\tval_loss: 49.7750\n",
      "Current score: 0.6975826365205902 vs. best score: 0.7029911558302366\n",
      "10/24: params: {'n_nodes': 64, 'n_layers': 2, 'dropout': 0.3, 'lr': 0.005}\n",
      "concordance: 0.6507453171840314\n",
      "0:\t[36s / 36s],\t\ttrain_loss: 1.7705,\tval_loss: 46.4719\n",
      "1:\t[24s / 1m:0s],\t\ttrain_loss: 1.7613,\tval_loss: 42.9896\n",
      "2:\t[20s / 1m:21s],\t\ttrain_loss: 1.7599,\tval_loss: 37.4015\n",
      "3:\t[23s / 1m:45s],\t\ttrain_loss: 1.7589,\tval_loss: 34.0024\n",
      "4:\t[23s / 2m:8s],\t\ttrain_loss: 1.7584,\tval_loss: 38.3617\n",
      "concordance: 0.6512078678566279\n",
      "5:\t[30s / 2m:39s],\t\ttrain_loss: 1.7562,\tval_loss: 64.2460\n",
      "6:\t[20s / 3m:0s],\t\ttrain_loss: 1.7571,\tval_loss: 68.3413\n",
      "7:\t[20s / 3m:20s],\t\ttrain_loss: 1.7556,\tval_loss: 44.8217\n",
      "8:\t[21s / 3m:41s],\t\ttrain_loss: 1.7564,\tval_loss: 57.3070\n",
      "9:\t[28s / 4m:9s],\t\ttrain_loss: 1.7552,\tval_loss: 51.2839\n",
      "concordance: 0.652097650196998\n",
      "10:\t[30s / 4m:39s],\t\ttrain_loss: 1.7545,\tval_loss: 25.9718\n",
      "11:\t[23s / 5m:3s],\t\ttrain_loss: 1.7569,\tval_loss: 45.2018\n",
      "12:\t[28s / 5m:31s],\t\ttrain_loss: 1.7549,\tval_loss: 39.7510\n",
      "13:\t[25s / 5m:56s],\t\ttrain_loss: 1.7551,\tval_loss: 39.2942\n",
      "14:\t[22s / 6m:19s],\t\ttrain_loss: 1.7552,\tval_loss: 72.0388\n",
      "concordance: 0.651660039091543\n",
      "15:\t[37s / 6m:56s],\t\ttrain_loss: 1.7555,\tval_loss: 54.7540\n",
      "16:\t[26s / 7m:22s],\t\ttrain_loss: 1.7554,\tval_loss: 27.0837\n",
      "17:\t[24s / 7m:47s],\t\ttrain_loss: 1.7542,\tval_loss: 41.5090\n",
      "18:\t[22s / 8m:10s],\t\ttrain_loss: 1.7544,\tval_loss: 72.8134\n",
      "19:\t[21s / 8m:31s],\t\ttrain_loss: 1.7545,\tval_loss: 51.6698\n",
      "concordance: 0.6489241967502479\n",
      "20:\t[33s / 9m:5s],\t\ttrain_loss: 1.7548,\tval_loss: 68.4472\n",
      "21:\t[20s / 9m:25s],\t\ttrain_loss: 1.7536,\tval_loss: 24.3323\n",
      "22:\t[22s / 9m:47s],\t\ttrain_loss: 1.7541,\tval_loss: 34.6375\n",
      "23:\t[23s / 10m:11s],\t\ttrain_loss: 1.7531,\tval_loss: 39.3664\n",
      "24:\t[19s / 10m:31s],\t\ttrain_loss: 1.7543,\tval_loss: 42.9286\n",
      "concordance: 0.6514574011226426\n",
      "25:\t[34s / 11m:5s],\t\ttrain_loss: 1.7525,\tval_loss: 43.0638\n",
      "26:\t[22s / 11m:28s],\t\ttrain_loss: 1.7549,\tval_loss: 32.0992\n",
      "27:\t[27s / 11m:55s],\t\ttrain_loss: 1.7535,\tval_loss: 38.3314\n",
      "28:\t[24s / 12m:20s],\t\ttrain_loss: 1.7534,\tval_loss: 54.9459\n",
      "29:\t[24s / 12m:45s],\t\ttrain_loss: 1.7525,\tval_loss: 54.6757\n",
      "concordance: 0.653559727351977\n",
      "30:\t[30s / 13m:15s],\t\ttrain_loss: 1.7542,\tval_loss: 32.5991\n",
      "31:\t[25s / 13m:40s],\t\ttrain_loss: 1.7542,\tval_loss: 40.1886\n",
      "32:\t[24s / 14m:4s],\t\ttrain_loss: 1.7533,\tval_loss: 64.7196\n",
      "33:\t[28s / 14m:33s],\t\ttrain_loss: 1.7529,\tval_loss: 48.3307\n",
      "34:\t[28s / 15m:1s],\t\ttrain_loss: 1.7532,\tval_loss: 46.3078\n",
      "concordance: 0.6509026463433881\n",
      "35:\t[36s / 15m:37s],\t\ttrain_loss: 1.7523,\tval_loss: 34.0678\n",
      "36:\t[25s / 16m:3s],\t\ttrain_loss: 1.7520,\tval_loss: 32.7478\n",
      "Current score: 0.7010870818896618 vs. best score: 0.7029911558302366\n",
      "11/24: params: {'n_nodes': 64, 'n_layers': 2, 'dropout': 0.4, 'lr': 0.01}\n",
      "concordance: 0.6498948449654818\n",
      "0:\t[1m:1s / 1m:1s],\t\ttrain_loss: 1.7813,\tval_loss: 22.7987\n",
      "1:\t[48s / 1m:49s],\t\ttrain_loss: 1.7738,\tval_loss: 48.4058\n",
      "2:\t[34s / 2m:24s],\t\ttrain_loss: 1.7707,\tval_loss: 25.1798\n",
      "3:\t[30s / 2m:55s],\t\ttrain_loss: 1.7720,\tval_loss: 45.0246\n",
      "4:\t[35s / 3m:30s],\t\ttrain_loss: 1.7701,\tval_loss: 31.4340\n",
      "concordance: 0.6520641614187505\n",
      "5:\t[46s / 4m:16s],\t\ttrain_loss: 1.7688,\tval_loss: 30.7493\n",
      "6:\t[29s / 4m:46s],\t\ttrain_loss: 1.7693,\tval_loss: 23.0791\n",
      "7:\t[31s / 5m:17s],\t\ttrain_loss: 1.7701,\tval_loss: 38.4920\n",
      "8:\t[31s / 5m:48s],\t\ttrain_loss: 1.7675,\tval_loss: 21.2406\n",
      "9:\t[28s / 6m:17s],\t\ttrain_loss: 1.7686,\tval_loss: 23.2520\n",
      "concordance: 0.6556556565244624\n",
      "10:\t[39s / 6m:56s],\t\ttrain_loss: 1.7678,\tval_loss: 21.4053\n",
      "11:\t[30s / 7m:26s],\t\ttrain_loss: 1.7673,\tval_loss: 19.5871\n",
      "12:\t[31s / 7m:58s],\t\ttrain_loss: 1.7660,\tval_loss: 32.6143\n",
      "13:\t[31s / 8m:29s],\t\ttrain_loss: 1.7682,\tval_loss: 44.5597\n",
      "14:\t[25s / 8m:55s],\t\ttrain_loss: 1.7680,\tval_loss: 30.7939\n",
      "concordance: 0.6464523700525591\n",
      "15:\t[34s / 9m:29s],\t\ttrain_loss: 1.7669,\tval_loss: 277.5039\n",
      "16:\t[26s / 9m:56s],\t\ttrain_loss: 1.7686,\tval_loss: 624.5793\n",
      "17:\t[22s / 10m:18s],\t\ttrain_loss: 1.7668,\tval_loss: 457.6895\n",
      "18:\t[22s / 10m:40s],\t\ttrain_loss: 1.7685,\tval_loss: 359.7069\n",
      "19:\t[30s / 11m:10s],\t\ttrain_loss: 1.7666,\tval_loss: 617.6932\n",
      "concordance: 0.6415774440675333\n",
      "20:\t[35s / 11m:46s],\t\ttrain_loss: 1.7674,\tval_loss: 311.7084\n",
      "21:\t[22s / 12m:8s],\t\ttrain_loss: 1.7680,\tval_loss: 121.8346\n",
      "22:\t[22s / 12m:30s],\t\ttrain_loss: 1.7672,\tval_loss: 72.3320\n",
      "23:\t[21s / 12m:52s],\t\ttrain_loss: 1.7679,\tval_loss: 85.4547\n",
      "24:\t[22s / 13m:14s],\t\ttrain_loss: 1.7657,\tval_loss: 56.9356\n",
      "concordance: 0.6443348909449667\n",
      "25:\t[30s / 13m:44s],\t\ttrain_loss: 1.7662,\tval_loss: 283.0529\n",
      "26:\t[25s / 14m:9s],\t\ttrain_loss: 1.7644,\tval_loss: 156.6914\n",
      "Current score: 0.6997087407169232 vs. best score: 0.7029911558302366\n",
      "12/24: params: {'n_nodes': 64, 'n_layers': 2, 'dropout': 0.4, 'lr': 0.005}\n",
      "concordance: 0.6510803281464334\n",
      "0:\t[52s / 52s],\t\ttrain_loss: 1.7745,\tval_loss: 18.4701\n",
      "1:\t[33s / 1m:26s],\t\ttrain_loss: 1.7663,\tval_loss: 40.8533\n",
      "2:\t[23s / 1m:50s],\t\ttrain_loss: 1.7638,\tval_loss: 35.8971\n",
      "3:\t[27s / 2m:17s],\t\ttrain_loss: 1.7625,\tval_loss: 33.6331\n",
      "4:\t[23s / 2m:41s],\t\ttrain_loss: 1.7622,\tval_loss: 43.4844\n",
      "concordance: 0.6533870557395809\n",
      "5:\t[32s / 3m:13s],\t\ttrain_loss: 1.7604,\tval_loss: 21.0089\n",
      "6:\t[21s / 3m:35s],\t\ttrain_loss: 1.7611,\tval_loss: 29.1099\n",
      "7:\t[22s / 3m:57s],\t\ttrain_loss: 1.7601,\tval_loss: 51.3097\n",
      "8:\t[22s / 4m:19s],\t\ttrain_loss: 1.7600,\tval_loss: 31.7621\n",
      "9:\t[21s / 4m:41s],\t\ttrain_loss: 1.7590,\tval_loss: 36.0053\n",
      "concordance: 0.6511065178587918\n",
      "10:\t[30s / 5m:12s],\t\ttrain_loss: 1.7591,\tval_loss: 49.5475\n",
      "11:\t[23s / 5m:35s],\t\ttrain_loss: 1.7581,\tval_loss: 39.8014\n",
      "12:\t[22s / 5m:58s],\t\ttrain_loss: 1.7586,\tval_loss: 23.9747\n",
      "13:\t[21s / 6m:20s],\t\ttrain_loss: 1.7597,\tval_loss: 45.2411\n",
      "14:\t[22s / 6m:42s],\t\ttrain_loss: 1.7592,\tval_loss: 33.4486\n",
      "concordance: 0.6500596483508365\n",
      "15:\t[30s / 7m:12s],\t\ttrain_loss: 1.7576,\tval_loss: 46.7315\n",
      "Current score: 0.6943349080850115 vs. best score: 0.7029911558302366\n",
      "13/24: params: {'n_nodes': 64, 'n_layers': 4, 'dropout': 0.3, 'lr': 0.01}\n",
      "concordance: 0.6508624944920663\n",
      "0:\t[41s / 41s],\t\ttrain_loss: 1.7819,\tval_loss: 40.7449\n",
      "1:\t[33s / 1m:14s],\t\ttrain_loss: 1.7746,\tval_loss: 15.0162\n",
      "2:\t[32s / 1m:47s],\t\ttrain_loss: 1.7713,\tval_loss: 42.4481\n",
      "3:\t[32s / 2m:20s],\t\ttrain_loss: 1.7694,\tval_loss: 31.3313\n",
      "4:\t[34s / 2m:54s],\t\ttrain_loss: 1.7687,\tval_loss: 38.5201\n",
      "concordance: 0.6527687016788516\n",
      "5:\t[42s / 3m:37s],\t\ttrain_loss: 1.7668,\tval_loss: 31.8470\n",
      "6:\t[32s / 4m:10s],\t\ttrain_loss: 1.7666,\tval_loss: 36.7391\n",
      "7:\t[35s / 4m:45s],\t\ttrain_loss: 1.7661,\tval_loss: 24.5589\n",
      "8:\t[39s / 5m:24s],\t\ttrain_loss: 1.7671,\tval_loss: 27.0998\n",
      "9:\t[39s / 6m:4s],\t\ttrain_loss: 1.7646,\tval_loss: 67.0470\n",
      "concordance: 0.6541555862245424\n",
      "10:\t[54s / 6m:58s],\t\ttrain_loss: 1.7638,\tval_loss: 30.1730\n",
      "11:\t[33s / 7m:32s],\t\ttrain_loss: 1.7643,\tval_loss: 21.5291\n",
      "12:\t[33s / 8m:5s],\t\ttrain_loss: 1.7645,\tval_loss: 25.3402\n",
      "13:\t[1m:13s / 9m:19s],\t\ttrain_loss: 1.7628,\tval_loss: 33.1772\n",
      "14:\t[42s / 10m:2s],\t\ttrain_loss: 1.7631,\tval_loss: 22.8213\n",
      "concordance: 0.66579195755985\n",
      "15:\t[41s / 10m:43s],\t\ttrain_loss: 1.7629,\tval_loss: 12.4674\n",
      "16:\t[33s / 11m:16s],\t\ttrain_loss: 1.7630,\tval_loss: 9.1394\n",
      "17:\t[32s / 11m:49s],\t\ttrain_loss: 1.7630,\tval_loss: 30.9567\n",
      "18:\t[32s / 12m:22s],\t\ttrain_loss: 1.7642,\tval_loss: 28.2859\n",
      "19:\t[34s / 12m:57s],\t\ttrain_loss: 1.7623,\tval_loss: 37.2150\n",
      "concordance: 0.6651234710160515\n",
      "20:\t[42s / 13m:40s],\t\ttrain_loss: 1.7622,\tval_loss: 12.1781\n",
      "21:\t[33s / 14m:13s],\t\ttrain_loss: 1.7633,\tval_loss: 17.9602\n",
      "22:\t[32s / 14m:45s],\t\ttrain_loss: 1.7609,\tval_loss: 30.5966\n",
      "23:\t[32s / 15m:18s],\t\ttrain_loss: 1.7618,\tval_loss: 6.8582\n",
      "24:\t[32s / 15m:50s],\t\ttrain_loss: 1.7610,\tval_loss: 20.6224\n",
      "concordance: 0.6546691316396973\n",
      "25:\t[41s / 16m:32s],\t\ttrain_loss: 1.7632,\tval_loss: 26.0345\n",
      "26:\t[33s / 17m:5s],\t\ttrain_loss: 1.7623,\tval_loss: 21.7488\n",
      "27:\t[33s / 17m:38s],\t\ttrain_loss: 1.7625,\tval_loss: 26.1977\n",
      "28:\t[33s / 18m:11s],\t\ttrain_loss: 1.7613,\tval_loss: 39.2315\n",
      "29:\t[34s / 18m:45s],\t\ttrain_loss: 1.7613,\tval_loss: 21.8745\n",
      "concordance: 0.6579729592453882\n",
      "30:\t[42s / 19m:28s],\t\ttrain_loss: 1.7610,\tval_loss: 18.7443\n"
     ]
    },
    {
     "name": "stdout",
     "output_type": "stream",
     "text": [
      "31:\t[32s / 20m:1s],\t\ttrain_loss: 1.7616,\tval_loss: 5.0091\n",
      "32:\t[32s / 20m:33s],\t\ttrain_loss: 1.7619,\tval_loss: 11.3569\n",
      "33:\t[33s / 21m:6s],\t\ttrain_loss: 1.7604,\tval_loss: 9.1955\n",
      "34:\t[32s / 21m:39s],\t\ttrain_loss: 1.7611,\tval_loss: 15.6003\n",
      "concordance: 0.6611726792827489\n",
      "35:\t[41s / 22m:21s],\t\ttrain_loss: 1.7612,\tval_loss: 16.3114\n",
      "36:\t[32s / 22m:53s],\t\ttrain_loss: 1.7597,\tval_loss: 26.4593\n",
      "37:\t[34s / 23m:28s],\t\ttrain_loss: 1.7611,\tval_loss: 10.1839\n",
      "38:\t[35s / 24m:4s],\t\ttrain_loss: 1.7600,\tval_loss: 12.0969\n",
      "39:\t[33s / 24m:37s],\t\ttrain_loss: 1.7613,\tval_loss: 19.3626\n",
      "concordance: 0.6538691085901994\n",
      "40:\t[40s / 25m:18s],\t\ttrain_loss: 1.7603,\tval_loss: 23.5972\n",
      "41:\t[33s / 25m:51s],\t\ttrain_loss: 1.7613,\tval_loss: 7.8698\n",
      "42:\t[32s / 26m:24s],\t\ttrain_loss: 1.7620,\tval_loss: 11.1046\n",
      "43:\t[33s / 26m:57s],\t\ttrain_loss: 1.7598,\tval_loss: 9.5172\n",
      "44:\t[32s / 27m:30s],\t\ttrain_loss: 1.7605,\tval_loss: 11.3205\n",
      "concordance: 0.6584852737348893\n",
      "45:\t[40s / 28m:11s],\t\ttrain_loss: 1.7610,\tval_loss: 19.6043\n",
      "46:\t[32s / 28m:44s],\t\ttrain_loss: 1.7611,\tval_loss: 23.0180\n",
      "Current score: 0.7034254578418767 vs. best score: 0.7029911558302366\n",
      "14/24: params: {'n_nodes': 64, 'n_layers': 4, 'dropout': 0.3, 'lr': 0.005}\n",
      "concordance: 0.6493000706878058\n",
      "0:\t[42s / 42s],\t\ttrain_loss: 1.7749,\tval_loss: 29.3580\n",
      "1:\t[33s / 1m:16s],\t\ttrain_loss: 1.7654,\tval_loss: 34.2486\n",
      "2:\t[46s / 2m:2s],\t\ttrain_loss: 1.7633,\tval_loss: 23.7660\n",
      "3:\t[36s / 2m:38s],\t\ttrain_loss: 1.7620,\tval_loss: 21.2527\n",
      "4:\t[37s / 3m:15s],\t\ttrain_loss: 1.7597,\tval_loss: 19.2826\n",
      "concordance: 0.654415447821673\n",
      "5:\t[41s / 3m:57s],\t\ttrain_loss: 1.7597,\tval_loss: 26.2635\n",
      "6:\t[37s / 4m:34s],\t\ttrain_loss: 1.7596,\tval_loss: 16.1306\n",
      "7:\t[32s / 5m:7s],\t\ttrain_loss: 1.7574,\tval_loss: 27.1045\n",
      "8:\t[39s / 5m:46s],\t\ttrain_loss: 1.7567,\tval_loss: 21.7998\n",
      "9:\t[36s / 6m:23s],\t\ttrain_loss: 1.7575,\tval_loss: 18.4915\n",
      "concordance: 0.6624099897627871\n",
      "10:\t[42s / 7m:5s],\t\ttrain_loss: 1.7578,\tval_loss: 14.9615\n",
      "11:\t[35s / 7m:41s],\t\ttrain_loss: 1.7572,\tval_loss: 24.0459\n",
      "12:\t[34s / 8m:15s],\t\ttrain_loss: 1.7580,\tval_loss: 16.7166\n",
      "13:\t[35s / 8m:50s],\t\ttrain_loss: 1.7568,\tval_loss: 18.6552\n",
      "14:\t[31s / 9m:21s],\t\ttrain_loss: 1.7572,\tval_loss: 16.0199\n",
      "concordance: 0.653858923095382\n",
      "15:\t[51s / 10m:13s],\t\ttrain_loss: 1.7562,\tval_loss: 21.5522\n",
      "16:\t[44s / 10m:58s],\t\ttrain_loss: 1.7559,\tval_loss: 19.5685\n",
      "17:\t[30s / 11m:28s],\t\ttrain_loss: 1.7565,\tval_loss: 31.2153\n",
      "18:\t[51s / 12m:19s],\t\ttrain_loss: 1.7559,\tval_loss: 15.0385\n",
      "19:\t[29s / 12m:49s],\t\ttrain_loss: 1.7547,\tval_loss: 35.7859\n",
      "concordance: 0.6602377379580657\n",
      "20:\t[37s / 13m:26s],\t\ttrain_loss: 1.7558,\tval_loss: 16.3352\n",
      "21:\t[30s / 13m:57s],\t\ttrain_loss: 1.7547,\tval_loss: 26.7972\n",
      "22:\t[29s / 14m:26s],\t\ttrain_loss: 1.7566,\tval_loss: 12.0002\n",
      "23:\t[28s / 14m:54s],\t\ttrain_loss: 1.7541,\tval_loss: 17.7607\n",
      "24:\t[29s / 15m:24s],\t\ttrain_loss: 1.7546,\tval_loss: 17.0138\n",
      "concordance: 0.6616345454768148\n",
      "25:\t[37s / 16m:1s],\t\ttrain_loss: 1.7555,\tval_loss: 16.5664\n",
      "26:\t[29s / 16m:30s],\t\ttrain_loss: 1.7550,\tval_loss: 15.4230\n",
      "27:\t[28s / 16m:58s],\t\ttrain_loss: 1.7555,\tval_loss: 20.9271\n",
      "28:\t[28s / 17m:27s],\t\ttrain_loss: 1.7551,\tval_loss: 14.4858\n",
      "29:\t[30s / 17m:57s],\t\ttrain_loss: 1.7532,\tval_loss: 14.7449\n",
      "concordance: 0.6630297922796797\n",
      "30:\t[37s / 18m:35s],\t\ttrain_loss: 1.7554,\tval_loss: 14.5247\n",
      "31:\t[29s / 19m:5s],\t\ttrain_loss: 1.7534,\tval_loss: 21.5955\n",
      "32:\t[30s / 19m:36s],\t\ttrain_loss: 1.7548,\tval_loss: 25.7767\n",
      "33:\t[29s / 20m:6s],\t\ttrain_loss: 1.7553,\tval_loss: 20.6562\n",
      "34:\t[29s / 20m:35s],\t\ttrain_loss: 1.7537,\tval_loss: 14.8019\n",
      "concordance: 0.6607051568586295\n",
      "35:\t[39s / 21m:14s],\t\ttrain_loss: 1.7540,\tval_loss: 16.9065\n",
      "36:\t[36s / 21m:51s],\t\ttrain_loss: 1.7533,\tval_loss: 16.5225\n",
      "37:\t[28s / 22m:20s],\t\ttrain_loss: 1.7541,\tval_loss: 16.8689\n",
      "Current score: 0.7026210510929887 vs. best score: 0.7034254578418767\n",
      "15/24: params: {'n_nodes': 64, 'n_layers': 4, 'dropout': 0.4, 'lr': 0.01}\n",
      "concordance: 0.6527328397213715\n",
      "0:\t[38s / 38s],\t\ttrain_loss: 1.7881,\tval_loss: 38.3123\n",
      "1:\t[28s / 1m:6s],\t\ttrain_loss: 1.7795,\tval_loss: 22.5587\n",
      "2:\t[28s / 1m:34s],\t\ttrain_loss: 1.7760,\tval_loss: 48.6411\n",
      "3:\t[27s / 2m:2s],\t\ttrain_loss: 1.7736,\tval_loss: 22.6412\n",
      "4:\t[27s / 2m:30s],\t\ttrain_loss: 1.7727,\tval_loss: 63.3249\n",
      "concordance: 0.6666433938142116\n",
      "5:\t[35s / 3m:5s],\t\ttrain_loss: 1.7731,\tval_loss: 8.2363\n",
      "6:\t[27s / 3m:33s],\t\ttrain_loss: 1.7723,\tval_loss: 52.3017\n",
      "7:\t[29s / 4m:3s],\t\ttrain_loss: 1.7700,\tval_loss: 33.1503\n",
      "8:\t[28s / 4m:31s],\t\ttrain_loss: 1.7702,\tval_loss: 24.3636\n",
      "9:\t[27s / 4m:59s],\t\ttrain_loss: 1.7715,\tval_loss: 35.0487\n",
      "concordance: 0.6535225261403967\n",
      "10:\t[35s / 5m:34s],\t\ttrain_loss: 1.7708,\tval_loss: 32.9226\n",
      "11:\t[28s / 6m:3s],\t\ttrain_loss: 1.7716,\tval_loss: 21.4844\n",
      "12:\t[31s / 6m:34s],\t\ttrain_loss: 1.7699,\tval_loss: 22.7863\n",
      "13:\t[28s / 7m:2s],\t\ttrain_loss: 1.7703,\tval_loss: 42.0409\n",
      "14:\t[28s / 7m:31s],\t\ttrain_loss: 1.7695,\tval_loss: 48.9864\n",
      "concordance: 0.6581537707795583\n",
      "15:\t[35s / 8m:7s],\t\ttrain_loss: 1.7681,\tval_loss: 20.0318\n",
      "16:\t[28s / 8m:35s],\t\ttrain_loss: 1.7694,\tval_loss: 19.0357\n",
      "17:\t[28s / 9m:4s],\t\ttrain_loss: 1.7683,\tval_loss: 40.9241\n",
      "18:\t[28s / 9m:32s],\t\ttrain_loss: 1.7674,\tval_loss: 29.1707\n",
      "19:\t[27s / 10m:0s],\t\ttrain_loss: 1.7690,\tval_loss: 17.4614\n",
      "concordance: 0.6623979954449984\n",
      "20:\t[38s / 10m:39s],\t\ttrain_loss: 1.7689,\tval_loss: 18.7301\n",
      "Current score: 0.7001408028233113 vs. best score: 0.7034254578418767\n",
      "16/24: params: {'n_nodes': 64, 'n_layers': 4, 'dropout': 0.4, 'lr': 0.005}\n",
      "concordance: 0.6542858900573548\n",
      "0:\t[36s / 36s],\t\ttrain_loss: 1.7811,\tval_loss: 27.5440\n",
      "1:\t[33s / 1m:9s],\t\ttrain_loss: 1.7718,\tval_loss: 36.7552\n",
      "2:\t[28s / 1m:37s],\t\ttrain_loss: 1.7686,\tval_loss: 11.1552\n",
      "3:\t[29s / 2m:7s],\t\ttrain_loss: 1.7665,\tval_loss: 16.7201\n",
      "4:\t[29s / 2m:36s],\t\ttrain_loss: 1.7642,\tval_loss: 10.3286\n",
      "concordance: 0.659644866417135\n",
      "5:\t[36s / 3m:13s],\t\ttrain_loss: 1.7645,\tval_loss: 18.6208\n",
      "6:\t[32s / 3m:45s],\t\ttrain_loss: 1.7641,\tval_loss: 12.7370\n",
      "7:\t[32s / 4m:18s],\t\ttrain_loss: 1.7637,\tval_loss: 13.6518\n",
      "8:\t[30s / 4m:49s],\t\ttrain_loss: 1.7626,\tval_loss: 88.1293\n",
      "9:\t[34s / 5m:23s],\t\ttrain_loss: 1.7618,\tval_loss: 21.8354\n",
      "concordance: 0.6595160970917114\n",
      "10:\t[53s / 6m:16s],\t\ttrain_loss: 1.7628,\tval_loss: 19.4969\n",
      "11:\t[1m:59s / 8m:16s],\t\ttrain_loss: 1.7633,\tval_loss: 12.8972\n",
      "12:\t[52s / 9m:9s],\t\ttrain_loss: 1.7616,\tval_loss: 28.9300\n",
      "13:\t[46s / 9m:56s],\t\ttrain_loss: 1.7618,\tval_loss: 17.6807\n",
      "14:\t[39s / 10m:35s],\t\ttrain_loss: 1.7607,\tval_loss: 13.0200\n",
      "concordance: 0.6638845618178114\n",
      "15:\t[39s / 11m:15s],\t\ttrain_loss: 1.7603,\tval_loss: 6.3722\n",
      "16:\t[38s / 11m:53s],\t\ttrain_loss: 1.7603,\tval_loss: 17.5345\n",
      "17:\t[44s / 12m:37s],\t\ttrain_loss: 1.7606,\tval_loss: 14.1211\n",
      "18:\t[41s / 13m:19s],\t\ttrain_loss: 1.7599,\tval_loss: 13.5036\n",
      "19:\t[44s / 14m:4s],\t\ttrain_loss: 1.7592,\tval_loss: 14.8819\n",
      "concordance: 0.664227635823735\n",
      "20:\t[48s / 14m:52s],\t\ttrain_loss: 1.7597,\tval_loss: 10.9935\n",
      "21:\t[39s / 15m:32s],\t\ttrain_loss: 1.7615,\tval_loss: 15.3003\n",
      "22:\t[51s / 16m:23s],\t\ttrain_loss: 1.7612,\tval_loss: 16.1241\n",
      "23:\t[41s / 17m:5s],\t\ttrain_loss: 1.7595,\tval_loss: 18.3805\n",
      "24:\t[37s / 17m:42s],\t\ttrain_loss: 1.7596,\tval_loss: 13.7246\n",
      "concordance: 0.6646534548536219\n",
      "25:\t[45s / 18m:28s],\t\ttrain_loss: 1.7597,\tval_loss: 13.3761\n",
      "26:\t[40s / 19m:9s],\t\ttrain_loss: 1.7588,\tval_loss: 12.2313\n",
      "27:\t[38s / 19m:47s],\t\ttrain_loss: 1.7584,\tval_loss: 9.8421\n",
      "28:\t[38s / 20m:25s],\t\ttrain_loss: 1.7599,\tval_loss: 13.0404\n",
      "29:\t[37s / 21m:3s],\t\ttrain_loss: 1.7607,\tval_loss: 14.7016\n",
      "concordance: 0.6625199627923236\n",
      "30:\t[45s / 21m:49s],\t\ttrain_loss: 1.7590,\tval_loss: 14.7438\n",
      "Current score: 0.7013988555025678 vs. best score: 0.7034254578418767\n",
      "17/24: params: {'n_nodes': 128, 'n_layers': 2, 'dropout': 0.3, 'lr': 0.01}\n"
     ]
    },
    {
     "name": "stderr",
     "output_type": "stream",
     "text": [
      "/usr/local/lib/python3.9/site-packages/pycox/models/cox.py:251: RuntimeWarning:\n",
      "\n",
      "overflow encountered in exp\n",
      "\n"
     ]
    },
    {
     "name": "stdout",
     "output_type": "stream",
     "text": [
      "concordance: 0.64683670147149\n",
      "0:\t[39s / 39s],\t\ttrain_loss: 1.7785,\tval_loss: 148.9819\n",
      "1:\t[29s / 1m:9s],\t\ttrain_loss: 1.7711,\tval_loss: 192.8973\n",
      "2:\t[28s / 1m:37s],\t\ttrain_loss: 1.7699,\tval_loss: 36.8388\n",
      "3:\t[28s / 2m:6s],\t\ttrain_loss: 1.7701,\tval_loss: 27.1849\n",
      "4:\t[28s / 2m:35s],\t\ttrain_loss: 1.7678,\tval_loss: 33.9914\n"
     ]
    },
    {
     "name": "stderr",
     "output_type": "stream",
     "text": [
      "/usr/local/lib/python3.9/site-packages/pycox/models/cox.py:251: RuntimeWarning:\n",
      "\n",
      "overflow encountered in exp\n",
      "\n"
     ]
    },
    {
     "name": "stdout",
     "output_type": "stream",
     "text": [
      "concordance: 0.6497309877068005\n",
      "5:\t[36s / 3m:11s],\t\ttrain_loss: 1.7664,\tval_loss: 70.2941\n",
      "6:\t[27s / 3m:39s],\t\ttrain_loss: 1.7666,\tval_loss: 26.3376\n",
      "7:\t[27s / 4m:6s],\t\ttrain_loss: 1.7677,\tval_loss: 47.8540\n",
      "8:\t[26s / 4m:33s],\t\ttrain_loss: 1.7679,\tval_loss: 80.5235\n",
      "9:\t[26s / 5m:0s],\t\ttrain_loss: 1.7670,\tval_loss: 58.8040\n",
      "concordance: 0.6516421836806305\n",
      "10:\t[36s / 5m:36s],\t\ttrain_loss: 1.7651,\tval_loss: 35.5838\n",
      "11:\t[27s / 6m:4s],\t\ttrain_loss: 1.7660,\tval_loss: 45.0953\n",
      "12:\t[27s / 6m:31s],\t\ttrain_loss: 1.7648,\tval_loss: 27.4272\n",
      "13:\t[27s / 6m:59s],\t\ttrain_loss: 1.7649,\tval_loss: 37.0089\n",
      "14:\t[28s / 7m:28s],\t\ttrain_loss: 1.7655,\tval_loss: 35.3459\n"
     ]
    },
    {
     "name": "stderr",
     "output_type": "stream",
     "text": [
      "/usr/local/lib/python3.9/site-packages/pycox/models/cox.py:251: RuntimeWarning:\n",
      "\n",
      "overflow encountered in exp\n",
      "\n"
     ]
    },
    {
     "name": "stdout",
     "output_type": "stream",
     "text": [
      "concordance: 0.5791227522218645\n",
      "15:\t[44s / 8m:12s],\t\ttrain_loss: 1.7664,\tval_loss: 13.2295\n",
      "16:\t[30s / 8m:42s],\t\ttrain_loss: 1.7645,\tval_loss: 69.5888\n",
      "17:\t[28s / 9m:10s],\t\ttrain_loss: 1.7646,\tval_loss: 32.5881\n",
      "18:\t[27s / 9m:37s],\t\ttrain_loss: 1.7651,\tval_loss: 33.6881\n",
      "19:\t[28s / 10m:6s],\t\ttrain_loss: 1.7652,\tval_loss: 45.4317\n",
      "concordance: 0.5941981420063976\n",
      "20:\t[37s / 10m:43s],\t\ttrain_loss: 1.7647,\tval_loss: 25.0309\n",
      "21:\t[28s / 11m:12s],\t\ttrain_loss: 1.7651,\tval_loss: 55.8740\n",
      "22:\t[30s / 11m:42s],\t\ttrain_loss: 1.7649,\tval_loss: 46.4835\n",
      "23:\t[27s / 12m:10s],\t\ttrain_loss: 1.7655,\tval_loss: 36.5460\n",
      "24:\t[32s / 12m:42s],\t\ttrain_loss: 1.7647,\tval_loss: 24.4814\n",
      "concordance: 0.6524557940876116\n",
      "25:\t[36s / 13m:18s],\t\ttrain_loss: 1.7652,\tval_loss: 41.1815\n",
      "26:\t[27s / 13m:45s],\t\ttrain_loss: 1.7645,\tval_loss: 15.8148\n",
      "27:\t[26s / 14m:12s],\t\ttrain_loss: 1.7629,\tval_loss: 19.7122\n",
      "28:\t[31s / 14m:44s],\t\ttrain_loss: 1.7642,\tval_loss: 47.6226\n",
      "29:\t[40s / 15m:24s],\t\ttrain_loss: 1.7640,\tval_loss: 40.7047\n",
      "concordance: 0.6534596834108141\n",
      "30:\t[43s / 16m:8s],\t\ttrain_loss: 1.7641,\tval_loss: 31.4248\n",
      "Current score: 0.6986634254773487 vs. best score: 0.7034254578418767\n",
      "18/24: params: {'n_nodes': 128, 'n_layers': 2, 'dropout': 0.3, 'lr': 0.005}\n",
      "concordance: 0.6526552743696591\n",
      "0:\t[28s / 28s],\t\ttrain_loss: 1.7706,\tval_loss: 30.9014\n",
      "1:\t[25s / 53s],\t\ttrain_loss: 1.7626,\tval_loss: 38.5640\n",
      "2:\t[25s / 1m:18s],\t\ttrain_loss: 1.7597,\tval_loss: 27.6019\n",
      "3:\t[27s / 1m:46s],\t\ttrain_loss: 1.7579,\tval_loss: 19.0686\n",
      "4:\t[24s / 2m:10s],\t\ttrain_loss: 1.7583,\tval_loss: 24.5923\n",
      "concordance: 0.6533441126835295\n",
      "5:\t[30s / 2m:40s],\t\ttrain_loss: 1.7560,\tval_loss: 29.4722\n",
      "6:\t[22s / 3m:3s],\t\ttrain_loss: 1.7575,\tval_loss: 28.6927\n",
      "7:\t[24s / 3m:27s],\t\ttrain_loss: 1.7561,\tval_loss: 24.8795\n",
      "8:\t[25s / 3m:53s],\t\ttrain_loss: 1.7586,\tval_loss: 32.0893\n",
      "9:\t[23s / 4m:16s],\t\ttrain_loss: 1.7559,\tval_loss: 39.9072\n",
      "concordance: 0.6515447383117581\n",
      "10:\t[33s / 4m:50s],\t\ttrain_loss: 1.7567,\tval_loss: 36.1116\n",
      "11:\t[22s / 5m:13s],\t\ttrain_loss: 1.7545,\tval_loss: 36.5875\n",
      "12:\t[22s / 5m:36s],\t\ttrain_loss: 1.7569,\tval_loss: 39.6828\n",
      "13:\t[22s / 5m:59s],\t\ttrain_loss: 1.7554,\tval_loss: 27.3276\n",
      "14:\t[30s / 6m:29s],\t\ttrain_loss: 1.7540,\tval_loss: 20.4571\n",
      "concordance: 0.6505211153021601\n",
      "15:\t[36s / 7m:6s],\t\ttrain_loss: 1.7561,\tval_loss: 30.3629\n",
      "16:\t[25s / 7m:31s],\t\ttrain_loss: 1.7549,\tval_loss: 32.4145\n",
      "17:\t[24s / 7m:56s],\t\ttrain_loss: 1.7562,\tval_loss: 26.0676\n",
      "18:\t[21s / 8m:17s],\t\ttrain_loss: 1.7545,\tval_loss: 48.8925\n",
      "Current score: 0.7007043230690047 vs. best score: 0.7034254578418767\n",
      "19/24: params: {'n_nodes': 128, 'n_layers': 2, 'dropout': 0.4, 'lr': 0.01}\n",
      "concordance: 0.6473076349312484\n",
      "0:\t[32s / 32s],\t\ttrain_loss: 1.7842,\tval_loss: 78.1248\n",
      "1:\t[32s / 1m:5s],\t\ttrain_loss: 1.7766,\tval_loss: 44.8960\n",
      "2:\t[43s / 1m:48s],\t\ttrain_loss: 1.7744,\tval_loss: 32.1924\n",
      "3:\t[25s / 2m:14s],\t\ttrain_loss: 1.7727,\tval_loss: 55.8784\n",
      "4:\t[23s / 2m:37s],\t\ttrain_loss: 1.7716,\tval_loss: 35.4435\n",
      "concordance: 0.6487371419157337\n",
      "5:\t[32s / 3m:9s],\t\ttrain_loss: 1.7723,\tval_loss: 42.7079\n",
      "6:\t[23s / 3m:33s],\t\ttrain_loss: 1.7720,\tval_loss: 37.4047\n",
      "7:\t[28s / 4m:2s],\t\ttrain_loss: 1.7708,\tval_loss: 51.9218\n",
      "8:\t[25s / 4m:27s],\t\ttrain_loss: 1.7714,\tval_loss: 35.9452\n",
      "9:\t[27s / 4m:54s],\t\ttrain_loss: 1.7704,\tval_loss: 35.3655\n",
      "concordance: 0.6514389669407965\n",
      "10:\t[32s / 5m:26s],\t\ttrain_loss: 1.7710,\tval_loss: 69.3892\n",
      "11:\t[20s / 5m:47s],\t\ttrain_loss: 1.7698,\tval_loss: 49.8678\n",
      "12:\t[21s / 6m:9s],\t\ttrain_loss: 1.7678,\tval_loss: 81.9287\n",
      "13:\t[26s / 6m:35s],\t\ttrain_loss: 1.7687,\tval_loss: 42.7764\n",
      "14:\t[21s / 6m:56s],\t\ttrain_loss: 1.7693,\tval_loss: 43.8941\n",
      "concordance: 0.6505831866283699\n",
      "15:\t[31s / 7m:27s],\t\ttrain_loss: 1.7670,\tval_loss: 66.5943\n",
      "16:\t[21s / 7m:49s],\t\ttrain_loss: 1.7678,\tval_loss: 47.9336\n",
      "17:\t[21s / 8m:10s],\t\ttrain_loss: 1.7682,\tval_loss: 54.2509\n",
      "Current score: 0.6972925639982875 vs. best score: 0.7034254578418767\n",
      "20/24: params: {'n_nodes': 128, 'n_layers': 2, 'dropout': 0.4, 'lr': 0.005}\n",
      "concordance: 0.6506545584758788\n",
      "0:\t[33s / 33s],\t\ttrain_loss: 1.7749,\tval_loss: 24.6394\n",
      "1:\t[24s / 57s],\t\ttrain_loss: 1.7651,\tval_loss: 70.5615\n",
      "2:\t[25s / 1m:23s],\t\ttrain_loss: 1.7633,\tval_loss: 70.4156\n",
      "3:\t[21s / 1m:45s],\t\ttrain_loss: 1.7602,\tval_loss: 72.7842\n",
      "4:\t[25s / 2m:10s],\t\ttrain_loss: 1.7607,\tval_loss: 27.6546\n",
      "concordance: 0.6500229861606391\n",
      "5:\t[34s / 2m:45s],\t\ttrain_loss: 1.7602,\tval_loss: 55.4705\n",
      "6:\t[31s / 3m:16s],\t\ttrain_loss: 1.7595,\tval_loss: 47.5209\n",
      "7:\t[30s / 3m:47s],\t\ttrain_loss: 1.7596,\tval_loss: 36.4487\n",
      "8:\t[26s / 4m:13s],\t\ttrain_loss: 1.7600,\tval_loss: 45.3350\n",
      "9:\t[30s / 4m:44s],\t\ttrain_loss: 1.7591,\tval_loss: 38.0993\n",
      "concordance: 0.6510612448675249\n",
      "10:\t[35s / 5m:20s],\t\ttrain_loss: 1.7593,\tval_loss: 26.0486\n",
      "11:\t[29s / 5m:49s],\t\ttrain_loss: 1.7593,\tval_loss: 34.8103\n",
      "12:\t[30s / 6m:20s],\t\ttrain_loss: 1.7591,\tval_loss: 40.4664\n",
      "13:\t[27s / 6m:47s],\t\ttrain_loss: 1.7596,\tval_loss: 61.0278\n",
      "14:\t[25s / 7m:13s],\t\ttrain_loss: 1.7603,\tval_loss: 72.1336\n",
      "concordance: 0.6531533904069325\n",
      "15:\t[36s / 7m:49s],\t\ttrain_loss: 1.7584,\tval_loss: 27.7664\n",
      "Current score: 0.6940947528068641 vs. best score: 0.7034254578418767\n",
      "21/24: params: {'n_nodes': 128, 'n_layers': 4, 'dropout': 0.3, 'lr': 0.01}\n",
      "concordance: 0.5520152375841142\n",
      "0:\t[1m:5s / 1m:5s],\t\ttrain_loss: 1.7834,\tval_loss: 1051.7067\n",
      "1:\t[49s / 1m:55s],\t\ttrain_loss: 1.7742,\tval_loss: 568.1365\n",
      "2:\t[50s / 2m:45s],\t\ttrain_loss: 1.7727,\tval_loss: 20.1264\n",
      "3:\t[1m:56s / 4m:41s],\t\ttrain_loss: 1.7699,\tval_loss: 43.4251\n",
      "4:\t[50s / 5m:32s],\t\ttrain_loss: 1.7681,\tval_loss: 9.8068\n",
      "concordance: 0.6534551528356255\n",
      "5:\t[56s / 6m:29s],\t\ttrain_loss: 1.7698,\tval_loss: 8.6405\n",
      "6:\t[1m:1s / 7m:30s],\t\ttrain_loss: 1.7687,\tval_loss: 22.7342\n",
      "7:\t[1m:11s / 8m:42s],\t\ttrain_loss: 1.7680,\tval_loss: 8.4777\n",
      "8:\t[1m:29s / 10m:12s],\t\ttrain_loss: 1.7663,\tval_loss: 64.5548\n",
      "9:\t[1m:34s / 11m:46s],\t\ttrain_loss: 1.7671,\tval_loss: 70.4508\n",
      "concordance: 0.658519258727311\n",
      "10:\t[1m:59s / 13m:45s],\t\ttrain_loss: 1.7661,\tval_loss: 20.1147\n",
      "11:\t[58s / 14m:44s],\t\ttrain_loss: 1.7661,\tval_loss: 61.2945\n",
      "12:\t[49s / 15m:33s],\t\ttrain_loss: 1.7643,\tval_loss: 24.8420\n",
      "13:\t[47s / 16m:20s],\t\ttrain_loss: 1.7667,\tval_loss: 363.9608\n",
      "14:\t[48s / 17m:9s],\t\ttrain_loss: 1.7656,\tval_loss: 27.5653\n"
     ]
    },
    {
     "name": "stderr",
     "output_type": "stream",
     "text": [
      "/usr/local/lib/python3.9/site-packages/pycox/models/cox.py:251: RuntimeWarning:\n",
      "\n",
      "overflow encountered in exp\n",
      "\n"
     ]
    },
    {
     "name": "stdout",
     "output_type": "stream",
     "text": [
      "concordance: 0.6023382415612882\n",
      "15:\t[58s / 18m:8s],\t\ttrain_loss: 1.7651,\tval_loss: 3258.9050\n",
      "16:\t[50s / 18m:59s],\t\ttrain_loss: 1.7648,\tval_loss: 135734.7500\n",
      "17:\t[54s / 19m:53s],\t\ttrain_loss: 1.7658,\tval_loss: 67.6407\n",
      "18:\t[53s / 20m:47s],\t\ttrain_loss: 1.7654,\tval_loss: 60845.6562\n",
      "19:\t[45s / 21m:32s],\t\ttrain_loss: 1.7632,\tval_loss: 5636.6074\n"
     ]
    },
    {
     "name": "stderr",
     "output_type": "stream",
     "text": [
      "/usr/local/lib/python3.9/site-packages/pycox/models/cox.py:251: RuntimeWarning:\n",
      "\n",
      "overflow encountered in exp\n",
      "\n"
     ]
    },
    {
     "name": "stdout",
     "output_type": "stream",
     "text": [
      "concordance: 0.5556364583649838\n",
      "20:\t[59s / 22m:32s],\t\ttrain_loss: 1.7621,\tval_loss: 143398.7344\n",
      "21:\t[47s / 23m:19s],\t\ttrain_loss: 1.7623,\tval_loss: 25.7974\n",
      "22:\t[48s / 24m:7s],\t\ttrain_loss: 1.7616,\tval_loss: 367.2150\n",
      "Current score: 0.6995147800314381 vs. best score: 0.7034254578418767\n",
      "22/24: params: {'n_nodes': 128, 'n_layers': 4, 'dropout': 0.3, 'lr': 0.005}\n",
      "concordance: 0.6601263208404484\n",
      "0:\t[56s / 56s],\t\ttrain_loss: 1.7762,\tval_loss: 13.8259\n",
      "1:\t[35s / 1m:32s],\t\ttrain_loss: 1.7643,\tval_loss: 13.5254\n",
      "2:\t[32s / 2m:4s],\t\ttrain_loss: 1.7612,\tval_loss: 27.3265\n",
      "3:\t[33s / 2m:37s],\t\ttrain_loss: 1.7586,\tval_loss: 9.6973\n",
      "4:\t[37s / 3m:15s],\t\ttrain_loss: 1.7582,\tval_loss: 20.8342\n"
     ]
    },
    {
     "name": "stderr",
     "output_type": "stream",
     "text": [
      "/usr/local/lib/python3.9/site-packages/pycox/models/cox.py:251: RuntimeWarning:\n",
      "\n",
      "overflow encountered in exp\n",
      "\n"
     ]
    },
    {
     "name": "stdout",
     "output_type": "stream",
     "text": [
      "concordance: 0.6544100471244467\n",
      "5:\t[41s / 3m:56s],\t\ttrain_loss: 1.7576,\tval_loss: 33.2281\n",
      "6:\t[33s / 4m:30s],\t\ttrain_loss: 1.7572,\tval_loss: 20.5247\n",
      "7:\t[31s / 5m:2s],\t\ttrain_loss: 1.7568,\tval_loss: 20.6723\n",
      "8:\t[31s / 5m:34s],\t\ttrain_loss: 1.7564,\tval_loss: 31.3397\n",
      "9:\t[31s / 6m:5s],\t\ttrain_loss: 1.7561,\tval_loss: 14.8633\n",
      "concordance: 0.6573151587786639\n",
      "10:\t[44s / 6m:49s],\t\ttrain_loss: 1.7565,\tval_loss: 20.6125\n",
      "11:\t[49s / 7m:38s],\t\ttrain_loss: 1.7556,\tval_loss: 19.6140\n",
      "12:\t[42s / 8m:21s],\t\ttrain_loss: 1.7554,\tval_loss: 23.2593\n",
      "13:\t[44s / 9m:6s],\t\ttrain_loss: 1.7552,\tval_loss: 22.6672\n",
      "14:\t[1m:19s / 10m:25s],\t\ttrain_loss: 1.7566,\tval_loss: 28.5096\n",
      "concordance: 0.6640097864442709\n",
      "15:\t[1m:6s / 11m:31s],\t\ttrain_loss: 1.7540,\tval_loss: 15.7202\n",
      "16:\t[32s / 12m:4s],\t\ttrain_loss: 1.7546,\tval_loss: 22.7837\n",
      "17:\t[34s / 12m:39s],\t\ttrain_loss: 1.7546,\tval_loss: 9.0076\n",
      "18:\t[32s / 13m:12s],\t\ttrain_loss: 1.7539,\tval_loss: 22.4596\n",
      "19:\t[32s / 13m:44s],\t\ttrain_loss: 1.7545,\tval_loss: 23.0365\n",
      "concordance: 0.6514356725329608\n",
      "20:\t[42s / 14m:26s],\t\ttrain_loss: 1.7540,\tval_loss: 34.2904\n",
      "21:\t[33s / 14m:59s],\t\ttrain_loss: 1.7547,\tval_loss: 20.5812\n",
      "22:\t[35s / 15m:34s],\t\ttrain_loss: 1.7540,\tval_loss: 28.8826\n",
      "23:\t[35s / 16m:10s],\t\ttrain_loss: 1.7545,\tval_loss: 16.5340\n",
      "24:\t[46s / 16m:57s],\t\ttrain_loss: 1.7534,\tval_loss: 19.2970\n",
      "concordance: 0.6614028326770522\n",
      "25:\t[1m:0s / 17m:57s],\t\ttrain_loss: 1.7527,\tval_loss: 17.3930\n",
      "26:\t[46s / 18m:43s],\t\ttrain_loss: 1.7540,\tval_loss: 20.9163\n",
      "27:\t[45s / 19m:29s],\t\ttrain_loss: 1.7522,\tval_loss: 13.6579\n",
      "28:\t[44s / 20m:13s],\t\ttrain_loss: 1.7532,\tval_loss: 20.2246\n",
      "29:\t[44s / 20m:57s],\t\ttrain_loss: 1.7518,\tval_loss: 18.4217\n",
      "concordance: 0.6428988790119943\n",
      "30:\t[53s / 21m:50s],\t\ttrain_loss: 1.7522,\tval_loss: 7.9451\n",
      "31:\t[44s / 22m:35s],\t\ttrain_loss: 1.7519,\tval_loss: 14.1150\n",
      "32:\t[44s / 23m:19s],\t\ttrain_loss: 1.7520,\tval_loss: 49.1897\n",
      "33:\t[43s / 24m:3s],\t\ttrain_loss: 1.7518,\tval_loss: 21.9908\n",
      "34:\t[45s / 24m:48s],\t\ttrain_loss: 1.7524,\tval_loss: 68.8629\n",
      "concordance: 0.6526387708802862\n",
      "35:\t[1m:0s / 25m:49s],\t\ttrain_loss: 1.7528,\tval_loss: 21.0693\n",
      "36:\t[50s / 26m:40s],\t\ttrain_loss: 1.7535,\tval_loss: 12.9741\n",
      "37:\t[43s / 27m:24s],\t\ttrain_loss: 1.7523,\tval_loss: 27.8168\n",
      "38:\t[44s / 28m:8s],\t\ttrain_loss: 1.7515,\tval_loss: 40.2794\n",
      "39:\t[45s / 28m:54s],\t\ttrain_loss: 1.7526,\tval_loss: 13.3478\n",
      "concordance: 0.657736634187294\n",
      "40:\t[57s / 29m:52s],\t\ttrain_loss: 1.7525,\tval_loss: 9.2978\n",
      "41:\t[1m:0s / 30m:52s],\t\ttrain_loss: 1.7532,\tval_loss: 618.4960\n",
      "42:\t[48s / 31m:41s],\t\ttrain_loss: 1.7523,\tval_loss: 105.5564\n",
      "43:\t[1m:0s / 32m:41s],\t\ttrain_loss: 1.7514,\tval_loss: 12.0173\n",
      "44:\t[50s / 33m:31s],\t\ttrain_loss: 1.7520,\tval_loss: 12.8190\n",
      "concordance: 0.6574212079596737\n",
      "45:\t[1m:5s / 34m:37s],\t\ttrain_loss: 1.7511,\tval_loss: 10.4610\n",
      "Current score: 0.7058750645685248 vs. best score: 0.7034254578418767\n",
      "23/24: params: {'n_nodes': 128, 'n_layers': 4, 'dropout': 0.4, 'lr': 0.01}\n",
      "concordance: 0.6589580867805557\n",
      "0:\t[1m:8s / 1m:8s],\t\ttrain_loss: 1.7902,\tval_loss: 15.8192\n",
      "1:\t[59s / 2m:7s],\t\ttrain_loss: 1.7796,\tval_loss: 36.5214\n",
      "2:\t[50s / 2m:58s],\t\ttrain_loss: 1.7773,\tval_loss: 23.1424\n",
      "3:\t[55s / 3m:53s],\t\ttrain_loss: 1.7744,\tval_loss: 32.9698\n",
      "4:\t[1m:41s / 5m:35s],\t\ttrain_loss: 1.7741,\tval_loss: 26.3629\n",
      "concordance: 0.5760610207848916\n",
      "5:\t[1m:29s / 7m:4s],\t\ttrain_loss: 1.7736,\tval_loss: 176.3522\n",
      "6:\t[48s / 7m:53s],\t\ttrain_loss: 1.7739,\tval_loss: 8.4894\n",
      "7:\t[54s / 8m:47s],\t\ttrain_loss: 1.7703,\tval_loss: 21.6615\n",
      "8:\t[1m:5s / 9m:53s],\t\ttrain_loss: 1.7713,\tval_loss: 28.9485\n",
      "9:\t[46s / 10m:40s],\t\ttrain_loss: 1.7736,\tval_loss: 18.7693\n",
      "concordance: 0.6542298628469264\n",
      "10:\t[1m:5s / 11m:45s],\t\ttrain_loss: 1.7706,\tval_loss: 27.5502\n",
      "11:\t[47s / 12m:32s],\t\ttrain_loss: 1.7702,\tval_loss: 41.3908\n",
      "12:\t[42s / 13m:15s],\t\ttrain_loss: 1.7705,\tval_loss: 10.3848\n",
      "13:\t[43s / 13m:59s],\t\ttrain_loss: 1.7703,\tval_loss: 13.8858\n",
      "14:\t[42s / 14m:41s],\t\ttrain_loss: 1.7704,\tval_loss: 25.8081\n",
      "concordance: 0.6593484653729257\n",
      "15:\t[53s / 15m:34s],\t\ttrain_loss: 1.7691,\tval_loss: 19.2744\n",
      "16:\t[31m:44s / 47m:18s],\t\ttrain_loss: 1.7695,\tval_loss: 17.2588\n",
      "17:\t[47s / 48m:6s],\t\ttrain_loss: 1.7692,\tval_loss: 29.0917\n",
      "18:\t[53s / 48m:59s],\t\ttrain_loss: 1.7696,\tval_loss: 32.6553\n",
      "19:\t[50s / 49m:49s],\t\ttrain_loss: 1.7698,\tval_loss: 103.7258\n",
      "concordance: 0.6533045313037847\n",
      "20:\t[1m:18s / 51m:8s],\t\ttrain_loss: 1.7689,\tval_loss: 29.4159\n",
      "21:\t[1m:8s / 52m:16s],\t\ttrain_loss: 1.7689,\tval_loss: 10.4151\n",
      "Current score: 0.7000686099948575 vs. best score: 0.7058750645685248\n",
      "24/24: params: {'n_nodes': 128, 'n_layers': 4, 'dropout': 0.4, 'lr': 0.005}\n",
      "concordance: 0.6537546814269184\n",
      "0:\t[1m:17s / 1m:17s],\t\ttrain_loss: 1.7802,\tval_loss: 19.0837\n",
      "1:\t[52s / 2m:9s],\t\ttrain_loss: 1.7691,\tval_loss: 38.4931\n",
      "2:\t[49s / 2m:59s],\t\ttrain_loss: 1.7661,\tval_loss: 38.2466\n",
      "3:\t[53s / 3m:52s],\t\ttrain_loss: 1.7640,\tval_loss: 20.6848\n",
      "4:\t[51s / 4m:43s],\t\ttrain_loss: 1.7626,\tval_loss: 27.4024\n",
      "concordance: 0.6547634450934037\n",
      "5:\t[1m:3s / 5m:47s],\t\ttrain_loss: 1.7636,\tval_loss: 18.4140\n",
      "6:\t[56s / 6m:43s],\t\ttrain_loss: 1.7607,\tval_loss: 17.1275\n",
      "7:\t[51s / 7m:35s],\t\ttrain_loss: 1.7615,\tval_loss: 17.3006\n",
      "8:\t[3m:53s / 11m:28s],\t\ttrain_loss: 1.7607,\tval_loss: 13.0728\n",
      "9:\t[59s / 12m:28s],\t\ttrain_loss: 1.7583,\tval_loss: 14.2814\n",
      "concordance: 0.6648428819937522\n",
      "10:\t[47s / 13m:16s],\t\ttrain_loss: 1.7586,\tval_loss: 14.4247\n",
      "11:\t[37s / 13m:53s],\t\ttrain_loss: 1.7605,\tval_loss: 22.5396\n",
      "12:\t[36s / 14m:30s],\t\ttrain_loss: 1.7578,\tval_loss: 20.0747\n",
      "13:\t[39s / 15m:9s],\t\ttrain_loss: 1.7591,\tval_loss: 14.7536\n",
      "14:\t[36s / 15m:46s],\t\ttrain_loss: 1.7578,\tval_loss: 10.1044\n",
      "concordance: 0.6603430768888581\n",
      "15:\t[46s / 16m:32s],\t\ttrain_loss: 1.7591,\tval_loss: 18.1370\n",
      "16:\t[38s / 17m:11s],\t\ttrain_loss: 1.7586,\tval_loss: 25.8211\n",
      "17:\t[37s / 17m:48s],\t\ttrain_loss: 1.7587,\tval_loss: 9.8911\n",
      "18:\t[36s / 18m:25s],\t\ttrain_loss: 1.7576,\tval_loss: 12.5067\n",
      "19:\t[36s / 19m:1s],\t\ttrain_loss: 1.7581,\tval_loss: 11.8945\n",
      "concordance: 0.662932693299751\n",
      "20:\t[44s / 19m:46s],\t\ttrain_loss: 1.7585,\tval_loss: 11.5459\n",
      "21:\t[36s / 20m:23s],\t\ttrain_loss: 1.7579,\tval_loss: 49.5034\n",
      "22:\t[36s / 21m:0s],\t\ttrain_loss: 1.7567,\tval_loss: 223.5620\n",
      "23:\t[37s / 21m:37s],\t\ttrain_loss: 1.7585,\tval_loss: 20.2449\n",
      "24:\t[39s / 22m:16s],\t\ttrain_loss: 1.7579,\tval_loss: 14.6691\n",
      "concordance: 0.6595833297442255\n",
      "25:\t[44s / 23m:1s],\t\ttrain_loss: 1.7569,\tval_loss: 6.2098\n",
      "26:\t[37s / 23m:38s],\t\ttrain_loss: 1.7569,\tval_loss: 8.5805\n",
      "27:\t[36s / 24m:15s],\t\ttrain_loss: 1.7562,\tval_loss: 12.4960\n",
      "28:\t[32s / 24m:47s],\t\ttrain_loss: 1.7578,\tval_loss: 10.0790\n",
      "29:\t[31s / 25m:19s],\t\ttrain_loss: 1.7566,\tval_loss: 15.8969\n",
      "concordance: 0.662311055314584\n",
      "30:\t[42s / 26m:1s],\t\ttrain_loss: 1.7556,\tval_loss: 15.8466\n",
      "31:\t[37s / 26m:38s],\t\ttrain_loss: 1.7560,\tval_loss: 14.4240\n",
      "32:\t[37s / 27m:16s],\t\ttrain_loss: 1.7563,\tval_loss: 5.7269\n",
      "33:\t[32s / 27m:48s],\t\ttrain_loss: 1.7557,\tval_loss: 18.7921\n",
      "34:\t[34s / 28m:23s],\t\ttrain_loss: 1.7551,\tval_loss: 16.9488\n",
      "concordance: 0.6549966675024846\n",
      "35:\t[45s / 29m:8s],\t\ttrain_loss: 1.7550,\tval_loss: 14.5376\n",
      "36:\t[36s / 29m:44s],\t\ttrain_loss: 1.7559,\tval_loss: 14.9714\n",
      "37:\t[36s / 30m:20s],\t\ttrain_loss: 1.7563,\tval_loss: 10.5449\n",
      "38:\t[36s / 30m:57s],\t\ttrain_loss: 1.7553,\tval_loss: 11.5267\n",
      "39:\t[36s / 31m:34s],\t\ttrain_loss: 1.7557,\tval_loss: 9.7583\n",
      "concordance: 0.6563616024335182\n",
      "40:\t[46s / 32m:20s],\t\ttrain_loss: 1.7561,\tval_loss: 18.4046\n",
      "41:\t[37s / 32m:58s],\t\ttrain_loss: 1.7570,\tval_loss: 8.7997\n",
      "42:\t[36s / 33m:34s],\t\ttrain_loss: 1.7561,\tval_loss: 11.1155\n",
      "43:\t[36s / 34m:11s],\t\ttrain_loss: 1.7564,\tval_loss: 6.2708\n",
      "44:\t[36s / 34m:47s],\t\ttrain_loss: 1.7545,\tval_loss: 6.3870\n",
      "concordance: 0.6609606040715666\n",
      "45:\t[45s / 35m:33s],\t\ttrain_loss: 1.7554,\tval_loss: 5.0954\n",
      "46:\t[37s / 36m:10s],\t\ttrain_loss: 1.7558,\tval_loss: 7.9989\n",
      "47:\t[36s / 36m:46s],\t\ttrain_loss: 1.7550,\tval_loss: 8.4960\n",
      "48:\t[37s / 37m:23s],\t\ttrain_loss: 1.7561,\tval_loss: 10.9728\n",
      "49:\t[37s / 38m:1s],\t\ttrain_loss: 1.7547,\tval_loss: 21.6898\n",
      "concordance: 0.6568375696715714\n",
      "50:\t[46s / 38m:48s],\t\ttrain_loss: 1.7542,\tval_loss: 5.8954\n",
      "51:\t[39s / 39m:27s],\t\ttrain_loss: 1.7551,\tval_loss: 5.5591\n",
      "52:\t[36s / 40m:3s],\t\ttrain_loss: 1.7560,\tval_loss: 5.6518\n",
      "53:\t[36s / 40m:40s],\t\ttrain_loss: 1.7554,\tval_loss: 17.0276\n",
      "54:\t[36s / 41m:16s],\t\ttrain_loss: 1.7541,\tval_loss: 9.8382\n",
      "concordance: 0.6566477454727402\n",
      "55:\t[45s / 42m:2s],\t\ttrain_loss: 1.7551,\tval_loss: 11.1013\n"
     ]
    },
    {
     "name": "stdout",
     "output_type": "stream",
     "text": [
      "56:\t[1m:22s / 43m:24s],\t\ttrain_loss: 1.7537,\tval_loss: 12.6665\n",
      "57:\t[44s / 44m:8s],\t\ttrain_loss: 1.7548,\tval_loss: 10.3159\n",
      "58:\t[33s / 44m:41s],\t\ttrain_loss: 1.7554,\tval_loss: 7.1895\n",
      "59:\t[32s / 45m:13s],\t\ttrain_loss: 1.7555,\tval_loss: 10.1598\n",
      "concordance: 0.6608787938172622\n",
      "60:\t[43s / 45m:57s],\t\ttrain_loss: 1.7552,\tval_loss: 7.9473\n",
      "Current score: 0.7041290806938355 vs. best score: 0.7058750645685248\n"
     ]
    }
   ],
   "source": [
    "grid_params = {\n",
    "    \"n_nodes\" :[32, 64, 128],\n",
    "    \"n_layers\" :[2, 4],\n",
    "    \"dropout\" :[0.3, 0.4],\n",
    "    \"lr\" :[0.01, 0.005]\n",
    "}\n",
    "\n",
    "best_model, table = grid_search_deep(train, val, test, 1, grid_params, CoxPH)"
   ]
  },
  {
   "cell_type": "code",
   "execution_count": 86,
   "id": "928b840f",
   "metadata": {
    "scrolled": true
   },
   "outputs": [
    {
     "data": {
      "text/html": [
       "<div>\n",
       "<style scoped>\n",
       "    .dataframe tbody tr th:only-of-type {\n",
       "        vertical-align: middle;\n",
       "    }\n",
       "\n",
       "    .dataframe tbody tr th {\n",
       "        vertical-align: top;\n",
       "    }\n",
       "\n",
       "    .dataframe thead th {\n",
       "        text-align: right;\n",
       "    }\n",
       "</style>\n",
       "<table border=\"1\" class=\"dataframe\">\n",
       "  <thead>\n",
       "    <tr style=\"text-align: right;\">\n",
       "      <th></th>\n",
       "      <th>n_nodes</th>\n",
       "      <th>n_layers</th>\n",
       "      <th>dropout</th>\n",
       "      <th>lr</th>\n",
       "      <th>score</th>\n",
       "    </tr>\n",
       "  </thead>\n",
       "  <tbody>\n",
       "    <tr>\n",
       "      <th>21</th>\n",
       "      <td>128</td>\n",
       "      <td>4</td>\n",
       "      <td>0.3</td>\n",
       "      <td>0.005</td>\n",
       "      <td>0.705875</td>\n",
       "    </tr>\n",
       "    <tr>\n",
       "      <th>23</th>\n",
       "      <td>128</td>\n",
       "      <td>4</td>\n",
       "      <td>0.4</td>\n",
       "      <td>0.005</td>\n",
       "      <td>0.704129</td>\n",
       "    </tr>\n",
       "    <tr>\n",
       "      <th>12</th>\n",
       "      <td>64</td>\n",
       "      <td>4</td>\n",
       "      <td>0.3</td>\n",
       "      <td>0.010</td>\n",
       "      <td>0.703425</td>\n",
       "    </tr>\n",
       "    <tr>\n",
       "      <th>4</th>\n",
       "      <td>32</td>\n",
       "      <td>4</td>\n",
       "      <td>0.3</td>\n",
       "      <td>0.010</td>\n",
       "      <td>0.702991</td>\n",
       "    </tr>\n",
       "    <tr>\n",
       "      <th>13</th>\n",
       "      <td>64</td>\n",
       "      <td>4</td>\n",
       "      <td>0.3</td>\n",
       "      <td>0.005</td>\n",
       "      <td>0.702621</td>\n",
       "    </tr>\n",
       "    <tr>\n",
       "      <th>15</th>\n",
       "      <td>64</td>\n",
       "      <td>4</td>\n",
       "      <td>0.4</td>\n",
       "      <td>0.005</td>\n",
       "      <td>0.701399</td>\n",
       "    </tr>\n",
       "    <tr>\n",
       "      <th>9</th>\n",
       "      <td>64</td>\n",
       "      <td>2</td>\n",
       "      <td>0.3</td>\n",
       "      <td>0.005</td>\n",
       "      <td>0.701087</td>\n",
       "    </tr>\n",
       "    <tr>\n",
       "      <th>17</th>\n",
       "      <td>128</td>\n",
       "      <td>2</td>\n",
       "      <td>0.3</td>\n",
       "      <td>0.005</td>\n",
       "      <td>0.700704</td>\n",
       "    </tr>\n",
       "    <tr>\n",
       "      <th>6</th>\n",
       "      <td>32</td>\n",
       "      <td>4</td>\n",
       "      <td>0.4</td>\n",
       "      <td>0.010</td>\n",
       "      <td>0.700245</td>\n",
       "    </tr>\n",
       "    <tr>\n",
       "      <th>14</th>\n",
       "      <td>64</td>\n",
       "      <td>4</td>\n",
       "      <td>0.4</td>\n",
       "      <td>0.010</td>\n",
       "      <td>0.700141</td>\n",
       "    </tr>\n",
       "    <tr>\n",
       "      <th>5</th>\n",
       "      <td>32</td>\n",
       "      <td>4</td>\n",
       "      <td>0.3</td>\n",
       "      <td>0.005</td>\n",
       "      <td>0.700102</td>\n",
       "    </tr>\n",
       "    <tr>\n",
       "      <th>22</th>\n",
       "      <td>128</td>\n",
       "      <td>4</td>\n",
       "      <td>0.4</td>\n",
       "      <td>0.010</td>\n",
       "      <td>0.700069</td>\n",
       "    </tr>\n",
       "    <tr>\n",
       "      <th>2</th>\n",
       "      <td>32</td>\n",
       "      <td>2</td>\n",
       "      <td>0.4</td>\n",
       "      <td>0.010</td>\n",
       "      <td>0.699800</td>\n",
       "    </tr>\n",
       "    <tr>\n",
       "      <th>10</th>\n",
       "      <td>64</td>\n",
       "      <td>2</td>\n",
       "      <td>0.4</td>\n",
       "      <td>0.010</td>\n",
       "      <td>0.699709</td>\n",
       "    </tr>\n",
       "    <tr>\n",
       "      <th>0</th>\n",
       "      <td>32</td>\n",
       "      <td>2</td>\n",
       "      <td>0.3</td>\n",
       "      <td>0.010</td>\n",
       "      <td>0.699687</td>\n",
       "    </tr>\n",
       "    <tr>\n",
       "      <th>20</th>\n",
       "      <td>128</td>\n",
       "      <td>4</td>\n",
       "      <td>0.3</td>\n",
       "      <td>0.010</td>\n",
       "      <td>0.699515</td>\n",
       "    </tr>\n",
       "    <tr>\n",
       "      <th>16</th>\n",
       "      <td>128</td>\n",
       "      <td>2</td>\n",
       "      <td>0.3</td>\n",
       "      <td>0.010</td>\n",
       "      <td>0.698663</td>\n",
       "    </tr>\n",
       "    <tr>\n",
       "      <th>8</th>\n",
       "      <td>64</td>\n",
       "      <td>2</td>\n",
       "      <td>0.3</td>\n",
       "      <td>0.010</td>\n",
       "      <td>0.697583</td>\n",
       "    </tr>\n",
       "    <tr>\n",
       "      <th>18</th>\n",
       "      <td>128</td>\n",
       "      <td>2</td>\n",
       "      <td>0.4</td>\n",
       "      <td>0.010</td>\n",
       "      <td>0.697293</td>\n",
       "    </tr>\n",
       "    <tr>\n",
       "      <th>7</th>\n",
       "      <td>32</td>\n",
       "      <td>4</td>\n",
       "      <td>0.4</td>\n",
       "      <td>0.005</td>\n",
       "      <td>0.696406</td>\n",
       "    </tr>\n",
       "    <tr>\n",
       "      <th>1</th>\n",
       "      <td>32</td>\n",
       "      <td>2</td>\n",
       "      <td>0.3</td>\n",
       "      <td>0.005</td>\n",
       "      <td>0.694349</td>\n",
       "    </tr>\n",
       "    <tr>\n",
       "      <th>11</th>\n",
       "      <td>64</td>\n",
       "      <td>2</td>\n",
       "      <td>0.4</td>\n",
       "      <td>0.005</td>\n",
       "      <td>0.694335</td>\n",
       "    </tr>\n",
       "    <tr>\n",
       "      <th>19</th>\n",
       "      <td>128</td>\n",
       "      <td>2</td>\n",
       "      <td>0.4</td>\n",
       "      <td>0.005</td>\n",
       "      <td>0.694095</td>\n",
       "    </tr>\n",
       "    <tr>\n",
       "      <th>3</th>\n",
       "      <td>32</td>\n",
       "      <td>2</td>\n",
       "      <td>0.4</td>\n",
       "      <td>0.005</td>\n",
       "      <td>0.694058</td>\n",
       "    </tr>\n",
       "  </tbody>\n",
       "</table>\n",
       "</div>"
      ],
      "text/plain": [
       "    n_nodes  n_layers  dropout     lr     score\n",
       "21      128         4      0.3  0.005  0.705875\n",
       "23      128         4      0.4  0.005  0.704129\n",
       "12       64         4      0.3  0.010  0.703425\n",
       "4        32         4      0.3  0.010  0.702991\n",
       "13       64         4      0.3  0.005  0.702621\n",
       "15       64         4      0.4  0.005  0.701399\n",
       "9        64         2      0.3  0.005  0.701087\n",
       "17      128         2      0.3  0.005  0.700704\n",
       "6        32         4      0.4  0.010  0.700245\n",
       "14       64         4      0.4  0.010  0.700141\n",
       "5        32         4      0.3  0.005  0.700102\n",
       "22      128         4      0.4  0.010  0.700069\n",
       "2        32         2      0.4  0.010  0.699800\n",
       "10       64         2      0.4  0.010  0.699709\n",
       "0        32         2      0.3  0.010  0.699687\n",
       "20      128         4      0.3  0.010  0.699515\n",
       "16      128         2      0.3  0.010  0.698663\n",
       "8        64         2      0.3  0.010  0.697583\n",
       "18      128         2      0.4  0.010  0.697293\n",
       "7        32         4      0.4  0.005  0.696406\n",
       "1        32         2      0.3  0.005  0.694349\n",
       "11       64         2      0.4  0.005  0.694335\n",
       "19      128         2      0.4  0.005  0.694095\n",
       "3        32         2      0.4  0.005  0.694058"
      ]
     },
     "execution_count": 86,
     "metadata": {},
     "output_type": "execute_result"
    }
   ],
   "source": [
    "table"
   ]
  },
  {
   "cell_type": "code",
   "execution_count": 87,
   "id": "a52db66a",
   "metadata": {},
   "outputs": [
    {
     "name": "stdout",
     "output_type": "stream",
     "text": [
      "Best score:  0.7058750645685248\n",
      "Best params: \n",
      "{'n_nodes': 128.0, 'n_layers': 4.0, 'dropout': 0.3, 'lr': 0.005}\n"
     ]
    }
   ],
   "source": [
    "table.sort_values(by=\"score\", ascending=False, inplace=True)\n",
    "best_params = table.drop('score', axis=1).iloc[0].to_dict()\n",
    "best_score = table.score.iloc[0]\n",
    "\n",
    "print('Best score: ', best_score)\n",
    "print('Best params: ')\n",
    "print(best_params)"
   ]
  },
  {
   "cell_type": "markdown",
   "id": "ff5712c7",
   "metadata": {},
   "source": [
    "# 3. DeepHit"
   ]
  },
  {
   "cell_type": "code",
   "execution_count": 90,
   "id": "254ca538",
   "metadata": {},
   "outputs": [],
   "source": [
    "from pycox.models import DeepHitSingle"
   ]
  },
  {
   "cell_type": "code",
   "execution_count": 91,
   "id": "b39cd9bf",
   "metadata": {},
   "outputs": [],
   "source": [
    "num_durations = int(df[col_target].max())\n",
    "labtrans = DeepHitSingle.label_transform(num_durations)"
   ]
  },
  {
   "cell_type": "code",
   "execution_count": 92,
   "id": "43ca6c58",
   "metadata": {},
   "outputs": [],
   "source": [
    "get_target = lambda df: (df[col_target].values, df['censored'].values)\n",
    "\n",
    "y_train = labtrans.fit_transform(*get_target(Xy_train))\n",
    "y_val = labtrans.transform(*get_target(Xy_val))\n",
    "\n",
    "train = (np.array(Xy_train[cols_x_reduc]).astype(np.float32), y_train)\n",
    "val = (np.array(Xy_val[cols_x_reduc]).astype(np.float32), y_val)\n",
    "test = (np.array(Xy_test[cols_x_reduc]).astype(np.float32), y_test)"
   ]
  },
  {
   "cell_type": "code",
   "execution_count": 103,
   "id": "bab86099",
   "metadata": {},
   "outputs": [],
   "source": [
    "params = {\n",
    "    'n_nodes': 128,\n",
    "    'n_layers': 4,\n",
    "    'out_features': num_durations,\n",
    "    'dropout': 0.1,\n",
    "    'model_params': {'alpha': 0.2, 'sigma': 0.1, 'duration_index': labtrans.cuts},\n",
    "    'discrete': True,\n",
    "    'lr':0.005, \n",
    "    'batch_size': 128,\n",
    "}"
   ]
  },
  {
   "cell_type": "code",
   "execution_count": 104,
   "id": "28393d34",
   "metadata": {},
   "outputs": [
    {
     "name": "stdout",
     "output_type": "stream",
     "text": [
      "concordance: 0.6244590987575174\n",
      "0:\t[1m:30s / 1m:30s],\t\ttrain_loss: 0.8827,\tval_loss: 23.4963\n",
      "1:\t[28s / 1m:58s],\t\ttrain_loss: 0.7699,\tval_loss: 15.2776\n",
      "2:\t[28s / 2m:26s],\t\ttrain_loss: 0.7403,\tval_loss: 11.4759\n",
      "3:\t[26s / 2m:53s],\t\ttrain_loss: 0.7283,\tval_loss: 12.8435\n",
      "4:\t[29s / 3m:22s],\t\ttrain_loss: 0.7204,\tval_loss: 26.5724\n",
      "concordance: 0.6379005919105127\n",
      "5:\t[1m:53s / 5m:16s],\t\ttrain_loss: 0.7179,\tval_loss: 14.9949\n",
      "6:\t[22s / 5m:38s],\t\ttrain_loss: 0.7105,\tval_loss: 17.1590\n",
      "7:\t[25s / 6m:4s],\t\ttrain_loss: 0.7083,\tval_loss: 13.9112\n",
      "8:\t[25s / 6m:29s],\t\ttrain_loss: 0.7050,\tval_loss: 12.7882\n",
      "9:\t[30s / 6m:59s],\t\ttrain_loss: 0.7032,\tval_loss: 20.0412\n",
      "concordance: 0.6542120400366527\n",
      "10:\t[1m:33s / 8m:32s],\t\ttrain_loss: 0.7016,\tval_loss: 16.1270\n",
      "11:\t[21s / 8m:54s],\t\ttrain_loss: 0.7004,\tval_loss: 18.0156\n",
      "12:\t[23s / 9m:18s],\t\ttrain_loss: 0.6987,\tval_loss: 27.0577\n",
      "13:\t[25s / 9m:43s],\t\ttrain_loss: 0.6975,\tval_loss: 21.9931\n",
      "14:\t[26s / 10m:10s],\t\ttrain_loss: 0.6968,\tval_loss: 11.5833\n",
      "concordance: 0.6501070966900058\n",
      "15:\t[1m:15s / 11m:25s],\t\ttrain_loss: 0.6958,\tval_loss: 32.4237\n",
      "16:\t[18s / 11m:43s],\t\ttrain_loss: 0.6972,\tval_loss: 11.3613\n",
      "17:\t[18s / 12m:2s],\t\ttrain_loss: 0.6946,\tval_loss: 10.8917\n",
      "18:\t[19s / 12m:21s],\t\ttrain_loss: 0.6935,\tval_loss: 54.2603\n",
      "19:\t[18s / 12m:39s],\t\ttrain_loss: 0.6937,\tval_loss: 24.3324\n",
      "concordance: 0.651449816030589\n",
      "20:\t[1m:14s / 13m:54s],\t\ttrain_loss: 0.6929,\tval_loss: 18.3592\n",
      "21:\t[20s / 14m:15s],\t\ttrain_loss: 0.6950,\tval_loss: 18.8780\n",
      "22:\t[21s / 14m:36s],\t\ttrain_loss: 0.6938,\tval_loss: 48.7715\n",
      "23:\t[20s / 14m:57s],\t\ttrain_loss: 0.6904,\tval_loss: 20.3144\n",
      "24:\t[20s / 15m:18s],\t\ttrain_loss: 0.6908,\tval_loss: 20.4394\n",
      "concordance: 0.6371367938398101\n",
      "25:\t[1m:25s / 16m:43s],\t\ttrain_loss: 0.6904,\tval_loss: 12.7527\n",
      "26:\t[29s / 17m:13s],\t\ttrain_loss: 0.6899,\tval_loss: 10.4272\n",
      "27:\t[27s / 17m:40s],\t\ttrain_loss: 0.6891,\tval_loss: 32.2128\n",
      "28:\t[24s / 18m:5s],\t\ttrain_loss: 0.6896,\tval_loss: 12.4777\n",
      "29:\t[23s / 18m:28s],\t\ttrain_loss: 0.6887,\tval_loss: 47.4772\n",
      "concordance: 0.6118115688703838\n",
      "30:\t[1m:18s / 19m:46s],\t\ttrain_loss: 0.6884,\tval_loss: 28.6255\n",
      "31:\t[21s / 20m:7s],\t\ttrain_loss: 0.6877,\tval_loss: 66.4157\n",
      "32:\t[21s / 20m:29s],\t\ttrain_loss: 0.6876,\tval_loss: 70.4022\n",
      "33:\t[19s / 20m:49s],\t\ttrain_loss: 0.6886,\tval_loss: 14.5309\n",
      "34:\t[19s / 21m:8s],\t\ttrain_loss: 0.6877,\tval_loss: 88.9097\n",
      "concordance: 0.6108801529774052\n",
      "35:\t[1m:17s / 22m:26s],\t\ttrain_loss: 0.6869,\tval_loss: 156.0559\n",
      "36:\t[21s / 22m:47s],\t\ttrain_loss: 0.6865,\tval_loss: 32.0131\n",
      "37:\t[23s / 23m:11s],\t\ttrain_loss: 0.6863,\tval_loss: 153.0307\n",
      "38:\t[28s / 23m:40s],\t\ttrain_loss: 0.6861,\tval_loss: 38.4723\n",
      "39:\t[27s / 24m:7s],\t\ttrain_loss: 0.6863,\tval_loss: 15.6773\n",
      "concordance: 0.556838333855372\n",
      "40:\t[1m:25s / 25m:33s],\t\ttrain_loss: 0.6863,\tval_loss: 137.9563\n",
      "41:\t[23s / 25m:56s],\t\ttrain_loss: 0.6858,\tval_loss: 120.6497\n"
     ]
    },
    {
     "ename": "FileNotFoundError",
     "evalue": "[Errno 2] No such file or directory: 'weight_checkpoint_2023-1-25_10-13-59_ANYoDZu2jIdJI3yIaAPp.pt'",
     "output_type": "error",
     "traceback": [
      "\u001b[0;31m---------------------------------------------------------------------------\u001b[0m",
      "\u001b[0;31mFileNotFoundError\u001b[0m                         Traceback (most recent call last)",
      "\u001b[0;32m<ipython-input-104-8341aac56210>\u001b[0m in \u001b[0;36m<module>\u001b[0;34m\u001b[0m\n\u001b[0;32m----> 1\u001b[0;31m logs_df, model, score = train_deep_surv(\n\u001b[0m\u001b[1;32m      2\u001b[0m     \u001b[0mtrain\u001b[0m\u001b[0;34m,\u001b[0m \u001b[0mval\u001b[0m\u001b[0;34m,\u001b[0m \u001b[0mtest\u001b[0m\u001b[0;34m,\u001b[0m \u001b[0mDeepHitSingle\u001b[0m\u001b[0;34m,\u001b[0m \u001b[0mtolerance\u001b[0m\u001b[0;34m=\u001b[0m\u001b[0;36m10\u001b[0m\u001b[0;34m,\u001b[0m\u001b[0;34m\u001b[0m\u001b[0;34m\u001b[0m\u001b[0m\n\u001b[1;32m      3\u001b[0m     \u001b[0mprint_lr\u001b[0m\u001b[0;34m=\u001b[0m\u001b[0;32mTrue\u001b[0m\u001b[0;34m,\u001b[0m \u001b[0mprint_logs\u001b[0m\u001b[0;34m=\u001b[0m\u001b[0;32mTrue\u001b[0m\u001b[0;34m,\u001b[0m \u001b[0mverbose\u001b[0m \u001b[0;34m=\u001b[0m \u001b[0;32mTrue\u001b[0m\u001b[0;34m,\u001b[0m\u001b[0;34m\u001b[0m\u001b[0;34m\u001b[0m\u001b[0m\n\u001b[1;32m      4\u001b[0m     \u001b[0;34m**\u001b[0m\u001b[0mparams\u001b[0m\u001b[0;34m\u001b[0m\u001b[0;34m\u001b[0m\u001b[0m\n\u001b[1;32m      5\u001b[0m )\n",
      "\u001b[0;32m~/Documents/survival_analysis/src/train_survival_deep.py\u001b[0m in \u001b[0;36mtrain_deep_surv\u001b[0;34m(train, val, test, model_obj, out_features, n_nodes, n_layers, dropout, lr, batch_size, epochs, output_bias, tolerance, model_params, discrete, print_lr, print_logs, verbose)\u001b[0m\n\u001b[1;32m    111\u001b[0m     ]\n\u001b[1;32m    112\u001b[0m \u001b[0;34m\u001b[0m\u001b[0m\n\u001b[0;32m--> 113\u001b[0;31m     log = model.fit(train[0], train[1], batch_size, epochs, callbacks, verbose,\n\u001b[0m\u001b[1;32m    114\u001b[0m                 val_data=val, val_batch_size=batch_size)\n\u001b[1;32m    115\u001b[0m \u001b[0;34m\u001b[0m\u001b[0m\n",
      "\u001b[0;32m/usr/local/lib/python3.9/site-packages/torchtuples/base.py\u001b[0m in \u001b[0;36mfit\u001b[0;34m(self, input, target, batch_size, epochs, callbacks, verbose, num_workers, shuffle, metrics, val_data, val_batch_size, **kwargs)\u001b[0m\n\u001b[1;32m    292\u001b[0m                 \u001b[0mval_data\u001b[0m\u001b[0;34m,\u001b[0m \u001b[0mval_batch_size\u001b[0m\u001b[0;34m,\u001b[0m \u001b[0mshuffle\u001b[0m\u001b[0;34m=\u001b[0m\u001b[0;32mFalse\u001b[0m\u001b[0;34m,\u001b[0m \u001b[0mnum_workers\u001b[0m\u001b[0;34m=\u001b[0m\u001b[0mnum_workers\u001b[0m\u001b[0;34m,\u001b[0m \u001b[0;34m**\u001b[0m\u001b[0mkwargs\u001b[0m\u001b[0;34m\u001b[0m\u001b[0;34m\u001b[0m\u001b[0m\n\u001b[1;32m    293\u001b[0m             )\n\u001b[0;32m--> 294\u001b[0;31m         \u001b[0mlog\u001b[0m \u001b[0;34m=\u001b[0m \u001b[0mself\u001b[0m\u001b[0;34m.\u001b[0m\u001b[0mfit_dataloader\u001b[0m\u001b[0;34m(\u001b[0m\u001b[0mdataloader\u001b[0m\u001b[0;34m,\u001b[0m \u001b[0mepochs\u001b[0m\u001b[0;34m,\u001b[0m \u001b[0mcallbacks\u001b[0m\u001b[0;34m,\u001b[0m \u001b[0mverbose\u001b[0m\u001b[0;34m,\u001b[0m \u001b[0mmetrics\u001b[0m\u001b[0;34m,\u001b[0m \u001b[0mval_dataloader\u001b[0m\u001b[0;34m)\u001b[0m\u001b[0;34m\u001b[0m\u001b[0;34m\u001b[0m\u001b[0m\n\u001b[0m\u001b[1;32m    295\u001b[0m         \u001b[0;32mreturn\u001b[0m \u001b[0mlog\u001b[0m\u001b[0;34m\u001b[0m\u001b[0;34m\u001b[0m\u001b[0m\n\u001b[1;32m    296\u001b[0m \u001b[0;34m\u001b[0m\u001b[0m\n",
      "\u001b[0;32m/usr/local/lib/python3.9/site-packages/torchtuples/base.py\u001b[0m in \u001b[0;36mfit_dataloader\u001b[0;34m(self, dataloader, epochs, callbacks, verbose, metrics, val_dataloader)\u001b[0m\n\u001b[1;32m    246\u001b[0m             \u001b[0;32melse\u001b[0m\u001b[0;34m:\u001b[0m\u001b[0;34m\u001b[0m\u001b[0;34m\u001b[0m\u001b[0m\n\u001b[1;32m    247\u001b[0m                 \u001b[0mstop\u001b[0m \u001b[0;34m=\u001b[0m \u001b[0mself\u001b[0m\u001b[0;34m.\u001b[0m\u001b[0mcallbacks\u001b[0m\u001b[0;34m.\u001b[0m\u001b[0mon_epoch_end\u001b[0m\u001b[0;34m(\u001b[0m\u001b[0;34m)\u001b[0m\u001b[0;34m\u001b[0m\u001b[0;34m\u001b[0m\u001b[0m\n\u001b[0;32m--> 248\u001b[0;31m         \u001b[0mself\u001b[0m\u001b[0;34m.\u001b[0m\u001b[0mcallbacks\u001b[0m\u001b[0;34m.\u001b[0m\u001b[0mon_fit_end\u001b[0m\u001b[0;34m(\u001b[0m\u001b[0;34m)\u001b[0m\u001b[0;34m\u001b[0m\u001b[0;34m\u001b[0m\u001b[0m\n\u001b[0m\u001b[1;32m    249\u001b[0m         \u001b[0;32mreturn\u001b[0m \u001b[0mself\u001b[0m\u001b[0;34m.\u001b[0m\u001b[0mlog\u001b[0m\u001b[0;34m\u001b[0m\u001b[0;34m\u001b[0m\u001b[0m\n\u001b[1;32m    250\u001b[0m \u001b[0;34m\u001b[0m\u001b[0m\n",
      "\u001b[0;32m/usr/local/lib/python3.9/site-packages/torchtuples/callbacks.py\u001b[0m in \u001b[0;36mon_fit_end\u001b[0;34m(self)\u001b[0m\n\u001b[1;32m    130\u001b[0m \u001b[0;34m\u001b[0m\u001b[0m\n\u001b[1;32m    131\u001b[0m     \u001b[0;32mdef\u001b[0m \u001b[0mon_fit_end\u001b[0m\u001b[0;34m(\u001b[0m\u001b[0mself\u001b[0m\u001b[0;34m)\u001b[0m\u001b[0;34m:\u001b[0m\u001b[0;34m\u001b[0m\u001b[0;34m\u001b[0m\u001b[0m\n\u001b[0;32m--> 132\u001b[0;31m         \u001b[0mstop_signal\u001b[0m \u001b[0;34m=\u001b[0m \u001b[0mself\u001b[0m\u001b[0;34m.\u001b[0m\u001b[0mapply_callbacks\u001b[0m\u001b[0;34m(\u001b[0m\u001b[0;32mlambda\u001b[0m \u001b[0mx\u001b[0m\u001b[0;34m:\u001b[0m \u001b[0mx\u001b[0m\u001b[0;34m.\u001b[0m\u001b[0mon_fit_end\u001b[0m\u001b[0;34m(\u001b[0m\u001b[0;34m)\u001b[0m\u001b[0;34m)\u001b[0m\u001b[0;34m\u001b[0m\u001b[0;34m\u001b[0m\u001b[0m\n\u001b[0m\u001b[1;32m    133\u001b[0m         \u001b[0;32mreturn\u001b[0m \u001b[0mstop_signal\u001b[0m\u001b[0;34m\u001b[0m\u001b[0;34m\u001b[0m\u001b[0m\n\u001b[1;32m    134\u001b[0m \u001b[0;34m\u001b[0m\u001b[0m\n",
      "\u001b[0;32m/usr/local/lib/python3.9/site-packages/torchtuples/callbacks.py\u001b[0m in \u001b[0;36mapply_callbacks\u001b[0;34m(self, func)\u001b[0m\n\u001b[1;32m     95\u001b[0m         \u001b[0mstop_signal\u001b[0m \u001b[0;34m=\u001b[0m \u001b[0;32mFalse\u001b[0m\u001b[0;34m\u001b[0m\u001b[0;34m\u001b[0m\u001b[0m\n\u001b[1;32m     96\u001b[0m         \u001b[0;32mfor\u001b[0m \u001b[0mc\u001b[0m \u001b[0;32min\u001b[0m \u001b[0mself\u001b[0m\u001b[0;34m.\u001b[0m\u001b[0mvalues\u001b[0m\u001b[0;34m(\u001b[0m\u001b[0;34m)\u001b[0m\u001b[0;34m:\u001b[0m\u001b[0;34m\u001b[0m\u001b[0;34m\u001b[0m\u001b[0m\n\u001b[0;32m---> 97\u001b[0;31m             \u001b[0mstop\u001b[0m \u001b[0;34m=\u001b[0m \u001b[0mfunc\u001b[0m\u001b[0;34m(\u001b[0m\u001b[0mc\u001b[0m\u001b[0;34m)\u001b[0m\u001b[0;34m\u001b[0m\u001b[0;34m\u001b[0m\u001b[0m\n\u001b[0m\u001b[1;32m     98\u001b[0m             \u001b[0mstop\u001b[0m \u001b[0;34m=\u001b[0m \u001b[0mstop\u001b[0m \u001b[0;32mif\u001b[0m \u001b[0mstop\u001b[0m \u001b[0;32melse\u001b[0m \u001b[0;32mFalse\u001b[0m\u001b[0;34m\u001b[0m\u001b[0;34m\u001b[0m\u001b[0m\n\u001b[1;32m     99\u001b[0m             \u001b[0mstop_signal\u001b[0m \u001b[0;34m=\u001b[0m \u001b[0mstop_signal\u001b[0m \u001b[0;32mor\u001b[0m \u001b[0mstop\u001b[0m\u001b[0;34m\u001b[0m\u001b[0;34m\u001b[0m\u001b[0m\n",
      "\u001b[0;32m/usr/local/lib/python3.9/site-packages/torchtuples/callbacks.py\u001b[0m in \u001b[0;36m<lambda>\u001b[0;34m(x)\u001b[0m\n\u001b[1;32m    130\u001b[0m \u001b[0;34m\u001b[0m\u001b[0m\n\u001b[1;32m    131\u001b[0m     \u001b[0;32mdef\u001b[0m \u001b[0mon_fit_end\u001b[0m\u001b[0;34m(\u001b[0m\u001b[0mself\u001b[0m\u001b[0;34m)\u001b[0m\u001b[0;34m:\u001b[0m\u001b[0;34m\u001b[0m\u001b[0;34m\u001b[0m\u001b[0m\n\u001b[0;32m--> 132\u001b[0;31m         \u001b[0mstop_signal\u001b[0m \u001b[0;34m=\u001b[0m \u001b[0mself\u001b[0m\u001b[0;34m.\u001b[0m\u001b[0mapply_callbacks\u001b[0m\u001b[0;34m(\u001b[0m\u001b[0;32mlambda\u001b[0m \u001b[0mx\u001b[0m\u001b[0;34m:\u001b[0m \u001b[0mx\u001b[0m\u001b[0;34m.\u001b[0m\u001b[0mon_fit_end\u001b[0m\u001b[0;34m(\u001b[0m\u001b[0;34m)\u001b[0m\u001b[0;34m)\u001b[0m\u001b[0;34m\u001b[0m\u001b[0;34m\u001b[0m\u001b[0m\n\u001b[0m\u001b[1;32m    133\u001b[0m         \u001b[0;32mreturn\u001b[0m \u001b[0mstop_signal\u001b[0m\u001b[0;34m\u001b[0m\u001b[0;34m\u001b[0m\u001b[0m\n\u001b[1;32m    134\u001b[0m \u001b[0;34m\u001b[0m\u001b[0m\n",
      "\u001b[0;32m/usr/local/lib/python3.9/site-packages/torchtuples/callbacks.py\u001b[0m in \u001b[0;36mon_fit_end\u001b[0;34m(self)\u001b[0m\n\u001b[1;32m    755\u001b[0m         \u001b[0;32mif\u001b[0m \u001b[0mself\u001b[0m\u001b[0;34m.\u001b[0m\u001b[0m_checkpoint_model\u001b[0m\u001b[0;34m:\u001b[0m\u001b[0;34m\u001b[0m\u001b[0;34m\u001b[0m\u001b[0m\n\u001b[1;32m    756\u001b[0m             \u001b[0;32mif\u001b[0m \u001b[0mself\u001b[0m\u001b[0;34m.\u001b[0m\u001b[0mload_best\u001b[0m\u001b[0;34m:\u001b[0m\u001b[0;34m\u001b[0m\u001b[0;34m\u001b[0m\u001b[0m\n\u001b[0;32m--> 757\u001b[0;31m                 \u001b[0mself\u001b[0m\u001b[0;34m.\u001b[0m\u001b[0mload_weights\u001b[0m\u001b[0;34m(\u001b[0m\u001b[0;34m)\u001b[0m\u001b[0;34m\u001b[0m\u001b[0;34m\u001b[0m\u001b[0m\n\u001b[0m\u001b[1;32m    758\u001b[0m             \u001b[0;32mif\u001b[0m \u001b[0mself\u001b[0m\u001b[0;34m.\u001b[0m\u001b[0mrm_file\u001b[0m\u001b[0;34m:\u001b[0m\u001b[0;34m\u001b[0m\u001b[0;34m\u001b[0m\u001b[0m\n\u001b[1;32m    759\u001b[0m                 \u001b[0mself\u001b[0m\u001b[0;34m.\u001b[0m\u001b[0mrm_weight_file\u001b[0m\u001b[0;34m(\u001b[0m\u001b[0;34m)\u001b[0m\u001b[0;34m\u001b[0m\u001b[0;34m\u001b[0m\u001b[0m\n",
      "\u001b[0;32m/usr/local/lib/python3.9/site-packages/torchtuples/callbacks.py\u001b[0m in \u001b[0;36mload_weights\u001b[0;34m(self)\u001b[0m\n\u001b[1;32m    762\u001b[0m         \u001b[0;32mif\u001b[0m \u001b[0;32mnot\u001b[0m \u001b[0mself\u001b[0m\u001b[0;34m.\u001b[0m\u001b[0m_checkpoint_model\u001b[0m\u001b[0;34m:\u001b[0m\u001b[0;34m\u001b[0m\u001b[0;34m\u001b[0m\u001b[0m\n\u001b[1;32m    763\u001b[0m             \u001b[0;32mraise\u001b[0m \u001b[0mRuntimeError\u001b[0m\u001b[0;34m(\u001b[0m\u001b[0;34m\"This model has no stored weights\"\u001b[0m\u001b[0;34m)\u001b[0m\u001b[0;34m\u001b[0m\u001b[0;34m\u001b[0m\u001b[0m\n\u001b[0;32m--> 764\u001b[0;31m         \u001b[0mself\u001b[0m\u001b[0;34m.\u001b[0m\u001b[0mmodel\u001b[0m\u001b[0;34m.\u001b[0m\u001b[0mload_model_weights\u001b[0m\u001b[0;34m(\u001b[0m\u001b[0mself\u001b[0m\u001b[0;34m.\u001b[0m\u001b[0mfile_path\u001b[0m\u001b[0;34m)\u001b[0m\u001b[0;34m\u001b[0m\u001b[0;34m\u001b[0m\u001b[0m\n\u001b[0m\u001b[1;32m    765\u001b[0m \u001b[0;34m\u001b[0m\u001b[0m\n\u001b[1;32m    766\u001b[0m     \u001b[0;32mdef\u001b[0m \u001b[0mrm_weight_file\u001b[0m\u001b[0;34m(\u001b[0m\u001b[0mself\u001b[0m\u001b[0;34m)\u001b[0m\u001b[0;34m:\u001b[0m\u001b[0;34m\u001b[0m\u001b[0;34m\u001b[0m\u001b[0m\n",
      "\u001b[0;32m/usr/local/lib/python3.9/site-packages/torchtuples/base.py\u001b[0m in \u001b[0;36mload_model_weights\u001b[0;34m(self, path, **kwargs)\u001b[0m\n\u001b[1;32m    667\u001b[0m             \u001b[0;34m**\u001b[0m\u001b[0mkwargs\u001b[0m\u001b[0;34m:\u001b[0m \u001b[0mArguments\u001b[0m \u001b[0mpassed\u001b[0m \u001b[0mto\u001b[0m \u001b[0mtorch\u001b[0m\u001b[0;34m.\u001b[0m\u001b[0mload\u001b[0m \u001b[0mmethod\u001b[0m\u001b[0;34m.\u001b[0m\u001b[0;34m\u001b[0m\u001b[0;34m\u001b[0m\u001b[0m\n\u001b[1;32m    668\u001b[0m         \"\"\"\n\u001b[0;32m--> 669\u001b[0;31m         \u001b[0mself\u001b[0m\u001b[0;34m.\u001b[0m\u001b[0mnet\u001b[0m\u001b[0;34m.\u001b[0m\u001b[0mload_state_dict\u001b[0m\u001b[0;34m(\u001b[0m\u001b[0mtorch\u001b[0m\u001b[0;34m.\u001b[0m\u001b[0mload\u001b[0m\u001b[0;34m(\u001b[0m\u001b[0mpath\u001b[0m\u001b[0;34m,\u001b[0m \u001b[0;34m**\u001b[0m\u001b[0mkwargs\u001b[0m\u001b[0;34m)\u001b[0m\u001b[0;34m)\u001b[0m\u001b[0;34m\u001b[0m\u001b[0;34m\u001b[0m\u001b[0m\n\u001b[0m\u001b[1;32m    670\u001b[0m \u001b[0;34m\u001b[0m\u001b[0m\n\u001b[1;32m    671\u001b[0m     \u001b[0;32mdef\u001b[0m \u001b[0msave_net\u001b[0m\u001b[0;34m(\u001b[0m\u001b[0mself\u001b[0m\u001b[0;34m,\u001b[0m \u001b[0mpath\u001b[0m\u001b[0;34m,\u001b[0m \u001b[0;34m**\u001b[0m\u001b[0mkwargs\u001b[0m\u001b[0;34m)\u001b[0m\u001b[0;34m:\u001b[0m\u001b[0;34m\u001b[0m\u001b[0;34m\u001b[0m\u001b[0m\n",
      "\u001b[0;32m/usr/local/lib/python3.9/site-packages/torch/serialization.py\u001b[0m in \u001b[0;36mload\u001b[0;34m(f, map_location, pickle_module, weights_only, **pickle_load_args)\u001b[0m\n\u001b[1;32m    769\u001b[0m         \u001b[0mpickle_load_args\u001b[0m\u001b[0;34m[\u001b[0m\u001b[0;34m'encoding'\u001b[0m\u001b[0;34m]\u001b[0m \u001b[0;34m=\u001b[0m \u001b[0;34m'utf-8'\u001b[0m\u001b[0;34m\u001b[0m\u001b[0;34m\u001b[0m\u001b[0m\n\u001b[1;32m    770\u001b[0m \u001b[0;34m\u001b[0m\u001b[0m\n\u001b[0;32m--> 771\u001b[0;31m     \u001b[0;32mwith\u001b[0m \u001b[0m_open_file_like\u001b[0m\u001b[0;34m(\u001b[0m\u001b[0mf\u001b[0m\u001b[0;34m,\u001b[0m \u001b[0;34m'rb'\u001b[0m\u001b[0;34m)\u001b[0m \u001b[0;32mas\u001b[0m \u001b[0mopened_file\u001b[0m\u001b[0;34m:\u001b[0m\u001b[0;34m\u001b[0m\u001b[0;34m\u001b[0m\u001b[0m\n\u001b[0m\u001b[1;32m    772\u001b[0m         \u001b[0;32mif\u001b[0m \u001b[0m_is_zipfile\u001b[0m\u001b[0;34m(\u001b[0m\u001b[0mopened_file\u001b[0m\u001b[0;34m)\u001b[0m\u001b[0;34m:\u001b[0m\u001b[0;34m\u001b[0m\u001b[0;34m\u001b[0m\u001b[0m\n\u001b[1;32m    773\u001b[0m             \u001b[0;31m# The zipfile reader is going to advance the current file position.\u001b[0m\u001b[0;34m\u001b[0m\u001b[0;34m\u001b[0m\u001b[0m\n",
      "\u001b[0;32m/usr/local/lib/python3.9/site-packages/torch/serialization.py\u001b[0m in \u001b[0;36m_open_file_like\u001b[0;34m(name_or_buffer, mode)\u001b[0m\n\u001b[1;32m    268\u001b[0m \u001b[0;32mdef\u001b[0m \u001b[0m_open_file_like\u001b[0m\u001b[0;34m(\u001b[0m\u001b[0mname_or_buffer\u001b[0m\u001b[0;34m,\u001b[0m \u001b[0mmode\u001b[0m\u001b[0;34m)\u001b[0m\u001b[0;34m:\u001b[0m\u001b[0;34m\u001b[0m\u001b[0;34m\u001b[0m\u001b[0m\n\u001b[1;32m    269\u001b[0m     \u001b[0;32mif\u001b[0m \u001b[0m_is_path\u001b[0m\u001b[0;34m(\u001b[0m\u001b[0mname_or_buffer\u001b[0m\u001b[0;34m)\u001b[0m\u001b[0;34m:\u001b[0m\u001b[0;34m\u001b[0m\u001b[0;34m\u001b[0m\u001b[0m\n\u001b[0;32m--> 270\u001b[0;31m         \u001b[0;32mreturn\u001b[0m \u001b[0m_open_file\u001b[0m\u001b[0;34m(\u001b[0m\u001b[0mname_or_buffer\u001b[0m\u001b[0;34m,\u001b[0m \u001b[0mmode\u001b[0m\u001b[0;34m)\u001b[0m\u001b[0;34m\u001b[0m\u001b[0;34m\u001b[0m\u001b[0m\n\u001b[0m\u001b[1;32m    271\u001b[0m     \u001b[0;32melse\u001b[0m\u001b[0;34m:\u001b[0m\u001b[0;34m\u001b[0m\u001b[0;34m\u001b[0m\u001b[0m\n\u001b[1;32m    272\u001b[0m         \u001b[0;32mif\u001b[0m \u001b[0;34m'w'\u001b[0m \u001b[0;32min\u001b[0m \u001b[0mmode\u001b[0m\u001b[0;34m:\u001b[0m\u001b[0;34m\u001b[0m\u001b[0;34m\u001b[0m\u001b[0m\n",
      "\u001b[0;32m/usr/local/lib/python3.9/site-packages/torch/serialization.py\u001b[0m in \u001b[0;36m__init__\u001b[0;34m(self, name, mode)\u001b[0m\n\u001b[1;32m    249\u001b[0m \u001b[0;32mclass\u001b[0m \u001b[0m_open_file\u001b[0m\u001b[0;34m(\u001b[0m\u001b[0m_opener\u001b[0m\u001b[0;34m)\u001b[0m\u001b[0;34m:\u001b[0m\u001b[0;34m\u001b[0m\u001b[0;34m\u001b[0m\u001b[0m\n\u001b[1;32m    250\u001b[0m     \u001b[0;32mdef\u001b[0m \u001b[0m__init__\u001b[0m\u001b[0;34m(\u001b[0m\u001b[0mself\u001b[0m\u001b[0;34m,\u001b[0m \u001b[0mname\u001b[0m\u001b[0;34m,\u001b[0m \u001b[0mmode\u001b[0m\u001b[0;34m)\u001b[0m\u001b[0;34m:\u001b[0m\u001b[0;34m\u001b[0m\u001b[0;34m\u001b[0m\u001b[0m\n\u001b[0;32m--> 251\u001b[0;31m         \u001b[0msuper\u001b[0m\u001b[0;34m(\u001b[0m\u001b[0m_open_file\u001b[0m\u001b[0;34m,\u001b[0m \u001b[0mself\u001b[0m\u001b[0;34m)\u001b[0m\u001b[0;34m.\u001b[0m\u001b[0m__init__\u001b[0m\u001b[0;34m(\u001b[0m\u001b[0mopen\u001b[0m\u001b[0;34m(\u001b[0m\u001b[0mname\u001b[0m\u001b[0;34m,\u001b[0m \u001b[0mmode\u001b[0m\u001b[0;34m)\u001b[0m\u001b[0;34m)\u001b[0m\u001b[0;34m\u001b[0m\u001b[0;34m\u001b[0m\u001b[0m\n\u001b[0m\u001b[1;32m    252\u001b[0m \u001b[0;34m\u001b[0m\u001b[0m\n\u001b[1;32m    253\u001b[0m     \u001b[0;32mdef\u001b[0m \u001b[0m__exit__\u001b[0m\u001b[0;34m(\u001b[0m\u001b[0mself\u001b[0m\u001b[0;34m,\u001b[0m \u001b[0;34m*\u001b[0m\u001b[0margs\u001b[0m\u001b[0;34m)\u001b[0m\u001b[0;34m:\u001b[0m\u001b[0;34m\u001b[0m\u001b[0;34m\u001b[0m\u001b[0m\n",
      "\u001b[0;31mFileNotFoundError\u001b[0m: [Errno 2] No such file or directory: 'weight_checkpoint_2023-1-25_10-13-59_ANYoDZu2jIdJI3yIaAPp.pt'"
     ]
    }
   ],
   "source": [
    "logs_df, model, score = train_deep_surv(\n",
    "    train, val, test, DeepHitSingle, tolerance=10, \n",
    "    print_lr=True, print_logs=True, verbose = True,\n",
    "    **params\n",
    ")"
   ]
  },
  {
   "cell_type": "code",
   "execution_count": null,
   "id": "6b483189",
   "metadata": {},
   "outputs": [],
   "source": [
    "grid_params = {\n",
    "    'n_nodes': [32],\n",
    "    'n_layers': [4],\n",
    "    'dropout': [0.1],\n",
    "    'model_params': [\n",
    "        {'alpha': 0.01, 'sigma': 0.2, 'duration_index': labtrans.cuts},\n",
    "        {'alpha': 0.05, 'sigma': 0.2, 'duration_index': labtrans.cuts},\n",
    "        {'alpha': 0.1, 'sigma': 0.2, 'duration_index': labtrans.cuts},\n",
    "    ],\n",
    "    'epochs': [512],\n",
    "    'batch_size': [16],\n",
    "    'discrete': [True],\n",
    "    'output_bias': [True],\n",
    "}\n",
    "\n",
    "best_model, table = grid_search_deep(train, val, test, labtrans.out_features, grid_params, DeepHitSingle)"
   ]
  },
  {
   "cell_type": "code",
   "execution_count": null,
   "id": "b9978ef2",
   "metadata": {},
   "outputs": [],
   "source": [
    "table"
   ]
  },
  {
   "cell_type": "markdown",
   "id": "eb832e48",
   "metadata": {
    "heading_collapsed": true
   },
   "source": [
    "# Draft"
   ]
  },
  {
   "cell_type": "code",
   "execution_count": null,
   "id": "12edbf67",
   "metadata": {
    "hidden": true
   },
   "outputs": [],
   "source": []
  },
  {
   "cell_type": "code",
   "execution_count": null,
   "id": "e980ffb7",
   "metadata": {
    "hidden": true
   },
   "outputs": [],
   "source": [
    "# finding the best learning rate from this model\n",
    "lrfinder = model.lr_finder(train[0], train[1], batch_size, tolerance=10)\n",
    "lr = lrfinder.get_best_lr()\n",
    "model.optimizer.set_lr(lr)\n",
    "\n",
    "lrfinder_df = lrfinder.to_pandas()\n",
    "fig = px.line(x=lrfinder_df.index, y=lrfinder_df.train_loss, \n",
    "              log_x=True, width=700, height=400)\n",
    "\n",
    "fig.update_layout(dict(xaxis={'title':'lr'}, yaxis={'title':'batch_loss'}))\n",
    "fig.show()\n",
    "\n",
    "print(\"Best learning rate: \", lr)"
   ]
  },
  {
   "cell_type": "code",
   "execution_count": null,
   "id": "8d4bcd23",
   "metadata": {
    "hidden": true,
    "scrolled": true
   },
   "outputs": [],
   "source": [
    "callbacks = [tt.callbacks.EarlyStopping(patience=15)]\n",
    "\n",
    "log = model.fit(train[0], train[1], batch_size, 100, callbacks, verbose,\n",
    "            val_data=val, val_batch_size=batch_size)"
   ]
  },
  {
   "cell_type": "code",
   "execution_count": null,
   "id": "90775cd3",
   "metadata": {
    "hidden": true
   },
   "outputs": [],
   "source": [
    "logs_df = log.to_pandas().reset_index().melt(\n",
    "    id_vars=\"index\", value_name=\"loss\", var_name=\"dataset\").reset_index()\n",
    "\n",
    "fig = px.line(logs_df, y=\"loss\", x=\"index\", color=\"dataset\", width=800, height = 400)\n",
    "fig.show()\n",
    "\n",
    "# scoring the model\n",
    "surv = model.interpolate(10).predict_surv_df(test[0])\n",
    "ev = EvalSurv(surv, test[1][0], test[1][1], censor_surv='km')\n",
    "score = ev.concordance_td()\n",
    "score"
   ]
  },
  {
   "cell_type": "code",
   "execution_count": null,
   "id": "aa02c8c8",
   "metadata": {
    "hidden": true
   },
   "outputs": [],
   "source": []
  },
  {
   "cell_type": "code",
   "execution_count": null,
   "id": "f77e89d3",
   "metadata": {
    "hidden": true
   },
   "outputs": [],
   "source": []
  },
  {
   "cell_type": "code",
   "execution_count": null,
   "id": "c0309179",
   "metadata": {
    "hidden": true
   },
   "outputs": [],
   "source": []
  },
  {
   "cell_type": "code",
   "execution_count": null,
   "id": "6c4ec535",
   "metadata": {
    "hidden": true
   },
   "outputs": [],
   "source": []
  },
  {
   "cell_type": "code",
   "execution_count": null,
   "id": "4118c778",
   "metadata": {
    "hidden": true
   },
   "outputs": [],
   "source": []
  },
  {
   "cell_type": "code",
   "execution_count": null,
   "id": "afdf1d9c",
   "metadata": {
    "hidden": true
   },
   "outputs": [],
   "source": []
  },
  {
   "cell_type": "code",
   "execution_count": null,
   "id": "3b3f42ed",
   "metadata": {
    "hidden": true
   },
   "outputs": [],
   "source": [
    "\n",
    "best_score"
   ]
  },
  {
   "cell_type": "code",
   "execution_count": null,
   "id": "cfebebc0",
   "metadata": {
    "hidden": true
   },
   "outputs": [],
   "source": []
  },
  {
   "cell_type": "code",
   "execution_count": null,
   "id": "e39b0a5a",
   "metadata": {
    "hidden": true
   },
   "outputs": [],
   "source": [
    "# finding the best learning rate from this model\n",
    "lrfinder = model.lr_finder(train[0], y_train, params['batch_size'], tolerance=10, lr_min=0.001, lr_max=1.0)\n",
    "\n",
    "lrfinder_df = lrfinder.to_pandas()\n",
    "fig = px.line(x=lrfinder_df.index, y=lrfinder_df.train_loss, \n",
    "              log_x=True, width=700, height=400)\n",
    "fig.update_layout(dict(xaxis={'title':'lr'}, yaxis={'title':'batch_loss'}))\n",
    "\n",
    "\n",
    "print(\"Best LR: \", lrfinder.get_best_lr())\n",
    "fig"
   ]
  },
  {
   "cell_type": "code",
   "execution_count": null,
   "id": "030230bd",
   "metadata": {
    "hidden": true
   },
   "outputs": [],
   "source": [
    "help(model.lr_finder)"
   ]
  },
  {
   "cell_type": "code",
   "execution_count": null,
   "id": "275f60ef",
   "metadata": {
    "hidden": true
   },
   "outputs": [],
   "source": [
    "# setting the new number\n",
    "model.optimizer.set_lr(lrfinder.get_best_lr())\n",
    "model.optimizer.param_groups[0]['lr']"
   ]
  },
  {
   "cell_type": "code",
   "execution_count": null,
   "id": "cafa2de5",
   "metadata": {
    "hidden": true,
    "scrolled": false
   },
   "outputs": [],
   "source": [
    "callbacks = [tt.callbacks.EarlyStopping()]\n",
    "verbose = True\n",
    "\n",
    "log = model.fit(train[0], train[1], params['batch_size'], 2, callbacks, verbose,\n",
    "                val_data=val, val_batch_size=params['batch_size'])"
   ]
  },
  {
   "cell_type": "code",
   "execution_count": null,
   "id": "8c0a93a4",
   "metadata": {
    "hidden": true
   },
   "outputs": [],
   "source": [
    "logs_df = log.to_pandas().reset_index().melt(\n",
    "    id_vars=\"index\", value_name=\"loss\", var_name=\"dataset\").reset_index()\n",
    "\n",
    "px.line(logs_df, y=\"loss\", x=\"index\", color=\"dataset\", width=800, height = 400)"
   ]
  },
  {
   "cell_type": "code",
   "execution_count": null,
   "id": "b781624d",
   "metadata": {
    "hidden": true
   },
   "outputs": [],
   "source": [
    "model.partial_log_likelihood(*val).mean()"
   ]
  },
  {
   "cell_type": "code",
   "execution_count": null,
   "id": "3fdd2be2",
   "metadata": {
    "hidden": true
   },
   "outputs": [],
   "source": []
  },
  {
   "cell_type": "code",
   "execution_count": null,
   "id": "38536eb4",
   "metadata": {
    "hidden": true
   },
   "outputs": [],
   "source": []
  },
  {
   "cell_type": "code",
   "execution_count": null,
   "id": "86bd81e1",
   "metadata": {
    "hidden": true
   },
   "outputs": [],
   "source": [
    "_ = model.compute_baseline_hazards()\n",
    "surv = model.predict_surv_df(test[0])"
   ]
  },
  {
   "cell_type": "code",
   "execution_count": null,
   "id": "b5d05066",
   "metadata": {
    "hidden": true
   },
   "outputs": [],
   "source": [
    "N = 3\n",
    "surv_df = surv[np.random.choice(surv.columns, N)]\\\n",
    "    .reset_index().melt(id_vars=\"duration\", var_name=\"patient_id\", value_name=\"S\")\n",
    "px.line(surv_df, x=\"duration\", y=\"S\", color=\"patient_id\", width=800, height = 400)"
   ]
  },
  {
   "cell_type": "code",
   "execution_count": null,
   "id": "b067dd07",
   "metadata": {
    "hidden": true
   },
   "outputs": [],
   "source": [
    "ev = EvalSurv(surv, test[1][0], test[1][1], censor_surv='km')"
   ]
  },
  {
   "cell_type": "code",
   "execution_count": null,
   "id": "e6abd6bb",
   "metadata": {
    "hidden": true
   },
   "outputs": [],
   "source": [
    "test[1][0].shape[0]"
   ]
  },
  {
   "cell_type": "code",
   "execution_count": null,
   "id": "2de54039",
   "metadata": {
    "hidden": true
   },
   "outputs": [],
   "source": [
    "test[0][0].shape"
   ]
  },
  {
   "cell_type": "code",
   "execution_count": null,
   "id": "3b485c8f",
   "metadata": {
    "hidden": true
   },
   "outputs": [],
   "source": [
    "surv.shape[1]"
   ]
  },
  {
   "cell_type": "code",
   "execution_count": null,
   "id": "37c6077b",
   "metadata": {
    "hidden": true
   },
   "outputs": [],
   "source": [
    "ev.concordance_td()"
   ]
  },
  {
   "cell_type": "code",
   "execution_count": null,
   "id": "d0712d9a",
   "metadata": {
    "hidden": true
   },
   "outputs": [],
   "source": [
    "time_grid = np.linspace(durations_test.min(), durations_test.max(), 100)\n",
    "brier_scores = ev.brier_score(time_grid)"
   ]
  },
  {
   "cell_type": "code",
   "execution_count": null,
   "id": "a125b8dd",
   "metadata": {
    "hidden": true
   },
   "outputs": [],
   "source": [
    "brier_scores_df = pd.DataFrame(brier_scores).reset_index().rename(columns={\"index\":\"duration\"})\n",
    "px.line(brier_scores_df, x=\"duration\", y=\"brier_score\", width=800, height = 400)"
   ]
  },
  {
   "cell_type": "code",
   "execution_count": null,
   "id": "8cb659d4",
   "metadata": {
    "hidden": true
   },
   "outputs": [],
   "source": [
    "time_grid = np.arange(1, 91)"
   ]
  },
  {
   "cell_type": "code",
   "execution_count": null,
   "id": "e041d4ac",
   "metadata": {
    "hidden": true
   },
   "outputs": [],
   "source": [
    "ev.integrated_brier_score(time_grid)"
   ]
  },
  {
   "cell_type": "code",
   "execution_count": null,
   "id": "587d8378",
   "metadata": {
    "hidden": true
   },
   "outputs": [],
   "source": [
    "ev.integrated_nbll(time_grid)"
   ]
  },
  {
   "cell_type": "code",
   "execution_count": null,
   "id": "5c400523",
   "metadata": {
    "hidden": true
   },
   "outputs": [],
   "source": [
    "help(ev.integrated_nbll)"
   ]
  },
  {
   "cell_type": "code",
   "execution_count": null,
   "id": "623ed58f",
   "metadata": {
    "hidden": true
   },
   "outputs": [],
   "source": []
  }
 ],
 "metadata": {
  "kernelspec": {
   "display_name": "py39",
   "language": "python",
   "name": "py39"
  },
  "language_info": {
   "codemirror_mode": {
    "name": "ipython",
    "version": 3
   },
   "file_extension": ".py",
   "mimetype": "text/x-python",
   "name": "python",
   "nbconvert_exporter": "python",
   "pygments_lexer": "ipython3",
   "version": "3.9.13"
  }
 },
 "nbformat": 4,
 "nbformat_minor": 5
}
