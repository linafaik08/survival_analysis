{
 "cells": [
  {
   "cell_type": "code",
   "execution_count": 1,
   "id": "6867da53",
   "metadata": {},
   "outputs": [],
   "source": [
    "# Import libraries\n",
    "import pandas as pd\n",
    "import numpy as np\n",
    "import matplotlib.pyplot as plt\n",
    "import datetime\n",
    "\n",
    "import os\n",
    "path_dir = os.path.dirname(os.getcwd())\n",
    "\n",
    "import plotly\n",
    "import plotly.graph_objects as go\n",
    "import plotly.express as px\n",
    "import plotly.io as pio\n",
    "pio.templates.default = \"plotly_white\"\n",
    "\n",
    "pio.renderers.default = \"svg\""
   ]
  },
  {
   "cell_type": "markdown",
   "id": "c929f8fa",
   "metadata": {},
   "source": [
    "> - Source: https://www.kaggle.com/datasets/gsagar12/dspp1"
   ]
  },
  {
   "cell_type": "markdown",
   "id": "55f4b3fd",
   "metadata": {},
   "source": [
    "# 1. Data loading & preparation"
   ]
  },
  {
   "cell_type": "code",
   "execution_count": 2,
   "id": "22bf5eca",
   "metadata": {},
   "outputs": [
    {
     "data": {
      "text/plain": [
       "['product_info.csv',\n",
       " 'customer_cases.csv',\n",
       " 'customer_product.csv',\n",
       " 'customer_info.csv']"
      ]
     },
     "execution_count": 2,
     "metadata": {},
     "output_type": "execute_result"
    }
   ],
   "source": [
    "path_dir = os.path.join(os.path.dirname(os.getcwd()), 'datasets', 'customer_subscription')\n",
    "os.listdir(path_dir)"
   ]
  },
  {
   "cell_type": "markdown",
   "id": "5d9d6d58",
   "metadata": {},
   "source": [
    "## 1.1. Customer cases"
   ]
  },
  {
   "cell_type": "code",
   "execution_count": 3,
   "id": "7cd05790",
   "metadata": {},
   "outputs": [
    {
     "data": {
      "text/html": [
       "<div>\n",
       "<style scoped>\n",
       "    .dataframe tbody tr th:only-of-type {\n",
       "        vertical-align: middle;\n",
       "    }\n",
       "\n",
       "    .dataframe tbody tr th {\n",
       "        vertical-align: top;\n",
       "    }\n",
       "\n",
       "    .dataframe thead th {\n",
       "        text-align: right;\n",
       "    }\n",
       "</style>\n",
       "<table border=\"1\" class=\"dataframe\">\n",
       "  <thead>\n",
       "    <tr style=\"text-align: right;\">\n",
       "      <th></th>\n",
       "      <th>Unnamed: 0</th>\n",
       "      <th>case_id</th>\n",
       "      <th>date_time</th>\n",
       "      <th>customer_id</th>\n",
       "      <th>channel</th>\n",
       "      <th>reason</th>\n",
       "    </tr>\n",
       "  </thead>\n",
       "  <tbody>\n",
       "    <tr>\n",
       "      <th>0</th>\n",
       "      <td>1</td>\n",
       "      <td>CC101</td>\n",
       "      <td>2017-01-01 10:32:03</td>\n",
       "      <td>C2448</td>\n",
       "      <td>phone</td>\n",
       "      <td>signup</td>\n",
       "    </tr>\n",
       "    <tr>\n",
       "      <th>1</th>\n",
       "      <td>2</td>\n",
       "      <td>CC102</td>\n",
       "      <td>2017-01-01 11:35:47</td>\n",
       "      <td>C2449</td>\n",
       "      <td>phone</td>\n",
       "      <td>signup</td>\n",
       "    </tr>\n",
       "    <tr>\n",
       "      <th>2</th>\n",
       "      <td>3</td>\n",
       "      <td>CC103</td>\n",
       "      <td>2017-01-01 11:37:09</td>\n",
       "      <td>C2450</td>\n",
       "      <td>phone</td>\n",
       "      <td>signup</td>\n",
       "    </tr>\n",
       "    <tr>\n",
       "      <th>3</th>\n",
       "      <td>4</td>\n",
       "      <td>CC104</td>\n",
       "      <td>2017-01-01 13:28:14</td>\n",
       "      <td>C2451</td>\n",
       "      <td>phone</td>\n",
       "      <td>signup</td>\n",
       "    </tr>\n",
       "    <tr>\n",
       "      <th>4</th>\n",
       "      <td>5</td>\n",
       "      <td>CC105</td>\n",
       "      <td>2017-01-01 13:52:22</td>\n",
       "      <td>C2452</td>\n",
       "      <td>phone</td>\n",
       "      <td>signup</td>\n",
       "    </tr>\n",
       "  </tbody>\n",
       "</table>\n",
       "</div>"
      ],
      "text/plain": [
       "   Unnamed: 0 case_id           date_time customer_id channel  reason\n",
       "0           1   CC101 2017-01-01 10:32:03       C2448   phone  signup\n",
       "1           2   CC102 2017-01-01 11:35:47       C2449   phone  signup\n",
       "2           3   CC103 2017-01-01 11:37:09       C2450   phone  signup\n",
       "3           4   CC104 2017-01-01 13:28:14       C2451   phone  signup\n",
       "4           5   CC105 2017-01-01 13:52:22       C2452   phone  signup"
      ]
     },
     "execution_count": 3,
     "metadata": {},
     "output_type": "execute_result"
    }
   ],
   "source": [
    "# loading data\n",
    "customer_cases = pd.read_csv(os.path.join(path_dir, \"customer_cases.csv\"))\n",
    "\n",
    "# parsing dates\n",
    "customer_cases['date_time'] = pd.to_datetime(customer_cases['date_time']) \n",
    "\n",
    "customer_cases.head()"
   ]
  },
  {
   "cell_type": "markdown",
   "id": "6cf117e8",
   "metadata": {},
   "source": [
    "## 1.2. Customer product"
   ]
  },
  {
   "cell_type": "code",
   "execution_count": 4,
   "id": "2a1b7159",
   "metadata": {},
   "outputs": [
    {
     "data": {
      "text/html": [
       "<div>\n",
       "<style scoped>\n",
       "    .dataframe tbody tr th:only-of-type {\n",
       "        vertical-align: middle;\n",
       "    }\n",
       "\n",
       "    .dataframe tbody tr th {\n",
       "        vertical-align: top;\n",
       "    }\n",
       "\n",
       "    .dataframe thead th {\n",
       "        text-align: right;\n",
       "    }\n",
       "</style>\n",
       "<table border=\"1\" class=\"dataframe\">\n",
       "  <thead>\n",
       "    <tr style=\"text-align: right;\">\n",
       "      <th></th>\n",
       "      <th>Unnamed: 0</th>\n",
       "      <th>customer_id</th>\n",
       "      <th>product</th>\n",
       "      <th>signup_date_time</th>\n",
       "      <th>cancel_date_time</th>\n",
       "    </tr>\n",
       "  </thead>\n",
       "  <tbody>\n",
       "    <tr>\n",
       "      <th>0</th>\n",
       "      <td>1</td>\n",
       "      <td>C2448</td>\n",
       "      <td>prd_1</td>\n",
       "      <td>2017-01-01 10:35:09</td>\n",
       "      <td>NaT</td>\n",
       "    </tr>\n",
       "    <tr>\n",
       "      <th>1</th>\n",
       "      <td>2</td>\n",
       "      <td>C2449</td>\n",
       "      <td>prd_1</td>\n",
       "      <td>2017-01-01 11:39:29</td>\n",
       "      <td>2021-09-05 10:00:02</td>\n",
       "    </tr>\n",
       "    <tr>\n",
       "      <th>2</th>\n",
       "      <td>3</td>\n",
       "      <td>C2450</td>\n",
       "      <td>prd_1</td>\n",
       "      <td>2017-01-01 11:42:00</td>\n",
       "      <td>2019-01-13 16:24:55</td>\n",
       "    </tr>\n",
       "    <tr>\n",
       "      <th>3</th>\n",
       "      <td>4</td>\n",
       "      <td>C2451</td>\n",
       "      <td>prd_2</td>\n",
       "      <td>2017-01-01 13:32:08</td>\n",
       "      <td>NaT</td>\n",
       "    </tr>\n",
       "    <tr>\n",
       "      <th>4</th>\n",
       "      <td>5</td>\n",
       "      <td>C2452</td>\n",
       "      <td>prd_1</td>\n",
       "      <td>2017-01-01 13:57:30</td>\n",
       "      <td>2021-06-28 18:06:01</td>\n",
       "    </tr>\n",
       "  </tbody>\n",
       "</table>\n",
       "</div>"
      ],
      "text/plain": [
       "   Unnamed: 0 customer_id product    signup_date_time    cancel_date_time\n",
       "0           1       C2448   prd_1 2017-01-01 10:35:09                 NaT\n",
       "1           2       C2449   prd_1 2017-01-01 11:39:29 2021-09-05 10:00:02\n",
       "2           3       C2450   prd_1 2017-01-01 11:42:00 2019-01-13 16:24:55\n",
       "3           4       C2451   prd_2 2017-01-01 13:32:08                 NaT\n",
       "4           5       C2452   prd_1 2017-01-01 13:57:30 2021-06-28 18:06:01"
      ]
     },
     "execution_count": 4,
     "metadata": {},
     "output_type": "execute_result"
    }
   ],
   "source": [
    "# loading data\n",
    "customer_product = pd.read_csv(os.path.join(path_dir, \"customer_product.csv\"))\n",
    "\n",
    "# parsing dates\n",
    "customer_product['signup_date_time'] = pd.to_datetime(customer_product['signup_date_time'])\n",
    "customer_product['cancel_date_time'] = pd.to_datetime(customer_product['cancel_date_time'])\n",
    "\n",
    "customer_product.head()"
   ]
  },
  {
   "cell_type": "code",
   "execution_count": 5,
   "id": "cb35e65f",
   "metadata": {},
   "outputs": [
    {
     "data": {
      "text/plain": [
       "product    1\n",
       "dtype: int64"
      ]
     },
     "execution_count": 5,
     "metadata": {},
     "output_type": "execute_result"
    }
   ],
   "source": [
    "# CHECK: 1 product per customer\n",
    "customer_product.groupby(['customer_id']).agg({'product': 'nunique'}).max()"
   ]
  },
  {
   "cell_type": "code",
   "execution_count": 6,
   "id": "cb87bb1a",
   "metadata": {},
   "outputs": [
    {
     "data": {
      "text/html": [
       "<div>\n",
       "<style scoped>\n",
       "    .dataframe tbody tr th:only-of-type {\n",
       "        vertical-align: middle;\n",
       "    }\n",
       "\n",
       "    .dataframe tbody tr th {\n",
       "        vertical-align: top;\n",
       "    }\n",
       "\n",
       "    .dataframe thead th {\n",
       "        text-align: right;\n",
       "    }\n",
       "</style>\n",
       "<table border=\"1\" class=\"dataframe\">\n",
       "  <thead>\n",
       "    <tr style=\"text-align: right;\">\n",
       "      <th></th>\n",
       "      <th>case_id</th>\n",
       "      <th>date_time</th>\n",
       "      <th>customer_id</th>\n",
       "      <th>channel</th>\n",
       "      <th>reason</th>\n",
       "      <th>product</th>\n",
       "      <th>signup_date_time</th>\n",
       "      <th>cancel_date_time</th>\n",
       "    </tr>\n",
       "  </thead>\n",
       "  <tbody>\n",
       "    <tr>\n",
       "      <th>0</th>\n",
       "      <td>CC101</td>\n",
       "      <td>2017-01-01 10:32:03</td>\n",
       "      <td>C2448</td>\n",
       "      <td>phone</td>\n",
       "      <td>signup</td>\n",
       "      <td>prd_1</td>\n",
       "      <td>2017-01-01 10:35:09</td>\n",
       "      <td>NaT</td>\n",
       "    </tr>\n",
       "    <tr>\n",
       "      <th>1</th>\n",
       "      <td>CC102</td>\n",
       "      <td>2017-01-01 11:35:47</td>\n",
       "      <td>C2449</td>\n",
       "      <td>phone</td>\n",
       "      <td>signup</td>\n",
       "      <td>prd_1</td>\n",
       "      <td>2017-01-01 11:39:29</td>\n",
       "      <td>2021-09-05 10:00:02</td>\n",
       "    </tr>\n",
       "    <tr>\n",
       "      <th>2</th>\n",
       "      <td>CC103</td>\n",
       "      <td>2017-01-01 11:37:09</td>\n",
       "      <td>C2450</td>\n",
       "      <td>phone</td>\n",
       "      <td>signup</td>\n",
       "      <td>prd_1</td>\n",
       "      <td>2017-01-01 11:42:00</td>\n",
       "      <td>2019-01-13 16:24:55</td>\n",
       "    </tr>\n",
       "    <tr>\n",
       "      <th>3</th>\n",
       "      <td>CC104</td>\n",
       "      <td>2017-01-01 13:28:14</td>\n",
       "      <td>C2451</td>\n",
       "      <td>phone</td>\n",
       "      <td>signup</td>\n",
       "      <td>prd_2</td>\n",
       "      <td>2017-01-01 13:32:08</td>\n",
       "      <td>NaT</td>\n",
       "    </tr>\n",
       "    <tr>\n",
       "      <th>4</th>\n",
       "      <td>CC105</td>\n",
       "      <td>2017-01-01 13:52:22</td>\n",
       "      <td>C2452</td>\n",
       "      <td>phone</td>\n",
       "      <td>signup</td>\n",
       "      <td>prd_1</td>\n",
       "      <td>2017-01-01 13:57:30</td>\n",
       "      <td>2021-06-28 18:06:01</td>\n",
       "    </tr>\n",
       "  </tbody>\n",
       "</table>\n",
       "</div>"
      ],
      "text/plain": [
       "  case_id           date_time customer_id channel  reason product  \\\n",
       "0   CC101 2017-01-01 10:32:03       C2448   phone  signup   prd_1   \n",
       "1   CC102 2017-01-01 11:35:47       C2449   phone  signup   prd_1   \n",
       "2   CC103 2017-01-01 11:37:09       C2450   phone  signup   prd_1   \n",
       "3   CC104 2017-01-01 13:28:14       C2451   phone  signup   prd_2   \n",
       "4   CC105 2017-01-01 13:52:22       C2452   phone  signup   prd_1   \n",
       "\n",
       "     signup_date_time    cancel_date_time  \n",
       "0 2017-01-01 10:35:09                 NaT  \n",
       "1 2017-01-01 11:39:29 2021-09-05 10:00:02  \n",
       "2 2017-01-01 11:42:00 2019-01-13 16:24:55  \n",
       "3 2017-01-01 13:32:08                 NaT  \n",
       "4 2017-01-01 13:57:30 2021-06-28 18:06:01  "
      ]
     },
     "execution_count": 6,
     "metadata": {},
     "output_type": "execute_result"
    }
   ],
   "source": [
    "# merging data\n",
    "\n",
    "df = customer_cases.merge(customer_product, on=['customer_id'], how='left')\\\n",
    "    .drop(['Unnamed: 0_x', 'Unnamed: 0_y'], axis=1)\n",
    "\n",
    "df.head()"
   ]
  },
  {
   "cell_type": "markdown",
   "id": "65c6744e",
   "metadata": {},
   "source": [
    "## 1.3. Product info"
   ]
  },
  {
   "cell_type": "code",
   "execution_count": 7,
   "id": "f8019bba",
   "metadata": {},
   "outputs": [
    {
     "data": {
      "text/html": [
       "<div>\n",
       "<style scoped>\n",
       "    .dataframe tbody tr th:only-of-type {\n",
       "        vertical-align: middle;\n",
       "    }\n",
       "\n",
       "    .dataframe tbody tr th {\n",
       "        vertical-align: top;\n",
       "    }\n",
       "\n",
       "    .dataframe thead th {\n",
       "        text-align: right;\n",
       "    }\n",
       "</style>\n",
       "<table border=\"1\" class=\"dataframe\">\n",
       "  <thead>\n",
       "    <tr style=\"text-align: right;\">\n",
       "      <th></th>\n",
       "      <th>product_id</th>\n",
       "      <th>name</th>\n",
       "      <th>price</th>\n",
       "      <th>billing_cycle</th>\n",
       "    </tr>\n",
       "  </thead>\n",
       "  <tbody>\n",
       "    <tr>\n",
       "      <th>0</th>\n",
       "      <td>prd_1</td>\n",
       "      <td>annual_subscription</td>\n",
       "      <td>1200</td>\n",
       "      <td>12</td>\n",
       "    </tr>\n",
       "    <tr>\n",
       "      <th>1</th>\n",
       "      <td>prd_2</td>\n",
       "      <td>monthly_subscription</td>\n",
       "      <td>125</td>\n",
       "      <td>1</td>\n",
       "    </tr>\n",
       "  </tbody>\n",
       "</table>\n",
       "</div>"
      ],
      "text/plain": [
       "  product_id                  name  price  billing_cycle\n",
       "0      prd_1   annual_subscription   1200             12\n",
       "1      prd_2  monthly_subscription    125              1"
      ]
     },
     "execution_count": 7,
     "metadata": {},
     "output_type": "execute_result"
    }
   ],
   "source": [
    "# loading data\n",
    "product_info = pd.read_csv(os.path.join(path_dir, \"product_info.csv\"))\n",
    "product_info.head()"
   ]
  },
  {
   "cell_type": "code",
   "execution_count": 8,
   "id": "8ddcfac2",
   "metadata": {},
   "outputs": [
    {
     "data": {
      "text/html": [
       "<div>\n",
       "<style scoped>\n",
       "    .dataframe tbody tr th:only-of-type {\n",
       "        vertical-align: middle;\n",
       "    }\n",
       "\n",
       "    .dataframe tbody tr th {\n",
       "        vertical-align: top;\n",
       "    }\n",
       "\n",
       "    .dataframe thead th {\n",
       "        text-align: right;\n",
       "    }\n",
       "</style>\n",
       "<table border=\"1\" class=\"dataframe\">\n",
       "  <thead>\n",
       "    <tr style=\"text-align: right;\">\n",
       "      <th></th>\n",
       "      <th>case_id</th>\n",
       "      <th>date_time</th>\n",
       "      <th>customer_id</th>\n",
       "      <th>channel</th>\n",
       "      <th>reason</th>\n",
       "      <th>product</th>\n",
       "      <th>signup_date_time</th>\n",
       "      <th>cancel_date_time</th>\n",
       "      <th>name</th>\n",
       "      <th>price</th>\n",
       "      <th>billing_cycle</th>\n",
       "    </tr>\n",
       "  </thead>\n",
       "  <tbody>\n",
       "    <tr>\n",
       "      <th>0</th>\n",
       "      <td>CC101</td>\n",
       "      <td>2017-01-01 10:32:03</td>\n",
       "      <td>C2448</td>\n",
       "      <td>phone</td>\n",
       "      <td>signup</td>\n",
       "      <td>prd_1</td>\n",
       "      <td>2017-01-01 10:35:09</td>\n",
       "      <td>NaT</td>\n",
       "      <td>annual_subscription</td>\n",
       "      <td>1200</td>\n",
       "      <td>12</td>\n",
       "    </tr>\n",
       "    <tr>\n",
       "      <th>1</th>\n",
       "      <td>CC102</td>\n",
       "      <td>2017-01-01 11:35:47</td>\n",
       "      <td>C2449</td>\n",
       "      <td>phone</td>\n",
       "      <td>signup</td>\n",
       "      <td>prd_1</td>\n",
       "      <td>2017-01-01 11:39:29</td>\n",
       "      <td>2021-09-05 10:00:02</td>\n",
       "      <td>annual_subscription</td>\n",
       "      <td>1200</td>\n",
       "      <td>12</td>\n",
       "    </tr>\n",
       "    <tr>\n",
       "      <th>2</th>\n",
       "      <td>CC103</td>\n",
       "      <td>2017-01-01 11:37:09</td>\n",
       "      <td>C2450</td>\n",
       "      <td>phone</td>\n",
       "      <td>signup</td>\n",
       "      <td>prd_1</td>\n",
       "      <td>2017-01-01 11:42:00</td>\n",
       "      <td>2019-01-13 16:24:55</td>\n",
       "      <td>annual_subscription</td>\n",
       "      <td>1200</td>\n",
       "      <td>12</td>\n",
       "    </tr>\n",
       "    <tr>\n",
       "      <th>3</th>\n",
       "      <td>CC104</td>\n",
       "      <td>2017-01-01 13:28:14</td>\n",
       "      <td>C2451</td>\n",
       "      <td>phone</td>\n",
       "      <td>signup</td>\n",
       "      <td>prd_2</td>\n",
       "      <td>2017-01-01 13:32:08</td>\n",
       "      <td>NaT</td>\n",
       "      <td>monthly_subscription</td>\n",
       "      <td>125</td>\n",
       "      <td>1</td>\n",
       "    </tr>\n",
       "    <tr>\n",
       "      <th>4</th>\n",
       "      <td>CC105</td>\n",
       "      <td>2017-01-01 13:52:22</td>\n",
       "      <td>C2452</td>\n",
       "      <td>phone</td>\n",
       "      <td>signup</td>\n",
       "      <td>prd_1</td>\n",
       "      <td>2017-01-01 13:57:30</td>\n",
       "      <td>2021-06-28 18:06:01</td>\n",
       "      <td>annual_subscription</td>\n",
       "      <td>1200</td>\n",
       "      <td>12</td>\n",
       "    </tr>\n",
       "  </tbody>\n",
       "</table>\n",
       "</div>"
      ],
      "text/plain": [
       "  case_id           date_time customer_id channel  reason product  \\\n",
       "0   CC101 2017-01-01 10:32:03       C2448   phone  signup   prd_1   \n",
       "1   CC102 2017-01-01 11:35:47       C2449   phone  signup   prd_1   \n",
       "2   CC103 2017-01-01 11:37:09       C2450   phone  signup   prd_1   \n",
       "3   CC104 2017-01-01 13:28:14       C2451   phone  signup   prd_2   \n",
       "4   CC105 2017-01-01 13:52:22       C2452   phone  signup   prd_1   \n",
       "\n",
       "     signup_date_time    cancel_date_time                  name  price  \\\n",
       "0 2017-01-01 10:35:09                 NaT   annual_subscription   1200   \n",
       "1 2017-01-01 11:39:29 2021-09-05 10:00:02   annual_subscription   1200   \n",
       "2 2017-01-01 11:42:00 2019-01-13 16:24:55   annual_subscription   1200   \n",
       "3 2017-01-01 13:32:08                 NaT  monthly_subscription    125   \n",
       "4 2017-01-01 13:57:30 2021-06-28 18:06:01   annual_subscription   1200   \n",
       "\n",
       "   billing_cycle  \n",
       "0             12  \n",
       "1             12  \n",
       "2             12  \n",
       "3              1  \n",
       "4             12  "
      ]
     },
     "execution_count": 8,
     "metadata": {},
     "output_type": "execute_result"
    }
   ],
   "source": [
    "# merging data\n",
    "\n",
    "df = df.merge(\n",
    "    product_info.rename(columns={'product_id': 'product'}), \n",
    "    on=['product'], how='left')\n",
    "\n",
    "df.head()"
   ]
  },
  {
   "cell_type": "markdown",
   "id": "1d3af61d",
   "metadata": {},
   "source": [
    "## 1.4. Customer info"
   ]
  },
  {
   "cell_type": "code",
   "execution_count": 9,
   "id": "d136d3d4",
   "metadata": {},
   "outputs": [
    {
     "data": {
      "text/html": [
       "<div>\n",
       "<style scoped>\n",
       "    .dataframe tbody tr th:only-of-type {\n",
       "        vertical-align: middle;\n",
       "    }\n",
       "\n",
       "    .dataframe tbody tr th {\n",
       "        vertical-align: top;\n",
       "    }\n",
       "\n",
       "    .dataframe thead th {\n",
       "        text-align: right;\n",
       "    }\n",
       "</style>\n",
       "<table border=\"1\" class=\"dataframe\">\n",
       "  <thead>\n",
       "    <tr style=\"text-align: right;\">\n",
       "      <th></th>\n",
       "      <th>Unnamed: 0</th>\n",
       "      <th>customer_id</th>\n",
       "      <th>age</th>\n",
       "      <th>gender</th>\n",
       "    </tr>\n",
       "  </thead>\n",
       "  <tbody>\n",
       "    <tr>\n",
       "      <th>0</th>\n",
       "      <td>1</td>\n",
       "      <td>C2448</td>\n",
       "      <td>76</td>\n",
       "      <td>female</td>\n",
       "    </tr>\n",
       "    <tr>\n",
       "      <th>1</th>\n",
       "      <td>2</td>\n",
       "      <td>C2449</td>\n",
       "      <td>61</td>\n",
       "      <td>male</td>\n",
       "    </tr>\n",
       "    <tr>\n",
       "      <th>2</th>\n",
       "      <td>3</td>\n",
       "      <td>C2450</td>\n",
       "      <td>58</td>\n",
       "      <td>female</td>\n",
       "    </tr>\n",
       "    <tr>\n",
       "      <th>3</th>\n",
       "      <td>4</td>\n",
       "      <td>C2451</td>\n",
       "      <td>62</td>\n",
       "      <td>female</td>\n",
       "    </tr>\n",
       "    <tr>\n",
       "      <th>4</th>\n",
       "      <td>5</td>\n",
       "      <td>C2452</td>\n",
       "      <td>71</td>\n",
       "      <td>male</td>\n",
       "    </tr>\n",
       "  </tbody>\n",
       "</table>\n",
       "</div>"
      ],
      "text/plain": [
       "   Unnamed: 0 customer_id  age  gender\n",
       "0           1       C2448   76  female\n",
       "1           2       C2449   61    male\n",
       "2           3       C2450   58  female\n",
       "3           4       C2451   62  female\n",
       "4           5       C2452   71    male"
      ]
     },
     "execution_count": 9,
     "metadata": {},
     "output_type": "execute_result"
    }
   ],
   "source": [
    "customer_info = pd.read_csv(os.path.join(path_dir, \"customer_info.csv\"))\n",
    "customer_info.head()"
   ]
  },
  {
   "cell_type": "code",
   "execution_count": 10,
   "id": "d42ed5e6",
   "metadata": {},
   "outputs": [
    {
     "data": {
      "text/html": [
       "<div>\n",
       "<style scoped>\n",
       "    .dataframe tbody tr th:only-of-type {\n",
       "        vertical-align: middle;\n",
       "    }\n",
       "\n",
       "    .dataframe tbody tr th {\n",
       "        vertical-align: top;\n",
       "    }\n",
       "\n",
       "    .dataframe thead th {\n",
       "        text-align: right;\n",
       "    }\n",
       "</style>\n",
       "<table border=\"1\" class=\"dataframe\">\n",
       "  <thead>\n",
       "    <tr style=\"text-align: right;\">\n",
       "      <th></th>\n",
       "      <th>case_id</th>\n",
       "      <th>date_time</th>\n",
       "      <th>customer_id</th>\n",
       "      <th>channel</th>\n",
       "      <th>reason</th>\n",
       "      <th>product</th>\n",
       "      <th>signup_date_time</th>\n",
       "      <th>cancel_date_time</th>\n",
       "      <th>name</th>\n",
       "      <th>price</th>\n",
       "      <th>billing_cycle</th>\n",
       "      <th>age</th>\n",
       "      <th>gender</th>\n",
       "    </tr>\n",
       "  </thead>\n",
       "  <tbody>\n",
       "    <tr>\n",
       "      <th>0</th>\n",
       "      <td>CC101</td>\n",
       "      <td>2017-01-01 10:32:03</td>\n",
       "      <td>C2448</td>\n",
       "      <td>phone</td>\n",
       "      <td>signup</td>\n",
       "      <td>prd_1</td>\n",
       "      <td>2017-01-01 10:35:09</td>\n",
       "      <td>NaT</td>\n",
       "      <td>annual_subscription</td>\n",
       "      <td>1200</td>\n",
       "      <td>12</td>\n",
       "      <td>76</td>\n",
       "      <td>female</td>\n",
       "    </tr>\n",
       "    <tr>\n",
       "      <th>1</th>\n",
       "      <td>CC102</td>\n",
       "      <td>2017-01-01 11:35:47</td>\n",
       "      <td>C2449</td>\n",
       "      <td>phone</td>\n",
       "      <td>signup</td>\n",
       "      <td>prd_1</td>\n",
       "      <td>2017-01-01 11:39:29</td>\n",
       "      <td>2021-09-05 10:00:02</td>\n",
       "      <td>annual_subscription</td>\n",
       "      <td>1200</td>\n",
       "      <td>12</td>\n",
       "      <td>61</td>\n",
       "      <td>male</td>\n",
       "    </tr>\n",
       "    <tr>\n",
       "      <th>2</th>\n",
       "      <td>CC103</td>\n",
       "      <td>2017-01-01 11:37:09</td>\n",
       "      <td>C2450</td>\n",
       "      <td>phone</td>\n",
       "      <td>signup</td>\n",
       "      <td>prd_1</td>\n",
       "      <td>2017-01-01 11:42:00</td>\n",
       "      <td>2019-01-13 16:24:55</td>\n",
       "      <td>annual_subscription</td>\n",
       "      <td>1200</td>\n",
       "      <td>12</td>\n",
       "      <td>58</td>\n",
       "      <td>female</td>\n",
       "    </tr>\n",
       "    <tr>\n",
       "      <th>3</th>\n",
       "      <td>CC104</td>\n",
       "      <td>2017-01-01 13:28:14</td>\n",
       "      <td>C2451</td>\n",
       "      <td>phone</td>\n",
       "      <td>signup</td>\n",
       "      <td>prd_2</td>\n",
       "      <td>2017-01-01 13:32:08</td>\n",
       "      <td>NaT</td>\n",
       "      <td>monthly_subscription</td>\n",
       "      <td>125</td>\n",
       "      <td>1</td>\n",
       "      <td>62</td>\n",
       "      <td>female</td>\n",
       "    </tr>\n",
       "    <tr>\n",
       "      <th>4</th>\n",
       "      <td>CC4491</td>\n",
       "      <td>2017-03-31 12:06:58</td>\n",
       "      <td>C2451</td>\n",
       "      <td>phone</td>\n",
       "      <td>support</td>\n",
       "      <td>prd_2</td>\n",
       "      <td>2017-01-01 13:32:08</td>\n",
       "      <td>NaT</td>\n",
       "      <td>monthly_subscription</td>\n",
       "      <td>125</td>\n",
       "      <td>1</td>\n",
       "      <td>62</td>\n",
       "      <td>female</td>\n",
       "    </tr>\n",
       "  </tbody>\n",
       "</table>\n",
       "</div>"
      ],
      "text/plain": [
       "  case_id           date_time customer_id channel   reason product  \\\n",
       "0   CC101 2017-01-01 10:32:03       C2448   phone   signup   prd_1   \n",
       "1   CC102 2017-01-01 11:35:47       C2449   phone   signup   prd_1   \n",
       "2   CC103 2017-01-01 11:37:09       C2450   phone   signup   prd_1   \n",
       "3   CC104 2017-01-01 13:28:14       C2451   phone   signup   prd_2   \n",
       "4  CC4491 2017-03-31 12:06:58       C2451   phone  support   prd_2   \n",
       "\n",
       "     signup_date_time    cancel_date_time                  name  price  \\\n",
       "0 2017-01-01 10:35:09                 NaT   annual_subscription   1200   \n",
       "1 2017-01-01 11:39:29 2021-09-05 10:00:02   annual_subscription   1200   \n",
       "2 2017-01-01 11:42:00 2019-01-13 16:24:55   annual_subscription   1200   \n",
       "3 2017-01-01 13:32:08                 NaT  monthly_subscription    125   \n",
       "4 2017-01-01 13:32:08                 NaT  monthly_subscription    125   \n",
       "\n",
       "   billing_cycle  age  gender  \n",
       "0             12   76  female  \n",
       "1             12   61    male  \n",
       "2             12   58  female  \n",
       "3              1   62  female  \n",
       "4              1   62  female  "
      ]
     },
     "execution_count": 10,
     "metadata": {},
     "output_type": "execute_result"
    }
   ],
   "source": [
    "# merging data\n",
    "\n",
    "df = df.merge(\n",
    "    customer_info.drop('Unnamed: 0',axis=1), \n",
    "    on=['customer_id']\n",
    ")\n",
    "\n",
    "df.head()"
   ]
  },
  {
   "cell_type": "markdown",
   "id": "9fbf7d47",
   "metadata": {},
   "source": [
    "# 2. Feature engineering "
   ]
  },
  {
   "cell_type": "markdown",
   "id": "88e3d9f4",
   "metadata": {},
   "source": [
    "## 2.1. Target"
   ]
  },
  {
   "cell_type": "code",
   "execution_count": 11,
   "id": "8cf0c0ec",
   "metadata": {},
   "outputs": [
    {
     "data": {
      "text/plain": [
       "Timestamp('2022-01-01 06:32:53')"
      ]
     },
     "execution_count": 11,
     "metadata": {},
     "output_type": "execute_result"
    }
   ],
   "source": [
    "date_max = max(df.cancel_date_time.max(), df.signup_date_time.max(), df.date_time.max())\n",
    "date_max"
   ]
  },
  {
   "cell_type": "code",
   "execution_count": 12,
   "id": "8ed70e28",
   "metadata": {},
   "outputs": [],
   "source": [
    "df['duration'] = (df['cancel_date_time'] - df['date_time']).dt.days\n",
    "df['censored'] = df['duration'].isna().astype(int)\n",
    "df.loc[df.censored==1, \"duration\"] = (date_max - df.loc[df.censored==1, \"date_time\"]).dt.days"
   ]
  },
  {
   "cell_type": "code",
   "execution_count": 13,
   "id": "05b31227",
   "metadata": {},
   "outputs": [],
   "source": [
    "# deleting data where customers reach out after they unsubscribe.\n",
    "df = df[df.duration >0]"
   ]
  },
  {
   "cell_type": "code",
   "execution_count": 14,
   "id": "3d007be9",
   "metadata": {},
   "outputs": [
    {
     "data": {
      "text/plain": [
       "0.7947466731855306"
      ]
     },
     "execution_count": 14,
     "metadata": {},
     "output_type": "execute_result"
    }
   ],
   "source": [
    "df.censored.mean()"
   ]
  },
  {
   "cell_type": "markdown",
   "id": "053c95d8",
   "metadata": {},
   "source": [
    "## 2.2. Categorical variable encoding"
   ]
  },
  {
   "cell_type": "code",
   "execution_count": 15,
   "id": "68f7201c",
   "metadata": {},
   "outputs": [],
   "source": [
    "df['age_bin'] = df.age.apply(lambda x:\"[{},{}[\".format(x//10*10, (x//10+1)*10))"
   ]
  },
  {
   "cell_type": "code",
   "execution_count": 16,
   "id": "e6c9a33c",
   "metadata": {},
   "outputs": [],
   "source": [
    "df['product=prd_1'] = df['product'].map({'prd_1':1, 'prd_2':0})\n",
    "df['gender=female'] = df.gender.map({'female':1, 'male':0})\n",
    "df['channel=email'] = df.channel.map({'phone':0, 'email':1})\n",
    "df['reason=support'] = df.reason.map({'signup':0, 'support':1})"
   ]
  },
  {
   "cell_type": "markdown",
   "id": "224d3865",
   "metadata": {},
   "source": [
    "## 2.3. Enrichment"
   ]
  },
  {
   "cell_type": "code",
   "execution_count": null,
   "id": "888c1a44",
   "metadata": {},
   "outputs": [],
   "source": [
    "# create a column containing, for a given observation, \n",
    "# the number of times the client has reach out before\n",
    "\n",
    "def get_nb_cases(patient_df):\n",
    "    patient_df['nb_cases'] = [i for i in range(patient_df.shape[0])]\n",
    "    return patient_df\n",
    "\n",
    "df = df.groupby('customer_id').apply(lambda df : get_nb_cases(df))"
   ]
  },
  {
   "cell_type": "code",
   "execution_count": null,
   "id": "0afd148d",
   "metadata": {},
   "outputs": [],
   "source": [
    "# yearly seasonlity\n",
    "df['date_month_cos'] = df['date_time'].apply(lambda x: np.cos(2*np.pi*(x.month-1)/12))\n",
    "df['date_month_sin'] = df['date_time'].apply(lambda x: np.sin(2*np.pi*(x.month-1)/12))\n",
    "\n",
    "# weekly seasonlity\n",
    "df['date_weekday_cos'] = df['date_time'].apply(lambda x: np.cos(2*np.pi*x.dayofweek/6))\n",
    "df['date_weekday_sin'] = df['date_time'].apply(lambda x: np.sin(2*np.pi*x.dayofweek/6))\n",
    "\n",
    "# daily seasonlity\n",
    "df['date_hour_cos'] = df['date_time'].apply(lambda x: np.cos(2*np.pi*x.hour/24))\n",
    "df['date_hour_sin'] = df['date_time'].apply(lambda x: np.sin(2*np.pi*x.hour/24))"
   ]
  },
  {
   "cell_type": "code",
   "execution_count": null,
   "id": "28b86080",
   "metadata": {},
   "outputs": [],
   "source": [
    "df['duration'] = (df['cancel_date_time'] - df['date_time']).dt.days"
   ]
  },
  {
   "cell_type": "markdown",
   "id": "8b1a7e0a",
   "metadata": {},
   "source": [
    "## 4. Saving"
   ]
  },
  {
   "cell_type": "code",
   "execution_count": null,
   "id": "236a4e36",
   "metadata": {},
   "outputs": [],
   "source": [
    "df.to_csv(os.path.join(os.path.dirname(os.getcwd()), \"outputs/customer_subscription_clean.csv\"), index=False)"
   ]
  }
 ],
 "metadata": {
  "kernelspec": {
   "display_name": "py39",
   "language": "python",
   "name": "py39"
  },
  "language_info": {
   "codemirror_mode": {
    "name": "ipython",
    "version": 3
   },
   "file_extension": ".py",
   "mimetype": "text/x-python",
   "name": "python",
   "nbconvert_exporter": "python",
   "pygments_lexer": "ipython3",
   "version": "3.9.13"
  }
 },
 "nbformat": 4,
 "nbformat_minor": 5
}
