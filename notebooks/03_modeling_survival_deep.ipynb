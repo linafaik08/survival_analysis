{
 "cells": [
  {
   "cell_type": "code",
   "execution_count": 1,
   "id": "68e5e0b9",
   "metadata": {},
   "outputs": [],
   "source": [
    "# Import libraries\n",
    "\n",
    "import pandas as pd\n",
    "import numpy as np\n",
    "import matplotlib.pyplot as plt\n",
    "import datetime\n",
    "import re\n",
    "import pickle\n",
    "\n",
    "import os\n",
    "path_dir = os.path.dirname(os.getcwd())\n",
    "\n",
    "import plotly.graph_objects as go\n",
    "import plotly.express as px\n",
    "import plotly.io as pio\n",
    "pio.templates.default = \"plotly_white\"\n",
    "\n",
    "import torch # For building the networks \n",
    "import torchtuples as tt # Some useful functions\n",
    "\n",
    "from pycox.datasets import metabric\n",
    "from pycox.models import LogisticHazard, PMF, DeepHitSingle, CoxPH\n",
    "from pycox.evaluation import EvalSurv\n",
    "\n",
    "%load_ext autoreload\n",
    "%autoreload 2"
   ]
  },
  {
   "cell_type": "code",
   "execution_count": 2,
   "id": "6a06ff43",
   "metadata": {},
   "outputs": [
    {
     "name": "stdout",
     "output_type": "stream",
     "text": [
      "/Users/linafaik/Documents/survival_analysis/src\n"
     ]
    }
   ],
   "source": [
    "cd ../src/"
   ]
  },
  {
   "cell_type": "code",
   "execution_count": 3,
   "id": "91bc3a17",
   "metadata": {},
   "outputs": [],
   "source": [
    "from train import *\n",
    "from train_survival_ml import *\n",
    "from train_survival_deep import *"
   ]
  },
  {
   "cell_type": "code",
   "execution_count": 4,
   "id": "17670c96",
   "metadata": {},
   "outputs": [],
   "source": [
    "# We also set some seeds to make this reproducable.\n",
    "# Note that on gpu, there is still some randomness.\n",
    "np.random.seed(1234)\n",
    "_ = torch.manual_seed(123)"
   ]
  },
  {
   "cell_type": "code",
   "execution_count": 5,
   "id": "8811d634",
   "metadata": {},
   "outputs": [],
   "source": [
    "# Parameters\n",
    "\n",
    "scaler_name = \"StandardScaler\" #MinMaxScaler\n",
    "random_state = 123\n",
    "test_size = 0.3"
   ]
  },
  {
   "cell_type": "code",
   "execution_count": 67,
   "id": "eca57c2f",
   "metadata": {},
   "outputs": [
    {
     "name": "stderr",
     "output_type": "stream",
     "text": [
      "/usr/local/lib/python3.9/site-packages/IPython/core/interactiveshell.py:3165: DtypeWarning:\n",
      "\n",
      "Columns (1) have mixed types.Specify dtype option on import or set low_memory=False.\n",
      "\n"
     ]
    }
   ],
   "source": [
    "df = pd.read_csv(os.path.join(path_dir, \"outputs/hdhi_clean.csv\"))"
   ]
  },
  {
   "cell_type": "markdown",
   "id": "f1d0b799",
   "metadata": {},
   "source": [
    "# 1. Train / test split"
   ]
  },
  {
   "cell_type": "code",
   "execution_count": 68,
   "id": "ac75da01",
   "metadata": {},
   "outputs": [],
   "source": [
    "# covariate columns (used when possible)\n",
    "\n",
    "cols_x = [\n",
    "    'age', 'gender', 'rural',\n",
    "    'duration_of_stay', 'duration_of_intensive_unit_stay', \n",
    "    'smoking','alcohol', 'dm', 'htn', 'cad', 'prior_cmp', 'ckd', 'hb', 'tlc',\n",
    "    'platelets', 'glucose', 'urea', 'creatinine', 'raised_cardiac_enzymes',\n",
    "    'severe_anaemia', 'anaemia', 'stable_angina', 'acs', 'stemi',\n",
    "    'atypical_chest_pain', 'heart_failure', 'hfref', 'hfnef', 'valvular',\n",
    "    'chb', 'sss', 'aki', 'cva_infract', 'cva_bleed', 'af', 'vt', 'psvt',\n",
    "    'congenital', 'uti', 'neuro_cardiogenic_syncope', 'orthostatic',\n",
    "    'infective_endocarditis', 'dvt', 'cardiogenic_shock', 'shock',\n",
    "    'pulmonary_embolism', 'chest_infection',\n",
    "    'type_adm', \n",
    "    'first_visit', 'nb_visits',\n",
    "    'duration_of_stay_lag1', 'duration_of_intensive_unit_stay_lag1',\n",
    "    'cardiogenic_shock_lag1', 'cad_lag1', 'time_before_readm_lag1'\n",
    "]\n",
    "\n",
    "col_target = \"time_before_readm\""
   ]
  },
  {
   "cell_type": "code",
   "execution_count": 69,
   "id": "f6463858",
   "metadata": {},
   "outputs": [
    {
     "name": "stdout",
     "output_type": "stream",
     "text": [
      "Train: 68%, Test: 15%, Val: 17%\n"
     ]
    }
   ],
   "source": [
    "Xy_train, Xy_test, y_train, y_test = split_train_test(\n",
    "    df, cols_x+['doa'], col_target, test_size=0.15, random_state=random_state)\n",
    "\n",
    "Xy_train, Xy_val, y_train, y_val = split_train_test(\n",
    "    Xy_train, cols_x, col_target, test_size=0.2, random_state=random_state)\n",
    "\n",
    "n_train, n_test, n_val = Xy_train.shape[0], Xy_test.shape[0], Xy_val.shape[0]\n",
    "n_tot =  n_train + n_test + n_val\n",
    "\n",
    "print(\"Train: {}%, Test: {}%, Val: {}%\".format(\n",
    "    round(n_train/n_tot *100),\n",
    "    round(n_test/n_tot *100),\n",
    "    round(n_val/n_tot *100)\n",
    "))"
   ]
  },
  {
   "cell_type": "code",
   "execution_count": 70,
   "id": "d0a54aac",
   "metadata": {},
   "outputs": [],
   "source": [
    "from sklearn.preprocessing import StandardScaler, MinMaxScaler\n",
    "\n",
    "# rescale\n",
    "scaler = eval(scaler_name)()\n",
    "\n",
    "Xy_train[cols_x] = scaler.fit_transform(Xy_train[cols_x])\n",
    "Xy_test[cols_x] = scaler.transform(Xy_test[cols_x])"
   ]
  },
  {
   "cell_type": "code",
   "execution_count": 71,
   "id": "c43b155e",
   "metadata": {},
   "outputs": [],
   "source": [
    "#with open(os.path.join(path_dir, \"outputs/cox_ph.pkl\"), \"rb\") as f:\n",
    "    #estimator = pickle.load(f)"
   ]
  },
  {
   "cell_type": "code",
   "execution_count": 72,
   "id": "808fd983",
   "metadata": {},
   "outputs": [],
   "source": [
    "from sksurv.linear_model import CoxPHSurvivalAnalysis\n",
    "\n",
    "# train an estimator\n",
    "estimator = CoxPHSurvivalAnalysis(alpha=0.5)\n",
    "estimator = estimator.fit(Xy_train[cols_x], y_train)"
   ]
  },
  {
   "cell_type": "code",
   "execution_count": 73,
   "id": "c192ee70",
   "metadata": {},
   "outputs": [
    {
     "data": {
      "text/plain": [
       "0.6339186792998365"
      ]
     },
     "execution_count": 73,
     "metadata": {},
     "output_type": "execute_result"
    }
   ],
   "source": [
    "estimator.score(Xy_test[cols_x], y_test)"
   ]
  },
  {
   "cell_type": "code",
   "execution_count": 74,
   "id": "e4a106de",
   "metadata": {},
   "outputs": [
    {
     "data": {
      "application/vnd.plotly.v1+json": {
       "config": {
        "plotlyServerURL": "https://plotly.com"
       },
       "data": [
        {
         "alignmentgroup": "True",
         "hovertemplate": "coef=%{x}<br>feature=%{y}<extra></extra>",
         "legendgroup": "",
         "marker": {
          "color": "#636efa"
         },
         "name": "",
         "offsetgroup": "",
         "orientation": "h",
         "showlegend": false,
         "textposition": "auto",
         "type": "bar",
         "x": [
          -0.001176222627794481,
          -0.003305435267695191,
          -0.0033054352676951913,
          -0.0033054352676951913,
          0.0038767039335365888,
          0.004000269774932845,
          -0.008179941386606446,
          0.008480527606528919,
          -0.00923225749686447,
          0.009648699325849872,
          -0.010398550359623279,
          0.010763047056033672,
          -0.0111038872541213,
          0.011917360353212076,
          -0.012788539059652741,
          -0.013529597049504821,
          -0.014254508614392175,
          -0.01519137857224354,
          -0.016932691152856286,
          -0.01937711931857587,
          -0.01938055049438308,
          -0.02107021990995075,
          -0.021077268161003918,
          -0.02148460380396342,
          -0.022088471812039514,
          -0.027775252248464645,
          0.02871046373492618,
          -0.03386876692543777,
          0.035217345791404536,
          0.03605775510779817,
          -0.038179576744371696,
          0.03842144200166089,
          -0.03853461693677043,
          -0.03930543598900913,
          -0.04094833495175279,
          0.041423918245512684,
          -0.042682439969375915,
          -0.043261796440396405,
          -0.044921587563160434,
          0.051719953583283934,
          0.056908425807447004,
          -0.058636178779887665,
          -0.0645830110481251,
          -0.07325599714115144,
          0.0746001754394585,
          0.07543323064992326,
          0.08029283114171058,
          -0.0808696334359906,
          -0.08764689133180124,
          -0.09009845778432979,
          0.11996951480182197,
          0.12242315873455278,
          0.12522111208589393,
          0.21585126878937325,
          -0.21893833451224412
         ],
         "xaxis": "x",
         "y": [
          "dvt",
          "type_adm",
          "gender",
          "rural",
          "atypical_chest_pain",
          "chb",
          "sss",
          "age",
          "cva_bleed",
          "severe_anaemia",
          "pulmonary_embolism",
          "chest_infection",
          "aki",
          "psvt",
          "congenital",
          "neuro_cardiogenic_syncope",
          "acs",
          "heart_failure",
          "valvular",
          "orthostatic",
          "vt",
          "duration_of_stay_lag1",
          "hfref",
          "stable_angina",
          "htn",
          "cad_lag1",
          "shock",
          "anaemia",
          "infective_endocarditis",
          "first_visit",
          "alcohol",
          "duration_of_intensive_unit_stay_lag1",
          "cva_infract",
          "smoking",
          "tlc",
          "platelets",
          "stemi",
          "prior_cmp",
          "cardiogenic_shock_lag1",
          "raised_cardiac_enzymes",
          "ckd",
          "uti",
          "duration_of_stay",
          "af",
          "duration_of_intensive_unit_stay",
          "urea",
          "glucose",
          "cardiogenic_shock",
          "creatinine",
          "hb",
          "hfnef",
          "nb_visits",
          "cad",
          "time_before_readm_lag1",
          "dm"
         ],
         "yaxis": "y"
        }
       ],
       "layout": {
        "barmode": "relative",
        "height": 1000,
        "legend": {
         "tracegroupgap": 0
        },
        "margin": {
         "t": 60
        },
        "template": {
         "data": {
          "bar": [
           {
            "error_x": {
             "color": "#2a3f5f"
            },
            "error_y": {
             "color": "#2a3f5f"
            },
            "marker": {
             "line": {
              "color": "white",
              "width": 0.5
             }
            },
            "type": "bar"
           }
          ],
          "barpolar": [
           {
            "marker": {
             "line": {
              "color": "white",
              "width": 0.5
             }
            },
            "type": "barpolar"
           }
          ],
          "carpet": [
           {
            "aaxis": {
             "endlinecolor": "#2a3f5f",
             "gridcolor": "#C8D4E3",
             "linecolor": "#C8D4E3",
             "minorgridcolor": "#C8D4E3",
             "startlinecolor": "#2a3f5f"
            },
            "baxis": {
             "endlinecolor": "#2a3f5f",
             "gridcolor": "#C8D4E3",
             "linecolor": "#C8D4E3",
             "minorgridcolor": "#C8D4E3",
             "startlinecolor": "#2a3f5f"
            },
            "type": "carpet"
           }
          ],
          "choropleth": [
           {
            "colorbar": {
             "outlinewidth": 0,
             "ticks": ""
            },
            "type": "choropleth"
           }
          ],
          "contour": [
           {
            "colorbar": {
             "outlinewidth": 0,
             "ticks": ""
            },
            "colorscale": [
             [
              0,
              "#0d0887"
             ],
             [
              0.1111111111111111,
              "#46039f"
             ],
             [
              0.2222222222222222,
              "#7201a8"
             ],
             [
              0.3333333333333333,
              "#9c179e"
             ],
             [
              0.4444444444444444,
              "#bd3786"
             ],
             [
              0.5555555555555556,
              "#d8576b"
             ],
             [
              0.6666666666666666,
              "#ed7953"
             ],
             [
              0.7777777777777778,
              "#fb9f3a"
             ],
             [
              0.8888888888888888,
              "#fdca26"
             ],
             [
              1,
              "#f0f921"
             ]
            ],
            "type": "contour"
           }
          ],
          "contourcarpet": [
           {
            "colorbar": {
             "outlinewidth": 0,
             "ticks": ""
            },
            "type": "contourcarpet"
           }
          ],
          "heatmap": [
           {
            "colorbar": {
             "outlinewidth": 0,
             "ticks": ""
            },
            "colorscale": [
             [
              0,
              "#0d0887"
             ],
             [
              0.1111111111111111,
              "#46039f"
             ],
             [
              0.2222222222222222,
              "#7201a8"
             ],
             [
              0.3333333333333333,
              "#9c179e"
             ],
             [
              0.4444444444444444,
              "#bd3786"
             ],
             [
              0.5555555555555556,
              "#d8576b"
             ],
             [
              0.6666666666666666,
              "#ed7953"
             ],
             [
              0.7777777777777778,
              "#fb9f3a"
             ],
             [
              0.8888888888888888,
              "#fdca26"
             ],
             [
              1,
              "#f0f921"
             ]
            ],
            "type": "heatmap"
           }
          ],
          "heatmapgl": [
           {
            "colorbar": {
             "outlinewidth": 0,
             "ticks": ""
            },
            "colorscale": [
             [
              0,
              "#0d0887"
             ],
             [
              0.1111111111111111,
              "#46039f"
             ],
             [
              0.2222222222222222,
              "#7201a8"
             ],
             [
              0.3333333333333333,
              "#9c179e"
             ],
             [
              0.4444444444444444,
              "#bd3786"
             ],
             [
              0.5555555555555556,
              "#d8576b"
             ],
             [
              0.6666666666666666,
              "#ed7953"
             ],
             [
              0.7777777777777778,
              "#fb9f3a"
             ],
             [
              0.8888888888888888,
              "#fdca26"
             ],
             [
              1,
              "#f0f921"
             ]
            ],
            "type": "heatmapgl"
           }
          ],
          "histogram": [
           {
            "marker": {
             "colorbar": {
              "outlinewidth": 0,
              "ticks": ""
             }
            },
            "type": "histogram"
           }
          ],
          "histogram2d": [
           {
            "colorbar": {
             "outlinewidth": 0,
             "ticks": ""
            },
            "colorscale": [
             [
              0,
              "#0d0887"
             ],
             [
              0.1111111111111111,
              "#46039f"
             ],
             [
              0.2222222222222222,
              "#7201a8"
             ],
             [
              0.3333333333333333,
              "#9c179e"
             ],
             [
              0.4444444444444444,
              "#bd3786"
             ],
             [
              0.5555555555555556,
              "#d8576b"
             ],
             [
              0.6666666666666666,
              "#ed7953"
             ],
             [
              0.7777777777777778,
              "#fb9f3a"
             ],
             [
              0.8888888888888888,
              "#fdca26"
             ],
             [
              1,
              "#f0f921"
             ]
            ],
            "type": "histogram2d"
           }
          ],
          "histogram2dcontour": [
           {
            "colorbar": {
             "outlinewidth": 0,
             "ticks": ""
            },
            "colorscale": [
             [
              0,
              "#0d0887"
             ],
             [
              0.1111111111111111,
              "#46039f"
             ],
             [
              0.2222222222222222,
              "#7201a8"
             ],
             [
              0.3333333333333333,
              "#9c179e"
             ],
             [
              0.4444444444444444,
              "#bd3786"
             ],
             [
              0.5555555555555556,
              "#d8576b"
             ],
             [
              0.6666666666666666,
              "#ed7953"
             ],
             [
              0.7777777777777778,
              "#fb9f3a"
             ],
             [
              0.8888888888888888,
              "#fdca26"
             ],
             [
              1,
              "#f0f921"
             ]
            ],
            "type": "histogram2dcontour"
           }
          ],
          "mesh3d": [
           {
            "colorbar": {
             "outlinewidth": 0,
             "ticks": ""
            },
            "type": "mesh3d"
           }
          ],
          "parcoords": [
           {
            "line": {
             "colorbar": {
              "outlinewidth": 0,
              "ticks": ""
             }
            },
            "type": "parcoords"
           }
          ],
          "pie": [
           {
            "automargin": true,
            "type": "pie"
           }
          ],
          "scatter": [
           {
            "marker": {
             "colorbar": {
              "outlinewidth": 0,
              "ticks": ""
             }
            },
            "type": "scatter"
           }
          ],
          "scatter3d": [
           {
            "line": {
             "colorbar": {
              "outlinewidth": 0,
              "ticks": ""
             }
            },
            "marker": {
             "colorbar": {
              "outlinewidth": 0,
              "ticks": ""
             }
            },
            "type": "scatter3d"
           }
          ],
          "scattercarpet": [
           {
            "marker": {
             "colorbar": {
              "outlinewidth": 0,
              "ticks": ""
             }
            },
            "type": "scattercarpet"
           }
          ],
          "scattergeo": [
           {
            "marker": {
             "colorbar": {
              "outlinewidth": 0,
              "ticks": ""
             }
            },
            "type": "scattergeo"
           }
          ],
          "scattergl": [
           {
            "marker": {
             "colorbar": {
              "outlinewidth": 0,
              "ticks": ""
             }
            },
            "type": "scattergl"
           }
          ],
          "scattermapbox": [
           {
            "marker": {
             "colorbar": {
              "outlinewidth": 0,
              "ticks": ""
             }
            },
            "type": "scattermapbox"
           }
          ],
          "scatterpolar": [
           {
            "marker": {
             "colorbar": {
              "outlinewidth": 0,
              "ticks": ""
             }
            },
            "type": "scatterpolar"
           }
          ],
          "scatterpolargl": [
           {
            "marker": {
             "colorbar": {
              "outlinewidth": 0,
              "ticks": ""
             }
            },
            "type": "scatterpolargl"
           }
          ],
          "scatterternary": [
           {
            "marker": {
             "colorbar": {
              "outlinewidth": 0,
              "ticks": ""
             }
            },
            "type": "scatterternary"
           }
          ],
          "surface": [
           {
            "colorbar": {
             "outlinewidth": 0,
             "ticks": ""
            },
            "colorscale": [
             [
              0,
              "#0d0887"
             ],
             [
              0.1111111111111111,
              "#46039f"
             ],
             [
              0.2222222222222222,
              "#7201a8"
             ],
             [
              0.3333333333333333,
              "#9c179e"
             ],
             [
              0.4444444444444444,
              "#bd3786"
             ],
             [
              0.5555555555555556,
              "#d8576b"
             ],
             [
              0.6666666666666666,
              "#ed7953"
             ],
             [
              0.7777777777777778,
              "#fb9f3a"
             ],
             [
              0.8888888888888888,
              "#fdca26"
             ],
             [
              1,
              "#f0f921"
             ]
            ],
            "type": "surface"
           }
          ],
          "table": [
           {
            "cells": {
             "fill": {
              "color": "#EBF0F8"
             },
             "line": {
              "color": "white"
             }
            },
            "header": {
             "fill": {
              "color": "#C8D4E3"
             },
             "line": {
              "color": "white"
             }
            },
            "type": "table"
           }
          ]
         },
         "layout": {
          "annotationdefaults": {
           "arrowcolor": "#2a3f5f",
           "arrowhead": 0,
           "arrowwidth": 1
          },
          "autotypenumbers": "strict",
          "coloraxis": {
           "colorbar": {
            "outlinewidth": 0,
            "ticks": ""
           }
          },
          "colorscale": {
           "diverging": [
            [
             0,
             "#8e0152"
            ],
            [
             0.1,
             "#c51b7d"
            ],
            [
             0.2,
             "#de77ae"
            ],
            [
             0.3,
             "#f1b6da"
            ],
            [
             0.4,
             "#fde0ef"
            ],
            [
             0.5,
             "#f7f7f7"
            ],
            [
             0.6,
             "#e6f5d0"
            ],
            [
             0.7,
             "#b8e186"
            ],
            [
             0.8,
             "#7fbc41"
            ],
            [
             0.9,
             "#4d9221"
            ],
            [
             1,
             "#276419"
            ]
           ],
           "sequential": [
            [
             0,
             "#0d0887"
            ],
            [
             0.1111111111111111,
             "#46039f"
            ],
            [
             0.2222222222222222,
             "#7201a8"
            ],
            [
             0.3333333333333333,
             "#9c179e"
            ],
            [
             0.4444444444444444,
             "#bd3786"
            ],
            [
             0.5555555555555556,
             "#d8576b"
            ],
            [
             0.6666666666666666,
             "#ed7953"
            ],
            [
             0.7777777777777778,
             "#fb9f3a"
            ],
            [
             0.8888888888888888,
             "#fdca26"
            ],
            [
             1,
             "#f0f921"
            ]
           ],
           "sequentialminus": [
            [
             0,
             "#0d0887"
            ],
            [
             0.1111111111111111,
             "#46039f"
            ],
            [
             0.2222222222222222,
             "#7201a8"
            ],
            [
             0.3333333333333333,
             "#9c179e"
            ],
            [
             0.4444444444444444,
             "#bd3786"
            ],
            [
             0.5555555555555556,
             "#d8576b"
            ],
            [
             0.6666666666666666,
             "#ed7953"
            ],
            [
             0.7777777777777778,
             "#fb9f3a"
            ],
            [
             0.8888888888888888,
             "#fdca26"
            ],
            [
             1,
             "#f0f921"
            ]
           ]
          },
          "colorway": [
           "#636efa",
           "#EF553B",
           "#00cc96",
           "#ab63fa",
           "#FFA15A",
           "#19d3f3",
           "#FF6692",
           "#B6E880",
           "#FF97FF",
           "#FECB52"
          ],
          "font": {
           "color": "#2a3f5f"
          },
          "geo": {
           "bgcolor": "white",
           "lakecolor": "white",
           "landcolor": "white",
           "showlakes": true,
           "showland": true,
           "subunitcolor": "#C8D4E3"
          },
          "hoverlabel": {
           "align": "left"
          },
          "hovermode": "closest",
          "mapbox": {
           "style": "light"
          },
          "paper_bgcolor": "white",
          "plot_bgcolor": "white",
          "polar": {
           "angularaxis": {
            "gridcolor": "#EBF0F8",
            "linecolor": "#EBF0F8",
            "ticks": ""
           },
           "bgcolor": "white",
           "radialaxis": {
            "gridcolor": "#EBF0F8",
            "linecolor": "#EBF0F8",
            "ticks": ""
           }
          },
          "scene": {
           "xaxis": {
            "backgroundcolor": "white",
            "gridcolor": "#DFE8F3",
            "gridwidth": 2,
            "linecolor": "#EBF0F8",
            "showbackground": true,
            "ticks": "",
            "zerolinecolor": "#EBF0F8"
           },
           "yaxis": {
            "backgroundcolor": "white",
            "gridcolor": "#DFE8F3",
            "gridwidth": 2,
            "linecolor": "#EBF0F8",
            "showbackground": true,
            "ticks": "",
            "zerolinecolor": "#EBF0F8"
           },
           "zaxis": {
            "backgroundcolor": "white",
            "gridcolor": "#DFE8F3",
            "gridwidth": 2,
            "linecolor": "#EBF0F8",
            "showbackground": true,
            "ticks": "",
            "zerolinecolor": "#EBF0F8"
           }
          },
          "shapedefaults": {
           "line": {
            "color": "#2a3f5f"
           }
          },
          "ternary": {
           "aaxis": {
            "gridcolor": "#DFE8F3",
            "linecolor": "#A2B1C6",
            "ticks": ""
           },
           "baxis": {
            "gridcolor": "#DFE8F3",
            "linecolor": "#A2B1C6",
            "ticks": ""
           },
           "bgcolor": "white",
           "caxis": {
            "gridcolor": "#DFE8F3",
            "linecolor": "#A2B1C6",
            "ticks": ""
           }
          },
          "title": {
           "x": 0.05
          },
          "xaxis": {
           "automargin": true,
           "gridcolor": "#EBF0F8",
           "linecolor": "#EBF0F8",
           "ticks": "",
           "title": {
            "standoff": 15
           },
           "zerolinecolor": "#EBF0F8",
           "zerolinewidth": 2
          },
          "yaxis": {
           "automargin": true,
           "gridcolor": "#EBF0F8",
           "linecolor": "#EBF0F8",
           "ticks": "",
           "title": {
            "standoff": 15
           },
           "zerolinecolor": "#EBF0F8",
           "zerolinewidth": 2
          }
         }
        },
        "xaxis": {
         "anchor": "y",
         "domain": [
          0,
          1
         ],
         "title": {
          "text": "coef"
         }
        },
        "yaxis": {
         "anchor": "x",
         "domain": [
          0,
          1
         ],
         "title": {
          "text": "feature"
         }
        }
       }
      },
      "text/html": [
       "<div>                            <div id=\"1f1ffced-3480-4d67-a52f-ea88a044935a\" class=\"plotly-graph-div\" style=\"height:1000px; width:100%;\"></div>            <script type=\"text/javascript\">                require([\"plotly\"], function(Plotly) {                    window.PLOTLYENV=window.PLOTLYENV || {};                                    if (document.getElementById(\"1f1ffced-3480-4d67-a52f-ea88a044935a\")) {                    Plotly.newPlot(                        \"1f1ffced-3480-4d67-a52f-ea88a044935a\",                        [{\"alignmentgroup\": \"True\", \"hovertemplate\": \"coef=%{x}<br>feature=%{y}<extra></extra>\", \"legendgroup\": \"\", \"marker\": {\"color\": \"#636efa\"}, \"name\": \"\", \"offsetgroup\": \"\", \"orientation\": \"h\", \"showlegend\": false, \"textposition\": \"auto\", \"type\": \"bar\", \"x\": [-0.001176222627794481, -0.003305435267695191, -0.0033054352676951913, -0.0033054352676951913, 0.0038767039335365888, 0.004000269774932845, -0.008179941386606446, 0.008480527606528919, -0.00923225749686447, 0.009648699325849872, -0.010398550359623279, 0.010763047056033672, -0.0111038872541213, 0.011917360353212076, -0.012788539059652741, -0.013529597049504821, -0.014254508614392175, -0.01519137857224354, -0.016932691152856286, -0.01937711931857587, -0.01938055049438308, -0.02107021990995075, -0.021077268161003918, -0.02148460380396342, -0.022088471812039514, -0.027775252248464645, 0.02871046373492618, -0.03386876692543777, 0.035217345791404536, 0.03605775510779817, -0.038179576744371696, 0.03842144200166089, -0.03853461693677043, -0.03930543598900913, -0.04094833495175279, 0.041423918245512684, -0.042682439969375915, -0.043261796440396405, -0.044921587563160434, 0.051719953583283934, 0.056908425807447004, -0.058636178779887665, -0.0645830110481251, -0.07325599714115144, 0.0746001754394585, 0.07543323064992326, 0.08029283114171058, -0.0808696334359906, -0.08764689133180124, -0.09009845778432979, 0.11996951480182197, 0.12242315873455278, 0.12522111208589393, 0.21585126878937325, -0.21893833451224412], \"xaxis\": \"x\", \"y\": [\"dvt\", \"type_adm\", \"gender\", \"rural\", \"atypical_chest_pain\", \"chb\", \"sss\", \"age\", \"cva_bleed\", \"severe_anaemia\", \"pulmonary_embolism\", \"chest_infection\", \"aki\", \"psvt\", \"congenital\", \"neuro_cardiogenic_syncope\", \"acs\", \"heart_failure\", \"valvular\", \"orthostatic\", \"vt\", \"duration_of_stay_lag1\", \"hfref\", \"stable_angina\", \"htn\", \"cad_lag1\", \"shock\", \"anaemia\", \"infective_endocarditis\", \"first_visit\", \"alcohol\", \"duration_of_intensive_unit_stay_lag1\", \"cva_infract\", \"smoking\", \"tlc\", \"platelets\", \"stemi\", \"prior_cmp\", \"cardiogenic_shock_lag1\", \"raised_cardiac_enzymes\", \"ckd\", \"uti\", \"duration_of_stay\", \"af\", \"duration_of_intensive_unit_stay\", \"urea\", \"glucose\", \"cardiogenic_shock\", \"creatinine\", \"hb\", \"hfnef\", \"nb_visits\", \"cad\", \"time_before_readm_lag1\", \"dm\"], \"yaxis\": \"y\"}],                        {\"barmode\": \"relative\", \"height\": 1000, \"legend\": {\"tracegroupgap\": 0}, \"margin\": {\"t\": 60}, \"template\": {\"data\": {\"bar\": [{\"error_x\": {\"color\": \"#2a3f5f\"}, \"error_y\": {\"color\": \"#2a3f5f\"}, \"marker\": {\"line\": {\"color\": \"white\", \"width\": 0.5}}, \"type\": \"bar\"}], \"barpolar\": [{\"marker\": {\"line\": {\"color\": \"white\", \"width\": 0.5}}, \"type\": \"barpolar\"}], \"carpet\": [{\"aaxis\": {\"endlinecolor\": \"#2a3f5f\", \"gridcolor\": \"#C8D4E3\", \"linecolor\": \"#C8D4E3\", \"minorgridcolor\": \"#C8D4E3\", \"startlinecolor\": \"#2a3f5f\"}, \"baxis\": {\"endlinecolor\": \"#2a3f5f\", \"gridcolor\": \"#C8D4E3\", \"linecolor\": \"#C8D4E3\", \"minorgridcolor\": \"#C8D4E3\", \"startlinecolor\": \"#2a3f5f\"}, \"type\": \"carpet\"}], \"choropleth\": [{\"colorbar\": {\"outlinewidth\": 0, \"ticks\": \"\"}, \"type\": \"choropleth\"}], \"contour\": [{\"colorbar\": {\"outlinewidth\": 0, \"ticks\": \"\"}, \"colorscale\": [[0.0, \"#0d0887\"], [0.1111111111111111, \"#46039f\"], [0.2222222222222222, \"#7201a8\"], [0.3333333333333333, \"#9c179e\"], [0.4444444444444444, \"#bd3786\"], [0.5555555555555556, \"#d8576b\"], [0.6666666666666666, \"#ed7953\"], [0.7777777777777778, \"#fb9f3a\"], [0.8888888888888888, \"#fdca26\"], [1.0, \"#f0f921\"]], \"type\": \"contour\"}], \"contourcarpet\": [{\"colorbar\": {\"outlinewidth\": 0, \"ticks\": \"\"}, \"type\": \"contourcarpet\"}], \"heatmap\": [{\"colorbar\": {\"outlinewidth\": 0, \"ticks\": \"\"}, \"colorscale\": [[0.0, \"#0d0887\"], [0.1111111111111111, \"#46039f\"], [0.2222222222222222, \"#7201a8\"], [0.3333333333333333, \"#9c179e\"], [0.4444444444444444, \"#bd3786\"], [0.5555555555555556, \"#d8576b\"], [0.6666666666666666, \"#ed7953\"], [0.7777777777777778, \"#fb9f3a\"], [0.8888888888888888, \"#fdca26\"], [1.0, \"#f0f921\"]], \"type\": \"heatmap\"}], \"heatmapgl\": [{\"colorbar\": {\"outlinewidth\": 0, \"ticks\": \"\"}, \"colorscale\": [[0.0, \"#0d0887\"], [0.1111111111111111, \"#46039f\"], [0.2222222222222222, \"#7201a8\"], [0.3333333333333333, \"#9c179e\"], [0.4444444444444444, \"#bd3786\"], [0.5555555555555556, \"#d8576b\"], [0.6666666666666666, \"#ed7953\"], [0.7777777777777778, \"#fb9f3a\"], [0.8888888888888888, \"#fdca26\"], [1.0, \"#f0f921\"]], \"type\": \"heatmapgl\"}], \"histogram\": [{\"marker\": {\"colorbar\": {\"outlinewidth\": 0, \"ticks\": \"\"}}, \"type\": \"histogram\"}], \"histogram2d\": [{\"colorbar\": {\"outlinewidth\": 0, \"ticks\": \"\"}, \"colorscale\": [[0.0, \"#0d0887\"], [0.1111111111111111, \"#46039f\"], [0.2222222222222222, \"#7201a8\"], [0.3333333333333333, \"#9c179e\"], [0.4444444444444444, \"#bd3786\"], [0.5555555555555556, \"#d8576b\"], [0.6666666666666666, \"#ed7953\"], [0.7777777777777778, \"#fb9f3a\"], [0.8888888888888888, \"#fdca26\"], [1.0, \"#f0f921\"]], \"type\": \"histogram2d\"}], \"histogram2dcontour\": [{\"colorbar\": {\"outlinewidth\": 0, \"ticks\": \"\"}, \"colorscale\": [[0.0, \"#0d0887\"], [0.1111111111111111, \"#46039f\"], [0.2222222222222222, \"#7201a8\"], [0.3333333333333333, \"#9c179e\"], [0.4444444444444444, \"#bd3786\"], [0.5555555555555556, \"#d8576b\"], [0.6666666666666666, \"#ed7953\"], [0.7777777777777778, \"#fb9f3a\"], [0.8888888888888888, \"#fdca26\"], [1.0, \"#f0f921\"]], \"type\": \"histogram2dcontour\"}], \"mesh3d\": [{\"colorbar\": {\"outlinewidth\": 0, \"ticks\": \"\"}, \"type\": \"mesh3d\"}], \"parcoords\": [{\"line\": {\"colorbar\": {\"outlinewidth\": 0, \"ticks\": \"\"}}, \"type\": \"parcoords\"}], \"pie\": [{\"automargin\": true, \"type\": \"pie\"}], \"scatter\": [{\"marker\": {\"colorbar\": {\"outlinewidth\": 0, \"ticks\": \"\"}}, \"type\": \"scatter\"}], \"scatter3d\": [{\"line\": {\"colorbar\": {\"outlinewidth\": 0, \"ticks\": \"\"}}, \"marker\": {\"colorbar\": {\"outlinewidth\": 0, \"ticks\": \"\"}}, \"type\": \"scatter3d\"}], \"scattercarpet\": [{\"marker\": {\"colorbar\": {\"outlinewidth\": 0, \"ticks\": \"\"}}, \"type\": \"scattercarpet\"}], \"scattergeo\": [{\"marker\": {\"colorbar\": {\"outlinewidth\": 0, \"ticks\": \"\"}}, \"type\": \"scattergeo\"}], \"scattergl\": [{\"marker\": {\"colorbar\": {\"outlinewidth\": 0, \"ticks\": \"\"}}, \"type\": \"scattergl\"}], \"scattermapbox\": [{\"marker\": {\"colorbar\": {\"outlinewidth\": 0, \"ticks\": \"\"}}, \"type\": \"scattermapbox\"}], \"scatterpolar\": [{\"marker\": {\"colorbar\": {\"outlinewidth\": 0, \"ticks\": \"\"}}, \"type\": \"scatterpolar\"}], \"scatterpolargl\": [{\"marker\": {\"colorbar\": {\"outlinewidth\": 0, \"ticks\": \"\"}}, \"type\": \"scatterpolargl\"}], \"scatterternary\": [{\"marker\": {\"colorbar\": {\"outlinewidth\": 0, \"ticks\": \"\"}}, \"type\": \"scatterternary\"}], \"surface\": [{\"colorbar\": {\"outlinewidth\": 0, \"ticks\": \"\"}, \"colorscale\": [[0.0, \"#0d0887\"], [0.1111111111111111, \"#46039f\"], [0.2222222222222222, \"#7201a8\"], [0.3333333333333333, \"#9c179e\"], [0.4444444444444444, \"#bd3786\"], [0.5555555555555556, \"#d8576b\"], [0.6666666666666666, \"#ed7953\"], [0.7777777777777778, \"#fb9f3a\"], [0.8888888888888888, \"#fdca26\"], [1.0, \"#f0f921\"]], \"type\": \"surface\"}], \"table\": [{\"cells\": {\"fill\": {\"color\": \"#EBF0F8\"}, \"line\": {\"color\": \"white\"}}, \"header\": {\"fill\": {\"color\": \"#C8D4E3\"}, \"line\": {\"color\": \"white\"}}, \"type\": \"table\"}]}, \"layout\": {\"annotationdefaults\": {\"arrowcolor\": \"#2a3f5f\", \"arrowhead\": 0, \"arrowwidth\": 1}, \"autotypenumbers\": \"strict\", \"coloraxis\": {\"colorbar\": {\"outlinewidth\": 0, \"ticks\": \"\"}}, \"colorscale\": {\"diverging\": [[0, \"#8e0152\"], [0.1, \"#c51b7d\"], [0.2, \"#de77ae\"], [0.3, \"#f1b6da\"], [0.4, \"#fde0ef\"], [0.5, \"#f7f7f7\"], [0.6, \"#e6f5d0\"], [0.7, \"#b8e186\"], [0.8, \"#7fbc41\"], [0.9, \"#4d9221\"], [1, \"#276419\"]], \"sequential\": [[0.0, \"#0d0887\"], [0.1111111111111111, \"#46039f\"], [0.2222222222222222, \"#7201a8\"], [0.3333333333333333, \"#9c179e\"], [0.4444444444444444, \"#bd3786\"], [0.5555555555555556, \"#d8576b\"], [0.6666666666666666, \"#ed7953\"], [0.7777777777777778, \"#fb9f3a\"], [0.8888888888888888, \"#fdca26\"], [1.0, \"#f0f921\"]], \"sequentialminus\": [[0.0, \"#0d0887\"], [0.1111111111111111, \"#46039f\"], [0.2222222222222222, \"#7201a8\"], [0.3333333333333333, \"#9c179e\"], [0.4444444444444444, \"#bd3786\"], [0.5555555555555556, \"#d8576b\"], [0.6666666666666666, \"#ed7953\"], [0.7777777777777778, \"#fb9f3a\"], [0.8888888888888888, \"#fdca26\"], [1.0, \"#f0f921\"]]}, \"colorway\": [\"#636efa\", \"#EF553B\", \"#00cc96\", \"#ab63fa\", \"#FFA15A\", \"#19d3f3\", \"#FF6692\", \"#B6E880\", \"#FF97FF\", \"#FECB52\"], \"font\": {\"color\": \"#2a3f5f\"}, \"geo\": {\"bgcolor\": \"white\", \"lakecolor\": \"white\", \"landcolor\": \"white\", \"showlakes\": true, \"showland\": true, \"subunitcolor\": \"#C8D4E3\"}, \"hoverlabel\": {\"align\": \"left\"}, \"hovermode\": \"closest\", \"mapbox\": {\"style\": \"light\"}, \"paper_bgcolor\": \"white\", \"plot_bgcolor\": \"white\", \"polar\": {\"angularaxis\": {\"gridcolor\": \"#EBF0F8\", \"linecolor\": \"#EBF0F8\", \"ticks\": \"\"}, \"bgcolor\": \"white\", \"radialaxis\": {\"gridcolor\": \"#EBF0F8\", \"linecolor\": \"#EBF0F8\", \"ticks\": \"\"}}, \"scene\": {\"xaxis\": {\"backgroundcolor\": \"white\", \"gridcolor\": \"#DFE8F3\", \"gridwidth\": 2, \"linecolor\": \"#EBF0F8\", \"showbackground\": true, \"ticks\": \"\", \"zerolinecolor\": \"#EBF0F8\"}, \"yaxis\": {\"backgroundcolor\": \"white\", \"gridcolor\": \"#DFE8F3\", \"gridwidth\": 2, \"linecolor\": \"#EBF0F8\", \"showbackground\": true, \"ticks\": \"\", \"zerolinecolor\": \"#EBF0F8\"}, \"zaxis\": {\"backgroundcolor\": \"white\", \"gridcolor\": \"#DFE8F3\", \"gridwidth\": 2, \"linecolor\": \"#EBF0F8\", \"showbackground\": true, \"ticks\": \"\", \"zerolinecolor\": \"#EBF0F8\"}}, \"shapedefaults\": {\"line\": {\"color\": \"#2a3f5f\"}}, \"ternary\": {\"aaxis\": {\"gridcolor\": \"#DFE8F3\", \"linecolor\": \"#A2B1C6\", \"ticks\": \"\"}, \"baxis\": {\"gridcolor\": \"#DFE8F3\", \"linecolor\": \"#A2B1C6\", \"ticks\": \"\"}, \"bgcolor\": \"white\", \"caxis\": {\"gridcolor\": \"#DFE8F3\", \"linecolor\": \"#A2B1C6\", \"ticks\": \"\"}}, \"title\": {\"x\": 0.05}, \"xaxis\": {\"automargin\": true, \"gridcolor\": \"#EBF0F8\", \"linecolor\": \"#EBF0F8\", \"ticks\": \"\", \"title\": {\"standoff\": 15}, \"zerolinecolor\": \"#EBF0F8\", \"zerolinewidth\": 2}, \"yaxis\": {\"automargin\": true, \"gridcolor\": \"#EBF0F8\", \"linecolor\": \"#EBF0F8\", \"ticks\": \"\", \"title\": {\"standoff\": 15}, \"zerolinecolor\": \"#EBF0F8\", \"zerolinewidth\": 2}}}, \"xaxis\": {\"anchor\": \"y\", \"domain\": [0.0, 1.0], \"title\": {\"text\": \"coef\"}}, \"yaxis\": {\"anchor\": \"x\", \"domain\": [0.0, 1.0], \"title\": {\"text\": \"feature\"}}},                        {\"responsive\": true}                    ).then(function(){\n",
       "                            \n",
       "var gd = document.getElementById('1f1ffced-3480-4d67-a52f-ea88a044935a');\n",
       "var x = new MutationObserver(function (mutations, observer) {{\n",
       "        var display = window.getComputedStyle(gd).display;\n",
       "        if (!display || display === 'none') {{\n",
       "            console.log([gd, 'removed!']);\n",
       "            Plotly.purge(gd);\n",
       "            observer.disconnect();\n",
       "        }}\n",
       "}});\n",
       "\n",
       "// Listen for the removal of the full notebook cells\n",
       "var notebookContainer = gd.closest('#notebook-container');\n",
       "if (notebookContainer) {{\n",
       "    x.observe(notebookContainer, {childList: true});\n",
       "}}\n",
       "\n",
       "// Listen for the clearing of the current output cell\n",
       "var outputEl = gd.closest('.output');\n",
       "if (outputEl) {{\n",
       "    x.observe(outputEl, {childList: true});\n",
       "}}\n",
       "\n",
       "                        })                };                });            </script>        </div>"
      ]
     },
     "metadata": {},
     "output_type": "display_data"
    }
   ],
   "source": [
    "feat_importance, fig = plot_feat_imp(cols_x, estimator.coef_)\n",
    "fig"
   ]
  },
  {
   "cell_type": "markdown",
   "id": "2034b0a7",
   "metadata": {},
   "source": [
    "# 2. DeepSurv"
   ]
  },
  {
   "cell_type": "markdown",
   "id": "541d1548",
   "metadata": {},
   "source": [
    "Source: https://nbviewer.org/github/havakv/pycox/blob/master/examples/cox-ph.ipynb"
   ]
  },
  {
   "cell_type": "code",
   "execution_count": 75,
   "id": "6740aed9",
   "metadata": {},
   "outputs": [
    {
     "data": {
      "text/plain": [
       "['dvt',\n",
       " 'type_adm',\n",
       " 'gender',\n",
       " 'rural',\n",
       " 'atypical_chest_pain',\n",
       " 'chb',\n",
       " 'sss',\n",
       " 'age',\n",
       " 'cva_bleed',\n",
       " 'severe_anaemia',\n",
       " 'pulmonary_embolism',\n",
       " 'chest_infection',\n",
       " 'aki',\n",
       " 'psvt',\n",
       " 'congenital',\n",
       " 'neuro_cardiogenic_syncope',\n",
       " 'acs',\n",
       " 'heart_failure',\n",
       " 'valvular',\n",
       " 'orthostatic',\n",
       " 'vt',\n",
       " 'duration_of_stay_lag1',\n",
       " 'hfref',\n",
       " 'stable_angina',\n",
       " 'htn',\n",
       " 'cad_lag1',\n",
       " 'shock',\n",
       " 'anaemia',\n",
       " 'infective_endocarditis',\n",
       " 'first_visit',\n",
       " 'alcohol',\n",
       " 'duration_of_intensive_unit_stay_lag1',\n",
       " 'cva_infract',\n",
       " 'smoking',\n",
       " 'tlc',\n",
       " 'platelets',\n",
       " 'stemi',\n",
       " 'prior_cmp',\n",
       " 'cardiogenic_shock_lag1',\n",
       " 'raised_cardiac_enzymes']"
      ]
     },
     "execution_count": 75,
     "metadata": {},
     "output_type": "execute_result"
    }
   ],
   "source": [
    "n_top = 40\n",
    "cols_x_reduc = list(feat_importance.feature.iloc[:n_top])\n",
    "cols_x_reduc"
   ]
  },
  {
   "cell_type": "code",
   "execution_count": 76,
   "id": "aaa1b0dc",
   "metadata": {},
   "outputs": [],
   "source": [
    "get_target = lambda df: (df[col_target].values, df['censored'].values)\n",
    "\n",
    "y_train = get_target(Xy_train)\n",
    "y_val = get_target(Xy_val)\n",
    "y_test = get_target(Xy_test)\n",
    "\n",
    "train = (np.array(Xy_train[cols_x_reduc]).astype(np.float32), y_train)\n",
    "val = (np.array(Xy_val[cols_x_reduc]).astype(np.float32), y_val)\n",
    "test = (np.array(Xy_test[cols_x_reduc]).astype(np.float32), y_test)"
   ]
  },
  {
   "cell_type": "code",
   "execution_count": 77,
   "id": "ac599c70",
   "metadata": {
    "code_folding": [],
    "scrolled": false
   },
   "outputs": [
    {
     "name": "stdout",
     "output_type": "stream",
     "text": [
      "concordance: 0.49542856307029476\n",
      "0:\t[5s / 5s],\t\ttrain_loss: 1.9072,\tval_loss: 2.4611\n",
      "1:\t[3s / 8s],\t\ttrain_loss: 1.8467,\tval_loss: 3.9352\n",
      "2:\t[2s / 11s],\t\ttrain_loss: 1.8224,\tval_loss: 2.4810\n",
      "3:\t[2s / 14s],\t\ttrain_loss: 1.8034,\tval_loss: 4.5627\n",
      "4:\t[2s / 17s],\t\ttrain_loss: 1.7895,\tval_loss: 3.2483\n",
      "concordance: 0.5466598272906236\n",
      "5:\t[2s / 20s],\t\ttrain_loss: 1.7875,\tval_loss: 1.8318\n",
      "6:\t[2s / 22s],\t\ttrain_loss: 1.7824,\tval_loss: 2.4341\n",
      "7:\t[2s / 25s],\t\ttrain_loss: 1.7837,\tval_loss: 1.8555\n",
      "8:\t[2s / 27s],\t\ttrain_loss: 1.7812,\tval_loss: 1.8770\n",
      "9:\t[2s / 30s],\t\ttrain_loss: 1.7823,\tval_loss: 2.6103\n",
      "concordance: 0.4911468917406464\n",
      "10:\t[3s / 33s],\t\ttrain_loss: 1.7771,\tval_loss: 4.4214\n",
      "11:\t[2s / 36s],\t\ttrain_loss: 1.7844,\tval_loss: 1.9348\n",
      "12:\t[3s / 39s],\t\ttrain_loss: 1.7786,\tval_loss: 1.9218\n",
      "13:\t[3s / 42s],\t\ttrain_loss: 1.7778,\tval_loss: 1.8841\n",
      "14:\t[2s / 45s],\t\ttrain_loss: 1.7759,\tval_loss: 4.0899\n",
      "concordance: 0.5081631181098708\n",
      "15:\t[2s / 48s],\t\ttrain_loss: 1.7763,\tval_loss: 2.0168\n",
      "16:\t[2s / 50s],\t\ttrain_loss: 1.7751,\tval_loss: 1.8283\n",
      "17:\t[2s / 53s],\t\ttrain_loss: 1.7730,\tval_loss: 24.3016\n",
      "18:\t[2s / 56s],\t\ttrain_loss: 1.7757,\tval_loss: 92.4357\n",
      "19:\t[2s / 58s],\t\ttrain_loss: 1.7725,\tval_loss: 43.2776\n",
      "concordance: 0.5115016011503871\n",
      "20:\t[2s / 1m:1s],\t\ttrain_loss: 1.7710,\tval_loss: 1.8736\n",
      "21:\t[2s / 1m:3s],\t\ttrain_loss: 1.7716,\tval_loss: 2.0794\n",
      "22:\t[3s / 1m:7s],\t\ttrain_loss: 1.7694,\tval_loss: 2.6390\n",
      "23:\t[2s / 1m:10s],\t\ttrain_loss: 1.7666,\tval_loss: 1.9082\n",
      "24:\t[3s / 1m:13s],\t\ttrain_loss: 1.7699,\tval_loss: 1.9385\n",
      "concordance: 0.5038269738736844\n",
      "25:\t[2s / 1m:16s],\t\ttrain_loss: 1.7671,\tval_loss: 2.2598\n",
      "26:\t[2s / 1m:18s],\t\ttrain_loss: 1.7607,\tval_loss: 3.0181\n",
      "27:\t[2s / 1m:21s],\t\ttrain_loss: 1.7714,\tval_loss: 2.0883\n",
      "28:\t[2s / 1m:23s],\t\ttrain_loss: 1.7683,\tval_loss: 2.3580\n",
      "29:\t[3s / 1m:27s],\t\ttrain_loss: 1.7656,\tval_loss: 74.6087\n",
      "concordance: 0.5079422002111329\n",
      "30:\t[2s / 1m:29s],\t\ttrain_loss: 1.7626,\tval_loss: 11.7333\n",
      "31:\t[3s / 1m:32s],\t\ttrain_loss: 1.7596,\tval_loss: 10.1454\n"
     ]
    },
    {
     "data": {
      "application/vnd.plotly.v1+json": {
       "config": {
        "plotlyServerURL": "https://plotly.com"
       },
       "data": [
        {
         "hovertemplate": "dataset=train_loss<br>index=%{x}<br>loss=%{y}<extra></extra>",
         "legendgroup": "train_loss",
         "line": {
          "color": "#636efa",
          "dash": "solid"
         },
         "mode": "lines",
         "name": "train_loss",
         "orientation": "v",
         "showlegend": true,
         "type": "scatter",
         "x": [
          0,
          1,
          2,
          3,
          4,
          5,
          6,
          7,
          8,
          9,
          10,
          11,
          12,
          13,
          14,
          15,
          16,
          17,
          18,
          19,
          20,
          21,
          22,
          23,
          24,
          25,
          26,
          27,
          28,
          29,
          30,
          31
         ],
         "xaxis": "x",
         "y": [
          1.9072150891840562,
          1.8467214277812414,
          1.8223559309776078,
          1.8034016440574874,
          1.7894914566524445,
          1.7874904408446486,
          1.7823948057030035,
          1.7836690314863093,
          1.7811718354990453,
          1.782301184992311,
          1.7771228408897575,
          1.784366246884462,
          1.7785866153303278,
          1.777766721378979,
          1.7758629134933364,
          1.7762898107895355,
          1.7751190117847773,
          1.7730165045097392,
          1.7757319050070681,
          1.772477892551052,
          1.7709690464867487,
          1.7715677685207791,
          1.7693539332250228,
          1.766644792161501,
          1.7699094533499797,
          1.7670775321846075,
          1.7607335998057478,
          1.771368002765393,
          1.7682741289626565,
          1.7655842474528722,
          1.7626307677129378,
          1.7596093208070784
         ],
         "yaxis": "y"
        },
        {
         "hovertemplate": "dataset=val_loss<br>index=%{x}<br>loss=%{y}<extra></extra>",
         "legendgroup": "val_loss",
         "line": {
          "color": "#EF553B",
          "dash": "solid"
         },
         "mode": "lines",
         "name": "val_loss",
         "orientation": "v",
         "showlegend": true,
         "type": "scatter",
         "x": [
          0,
          1,
          2,
          3,
          4,
          5,
          6,
          7,
          8,
          9,
          10,
          11,
          12,
          13,
          14,
          15,
          16,
          17,
          18,
          19,
          20,
          21,
          22,
          23,
          24,
          25,
          26,
          27,
          28,
          29,
          30,
          31
         ],
         "xaxis": "x",
         "y": [
          2.46107816696167,
          3.935211658477783,
          2.4810214042663574,
          4.5627264976501465,
          3.2483372688293457,
          1.8317680358886719,
          2.434119939804077,
          1.8555303812026978,
          1.8769842386245728,
          2.6103031635284424,
          4.421350955963135,
          1.934821367263794,
          1.921786904335022,
          1.8841043710708618,
          4.08989143371582,
          2.016805410385132,
          1.82828688621521,
          24.30157470703125,
          92.43565368652344,
          43.277557373046875,
          1.8736271858215332,
          2.079434633255005,
          2.639017343521118,
          1.90823233127594,
          1.938539981842041,
          2.2598042488098145,
          3.0181307792663574,
          2.0882749557495117,
          2.357980966567993,
          74.60872650146484,
          11.733251571655273,
          10.145379066467285
         ],
         "yaxis": "y"
        }
       ],
       "layout": {
        "height": 400,
        "legend": {
         "title": {
          "text": "dataset"
         },
         "tracegroupgap": 0
        },
        "margin": {
         "t": 60
        },
        "template": {
         "data": {
          "bar": [
           {
            "error_x": {
             "color": "#2a3f5f"
            },
            "error_y": {
             "color": "#2a3f5f"
            },
            "marker": {
             "line": {
              "color": "white",
              "width": 0.5
             }
            },
            "type": "bar"
           }
          ],
          "barpolar": [
           {
            "marker": {
             "line": {
              "color": "white",
              "width": 0.5
             }
            },
            "type": "barpolar"
           }
          ],
          "carpet": [
           {
            "aaxis": {
             "endlinecolor": "#2a3f5f",
             "gridcolor": "#C8D4E3",
             "linecolor": "#C8D4E3",
             "minorgridcolor": "#C8D4E3",
             "startlinecolor": "#2a3f5f"
            },
            "baxis": {
             "endlinecolor": "#2a3f5f",
             "gridcolor": "#C8D4E3",
             "linecolor": "#C8D4E3",
             "minorgridcolor": "#C8D4E3",
             "startlinecolor": "#2a3f5f"
            },
            "type": "carpet"
           }
          ],
          "choropleth": [
           {
            "colorbar": {
             "outlinewidth": 0,
             "ticks": ""
            },
            "type": "choropleth"
           }
          ],
          "contour": [
           {
            "colorbar": {
             "outlinewidth": 0,
             "ticks": ""
            },
            "colorscale": [
             [
              0,
              "#0d0887"
             ],
             [
              0.1111111111111111,
              "#46039f"
             ],
             [
              0.2222222222222222,
              "#7201a8"
             ],
             [
              0.3333333333333333,
              "#9c179e"
             ],
             [
              0.4444444444444444,
              "#bd3786"
             ],
             [
              0.5555555555555556,
              "#d8576b"
             ],
             [
              0.6666666666666666,
              "#ed7953"
             ],
             [
              0.7777777777777778,
              "#fb9f3a"
             ],
             [
              0.8888888888888888,
              "#fdca26"
             ],
             [
              1,
              "#f0f921"
             ]
            ],
            "type": "contour"
           }
          ],
          "contourcarpet": [
           {
            "colorbar": {
             "outlinewidth": 0,
             "ticks": ""
            },
            "type": "contourcarpet"
           }
          ],
          "heatmap": [
           {
            "colorbar": {
             "outlinewidth": 0,
             "ticks": ""
            },
            "colorscale": [
             [
              0,
              "#0d0887"
             ],
             [
              0.1111111111111111,
              "#46039f"
             ],
             [
              0.2222222222222222,
              "#7201a8"
             ],
             [
              0.3333333333333333,
              "#9c179e"
             ],
             [
              0.4444444444444444,
              "#bd3786"
             ],
             [
              0.5555555555555556,
              "#d8576b"
             ],
             [
              0.6666666666666666,
              "#ed7953"
             ],
             [
              0.7777777777777778,
              "#fb9f3a"
             ],
             [
              0.8888888888888888,
              "#fdca26"
             ],
             [
              1,
              "#f0f921"
             ]
            ],
            "type": "heatmap"
           }
          ],
          "heatmapgl": [
           {
            "colorbar": {
             "outlinewidth": 0,
             "ticks": ""
            },
            "colorscale": [
             [
              0,
              "#0d0887"
             ],
             [
              0.1111111111111111,
              "#46039f"
             ],
             [
              0.2222222222222222,
              "#7201a8"
             ],
             [
              0.3333333333333333,
              "#9c179e"
             ],
             [
              0.4444444444444444,
              "#bd3786"
             ],
             [
              0.5555555555555556,
              "#d8576b"
             ],
             [
              0.6666666666666666,
              "#ed7953"
             ],
             [
              0.7777777777777778,
              "#fb9f3a"
             ],
             [
              0.8888888888888888,
              "#fdca26"
             ],
             [
              1,
              "#f0f921"
             ]
            ],
            "type": "heatmapgl"
           }
          ],
          "histogram": [
           {
            "marker": {
             "colorbar": {
              "outlinewidth": 0,
              "ticks": ""
             }
            },
            "type": "histogram"
           }
          ],
          "histogram2d": [
           {
            "colorbar": {
             "outlinewidth": 0,
             "ticks": ""
            },
            "colorscale": [
             [
              0,
              "#0d0887"
             ],
             [
              0.1111111111111111,
              "#46039f"
             ],
             [
              0.2222222222222222,
              "#7201a8"
             ],
             [
              0.3333333333333333,
              "#9c179e"
             ],
             [
              0.4444444444444444,
              "#bd3786"
             ],
             [
              0.5555555555555556,
              "#d8576b"
             ],
             [
              0.6666666666666666,
              "#ed7953"
             ],
             [
              0.7777777777777778,
              "#fb9f3a"
             ],
             [
              0.8888888888888888,
              "#fdca26"
             ],
             [
              1,
              "#f0f921"
             ]
            ],
            "type": "histogram2d"
           }
          ],
          "histogram2dcontour": [
           {
            "colorbar": {
             "outlinewidth": 0,
             "ticks": ""
            },
            "colorscale": [
             [
              0,
              "#0d0887"
             ],
             [
              0.1111111111111111,
              "#46039f"
             ],
             [
              0.2222222222222222,
              "#7201a8"
             ],
             [
              0.3333333333333333,
              "#9c179e"
             ],
             [
              0.4444444444444444,
              "#bd3786"
             ],
             [
              0.5555555555555556,
              "#d8576b"
             ],
             [
              0.6666666666666666,
              "#ed7953"
             ],
             [
              0.7777777777777778,
              "#fb9f3a"
             ],
             [
              0.8888888888888888,
              "#fdca26"
             ],
             [
              1,
              "#f0f921"
             ]
            ],
            "type": "histogram2dcontour"
           }
          ],
          "mesh3d": [
           {
            "colorbar": {
             "outlinewidth": 0,
             "ticks": ""
            },
            "type": "mesh3d"
           }
          ],
          "parcoords": [
           {
            "line": {
             "colorbar": {
              "outlinewidth": 0,
              "ticks": ""
             }
            },
            "type": "parcoords"
           }
          ],
          "pie": [
           {
            "automargin": true,
            "type": "pie"
           }
          ],
          "scatter": [
           {
            "marker": {
             "colorbar": {
              "outlinewidth": 0,
              "ticks": ""
             }
            },
            "type": "scatter"
           }
          ],
          "scatter3d": [
           {
            "line": {
             "colorbar": {
              "outlinewidth": 0,
              "ticks": ""
             }
            },
            "marker": {
             "colorbar": {
              "outlinewidth": 0,
              "ticks": ""
             }
            },
            "type": "scatter3d"
           }
          ],
          "scattercarpet": [
           {
            "marker": {
             "colorbar": {
              "outlinewidth": 0,
              "ticks": ""
             }
            },
            "type": "scattercarpet"
           }
          ],
          "scattergeo": [
           {
            "marker": {
             "colorbar": {
              "outlinewidth": 0,
              "ticks": ""
             }
            },
            "type": "scattergeo"
           }
          ],
          "scattergl": [
           {
            "marker": {
             "colorbar": {
              "outlinewidth": 0,
              "ticks": ""
             }
            },
            "type": "scattergl"
           }
          ],
          "scattermapbox": [
           {
            "marker": {
             "colorbar": {
              "outlinewidth": 0,
              "ticks": ""
             }
            },
            "type": "scattermapbox"
           }
          ],
          "scatterpolar": [
           {
            "marker": {
             "colorbar": {
              "outlinewidth": 0,
              "ticks": ""
             }
            },
            "type": "scatterpolar"
           }
          ],
          "scatterpolargl": [
           {
            "marker": {
             "colorbar": {
              "outlinewidth": 0,
              "ticks": ""
             }
            },
            "type": "scatterpolargl"
           }
          ],
          "scatterternary": [
           {
            "marker": {
             "colorbar": {
              "outlinewidth": 0,
              "ticks": ""
             }
            },
            "type": "scatterternary"
           }
          ],
          "surface": [
           {
            "colorbar": {
             "outlinewidth": 0,
             "ticks": ""
            },
            "colorscale": [
             [
              0,
              "#0d0887"
             ],
             [
              0.1111111111111111,
              "#46039f"
             ],
             [
              0.2222222222222222,
              "#7201a8"
             ],
             [
              0.3333333333333333,
              "#9c179e"
             ],
             [
              0.4444444444444444,
              "#bd3786"
             ],
             [
              0.5555555555555556,
              "#d8576b"
             ],
             [
              0.6666666666666666,
              "#ed7953"
             ],
             [
              0.7777777777777778,
              "#fb9f3a"
             ],
             [
              0.8888888888888888,
              "#fdca26"
             ],
             [
              1,
              "#f0f921"
             ]
            ],
            "type": "surface"
           }
          ],
          "table": [
           {
            "cells": {
             "fill": {
              "color": "#EBF0F8"
             },
             "line": {
              "color": "white"
             }
            },
            "header": {
             "fill": {
              "color": "#C8D4E3"
             },
             "line": {
              "color": "white"
             }
            },
            "type": "table"
           }
          ]
         },
         "layout": {
          "annotationdefaults": {
           "arrowcolor": "#2a3f5f",
           "arrowhead": 0,
           "arrowwidth": 1
          },
          "autotypenumbers": "strict",
          "coloraxis": {
           "colorbar": {
            "outlinewidth": 0,
            "ticks": ""
           }
          },
          "colorscale": {
           "diverging": [
            [
             0,
             "#8e0152"
            ],
            [
             0.1,
             "#c51b7d"
            ],
            [
             0.2,
             "#de77ae"
            ],
            [
             0.3,
             "#f1b6da"
            ],
            [
             0.4,
             "#fde0ef"
            ],
            [
             0.5,
             "#f7f7f7"
            ],
            [
             0.6,
             "#e6f5d0"
            ],
            [
             0.7,
             "#b8e186"
            ],
            [
             0.8,
             "#7fbc41"
            ],
            [
             0.9,
             "#4d9221"
            ],
            [
             1,
             "#276419"
            ]
           ],
           "sequential": [
            [
             0,
             "#0d0887"
            ],
            [
             0.1111111111111111,
             "#46039f"
            ],
            [
             0.2222222222222222,
             "#7201a8"
            ],
            [
             0.3333333333333333,
             "#9c179e"
            ],
            [
             0.4444444444444444,
             "#bd3786"
            ],
            [
             0.5555555555555556,
             "#d8576b"
            ],
            [
             0.6666666666666666,
             "#ed7953"
            ],
            [
             0.7777777777777778,
             "#fb9f3a"
            ],
            [
             0.8888888888888888,
             "#fdca26"
            ],
            [
             1,
             "#f0f921"
            ]
           ],
           "sequentialminus": [
            [
             0,
             "#0d0887"
            ],
            [
             0.1111111111111111,
             "#46039f"
            ],
            [
             0.2222222222222222,
             "#7201a8"
            ],
            [
             0.3333333333333333,
             "#9c179e"
            ],
            [
             0.4444444444444444,
             "#bd3786"
            ],
            [
             0.5555555555555556,
             "#d8576b"
            ],
            [
             0.6666666666666666,
             "#ed7953"
            ],
            [
             0.7777777777777778,
             "#fb9f3a"
            ],
            [
             0.8888888888888888,
             "#fdca26"
            ],
            [
             1,
             "#f0f921"
            ]
           ]
          },
          "colorway": [
           "#636efa",
           "#EF553B",
           "#00cc96",
           "#ab63fa",
           "#FFA15A",
           "#19d3f3",
           "#FF6692",
           "#B6E880",
           "#FF97FF",
           "#FECB52"
          ],
          "font": {
           "color": "#2a3f5f"
          },
          "geo": {
           "bgcolor": "white",
           "lakecolor": "white",
           "landcolor": "white",
           "showlakes": true,
           "showland": true,
           "subunitcolor": "#C8D4E3"
          },
          "hoverlabel": {
           "align": "left"
          },
          "hovermode": "closest",
          "mapbox": {
           "style": "light"
          },
          "paper_bgcolor": "white",
          "plot_bgcolor": "white",
          "polar": {
           "angularaxis": {
            "gridcolor": "#EBF0F8",
            "linecolor": "#EBF0F8",
            "ticks": ""
           },
           "bgcolor": "white",
           "radialaxis": {
            "gridcolor": "#EBF0F8",
            "linecolor": "#EBF0F8",
            "ticks": ""
           }
          },
          "scene": {
           "xaxis": {
            "backgroundcolor": "white",
            "gridcolor": "#DFE8F3",
            "gridwidth": 2,
            "linecolor": "#EBF0F8",
            "showbackground": true,
            "ticks": "",
            "zerolinecolor": "#EBF0F8"
           },
           "yaxis": {
            "backgroundcolor": "white",
            "gridcolor": "#DFE8F3",
            "gridwidth": 2,
            "linecolor": "#EBF0F8",
            "showbackground": true,
            "ticks": "",
            "zerolinecolor": "#EBF0F8"
           },
           "zaxis": {
            "backgroundcolor": "white",
            "gridcolor": "#DFE8F3",
            "gridwidth": 2,
            "linecolor": "#EBF0F8",
            "showbackground": true,
            "ticks": "",
            "zerolinecolor": "#EBF0F8"
           }
          },
          "shapedefaults": {
           "line": {
            "color": "#2a3f5f"
           }
          },
          "ternary": {
           "aaxis": {
            "gridcolor": "#DFE8F3",
            "linecolor": "#A2B1C6",
            "ticks": ""
           },
           "baxis": {
            "gridcolor": "#DFE8F3",
            "linecolor": "#A2B1C6",
            "ticks": ""
           },
           "bgcolor": "white",
           "caxis": {
            "gridcolor": "#DFE8F3",
            "linecolor": "#A2B1C6",
            "ticks": ""
           }
          },
          "title": {
           "x": 0.05
          },
          "xaxis": {
           "automargin": true,
           "gridcolor": "#EBF0F8",
           "linecolor": "#EBF0F8",
           "ticks": "",
           "title": {
            "standoff": 15
           },
           "zerolinecolor": "#EBF0F8",
           "zerolinewidth": 2
          },
          "yaxis": {
           "automargin": true,
           "gridcolor": "#EBF0F8",
           "linecolor": "#EBF0F8",
           "ticks": "",
           "title": {
            "standoff": 15
           },
           "zerolinecolor": "#EBF0F8",
           "zerolinewidth": 2
          }
         }
        },
        "width": 800,
        "xaxis": {
         "anchor": "y",
         "domain": [
          0,
          1
         ],
         "title": {
          "text": "index"
         }
        },
        "yaxis": {
         "anchor": "x",
         "domain": [
          0,
          1
         ],
         "title": {
          "text": "loss"
         }
        }
       }
      },
      "text/html": [
       "<div>                            <div id=\"bc08417c-6cee-4cfc-b837-50ca98591c7d\" class=\"plotly-graph-div\" style=\"height:400px; width:800px;\"></div>            <script type=\"text/javascript\">                require([\"plotly\"], function(Plotly) {                    window.PLOTLYENV=window.PLOTLYENV || {};                                    if (document.getElementById(\"bc08417c-6cee-4cfc-b837-50ca98591c7d\")) {                    Plotly.newPlot(                        \"bc08417c-6cee-4cfc-b837-50ca98591c7d\",                        [{\"hovertemplate\": \"dataset=train_loss<br>index=%{x}<br>loss=%{y}<extra></extra>\", \"legendgroup\": \"train_loss\", \"line\": {\"color\": \"#636efa\", \"dash\": \"solid\"}, \"mode\": \"lines\", \"name\": \"train_loss\", \"orientation\": \"v\", \"showlegend\": true, \"type\": \"scatter\", \"x\": [0, 1, 2, 3, 4, 5, 6, 7, 8, 9, 10, 11, 12, 13, 14, 15, 16, 17, 18, 19, 20, 21, 22, 23, 24, 25, 26, 27, 28, 29, 30, 31], \"xaxis\": \"x\", \"y\": [1.9072150891840562, 1.8467214277812414, 1.8223559309776078, 1.8034016440574874, 1.7894914566524445, 1.7874904408446486, 1.7823948057030035, 1.7836690314863093, 1.7811718354990453, 1.782301184992311, 1.7771228408897575, 1.784366246884462, 1.7785866153303278, 1.777766721378979, 1.7758629134933364, 1.7762898107895355, 1.7751190117847773, 1.7730165045097392, 1.7757319050070681, 1.772477892551052, 1.7709690464867487, 1.7715677685207791, 1.7693539332250228, 1.766644792161501, 1.7699094533499797, 1.7670775321846075, 1.7607335998057478, 1.771368002765393, 1.7682741289626565, 1.7655842474528722, 1.7626307677129378, 1.7596093208070784], \"yaxis\": \"y\"}, {\"hovertemplate\": \"dataset=val_loss<br>index=%{x}<br>loss=%{y}<extra></extra>\", \"legendgroup\": \"val_loss\", \"line\": {\"color\": \"#EF553B\", \"dash\": \"solid\"}, \"mode\": \"lines\", \"name\": \"val_loss\", \"orientation\": \"v\", \"showlegend\": true, \"type\": \"scatter\", \"x\": [0, 1, 2, 3, 4, 5, 6, 7, 8, 9, 10, 11, 12, 13, 14, 15, 16, 17, 18, 19, 20, 21, 22, 23, 24, 25, 26, 27, 28, 29, 30, 31], \"xaxis\": \"x\", \"y\": [2.46107816696167, 3.935211658477783, 2.4810214042663574, 4.5627264976501465, 3.2483372688293457, 1.8317680358886719, 2.434119939804077, 1.8555303812026978, 1.8769842386245728, 2.6103031635284424, 4.421350955963135, 1.934821367263794, 1.921786904335022, 1.8841043710708618, 4.08989143371582, 2.016805410385132, 1.82828688621521, 24.30157470703125, 92.43565368652344, 43.277557373046875, 1.8736271858215332, 2.079434633255005, 2.639017343521118, 1.90823233127594, 1.938539981842041, 2.2598042488098145, 3.0181307792663574, 2.0882749557495117, 2.357980966567993, 74.60872650146484, 11.733251571655273, 10.145379066467285], \"yaxis\": \"y\"}],                        {\"height\": 400, \"legend\": {\"title\": {\"text\": \"dataset\"}, \"tracegroupgap\": 0}, \"margin\": {\"t\": 60}, \"template\": {\"data\": {\"bar\": [{\"error_x\": {\"color\": \"#2a3f5f\"}, \"error_y\": {\"color\": \"#2a3f5f\"}, \"marker\": {\"line\": {\"color\": \"white\", \"width\": 0.5}}, \"type\": \"bar\"}], \"barpolar\": [{\"marker\": {\"line\": {\"color\": \"white\", \"width\": 0.5}}, \"type\": \"barpolar\"}], \"carpet\": [{\"aaxis\": {\"endlinecolor\": \"#2a3f5f\", \"gridcolor\": \"#C8D4E3\", \"linecolor\": \"#C8D4E3\", \"minorgridcolor\": \"#C8D4E3\", \"startlinecolor\": \"#2a3f5f\"}, \"baxis\": {\"endlinecolor\": \"#2a3f5f\", \"gridcolor\": \"#C8D4E3\", \"linecolor\": \"#C8D4E3\", \"minorgridcolor\": \"#C8D4E3\", \"startlinecolor\": \"#2a3f5f\"}, \"type\": \"carpet\"}], \"choropleth\": [{\"colorbar\": {\"outlinewidth\": 0, \"ticks\": \"\"}, \"type\": \"choropleth\"}], \"contour\": [{\"colorbar\": {\"outlinewidth\": 0, \"ticks\": \"\"}, \"colorscale\": [[0.0, \"#0d0887\"], [0.1111111111111111, \"#46039f\"], [0.2222222222222222, \"#7201a8\"], [0.3333333333333333, \"#9c179e\"], [0.4444444444444444, \"#bd3786\"], [0.5555555555555556, \"#d8576b\"], [0.6666666666666666, \"#ed7953\"], [0.7777777777777778, \"#fb9f3a\"], [0.8888888888888888, \"#fdca26\"], [1.0, \"#f0f921\"]], \"type\": \"contour\"}], \"contourcarpet\": [{\"colorbar\": {\"outlinewidth\": 0, \"ticks\": \"\"}, \"type\": \"contourcarpet\"}], \"heatmap\": [{\"colorbar\": {\"outlinewidth\": 0, \"ticks\": \"\"}, \"colorscale\": [[0.0, \"#0d0887\"], [0.1111111111111111, \"#46039f\"], [0.2222222222222222, \"#7201a8\"], [0.3333333333333333, \"#9c179e\"], [0.4444444444444444, \"#bd3786\"], [0.5555555555555556, \"#d8576b\"], [0.6666666666666666, \"#ed7953\"], [0.7777777777777778, \"#fb9f3a\"], [0.8888888888888888, \"#fdca26\"], [1.0, \"#f0f921\"]], \"type\": \"heatmap\"}], \"heatmapgl\": [{\"colorbar\": {\"outlinewidth\": 0, \"ticks\": \"\"}, \"colorscale\": [[0.0, \"#0d0887\"], [0.1111111111111111, \"#46039f\"], [0.2222222222222222, \"#7201a8\"], [0.3333333333333333, \"#9c179e\"], [0.4444444444444444, \"#bd3786\"], [0.5555555555555556, \"#d8576b\"], [0.6666666666666666, \"#ed7953\"], [0.7777777777777778, \"#fb9f3a\"], [0.8888888888888888, \"#fdca26\"], [1.0, \"#f0f921\"]], \"type\": \"heatmapgl\"}], \"histogram\": [{\"marker\": {\"colorbar\": {\"outlinewidth\": 0, \"ticks\": \"\"}}, \"type\": \"histogram\"}], \"histogram2d\": [{\"colorbar\": {\"outlinewidth\": 0, \"ticks\": \"\"}, \"colorscale\": [[0.0, \"#0d0887\"], [0.1111111111111111, \"#46039f\"], [0.2222222222222222, \"#7201a8\"], [0.3333333333333333, \"#9c179e\"], [0.4444444444444444, \"#bd3786\"], [0.5555555555555556, \"#d8576b\"], [0.6666666666666666, \"#ed7953\"], [0.7777777777777778, \"#fb9f3a\"], [0.8888888888888888, \"#fdca26\"], [1.0, \"#f0f921\"]], \"type\": \"histogram2d\"}], \"histogram2dcontour\": [{\"colorbar\": {\"outlinewidth\": 0, \"ticks\": \"\"}, \"colorscale\": [[0.0, \"#0d0887\"], [0.1111111111111111, \"#46039f\"], [0.2222222222222222, \"#7201a8\"], [0.3333333333333333, \"#9c179e\"], [0.4444444444444444, \"#bd3786\"], [0.5555555555555556, \"#d8576b\"], [0.6666666666666666, \"#ed7953\"], [0.7777777777777778, \"#fb9f3a\"], [0.8888888888888888, \"#fdca26\"], [1.0, \"#f0f921\"]], \"type\": \"histogram2dcontour\"}], \"mesh3d\": [{\"colorbar\": {\"outlinewidth\": 0, \"ticks\": \"\"}, \"type\": \"mesh3d\"}], \"parcoords\": [{\"line\": {\"colorbar\": {\"outlinewidth\": 0, \"ticks\": \"\"}}, \"type\": \"parcoords\"}], \"pie\": [{\"automargin\": true, \"type\": \"pie\"}], \"scatter\": [{\"marker\": {\"colorbar\": {\"outlinewidth\": 0, \"ticks\": \"\"}}, \"type\": \"scatter\"}], \"scatter3d\": [{\"line\": {\"colorbar\": {\"outlinewidth\": 0, \"ticks\": \"\"}}, \"marker\": {\"colorbar\": {\"outlinewidth\": 0, \"ticks\": \"\"}}, \"type\": \"scatter3d\"}], \"scattercarpet\": [{\"marker\": {\"colorbar\": {\"outlinewidth\": 0, \"ticks\": \"\"}}, \"type\": \"scattercarpet\"}], \"scattergeo\": [{\"marker\": {\"colorbar\": {\"outlinewidth\": 0, \"ticks\": \"\"}}, \"type\": \"scattergeo\"}], \"scattergl\": [{\"marker\": {\"colorbar\": {\"outlinewidth\": 0, \"ticks\": \"\"}}, \"type\": \"scattergl\"}], \"scattermapbox\": [{\"marker\": {\"colorbar\": {\"outlinewidth\": 0, \"ticks\": \"\"}}, \"type\": \"scattermapbox\"}], \"scatterpolar\": [{\"marker\": {\"colorbar\": {\"outlinewidth\": 0, \"ticks\": \"\"}}, \"type\": \"scatterpolar\"}], \"scatterpolargl\": [{\"marker\": {\"colorbar\": {\"outlinewidth\": 0, \"ticks\": \"\"}}, \"type\": \"scatterpolargl\"}], \"scatterternary\": [{\"marker\": {\"colorbar\": {\"outlinewidth\": 0, \"ticks\": \"\"}}, \"type\": \"scatterternary\"}], \"surface\": [{\"colorbar\": {\"outlinewidth\": 0, \"ticks\": \"\"}, \"colorscale\": [[0.0, \"#0d0887\"], [0.1111111111111111, \"#46039f\"], [0.2222222222222222, \"#7201a8\"], [0.3333333333333333, \"#9c179e\"], [0.4444444444444444, \"#bd3786\"], [0.5555555555555556, \"#d8576b\"], [0.6666666666666666, \"#ed7953\"], [0.7777777777777778, \"#fb9f3a\"], [0.8888888888888888, \"#fdca26\"], [1.0, \"#f0f921\"]], \"type\": \"surface\"}], \"table\": [{\"cells\": {\"fill\": {\"color\": \"#EBF0F8\"}, \"line\": {\"color\": \"white\"}}, \"header\": {\"fill\": {\"color\": \"#C8D4E3\"}, \"line\": {\"color\": \"white\"}}, \"type\": \"table\"}]}, \"layout\": {\"annotationdefaults\": {\"arrowcolor\": \"#2a3f5f\", \"arrowhead\": 0, \"arrowwidth\": 1}, \"autotypenumbers\": \"strict\", \"coloraxis\": {\"colorbar\": {\"outlinewidth\": 0, \"ticks\": \"\"}}, \"colorscale\": {\"diverging\": [[0, \"#8e0152\"], [0.1, \"#c51b7d\"], [0.2, \"#de77ae\"], [0.3, \"#f1b6da\"], [0.4, \"#fde0ef\"], [0.5, \"#f7f7f7\"], [0.6, \"#e6f5d0\"], [0.7, \"#b8e186\"], [0.8, \"#7fbc41\"], [0.9, \"#4d9221\"], [1, \"#276419\"]], \"sequential\": [[0.0, \"#0d0887\"], [0.1111111111111111, \"#46039f\"], [0.2222222222222222, \"#7201a8\"], [0.3333333333333333, \"#9c179e\"], [0.4444444444444444, \"#bd3786\"], [0.5555555555555556, \"#d8576b\"], [0.6666666666666666, \"#ed7953\"], [0.7777777777777778, \"#fb9f3a\"], [0.8888888888888888, \"#fdca26\"], [1.0, \"#f0f921\"]], \"sequentialminus\": [[0.0, \"#0d0887\"], [0.1111111111111111, \"#46039f\"], [0.2222222222222222, \"#7201a8\"], [0.3333333333333333, \"#9c179e\"], [0.4444444444444444, \"#bd3786\"], [0.5555555555555556, \"#d8576b\"], [0.6666666666666666, \"#ed7953\"], [0.7777777777777778, \"#fb9f3a\"], [0.8888888888888888, \"#fdca26\"], [1.0, \"#f0f921\"]]}, \"colorway\": [\"#636efa\", \"#EF553B\", \"#00cc96\", \"#ab63fa\", \"#FFA15A\", \"#19d3f3\", \"#FF6692\", \"#B6E880\", \"#FF97FF\", \"#FECB52\"], \"font\": {\"color\": \"#2a3f5f\"}, \"geo\": {\"bgcolor\": \"white\", \"lakecolor\": \"white\", \"landcolor\": \"white\", \"showlakes\": true, \"showland\": true, \"subunitcolor\": \"#C8D4E3\"}, \"hoverlabel\": {\"align\": \"left\"}, \"hovermode\": \"closest\", \"mapbox\": {\"style\": \"light\"}, \"paper_bgcolor\": \"white\", \"plot_bgcolor\": \"white\", \"polar\": {\"angularaxis\": {\"gridcolor\": \"#EBF0F8\", \"linecolor\": \"#EBF0F8\", \"ticks\": \"\"}, \"bgcolor\": \"white\", \"radialaxis\": {\"gridcolor\": \"#EBF0F8\", \"linecolor\": \"#EBF0F8\", \"ticks\": \"\"}}, \"scene\": {\"xaxis\": {\"backgroundcolor\": \"white\", \"gridcolor\": \"#DFE8F3\", \"gridwidth\": 2, \"linecolor\": \"#EBF0F8\", \"showbackground\": true, \"ticks\": \"\", \"zerolinecolor\": \"#EBF0F8\"}, \"yaxis\": {\"backgroundcolor\": \"white\", \"gridcolor\": \"#DFE8F3\", \"gridwidth\": 2, \"linecolor\": \"#EBF0F8\", \"showbackground\": true, \"ticks\": \"\", \"zerolinecolor\": \"#EBF0F8\"}, \"zaxis\": {\"backgroundcolor\": \"white\", \"gridcolor\": \"#DFE8F3\", \"gridwidth\": 2, \"linecolor\": \"#EBF0F8\", \"showbackground\": true, \"ticks\": \"\", \"zerolinecolor\": \"#EBF0F8\"}}, \"shapedefaults\": {\"line\": {\"color\": \"#2a3f5f\"}}, \"ternary\": {\"aaxis\": {\"gridcolor\": \"#DFE8F3\", \"linecolor\": \"#A2B1C6\", \"ticks\": \"\"}, \"baxis\": {\"gridcolor\": \"#DFE8F3\", \"linecolor\": \"#A2B1C6\", \"ticks\": \"\"}, \"bgcolor\": \"white\", \"caxis\": {\"gridcolor\": \"#DFE8F3\", \"linecolor\": \"#A2B1C6\", \"ticks\": \"\"}}, \"title\": {\"x\": 0.05}, \"xaxis\": {\"automargin\": true, \"gridcolor\": \"#EBF0F8\", \"linecolor\": \"#EBF0F8\", \"ticks\": \"\", \"title\": {\"standoff\": 15}, \"zerolinecolor\": \"#EBF0F8\", \"zerolinewidth\": 2}, \"yaxis\": {\"automargin\": true, \"gridcolor\": \"#EBF0F8\", \"linecolor\": \"#EBF0F8\", \"ticks\": \"\", \"title\": {\"standoff\": 15}, \"zerolinecolor\": \"#EBF0F8\", \"zerolinewidth\": 2}}}, \"width\": 800, \"xaxis\": {\"anchor\": \"y\", \"domain\": [0.0, 1.0], \"title\": {\"text\": \"index\"}}, \"yaxis\": {\"anchor\": \"x\", \"domain\": [0.0, 1.0], \"title\": {\"text\": \"loss\"}}},                        {\"responsive\": true}                    ).then(function(){\n",
       "                            \n",
       "var gd = document.getElementById('bc08417c-6cee-4cfc-b837-50ca98591c7d');\n",
       "var x = new MutationObserver(function (mutations, observer) {{\n",
       "        var display = window.getComputedStyle(gd).display;\n",
       "        if (!display || display === 'none') {{\n",
       "            console.log([gd, 'removed!']);\n",
       "            Plotly.purge(gd);\n",
       "            observer.disconnect();\n",
       "        }}\n",
       "}});\n",
       "\n",
       "// Listen for the removal of the full notebook cells\n",
       "var notebookContainer = gd.closest('#notebook-container');\n",
       "if (notebookContainer) {{\n",
       "    x.observe(notebookContainer, {childList: true});\n",
       "}}\n",
       "\n",
       "// Listen for the clearing of the current output cell\n",
       "var outputEl = gd.closest('.output');\n",
       "if (outputEl) {{\n",
       "    x.observe(outputEl, {childList: true});\n",
       "}}\n",
       "\n",
       "                        })                };                });            </script>        </div>"
      ]
     },
     "metadata": {},
     "output_type": "display_data"
    },
    {
     "name": "stdout",
     "output_type": "stream",
     "text": [
      "score 0.6078104479324722\n"
     ]
    }
   ],
   "source": [
    "params = {\n",
    "    'n_nodes': 264,\n",
    "    'n_layers': 4,\n",
    "    'dropout': 0.4,\n",
    "    'lr':0.005\n",
    "}\n",
    "\n",
    "\n",
    "logs_df, model, score = train_deep_surv(\n",
    "    train, val, test, CoxPH, out_features = 1, tolerance=10, \n",
    "    print_lr=True, print_logs=True, verbose = True,\n",
    "    **params\n",
    ")\n",
    "\n",
    "print('score', score)"
   ]
  },
  {
   "cell_type": "code",
   "execution_count": 78,
   "id": "06b4b65a",
   "metadata": {},
   "outputs": [
    {
     "data": {
      "text/plain": [
       "0.6078104479324722"
      ]
     },
     "execution_count": 78,
     "metadata": {},
     "output_type": "execute_result"
    }
   ],
   "source": [
    "surv = model.predict_surv_df(test[0])\n",
    "ev = EvalSurv(surv, test[1][0], test[1][1])\n",
    "score = ev.concordance_td()\n",
    "score"
   ]
  },
  {
   "cell_type": "code",
   "execution_count": null,
   "id": "8779840b",
   "metadata": {},
   "outputs": [],
   "source": []
  },
  {
   "cell_type": "code",
   "execution_count": null,
   "id": "98399c24",
   "metadata": {},
   "outputs": [],
   "source": []
  },
  {
   "cell_type": "code",
   "execution_count": null,
   "id": "85d9e250",
   "metadata": {},
   "outputs": [],
   "source": []
  },
  {
   "cell_type": "code",
   "execution_count": 51,
   "id": "32d78f29",
   "metadata": {
    "code_folding": [],
    "scrolled": true
   },
   "outputs": [
    {
     "name": "stdout",
     "output_type": "stream",
     "text": [
      "36 total scenario to run\n",
      "1/36: params: {'n_nodes': 232, 'n_layers': 4, 'dropout': 0.3, 'lr': 0.01}\n",
      "concordance: 0.5048211044180049\n",
      "0:\t[1s / 1s],\t\ttrain_loss: 1.9120,\tval_loss: 13.9515\n",
      "1:\t[1s / 3s],\t\ttrain_loss: 1.8116,\tval_loss: 2.4332\n",
      "2:\t[1s / 5s],\t\ttrain_loss: 1.7955,\tval_loss: 2.0563\n",
      "3:\t[1s / 7s],\t\ttrain_loss: 1.7892,\tval_loss: 5.8767\n",
      "4:\t[1s / 9s],\t\ttrain_loss: 1.7911,\tval_loss: 5.4681\n",
      "concordance: 0.4930594960146512\n",
      "5:\t[1s / 10s],\t\ttrain_loss: 1.7903,\tval_loss: 3.2110\n",
      "6:\t[1s / 12s],\t\ttrain_loss: 1.7906,\tval_loss: 1.9036\n",
      "7:\t[1s / 14s],\t\ttrain_loss: 1.7905,\tval_loss: 2.4391\n",
      "8:\t[1s / 16s],\t\ttrain_loss: 1.7866,\tval_loss: 3.9835\n",
      "9:\t[1s / 18s],\t\ttrain_loss: 1.7884,\tval_loss: 2.4450\n",
      "concordance: 0.49485205814276645\n",
      "10:\t[1s / 20s],\t\ttrain_loss: 1.7899,\tval_loss: 4.1043\n",
      "11:\t[1s / 22s],\t\ttrain_loss: 1.7880,\tval_loss: 2.3542\n",
      "12:\t[1s / 24s],\t\ttrain_loss: 1.7883,\tval_loss: 1.9747\n",
      "13:\t[1s / 25s],\t\ttrain_loss: 1.7827,\tval_loss: 4.2597\n",
      "14:\t[1s / 27s],\t\ttrain_loss: 1.7879,\tval_loss: 4.5053\n"
     ]
    },
    {
     "name": "stderr",
     "output_type": "stream",
     "text": [
      "/usr/local/lib/python3.9/site-packages/pycox/models/cox.py:251: RuntimeWarning:\n",
      "\n",
      "overflow encountered in exp\n",
      "\n"
     ]
    },
    {
     "name": "stdout",
     "output_type": "stream",
     "text": [
      "concordance: 0.5093204151844236\n",
      "15:\t[2s / 29s],\t\ttrain_loss: 1.7810,\tval_loss: 9690.1289\n",
      "16:\t[2s / 31s],\t\ttrain_loss: 1.7838,\tval_loss: 3.5557\n",
      "17:\t[1s / 33s],\t\ttrain_loss: 1.7809,\tval_loss: 2.5852\n",
      "18:\t[1s / 35s],\t\ttrain_loss: 1.7841,\tval_loss: 1.9255\n",
      "19:\t[1s / 37s],\t\ttrain_loss: 1.7797,\tval_loss: 2.2638\n",
      "concordance: 0.4995942272841675\n",
      "20:\t[2s / 39s],\t\ttrain_loss: 1.7796,\tval_loss: 60.4871\n",
      "21:\t[2s / 41s],\t\ttrain_loss: 1.7798,\tval_loss: 4.0647\n",
      "Current score: 0.593094852538029 vs. best score: -100\n",
      "2/36: params: {'n_nodes': 232, 'n_layers': 4, 'dropout': 0.3, 'lr': 0.005}\n",
      "concordance: 0.5115538043524861\n",
      "0:\t[2s / 2s],\t\ttrain_loss: 1.8780,\tval_loss: 7.6443\n",
      "1:\t[1s / 4s],\t\ttrain_loss: 1.8288,\tval_loss: 5.6912\n",
      "2:\t[1s / 6s],\t\ttrain_loss: 1.8067,\tval_loss: 1.9125\n",
      "3:\t[1s / 7s],\t\ttrain_loss: 1.7920,\tval_loss: 10.3598\n",
      "4:\t[1s / 9s],\t\ttrain_loss: 1.7826,\tval_loss: 2.0246\n",
      "concordance: 0.503790658602659\n",
      "5:\t[1s / 11s],\t\ttrain_loss: 1.7813,\tval_loss: 2.2488\n",
      "6:\t[1s / 13s],\t\ttrain_loss: 1.7779,\tval_loss: 2.2457\n",
      "7:\t[1s / 15s],\t\ttrain_loss: 1.7775,\tval_loss: 3.8236\n",
      "8:\t[1s / 17s],\t\ttrain_loss: 1.7774,\tval_loss: 1.8753\n",
      "9:\t[1s / 19s],\t\ttrain_loss: 1.7769,\tval_loss: 1.8451\n",
      "concordance: 0.5149727358058989\n",
      "10:\t[1s / 21s],\t\ttrain_loss: 1.7734,\tval_loss: 3.5067\n",
      "11:\t[1s / 22s],\t\ttrain_loss: 1.7761,\tval_loss: 3.2952\n",
      "12:\t[1s / 24s],\t\ttrain_loss: 1.7747,\tval_loss: 4.4552\n",
      "13:\t[1s / 26s],\t\ttrain_loss: 1.7741,\tval_loss: 10.1443\n",
      "14:\t[1s / 28s],\t\ttrain_loss: 1.7676,\tval_loss: 1.9524\n",
      "concordance: 0.5172041074589044\n",
      "15:\t[2s / 30s],\t\ttrain_loss: 1.7682,\tval_loss: 1.9682\n",
      "16:\t[2s / 32s],\t\ttrain_loss: 1.7648,\tval_loss: 2.5255\n",
      "17:\t[2s / 34s],\t\ttrain_loss: 1.7673,\tval_loss: 4.1682\n",
      "18:\t[2s / 37s],\t\ttrain_loss: 1.7697,\tval_loss: 3.8759\n",
      "19:\t[1s / 39s],\t\ttrain_loss: 1.7612,\tval_loss: 2.0746\n",
      "concordance: 0.5222713487138594\n",
      "20:\t[2s / 41s],\t\ttrain_loss: 1.7612,\tval_loss: 2.3277\n",
      "21:\t[2s / 43s],\t\ttrain_loss: 1.7591,\tval_loss: 1.8436\n",
      "22:\t[1s / 45s],\t\ttrain_loss: 1.7629,\tval_loss: 3.1507\n",
      "23:\t[2s / 47s],\t\ttrain_loss: 1.7586,\tval_loss: 2.0010\n",
      "24:\t[2s / 50s],\t\ttrain_loss: 1.7577,\tval_loss: 4.2667\n",
      "concordance: 0.5175783565019718\n",
      "25:\t[2s / 52s],\t\ttrain_loss: 1.7592,\tval_loss: 2.2243\n",
      "26:\t[3s / 56s],\t\ttrain_loss: 1.7528,\tval_loss: 11.7058\n",
      "27:\t[3s / 1m:0s],\t\ttrain_loss: 1.7554,\tval_loss: 3.5968\n",
      "28:\t[2s / 1m:2s],\t\ttrain_loss: 1.7610,\tval_loss: 4579.9146\n",
      "29:\t[3s / 1m:5s],\t\ttrain_loss: 1.7538,\tval_loss: 991.7928\n"
     ]
    },
    {
     "name": "stderr",
     "output_type": "stream",
     "text": [
      "/usr/local/lib/python3.9/site-packages/pycox/models/cox.py:251: RuntimeWarning:\n",
      "\n",
      "overflow encountered in exp\n",
      "\n"
     ]
    },
    {
     "name": "stdout",
     "output_type": "stream",
     "text": [
      "concordance: 0.501403938290267\n",
      "30:\t[2s / 1m:7s],\t\ttrain_loss: 1.7531,\tval_loss: 15.1942\n",
      "31:\t[1s / 1m:9s],\t\ttrain_loss: 1.7516,\tval_loss: 29.0351\n",
      "32:\t[2s / 1m:11s],\t\ttrain_loss: 1.7504,\tval_loss: 275.2091\n",
      "33:\t[1s / 1m:13s],\t\ttrain_loss: 1.7502,\tval_loss: 205.6651\n",
      "34:\t[1s / 1m:15s],\t\ttrain_loss: 1.7507,\tval_loss: 26.4903\n",
      "concordance: 0.4993334634630545\n",
      "35:\t[1s / 1m:16s],\t\ttrain_loss: 1.7504,\tval_loss: 539.6981\n",
      "36:\t[1s / 1m:18s],\t\ttrain_loss: 1.7503,\tval_loss: 3.3641\n",
      "Current score: 0.6099321662182666 vs. best score: 0.593094852538029\n",
      "3/36: params: {'n_nodes': 232, 'n_layers': 4, 'dropout': 0.3, 'lr': 0.001}\n",
      "concordance: 0.5093738793334333\n",
      "0:\t[2s / 2s],\t\ttrain_loss: 1.8662,\tval_loss: 4.0174\n",
      "1:\t[2s / 4s],\t\ttrain_loss: 1.8068,\tval_loss: 5.7973\n",
      "2:\t[1s / 6s],\t\ttrain_loss: 1.8063,\tval_loss: 5.2317\n",
      "3:\t[1s / 8s],\t\ttrain_loss: 1.7995,\tval_loss: 6.6659\n",
      "4:\t[1s / 9s],\t\ttrain_loss: 1.7968,\tval_loss: 2.8747\n",
      "concordance: 0.49768666679780516\n",
      "5:\t[1s / 11s],\t\ttrain_loss: 1.7943,\tval_loss: 1.8551\n",
      "6:\t[1s / 13s],\t\ttrain_loss: 1.7895,\tval_loss: 4.4540\n",
      "7:\t[1s / 15s],\t\ttrain_loss: 1.7859,\tval_loss: 2.6320\n",
      "8:\t[2s / 17s],\t\ttrain_loss: 1.7805,\tval_loss: 5.7576\n",
      "9:\t[1s / 19s],\t\ttrain_loss: 1.7833,\tval_loss: 5.7543\n",
      "concordance: 0.48938307920209295\n",
      "10:\t[1s / 20s],\t\ttrain_loss: 1.7773,\tval_loss: 3.1262\n",
      "11:\t[1s / 22s],\t\ttrain_loss: 1.7790,\tval_loss: 8.6448\n",
      "12:\t[1s / 24s],\t\ttrain_loss: 1.7731,\tval_loss: 2.2997\n",
      "13:\t[1s / 26s],\t\ttrain_loss: 1.7753,\tval_loss: 3.0657\n",
      "14:\t[2s / 28s],\t\ttrain_loss: 1.7726,\tval_loss: 7.6065\n",
      "concordance: 0.4929689600264698\n",
      "15:\t[2s / 30s],\t\ttrain_loss: 1.7779,\tval_loss: 4.6120\n",
      "16:\t[2s / 32s],\t\ttrain_loss: 1.7690,\tval_loss: 2.1680\n",
      "17:\t[2s / 34s],\t\ttrain_loss: 1.7644,\tval_loss: 11.7972\n",
      "18:\t[1s / 36s],\t\ttrain_loss: 1.7672,\tval_loss: 2.4873\n",
      "19:\t[2s / 38s],\t\ttrain_loss: 1.7625,\tval_loss: 9.5728\n",
      "concordance: 0.4908868844876798\n",
      "20:\t[2s / 40s],\t\ttrain_loss: 1.7622,\tval_loss: 6.7869\n",
      "Current score: 0.5883815522715391 vs. best score: 0.6099321662182666\n",
      "4/36: params: {'n_nodes': 232, 'n_layers': 4, 'dropout': 0.4, 'lr': 0.01}\n",
      "concordance: 0.48972656114054164\n",
      "0:\t[1s / 1s],\t\ttrain_loss: 1.9369,\tval_loss: 6.9902\n",
      "1:\t[1s / 3s],\t\ttrain_loss: 1.8239,\tval_loss: 2.2851\n",
      "2:\t[3s / 7s],\t\ttrain_loss: 1.8043,\tval_loss: 2.8648\n",
      "3:\t[3s / 11s],\t\ttrain_loss: 1.7965,\tval_loss: 1.9224\n",
      "4:\t[2s / 14s],\t\ttrain_loss: 1.7943,\tval_loss: 1.8484\n",
      "concordance: 0.5180232185720332\n",
      "5:\t[2s / 16s],\t\ttrain_loss: 1.7977,\tval_loss: 1.8685\n",
      "6:\t[2s / 18s],\t\ttrain_loss: 1.7965,\tval_loss: 2.1297\n",
      "7:\t[2s / 20s],\t\ttrain_loss: 1.7945,\tval_loss: 2.8288\n",
      "8:\t[1s / 22s],\t\ttrain_loss: 1.7992,\tval_loss: 1.8278\n",
      "9:\t[1s / 24s],\t\ttrain_loss: 1.7916,\tval_loss: 1.9485\n",
      "concordance: 0.497100074294992\n",
      "10:\t[2s / 27s],\t\ttrain_loss: 1.7919,\tval_loss: 1.8365\n",
      "11:\t[1s / 28s],\t\ttrain_loss: 1.7956,\tval_loss: 2.6969\n",
      "12:\t[2s / 31s],\t\ttrain_loss: 1.7903,\tval_loss: 1.8485\n",
      "13:\t[1s / 33s],\t\ttrain_loss: 1.7894,\tval_loss: 5.4207\n",
      "14:\t[1s / 34s],\t\ttrain_loss: 1.7912,\tval_loss: 1.9768\n"
     ]
    },
    {
     "name": "stderr",
     "output_type": "stream",
     "text": [
      "/usr/local/lib/python3.9/site-packages/pycox/models/cox.py:251: RuntimeWarning:\n",
      "\n",
      "overflow encountered in exp\n",
      "\n"
     ]
    },
    {
     "name": "stdout",
     "output_type": "stream",
     "text": [
      "concordance: 0.5032393726133427\n",
      "15:\t[2s / 37s],\t\ttrain_loss: 1.7923,\tval_loss: 605.8121\n",
      "16:\t[2s / 40s],\t\ttrain_loss: 1.7842,\tval_loss: 4.4483\n",
      "17:\t[1s / 41s],\t\ttrain_loss: 1.7890,\tval_loss: 951.9289\n",
      "18:\t[2s / 43s],\t\ttrain_loss: 1.7912,\tval_loss: 2.0384\n",
      "19:\t[1s / 45s],\t\ttrain_loss: 1.7866,\tval_loss: 44.9756\n"
     ]
    },
    {
     "name": "stderr",
     "output_type": "stream",
     "text": [
      "/usr/local/lib/python3.9/site-packages/pycox/models/cox.py:251: RuntimeWarning:\n",
      "\n",
      "overflow encountered in exp\n",
      "\n"
     ]
    },
    {
     "name": "stdout",
     "output_type": "stream",
     "text": [
      "concordance: 0.501364344557274\n",
      "20:\t[2s / 48s],\t\ttrain_loss: 1.7904,\tval_loss: 315.3583\n",
      "21:\t[1s / 49s],\t\ttrain_loss: 1.7893,\tval_loss: 192737.7812\n",
      "22:\t[1s / 51s],\t\ttrain_loss: 1.7941,\tval_loss: 4135.8096\n",
      "23:\t[2s / 54s],\t\ttrain_loss: 1.7865,\tval_loss: 6815.6870\n",
      "Current score: 0.6009151822714116 vs. best score: 0.6099321662182666\n",
      "5/36: params: {'n_nodes': 232, 'n_layers': 4, 'dropout': 0.4, 'lr': 0.005}\n",
      "concordance: 0.4909199212967376\n",
      "0:\t[2s / 2s],\t\ttrain_loss: 1.9059,\tval_loss: 11.8731\n",
      "1:\t[2s / 4s],\t\ttrain_loss: 1.8448,\tval_loss: 15.0202\n",
      "2:\t[1s / 5s],\t\ttrain_loss: 1.8175,\tval_loss: 7.3371\n",
      "3:\t[4s / 10s],\t\ttrain_loss: 1.8056,\tval_loss: 2.1543\n",
      "4:\t[2s / 13s],\t\ttrain_loss: 1.7890,\tval_loss: 3.0656\n",
      "concordance: 0.4968958008954741\n",
      "5:\t[1s / 15s],\t\ttrain_loss: 1.7870,\tval_loss: 2.0165\n",
      "6:\t[1s / 17s],\t\ttrain_loss: 1.7862,\tval_loss: 1.8368\n",
      "7:\t[1s / 19s],\t\ttrain_loss: 1.7810,\tval_loss: 2.3614\n",
      "8:\t[2s / 21s],\t\ttrain_loss: 1.7835,\tval_loss: 3.9041\n",
      "9:\t[2s / 23s],\t\ttrain_loss: 1.7799,\tval_loss: 2.1017\n",
      "concordance: 0.5166175149560913\n",
      "10:\t[1s / 25s],\t\ttrain_loss: 1.7811,\tval_loss: 1.8335\n",
      "11:\t[1s / 27s],\t\ttrain_loss: 1.7823,\tval_loss: 1.9438\n",
      "12:\t[2s / 29s],\t\ttrain_loss: 1.7765,\tval_loss: 1.8503\n",
      "13:\t[1s / 31s],\t\ttrain_loss: 1.7766,\tval_loss: 2.4292\n",
      "14:\t[1s / 33s],\t\ttrain_loss: 1.7795,\tval_loss: 1.8399\n",
      "concordance: 0.5226672860437892\n",
      "15:\t[1s / 35s],\t\ttrain_loss: 1.7738,\tval_loss: 2.1965\n",
      "16:\t[2s / 38s],\t\ttrain_loss: 1.7720,\tval_loss: 1.9431\n",
      "17:\t[2s / 40s],\t\ttrain_loss: 1.7779,\tval_loss: 1.8775\n",
      "18:\t[2s / 42s],\t\ttrain_loss: 1.7747,\tval_loss: 3.5483\n",
      "19:\t[1s / 44s],\t\ttrain_loss: 1.7717,\tval_loss: 2.5969\n",
      "concordance: 0.5137238939856363\n",
      "20:\t[2s / 46s],\t\ttrain_loss: 1.7694,\tval_loss: 2.2554\n",
      "21:\t[2s / 48s],\t\ttrain_loss: 1.7717,\tval_loss: 2.1018\n",
      "22:\t[2s / 51s],\t\ttrain_loss: 1.7686,\tval_loss: 2.1810\n",
      "23:\t[2s / 53s],\t\ttrain_loss: 1.7656,\tval_loss: 2.4669\n",
      "24:\t[2s / 56s],\t\ttrain_loss: 1.7669,\tval_loss: 3.9745\n",
      "concordance: 0.5191174683010557\n",
      "25:\t[2s / 58s],\t\ttrain_loss: 1.7662,\tval_loss: 2.3451\n",
      "Current score: 0.6070760069873895 vs. best score: 0.6099321662182666\n",
      "6/36: params: {'n_nodes': 232, 'n_layers': 4, 'dropout': 0.4, 'lr': 0.001}\n",
      "concordance: 0.49243608386204835\n",
      "0:\t[2s / 2s],\t\ttrain_loss: 1.8694,\tval_loss: 4.2418\n",
      "1:\t[2s / 4s],\t\ttrain_loss: 1.8117,\tval_loss: 2.4200\n",
      "2:\t[1s / 5s],\t\ttrain_loss: 1.8106,\tval_loss: 2.3208\n",
      "3:\t[1s / 7s],\t\ttrain_loss: 1.8051,\tval_loss: 2.8496\n",
      "4:\t[2s / 9s],\t\ttrain_loss: 1.8032,\tval_loss: 2.1060\n",
      "concordance: 0.521475691213268\n",
      "5:\t[2s / 12s],\t\ttrain_loss: 1.8022,\tval_loss: 2.0589\n",
      "6:\t[2s / 14s],\t\ttrain_loss: 1.7968,\tval_loss: 7.1952\n",
      "7:\t[1s / 16s],\t\ttrain_loss: 1.7928,\tval_loss: 3.8572\n",
      "8:\t[2s / 18s],\t\ttrain_loss: 1.7924,\tval_loss: 4.1350\n",
      "9:\t[2s / 20s],\t\ttrain_loss: 1.7894,\tval_loss: 3.4053\n",
      "concordance: 0.5400865110456428\n",
      "10:\t[1s / 22s],\t\ttrain_loss: 1.7856,\tval_loss: 2.3223\n",
      "11:\t[1s / 24s],\t\ttrain_loss: 1.7860,\tval_loss: 3.7271\n",
      "12:\t[1s / 26s],\t\ttrain_loss: 1.7855,\tval_loss: 3.5544\n",
      "13:\t[1s / 27s],\t\ttrain_loss: 1.7849,\tval_loss: 4.7318\n",
      "14:\t[1s / 29s],\t\ttrain_loss: 1.7784,\tval_loss: 2.9227\n",
      "concordance: 0.49436735015033006\n",
      "15:\t[1s / 31s],\t\ttrain_loss: 1.7787,\tval_loss: 5.5076\n",
      "16:\t[1s / 33s],\t\ttrain_loss: 1.7795,\tval_loss: 3.8676\n",
      "17:\t[1s / 34s],\t\ttrain_loss: 1.7790,\tval_loss: 5.9823\n",
      "18:\t[1s / 36s],\t\ttrain_loss: 1.7738,\tval_loss: 4.2244\n",
      "19:\t[1s / 38s],\t\ttrain_loss: 1.7753,\tval_loss: 3.9441\n",
      "concordance: 0.5052243552400162\n",
      "20:\t[1s / 40s],\t\ttrain_loss: 1.7719,\tval_loss: 2.3317\n",
      "Current score: 0.5975540948907901 vs. best score: 0.6099321662182666\n",
      "7/36: params: {'n_nodes': 232, 'n_layers': 5, 'dropout': 0.3, 'lr': 0.01}\n"
     ]
    },
    {
     "name": "stderr",
     "output_type": "stream",
     "text": [
      "/usr/local/lib/python3.9/site-packages/pycox/models/cox.py:251: RuntimeWarning:\n",
      "\n",
      "overflow encountered in exp\n",
      "\n"
     ]
    },
    {
     "name": "stdout",
     "output_type": "stream",
     "text": [
      "concordance: 0.5026633720645787\n",
      "0:\t[2s / 2s],\t\ttrain_loss: 1.9234,\tval_loss: 28.8466\n",
      "1:\t[2s / 4s],\t\ttrain_loss: 1.8198,\tval_loss: 18.0954\n",
      "2:\t[2s / 6s],\t\ttrain_loss: 1.7999,\tval_loss: 3.6162\n",
      "3:\t[2s / 8s],\t\ttrain_loss: 1.7959,\tval_loss: 7.9408\n",
      "4:\t[2s / 10s],\t\ttrain_loss: 1.7941,\tval_loss: 2.0629\n",
      "concordance: 0.5147616532930638\n",
      "5:\t[2s / 12s],\t\ttrain_loss: 1.7890,\tval_loss: 1.8312\n",
      "6:\t[2s / 14s],\t\ttrain_loss: 1.7921,\tval_loss: 1.8414\n",
      "7:\t[2s / 16s],\t\ttrain_loss: 1.7927,\tval_loss: 1.8156\n",
      "8:\t[2s / 18s],\t\ttrain_loss: 1.7920,\tval_loss: 1.9264\n",
      "9:\t[2s / 20s],\t\ttrain_loss: 1.7881,\tval_loss: 2.3825\n",
      "concordance: 0.5278477603313163\n",
      "10:\t[2s / 22s],\t\ttrain_loss: 1.7890,\tval_loss: 1.8572\n",
      "11:\t[2s / 25s],\t\ttrain_loss: 1.7919,\tval_loss: 1.8731\n",
      "12:\t[2s / 27s],\t\ttrain_loss: 1.7856,\tval_loss: 1.8511\n",
      "13:\t[2s / 29s],\t\ttrain_loss: 1.7858,\tval_loss: 1.9774\n",
      "14:\t[2s / 31s],\t\ttrain_loss: 1.7840,\tval_loss: 2.3700\n",
      "concordance: 0.5167668110703069\n",
      "15:\t[2s / 33s],\t\ttrain_loss: 1.7878,\tval_loss: 1.8436\n",
      "16:\t[2s / 36s],\t\ttrain_loss: 1.7879,\tval_loss: 1.8168\n",
      "17:\t[2s / 38s],\t\ttrain_loss: 1.7839,\tval_loss: 2.4311\n",
      "18:\t[2s / 41s],\t\ttrain_loss: 1.7855,\tval_loss: 2.5343\n",
      "19:\t[2s / 43s],\t\ttrain_loss: 1.7899,\tval_loss: 2.3882\n",
      "concordance: 0.5012470764945878\n",
      "20:\t[2s / 45s],\t\ttrain_loss: 1.7855,\tval_loss: 1.9904\n",
      "21:\t[2s / 47s],\t\ttrain_loss: 1.7812,\tval_loss: 1.9121\n",
      "22:\t[2s / 49s],\t\ttrain_loss: 1.7789,\tval_loss: 1.8196\n",
      "Current score: 0.5826666836676144 vs. best score: 0.6099321662182666\n",
      "8/36: params: {'n_nodes': 232, 'n_layers': 5, 'dropout': 0.3, 'lr': 0.005}\n",
      "concordance: 0.4878031127231056\n",
      "0:\t[2s / 2s],\t\ttrain_loss: 1.8864,\tval_loss: 6.0252\n",
      "1:\t[2s / 4s],\t\ttrain_loss: 1.8441,\tval_loss: 4.1635\n",
      "2:\t[2s / 6s],\t\ttrain_loss: 1.8119,\tval_loss: 7.1756\n",
      "3:\t[2s / 8s],\t\ttrain_loss: 1.7986,\tval_loss: 1.9088\n",
      "4:\t[2s / 10s],\t\ttrain_loss: 1.7904,\tval_loss: 2.1054\n",
      "concordance: 0.49291171303672837\n",
      "5:\t[2s / 12s],\t\ttrain_loss: 1.7859,\tval_loss: 3.7452\n",
      "6:\t[2s / 15s],\t\ttrain_loss: 1.7789,\tval_loss: 2.2435\n",
      "7:\t[2s / 17s],\t\ttrain_loss: 1.7798,\tval_loss: 6.9894\n",
      "8:\t[2s / 19s],\t\ttrain_loss: 1.7794,\tval_loss: 1.8704\n",
      "9:\t[2s / 21s],\t\ttrain_loss: 1.7778,\tval_loss: 2.6063\n",
      "concordance: 0.5167620194720466\n",
      "10:\t[2s / 24s],\t\ttrain_loss: 1.7795,\tval_loss: 2.7594\n",
      "11:\t[2s / 26s],\t\ttrain_loss: 1.7754,\tval_loss: 2.3865\n",
      "12:\t[2s / 28s],\t\ttrain_loss: 1.7767,\tval_loss: 4.7882\n",
      "13:\t[2s / 30s],\t\ttrain_loss: 1.7759,\tval_loss: 3.4896\n",
      "14:\t[2s / 33s],\t\ttrain_loss: 1.7677,\tval_loss: 2.5397\n",
      "concordance: 0.5148161261996018\n",
      "15:\t[2s / 35s],\t\ttrain_loss: 1.7687,\tval_loss: 3.8832\n",
      "16:\t[2s / 37s],\t\ttrain_loss: 1.7718,\tval_loss: 1.9003\n",
      "17:\t[2s / 40s],\t\ttrain_loss: 1.7713,\tval_loss: 2.2165\n",
      "18:\t[2s / 42s],\t\ttrain_loss: 1.7656,\tval_loss: 2.2192\n",
      "19:\t[2s / 44s],\t\ttrain_loss: 1.7659,\tval_loss: 1.9854\n",
      "concordance: 0.5144196844909078\n",
      "20:\t[2s / 47s],\t\ttrain_loss: 1.7682,\tval_loss: 4.2308\n",
      "21:\t[2s / 49s],\t\ttrain_loss: 1.7678,\tval_loss: 2.3490\n",
      "22:\t[2s / 51s],\t\ttrain_loss: 1.7682,\tval_loss: 1.8603\n",
      "23:\t[2s / 53s],\t\ttrain_loss: 1.7597,\tval_loss: 1.9765\n",
      "24:\t[2s / 55s],\t\ttrain_loss: 1.7643,\tval_loss: 1.8295\n",
      "concordance: 0.5095562122567066\n",
      "25:\t[2s / 57s],\t\ttrain_loss: 1.7602,\tval_loss: 1.8656\n",
      "26:\t[2s / 1m:0s],\t\ttrain_loss: 1.7645,\tval_loss: 1.8762\n",
      "27:\t[2s / 1m:2s],\t\ttrain_loss: 1.7629,\tval_loss: 1.8561\n",
      "28:\t[2s / 1m:4s],\t\ttrain_loss: 1.7633,\tval_loss: 2.2344\n",
      "29:\t[2s / 1m:7s],\t\ttrain_loss: 1.7568,\tval_loss: 1.9782\n",
      "concordance: 0.5055388353995209\n",
      "30:\t[2s / 1m:9s],\t\ttrain_loss: 1.7558,\tval_loss: 2.2377\n",
      "31:\t[2s / 1m:11s],\t\ttrain_loss: 1.7585,\tval_loss: 2.2033\n",
      "32:\t[2s / 1m:14s],\t\ttrain_loss: 1.7549,\tval_loss: 2.0905\n",
      "33:\t[2s / 1m:17s],\t\ttrain_loss: 1.7559,\tval_loss: 1.8869\n",
      "34:\t[2s / 1m:19s],\t\ttrain_loss: 1.7543,\tval_loss: 7.5424\n",
      "concordance: 0.5124432763032265\n",
      "35:\t[2s / 1m:21s],\t\ttrain_loss: 1.7540,\tval_loss: 1.9324\n",
      "36:\t[2s / 1m:24s],\t\ttrain_loss: 1.7555,\tval_loss: 1.8450\n",
      "37:\t[2s / 1m:27s],\t\ttrain_loss: 1.7516,\tval_loss: 2.1143\n",
      "38:\t[2s / 1m:29s],\t\ttrain_loss: 1.7555,\tval_loss: 1.8565\n",
      "39:\t[2s / 1m:32s],\t\ttrain_loss: 1.7474,\tval_loss: 1.9180\n",
      "Current score: 0.6077259744730769 vs. best score: 0.6099321662182666\n",
      "9/36: params: {'n_nodes': 232, 'n_layers': 5, 'dropout': 0.3, 'lr': 0.001}\n",
      "concordance: 0.5145616671130419\n",
      "0:\t[2s / 2s],\t\ttrain_loss: 1.8587,\tval_loss: 4.3629\n",
      "1:\t[2s / 4s],\t\ttrain_loss: 1.8169,\tval_loss: 2.0657\n",
      "2:\t[2s / 7s],\t\ttrain_loss: 1.8078,\tval_loss: 2.0335\n",
      "3:\t[2s / 10s],\t\ttrain_loss: 1.8042,\tval_loss: 1.8504\n",
      "4:\t[2s / 12s],\t\ttrain_loss: 1.8010,\tval_loss: 3.7669\n",
      "concordance: 0.5102678906930517\n",
      "5:\t[2s / 14s],\t\ttrain_loss: 1.7969,\tval_loss: 1.9439\n",
      "6:\t[2s / 17s],\t\ttrain_loss: 1.7940,\tval_loss: 1.9198\n",
      "7:\t[2s / 19s],\t\ttrain_loss: 1.7939,\tval_loss: 2.7076\n",
      "8:\t[2s / 21s],\t\ttrain_loss: 1.7919,\tval_loss: 3.7486\n",
      "9:\t[2s / 23s],\t\ttrain_loss: 1.7889,\tval_loss: 3.0701\n",
      "concordance: 0.5222658005474528\n",
      "10:\t[2s / 26s],\t\ttrain_loss: 1.7878,\tval_loss: 1.8575\n",
      "11:\t[2s / 28s],\t\ttrain_loss: 1.7841,\tval_loss: 2.5675\n",
      "12:\t[2s / 30s],\t\ttrain_loss: 1.7808,\tval_loss: 2.2090\n",
      "13:\t[2s / 33s],\t\ttrain_loss: 1.7784,\tval_loss: 2.1382\n",
      "14:\t[2s / 35s],\t\ttrain_loss: 1.7742,\tval_loss: 4.9487\n",
      "concordance: 0.4956066087740721\n",
      "15:\t[2s / 38s],\t\ttrain_loss: 1.7724,\tval_loss: 3.3084\n",
      "16:\t[2s / 40s],\t\ttrain_loss: 1.7728,\tval_loss: 1.8426\n",
      "17:\t[2s / 42s],\t\ttrain_loss: 1.7732,\tval_loss: 2.0181\n",
      "18:\t[2s / 45s],\t\ttrain_loss: 1.7670,\tval_loss: 4.9818\n",
      "19:\t[2s / 47s],\t\ttrain_loss: 1.7626,\tval_loss: 1.8981\n",
      "concordance: 0.49570143198174954\n",
      "20:\t[2s / 49s],\t\ttrain_loss: 1.7675,\tval_loss: 3.2308\n",
      "21:\t[2s / 51s],\t\ttrain_loss: 1.7605,\tval_loss: 2.7686\n",
      "22:\t[2s / 54s],\t\ttrain_loss: 1.7611,\tval_loss: 2.9505\n",
      "23:\t[2s / 56s],\t\ttrain_loss: 1.7638,\tval_loss: 3.9572\n",
      "24:\t[2s / 58s],\t\ttrain_loss: 1.7581,\tval_loss: 1.8200\n",
      "concordance: 0.5246235190809009\n",
      "25:\t[2s / 1m:0s],\t\ttrain_loss: 1.7582,\tval_loss: 1.9850\n",
      "26:\t[2s / 1m:3s],\t\ttrain_loss: 1.7529,\tval_loss: 2.1320\n",
      "27:\t[2s / 1m:5s],\t\ttrain_loss: 1.7539,\tval_loss: 1.8590\n",
      "28:\t[2s / 1m:7s],\t\ttrain_loss: 1.7563,\tval_loss: 2.6550\n",
      "29:\t[2s / 1m:10s],\t\ttrain_loss: 1.7527,\tval_loss: 2.0248\n",
      "concordance: 0.5002136044066564\n",
      "30:\t[2s / 1m:12s],\t\ttrain_loss: 1.7549,\tval_loss: 2.4494\n",
      "31:\t[2s / 1m:14s],\t\ttrain_loss: 1.7465,\tval_loss: 1.9358\n",
      "32:\t[2s / 1m:17s],\t\ttrain_loss: 1.7485,\tval_loss: 3.3099\n",
      "33:\t[2s / 1m:19s],\t\ttrain_loss: 1.7480,\tval_loss: 2.0285\n",
      "34:\t[2s / 1m:21s],\t\ttrain_loss: 1.7482,\tval_loss: 3.8873\n",
      "concordance: 0.5317937675933617\n",
      "35:\t[2s / 1m:24s],\t\ttrain_loss: 1.7447,\tval_loss: 1.8996\n",
      "36:\t[2s / 1m:26s],\t\ttrain_loss: 1.7411,\tval_loss: 1.9877\n",
      "37:\t[2s / 1m:29s],\t\ttrain_loss: 1.7415,\tval_loss: 2.0334\n",
      "38:\t[2s / 1m:31s],\t\ttrain_loss: 1.7394,\tval_loss: 1.9786\n",
      "39:\t[2s / 1m:33s],\t\ttrain_loss: 1.7401,\tval_loss: 3.2933\n",
      "Current score: 0.5983526081579048 vs. best score: 0.6099321662182666\n",
      "10/36: params: {'n_nodes': 232, 'n_layers': 5, 'dropout': 0.4, 'lr': 0.01}\n",
      "concordance: 0.4904566494017816\n",
      "0:\t[2s / 2s],\t\ttrain_loss: 1.9329,\tval_loss: 6.9651\n",
      "1:\t[2s / 4s],\t\ttrain_loss: 1.8300,\tval_loss: 6.7633\n",
      "2:\t[2s / 7s],\t\ttrain_loss: 1.8051,\tval_loss: 2.4220\n",
      "3:\t[2s / 10s],\t\ttrain_loss: 1.7952,\tval_loss: 2.5535\n",
      "4:\t[2s / 12s],\t\ttrain_loss: 1.8013,\tval_loss: 1.8413\n",
      "concordance: 0.5088243586697918\n",
      "5:\t[2s / 14s],\t\ttrain_loss: 1.7973,\tval_loss: 1.8318\n",
      "6:\t[2s / 16s],\t\ttrain_loss: 1.7944,\tval_loss: 2.8377\n",
      "7:\t[2s / 18s],\t\ttrain_loss: 1.8043,\tval_loss: 1.8224\n",
      "8:\t[2s / 20s],\t\ttrain_loss: 1.7965,\tval_loss: 2.1575\n",
      "9:\t[2s / 23s],\t\ttrain_loss: 1.7993,\tval_loss: 1.8423\n",
      "concordance: 0.48429137557707236\n",
      "10:\t[2s / 25s],\t\ttrain_loss: 1.7982,\tval_loss: 1.8469\n",
      "11:\t[2s / 28s],\t\ttrain_loss: 1.7962,\tval_loss: 2.7862\n",
      "12:\t[2s / 30s],\t\ttrain_loss: 1.7961,\tval_loss: 1.9701\n",
      "13:\t[2s / 33s],\t\ttrain_loss: 1.7969,\tval_loss: 1.8529\n",
      "14:\t[2s / 35s],\t\ttrain_loss: 1.8010,\tval_loss: 2.0081\n",
      "concordance: 0.4928035237917985\n",
      "15:\t[2s / 37s],\t\ttrain_loss: 1.7911,\tval_loss: 2.5857\n",
      "16:\t[2s / 40s],\t\ttrain_loss: 1.7894,\tval_loss: 2.2766\n",
      "17:\t[2s / 42s],\t\ttrain_loss: 1.7925,\tval_loss: 31141.7539\n",
      "18:\t[2s / 44s],\t\ttrain_loss: 1.7938,\tval_loss: 33.8700\n",
      "19:\t[2s / 46s],\t\ttrain_loss: 1.7898,\tval_loss: 119298.6094\n"
     ]
    },
    {
     "name": "stderr",
     "output_type": "stream",
     "text": [
      "/usr/local/lib/python3.9/site-packages/pycox/models/cox.py:231: RuntimeWarning:\n",
      "\n",
      "overflow encountered in exp\n",
      "\n",
      "/usr/local/lib/python3.9/site-packages/pycox/models/cox.py:251: RuntimeWarning:\n",
      "\n",
      "overflow encountered in exp\n",
      "\n"
     ]
    },
    {
     "name": "stdout",
     "output_type": "stream",
     "text": [
      "concordance: 0.49669631909421647\n",
      "20:\t[2s / 48s],\t\ttrain_loss: 1.7887,\tval_loss: 32.4788\n",
      "21:\t[2s / 51s],\t\ttrain_loss: 1.7864,\tval_loss: 963.6024\n",
      "22:\t[2s / 53s],\t\ttrain_loss: 1.7921,\tval_loss: 339.2501\n",
      "Current score: 0.5012776212273834 vs. best score: 0.6099321662182666\n",
      "11/36: params: {'n_nodes': 232, 'n_layers': 5, 'dropout': 0.4, 'lr': 0.005}\n",
      "concordance: 0.4950401914218286\n",
      "0:\t[2s / 2s],\t\ttrain_loss: 1.9018,\tval_loss: 2.7344\n",
      "1:\t[2s / 4s],\t\ttrain_loss: 1.8471,\tval_loss: 2.7565\n",
      "2:\t[2s / 7s],\t\ttrain_loss: 1.8236,\tval_loss: 1.9647\n",
      "3:\t[2s / 9s],\t\ttrain_loss: 1.8015,\tval_loss: 2.2229\n",
      "4:\t[2s / 11s],\t\ttrain_loss: 1.7997,\tval_loss: 2.9908\n",
      "concordance: 0.5281173507808036\n",
      "5:\t[2s / 13s],\t\ttrain_loss: 1.7922,\tval_loss: 2.0933\n",
      "6:\t[2s / 16s],\t\ttrain_loss: 1.7866,\tval_loss: 2.3007\n",
      "7:\t[2s / 18s],\t\ttrain_loss: 1.7863,\tval_loss: 1.8453\n",
      "8:\t[2s / 20s],\t\ttrain_loss: 1.7845,\tval_loss: 1.8233\n",
      "9:\t[2s / 22s],\t\ttrain_loss: 1.7831,\tval_loss: 1.8682\n",
      "concordance: 0.491707256547719\n",
      "10:\t[2s / 24s],\t\ttrain_loss: 1.7795,\tval_loss: 2.1274\n",
      "11:\t[2s / 27s],\t\ttrain_loss: 1.7794,\tval_loss: 1.8645\n",
      "12:\t[2s / 29s],\t\ttrain_loss: 1.7799,\tval_loss: 1.8737\n",
      "13:\t[2s / 31s],\t\ttrain_loss: 1.7792,\tval_loss: 1.8770\n",
      "14:\t[2s / 33s],\t\ttrain_loss: 1.7787,\tval_loss: 2.3708\n",
      "concordance: 0.514993667524615\n",
      "15:\t[2s / 36s],\t\ttrain_loss: 1.7814,\tval_loss: 2.2244\n",
      "16:\t[2s / 38s],\t\ttrain_loss: 1.7759,\tval_loss: 1.8416\n",
      "17:\t[2s / 40s],\t\ttrain_loss: 1.7735,\tval_loss: 1.8503\n",
      "18:\t[2s / 42s],\t\ttrain_loss: 1.7769,\tval_loss: 1.8299\n",
      "19:\t[2s / 44s],\t\ttrain_loss: 1.7762,\tval_loss: 2.2330\n",
      "concordance: 0.514322087200027\n",
      "20:\t[2s / 47s],\t\ttrain_loss: 1.7745,\tval_loss: 1.8915\n",
      "21:\t[2s / 49s],\t\ttrain_loss: 1.7682,\tval_loss: 2.1747\n",
      "22:\t[2s / 51s],\t\ttrain_loss: 1.7714,\tval_loss: 1.8279\n",
      "23:\t[2s / 53s],\t\ttrain_loss: 1.7712,\tval_loss: 1.8194\n",
      "24:\t[2s / 56s],\t\ttrain_loss: 1.7716,\tval_loss: 2.6903\n",
      "concordance: 0.5251142796185081\n",
      "25:\t[2s / 58s],\t\ttrain_loss: 1.7664,\tval_loss: 1.8290\n",
      "26:\t[2s / 1m:0s],\t\ttrain_loss: 1.7670,\tval_loss: 2.4829\n",
      "27:\t[2s / 1m:3s],\t\ttrain_loss: 1.7675,\tval_loss: 1.8191\n",
      "28:\t[2s / 1m:5s],\t\ttrain_loss: 1.7663,\tval_loss: 1.9076\n",
      "29:\t[2s / 1m:7s],\t\ttrain_loss: 1.7639,\tval_loss: 1.8418\n",
      "concordance: 0.5168117007803243\n",
      "30:\t[2s / 1m:10s],\t\ttrain_loss: 1.7659,\tval_loss: 1.8327\n",
      "31:\t[2s / 1m:12s],\t\ttrain_loss: 1.7671,\tval_loss: 1.9355\n",
      "32:\t[2s / 1m:14s],\t\ttrain_loss: 1.7643,\tval_loss: 2.4968\n",
      "33:\t[2s / 1m:17s],\t\ttrain_loss: 1.7635,\tval_loss: 2.1472\n",
      "34:\t[2s / 1m:19s],\t\ttrain_loss: 1.7649,\tval_loss: 2.6707\n",
      "concordance: 0.5184030157815072\n",
      "35:\t[2s / 1m:22s],\t\ttrain_loss: 1.7621,\tval_loss: 1.8406\n",
      "36:\t[2s / 1m:24s],\t\ttrain_loss: 1.7588,\tval_loss: 1.9790\n",
      "37:\t[2s / 1m:26s],\t\ttrain_loss: 1.7572,\tval_loss: 2.3799\n",
      "38:\t[2s / 1m:29s],\t\ttrain_loss: 1.7566,\tval_loss: 2.2131\n",
      "39:\t[2s / 1m:31s],\t\ttrain_loss: 1.7606,\tval_loss: 1.8404\n",
      "concordance: 0.4986248112992948\n",
      "40:\t[3s / 1m:34s],\t\ttrain_loss: 1.7565,\tval_loss: 2.7060\n",
      "41:\t[2s / 1m:37s],\t\ttrain_loss: 1.7613,\tval_loss: 1.9021\n",
      "42:\t[2s / 1m:39s],\t\ttrain_loss: 1.7566,\tval_loss: 1.9011\n",
      "Current score: 0.6153677942545297 vs. best score: 0.6099321662182666\n",
      "12/36: params: {'n_nodes': 232, 'n_layers': 5, 'dropout': 0.4, 'lr': 0.001}\n",
      "concordance: 0.5250507278942136\n",
      "0:\t[2s / 2s],\t\ttrain_loss: 1.8822,\tval_loss: 1.9975\n",
      "1:\t[2s / 4s],\t\ttrain_loss: 1.8234,\tval_loss: 2.2071\n",
      "2:\t[2s / 6s],\t\ttrain_loss: 1.8168,\tval_loss: 2.4440\n",
      "3:\t[2s / 8s],\t\ttrain_loss: 1.8093,\tval_loss: 2.7397\n",
      "4:\t[2s / 11s],\t\ttrain_loss: 1.8100,\tval_loss: 2.5731\n",
      "concordance: 0.4971076399764556\n",
      "5:\t[2s / 13s],\t\ttrain_loss: 1.8061,\tval_loss: 2.2495\n",
      "6:\t[2s / 15s],\t\ttrain_loss: 1.8050,\tval_loss: 3.9362\n",
      "7:\t[2s / 18s],\t\ttrain_loss: 1.8008,\tval_loss: 1.9886\n",
      "8:\t[2s / 20s],\t\ttrain_loss: 1.8009,\tval_loss: 3.0140\n",
      "9:\t[2s / 22s],\t\ttrain_loss: 1.7936,\tval_loss: 1.8610\n",
      "concordance: 0.4942114971121794\n",
      "10:\t[2s / 25s],\t\ttrain_loss: 1.7937,\tval_loss: 2.9031\n",
      "11:\t[2s / 27s],\t\ttrain_loss: 1.7913,\tval_loss: 1.9632\n",
      "12:\t[2s / 29s],\t\ttrain_loss: 1.7893,\tval_loss: 3.3651\n",
      "13:\t[2s / 32s],\t\ttrain_loss: 1.7895,\tval_loss: 5.0980\n",
      "14:\t[2s / 34s],\t\ttrain_loss: 1.7862,\tval_loss: 5.8058\n",
      "concordance: 0.49216649341256113\n",
      "15:\t[2s / 37s],\t\ttrain_loss: 1.7846,\tval_loss: 2.6045\n",
      "16:\t[2s / 39s],\t\ttrain_loss: 1.7805,\tval_loss: 2.0857\n",
      "17:\t[2s / 41s],\t\ttrain_loss: 1.7777,\tval_loss: 2.1443\n",
      "18:\t[2s / 44s],\t\ttrain_loss: 1.7806,\tval_loss: 2.1318\n",
      "19:\t[2s / 46s],\t\ttrain_loss: 1.7802,\tval_loss: 3.8750\n",
      "concordance: 0.4964322768111359\n",
      "20:\t[2s / 48s],\t\ttrain_loss: 1.7739,\tval_loss: 2.7780\n",
      "21:\t[2s / 51s],\t\ttrain_loss: 1.7746,\tval_loss: 2.4632\n",
      "22:\t[2s / 54s],\t\ttrain_loss: 1.7757,\tval_loss: 1.9711\n",
      "23:\t[2s / 56s],\t\ttrain_loss: 1.7675,\tval_loss: 2.5674\n",
      "24:\t[2s / 58s],\t\ttrain_loss: 1.7693,\tval_loss: 2.8233\n",
      "Current score: 0.5907834674283091 vs. best score: 0.6153677942545297\n",
      "13/36: params: {'n_nodes': 248, 'n_layers': 4, 'dropout': 0.3, 'lr': 0.01}\n",
      "concordance: 0.489172501068022\n",
      "0:\t[2s / 2s],\t\ttrain_loss: 1.9279,\tval_loss: 9.8337\n",
      "1:\t[1s / 4s],\t\ttrain_loss: 1.8218,\tval_loss: 3.5566\n",
      "2:\t[2s / 6s],\t\ttrain_loss: 1.7947,\tval_loss: 2.2612\n",
      "3:\t[1s / 7s],\t\ttrain_loss: 1.7940,\tval_loss: 2.3109\n",
      "4:\t[2s / 10s],\t\ttrain_loss: 1.7934,\tval_loss: 4.2840\n",
      "concordance: 0.5142164198489184\n",
      "5:\t[2s / 12s],\t\ttrain_loss: 1.7863,\tval_loss: 3.5663\n",
      "6:\t[1s / 14s],\t\ttrain_loss: 1.7893,\tval_loss: 6.0467\n",
      "7:\t[2s / 16s],\t\ttrain_loss: 1.7898,\tval_loss: 5.4231\n",
      "8:\t[1s / 18s],\t\ttrain_loss: 1.7872,\tval_loss: 4.2743\n",
      "9:\t[1s / 20s],\t\ttrain_loss: 1.7869,\tval_loss: 3.6408\n",
      "concordance: 0.5178532429284837\n",
      "10:\t[2s / 22s],\t\ttrain_loss: 1.7886,\tval_loss: 1.8406\n",
      "11:\t[1s / 23s],\t\ttrain_loss: 1.7893,\tval_loss: 3.1320\n",
      "12:\t[1s / 25s],\t\ttrain_loss: 1.7909,\tval_loss: 3.5656\n",
      "13:\t[1s / 27s],\t\ttrain_loss: 1.7881,\tval_loss: 1.9731\n",
      "14:\t[1s / 29s],\t\ttrain_loss: 1.7872,\tval_loss: 2.3194\n",
      "concordance: 0.5110350507934635\n",
      "15:\t[2s / 31s],\t\ttrain_loss: 1.7826,\tval_loss: 3.9830\n",
      "16:\t[1s / 33s],\t\ttrain_loss: 1.7798,\tval_loss: 11.2340\n",
      "17:\t[1s / 35s],\t\ttrain_loss: 1.7772,\tval_loss: 9.9516\n",
      "18:\t[1s / 36s],\t\ttrain_loss: 1.7844,\tval_loss: 15.4967\n",
      "19:\t[1s / 38s],\t\ttrain_loss: 1.7805,\tval_loss: 7.0639\n"
     ]
    },
    {
     "name": "stderr",
     "output_type": "stream",
     "text": [
      "/usr/local/lib/python3.9/site-packages/pycox/models/cox.py:251: RuntimeWarning:\n",
      "\n",
      "overflow encountered in exp\n",
      "\n"
     ]
    },
    {
     "name": "stdout",
     "output_type": "stream",
     "text": [
      "concordance: 0.5191797590784395\n",
      "20:\t[1s / 40s],\t\ttrain_loss: 1.7813,\tval_loss: 870.4969\n",
      "21:\t[1s / 42s],\t\ttrain_loss: 1.7771,\tval_loss: 1537.0574\n",
      "22:\t[2s / 44s],\t\ttrain_loss: 1.7771,\tval_loss: 3293.3372\n",
      "23:\t[4s / 48s],\t\ttrain_loss: 1.7796,\tval_loss: 300.3329\n",
      "24:\t[2s / 51s],\t\ttrain_loss: 1.7720,\tval_loss: 128.6498\n"
     ]
    },
    {
     "name": "stderr",
     "output_type": "stream",
     "text": [
      "/usr/local/lib/python3.9/site-packages/pycox/models/cox.py:251: RuntimeWarning:\n",
      "\n",
      "overflow encountered in exp\n",
      "\n"
     ]
    },
    {
     "name": "stdout",
     "output_type": "stream",
     "text": [
      "concordance: 0.5097549374898178\n",
      "25:\t[2s / 54s],\t\ttrain_loss: 1.7812,\tval_loss: 1108.7439\n",
      "Current score: 0.5890021931222665 vs. best score: 0.6153677942545297\n",
      "14/36: params: {'n_nodes': 248, 'n_layers': 4, 'dropout': 0.3, 'lr': 0.005}\n",
      "concordance: 0.5055791857006603\n",
      "0:\t[2s / 2s],\t\ttrain_loss: 1.8935,\tval_loss: 4.6718\n",
      "1:\t[2s / 4s],\t\ttrain_loss: 1.8355,\tval_loss: 3.9804\n",
      "2:\t[1s / 6s],\t\ttrain_loss: 1.8104,\tval_loss: 9.4833\n",
      "3:\t[2s / 8s],\t\ttrain_loss: 1.7952,\tval_loss: 5.3503\n",
      "4:\t[1s / 10s],\t\ttrain_loss: 1.7827,\tval_loss: 7.5749\n",
      "concordance: 0.4927755307703831\n",
      "5:\t[1s / 12s],\t\ttrain_loss: 1.7844,\tval_loss: 5.5455\n",
      "6:\t[1s / 14s],\t\ttrain_loss: 1.7798,\tval_loss: 2.4541\n",
      "7:\t[1s / 16s],\t\ttrain_loss: 1.7809,\tval_loss: 2.2806\n",
      "8:\t[1s / 17s],\t\ttrain_loss: 1.7801,\tval_loss: 3.0967\n",
      "9:\t[1s / 19s],\t\ttrain_loss: 1.7762,\tval_loss: 2.1797\n",
      "concordance: 0.5439127283511808\n",
      "10:\t[1s / 21s],\t\ttrain_loss: 1.7755,\tval_loss: 2.0291\n",
      "11:\t[1s / 23s],\t\ttrain_loss: 1.7741,\tval_loss: 2.0428\n",
      "12:\t[1s / 25s],\t\ttrain_loss: 1.7746,\tval_loss: 2.1315\n",
      "13:\t[1s / 26s],\t\ttrain_loss: 1.7768,\tval_loss: 2.6786\n",
      "14:\t[1s / 28s],\t\ttrain_loss: 1.7678,\tval_loss: 1.9013\n",
      "concordance: 0.5193991638408847\n",
      "15:\t[1s / 30s],\t\ttrain_loss: 1.7620,\tval_loss: 1.8367\n",
      "16:\t[2s / 32s],\t\ttrain_loss: 1.7665,\tval_loss: 3.1804\n",
      "17:\t[1s / 34s],\t\ttrain_loss: 1.7694,\tval_loss: 1.9099\n",
      "18:\t[2s / 36s],\t\ttrain_loss: 1.7679,\tval_loss: 1.9437\n",
      "19:\t[1s / 38s],\t\ttrain_loss: 1.7639,\tval_loss: 2.2247\n",
      "concordance: 0.5189749813001573\n",
      "20:\t[2s / 40s],\t\ttrain_loss: 1.7640,\tval_loss: 1.9154\n",
      "21:\t[1s / 42s],\t\ttrain_loss: 1.7612,\tval_loss: 3.3481\n",
      "22:\t[1s / 44s],\t\ttrain_loss: 1.7646,\tval_loss: 1.8929\n",
      "23:\t[1s / 46s],\t\ttrain_loss: 1.7649,\tval_loss: 1.9424\n",
      "24:\t[2s / 48s],\t\ttrain_loss: 1.7587,\tval_loss: 1.8684\n",
      "concordance: 0.5035003886238378\n",
      "25:\t[1s / 50s],\t\ttrain_loss: 1.7526,\tval_loss: 2.0243\n",
      "26:\t[1s / 52s],\t\ttrain_loss: 1.7564,\tval_loss: 2.2064\n",
      "27:\t[1s / 54s],\t\ttrain_loss: 1.7581,\tval_loss: 1.9447\n",
      "28:\t[1s / 56s],\t\ttrain_loss: 1.7609,\tval_loss: 2.0714\n",
      "29:\t[1s / 58s],\t\ttrain_loss: 1.7549,\tval_loss: 1.8664\n",
      "concordance: 0.5081777450940339\n",
      "30:\t[2s / 1m:0s],\t\ttrain_loss: 1.7540,\tval_loss: 2.0387\n",
      "Current score: 0.5984868093896235 vs. best score: 0.6153677942545297\n",
      "15/36: params: {'n_nodes': 248, 'n_layers': 4, 'dropout': 0.3, 'lr': 0.001}\n",
      "concordance: 0.4947683312679023\n",
      "0:\t[2s / 2s],\t\ttrain_loss: 1.8617,\tval_loss: 5.4082\n",
      "1:\t[1s / 3s],\t\ttrain_loss: 1.8092,\tval_loss: 2.4917\n",
      "2:\t[1s / 5s],\t\ttrain_loss: 1.8114,\tval_loss: 3.0134\n",
      "3:\t[1s / 7s],\t\ttrain_loss: 1.8016,\tval_loss: 2.9327\n",
      "4:\t[2s / 9s],\t\ttrain_loss: 1.7982,\tval_loss: 6.1031\n",
      "concordance: 0.4981885236682257\n",
      "5:\t[2s / 11s],\t\ttrain_loss: 1.7925,\tval_loss: 1.9567\n",
      "6:\t[2s / 13s],\t\ttrain_loss: 1.7910,\tval_loss: 2.0331\n",
      "7:\t[1s / 15s],\t\ttrain_loss: 1.7912,\tval_loss: 9.6452\n",
      "8:\t[2s / 18s],\t\ttrain_loss: 1.7885,\tval_loss: 3.9226\n",
      "9:\t[2s / 20s],\t\ttrain_loss: 1.7825,\tval_loss: 2.0061\n",
      "concordance: 0.5034739087387151\n",
      "10:\t[2s / 22s],\t\ttrain_loss: 1.7824,\tval_loss: 2.1109\n",
      "11:\t[1s / 24s],\t\ttrain_loss: 1.7806,\tval_loss: 2.0714\n",
      "12:\t[1s / 25s],\t\ttrain_loss: 1.7754,\tval_loss: 5.3235\n",
      "13:\t[1s / 27s],\t\ttrain_loss: 1.7757,\tval_loss: 4.2641\n",
      "14:\t[1s / 29s],\t\ttrain_loss: 1.7717,\tval_loss: 3.0292\n",
      "concordance: 0.5184670718845659\n",
      "15:\t[2s / 31s],\t\ttrain_loss: 1.7691,\tval_loss: 2.0862\n",
      "16:\t[2s / 33s],\t\ttrain_loss: 1.7676,\tval_loss: 2.6959\n",
      "17:\t[2s / 35s],\t\ttrain_loss: 1.7673,\tval_loss: 2.6561\n",
      "18:\t[1s / 37s],\t\ttrain_loss: 1.7626,\tval_loss: 4.1519\n",
      "19:\t[2s / 39s],\t\ttrain_loss: 1.7593,\tval_loss: 5.0039\n",
      "concordance: 0.4903242499761681\n",
      "20:\t[2s / 41s],\t\ttrain_loss: 1.7592,\tval_loss: 8.5614\n",
      "Current score: 0.5917834419268875 vs. best score: 0.6153677942545297\n",
      "16/36: params: {'n_nodes': 248, 'n_layers': 4, 'dropout': 0.4, 'lr': 0.01}\n",
      "concordance: 0.5108905462775082\n",
      "0:\t[2s / 2s],\t\ttrain_loss: 1.9501,\tval_loss: 8.5172\n",
      "1:\t[2s / 4s],\t\ttrain_loss: 1.8277,\tval_loss: 2.9271\n",
      "2:\t[1s / 6s],\t\ttrain_loss: 1.8072,\tval_loss: 1.9980\n",
      "3:\t[2s / 8s],\t\ttrain_loss: 1.7976,\tval_loss: 2.5219\n",
      "4:\t[1s / 9s],\t\ttrain_loss: 1.7953,\tval_loss: 1.9109\n",
      "concordance: 0.5017443939561301\n",
      "5:\t[1s / 11s],\t\ttrain_loss: 1.7954,\tval_loss: 2.0433\n",
      "6:\t[1s / 13s],\t\ttrain_loss: 1.7931,\tval_loss: 1.8233\n",
      "7:\t[1s / 15s],\t\ttrain_loss: 1.7921,\tval_loss: 1.8289\n",
      "8:\t[1s / 17s],\t\ttrain_loss: 1.7945,\tval_loss: 6.6080\n",
      "9:\t[2s / 19s],\t\ttrain_loss: 1.7945,\tval_loss: 1.8435\n",
      "concordance: 0.4966002349396284\n",
      "10:\t[2s / 21s],\t\ttrain_loss: 1.7955,\tval_loss: 2.9106\n",
      "11:\t[2s / 24s],\t\ttrain_loss: 1.7943,\tval_loss: 2.2934\n",
      "12:\t[2s / 26s],\t\ttrain_loss: 1.7988,\tval_loss: 5.2279\n",
      "13:\t[2s / 28s],\t\ttrain_loss: 1.7970,\tval_loss: 2.3682\n",
      "14:\t[2s / 30s],\t\ttrain_loss: 1.7930,\tval_loss: 3.8281\n",
      "concordance: 0.5081442039062117\n",
      "15:\t[1s / 32s],\t\ttrain_loss: 1.7907,\tval_loss: 4.9927\n",
      "16:\t[1s / 34s],\t\ttrain_loss: 1.7910,\tval_loss: 2887.0295\n",
      "17:\t[1s / 36s],\t\ttrain_loss: 1.7930,\tval_loss: 4.4058\n",
      "18:\t[2s / 38s],\t\ttrain_loss: 1.7935,\tval_loss: 2368.5654\n",
      "19:\t[1s / 40s],\t\ttrain_loss: 1.7831,\tval_loss: 265.8662\n"
     ]
    },
    {
     "name": "stderr",
     "output_type": "stream",
     "text": [
      "/usr/local/lib/python3.9/site-packages/pycox/models/cox.py:231: RuntimeWarning:\n",
      "\n",
      "overflow encountered in exp\n",
      "\n",
      "/usr/local/lib/python3.9/site-packages/pycox/models/cox.py:251: RuntimeWarning:\n",
      "\n",
      "overflow encountered in exp\n",
      "\n"
     ]
    },
    {
     "name": "stdout",
     "output_type": "stream",
     "text": [
      "concordance: 0.001458411196805063\n",
      "20:\t[2s / 42s],\t\ttrain_loss: 1.7920,\tval_loss: 8439.5576\n",
      "21:\t[1s / 44s],\t\ttrain_loss: 1.7912,\tval_loss: 3729.2668\n",
      "Current score: 0.5013885524117969 vs. best score: 0.6153677942545297\n",
      "17/36: params: {'n_nodes': 248, 'n_layers': 4, 'dropout': 0.4, 'lr': 0.005}\n",
      "concordance: 0.48914148177402117\n",
      "0:\t[2s / 2s],\t\ttrain_loss: 1.8967,\tval_loss: 7.5837\n",
      "1:\t[2s / 4s],\t\ttrain_loss: 1.8482,\tval_loss: 3.8125\n",
      "2:\t[1s / 6s],\t\ttrain_loss: 1.8240,\tval_loss: 4.3822\n",
      "3:\t[1s / 7s],\t\ttrain_loss: 1.8057,\tval_loss: 6.4602\n",
      "4:\t[1s / 9s],\t\ttrain_loss: 1.7959,\tval_loss: 1.8564\n",
      "concordance: 0.5060684331019748\n",
      "5:\t[2s / 12s],\t\ttrain_loss: 1.7922,\tval_loss: 2.0030\n",
      "6:\t[1s / 13s],\t\ttrain_loss: 1.7841,\tval_loss: 2.7014\n",
      "7:\t[1s / 15s],\t\ttrain_loss: 1.7859,\tval_loss: 1.8696\n",
      "8:\t[2s / 18s],\t\ttrain_loss: 1.7844,\tval_loss: 4.1428\n",
      "9:\t[1s / 19s],\t\ttrain_loss: 1.7825,\tval_loss: 3.1867\n",
      "concordance: 0.496853937458042\n",
      "10:\t[1s / 21s],\t\ttrain_loss: 1.7809,\tval_loss: 2.7702\n",
      "11:\t[2s / 23s],\t\ttrain_loss: 1.7805,\tval_loss: 2.5651\n",
      "12:\t[2s / 26s],\t\ttrain_loss: 1.7820,\tval_loss: 2.1052\n",
      "13:\t[2s / 28s],\t\ttrain_loss: 1.7760,\tval_loss: 1.9139\n",
      "14:\t[2s / 30s],\t\ttrain_loss: 1.7761,\tval_loss: 2.1850\n",
      "concordance: 0.5330809421997068\n",
      "15:\t[2s / 32s],\t\ttrain_loss: 1.7781,\tval_loss: 1.9393\n",
      "16:\t[1s / 34s],\t\ttrain_loss: 1.7767,\tval_loss: 2.4248\n",
      "17:\t[1s / 36s],\t\ttrain_loss: 1.7705,\tval_loss: 1.8695\n",
      "18:\t[1s / 38s],\t\ttrain_loss: 1.7737,\tval_loss: 2.6850\n",
      "19:\t[2s / 40s],\t\ttrain_loss: 1.7721,\tval_loss: 2.6160\n",
      "Current score: 0.595896183712242 vs. best score: 0.6153677942545297\n",
      "18/36: params: {'n_nodes': 248, 'n_layers': 4, 'dropout': 0.4, 'lr': 0.001}\n",
      "concordance: 0.5287458067210488\n",
      "0:\t[2s / 2s],\t\ttrain_loss: 1.8777,\tval_loss: 1.8700\n",
      "1:\t[2s / 4s],\t\ttrain_loss: 1.8165,\tval_loss: 9.8340\n",
      "2:\t[2s / 7s],\t\ttrain_loss: 1.8117,\tval_loss: 3.8099\n",
      "3:\t[2s / 9s],\t\ttrain_loss: 1.8102,\tval_loss: 3.6614\n",
      "4:\t[2s / 11s],\t\ttrain_loss: 1.8070,\tval_loss: 6.9324\n",
      "concordance: 0.4920161885408171\n",
      "5:\t[2s / 13s],\t\ttrain_loss: 1.8002,\tval_loss: 5.1114\n",
      "6:\t[1s / 15s],\t\ttrain_loss: 1.7997,\tval_loss: 3.8505\n",
      "7:\t[1s / 17s],\t\ttrain_loss: 1.8028,\tval_loss: 3.1720\n",
      "8:\t[1s / 19s],\t\ttrain_loss: 1.7956,\tval_loss: 6.9095\n",
      "9:\t[1s / 21s],\t\ttrain_loss: 1.7940,\tval_loss: 3.0205\n",
      "concordance: 0.4913451125949934\n",
      "10:\t[1s / 23s],\t\ttrain_loss: 1.7899,\tval_loss: 6.2643\n",
      "11:\t[1s / 25s],\t\ttrain_loss: 1.7890,\tval_loss: 4.8111\n",
      "12:\t[1s / 27s],\t\ttrain_loss: 1.7845,\tval_loss: 4.1045\n",
      "13:\t[1s / 29s],\t\ttrain_loss: 1.7838,\tval_loss: 2.7422\n",
      "14:\t[1s / 31s],\t\ttrain_loss: 1.7846,\tval_loss: 6.8977\n",
      "concordance: 0.4905335671633284\n",
      "15:\t[2s / 33s],\t\ttrain_loss: 1.7767,\tval_loss: 4.1140\n",
      "Current score: 0.5648179198490316 vs. best score: 0.6153677942545297\n",
      "19/36: params: {'n_nodes': 248, 'n_layers': 5, 'dropout': 0.3, 'lr': 0.01}\n",
      "concordance: 0.49362162614739863\n",
      "0:\t[2s / 2s],\t\ttrain_loss: 1.9371,\tval_loss: 17.2414\n",
      "1:\t[2s / 4s],\t\ttrain_loss: 1.8222,\tval_loss: 2.0270\n",
      "2:\t[2s / 6s],\t\ttrain_loss: 1.7992,\tval_loss: 2.2599\n",
      "3:\t[2s / 9s],\t\ttrain_loss: 1.7939,\tval_loss: 3.4510\n",
      "4:\t[6s / 15s],\t\ttrain_loss: 1.7912,\tval_loss: 1.9034\n",
      "concordance: 0.5099097817704401\n",
      "5:\t[14s / 30s],\t\ttrain_loss: 1.7925,\tval_loss: 1.9382\n",
      "6:\t[6s / 36s],\t\ttrain_loss: 1.7932,\tval_loss: 1.9140\n",
      "7:\t[3s / 40s],\t\ttrain_loss: 1.7945,\tval_loss: 1.8163\n",
      "8:\t[3s / 43s],\t\ttrain_loss: 1.7927,\tval_loss: 1.9466\n",
      "9:\t[7s / 50s],\t\ttrain_loss: 1.7881,\tval_loss: 2.0081\n",
      "concordance: 0.4944177880267543\n",
      "10:\t[2s / 53s],\t\ttrain_loss: 1.7893,\tval_loss: 1.9234\n",
      "11:\t[3s / 57s],\t\ttrain_loss: 1.7839,\tval_loss: 1.9030\n",
      "12:\t[3s / 1m:0s],\t\ttrain_loss: 1.7888,\tval_loss: 4.9073\n",
      "13:\t[5s / 1m:6s],\t\ttrain_loss: 1.7897,\tval_loss: 32.2488\n",
      "14:\t[6s / 1m:12s],\t\ttrain_loss: 1.7844,\tval_loss: 38.3862\n"
     ]
    },
    {
     "name": "stderr",
     "output_type": "stream",
     "text": [
      "/usr/local/lib/python3.9/site-packages/pycox/models/cox.py:231: RuntimeWarning:\n",
      "\n",
      "overflow encountered in exp\n",
      "\n",
      "/usr/local/lib/python3.9/site-packages/pycox/models/cox.py:251: RuntimeWarning:\n",
      "\n",
      "overflow encountered in exp\n",
      "\n"
     ]
    },
    {
     "name": "stdout",
     "output_type": "stream",
     "text": [
      "concordance: 0.17824165492725094\n",
      "15:\t[4s / 1m:16s],\t\ttrain_loss: 1.7864,\tval_loss: 33275.2734\n",
      "16:\t[2s / 1m:19s],\t\ttrain_loss: 1.7856,\tval_loss: 9.1050\n",
      "17:\t[2s / 1m:21s],\t\ttrain_loss: 1.7800,\tval_loss: 114600.7656\n",
      "18:\t[2s / 1m:23s],\t\ttrain_loss: 1.7846,\tval_loss: 4300.4966\n",
      "19:\t[2s / 1m:25s],\t\ttrain_loss: 1.7843,\tval_loss: 2508.3750\n",
      "concordance: 0.5005964278887158\n",
      "20:\t[2s / 1m:28s],\t\ttrain_loss: 1.7744,\tval_loss: 41116.7383\n",
      "21:\t[2s / 1m:30s],\t\ttrain_loss: 1.7816,\tval_loss: 29923.1875\n",
      "22:\t[2s / 1m:32s],\t\ttrain_loss: 1.7781,\tval_loss: 176.8635\n",
      "Current score: 0.5843982302013337 vs. best score: 0.6153677942545297\n",
      "20/36: params: {'n_nodes': 248, 'n_layers': 5, 'dropout': 0.3, 'lr': 0.005}\n",
      "concordance: 0.4817568722867575\n",
      "0:\t[2s / 2s],\t\ttrain_loss: 1.8941,\tval_loss: 2.0210\n",
      "1:\t[2s / 4s],\t\ttrain_loss: 1.8375,\tval_loss: 4.5994\n",
      "2:\t[2s / 7s],\t\ttrain_loss: 1.8140,\tval_loss: 5.1193\n",
      "3:\t[2s / 9s],\t\ttrain_loss: 1.7959,\tval_loss: 3.1449\n",
      "4:\t[2s / 11s],\t\ttrain_loss: 1.7909,\tval_loss: 3.5841\n",
      "concordance: 0.5192453283177909\n",
      "5:\t[2s / 13s],\t\ttrain_loss: 1.7863,\tval_loss: 1.8293\n",
      "6:\t[2s / 15s],\t\ttrain_loss: 1.7847,\tval_loss: 2.0164\n",
      "7:\t[2s / 18s],\t\ttrain_loss: 1.7804,\tval_loss: 1.8713\n",
      "8:\t[2s / 20s],\t\ttrain_loss: 1.7796,\tval_loss: 1.8321\n",
      "9:\t[2s / 22s],\t\ttrain_loss: 1.7778,\tval_loss: 2.2152\n",
      "concordance: 0.49392248808026884\n",
      "10:\t[2s / 25s],\t\ttrain_loss: 1.7749,\tval_loss: 2.4095\n",
      "11:\t[2s / 27s],\t\ttrain_loss: 1.7788,\tval_loss: 1.8169\n",
      "12:\t[2s / 30s],\t\ttrain_loss: 1.7768,\tval_loss: 1.8321\n",
      "13:\t[2s / 32s],\t\ttrain_loss: 1.7764,\tval_loss: 1.9712\n",
      "14:\t[2s / 34s],\t\ttrain_loss: 1.7745,\tval_loss: 3.5144\n",
      "concordance: 0.4971071355976914\n",
      "15:\t[2s / 37s],\t\ttrain_loss: 1.7721,\tval_loss: 1.8284\n",
      "16:\t[2s / 39s],\t\ttrain_loss: 1.7722,\tval_loss: 1.9090\n",
      "17:\t[2s / 42s],\t\ttrain_loss: 1.7702,\tval_loss: 2.3117\n",
      "18:\t[2s / 44s],\t\ttrain_loss: 1.7724,\tval_loss: 2.0537\n",
      "19:\t[2s / 47s],\t\ttrain_loss: 1.7658,\tval_loss: 1.8440\n",
      "concordance: 0.5145324131447159\n",
      "20:\t[2s / 50s],\t\ttrain_loss: 1.7705,\tval_loss: 1.9217\n",
      "21:\t[2s / 52s],\t\ttrain_loss: 1.7681,\tval_loss: 1.8444\n",
      "22:\t[2s / 54s],\t\ttrain_loss: 1.7647,\tval_loss: 1.8187\n",
      "23:\t[2s / 57s],\t\ttrain_loss: 1.7612,\tval_loss: 1.8235\n",
      "24:\t[2s / 59s],\t\ttrain_loss: 1.7580,\tval_loss: 1.8341\n",
      "concordance: 0.5143034251857501\n",
      "25:\t[2s / 1m:2s],\t\ttrain_loss: 1.7622,\tval_loss: 1.8438\n",
      "26:\t[2s / 1m:4s],\t\ttrain_loss: 1.7612,\tval_loss: 3.7100\n",
      "Current score: 0.6079322172211101 vs. best score: 0.6153677942545297\n",
      "21/36: params: {'n_nodes': 248, 'n_layers': 5, 'dropout': 0.3, 'lr': 0.001}\n",
      "concordance: 0.4938569188409174\n",
      "0:\t[2s / 2s],\t\ttrain_loss: 1.8616,\tval_loss: 3.9557\n",
      "1:\t[2s / 5s],\t\ttrain_loss: 1.8119,\tval_loss: 1.8688\n",
      "2:\t[2s / 7s],\t\ttrain_loss: 1.8110,\tval_loss: 4.7056\n",
      "3:\t[2s / 9s],\t\ttrain_loss: 1.8071,\tval_loss: 1.9187\n",
      "4:\t[2s / 12s],\t\ttrain_loss: 1.8012,\tval_loss: 3.1403\n",
      "concordance: 0.48700241143487183\n",
      "5:\t[2s / 14s],\t\ttrain_loss: 1.7966,\tval_loss: 2.2288\n",
      "6:\t[2s / 17s],\t\ttrain_loss: 1.7941,\tval_loss: 4.3661\n",
      "7:\t[2s / 19s],\t\ttrain_loss: 1.7882,\tval_loss: 8.3097\n",
      "8:\t[2s / 21s],\t\ttrain_loss: 1.7885,\tval_loss: 6.0731\n",
      "9:\t[2s / 24s],\t\ttrain_loss: 1.7874,\tval_loss: 3.4271\n",
      "concordance: 0.5118677801332266\n",
      "10:\t[2s / 27s],\t\ttrain_loss: 1.7897,\tval_loss: 2.7804\n",
      "11:\t[2s / 29s],\t\ttrain_loss: 1.7830,\tval_loss: 5.2518\n",
      "12:\t[2s / 31s],\t\ttrain_loss: 1.7796,\tval_loss: 4.2451\n",
      "13:\t[2s / 34s],\t\ttrain_loss: 1.7763,\tval_loss: 2.2401\n",
      "14:\t[2s / 36s],\t\ttrain_loss: 1.7789,\tval_loss: 1.9417\n",
      "concordance: 0.4912369233500636\n",
      "15:\t[2s / 39s],\t\ttrain_loss: 1.7720,\tval_loss: 4.5368\n",
      "16:\t[2s / 41s],\t\ttrain_loss: 1.7704,\tval_loss: 1.8970\n",
      "Current score: 0.5945917859920691 vs. best score: 0.6153677942545297\n",
      "22/36: params: {'n_nodes': 248, 'n_layers': 5, 'dropout': 0.4, 'lr': 0.01}\n",
      "concordance: 0.5086004144984685\n",
      "0:\t[2s / 2s],\t\ttrain_loss: 1.9550,\tval_loss: 6.3483\n",
      "1:\t[2s / 4s],\t\ttrain_loss: 1.8292,\tval_loss: 2.7026\n",
      "2:\t[2s / 6s],\t\ttrain_loss: 1.8072,\tval_loss: 3.7979\n",
      "3:\t[4s / 11s],\t\ttrain_loss: 1.8004,\tval_loss: 3.0023\n",
      "4:\t[3s / 14s],\t\ttrain_loss: 1.7952,\tval_loss: 3.8947\n",
      "concordance: 0.5111566060756457\n",
      "5:\t[5s / 19s],\t\ttrain_loss: 1.7989,\tval_loss: 2.6546\n",
      "6:\t[3s / 23s],\t\ttrain_loss: 1.7957,\tval_loss: 2.0419\n",
      "7:\t[2s / 25s],\t\ttrain_loss: 1.7954,\tval_loss: 2.8346\n",
      "8:\t[3s / 28s],\t\ttrain_loss: 1.7953,\tval_loss: 2.5966\n",
      "9:\t[2s / 31s],\t\ttrain_loss: 1.7963,\tval_loss: 2.0229\n",
      "concordance: 0.5136517678223498\n",
      "10:\t[2s / 33s],\t\ttrain_loss: 1.7931,\tval_loss: 2.8948\n",
      "11:\t[2s / 36s],\t\ttrain_loss: 1.7957,\tval_loss: 4.6828\n",
      "12:\t[2s / 38s],\t\ttrain_loss: 1.7960,\tval_loss: 5.0453\n",
      "13:\t[2s / 41s],\t\ttrain_loss: 1.7922,\tval_loss: 2.3622\n",
      "14:\t[3s / 44s],\t\ttrain_loss: 1.7922,\tval_loss: 2.0820\n",
      "concordance: 0.5097920093289896\n",
      "15:\t[2s / 47s],\t\ttrain_loss: 1.7919,\tval_loss: 3.3180\n",
      "16:\t[2s / 49s],\t\ttrain_loss: 1.8019,\tval_loss: 479.6067\n",
      "17:\t[2s / 52s],\t\ttrain_loss: 1.7943,\tval_loss: 70.9395\n",
      "18:\t[2s / 54s],\t\ttrain_loss: 1.7893,\tval_loss: 1114.4989\n",
      "19:\t[4s / 59s],\t\ttrain_loss: 1.7975,\tval_loss: 821.0943\n"
     ]
    },
    {
     "name": "stderr",
     "output_type": "stream",
     "text": [
      "/usr/local/lib/python3.9/site-packages/pycox/models/cox.py:251: RuntimeWarning:\n",
      "\n",
      "overflow encountered in exp\n",
      "\n"
     ]
    },
    {
     "name": "stdout",
     "output_type": "stream",
     "text": [
      "concordance: 0.5014160433806087\n",
      "20:\t[4s / 1m:3s],\t\ttrain_loss: 1.7935,\tval_loss: 861.2737\n",
      "21:\t[4s / 1m:8s],\t\ttrain_loss: 1.7945,\tval_loss: 209749.0781\n",
      "22:\t[3s / 1m:12s],\t\ttrain_loss: 1.7930,\tval_loss: 9735.4590\n",
      "23:\t[3s / 1m:15s],\t\ttrain_loss: 1.7930,\tval_loss: 3419.0522\n",
      "24:\t[2s / 1m:17s],\t\ttrain_loss: 1.7912,\tval_loss: 44.0565\n",
      "Current score: 0.6066950795006821 vs. best score: 0.6153677942545297\n",
      "23/36: params: {'n_nodes': 248, 'n_layers': 5, 'dropout': 0.4, 'lr': 0.005}\n",
      "concordance: 0.48640699230368445\n",
      "0:\t[2s / 2s],\t\ttrain_loss: 1.9063,\tval_loss: 2.1718\n",
      "1:\t[2s / 4s],\t\ttrain_loss: 1.8520,\tval_loss: 3.0915\n",
      "2:\t[2s / 7s],\t\ttrain_loss: 1.8211,\tval_loss: 14.2358\n",
      "3:\t[2s / 9s],\t\ttrain_loss: 1.8098,\tval_loss: 7.1432\n",
      "4:\t[2s / 11s],\t\ttrain_loss: 1.7985,\tval_loss: 2.5164\n",
      "concordance: 0.5113154853863818\n",
      "5:\t[2s / 14s],\t\ttrain_loss: 1.7887,\tval_loss: 2.4239\n",
      "6:\t[2s / 16s],\t\ttrain_loss: 1.7861,\tval_loss: 1.9331\n",
      "7:\t[2s / 19s],\t\ttrain_loss: 1.7856,\tval_loss: 1.8429\n",
      "8:\t[2s / 21s],\t\ttrain_loss: 1.7854,\tval_loss: 1.9317\n",
      "9:\t[2s / 23s],\t\ttrain_loss: 1.7796,\tval_loss: 1.8955\n",
      "concordance: 0.5161373463725332\n",
      "10:\t[2s / 25s],\t\ttrain_loss: 1.7861,\tval_loss: 2.2424\n",
      "11:\t[2s / 28s],\t\ttrain_loss: 1.7833,\tval_loss: 1.9619\n",
      "12:\t[2s / 30s],\t\ttrain_loss: 1.7826,\tval_loss: 2.6798\n",
      "13:\t[2s / 33s],\t\ttrain_loss: 1.7799,\tval_loss: 2.7947\n",
      "14:\t[2s / 35s],\t\ttrain_loss: 1.7794,\tval_loss: 1.8469\n",
      "concordance: 0.5230828941455243\n",
      "15:\t[2s / 37s],\t\ttrain_loss: 1.7792,\tval_loss: 1.8294\n",
      "16:\t[3s / 41s],\t\ttrain_loss: 1.7785,\tval_loss: 2.6102\n",
      "17:\t[2s / 44s],\t\ttrain_loss: 1.7771,\tval_loss: 1.8869\n",
      "18:\t[2s / 46s],\t\ttrain_loss: 1.7729,\tval_loss: 2.4268\n",
      "19:\t[2s / 48s],\t\ttrain_loss: 1.7793,\tval_loss: 1.8181\n",
      "concordance: 0.5199222046194033\n",
      "20:\t[2s / 51s],\t\ttrain_loss: 1.7781,\tval_loss: 1.8892\n",
      "21:\t[2s / 53s],\t\ttrain_loss: 1.7724,\tval_loss: 1.8412\n",
      "22:\t[2s / 56s],\t\ttrain_loss: 1.7723,\tval_loss: 1.8962\n",
      "23:\t[2s / 59s],\t\ttrain_loss: 1.7711,\tval_loss: 1.9366\n",
      "24:\t[5s / 1m:4s],\t\ttrain_loss: 1.7685,\tval_loss: 1.8189\n",
      "concordance: 0.5108141328947255\n",
      "25:\t[4s / 1m:9s],\t\ttrain_loss: 1.7674,\tval_loss: 1.9919\n",
      "26:\t[2s / 1m:11s],\t\ttrain_loss: 1.7673,\tval_loss: 3.2077\n",
      "27:\t[2s / 1m:14s],\t\ttrain_loss: 1.7656,\tval_loss: 2.2886\n",
      "28:\t[2s / 1m:16s],\t\ttrain_loss: 1.7657,\tval_loss: 2.4621\n",
      "29:\t[2s / 1m:19s],\t\ttrain_loss: 1.7667,\tval_loss: 1.8894\n",
      "concordance: 0.4938917209756501\n",
      "30:\t[2s / 1m:21s],\t\ttrain_loss: 1.7631,\tval_loss: 3.4725\n",
      "31:\t[3s / 1m:24s],\t\ttrain_loss: 1.7653,\tval_loss: 2.9245\n",
      "32:\t[2s / 1m:27s],\t\ttrain_loss: 1.7618,\tval_loss: 1.9400\n",
      "33:\t[2s / 1m:30s],\t\ttrain_loss: 1.7677,\tval_loss: 1.8875\n",
      "34:\t[2s / 1m:32s],\t\ttrain_loss: 1.7578,\tval_loss: 2.0015\n",
      "Current score: 0.6095174493478012 vs. best score: 0.6153677942545297\n",
      "24/36: params: {'n_nodes': 248, 'n_layers': 5, 'dropout': 0.4, 'lr': 0.001}\n",
      "concordance: 0.5141722867070472\n",
      "0:\t[3s / 3s],\t\ttrain_loss: 1.8737,\tval_loss: 2.0409\n",
      "1:\t[2s / 6s],\t\ttrain_loss: 1.8199,\tval_loss: 6.9899\n",
      "2:\t[3s / 9s],\t\ttrain_loss: 1.8200,\tval_loss: 6.4789\n",
      "3:\t[2s / 12s],\t\ttrain_loss: 1.8129,\tval_loss: 3.1827\n",
      "4:\t[2s / 15s],\t\ttrain_loss: 1.8075,\tval_loss: 3.6004\n",
      "concordance: 0.4966900143596634\n",
      "5:\t[2s / 18s],\t\ttrain_loss: 1.8053,\tval_loss: 4.2133\n",
      "6:\t[2s / 20s],\t\ttrain_loss: 1.8012,\tval_loss: 1.8639\n",
      "7:\t[2s / 23s],\t\ttrain_loss: 1.7980,\tval_loss: 5.1252\n",
      "8:\t[2s / 25s],\t\ttrain_loss: 1.7983,\tval_loss: 2.0107\n",
      "9:\t[2s / 27s],\t\ttrain_loss: 1.7960,\tval_loss: 2.1055\n",
      "concordance: 0.4919813864060844\n",
      "10:\t[2s / 29s],\t\ttrain_loss: 1.7937,\tval_loss: 9.5421\n",
      "11:\t[3s / 33s],\t\ttrain_loss: 1.7900,\tval_loss: 1.8630\n",
      "12:\t[3s / 36s],\t\ttrain_loss: 1.7942,\tval_loss: 3.7136\n",
      "13:\t[2s / 39s],\t\ttrain_loss: 1.7853,\tval_loss: 6.6986\n",
      "14:\t[2s / 42s],\t\ttrain_loss: 1.7853,\tval_loss: 2.0999\n",
      "concordance: 0.5384873781736143\n",
      "15:\t[2s / 44s],\t\ttrain_loss: 1.7836,\tval_loss: 1.8735\n",
      "16:\t[2s / 46s],\t\ttrain_loss: 1.7861,\tval_loss: 1.8290\n",
      "17:\t[2s / 48s],\t\ttrain_loss: 1.7801,\tval_loss: 1.9726\n",
      "18:\t[2s / 50s],\t\ttrain_loss: 1.7800,\tval_loss: 4.9238\n",
      "19:\t[2s / 53s],\t\ttrain_loss: 1.7752,\tval_loss: 3.0120\n",
      "concordance: 0.5166840929529712\n",
      "20:\t[3s / 56s],\t\ttrain_loss: 1.7764,\tval_loss: 1.8727\n",
      "21:\t[3s / 59s],\t\ttrain_loss: 1.7729,\tval_loss: 2.3887\n",
      "22:\t[2s / 1m:2s],\t\ttrain_loss: 1.7753,\tval_loss: 2.1871\n",
      "23:\t[2s / 1m:4s],\t\ttrain_loss: 1.7730,\tval_loss: 2.7255\n",
      "24:\t[2s / 1m:7s],\t\ttrain_loss: 1.7729,\tval_loss: 2.1049\n",
      "concordance: 0.5287695125229681\n",
      "25:\t[2s / 1m:10s],\t\ttrain_loss: 1.7650,\tval_loss: 1.9155\n",
      "26:\t[2s / 1m:12s],\t\ttrain_loss: 1.7664,\tval_loss: 4.2518\n",
      "27:\t[2s / 1m:15s],\t\ttrain_loss: 1.7602,\tval_loss: 11.4474\n",
      "28:\t[2s / 1m:17s],\t\ttrain_loss: 1.7637,\tval_loss: 5.7800\n",
      "29:\t[2s / 1m:19s],\t\ttrain_loss: 1.7618,\tval_loss: 2.0920\n",
      "concordance: 0.5431735612721845\n",
      "30:\t[2s / 1m:22s],\t\ttrain_loss: 1.7583,\tval_loss: 1.9974\n",
      "31:\t[2s / 1m:24s],\t\ttrain_loss: 1.7564,\tval_loss: 3.5436\n",
      "Current score: 0.6065341017761741 vs. best score: 0.6153677942545297\n",
      "25/36: params: {'n_nodes': 264, 'n_layers': 4, 'dropout': 0.3, 'lr': 0.01}\n",
      "concordance: 0.49347686944206126\n",
      "0:\t[2s / 2s],\t\ttrain_loss: 1.9322,\tval_loss: 16.1416\n",
      "1:\t[2s / 4s],\t\ttrain_loss: 1.8224,\tval_loss: 9.5522\n",
      "2:\t[1s / 6s],\t\ttrain_loss: 1.7996,\tval_loss: 2.4790\n",
      "3:\t[1s / 8s],\t\ttrain_loss: 1.7897,\tval_loss: 2.1996\n",
      "4:\t[1s / 10s],\t\ttrain_loss: 1.7876,\tval_loss: 1.8895\n",
      "concordance: 0.4895873526016109\n",
      "5:\t[1s / 12s],\t\ttrain_loss: 1.7889,\tval_loss: 4.0783\n",
      "6:\t[1s / 14s],\t\ttrain_loss: 1.7882,\tval_loss: 2.4355\n",
      "7:\t[2s / 16s],\t\ttrain_loss: 1.7886,\tval_loss: 1.9051\n",
      "8:\t[1s / 18s],\t\ttrain_loss: 1.7875,\tval_loss: 3.1326\n",
      "9:\t[1s / 20s],\t\ttrain_loss: 1.7877,\tval_loss: 2.0390\n",
      "concordance: 0.49330159782148725\n",
      "10:\t[1s / 21s],\t\ttrain_loss: 1.7889,\tval_loss: 2.6255\n",
      "11:\t[1s / 23s],\t\ttrain_loss: 1.7839,\tval_loss: 3.0439\n",
      "12:\t[1s / 25s],\t\ttrain_loss: 1.7924,\tval_loss: 2.4034\n",
      "13:\t[1s / 27s],\t\ttrain_loss: 1.7829,\tval_loss: 739.8024\n",
      "14:\t[1s / 29s],\t\ttrain_loss: 1.7883,\tval_loss: 8404.9189\n"
     ]
    },
    {
     "name": "stderr",
     "output_type": "stream",
     "text": [
      "/usr/local/lib/python3.9/site-packages/pycox/models/cox.py:251: RuntimeWarning:\n",
      "\n",
      "overflow encountered in exp\n",
      "\n"
     ]
    },
    {
     "name": "stdout",
     "output_type": "stream",
     "text": [
      "concordance: 0.5022376763875586\n",
      "15:\t[2s / 31s],\t\ttrain_loss: 1.7863,\tval_loss: 17801.2422\n",
      "16:\t[2s / 33s],\t\ttrain_loss: 1.7803,\tval_loss: 2758019.2500\n",
      "17:\t[1s / 35s],\t\ttrain_loss: 1.7859,\tval_loss: 8080084.0000\n",
      "18:\t[2s / 37s],\t\ttrain_loss: 1.7833,\tval_loss: 111783.6094\n",
      "19:\t[1s / 39s],\t\ttrain_loss: 1.7797,\tval_loss: 3203719.5000\n",
      "Current score: 0.5014303109898377 vs. best score: 0.6153677942545297\n",
      "26/36: params: {'n_nodes': 264, 'n_layers': 4, 'dropout': 0.3, 'lr': 0.005}\n",
      "concordance: 0.503700879182624\n",
      "0:\t[2s / 2s],\t\ttrain_loss: 1.9037,\tval_loss: 2.3871\n",
      "1:\t[1s / 3s],\t\ttrain_loss: 1.8398,\tval_loss: 2.3965\n",
      "2:\t[1s / 5s],\t\ttrain_loss: 1.8187,\tval_loss: 12.9877\n",
      "3:\t[2s / 8s],\t\ttrain_loss: 1.7969,\tval_loss: 2.2879\n",
      "4:\t[1s / 9s],\t\ttrain_loss: 1.7903,\tval_loss: 2.5231\n",
      "concordance: 0.5181737756331593\n",
      "5:\t[2s / 12s],\t\ttrain_loss: 1.7839,\tval_loss: 3.3872\n",
      "6:\t[2s / 14s],\t\ttrain_loss: 1.7792,\tval_loss: 2.8689\n",
      "7:\t[1s / 16s],\t\ttrain_loss: 1.7775,\tval_loss: 2.9597\n",
      "8:\t[1s / 17s],\t\ttrain_loss: 1.7756,\tval_loss: 1.9435\n",
      "9:\t[1s / 19s],\t\ttrain_loss: 1.7752,\tval_loss: 2.4710\n",
      "concordance: 0.5182547284248201\n",
      "10:\t[2s / 22s],\t\ttrain_loss: 1.7720,\tval_loss: 2.0739\n",
      "11:\t[2s / 24s],\t\ttrain_loss: 1.7732,\tval_loss: 3.7168\n",
      "12:\t[1s / 26s],\t\ttrain_loss: 1.7770,\tval_loss: 2.5470\n",
      "13:\t[1s / 28s],\t\ttrain_loss: 1.7744,\tval_loss: 1.8905\n",
      "14:\t[1s / 30s],\t\ttrain_loss: 1.7720,\tval_loss: 2.6955\n",
      "concordance: 0.4946765343328103\n",
      "15:\t[1s / 31s],\t\ttrain_loss: 1.7728,\tval_loss: 3.0253\n",
      "16:\t[1s / 33s],\t\ttrain_loss: 1.7675,\tval_loss: 3.3897\n",
      "17:\t[2s / 35s],\t\ttrain_loss: 1.7626,\tval_loss: 1.8576\n",
      "18:\t[2s / 37s],\t\ttrain_loss: 1.7662,\tval_loss: 2.1384\n",
      "19:\t[1s / 39s],\t\ttrain_loss: 1.7598,\tval_loss: 2.0158\n",
      "concordance: 0.5075803084477895\n",
      "20:\t[2s / 41s],\t\ttrain_loss: 1.7652,\tval_loss: 2.4574\n",
      "21:\t[2s / 43s],\t\ttrain_loss: 1.7651,\tval_loss: 2.6537\n",
      "22:\t[1s / 45s],\t\ttrain_loss: 1.7675,\tval_loss: 15.5842\n",
      "23:\t[1s / 47s],\t\ttrain_loss: 1.7595,\tval_loss: 20.4214\n",
      "24:\t[2s / 49s],\t\ttrain_loss: 1.7625,\tval_loss: 2.1635\n",
      "concordance: 0.49228729212659705\n",
      "25:\t[1s / 51s],\t\ttrain_loss: 1.7637,\tval_loss: 3.8822\n",
      "26:\t[1s / 53s],\t\ttrain_loss: 1.7584,\tval_loss: 2.1290\n",
      "27:\t[2s / 55s],\t\ttrain_loss: 1.7587,\tval_loss: 35.4841\n",
      "28:\t[1s / 57s],\t\ttrain_loss: 1.7562,\tval_loss: 10.9035\n",
      "29:\t[1s / 59s],\t\ttrain_loss: 1.7505,\tval_loss: 31605.0449\n"
     ]
    },
    {
     "name": "stderr",
     "output_type": "stream",
     "text": [
      "/usr/local/lib/python3.9/site-packages/pycox/models/cox.py:251: RuntimeWarning:\n",
      "\n",
      "overflow encountered in exp\n",
      "\n"
     ]
    },
    {
     "name": "stdout",
     "output_type": "stream",
     "text": [
      "concordance: 0.501364344557274\n",
      "30:\t[2s / 1m:1s],\t\ttrain_loss: 1.7560,\tval_loss: 14540.1543\n",
      "31:\t[1s / 1m:3s],\t\ttrain_loss: 1.7541,\tval_loss: 2.0420\n",
      "32:\t[1s / 1m:5s],\t\ttrain_loss: 1.7503,\tval_loss: 17.5307\n",
      "Current score: 0.5505562497609242 vs. best score: 0.6153677942545297\n",
      "27/36: params: {'n_nodes': 264, 'n_layers': 4, 'dropout': 0.3, 'lr': 0.001}\n",
      "concordance: 0.5186340212555299\n",
      "0:\t[2s / 2s],\t\ttrain_loss: 1.8610,\tval_loss: 3.2563\n",
      "1:\t[2s / 4s],\t\ttrain_loss: 1.8117,\tval_loss: 10.5630\n",
      "2:\t[2s / 6s],\t\ttrain_loss: 1.8064,\tval_loss: 2.5651\n",
      "3:\t[2s / 8s],\t\ttrain_loss: 1.8034,\tval_loss: 1.8671\n",
      "4:\t[1s / 10s],\t\ttrain_loss: 1.7971,\tval_loss: 1.8889\n",
      "concordance: 0.5083832794404624\n",
      "5:\t[2s / 12s],\t\ttrain_loss: 1.7932,\tval_loss: 6.1845\n",
      "6:\t[2s / 14s],\t\ttrain_loss: 1.7865,\tval_loss: 2.8487\n",
      "7:\t[2s / 16s],\t\ttrain_loss: 1.7899,\tval_loss: 3.9920\n",
      "8:\t[2s / 18s],\t\ttrain_loss: 1.7871,\tval_loss: 6.5476\n",
      "9:\t[2s / 20s],\t\ttrain_loss: 1.7872,\tval_loss: 3.1547\n",
      "concordance: 0.5143571415241418\n",
      "10:\t[1s / 22s],\t\ttrain_loss: 1.7759,\tval_loss: 3.2863\n",
      "11:\t[1s / 24s],\t\ttrain_loss: 1.7770,\tval_loss: 5.8841\n",
      "12:\t[1s / 25s],\t\ttrain_loss: 1.7709,\tval_loss: 1.9039\n",
      "13:\t[1s / 27s],\t\ttrain_loss: 1.7735,\tval_loss: 2.2694\n",
      "14:\t[1s / 29s],\t\ttrain_loss: 1.7711,\tval_loss: 2.3350\n",
      "concordance: 0.5169892421053375\n",
      "15:\t[1s / 31s],\t\ttrain_loss: 1.7703,\tval_loss: 2.9481\n",
      "16:\t[1s / 33s],\t\ttrain_loss: 1.7681,\tval_loss: 3.1881\n",
      "17:\t[1s / 34s],\t\ttrain_loss: 1.7634,\tval_loss: 3.9661\n",
      "18:\t[1s / 36s],\t\ttrain_loss: 1.7642,\tval_loss: 2.3003\n",
      "Current score: 0.5814642916342586 vs. best score: 0.6153677942545297\n",
      "28/36: params: {'n_nodes': 264, 'n_layers': 4, 'dropout': 0.4, 'lr': 0.01}\n",
      "concordance: 0.508570151772614\n",
      "0:\t[3s / 3s],\t\ttrain_loss: 1.9643,\tval_loss: 1.9251\n",
      "1:\t[2s / 5s],\t\ttrain_loss: 1.8324,\tval_loss: 2.4679\n",
      "2:\t[2s / 7s],\t\ttrain_loss: 1.8075,\tval_loss: 2.1239\n",
      "3:\t[2s / 9s],\t\ttrain_loss: 1.7973,\tval_loss: 1.8474\n",
      "4:\t[2s / 12s],\t\ttrain_loss: 1.7960,\tval_loss: 1.8665\n",
      "concordance: 0.4854247146603236\n",
      "5:\t[2s / 14s],\t\ttrain_loss: 1.7959,\tval_loss: 2.1464\n",
      "6:\t[2s / 16s],\t\ttrain_loss: 1.7964,\tval_loss: 4.0893\n",
      "7:\t[2s / 18s],\t\ttrain_loss: 1.7932,\tval_loss: 2.8490\n",
      "8:\t[2s / 20s],\t\ttrain_loss: 1.7982,\tval_loss: 2.0737\n",
      "9:\t[2s / 23s],\t\ttrain_loss: 1.8001,\tval_loss: 11.2853\n",
      "concordance: 0.490989525566203\n",
      "10:\t[2s / 25s],\t\ttrain_loss: 1.7980,\tval_loss: 2.4819\n",
      "11:\t[2s / 27s],\t\ttrain_loss: 1.7962,\tval_loss: 2.0562\n",
      "12:\t[1s / 29s],\t\ttrain_loss: 1.7924,\tval_loss: 2167.7517\n",
      "13:\t[1s / 31s],\t\ttrain_loss: 1.7965,\tval_loss: 7.1836\n",
      "14:\t[1s / 33s],\t\ttrain_loss: 1.7926,\tval_loss: 28.5125\n",
      "concordance: 0.49354924779473\n",
      "15:\t[1s / 35s],\t\ttrain_loss: 1.7908,\tval_loss: 8.0638\n",
      "16:\t[1s / 36s],\t\ttrain_loss: 1.7964,\tval_loss: 13.7219\n",
      "17:\t[1s / 38s],\t\ttrain_loss: 1.7911,\tval_loss: 1048.9987\n",
      "18:\t[1s / 40s],\t\ttrain_loss: 1.7946,\tval_loss: 2986.3296\n",
      "Current score: 0.5760720160148929 vs. best score: 0.6153677942545297\n",
      "29/36: params: {'n_nodes': 264, 'n_layers': 4, 'dropout': 0.4, 'lr': 0.005}\n",
      "concordance: 0.5068484548608747\n",
      "0:\t[1s / 1s],\t\ttrain_loss: 1.9094,\tval_loss: 11.9818\n",
      "1:\t[2s / 4s],\t\ttrain_loss: 1.8472,\tval_loss: 2.9463\n",
      "2:\t[1s / 5s],\t\ttrain_loss: 1.8163,\tval_loss: 7.7551\n",
      "3:\t[2s / 8s],\t\ttrain_loss: 1.8037,\tval_loss: 8.2723\n",
      "4:\t[1s / 10s],\t\ttrain_loss: 1.7927,\tval_loss: 2.1878\n",
      "concordance: 0.5082685332715974\n",
      "5:\t[2s / 12s],\t\ttrain_loss: 1.7868,\tval_loss: 2.1474\n",
      "6:\t[1s / 14s],\t\ttrain_loss: 1.7843,\tval_loss: 2.3575\n",
      "7:\t[1s / 16s],\t\ttrain_loss: 1.7853,\tval_loss: 9.1361\n",
      "8:\t[1s / 18s],\t\ttrain_loss: 1.7798,\tval_loss: 7.5796\n",
      "9:\t[1s / 19s],\t\ttrain_loss: 1.7801,\tval_loss: 6.8241\n",
      "concordance: 0.49317146810031287\n",
      "10:\t[2s / 22s],\t\ttrain_loss: 1.7803,\tval_loss: 2.5165\n",
      "11:\t[1s / 23s],\t\ttrain_loss: 1.7785,\tval_loss: 1.9329\n",
      "12:\t[1s / 25s],\t\ttrain_loss: 1.7786,\tval_loss: 2.3189\n",
      "13:\t[1s / 27s],\t\ttrain_loss: 1.7750,\tval_loss: 1.9863\n",
      "14:\t[1s / 29s],\t\ttrain_loss: 1.7763,\tval_loss: 3.0418\n",
      "concordance: 0.4942213324980821\n",
      "15:\t[1s / 31s],\t\ttrain_loss: 1.7782,\tval_loss: 1.9679\n",
      "16:\t[1s / 32s],\t\ttrain_loss: 1.7748,\tval_loss: 1.8609\n",
      "17:\t[1s / 34s],\t\ttrain_loss: 1.7740,\tval_loss: 2.0643\n",
      "18:\t[1s / 36s],\t\ttrain_loss: 1.7720,\tval_loss: 1.8226\n",
      "19:\t[1s / 38s],\t\ttrain_loss: 1.7733,\tval_loss: 1.9491\n",
      "concordance: 0.5082798817937928\n",
      "20:\t[1s / 39s],\t\ttrain_loss: 1.7704,\tval_loss: 3.1038\n",
      "21:\t[2s / 42s],\t\ttrain_loss: 1.7663,\tval_loss: 2.3166\n",
      "22:\t[2s / 44s],\t\ttrain_loss: 1.7692,\tval_loss: 2.6357\n",
      "23:\t[1s / 45s],\t\ttrain_loss: 1.7680,\tval_loss: 1.8308\n",
      "24:\t[1s / 47s],\t\ttrain_loss: 1.7646,\tval_loss: 1.9359\n",
      "concordance: 0.5146181575346369\n",
      "25:\t[1s / 49s],\t\ttrain_loss: 1.7685,\tval_loss: 2.0340\n",
      "26:\t[1s / 51s],\t\ttrain_loss: 1.7675,\tval_loss: 1.8168\n",
      "27:\t[1s / 52s],\t\ttrain_loss: 1.7681,\tval_loss: 2.0213\n",
      "28:\t[1s / 54s],\t\ttrain_loss: 1.7615,\tval_loss: 1.8913\n",
      "29:\t[1s / 56s],\t\ttrain_loss: 1.7643,\tval_loss: 1.9700\n",
      "concordance: 0.5104065948532183\n",
      "30:\t[1s / 58s],\t\ttrain_loss: 1.7624,\tval_loss: 2.5237\n",
      "31:\t[1s / 59s],\t\ttrain_loss: 1.7592,\tval_loss: 2.7042\n",
      "32:\t[1s / 1m:1s],\t\ttrain_loss: 1.7661,\tval_loss: 1.9517\n",
      "33:\t[1s / 1m:3s],\t\ttrain_loss: 1.7618,\tval_loss: 2746.7698\n",
      "34:\t[1s / 1m:5s],\t\ttrain_loss: 1.7569,\tval_loss: 2.8451\n",
      "concordance: 0.4954013266170257\n",
      "35:\t[1s / 1m:6s],\t\ttrain_loss: 1.7615,\tval_loss: 272.6965\n",
      "36:\t[1s / 1m:8s],\t\ttrain_loss: 1.7631,\tval_loss: 98.1712\n",
      "37:\t[1s / 1m:10s],\t\ttrain_loss: 1.7596,\tval_loss: 332.0633\n",
      "38:\t[1s / 1m:12s],\t\ttrain_loss: 1.7550,\tval_loss: 1.8636\n",
      "39:\t[1s / 1m:13s],\t\ttrain_loss: 1.7563,\tval_loss: 2.0353\n",
      "concordance: 0.514920784793182\n",
      "40:\t[1s / 1m:15s],\t\ttrain_loss: 1.7552,\tval_loss: 1.8551\n",
      "41:\t[1s / 1m:17s],\t\ttrain_loss: 1.7508,\tval_loss: 4.4940\n",
      "Current score: 0.6097004220485293 vs. best score: 0.6153677942545297\n",
      "30/36: params: {'n_nodes': 264, 'n_layers': 4, 'dropout': 0.4, 'lr': 0.001}\n",
      "concordance: 0.49108434877388046\n",
      "0:\t[1s / 1s],\t\ttrain_loss: 1.8774,\tval_loss: 10.5170\n",
      "1:\t[1s / 3s],\t\ttrain_loss: 1.8189,\tval_loss: 9.6558\n",
      "2:\t[1s / 5s],\t\ttrain_loss: 1.8104,\tval_loss: 1.8319\n",
      "3:\t[1s / 7s],\t\ttrain_loss: 1.8060,\tval_loss: 2.0696\n",
      "4:\t[1s / 8s],\t\ttrain_loss: 1.8015,\tval_loss: 4.5719\n",
      "concordance: 0.5106678630530954\n",
      "5:\t[1s / 10s],\t\ttrain_loss: 1.8006,\tval_loss: 2.1524\n",
      "6:\t[1s / 12s],\t\ttrain_loss: 1.7999,\tval_loss: 2.6341\n",
      "7:\t[1s / 14s],\t\ttrain_loss: 1.7983,\tval_loss: 1.8818\n",
      "8:\t[1s / 15s],\t\ttrain_loss: 1.7957,\tval_loss: 2.9165\n",
      "9:\t[1s / 17s],\t\ttrain_loss: 1.7905,\tval_loss: 3.8461\n",
      "concordance: 0.4925815971355321\n",
      "10:\t[1s / 19s],\t\ttrain_loss: 1.7941,\tval_loss: 2.3696\n",
      "11:\t[1s / 21s],\t\ttrain_loss: 1.7872,\tval_loss: 3.4702\n",
      "12:\t[1s / 22s],\t\ttrain_loss: 1.7866,\tval_loss: 3.6054\n",
      "13:\t[1s / 24s],\t\ttrain_loss: 1.7875,\tval_loss: 3.4210\n",
      "14:\t[2s / 26s],\t\ttrain_loss: 1.7805,\tval_loss: 2.2979\n",
      "concordance: 0.4948641632331082\n",
      "15:\t[2s / 28s],\t\ttrain_loss: 1.7780,\tval_loss: 4.0342\n",
      "16:\t[1s / 30s],\t\ttrain_loss: 1.7753,\tval_loss: 1.8185\n",
      "17:\t[1s / 32s],\t\ttrain_loss: 1.7754,\tval_loss: 1.8962\n",
      "18:\t[1s / 34s],\t\ttrain_loss: 1.7759,\tval_loss: 1.8486\n",
      "19:\t[1s / 36s],\t\ttrain_loss: 1.7683,\tval_loss: 8.4249\n",
      "concordance: 0.49093833112163243\n",
      "20:\t[2s / 38s],\t\ttrain_loss: 1.7756,\tval_loss: 9.2700\n",
      "21:\t[2s / 40s],\t\ttrain_loss: 1.7743,\tval_loss: 4.2409\n",
      "22:\t[2s / 42s],\t\ttrain_loss: 1.7681,\tval_loss: 4.1681\n",
      "23:\t[1s / 44s],\t\ttrain_loss: 1.7632,\tval_loss: 2.0229\n",
      "24:\t[1s / 46s],\t\ttrain_loss: 1.7636,\tval_loss: 4.5482\n",
      "concordance: 0.493223923491794\n",
      "25:\t[1s / 47s],\t\ttrain_loss: 1.7601,\tval_loss: 5.2335\n",
      "26:\t[2s / 50s],\t\ttrain_loss: 1.7681,\tval_loss: 3.0559\n",
      "27:\t[1s / 52s],\t\ttrain_loss: 1.7613,\tval_loss: 2.4248\n",
      "28:\t[1s / 54s],\t\ttrain_loss: 1.7648,\tval_loss: 8.2255\n",
      "29:\t[1s / 56s],\t\ttrain_loss: 1.7545,\tval_loss: 3.4661\n",
      "concordance: 0.5148355447820252\n",
      "30:\t[2s / 58s],\t\ttrain_loss: 1.7597,\tval_loss: 1.9896\n",
      "31:\t[2s / 1m:0s],\t\ttrain_loss: 1.7550,\tval_loss: 3.8010\n",
      "Current score: 0.5959535619110765 vs. best score: 0.6153677942545297\n",
      "31/36: params: {'n_nodes': 264, 'n_layers': 5, 'dropout': 0.3, 'lr': 0.01}\n",
      "concordance: 0.5057241945953798\n",
      "0:\t[2s / 2s],\t\ttrain_loss: 1.9409,\tval_loss: 8.1266\n",
      "1:\t[2s / 5s],\t\ttrain_loss: 1.8294,\tval_loss: 5.2609\n",
      "2:\t[2s / 7s],\t\ttrain_loss: 1.8022,\tval_loss: 7.6767\n",
      "3:\t[2s / 10s],\t\ttrain_loss: 1.7928,\tval_loss: 4.4590\n",
      "4:\t[2s / 12s],\t\ttrain_loss: 1.7926,\tval_loss: 4.7025\n",
      "concordance: 0.5137511304389054\n",
      "5:\t[2s / 15s],\t\ttrain_loss: 1.7920,\tval_loss: 1.8428\n",
      "6:\t[2s / 17s],\t\ttrain_loss: 1.7904,\tval_loss: 2.3484\n",
      "7:\t[2s / 20s],\t\ttrain_loss: 1.7914,\tval_loss: 2.3825\n"
     ]
    },
    {
     "name": "stdout",
     "output_type": "stream",
     "text": [
      "8:\t[2s / 22s],\t\ttrain_loss: 1.7961,\tval_loss: 1.9359\n",
      "9:\t[2s / 24s],\t\ttrain_loss: 1.7932,\tval_loss: 1.8166\n",
      "concordance: 0.5127736443938048\n",
      "10:\t[2s / 27s],\t\ttrain_loss: 1.7920,\tval_loss: 1.8209\n",
      "11:\t[2s / 29s],\t\ttrain_loss: 1.7911,\tval_loss: 1.8338\n",
      "12:\t[2s / 32s],\t\ttrain_loss: 1.7911,\tval_loss: 97.1710\n",
      "13:\t[2s / 34s],\t\ttrain_loss: 1.7891,\tval_loss: 2.3481\n",
      "14:\t[2s / 37s],\t\ttrain_loss: 1.7823,\tval_loss: 6705097.5000\n"
     ]
    },
    {
     "name": "stderr",
     "output_type": "stream",
     "text": [
      "/usr/local/lib/python3.9/site-packages/pycox/models/cox.py:231: RuntimeWarning:\n",
      "\n",
      "overflow encountered in exp\n",
      "\n"
     ]
    },
    {
     "name": "stdout",
     "output_type": "stream",
     "text": [
      "concordance: 0.5001954467711437\n",
      "15:\t[2s / 39s],\t\ttrain_loss: 1.7875,\tval_loss: 10973593.0000\n",
      "16:\t[2s / 42s],\t\ttrain_loss: 1.7894,\tval_loss: 563302.3750\n",
      "17:\t[2s / 45s],\t\ttrain_loss: 1.7852,\tval_loss: 640.6959\n",
      "18:\t[2s / 47s],\t\ttrain_loss: 1.7814,\tval_loss: 1328.6193\n",
      "19:\t[2s / 50s],\t\ttrain_loss: 1.7804,\tval_loss: 84.3618\n",
      "concordance: 0.5013577876333388\n",
      "20:\t[2s / 52s],\t\ttrain_loss: 1.7865,\tval_loss: 923.4852\n",
      "21:\t[2s / 54s],\t\ttrain_loss: 1.7795,\tval_loss: 224336.1094\n",
      "22:\t[2s / 57s],\t\ttrain_loss: 1.7796,\tval_loss: 1585286.6250\n",
      "23:\t[2s / 59s],\t\ttrain_loss: 1.7785,\tval_loss: 3308414.7500\n",
      "24:\t[2s / 1m:1s],\t\ttrain_loss: 1.7788,\tval_loss: 393131.8750\n",
      "Current score: 0.602295765488926 vs. best score: 0.6153677942545297\n",
      "32/36: params: {'n_nodes': 264, 'n_layers': 5, 'dropout': 0.3, 'lr': 0.005}\n",
      "concordance: 0.4889629316914796\n",
      "0:\t[2s / 2s],\t\ttrain_loss: 1.9032,\tval_loss: 12.1491\n",
      "1:\t[2s / 5s],\t\ttrain_loss: 1.8476,\tval_loss: 1.8649\n",
      "2:\t[2s / 7s],\t\ttrain_loss: 1.8157,\tval_loss: 3.2992\n",
      "3:\t[2s / 9s],\t\ttrain_loss: 1.8011,\tval_loss: 2.0207\n",
      "4:\t[2s / 11s],\t\ttrain_loss: 1.7930,\tval_loss: 1.8973\n",
      "concordance: 0.49324157674854247\n",
      "5:\t[2s / 14s],\t\ttrain_loss: 1.7806,\tval_loss: 2.3987\n",
      "6:\t[2s / 16s],\t\ttrain_loss: 1.7829,\tval_loss: 2.2044\n",
      "7:\t[2s / 18s],\t\ttrain_loss: 1.7785,\tval_loss: 3.3228\n",
      "8:\t[2s / 21s],\t\ttrain_loss: 1.7792,\tval_loss: 2.0510\n",
      "9:\t[3s / 24s],\t\ttrain_loss: 1.7770,\tval_loss: 2.1728\n",
      "concordance: 0.49457591076934404\n",
      "10:\t[2s / 26s],\t\ttrain_loss: 1.7768,\tval_loss: 3.6108\n",
      "11:\t[2s / 29s],\t\ttrain_loss: 1.7790,\tval_loss: 2.8068\n",
      "12:\t[2s / 32s],\t\ttrain_loss: 1.7777,\tval_loss: 4.0837\n",
      "13:\t[2s / 35s],\t\ttrain_loss: 1.7772,\tval_loss: 1.9310\n",
      "14:\t[2s / 37s],\t\ttrain_loss: 1.7767,\tval_loss: 2.1205\n",
      "concordance: 0.5016379700368752\n",
      "15:\t[2s / 39s],\t\ttrain_loss: 1.7756,\tval_loss: 1.9314\n",
      "16:\t[2s / 42s],\t\ttrain_loss: 1.7753,\tval_loss: 2.5314\n",
      "Current score: 0.560119601667793 vs. best score: 0.6153677942545297\n",
      "33/36: params: {'n_nodes': 264, 'n_layers': 5, 'dropout': 0.3, 'lr': 0.001}\n",
      "concordance: 0.5033664760619316\n",
      "0:\t[2s / 2s],\t\ttrain_loss: 1.8690,\tval_loss: 2.7554\n",
      "1:\t[2s / 4s],\t\ttrain_loss: 1.8207,\tval_loss: 1.9723\n",
      "2:\t[2s / 7s],\t\ttrain_loss: 1.8062,\tval_loss: 3.7693\n",
      "3:\t[2s / 9s],\t\ttrain_loss: 1.8065,\tval_loss: 2.3560\n",
      "4:\t[2s / 12s],\t\ttrain_loss: 1.8032,\tval_loss: 2.9635\n",
      "concordance: 0.48617169961016565\n",
      "5:\t[2s / 14s],\t\ttrain_loss: 1.7988,\tval_loss: 3.1675\n",
      "6:\t[2s / 16s],\t\ttrain_loss: 1.7957,\tval_loss: 1.9253\n",
      "7:\t[2s / 18s],\t\ttrain_loss: 1.7922,\tval_loss: 1.8365\n",
      "8:\t[2s / 21s],\t\ttrain_loss: 1.7885,\tval_loss: 3.4322\n",
      "9:\t[2s / 23s],\t\ttrain_loss: 1.7898,\tval_loss: 2.4795\n",
      "concordance: 0.49440870920899793\n",
      "10:\t[2s / 26s],\t\ttrain_loss: 1.7855,\tval_loss: 2.4012\n",
      "11:\t[2s / 29s],\t\ttrain_loss: 1.7784,\tval_loss: 2.8634\n",
      "12:\t[2s / 31s],\t\ttrain_loss: 1.7763,\tval_loss: 2.1290\n",
      "13:\t[2s / 33s],\t\ttrain_loss: 1.7797,\tval_loss: 3.3965\n",
      "14:\t[2s / 36s],\t\ttrain_loss: 1.7756,\tval_loss: 4.9463\n",
      "concordance: 0.4911569793159313\n",
      "15:\t[2s / 39s],\t\ttrain_loss: 1.7767,\tval_loss: 4.2436\n",
      "16:\t[2s / 41s],\t\ttrain_loss: 1.7701,\tval_loss: 2.6047\n",
      "17:\t[2s / 44s],\t\ttrain_loss: 1.7708,\tval_loss: 2.2359\n",
      "18:\t[2s / 47s],\t\ttrain_loss: 1.7646,\tval_loss: 2.0934\n",
      "19:\t[2s / 49s],\t\ttrain_loss: 1.7637,\tval_loss: 3.8028\n",
      "concordance: 0.5101185945788361\n",
      "20:\t[2s / 52s],\t\ttrain_loss: 1.7614,\tval_loss: 9.0163\n",
      "21:\t[2s / 55s],\t\ttrain_loss: 1.7616,\tval_loss: 3.4908\n",
      "22:\t[2s / 58s],\t\ttrain_loss: 1.7590,\tval_loss: 1.9370\n",
      "Current score: 0.5917923674244839 vs. best score: 0.6153677942545297\n",
      "34/36: params: {'n_nodes': 264, 'n_layers': 5, 'dropout': 0.4, 'lr': 0.01}\n",
      "concordance: 0.4912280967216893\n",
      "0:\t[2s / 2s],\t\ttrain_loss: 1.9642,\tval_loss: 3.6574\n",
      "1:\t[2s / 5s],\t\ttrain_loss: 1.8291,\tval_loss: 1.8479\n",
      "2:\t[2s / 7s],\t\ttrain_loss: 1.8013,\tval_loss: 1.8720\n",
      "3:\t[2s / 10s],\t\ttrain_loss: 1.7954,\tval_loss: 2.2157\n",
      "4:\t[2s / 12s],\t\ttrain_loss: 1.7940,\tval_loss: 1.9224\n",
      "concordance: 0.5002499196776818\n",
      "5:\t[2s / 14s],\t\ttrain_loss: 1.7949,\tval_loss: 1.8318\n",
      "6:\t[2s / 17s],\t\ttrain_loss: 1.7973,\tval_loss: 2.0331\n",
      "7:\t[2s / 19s],\t\ttrain_loss: 1.7967,\tval_loss: 3.7355\n",
      "8:\t[2s / 22s],\t\ttrain_loss: 1.8001,\tval_loss: 1.8206\n",
      "9:\t[2s / 24s],\t\ttrain_loss: 1.8028,\tval_loss: 2.3923\n",
      "concordance: 0.5152239164304913\n",
      "10:\t[2s / 26s],\t\ttrain_loss: 1.8015,\tval_loss: 1.8798\n",
      "11:\t[2s / 28s],\t\ttrain_loss: 1.7968,\tval_loss: 1.8215\n",
      "12:\t[2s / 31s],\t\ttrain_loss: 1.7973,\tval_loss: 1.8395\n",
      "13:\t[2s / 33s],\t\ttrain_loss: 1.7972,\tval_loss: 2.3984\n",
      "14:\t[2s / 35s],\t\ttrain_loss: 1.7947,\tval_loss: 2.1497\n"
     ]
    },
    {
     "name": "stderr",
     "output_type": "stream",
     "text": [
      "/usr/local/lib/python3.9/site-packages/pycox/models/cox.py:251: RuntimeWarning:\n",
      "\n",
      "overflow encountered in exp\n",
      "\n"
     ]
    },
    {
     "name": "stdout",
     "output_type": "stream",
     "text": [
      "concordance: 0.49496251709213535\n",
      "15:\t[2s / 37s],\t\ttrain_loss: 1.7980,\tval_loss: 3.6090\n",
      "16:\t[2s / 39s],\t\ttrain_loss: 1.7937,\tval_loss: 9.0001\n",
      "17:\t[2s / 41s],\t\ttrain_loss: 1.7888,\tval_loss: 2300.5085\n",
      "18:\t[2s / 44s],\t\ttrain_loss: 1.7896,\tval_loss: 169.1670\n",
      "19:\t[2s / 46s],\t\ttrain_loss: 1.7958,\tval_loss: 3.3558\n"
     ]
    },
    {
     "name": "stderr",
     "output_type": "stream",
     "text": [
      "/usr/local/lib/python3.9/site-packages/pycox/models/cox.py:231: RuntimeWarning:\n",
      "\n",
      "overflow encountered in exp\n",
      "\n",
      "/usr/local/lib/python3.9/site-packages/pycox/models/cox.py:251: RuntimeWarning:\n",
      "\n",
      "overflow encountered in exp\n",
      "\n"
     ]
    },
    {
     "name": "stdout",
     "output_type": "stream",
     "text": [
      "concordance: 0.03136630659066687\n",
      "20:\t[2s / 48s],\t\ttrain_loss: 1.7940,\tval_loss: 662208.3750\n",
      "21:\t[2s / 50s],\t\ttrain_loss: 1.7922,\tval_loss: 638140.8750\n",
      "22:\t[2s / 52s],\t\ttrain_loss: 1.7888,\tval_loss: 8147.6050\n",
      "23:\t[2s / 55s],\t\ttrain_loss: 1.7915,\tval_loss: 5797.0415\n",
      "Current score: 0.503055707855713 vs. best score: 0.6153677942545297\n",
      "35/36: params: {'n_nodes': 264, 'n_layers': 5, 'dropout': 0.4, 'lr': 0.005}\n",
      "concordance: 0.506300447333526\n",
      "0:\t[2s / 2s],\t\ttrain_loss: 1.9151,\tval_loss: 12.8083\n",
      "1:\t[2s / 4s],\t\ttrain_loss: 1.8574,\tval_loss: 4.1540\n",
      "2:\t[2s / 6s],\t\ttrain_loss: 1.8250,\tval_loss: 1.8475\n",
      "3:\t[2s / 8s],\t\ttrain_loss: 1.8035,\tval_loss: 3.5549\n",
      "4:\t[2s / 10s],\t\ttrain_loss: 1.7969,\tval_loss: 2.0482\n",
      "concordance: 0.4912094347074124\n",
      "5:\t[2s / 12s],\t\ttrain_loss: 1.7891,\tval_loss: 2.9268\n",
      "6:\t[2s / 14s],\t\ttrain_loss: 1.7842,\tval_loss: 2.9816\n",
      "7:\t[2s / 16s],\t\ttrain_loss: 1.7845,\tval_loss: 2.2286\n",
      "8:\t[2s / 18s],\t\ttrain_loss: 1.7855,\tval_loss: 2.1228\n",
      "9:\t[2s / 20s],\t\ttrain_loss: 1.7827,\tval_loss: 2.0713\n",
      "concordance: 0.49655988463848905\n",
      "10:\t[2s / 23s],\t\ttrain_loss: 1.7809,\tval_loss: 1.8933\n",
      "11:\t[2s / 25s],\t\ttrain_loss: 1.7834,\tval_loss: 3.1818\n",
      "12:\t[2s / 27s],\t\ttrain_loss: 1.7839,\tval_loss: 1.9484\n",
      "13:\t[2s / 29s],\t\ttrain_loss: 1.7817,\tval_loss: 1.9666\n",
      "14:\t[2s / 31s],\t\ttrain_loss: 1.7757,\tval_loss: 1.8459\n",
      "concordance: 0.5119926138773765\n",
      "15:\t[2s / 33s],\t\ttrain_loss: 1.7803,\tval_loss: 1.8446\n",
      "16:\t[2s / 35s],\t\ttrain_loss: 1.7788,\tval_loss: 1.8371\n",
      "17:\t[2s / 37s],\t\ttrain_loss: 1.7733,\tval_loss: 1.8348\n",
      "18:\t[2s / 39s],\t\ttrain_loss: 1.7729,\tval_loss: 1.8378\n",
      "19:\t[2s / 41s],\t\ttrain_loss: 1.7749,\tval_loss: 1.8775\n",
      "concordance: 0.5280522859202164\n",
      "20:\t[2s / 43s],\t\ttrain_loss: 1.7716,\tval_loss: 2.0637\n",
      "21:\t[2s / 45s],\t\ttrain_loss: 1.7709,\tval_loss: 1.8179\n",
      "22:\t[2s / 48s],\t\ttrain_loss: 1.7695,\tval_loss: 2.2164\n",
      "23:\t[2s / 50s],\t\ttrain_loss: 1.7686,\tval_loss: 1.8227\n",
      "24:\t[2s / 52s],\t\ttrain_loss: 1.7703,\tval_loss: 1.8480\n",
      "concordance: 0.508645304208486\n",
      "25:\t[2s / 55s],\t\ttrain_loss: 1.7698,\tval_loss: 1.8930\n",
      "26:\t[2s / 57s],\t\ttrain_loss: 1.7709,\tval_loss: 1.8466\n",
      "27:\t[2s / 59s],\t\ttrain_loss: 1.7682,\tval_loss: 2.2090\n",
      "28:\t[2s / 1m:1s],\t\ttrain_loss: 1.7645,\tval_loss: 1.8439\n",
      "29:\t[2s / 1m:3s],\t\ttrain_loss: 1.7616,\tval_loss: 1.8816\n",
      "concordance: 0.5115578393826\n",
      "30:\t[2s / 1m:5s],\t\ttrain_loss: 1.7673,\tval_loss: 2.2678\n",
      "31:\t[2s / 1m:7s],\t\ttrain_loss: 1.7628,\tval_loss: 1.9520\n",
      "32:\t[2s / 1m:10s],\t\ttrain_loss: 1.7658,\tval_loss: 1.8514\n",
      "33:\t[2s / 1m:12s],\t\ttrain_loss: 1.7665,\tval_loss: 1.8417\n",
      "34:\t[2s / 1m:14s],\t\ttrain_loss: 1.7678,\tval_loss: 2.0165\n",
      "concordance: 0.5191772371846183\n",
      "35:\t[2s / 1m:16s],\t\ttrain_loss: 1.7669,\tval_loss: 1.9107\n",
      "36:\t[2s / 1m:18s],\t\ttrain_loss: 1.7635,\tval_loss: 2.1905\n",
      "Current score: 0.6068063294528669 vs. best score: 0.6153677942545297\n",
      "36/36: params: {'n_nodes': 264, 'n_layers': 5, 'dropout': 0.4, 'lr': 0.001}\n",
      "concordance: 0.4899699238942883\n",
      "0:\t[2s / 2s],\t\ttrain_loss: 1.8773,\tval_loss: 6.7500\n",
      "1:\t[2s / 4s],\t\ttrain_loss: 1.8143,\tval_loss: 1.8825\n",
      "2:\t[2s / 6s],\t\ttrain_loss: 1.8163,\tval_loss: 3.9666\n",
      "3:\t[2s / 8s],\t\ttrain_loss: 1.8094,\tval_loss: 3.4432\n",
      "4:\t[2s / 10s],\t\ttrain_loss: 1.8057,\tval_loss: 4.0828\n",
      "concordance: 0.5155903476027129\n",
      "5:\t[2s / 12s],\t\ttrain_loss: 1.8049,\tval_loss: 3.4702\n",
      "6:\t[2s / 14s],\t\ttrain_loss: 1.8034,\tval_loss: 4.1919\n",
      "7:\t[2s / 16s],\t\ttrain_loss: 1.7992,\tval_loss: 2.8015\n",
      "8:\t[2s / 18s],\t\ttrain_loss: 1.7958,\tval_loss: 1.9592\n",
      "9:\t[2s / 20s],\t\ttrain_loss: 1.7961,\tval_loss: 2.9815\n",
      "concordance: 0.4948414661887173\n",
      "10:\t[2s / 23s],\t\ttrain_loss: 1.7929,\tval_loss: 3.6445\n",
      "11:\t[2s / 25s],\t\ttrain_loss: 1.7952,\tval_loss: 4.8443\n",
      "12:\t[2s / 27s],\t\ttrain_loss: 1.7904,\tval_loss: 3.9210\n",
      "13:\t[2s / 29s],\t\ttrain_loss: 1.7859,\tval_loss: 5.1829\n",
      "14:\t[2s / 31s],\t\ttrain_loss: 1.7804,\tval_loss: 4.4026\n",
      "concordance: 0.49769498904741516\n",
      "15:\t[2s / 33s],\t\ttrain_loss: 1.7885,\tval_loss: 2.7321\n",
      "16:\t[2s / 36s],\t\ttrain_loss: 1.7783,\tval_loss: 5.5334\n",
      "Current score: 0.5816077371313451 vs. best score: 0.6153677942545297\n"
     ]
    }
   ],
   "source": [
    "grid_params = {\n",
    "    \"n_nodes\" :[232, 248, 264],\n",
    "    \"n_layers\" :[4, 5],\n",
    "    \"dropout\" :[0.3, 0.4],\n",
    "    \"lr\" :[0.01, 0.005, 0.001]\n",
    "}\n",
    "\n",
    "best_model, table = grid_search_deep(train, val, test, 1, grid_params, CoxPH)"
   ]
  },
  {
   "cell_type": "code",
   "execution_count": 52,
   "id": "928b840f",
   "metadata": {
    "scrolled": true
   },
   "outputs": [
    {
     "data": {
      "text/html": [
       "<div>\n",
       "<style scoped>\n",
       "    .dataframe tbody tr th:only-of-type {\n",
       "        vertical-align: middle;\n",
       "    }\n",
       "\n",
       "    .dataframe tbody tr th {\n",
       "        vertical-align: top;\n",
       "    }\n",
       "\n",
       "    .dataframe thead th {\n",
       "        text-align: right;\n",
       "    }\n",
       "</style>\n",
       "<table border=\"1\" class=\"dataframe\">\n",
       "  <thead>\n",
       "    <tr style=\"text-align: right;\">\n",
       "      <th></th>\n",
       "      <th>n_nodes</th>\n",
       "      <th>n_layers</th>\n",
       "      <th>dropout</th>\n",
       "      <th>lr</th>\n",
       "      <th>score</th>\n",
       "    </tr>\n",
       "  </thead>\n",
       "  <tbody>\n",
       "    <tr>\n",
       "      <th>10</th>\n",
       "      <td>232</td>\n",
       "      <td>5</td>\n",
       "      <td>0.4</td>\n",
       "      <td>0.005</td>\n",
       "      <td>0.615368</td>\n",
       "    </tr>\n",
       "    <tr>\n",
       "      <th>1</th>\n",
       "      <td>232</td>\n",
       "      <td>4</td>\n",
       "      <td>0.3</td>\n",
       "      <td>0.005</td>\n",
       "      <td>0.609932</td>\n",
       "    </tr>\n",
       "    <tr>\n",
       "      <th>28</th>\n",
       "      <td>264</td>\n",
       "      <td>4</td>\n",
       "      <td>0.4</td>\n",
       "      <td>0.005</td>\n",
       "      <td>0.609700</td>\n",
       "    </tr>\n",
       "    <tr>\n",
       "      <th>22</th>\n",
       "      <td>248</td>\n",
       "      <td>5</td>\n",
       "      <td>0.4</td>\n",
       "      <td>0.005</td>\n",
       "      <td>0.609517</td>\n",
       "    </tr>\n",
       "    <tr>\n",
       "      <th>19</th>\n",
       "      <td>248</td>\n",
       "      <td>5</td>\n",
       "      <td>0.3</td>\n",
       "      <td>0.005</td>\n",
       "      <td>0.607932</td>\n",
       "    </tr>\n",
       "    <tr>\n",
       "      <th>7</th>\n",
       "      <td>232</td>\n",
       "      <td>5</td>\n",
       "      <td>0.3</td>\n",
       "      <td>0.005</td>\n",
       "      <td>0.607726</td>\n",
       "    </tr>\n",
       "    <tr>\n",
       "      <th>4</th>\n",
       "      <td>232</td>\n",
       "      <td>4</td>\n",
       "      <td>0.4</td>\n",
       "      <td>0.005</td>\n",
       "      <td>0.607076</td>\n",
       "    </tr>\n",
       "    <tr>\n",
       "      <th>34</th>\n",
       "      <td>264</td>\n",
       "      <td>5</td>\n",
       "      <td>0.4</td>\n",
       "      <td>0.005</td>\n",
       "      <td>0.606806</td>\n",
       "    </tr>\n",
       "    <tr>\n",
       "      <th>21</th>\n",
       "      <td>248</td>\n",
       "      <td>5</td>\n",
       "      <td>0.4</td>\n",
       "      <td>0.010</td>\n",
       "      <td>0.606695</td>\n",
       "    </tr>\n",
       "    <tr>\n",
       "      <th>23</th>\n",
       "      <td>248</td>\n",
       "      <td>5</td>\n",
       "      <td>0.4</td>\n",
       "      <td>0.001</td>\n",
       "      <td>0.606534</td>\n",
       "    </tr>\n",
       "    <tr>\n",
       "      <th>30</th>\n",
       "      <td>264</td>\n",
       "      <td>5</td>\n",
       "      <td>0.3</td>\n",
       "      <td>0.010</td>\n",
       "      <td>0.602296</td>\n",
       "    </tr>\n",
       "    <tr>\n",
       "      <th>3</th>\n",
       "      <td>232</td>\n",
       "      <td>4</td>\n",
       "      <td>0.4</td>\n",
       "      <td>0.010</td>\n",
       "      <td>0.600915</td>\n",
       "    </tr>\n",
       "    <tr>\n",
       "      <th>13</th>\n",
       "      <td>248</td>\n",
       "      <td>4</td>\n",
       "      <td>0.3</td>\n",
       "      <td>0.005</td>\n",
       "      <td>0.598487</td>\n",
       "    </tr>\n",
       "    <tr>\n",
       "      <th>8</th>\n",
       "      <td>232</td>\n",
       "      <td>5</td>\n",
       "      <td>0.3</td>\n",
       "      <td>0.001</td>\n",
       "      <td>0.598353</td>\n",
       "    </tr>\n",
       "    <tr>\n",
       "      <th>5</th>\n",
       "      <td>232</td>\n",
       "      <td>4</td>\n",
       "      <td>0.4</td>\n",
       "      <td>0.001</td>\n",
       "      <td>0.597554</td>\n",
       "    </tr>\n",
       "    <tr>\n",
       "      <th>29</th>\n",
       "      <td>264</td>\n",
       "      <td>4</td>\n",
       "      <td>0.4</td>\n",
       "      <td>0.001</td>\n",
       "      <td>0.595954</td>\n",
       "    </tr>\n",
       "    <tr>\n",
       "      <th>16</th>\n",
       "      <td>248</td>\n",
       "      <td>4</td>\n",
       "      <td>0.4</td>\n",
       "      <td>0.005</td>\n",
       "      <td>0.595896</td>\n",
       "    </tr>\n",
       "    <tr>\n",
       "      <th>20</th>\n",
       "      <td>248</td>\n",
       "      <td>5</td>\n",
       "      <td>0.3</td>\n",
       "      <td>0.001</td>\n",
       "      <td>0.594592</td>\n",
       "    </tr>\n",
       "    <tr>\n",
       "      <th>0</th>\n",
       "      <td>232</td>\n",
       "      <td>4</td>\n",
       "      <td>0.3</td>\n",
       "      <td>0.010</td>\n",
       "      <td>0.593095</td>\n",
       "    </tr>\n",
       "    <tr>\n",
       "      <th>32</th>\n",
       "      <td>264</td>\n",
       "      <td>5</td>\n",
       "      <td>0.3</td>\n",
       "      <td>0.001</td>\n",
       "      <td>0.591792</td>\n",
       "    </tr>\n",
       "    <tr>\n",
       "      <th>14</th>\n",
       "      <td>248</td>\n",
       "      <td>4</td>\n",
       "      <td>0.3</td>\n",
       "      <td>0.001</td>\n",
       "      <td>0.591783</td>\n",
       "    </tr>\n",
       "    <tr>\n",
       "      <th>11</th>\n",
       "      <td>232</td>\n",
       "      <td>5</td>\n",
       "      <td>0.4</td>\n",
       "      <td>0.001</td>\n",
       "      <td>0.590783</td>\n",
       "    </tr>\n",
       "    <tr>\n",
       "      <th>12</th>\n",
       "      <td>248</td>\n",
       "      <td>4</td>\n",
       "      <td>0.3</td>\n",
       "      <td>0.010</td>\n",
       "      <td>0.589002</td>\n",
       "    </tr>\n",
       "    <tr>\n",
       "      <th>2</th>\n",
       "      <td>232</td>\n",
       "      <td>4</td>\n",
       "      <td>0.3</td>\n",
       "      <td>0.001</td>\n",
       "      <td>0.588382</td>\n",
       "    </tr>\n",
       "    <tr>\n",
       "      <th>18</th>\n",
       "      <td>248</td>\n",
       "      <td>5</td>\n",
       "      <td>0.3</td>\n",
       "      <td>0.010</td>\n",
       "      <td>0.584398</td>\n",
       "    </tr>\n",
       "    <tr>\n",
       "      <th>6</th>\n",
       "      <td>232</td>\n",
       "      <td>5</td>\n",
       "      <td>0.3</td>\n",
       "      <td>0.010</td>\n",
       "      <td>0.582667</td>\n",
       "    </tr>\n",
       "    <tr>\n",
       "      <th>35</th>\n",
       "      <td>264</td>\n",
       "      <td>5</td>\n",
       "      <td>0.4</td>\n",
       "      <td>0.001</td>\n",
       "      <td>0.581608</td>\n",
       "    </tr>\n",
       "    <tr>\n",
       "      <th>26</th>\n",
       "      <td>264</td>\n",
       "      <td>4</td>\n",
       "      <td>0.3</td>\n",
       "      <td>0.001</td>\n",
       "      <td>0.581464</td>\n",
       "    </tr>\n",
       "    <tr>\n",
       "      <th>27</th>\n",
       "      <td>264</td>\n",
       "      <td>4</td>\n",
       "      <td>0.4</td>\n",
       "      <td>0.010</td>\n",
       "      <td>0.576072</td>\n",
       "    </tr>\n",
       "    <tr>\n",
       "      <th>17</th>\n",
       "      <td>248</td>\n",
       "      <td>4</td>\n",
       "      <td>0.4</td>\n",
       "      <td>0.001</td>\n",
       "      <td>0.564818</td>\n",
       "    </tr>\n",
       "    <tr>\n",
       "      <th>31</th>\n",
       "      <td>264</td>\n",
       "      <td>5</td>\n",
       "      <td>0.3</td>\n",
       "      <td>0.005</td>\n",
       "      <td>0.560120</td>\n",
       "    </tr>\n",
       "    <tr>\n",
       "      <th>25</th>\n",
       "      <td>264</td>\n",
       "      <td>4</td>\n",
       "      <td>0.3</td>\n",
       "      <td>0.005</td>\n",
       "      <td>0.550556</td>\n",
       "    </tr>\n",
       "    <tr>\n",
       "      <th>33</th>\n",
       "      <td>264</td>\n",
       "      <td>5</td>\n",
       "      <td>0.4</td>\n",
       "      <td>0.010</td>\n",
       "      <td>0.503056</td>\n",
       "    </tr>\n",
       "    <tr>\n",
       "      <th>24</th>\n",
       "      <td>264</td>\n",
       "      <td>4</td>\n",
       "      <td>0.3</td>\n",
       "      <td>0.010</td>\n",
       "      <td>0.501430</td>\n",
       "    </tr>\n",
       "    <tr>\n",
       "      <th>15</th>\n",
       "      <td>248</td>\n",
       "      <td>4</td>\n",
       "      <td>0.4</td>\n",
       "      <td>0.010</td>\n",
       "      <td>0.501389</td>\n",
       "    </tr>\n",
       "    <tr>\n",
       "      <th>9</th>\n",
       "      <td>232</td>\n",
       "      <td>5</td>\n",
       "      <td>0.4</td>\n",
       "      <td>0.010</td>\n",
       "      <td>0.501278</td>\n",
       "    </tr>\n",
       "  </tbody>\n",
       "</table>\n",
       "</div>"
      ],
      "text/plain": [
       "    n_nodes  n_layers  dropout     lr     score\n",
       "10      232         5      0.4  0.005  0.615368\n",
       "1       232         4      0.3  0.005  0.609932\n",
       "28      264         4      0.4  0.005  0.609700\n",
       "22      248         5      0.4  0.005  0.609517\n",
       "19      248         5      0.3  0.005  0.607932\n",
       "7       232         5      0.3  0.005  0.607726\n",
       "4       232         4      0.4  0.005  0.607076\n",
       "34      264         5      0.4  0.005  0.606806\n",
       "21      248         5      0.4  0.010  0.606695\n",
       "23      248         5      0.4  0.001  0.606534\n",
       "30      264         5      0.3  0.010  0.602296\n",
       "3       232         4      0.4  0.010  0.600915\n",
       "13      248         4      0.3  0.005  0.598487\n",
       "8       232         5      0.3  0.001  0.598353\n",
       "5       232         4      0.4  0.001  0.597554\n",
       "29      264         4      0.4  0.001  0.595954\n",
       "16      248         4      0.4  0.005  0.595896\n",
       "20      248         5      0.3  0.001  0.594592\n",
       "0       232         4      0.3  0.010  0.593095\n",
       "32      264         5      0.3  0.001  0.591792\n",
       "14      248         4      0.3  0.001  0.591783\n",
       "11      232         5      0.4  0.001  0.590783\n",
       "12      248         4      0.3  0.010  0.589002\n",
       "2       232         4      0.3  0.001  0.588382\n",
       "18      248         5      0.3  0.010  0.584398\n",
       "6       232         5      0.3  0.010  0.582667\n",
       "35      264         5      0.4  0.001  0.581608\n",
       "26      264         4      0.3  0.001  0.581464\n",
       "27      264         4      0.4  0.010  0.576072\n",
       "17      248         4      0.4  0.001  0.564818\n",
       "31      264         5      0.3  0.005  0.560120\n",
       "25      264         4      0.3  0.005  0.550556\n",
       "33      264         5      0.4  0.010  0.503056\n",
       "24      264         4      0.3  0.010  0.501430\n",
       "15      248         4      0.4  0.010  0.501389\n",
       "9       232         5      0.4  0.010  0.501278"
      ]
     },
     "execution_count": 52,
     "metadata": {},
     "output_type": "execute_result"
    }
   ],
   "source": [
    "table"
   ]
  },
  {
   "cell_type": "code",
   "execution_count": 53,
   "id": "a52db66a",
   "metadata": {},
   "outputs": [
    {
     "name": "stdout",
     "output_type": "stream",
     "text": [
      "Best score:  0.6153677942545297\n",
      "Best params: \n",
      "{'n_nodes': 232.0, 'n_layers': 5.0, 'dropout': 0.4, 'lr': 0.005}\n"
     ]
    }
   ],
   "source": [
    "table.sort_values(by=\"score\", ascending=False, inplace=True)\n",
    "best_params = table.drop('score', axis=1).iloc[0].to_dict()\n",
    "best_score = table.score.iloc[0]\n",
    "\n",
    "print('Best score: ', best_score)\n",
    "print('Best params: ')\n",
    "print(best_params)"
   ]
  },
  {
   "cell_type": "markdown",
   "id": "ff5712c7",
   "metadata": {},
   "source": [
    "# 3. DeepHit"
   ]
  },
  {
   "cell_type": "code",
   "execution_count": 57,
   "id": "254ca538",
   "metadata": {},
   "outputs": [],
   "source": [
    "from pycox.models import DeepHitSingle"
   ]
  },
  {
   "cell_type": "code",
   "execution_count": 58,
   "id": "b39cd9bf",
   "metadata": {},
   "outputs": [],
   "source": [
    "num_durations = int(df[col_target].max())\n",
    "labtrans = DeepHitSingle.label_transform(num_durations)"
   ]
  },
  {
   "cell_type": "code",
   "execution_count": 59,
   "id": "43ca6c58",
   "metadata": {},
   "outputs": [],
   "source": [
    "get_target = lambda df: (df[col_target].values, df['censored'].values)\n",
    "\n",
    "y_train = labtrans.fit_transform(*get_target(Xy_train))\n",
    "y_val = labtrans.transform(*get_target(Xy_val))\n",
    "\n",
    "train = (np.array(Xy_train[cols_x_reduc]).astype(np.float32), y_train)\n",
    "val = (np.array(Xy_val[cols_x_reduc]).astype(np.float32), y_val)\n",
    "test = (np.array(Xy_test[cols_x_reduc]).astype(np.float32), y_test)"
   ]
  },
  {
   "cell_type": "code",
   "execution_count": 60,
   "id": "bab86099",
   "metadata": {},
   "outputs": [],
   "source": [
    "params = {\n",
    "    'n_nodes': 236,\n",
    "    'n_layers': 4,\n",
    "    'out_features': 729,\n",
    "    'dropout': 0.1,\n",
    "    'model_params': {'alpha': 0.2, 'sigma': 0.1, 'duration_index': labtrans.cuts},\n",
    "    'discrete': True,\n",
    "}"
   ]
  },
  {
   "cell_type": "code",
   "execution_count": 61,
   "id": "28393d34",
   "metadata": {},
   "outputs": [
    {
     "name": "stdout",
     "output_type": "stream",
     "text": [
      "concordance: 0.5030442491096127\n",
      "0:\t[4s / 4s],\t\ttrain_loss: 33.3355,\tval_loss: 35.8477\n",
      "1:\t[3s / 8s],\t\ttrain_loss: 26.5236,\tval_loss: 110.4716\n",
      "2:\t[3s / 11s],\t\ttrain_loss: 29.6387,\tval_loss: 97.1768\n",
      "3:\t[2s / 14s],\t\ttrain_loss: 25.5052,\tval_loss: 248.8673\n",
      "4:\t[2s / 17s],\t\ttrain_loss: 11.9761,\tval_loss: 312.6776\n",
      "concordance: 0.5010419184825589\n",
      "5:\t[3s / 20s],\t\ttrain_loss: 22.5591,\tval_loss: 267.9500\n",
      "6:\t[2s / 23s],\t\ttrain_loss: 7.9705,\tval_loss: 313.3258\n",
      "7:\t[3s / 26s],\t\ttrain_loss: 6.4626,\tval_loss: 263.2984\n",
      "8:\t[2s / 29s],\t\ttrain_loss: 5.5661,\tval_loss: 582.5009\n",
      "9:\t[2s / 32s],\t\ttrain_loss: 2.7997,\tval_loss: 753.6334\n",
      "concordance: 0.500992207186588\n",
      "10:\t[2s / 35s],\t\ttrain_loss: 2.9495,\tval_loss: 24518.8633\n",
      "11:\t[2s / 38s],\t\ttrain_loss: 3.4734,\tval_loss: 9061.5703\n",
      "12:\t[3s / 41s],\t\ttrain_loss: 3.6451,\tval_loss: 56414.7539\n",
      "13:\t[2s / 44s],\t\ttrain_loss: 7.8709,\tval_loss: 106712.0547\n",
      "14:\t[2s / 46s],\t\ttrain_loss: 4.8069,\tval_loss: 43522.3359\n",
      "concordance: 0.5014287581613583\n",
      "15:\t[3s / 50s],\t\ttrain_loss: 2.9072,\tval_loss: 44390.5469\n"
     ]
    },
    {
     "data": {
      "application/vnd.plotly.v1+json": {
       "config": {
        "plotlyServerURL": "https://plotly.com"
       },
       "data": [
        {
         "hovertemplate": "dataset=train_loss<br>index=%{x}<br>loss=%{y}<extra></extra>",
         "legendgroup": "train_loss",
         "line": {
          "color": "#636efa",
          "dash": "solid"
         },
         "mode": "lines",
         "name": "train_loss",
         "orientation": "v",
         "showlegend": true,
         "type": "scatter",
         "x": [
          0,
          1,
          2,
          3,
          4,
          5,
          6,
          7,
          8,
          9,
          10,
          11,
          12,
          13,
          14,
          15
         ],
         "xaxis": "x",
         "y": [
          33.335525437847856,
          26.523646606970086,
          29.638678263945135,
          25.505234565684404,
          11.976061950915705,
          22.559103518777004,
          7.970494353161497,
          6.462576775323777,
          5.566115148378638,
          2.7996792817452176,
          2.9494582447215154,
          3.4734145064412814,
          3.645091699965206,
          7.870914820851052,
          4.806893465169944,
          2.9071699679423473
         ],
         "yaxis": "y"
        },
        {
         "hovertemplate": "dataset=val_loss<br>index=%{x}<br>loss=%{y}<extra></extra>",
         "legendgroup": "val_loss",
         "line": {
          "color": "#EF553B",
          "dash": "solid"
         },
         "mode": "lines",
         "name": "val_loss",
         "orientation": "v",
         "showlegend": true,
         "type": "scatter",
         "x": [
          0,
          1,
          2,
          3,
          4,
          5,
          6,
          7,
          8,
          9,
          10,
          11,
          12,
          13,
          14,
          15
         ],
         "xaxis": "x",
         "y": [
          35.84774398803711,
          110.47157287597656,
          97.17684936523438,
          248.8672637939453,
          312.67755126953125,
          267.95001220703125,
          313.3257751464844,
          263.29840087890625,
          582.5008544921875,
          753.6333618164062,
          24518.86328125,
          9061.5703125,
          56414.75390625,
          106712.0546875,
          43522.3359375,
          44390.546875
         ],
         "yaxis": "y"
        }
       ],
       "layout": {
        "height": 400,
        "legend": {
         "title": {
          "text": "dataset"
         },
         "tracegroupgap": 0
        },
        "margin": {
         "t": 60
        },
        "template": {
         "data": {
          "bar": [
           {
            "error_x": {
             "color": "#2a3f5f"
            },
            "error_y": {
             "color": "#2a3f5f"
            },
            "marker": {
             "line": {
              "color": "white",
              "width": 0.5
             }
            },
            "type": "bar"
           }
          ],
          "barpolar": [
           {
            "marker": {
             "line": {
              "color": "white",
              "width": 0.5
             }
            },
            "type": "barpolar"
           }
          ],
          "carpet": [
           {
            "aaxis": {
             "endlinecolor": "#2a3f5f",
             "gridcolor": "#C8D4E3",
             "linecolor": "#C8D4E3",
             "minorgridcolor": "#C8D4E3",
             "startlinecolor": "#2a3f5f"
            },
            "baxis": {
             "endlinecolor": "#2a3f5f",
             "gridcolor": "#C8D4E3",
             "linecolor": "#C8D4E3",
             "minorgridcolor": "#C8D4E3",
             "startlinecolor": "#2a3f5f"
            },
            "type": "carpet"
           }
          ],
          "choropleth": [
           {
            "colorbar": {
             "outlinewidth": 0,
             "ticks": ""
            },
            "type": "choropleth"
           }
          ],
          "contour": [
           {
            "colorbar": {
             "outlinewidth": 0,
             "ticks": ""
            },
            "colorscale": [
             [
              0,
              "#0d0887"
             ],
             [
              0.1111111111111111,
              "#46039f"
             ],
             [
              0.2222222222222222,
              "#7201a8"
             ],
             [
              0.3333333333333333,
              "#9c179e"
             ],
             [
              0.4444444444444444,
              "#bd3786"
             ],
             [
              0.5555555555555556,
              "#d8576b"
             ],
             [
              0.6666666666666666,
              "#ed7953"
             ],
             [
              0.7777777777777778,
              "#fb9f3a"
             ],
             [
              0.8888888888888888,
              "#fdca26"
             ],
             [
              1,
              "#f0f921"
             ]
            ],
            "type": "contour"
           }
          ],
          "contourcarpet": [
           {
            "colorbar": {
             "outlinewidth": 0,
             "ticks": ""
            },
            "type": "contourcarpet"
           }
          ],
          "heatmap": [
           {
            "colorbar": {
             "outlinewidth": 0,
             "ticks": ""
            },
            "colorscale": [
             [
              0,
              "#0d0887"
             ],
             [
              0.1111111111111111,
              "#46039f"
             ],
             [
              0.2222222222222222,
              "#7201a8"
             ],
             [
              0.3333333333333333,
              "#9c179e"
             ],
             [
              0.4444444444444444,
              "#bd3786"
             ],
             [
              0.5555555555555556,
              "#d8576b"
             ],
             [
              0.6666666666666666,
              "#ed7953"
             ],
             [
              0.7777777777777778,
              "#fb9f3a"
             ],
             [
              0.8888888888888888,
              "#fdca26"
             ],
             [
              1,
              "#f0f921"
             ]
            ],
            "type": "heatmap"
           }
          ],
          "heatmapgl": [
           {
            "colorbar": {
             "outlinewidth": 0,
             "ticks": ""
            },
            "colorscale": [
             [
              0,
              "#0d0887"
             ],
             [
              0.1111111111111111,
              "#46039f"
             ],
             [
              0.2222222222222222,
              "#7201a8"
             ],
             [
              0.3333333333333333,
              "#9c179e"
             ],
             [
              0.4444444444444444,
              "#bd3786"
             ],
             [
              0.5555555555555556,
              "#d8576b"
             ],
             [
              0.6666666666666666,
              "#ed7953"
             ],
             [
              0.7777777777777778,
              "#fb9f3a"
             ],
             [
              0.8888888888888888,
              "#fdca26"
             ],
             [
              1,
              "#f0f921"
             ]
            ],
            "type": "heatmapgl"
           }
          ],
          "histogram": [
           {
            "marker": {
             "colorbar": {
              "outlinewidth": 0,
              "ticks": ""
             }
            },
            "type": "histogram"
           }
          ],
          "histogram2d": [
           {
            "colorbar": {
             "outlinewidth": 0,
             "ticks": ""
            },
            "colorscale": [
             [
              0,
              "#0d0887"
             ],
             [
              0.1111111111111111,
              "#46039f"
             ],
             [
              0.2222222222222222,
              "#7201a8"
             ],
             [
              0.3333333333333333,
              "#9c179e"
             ],
             [
              0.4444444444444444,
              "#bd3786"
             ],
             [
              0.5555555555555556,
              "#d8576b"
             ],
             [
              0.6666666666666666,
              "#ed7953"
             ],
             [
              0.7777777777777778,
              "#fb9f3a"
             ],
             [
              0.8888888888888888,
              "#fdca26"
             ],
             [
              1,
              "#f0f921"
             ]
            ],
            "type": "histogram2d"
           }
          ],
          "histogram2dcontour": [
           {
            "colorbar": {
             "outlinewidth": 0,
             "ticks": ""
            },
            "colorscale": [
             [
              0,
              "#0d0887"
             ],
             [
              0.1111111111111111,
              "#46039f"
             ],
             [
              0.2222222222222222,
              "#7201a8"
             ],
             [
              0.3333333333333333,
              "#9c179e"
             ],
             [
              0.4444444444444444,
              "#bd3786"
             ],
             [
              0.5555555555555556,
              "#d8576b"
             ],
             [
              0.6666666666666666,
              "#ed7953"
             ],
             [
              0.7777777777777778,
              "#fb9f3a"
             ],
             [
              0.8888888888888888,
              "#fdca26"
             ],
             [
              1,
              "#f0f921"
             ]
            ],
            "type": "histogram2dcontour"
           }
          ],
          "mesh3d": [
           {
            "colorbar": {
             "outlinewidth": 0,
             "ticks": ""
            },
            "type": "mesh3d"
           }
          ],
          "parcoords": [
           {
            "line": {
             "colorbar": {
              "outlinewidth": 0,
              "ticks": ""
             }
            },
            "type": "parcoords"
           }
          ],
          "pie": [
           {
            "automargin": true,
            "type": "pie"
           }
          ],
          "scatter": [
           {
            "marker": {
             "colorbar": {
              "outlinewidth": 0,
              "ticks": ""
             }
            },
            "type": "scatter"
           }
          ],
          "scatter3d": [
           {
            "line": {
             "colorbar": {
              "outlinewidth": 0,
              "ticks": ""
             }
            },
            "marker": {
             "colorbar": {
              "outlinewidth": 0,
              "ticks": ""
             }
            },
            "type": "scatter3d"
           }
          ],
          "scattercarpet": [
           {
            "marker": {
             "colorbar": {
              "outlinewidth": 0,
              "ticks": ""
             }
            },
            "type": "scattercarpet"
           }
          ],
          "scattergeo": [
           {
            "marker": {
             "colorbar": {
              "outlinewidth": 0,
              "ticks": ""
             }
            },
            "type": "scattergeo"
           }
          ],
          "scattergl": [
           {
            "marker": {
             "colorbar": {
              "outlinewidth": 0,
              "ticks": ""
             }
            },
            "type": "scattergl"
           }
          ],
          "scattermapbox": [
           {
            "marker": {
             "colorbar": {
              "outlinewidth": 0,
              "ticks": ""
             }
            },
            "type": "scattermapbox"
           }
          ],
          "scatterpolar": [
           {
            "marker": {
             "colorbar": {
              "outlinewidth": 0,
              "ticks": ""
             }
            },
            "type": "scatterpolar"
           }
          ],
          "scatterpolargl": [
           {
            "marker": {
             "colorbar": {
              "outlinewidth": 0,
              "ticks": ""
             }
            },
            "type": "scatterpolargl"
           }
          ],
          "scatterternary": [
           {
            "marker": {
             "colorbar": {
              "outlinewidth": 0,
              "ticks": ""
             }
            },
            "type": "scatterternary"
           }
          ],
          "surface": [
           {
            "colorbar": {
             "outlinewidth": 0,
             "ticks": ""
            },
            "colorscale": [
             [
              0,
              "#0d0887"
             ],
             [
              0.1111111111111111,
              "#46039f"
             ],
             [
              0.2222222222222222,
              "#7201a8"
             ],
             [
              0.3333333333333333,
              "#9c179e"
             ],
             [
              0.4444444444444444,
              "#bd3786"
             ],
             [
              0.5555555555555556,
              "#d8576b"
             ],
             [
              0.6666666666666666,
              "#ed7953"
             ],
             [
              0.7777777777777778,
              "#fb9f3a"
             ],
             [
              0.8888888888888888,
              "#fdca26"
             ],
             [
              1,
              "#f0f921"
             ]
            ],
            "type": "surface"
           }
          ],
          "table": [
           {
            "cells": {
             "fill": {
              "color": "#EBF0F8"
             },
             "line": {
              "color": "white"
             }
            },
            "header": {
             "fill": {
              "color": "#C8D4E3"
             },
             "line": {
              "color": "white"
             }
            },
            "type": "table"
           }
          ]
         },
         "layout": {
          "annotationdefaults": {
           "arrowcolor": "#2a3f5f",
           "arrowhead": 0,
           "arrowwidth": 1
          },
          "autotypenumbers": "strict",
          "coloraxis": {
           "colorbar": {
            "outlinewidth": 0,
            "ticks": ""
           }
          },
          "colorscale": {
           "diverging": [
            [
             0,
             "#8e0152"
            ],
            [
             0.1,
             "#c51b7d"
            ],
            [
             0.2,
             "#de77ae"
            ],
            [
             0.3,
             "#f1b6da"
            ],
            [
             0.4,
             "#fde0ef"
            ],
            [
             0.5,
             "#f7f7f7"
            ],
            [
             0.6,
             "#e6f5d0"
            ],
            [
             0.7,
             "#b8e186"
            ],
            [
             0.8,
             "#7fbc41"
            ],
            [
             0.9,
             "#4d9221"
            ],
            [
             1,
             "#276419"
            ]
           ],
           "sequential": [
            [
             0,
             "#0d0887"
            ],
            [
             0.1111111111111111,
             "#46039f"
            ],
            [
             0.2222222222222222,
             "#7201a8"
            ],
            [
             0.3333333333333333,
             "#9c179e"
            ],
            [
             0.4444444444444444,
             "#bd3786"
            ],
            [
             0.5555555555555556,
             "#d8576b"
            ],
            [
             0.6666666666666666,
             "#ed7953"
            ],
            [
             0.7777777777777778,
             "#fb9f3a"
            ],
            [
             0.8888888888888888,
             "#fdca26"
            ],
            [
             1,
             "#f0f921"
            ]
           ],
           "sequentialminus": [
            [
             0,
             "#0d0887"
            ],
            [
             0.1111111111111111,
             "#46039f"
            ],
            [
             0.2222222222222222,
             "#7201a8"
            ],
            [
             0.3333333333333333,
             "#9c179e"
            ],
            [
             0.4444444444444444,
             "#bd3786"
            ],
            [
             0.5555555555555556,
             "#d8576b"
            ],
            [
             0.6666666666666666,
             "#ed7953"
            ],
            [
             0.7777777777777778,
             "#fb9f3a"
            ],
            [
             0.8888888888888888,
             "#fdca26"
            ],
            [
             1,
             "#f0f921"
            ]
           ]
          },
          "colorway": [
           "#636efa",
           "#EF553B",
           "#00cc96",
           "#ab63fa",
           "#FFA15A",
           "#19d3f3",
           "#FF6692",
           "#B6E880",
           "#FF97FF",
           "#FECB52"
          ],
          "font": {
           "color": "#2a3f5f"
          },
          "geo": {
           "bgcolor": "white",
           "lakecolor": "white",
           "landcolor": "white",
           "showlakes": true,
           "showland": true,
           "subunitcolor": "#C8D4E3"
          },
          "hoverlabel": {
           "align": "left"
          },
          "hovermode": "closest",
          "mapbox": {
           "style": "light"
          },
          "paper_bgcolor": "white",
          "plot_bgcolor": "white",
          "polar": {
           "angularaxis": {
            "gridcolor": "#EBF0F8",
            "linecolor": "#EBF0F8",
            "ticks": ""
           },
           "bgcolor": "white",
           "radialaxis": {
            "gridcolor": "#EBF0F8",
            "linecolor": "#EBF0F8",
            "ticks": ""
           }
          },
          "scene": {
           "xaxis": {
            "backgroundcolor": "white",
            "gridcolor": "#DFE8F3",
            "gridwidth": 2,
            "linecolor": "#EBF0F8",
            "showbackground": true,
            "ticks": "",
            "zerolinecolor": "#EBF0F8"
           },
           "yaxis": {
            "backgroundcolor": "white",
            "gridcolor": "#DFE8F3",
            "gridwidth": 2,
            "linecolor": "#EBF0F8",
            "showbackground": true,
            "ticks": "",
            "zerolinecolor": "#EBF0F8"
           },
           "zaxis": {
            "backgroundcolor": "white",
            "gridcolor": "#DFE8F3",
            "gridwidth": 2,
            "linecolor": "#EBF0F8",
            "showbackground": true,
            "ticks": "",
            "zerolinecolor": "#EBF0F8"
           }
          },
          "shapedefaults": {
           "line": {
            "color": "#2a3f5f"
           }
          },
          "ternary": {
           "aaxis": {
            "gridcolor": "#DFE8F3",
            "linecolor": "#A2B1C6",
            "ticks": ""
           },
           "baxis": {
            "gridcolor": "#DFE8F3",
            "linecolor": "#A2B1C6",
            "ticks": ""
           },
           "bgcolor": "white",
           "caxis": {
            "gridcolor": "#DFE8F3",
            "linecolor": "#A2B1C6",
            "ticks": ""
           }
          },
          "title": {
           "x": 0.05
          },
          "xaxis": {
           "automargin": true,
           "gridcolor": "#EBF0F8",
           "linecolor": "#EBF0F8",
           "ticks": "",
           "title": {
            "standoff": 15
           },
           "zerolinecolor": "#EBF0F8",
           "zerolinewidth": 2
          },
          "yaxis": {
           "automargin": true,
           "gridcolor": "#EBF0F8",
           "linecolor": "#EBF0F8",
           "ticks": "",
           "title": {
            "standoff": 15
           },
           "zerolinecolor": "#EBF0F8",
           "zerolinewidth": 2
          }
         }
        },
        "width": 800,
        "xaxis": {
         "anchor": "y",
         "domain": [
          0,
          1
         ],
         "title": {
          "text": "index"
         }
        },
        "yaxis": {
         "anchor": "x",
         "domain": [
          0,
          1
         ],
         "title": {
          "text": "loss"
         }
        }
       }
      },
      "text/html": [
       "<div>                            <div id=\"d8e5d39a-ad10-46fd-be2a-5be67a098899\" class=\"plotly-graph-div\" style=\"height:400px; width:800px;\"></div>            <script type=\"text/javascript\">                require([\"plotly\"], function(Plotly) {                    window.PLOTLYENV=window.PLOTLYENV || {};                                    if (document.getElementById(\"d8e5d39a-ad10-46fd-be2a-5be67a098899\")) {                    Plotly.newPlot(                        \"d8e5d39a-ad10-46fd-be2a-5be67a098899\",                        [{\"hovertemplate\": \"dataset=train_loss<br>index=%{x}<br>loss=%{y}<extra></extra>\", \"legendgroup\": \"train_loss\", \"line\": {\"color\": \"#636efa\", \"dash\": \"solid\"}, \"mode\": \"lines\", \"name\": \"train_loss\", \"orientation\": \"v\", \"showlegend\": true, \"type\": \"scatter\", \"x\": [0, 1, 2, 3, 4, 5, 6, 7, 8, 9, 10, 11, 12, 13, 14, 15], \"xaxis\": \"x\", \"y\": [33.335525437847856, 26.523646606970086, 29.638678263945135, 25.505234565684404, 11.976061950915705, 22.559103518777004, 7.970494353161497, 6.462576775323777, 5.566115148378638, 2.7996792817452176, 2.9494582447215154, 3.4734145064412814, 3.645091699965206, 7.870914820851052, 4.806893465169944, 2.9071699679423473], \"yaxis\": \"y\"}, {\"hovertemplate\": \"dataset=val_loss<br>index=%{x}<br>loss=%{y}<extra></extra>\", \"legendgroup\": \"val_loss\", \"line\": {\"color\": \"#EF553B\", \"dash\": \"solid\"}, \"mode\": \"lines\", \"name\": \"val_loss\", \"orientation\": \"v\", \"showlegend\": true, \"type\": \"scatter\", \"x\": [0, 1, 2, 3, 4, 5, 6, 7, 8, 9, 10, 11, 12, 13, 14, 15], \"xaxis\": \"x\", \"y\": [35.84774398803711, 110.47157287597656, 97.17684936523438, 248.8672637939453, 312.67755126953125, 267.95001220703125, 313.3257751464844, 263.29840087890625, 582.5008544921875, 753.6333618164062, 24518.86328125, 9061.5703125, 56414.75390625, 106712.0546875, 43522.3359375, 44390.546875], \"yaxis\": \"y\"}],                        {\"height\": 400, \"legend\": {\"title\": {\"text\": \"dataset\"}, \"tracegroupgap\": 0}, \"margin\": {\"t\": 60}, \"template\": {\"data\": {\"bar\": [{\"error_x\": {\"color\": \"#2a3f5f\"}, \"error_y\": {\"color\": \"#2a3f5f\"}, \"marker\": {\"line\": {\"color\": \"white\", \"width\": 0.5}}, \"type\": \"bar\"}], \"barpolar\": [{\"marker\": {\"line\": {\"color\": \"white\", \"width\": 0.5}}, \"type\": \"barpolar\"}], \"carpet\": [{\"aaxis\": {\"endlinecolor\": \"#2a3f5f\", \"gridcolor\": \"#C8D4E3\", \"linecolor\": \"#C8D4E3\", \"minorgridcolor\": \"#C8D4E3\", \"startlinecolor\": \"#2a3f5f\"}, \"baxis\": {\"endlinecolor\": \"#2a3f5f\", \"gridcolor\": \"#C8D4E3\", \"linecolor\": \"#C8D4E3\", \"minorgridcolor\": \"#C8D4E3\", \"startlinecolor\": \"#2a3f5f\"}, \"type\": \"carpet\"}], \"choropleth\": [{\"colorbar\": {\"outlinewidth\": 0, \"ticks\": \"\"}, \"type\": \"choropleth\"}], \"contour\": [{\"colorbar\": {\"outlinewidth\": 0, \"ticks\": \"\"}, \"colorscale\": [[0.0, \"#0d0887\"], [0.1111111111111111, \"#46039f\"], [0.2222222222222222, \"#7201a8\"], [0.3333333333333333, \"#9c179e\"], [0.4444444444444444, \"#bd3786\"], [0.5555555555555556, \"#d8576b\"], [0.6666666666666666, \"#ed7953\"], [0.7777777777777778, \"#fb9f3a\"], [0.8888888888888888, \"#fdca26\"], [1.0, \"#f0f921\"]], \"type\": \"contour\"}], \"contourcarpet\": [{\"colorbar\": {\"outlinewidth\": 0, \"ticks\": \"\"}, \"type\": \"contourcarpet\"}], \"heatmap\": [{\"colorbar\": {\"outlinewidth\": 0, \"ticks\": \"\"}, \"colorscale\": [[0.0, \"#0d0887\"], [0.1111111111111111, \"#46039f\"], [0.2222222222222222, \"#7201a8\"], [0.3333333333333333, \"#9c179e\"], [0.4444444444444444, \"#bd3786\"], [0.5555555555555556, \"#d8576b\"], [0.6666666666666666, \"#ed7953\"], [0.7777777777777778, \"#fb9f3a\"], [0.8888888888888888, \"#fdca26\"], [1.0, \"#f0f921\"]], \"type\": \"heatmap\"}], \"heatmapgl\": [{\"colorbar\": {\"outlinewidth\": 0, \"ticks\": \"\"}, \"colorscale\": [[0.0, \"#0d0887\"], [0.1111111111111111, \"#46039f\"], [0.2222222222222222, \"#7201a8\"], [0.3333333333333333, \"#9c179e\"], [0.4444444444444444, \"#bd3786\"], [0.5555555555555556, \"#d8576b\"], [0.6666666666666666, \"#ed7953\"], [0.7777777777777778, \"#fb9f3a\"], [0.8888888888888888, \"#fdca26\"], [1.0, \"#f0f921\"]], \"type\": \"heatmapgl\"}], \"histogram\": [{\"marker\": {\"colorbar\": {\"outlinewidth\": 0, \"ticks\": \"\"}}, \"type\": \"histogram\"}], \"histogram2d\": [{\"colorbar\": {\"outlinewidth\": 0, \"ticks\": \"\"}, \"colorscale\": [[0.0, \"#0d0887\"], [0.1111111111111111, \"#46039f\"], [0.2222222222222222, \"#7201a8\"], [0.3333333333333333, \"#9c179e\"], [0.4444444444444444, \"#bd3786\"], [0.5555555555555556, \"#d8576b\"], [0.6666666666666666, \"#ed7953\"], [0.7777777777777778, \"#fb9f3a\"], [0.8888888888888888, \"#fdca26\"], [1.0, \"#f0f921\"]], \"type\": \"histogram2d\"}], \"histogram2dcontour\": [{\"colorbar\": {\"outlinewidth\": 0, \"ticks\": \"\"}, \"colorscale\": [[0.0, \"#0d0887\"], [0.1111111111111111, \"#46039f\"], [0.2222222222222222, \"#7201a8\"], [0.3333333333333333, \"#9c179e\"], [0.4444444444444444, \"#bd3786\"], [0.5555555555555556, \"#d8576b\"], [0.6666666666666666, \"#ed7953\"], [0.7777777777777778, \"#fb9f3a\"], [0.8888888888888888, \"#fdca26\"], [1.0, \"#f0f921\"]], \"type\": \"histogram2dcontour\"}], \"mesh3d\": [{\"colorbar\": {\"outlinewidth\": 0, \"ticks\": \"\"}, \"type\": \"mesh3d\"}], \"parcoords\": [{\"line\": {\"colorbar\": {\"outlinewidth\": 0, \"ticks\": \"\"}}, \"type\": \"parcoords\"}], \"pie\": [{\"automargin\": true, \"type\": \"pie\"}], \"scatter\": [{\"marker\": {\"colorbar\": {\"outlinewidth\": 0, \"ticks\": \"\"}}, \"type\": \"scatter\"}], \"scatter3d\": [{\"line\": {\"colorbar\": {\"outlinewidth\": 0, \"ticks\": \"\"}}, \"marker\": {\"colorbar\": {\"outlinewidth\": 0, \"ticks\": \"\"}}, \"type\": \"scatter3d\"}], \"scattercarpet\": [{\"marker\": {\"colorbar\": {\"outlinewidth\": 0, \"ticks\": \"\"}}, \"type\": \"scattercarpet\"}], \"scattergeo\": [{\"marker\": {\"colorbar\": {\"outlinewidth\": 0, \"ticks\": \"\"}}, \"type\": \"scattergeo\"}], \"scattergl\": [{\"marker\": {\"colorbar\": {\"outlinewidth\": 0, \"ticks\": \"\"}}, \"type\": \"scattergl\"}], \"scattermapbox\": [{\"marker\": {\"colorbar\": {\"outlinewidth\": 0, \"ticks\": \"\"}}, \"type\": \"scattermapbox\"}], \"scatterpolar\": [{\"marker\": {\"colorbar\": {\"outlinewidth\": 0, \"ticks\": \"\"}}, \"type\": \"scatterpolar\"}], \"scatterpolargl\": [{\"marker\": {\"colorbar\": {\"outlinewidth\": 0, \"ticks\": \"\"}}, \"type\": \"scatterpolargl\"}], \"scatterternary\": [{\"marker\": {\"colorbar\": {\"outlinewidth\": 0, \"ticks\": \"\"}}, \"type\": \"scatterternary\"}], \"surface\": [{\"colorbar\": {\"outlinewidth\": 0, \"ticks\": \"\"}, \"colorscale\": [[0.0, \"#0d0887\"], [0.1111111111111111, \"#46039f\"], [0.2222222222222222, \"#7201a8\"], [0.3333333333333333, \"#9c179e\"], [0.4444444444444444, \"#bd3786\"], [0.5555555555555556, \"#d8576b\"], [0.6666666666666666, \"#ed7953\"], [0.7777777777777778, \"#fb9f3a\"], [0.8888888888888888, \"#fdca26\"], [1.0, \"#f0f921\"]], \"type\": \"surface\"}], \"table\": [{\"cells\": {\"fill\": {\"color\": \"#EBF0F8\"}, \"line\": {\"color\": \"white\"}}, \"header\": {\"fill\": {\"color\": \"#C8D4E3\"}, \"line\": {\"color\": \"white\"}}, \"type\": \"table\"}]}, \"layout\": {\"annotationdefaults\": {\"arrowcolor\": \"#2a3f5f\", \"arrowhead\": 0, \"arrowwidth\": 1}, \"autotypenumbers\": \"strict\", \"coloraxis\": {\"colorbar\": {\"outlinewidth\": 0, \"ticks\": \"\"}}, \"colorscale\": {\"diverging\": [[0, \"#8e0152\"], [0.1, \"#c51b7d\"], [0.2, \"#de77ae\"], [0.3, \"#f1b6da\"], [0.4, \"#fde0ef\"], [0.5, \"#f7f7f7\"], [0.6, \"#e6f5d0\"], [0.7, \"#b8e186\"], [0.8, \"#7fbc41\"], [0.9, \"#4d9221\"], [1, \"#276419\"]], \"sequential\": [[0.0, \"#0d0887\"], [0.1111111111111111, \"#46039f\"], [0.2222222222222222, \"#7201a8\"], [0.3333333333333333, \"#9c179e\"], [0.4444444444444444, \"#bd3786\"], [0.5555555555555556, \"#d8576b\"], [0.6666666666666666, \"#ed7953\"], [0.7777777777777778, \"#fb9f3a\"], [0.8888888888888888, \"#fdca26\"], [1.0, \"#f0f921\"]], \"sequentialminus\": [[0.0, \"#0d0887\"], [0.1111111111111111, \"#46039f\"], [0.2222222222222222, \"#7201a8\"], [0.3333333333333333, \"#9c179e\"], [0.4444444444444444, \"#bd3786\"], [0.5555555555555556, \"#d8576b\"], [0.6666666666666666, \"#ed7953\"], [0.7777777777777778, \"#fb9f3a\"], [0.8888888888888888, \"#fdca26\"], [1.0, \"#f0f921\"]]}, \"colorway\": [\"#636efa\", \"#EF553B\", \"#00cc96\", \"#ab63fa\", \"#FFA15A\", \"#19d3f3\", \"#FF6692\", \"#B6E880\", \"#FF97FF\", \"#FECB52\"], \"font\": {\"color\": \"#2a3f5f\"}, \"geo\": {\"bgcolor\": \"white\", \"lakecolor\": \"white\", \"landcolor\": \"white\", \"showlakes\": true, \"showland\": true, \"subunitcolor\": \"#C8D4E3\"}, \"hoverlabel\": {\"align\": \"left\"}, \"hovermode\": \"closest\", \"mapbox\": {\"style\": \"light\"}, \"paper_bgcolor\": \"white\", \"plot_bgcolor\": \"white\", \"polar\": {\"angularaxis\": {\"gridcolor\": \"#EBF0F8\", \"linecolor\": \"#EBF0F8\", \"ticks\": \"\"}, \"bgcolor\": \"white\", \"radialaxis\": {\"gridcolor\": \"#EBF0F8\", \"linecolor\": \"#EBF0F8\", \"ticks\": \"\"}}, \"scene\": {\"xaxis\": {\"backgroundcolor\": \"white\", \"gridcolor\": \"#DFE8F3\", \"gridwidth\": 2, \"linecolor\": \"#EBF0F8\", \"showbackground\": true, \"ticks\": \"\", \"zerolinecolor\": \"#EBF0F8\"}, \"yaxis\": {\"backgroundcolor\": \"white\", \"gridcolor\": \"#DFE8F3\", \"gridwidth\": 2, \"linecolor\": \"#EBF0F8\", \"showbackground\": true, \"ticks\": \"\", \"zerolinecolor\": \"#EBF0F8\"}, \"zaxis\": {\"backgroundcolor\": \"white\", \"gridcolor\": \"#DFE8F3\", \"gridwidth\": 2, \"linecolor\": \"#EBF0F8\", \"showbackground\": true, \"ticks\": \"\", \"zerolinecolor\": \"#EBF0F8\"}}, \"shapedefaults\": {\"line\": {\"color\": \"#2a3f5f\"}}, \"ternary\": {\"aaxis\": {\"gridcolor\": \"#DFE8F3\", \"linecolor\": \"#A2B1C6\", \"ticks\": \"\"}, \"baxis\": {\"gridcolor\": \"#DFE8F3\", \"linecolor\": \"#A2B1C6\", \"ticks\": \"\"}, \"bgcolor\": \"white\", \"caxis\": {\"gridcolor\": \"#DFE8F3\", \"linecolor\": \"#A2B1C6\", \"ticks\": \"\"}}, \"title\": {\"x\": 0.05}, \"xaxis\": {\"automargin\": true, \"gridcolor\": \"#EBF0F8\", \"linecolor\": \"#EBF0F8\", \"ticks\": \"\", \"title\": {\"standoff\": 15}, \"zerolinecolor\": \"#EBF0F8\", \"zerolinewidth\": 2}, \"yaxis\": {\"automargin\": true, \"gridcolor\": \"#EBF0F8\", \"linecolor\": \"#EBF0F8\", \"ticks\": \"\", \"title\": {\"standoff\": 15}, \"zerolinecolor\": \"#EBF0F8\", \"zerolinewidth\": 2}}}, \"width\": 800, \"xaxis\": {\"anchor\": \"y\", \"domain\": [0.0, 1.0], \"title\": {\"text\": \"index\"}}, \"yaxis\": {\"anchor\": \"x\", \"domain\": [0.0, 1.0], \"title\": {\"text\": \"loss\"}}},                        {\"responsive\": true}                    ).then(function(){\n",
       "                            \n",
       "var gd = document.getElementById('d8e5d39a-ad10-46fd-be2a-5be67a098899');\n",
       "var x = new MutationObserver(function (mutations, observer) {{\n",
       "        var display = window.getComputedStyle(gd).display;\n",
       "        if (!display || display === 'none') {{\n",
       "            console.log([gd, 'removed!']);\n",
       "            Plotly.purge(gd);\n",
       "            observer.disconnect();\n",
       "        }}\n",
       "}});\n",
       "\n",
       "// Listen for the removal of the full notebook cells\n",
       "var notebookContainer = gd.closest('#notebook-container');\n",
       "if (notebookContainer) {{\n",
       "    x.observe(notebookContainer, {childList: true});\n",
       "}}\n",
       "\n",
       "// Listen for the clearing of the current output cell\n",
       "var outputEl = gd.closest('.output');\n",
       "if (outputEl) {{\n",
       "    x.observe(outputEl, {childList: true});\n",
       "}}\n",
       "\n",
       "                        })                };                });            </script>        </div>"
      ]
     },
     "metadata": {},
     "output_type": "display_data"
    }
   ],
   "source": [
    "logs_df, model, score = train_deep_surv(\n",
    "    train, val, test, DeepHitSingle, tolerance=10, \n",
    "    print_lr=True, print_logs=True, verbose = True,\n",
    "    **params\n",
    ")"
   ]
  },
  {
   "cell_type": "code",
   "execution_count": 62,
   "id": "6b483189",
   "metadata": {},
   "outputs": [
    {
     "name": "stdout",
     "output_type": "stream",
     "text": [
      "3 total scenario to run\n",
      "1/3: params: {'n_nodes': 32, 'n_layers': 4, 'dropout': 0.1, 'model_params': {'alpha': 0.01, 'sigma': 0.2}, 'epochs': 512, 'batch_size': 16, 'discrete': True, 'output_bias': True}\n",
      "concordance: 0.5123649909333662\n",
      "0:\t[2s / 2s],\t\ttrain_loss: 0.4140,\tval_loss: 1.5919\n",
      "1:\t[2s / 4s],\t\ttrain_loss: 0.4049,\tval_loss: 0.6698\n",
      "2:\t[2s / 6s],\t\ttrain_loss: 0.4028,\tval_loss: 0.5355\n",
      "3:\t[2s / 8s],\t\ttrain_loss: 0.4011,\tval_loss: 0.4680\n",
      "4:\t[2s / 11s],\t\ttrain_loss: 0.4001,\tval_loss: 0.5460\n",
      "concordance: 0.4976244561407582\n",
      "5:\t[2s / 13s],\t\ttrain_loss: 0.3991,\tval_loss: 0.9318\n",
      "6:\t[2s / 15s],\t\ttrain_loss: 0.3983,\tval_loss: 1.3449\n",
      "7:\t[2s / 17s],\t\ttrain_loss: 0.3981,\tval_loss: 0.4674\n",
      "8:\t[2s / 20s],\t\ttrain_loss: 0.3978,\tval_loss: 0.5604\n",
      "9:\t[2s / 22s],\t\ttrain_loss: 0.3958,\tval_loss: 0.4443\n",
      "concordance: 0.5062444453304439\n",
      "10:\t[3s / 25s],\t\ttrain_loss: 0.3961,\tval_loss: 0.4938\n",
      "11:\t[2s / 28s],\t\ttrain_loss: 0.3976,\tval_loss: 0.4298\n",
      "12:\t[2s / 30s],\t\ttrain_loss: 0.3960,\tval_loss: 0.4702\n",
      "13:\t[2s / 33s],\t\ttrain_loss: 0.3950,\tval_loss: 0.5371\n",
      "14:\t[2s / 35s],\t\ttrain_loss: 0.3931,\tval_loss: 0.5600\n",
      "concordance: 0.4939034268494495\n",
      "15:\t[2s / 37s],\t\ttrain_loss: 0.3937,\tval_loss: 0.8111\n",
      "16:\t[2s / 39s],\t\ttrain_loss: 0.3928,\tval_loss: 0.7243\n",
      "17:\t[2s / 41s],\t\ttrain_loss: 0.3935,\tval_loss: 0.5850\n",
      "18:\t[2s / 43s],\t\ttrain_loss: 0.3917,\tval_loss: 0.6166\n",
      "19:\t[2s / 46s],\t\ttrain_loss: 0.3902,\tval_loss: 0.6408\n",
      "concordance: 0.4967755789851931\n",
      "20:\t[2s / 48s],\t\ttrain_loss: 0.3898,\tval_loss: 0.6300\n",
      "21:\t[1s / 50s],\t\ttrain_loss: 0.3906,\tval_loss: 0.5495\n",
      "22:\t[1s / 52s],\t\ttrain_loss: 0.3907,\tval_loss: 0.4684\n",
      "23:\t[1s / 54s],\t\ttrain_loss: 0.3893,\tval_loss: 0.4687\n",
      "24:\t[2s / 56s],\t\ttrain_loss: 0.3897,\tval_loss: 105.0112\n",
      "concordance: 0.4962375866856495\n",
      "25:\t[2s / 58s],\t\ttrain_loss: 0.3898,\tval_loss: 2.8814\n",
      "26:\t[2s / 1m:0s],\t\ttrain_loss: 0.3883,\tval_loss: 150.2841\n",
      "Current score: 0.616120723730348 vs. best score: -100\n",
      "2/3: params: {'n_nodes': 32, 'n_layers': 4, 'dropout': 0.1, 'model_params': {'alpha': 0.05, 'sigma': 0.2}, 'epochs': 512, 'batch_size': 16, 'discrete': True, 'output_bias': True}\n",
      "concordance: 0.4941635910430843\n",
      "0:\t[2s / 2s],\t\ttrain_loss: 0.6230,\tval_loss: 0.8269\n",
      "1:\t[2s / 4s],\t\ttrain_loss: 0.6111,\tval_loss: 0.9884\n",
      "2:\t[2s / 6s],\t\ttrain_loss: 0.6089,\tval_loss: 0.7629\n",
      "3:\t[2s / 8s],\t\ttrain_loss: 0.6068,\tval_loss: 0.7962\n",
      "4:\t[1s / 10s],\t\ttrain_loss: 0.6060,\tval_loss: 0.9831\n",
      "concordance: 0.5033097124769297\n",
      "5:\t[2s / 13s],\t\ttrain_loss: 0.6044,\tval_loss: 0.6537\n",
      "6:\t[2s / 15s],\t\ttrain_loss: 0.6023,\tval_loss: 0.9188\n",
      "7:\t[2s / 17s],\t\ttrain_loss: 0.6022,\tval_loss: 0.7821\n",
      "8:\t[2s / 19s],\t\ttrain_loss: 0.6001,\tval_loss: 0.7616\n",
      "9:\t[2s / 21s],\t\ttrain_loss: 0.5997,\tval_loss: 1.2965\n",
      "concordance: 0.48970976173401076\n",
      "10:\t[2s / 24s],\t\ttrain_loss: 0.5996,\tval_loss: 1.2912\n",
      "11:\t[2s / 26s],\t\ttrain_loss: 0.5958,\tval_loss: 1.8700\n",
      "12:\t[2s / 28s],\t\ttrain_loss: 0.5962,\tval_loss: 1.5633\n",
      "13:\t[2s / 30s],\t\ttrain_loss: 0.5954,\tval_loss: 2.2299\n",
      "14:\t[2s / 32s],\t\ttrain_loss: 0.5952,\tval_loss: 2.4456\n",
      "concordance: 0.5159376433615738\n",
      "15:\t[2s / 35s],\t\ttrain_loss: 0.5936,\tval_loss: 2.1643\n",
      "16:\t[2s / 37s],\t\ttrain_loss: 0.5915,\tval_loss: 2.4891\n",
      "17:\t[2s / 39s],\t\ttrain_loss: 0.5917,\tval_loss: 1.6433\n",
      "18:\t[2s / 42s],\t\ttrain_loss: 0.5918,\tval_loss: 2.0523\n",
      "19:\t[2s / 44s],\t\ttrain_loss: 0.5914,\tval_loss: 2.5184\n",
      "concordance: 0.4895828339072423\n",
      "20:\t[2s / 46s],\t\ttrain_loss: 0.5901,\tval_loss: 2.0402\n",
      "Current score: 0.6085330944700167 vs. best score: 0.616120723730348\n",
      "3/3: params: {'n_nodes': 32, 'n_layers': 4, 'dropout': 0.1, 'model_params': {'alpha': 0.1, 'sigma': 0.2}, 'epochs': 512, 'batch_size': 16, 'discrete': True, 'output_bias': True}\n",
      "concordance: 0.49812611124933825\n",
      "0:\t[2s / 2s],\t\ttrain_loss: 0.8863,\tval_loss: 2.4312\n",
      "1:\t[2s / 4s],\t\ttrain_loss: 0.8713,\tval_loss: 3.6719\n",
      "2:\t[2s / 6s],\t\ttrain_loss: 0.8680,\tval_loss: 11.5826\n",
      "3:\t[2s / 9s],\t\ttrain_loss: 0.8643,\tval_loss: 13.3461\n",
      "4:\t[2s / 11s],\t\ttrain_loss: 0.8629,\tval_loss: 172.8041\n",
      "concordance: 0.49969113387680986\n",
      "5:\t[2s / 13s],\t\ttrain_loss: 0.8596,\tval_loss: 34.1191\n",
      "6:\t[1s / 15s],\t\ttrain_loss: 0.8585,\tval_loss: 2.5581\n",
      "7:\t[2s / 17s],\t\ttrain_loss: 0.8545,\tval_loss: 2.6610\n",
      "8:\t[2s / 20s],\t\ttrain_loss: 0.8542,\tval_loss: 2.8082\n",
      "9:\t[2s / 22s],\t\ttrain_loss: 0.8504,\tval_loss: 2.3850\n",
      "concordance: 0.5015917708374864\n",
      "10:\t[2s / 24s],\t\ttrain_loss: 0.8501,\tval_loss: 3.9096\n",
      "11:\t[2s / 26s],\t\ttrain_loss: 0.8490,\tval_loss: 4.3160\n",
      "12:\t[2s / 28s],\t\ttrain_loss: 0.8483,\tval_loss: 3.5355\n",
      "13:\t[2s / 31s],\t\ttrain_loss: 0.8468,\tval_loss: 4.6218\n",
      "14:\t[3s / 34s],\t\ttrain_loss: 0.8443,\tval_loss: 34.0539\n",
      "concordance: 0.49798076248548406\n",
      "15:\t[2s / 36s],\t\ttrain_loss: 0.8425,\tval_loss: 30.0852\n",
      "16:\t[2s / 38s],\t\ttrain_loss: 0.8420,\tval_loss: 25.6998\n",
      "17:\t[2s / 41s],\t\ttrain_loss: 0.8400,\tval_loss: 15.1463\n",
      "18:\t[2s / 43s],\t\ttrain_loss: 0.8400,\tval_loss: 26.3739\n",
      "19:\t[2s / 45s],\t\ttrain_loss: 0.8406,\tval_loss: 70.1335\n",
      "concordance: 0.5019614512872198\n",
      "20:\t[2s / 47s],\t\ttrain_loss: 0.8385,\tval_loss: 326.9088\n",
      "21:\t[2s / 49s],\t\ttrain_loss: 0.8365,\tval_loss: 13.3207\n",
      "22:\t[2s / 52s],\t\ttrain_loss: 0.8358,\tval_loss: 9.5854\n",
      "23:\t[2s / 54s],\t\ttrain_loss: 0.8342,\tval_loss: 6.2681\n",
      "24:\t[2s / 56s],\t\ttrain_loss: 0.8340,\tval_loss: 6.0754\n",
      "Current score: 0.6205413951827814 vs. best score: 0.616120723730348\n"
     ]
    }
   ],
   "source": [
    "grid_params = {\n",
    "    'n_nodes': [32],\n",
    "    'n_layers': [4],\n",
    "    'dropout': [0.1],\n",
    "    'model_params': [\n",
    "        {'alpha': 0.01, 'sigma': 0.2, 'duration_index': labtrans.cuts},\n",
    "        {'alpha': 0.05, 'sigma': 0.2, 'duration_index': labtrans.cuts},\n",
    "        {'alpha': 0.1, 'sigma': 0.2, 'duration_index': labtrans.cuts},\n",
    "    ],\n",
    "    'epochs': [512],\n",
    "    'batch_size': [16],\n",
    "    'discrete': [True],\n",
    "    'output_bias': [True],\n",
    "}\n",
    "\n",
    "best_model, table = grid_search_deep(train, val, test, labtrans.out_features, grid_params, DeepHitSingle)"
   ]
  },
  {
   "cell_type": "code",
   "execution_count": 63,
   "id": "b9978ef2",
   "metadata": {},
   "outputs": [
    {
     "data": {
      "text/html": [
       "<div>\n",
       "<style scoped>\n",
       "    .dataframe tbody tr th:only-of-type {\n",
       "        vertical-align: middle;\n",
       "    }\n",
       "\n",
       "    .dataframe tbody tr th {\n",
       "        vertical-align: top;\n",
       "    }\n",
       "\n",
       "    .dataframe thead th {\n",
       "        text-align: right;\n",
       "    }\n",
       "</style>\n",
       "<table border=\"1\" class=\"dataframe\">\n",
       "  <thead>\n",
       "    <tr style=\"text-align: right;\">\n",
       "      <th></th>\n",
       "      <th>n_nodes</th>\n",
       "      <th>n_layers</th>\n",
       "      <th>dropout</th>\n",
       "      <th>model_params</th>\n",
       "      <th>epochs</th>\n",
       "      <th>batch_size</th>\n",
       "      <th>discrete</th>\n",
       "      <th>output_bias</th>\n",
       "      <th>lr</th>\n",
       "      <th>score</th>\n",
       "    </tr>\n",
       "  </thead>\n",
       "  <tbody>\n",
       "    <tr>\n",
       "      <th>2</th>\n",
       "      <td>32</td>\n",
       "      <td>4</td>\n",
       "      <td>0.1</td>\n",
       "      <td>{'alpha': 0.1, 'sigma': 0.2}</td>\n",
       "      <td>512</td>\n",
       "      <td>16</td>\n",
       "      <td>True</td>\n",
       "      <td>True</td>\n",
       "      <td>0.01</td>\n",
       "      <td>0.620541</td>\n",
       "    </tr>\n",
       "    <tr>\n",
       "      <th>0</th>\n",
       "      <td>32</td>\n",
       "      <td>4</td>\n",
       "      <td>0.1</td>\n",
       "      <td>{'alpha': 0.01, 'sigma': 0.2}</td>\n",
       "      <td>512</td>\n",
       "      <td>16</td>\n",
       "      <td>True</td>\n",
       "      <td>True</td>\n",
       "      <td>0.01</td>\n",
       "      <td>0.616121</td>\n",
       "    </tr>\n",
       "    <tr>\n",
       "      <th>1</th>\n",
       "      <td>32</td>\n",
       "      <td>4</td>\n",
       "      <td>0.1</td>\n",
       "      <td>{'alpha': 0.05, 'sigma': 0.2}</td>\n",
       "      <td>512</td>\n",
       "      <td>16</td>\n",
       "      <td>True</td>\n",
       "      <td>True</td>\n",
       "      <td>0.01</td>\n",
       "      <td>0.608533</td>\n",
       "    </tr>\n",
       "  </tbody>\n",
       "</table>\n",
       "</div>"
      ],
      "text/plain": [
       "   n_nodes  n_layers  dropout                   model_params  epochs  \\\n",
       "2       32         4      0.1   {'alpha': 0.1, 'sigma': 0.2}     512   \n",
       "0       32         4      0.1  {'alpha': 0.01, 'sigma': 0.2}     512   \n",
       "1       32         4      0.1  {'alpha': 0.05, 'sigma': 0.2}     512   \n",
       "\n",
       "   batch_size  discrete  output_bias    lr     score  \n",
       "2          16      True         True  0.01  0.620541  \n",
       "0          16      True         True  0.01  0.616121  \n",
       "1          16      True         True  0.01  0.608533  "
      ]
     },
     "execution_count": 63,
     "metadata": {},
     "output_type": "execute_result"
    }
   ],
   "source": [
    "table"
   ]
  },
  {
   "cell_type": "markdown",
   "id": "eb832e48",
   "metadata": {
    "heading_collapsed": true
   },
   "source": [
    "# Draft"
   ]
  },
  {
   "cell_type": "code",
   "execution_count": null,
   "id": "12edbf67",
   "metadata": {
    "hidden": true
   },
   "outputs": [],
   "source": []
  },
  {
   "cell_type": "code",
   "execution_count": null,
   "id": "e980ffb7",
   "metadata": {
    "hidden": true
   },
   "outputs": [],
   "source": [
    "# finding the best learning rate from this model\n",
    "lrfinder = model.lr_finder(train[0], train[1], batch_size, tolerance=10)\n",
    "lr = lrfinder.get_best_lr()\n",
    "model.optimizer.set_lr(lr)\n",
    "\n",
    "lrfinder_df = lrfinder.to_pandas()\n",
    "fig = px.line(x=lrfinder_df.index, y=lrfinder_df.train_loss, \n",
    "              log_x=True, width=700, height=400)\n",
    "\n",
    "fig.update_layout(dict(xaxis={'title':'lr'}, yaxis={'title':'batch_loss'}))\n",
    "fig.show()\n",
    "\n",
    "print(\"Best learning rate: \", lr)"
   ]
  },
  {
   "cell_type": "code",
   "execution_count": null,
   "id": "8d4bcd23",
   "metadata": {
    "hidden": true,
    "scrolled": true
   },
   "outputs": [],
   "source": [
    "callbacks = [tt.callbacks.EarlyStopping(patience=15)]\n",
    "\n",
    "log = model.fit(train[0], train[1], batch_size, 100, callbacks, verbose,\n",
    "            val_data=val, val_batch_size=batch_size)"
   ]
  },
  {
   "cell_type": "code",
   "execution_count": null,
   "id": "90775cd3",
   "metadata": {
    "hidden": true
   },
   "outputs": [],
   "source": [
    "logs_df = log.to_pandas().reset_index().melt(\n",
    "    id_vars=\"index\", value_name=\"loss\", var_name=\"dataset\").reset_index()\n",
    "\n",
    "fig = px.line(logs_df, y=\"loss\", x=\"index\", color=\"dataset\", width=800, height = 400)\n",
    "fig.show()\n",
    "\n",
    "# scoring the model\n",
    "surv = model.interpolate(10).predict_surv_df(test[0])\n",
    "ev = EvalSurv(surv, test[1][0], test[1][1], censor_surv='km')\n",
    "score = ev.concordance_td()\n",
    "score"
   ]
  },
  {
   "cell_type": "code",
   "execution_count": null,
   "id": "aa02c8c8",
   "metadata": {
    "hidden": true
   },
   "outputs": [],
   "source": []
  },
  {
   "cell_type": "code",
   "execution_count": null,
   "id": "f77e89d3",
   "metadata": {
    "hidden": true
   },
   "outputs": [],
   "source": []
  },
  {
   "cell_type": "code",
   "execution_count": null,
   "id": "c0309179",
   "metadata": {
    "hidden": true
   },
   "outputs": [],
   "source": []
  },
  {
   "cell_type": "code",
   "execution_count": null,
   "id": "6c4ec535",
   "metadata": {
    "hidden": true
   },
   "outputs": [],
   "source": []
  },
  {
   "cell_type": "code",
   "execution_count": null,
   "id": "4118c778",
   "metadata": {
    "hidden": true
   },
   "outputs": [],
   "source": []
  },
  {
   "cell_type": "code",
   "execution_count": null,
   "id": "afdf1d9c",
   "metadata": {
    "hidden": true
   },
   "outputs": [],
   "source": []
  },
  {
   "cell_type": "code",
   "execution_count": null,
   "id": "3b3f42ed",
   "metadata": {
    "hidden": true
   },
   "outputs": [],
   "source": [
    "\n",
    "best_score"
   ]
  },
  {
   "cell_type": "code",
   "execution_count": null,
   "id": "cfebebc0",
   "metadata": {
    "hidden": true
   },
   "outputs": [],
   "source": []
  },
  {
   "cell_type": "code",
   "execution_count": null,
   "id": "e39b0a5a",
   "metadata": {
    "hidden": true
   },
   "outputs": [],
   "source": [
    "# finding the best learning rate from this model\n",
    "lrfinder = model.lr_finder(train[0], y_train, params['batch_size'], tolerance=10, lr_min=0.001, lr_max=1.0)\n",
    "\n",
    "lrfinder_df = lrfinder.to_pandas()\n",
    "fig = px.line(x=lrfinder_df.index, y=lrfinder_df.train_loss, \n",
    "              log_x=True, width=700, height=400)\n",
    "fig.update_layout(dict(xaxis={'title':'lr'}, yaxis={'title':'batch_loss'}))\n",
    "\n",
    "\n",
    "print(\"Best LR: \", lrfinder.get_best_lr())\n",
    "fig"
   ]
  },
  {
   "cell_type": "code",
   "execution_count": null,
   "id": "030230bd",
   "metadata": {
    "hidden": true
   },
   "outputs": [],
   "source": [
    "help(model.lr_finder)"
   ]
  },
  {
   "cell_type": "code",
   "execution_count": null,
   "id": "275f60ef",
   "metadata": {
    "hidden": true
   },
   "outputs": [],
   "source": [
    "# setting the new number\n",
    "model.optimizer.set_lr(lrfinder.get_best_lr())\n",
    "model.optimizer.param_groups[0]['lr']"
   ]
  },
  {
   "cell_type": "code",
   "execution_count": null,
   "id": "cafa2de5",
   "metadata": {
    "hidden": true,
    "scrolled": false
   },
   "outputs": [],
   "source": [
    "callbacks = [tt.callbacks.EarlyStopping()]\n",
    "verbose = True\n",
    "\n",
    "log = model.fit(train[0], train[1], params['batch_size'], 2, callbacks, verbose,\n",
    "                val_data=val, val_batch_size=params['batch_size'])"
   ]
  },
  {
   "cell_type": "code",
   "execution_count": null,
   "id": "8c0a93a4",
   "metadata": {
    "hidden": true
   },
   "outputs": [],
   "source": [
    "logs_df = log.to_pandas().reset_index().melt(\n",
    "    id_vars=\"index\", value_name=\"loss\", var_name=\"dataset\").reset_index()\n",
    "\n",
    "px.line(logs_df, y=\"loss\", x=\"index\", color=\"dataset\", width=800, height = 400)"
   ]
  },
  {
   "cell_type": "code",
   "execution_count": null,
   "id": "b781624d",
   "metadata": {
    "hidden": true
   },
   "outputs": [],
   "source": [
    "model.partial_log_likelihood(*val).mean()"
   ]
  },
  {
   "cell_type": "code",
   "execution_count": null,
   "id": "3fdd2be2",
   "metadata": {
    "hidden": true
   },
   "outputs": [],
   "source": []
  },
  {
   "cell_type": "code",
   "execution_count": null,
   "id": "38536eb4",
   "metadata": {
    "hidden": true
   },
   "outputs": [],
   "source": []
  },
  {
   "cell_type": "code",
   "execution_count": null,
   "id": "86bd81e1",
   "metadata": {
    "hidden": true
   },
   "outputs": [],
   "source": [
    "_ = model.compute_baseline_hazards()\n",
    "surv = model.predict_surv_df(test[0])"
   ]
  },
  {
   "cell_type": "code",
   "execution_count": null,
   "id": "b5d05066",
   "metadata": {
    "hidden": true
   },
   "outputs": [],
   "source": [
    "N = 3\n",
    "surv_df = surv[np.random.choice(surv.columns, N)]\\\n",
    "    .reset_index().melt(id_vars=\"duration\", var_name=\"patient_id\", value_name=\"S\")\n",
    "px.line(surv_df, x=\"duration\", y=\"S\", color=\"patient_id\", width=800, height = 400)"
   ]
  },
  {
   "cell_type": "code",
   "execution_count": null,
   "id": "b067dd07",
   "metadata": {
    "hidden": true
   },
   "outputs": [],
   "source": [
    "ev = EvalSurv(surv, test[1][0], test[1][1], censor_surv='km')"
   ]
  },
  {
   "cell_type": "code",
   "execution_count": null,
   "id": "e6abd6bb",
   "metadata": {
    "hidden": true
   },
   "outputs": [],
   "source": [
    "test[1][0].shape[0]"
   ]
  },
  {
   "cell_type": "code",
   "execution_count": null,
   "id": "2de54039",
   "metadata": {
    "hidden": true
   },
   "outputs": [],
   "source": [
    "test[0][0].shape"
   ]
  },
  {
   "cell_type": "code",
   "execution_count": null,
   "id": "3b485c8f",
   "metadata": {
    "hidden": true
   },
   "outputs": [],
   "source": [
    "surv.shape[1]"
   ]
  },
  {
   "cell_type": "code",
   "execution_count": null,
   "id": "37c6077b",
   "metadata": {
    "hidden": true
   },
   "outputs": [],
   "source": [
    "ev.concordance_td()"
   ]
  },
  {
   "cell_type": "code",
   "execution_count": null,
   "id": "d0712d9a",
   "metadata": {
    "hidden": true
   },
   "outputs": [],
   "source": [
    "time_grid = np.linspace(durations_test.min(), durations_test.max(), 100)\n",
    "brier_scores = ev.brier_score(time_grid)"
   ]
  },
  {
   "cell_type": "code",
   "execution_count": null,
   "id": "a125b8dd",
   "metadata": {
    "hidden": true
   },
   "outputs": [],
   "source": [
    "brier_scores_df = pd.DataFrame(brier_scores).reset_index().rename(columns={\"index\":\"duration\"})\n",
    "px.line(brier_scores_df, x=\"duration\", y=\"brier_score\", width=800, height = 400)"
   ]
  },
  {
   "cell_type": "code",
   "execution_count": null,
   "id": "8cb659d4",
   "metadata": {
    "hidden": true
   },
   "outputs": [],
   "source": [
    "time_grid = np.arange(1, 91)"
   ]
  },
  {
   "cell_type": "code",
   "execution_count": null,
   "id": "e041d4ac",
   "metadata": {
    "hidden": true
   },
   "outputs": [],
   "source": [
    "ev.integrated_brier_score(time_grid)"
   ]
  },
  {
   "cell_type": "code",
   "execution_count": null,
   "id": "587d8378",
   "metadata": {
    "hidden": true
   },
   "outputs": [],
   "source": [
    "ev.integrated_nbll(time_grid)"
   ]
  },
  {
   "cell_type": "code",
   "execution_count": null,
   "id": "5c400523",
   "metadata": {
    "hidden": true
   },
   "outputs": [],
   "source": [
    "help(ev.integrated_nbll)"
   ]
  },
  {
   "cell_type": "code",
   "execution_count": null,
   "id": "623ed58f",
   "metadata": {
    "hidden": true
   },
   "outputs": [],
   "source": []
  }
 ],
 "metadata": {
  "kernelspec": {
   "display_name": "py39",
   "language": "python",
   "name": "py39"
  },
  "language_info": {
   "codemirror_mode": {
    "name": "ipython",
    "version": 3
   },
   "file_extension": ".py",
   "mimetype": "text/x-python",
   "name": "python",
   "nbconvert_exporter": "python",
   "pygments_lexer": "ipython3",
   "version": "3.9.13"
  }
 },
 "nbformat": 4,
 "nbformat_minor": 5
}
